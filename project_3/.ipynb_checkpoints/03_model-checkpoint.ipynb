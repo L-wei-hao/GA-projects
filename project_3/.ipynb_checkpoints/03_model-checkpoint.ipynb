{
 "cells": [
  {
   "cell_type": "code",
   "execution_count": 1,
   "id": "e722cf2f",
   "metadata": {
    "ExecuteTime": {
     "end_time": "2022-08-12T16:05:40.579707Z",
     "start_time": "2022-08-12T16:05:38.536248Z"
    }
   },
   "outputs": [],
   "source": [
    "\n",
    "# imports\n",
    "import numpy as np\n",
    "import pandas as pd\n",
    "import matplotlib.pyplot as plt\n",
    "import seaborn as sns\n",
    "import re\n",
    "\n",
    "from nltk.tokenize import RegexpTokenizer\n",
    "from nltk.stem import WordNetLemmatizer\n",
    "from nltk.corpus import stopwords\n",
    "\n",
    "from sklearn.model_selection import train_test_split, GridSearchCV\n",
    "from sklearn.pipeline import Pipeline\n",
    "from sklearn.feature_extraction.text import CountVectorizer, TfidfVectorizer\n",
    "from sklearn.ensemble import RandomForestClassifier\n",
    "from sklearn.naive_bayes import MultinomialNB\n",
    "from sklearn.svm import SVC\n",
    "from sklearn import metrics\n",
    "from sklearn.metrics import plot_confusion_matrix,roc_auc_score\n",
    "from sklearn.metrics import confusion_matrix, ConfusionMatrixDisplay\n",
    "from sklearn.feature_selection import SelectFromModel\n",
    "\n"
   ]
  },
  {
   "cell_type": "markdown",
   "id": "de5c0ac9",
   "metadata": {},
   "source": [
    "### 1.0 Load data"
   ]
  },
  {
   "cell_type": "code",
   "execution_count": 2,
   "id": "c5804974",
   "metadata": {
    "ExecuteTime": {
     "end_time": "2022-08-12T16:05:40.611542Z",
     "start_time": "2022-08-12T16:05:40.581618Z"
    }
   },
   "outputs": [],
   "source": [
    "df = pd.read_csv('./data/reddit_cleaned_data.csv')"
   ]
  },
  {
   "cell_type": "code",
   "execution_count": 3,
   "id": "c9973bbb",
   "metadata": {
    "ExecuteTime": {
     "end_time": "2022-08-12T16:05:40.626696Z",
     "start_time": "2022-08-12T16:05:40.613543Z"
    }
   },
   "outputs": [
    {
     "data": {
      "text/plain": [
       "(20000, 2)"
      ]
     },
     "metadata": {},
     "output_type": "display_data"
    },
    {
     "data": {
      "text/plain": [
       "0"
      ]
     },
     "metadata": {},
     "output_type": "display_data"
    },
    {
     "data": {
      "text/plain": [
       "Index(['clean_text', 'label'], dtype='object')"
      ]
     },
     "execution_count": 3,
     "metadata": {},
     "output_type": "execute_result"
    }
   ],
   "source": [
    "# Cheking data frame shape\n",
    "display(df.shape)\n",
    "#Checking if there is a null value\n",
    "display(df.isnull().sum().sum())\n",
    "#Checking column names\n",
    "df.columns"
   ]
  },
  {
   "cell_type": "code",
   "execution_count": 4,
   "id": "3cbd3ee1",
   "metadata": {
    "ExecuteTime": {
     "end_time": "2022-08-12T16:05:40.642649Z",
     "start_time": "2022-08-12T16:05:40.628686Z"
    }
   },
   "outputs": [
    {
     "data": {
      "text/html": [
       "<div>\n",
       "<style scoped>\n",
       "    .dataframe tbody tr th:only-of-type {\n",
       "        vertical-align: middle;\n",
       "    }\n",
       "\n",
       "    .dataframe tbody tr th {\n",
       "        vertical-align: top;\n",
       "    }\n",
       "\n",
       "    .dataframe thead th {\n",
       "        text-align: right;\n",
       "    }\n",
       "</style>\n",
       "<table border=\"1\" class=\"dataframe\">\n",
       "  <thead>\n",
       "    <tr style=\"text-align: right;\">\n",
       "      <th></th>\n",
       "      <th>clean_text</th>\n",
       "      <th>label</th>\n",
       "    </tr>\n",
       "  </thead>\n",
       "  <tbody>\n",
       "    <tr>\n",
       "      <th>0</th>\n",
       "      <td>locked macbook lost find activate</td>\n",
       "      <td>0</td>\n",
       "    </tr>\n",
       "    <tr>\n",
       "      <th>1</th>\n",
       "      <td>apple m2 macbook pro see first ever discount 2...</td>\n",
       "      <td>0</td>\n",
       "    </tr>\n",
       "    <tr>\n",
       "      <th>2</th>\n",
       "      <td>home automation</td>\n",
       "      <td>0</td>\n",
       "    </tr>\n",
       "    <tr>\n",
       "      <th>3</th>\n",
       "      <td>apple customer service beyond apple care actua...</td>\n",
       "      <td>0</td>\n",
       "    </tr>\n",
       "    <tr>\n",
       "      <th>4</th>\n",
       "      <td>sure right place get quick</td>\n",
       "      <td>0</td>\n",
       "    </tr>\n",
       "  </tbody>\n",
       "</table>\n",
       "</div>"
      ],
      "text/plain": [
       "                                          clean_text  label\n",
       "0                  locked macbook lost find activate      0\n",
       "1  apple m2 macbook pro see first ever discount 2...      0\n",
       "2                                    home automation      0\n",
       "3  apple customer service beyond apple care actua...      0\n",
       "4                         sure right place get quick      0"
      ]
     },
     "execution_count": 4,
     "metadata": {},
     "output_type": "execute_result"
    }
   ],
   "source": [
    "df.head()"
   ]
  },
  {
   "cell_type": "markdown",
   "id": "c9345950",
   "metadata": {},
   "source": [
    "### 2.0 Define X, Y"
   ]
  },
  {
   "cell_type": "code",
   "execution_count": 5,
   "id": "40fc5a2c",
   "metadata": {
    "ExecuteTime": {
     "end_time": "2022-08-12T16:05:40.658605Z",
     "start_time": "2022-08-12T16:05:40.644643Z"
    },
    "scrolled": true
   },
   "outputs": [],
   "source": [
    "X = df['clean_text']\n",
    "y = df['label']"
   ]
  },
  {
   "cell_type": "markdown",
   "id": "5d6e0304",
   "metadata": {},
   "source": [
    "### 3.0 Baseline accuracy"
   ]
  },
  {
   "cell_type": "code",
   "execution_count": 6,
   "id": "921b566e",
   "metadata": {
    "ExecuteTime": {
     "end_time": "2022-08-12T16:05:40.674590Z",
     "start_time": "2022-08-12T16:05:40.659604Z"
    },
    "scrolled": true
   },
   "outputs": [
    {
     "data": {
      "text/plain": [
       "0    0.5\n",
       "1    0.5\n",
       "Name: label, dtype: float64"
      ]
     },
     "execution_count": 6,
     "metadata": {},
     "output_type": "execute_result"
    }
   ],
   "source": [
    "y.value_counts(normalize=True)"
   ]
  },
  {
   "cell_type": "markdown",
   "id": "4c404ae3",
   "metadata": {},
   "source": [
    "###  4.0 Train Test Split"
   ]
  },
  {
   "cell_type": "code",
   "execution_count": 7,
   "id": "0a0c1686",
   "metadata": {
    "ExecuteTime": {
     "end_time": "2022-08-12T16:05:40.690520Z",
     "start_time": "2022-08-12T16:05:40.675560Z"
    }
   },
   "outputs": [],
   "source": [
    "X_train, X_test, y_train, y_test = train_test_split(X, y,\n",
    "                                                    random_state = 42,\n",
    "                                                    stratify=y,\n",
    "                                                    test_size = 0.20)"
   ]
  },
  {
   "cell_type": "markdown",
   "id": "39eddc2e",
   "metadata": {},
   "source": [
    "( 1.1 ) CountVectorizer + LogisticRegression"
   ]
  },
  {
   "cell_type": "markdown",
   "id": "c4d00c47",
   "metadata": {},
   "source": [
    "### Modelling\n",
    "\n",
    "We will be evaluating the following models based on their performance:  \n",
    "    - Multinomial Naive Bayes (MultinomialNB),  \n",
    "    - Random Forest Classifier,  \n",
    "    - Support Vector Machine  \n",
    "They will be paired with both CountVectorizer and TF-IDF Vectorizer"
   ]
  },
  {
   "cell_type": "markdown",
   "id": "2ce2d28b",
   "metadata": {},
   "source": [
    "#### 5.1 Multinomial Naive Bayes (MultinomialNB) + CountVectorizer"
   ]
  },
  {
   "cell_type": "code",
   "execution_count": 8,
   "id": "8ae9a687",
   "metadata": {
    "ExecuteTime": {
     "end_time": "2022-08-12T16:05:40.721789Z",
     "start_time": "2022-08-12T16:05:40.692516Z"
    }
   },
   "outputs": [],
   "source": [
    "# define function to pull score of training and testing dataset for each model\n",
    "def get_metrics(model, X_train, X_test):\n",
    "    print(u'\\u2500' * 30)\n",
    "    \n",
    "    tn, fp, fn, tp = confusion_matrix(y_test, model.predict(X_test)).ravel()\n",
    "    tn1, fp1, fn1, tp1 = confusion_matrix(y_train, model.predict(X_train)).ravel()\n",
    "    \n",
    "    accuracy = (tp + tn) / (tp + tn + fp + fn)\n",
    "    accuracy1 = (tp1 + tn1) / (tp1 + tn1 + fp1 + fn1)\n",
    "    print(f\"Accuracy score of training set: {round(accuracy1,4)}\")\n",
    "    print(f\"Accuracy score of testing set: {round(accuracy,4)}\")\n",
    "                     \n",
    "#     misclassification = 1 - accuracy\n",
    "#     misclassification1 = 1 - accuracy1\n",
    "#     print(f\"Misclassification score of training set: {round(misclassification1,4)}\")\n",
    "#     print(f'Misclassification score of testing set: {round(misclassification,4)}') \n",
    "    \n",
    "#     sensitivity = tp / (tp + fn)\n",
    "#     sensitivity1 = tp1 / (tp1 + fn1)\n",
    "#     print(f'Sensitivity score of training set: {round(sensitivity1,4)}')\n",
    "#     print(f'Sensitivity score of testing set: {round(sensitivity,4)}')\n",
    "    \n",
    "#     specificity = tn / (tn + fp)\n",
    "#     specificity1 = tn1 / (tn1 + fp1)\n",
    "#     print(f'Specificity score of training set: {round(specificity1,4)}')\n",
    "#     print(f'Specificity score of testing set: {round(specificity,4)}')\n",
    "    \n",
    "    precision = tp / (tp + fp)\n",
    "    precision1 = tp1 / (tp1 + fp1)\n",
    "    print(f'Precision score of training set: {round(precision1,4)}')\n",
    "    print(f'Precision score of testing set: {round(precision,4)}')\n",
    "    \n",
    "    error_rate = (fn+fp)/(tn+fp+fn+tp)\n",
    "    error_rate1 = (fn1+fp1)/(tn1+fp1+fn1+tp1)\n",
    "    print(f'error rate of training set: {round(error_rate,4)}')\n",
    "    print(f'error rate score of testing set: {round(error_rate1,4)}')\n",
    "    \n",
    "    auc = round(roc_auc_score(y_train, model.predict_proba(X_train)[:, 1]),4)\n",
    "    auc1 = round(roc_auc_score(y_test, model.predict_proba(X_test)[:, 1]),4)\n",
    "    \n",
    "    print(f'auc score of training set: {auc}')\n",
    "    print(f'auc score of testing set: {auc1}')\n",
    "    \n",
    "    perc_diff = round((auc - auc1)/auc * 100,2)\n",
    "    print( f'Percentage differnece is {str(perc_diff)}%')\n",
    "    \n",
    "    #roc graph\n",
    "    \n",
    "    #create ROC curve for train\n",
    "    y_pred = model.predict_proba(X_train)[:, 1]\n",
    "    fpr, tpr, _ = metrics.roc_curve(y_train, y_pred)\n",
    "    auc = round(metrics.roc_auc_score(y_train, y_pred), 4)\n",
    "    plt.plot(fpr,tpr,label=\"train, AUC=\"+str(auc))  \n",
    "    \n",
    "    #create ROC curve for test\n",
    "    y_pred = model.predict_proba(X_test)[:, 1]\n",
    "    fpr, tpr, _ = metrics.roc_curve(y_test, y_pred)\n",
    "    auc = round(metrics.roc_auc_score(y_test, y_pred), 4)\n",
    "    plt.plot(fpr,tpr,label=\"test, AUC=\"+str(auc))\n",
    "    \n",
    "    \n",
    "    #add legend\n",
    "    plt.legend()\n",
    "    print(u'\\u2500' * 30)    \n",
    "\n",
    "    \n",
    "    return ConfusionMatrixDisplay.from_estimator(model, X_test,y_test)"
   ]
  },
  {
   "cell_type": "code",
   "execution_count": 9,
   "id": "2e13f34f",
   "metadata": {
    "ExecuteTime": {
     "end_time": "2022-08-12T16:05:40.737733Z",
     "start_time": "2022-08-12T16:05:40.723681Z"
    }
   },
   "outputs": [],
   "source": [
    "# instantiate CountVectorizer + MultinomialNB pipeline\n",
    "pipe_nb_cvec = Pipeline([\n",
    "    ('cvec', CountVectorizer(stop_words='english')),\n",
    "    ('nb', MultinomialNB())\n",
    "])\n",
    "\n",
    "# define pipeline parameters\n",
    "pipe_nb_cvec_params = {\n",
    "    'cvec__max_features': [1_000,2_000, 3_000, 4_000, 5_000, 6_000, 7_000],\n",
    "    'cvec__min_df': [2, 5, 8],\n",
    "    'cvec__max_df': [0.8, 0.9, 0.95],\n",
    "    'cvec__ngram_range': [(1,1), (1,2), (1,3)]\n",
    "}\n",
    "\n",
    "# instantiate GridSearchCV\n",
    "grid_nb_cvec = GridSearchCV(estimator=pipe_nb_cvec,\n",
    "                      param_grid=pipe_nb_cvec_params,n_jobs=-1,\n",
    "                      cv=5)"
   ]
  },
  {
   "cell_type": "code",
   "execution_count": 10,
   "id": "379f294f",
   "metadata": {
    "ExecuteTime": {
     "end_time": "2022-08-12T16:07:06.544922Z",
     "start_time": "2022-08-12T16:05:40.738735Z"
    },
    "scrolled": true
   },
   "outputs": [
    {
     "data": {
      "text/html": [
       "<style>#sk-container-id-1 {color: black;background-color: white;}#sk-container-id-1 pre{padding: 0;}#sk-container-id-1 div.sk-toggleable {background-color: white;}#sk-container-id-1 label.sk-toggleable__label {cursor: pointer;display: block;width: 100%;margin-bottom: 0;padding: 0.3em;box-sizing: border-box;text-align: center;}#sk-container-id-1 label.sk-toggleable__label-arrow:before {content: \"▸\";float: left;margin-right: 0.25em;color: #696969;}#sk-container-id-1 label.sk-toggleable__label-arrow:hover:before {color: black;}#sk-container-id-1 div.sk-estimator:hover label.sk-toggleable__label-arrow:before {color: black;}#sk-container-id-1 div.sk-toggleable__content {max-height: 0;max-width: 0;overflow: hidden;text-align: left;background-color: #f0f8ff;}#sk-container-id-1 div.sk-toggleable__content pre {margin: 0.2em;color: black;border-radius: 0.25em;background-color: #f0f8ff;}#sk-container-id-1 input.sk-toggleable__control:checked~div.sk-toggleable__content {max-height: 200px;max-width: 100%;overflow: auto;}#sk-container-id-1 input.sk-toggleable__control:checked~label.sk-toggleable__label-arrow:before {content: \"▾\";}#sk-container-id-1 div.sk-estimator input.sk-toggleable__control:checked~label.sk-toggleable__label {background-color: #d4ebff;}#sk-container-id-1 div.sk-label input.sk-toggleable__control:checked~label.sk-toggleable__label {background-color: #d4ebff;}#sk-container-id-1 input.sk-hidden--visually {border: 0;clip: rect(1px 1px 1px 1px);clip: rect(1px, 1px, 1px, 1px);height: 1px;margin: -1px;overflow: hidden;padding: 0;position: absolute;width: 1px;}#sk-container-id-1 div.sk-estimator {font-family: monospace;background-color: #f0f8ff;border: 1px dotted black;border-radius: 0.25em;box-sizing: border-box;margin-bottom: 0.5em;}#sk-container-id-1 div.sk-estimator:hover {background-color: #d4ebff;}#sk-container-id-1 div.sk-parallel-item::after {content: \"\";width: 100%;border-bottom: 1px solid gray;flex-grow: 1;}#sk-container-id-1 div.sk-label:hover label.sk-toggleable__label {background-color: #d4ebff;}#sk-container-id-1 div.sk-serial::before {content: \"\";position: absolute;border-left: 1px solid gray;box-sizing: border-box;top: 0;bottom: 0;left: 50%;z-index: 0;}#sk-container-id-1 div.sk-serial {display: flex;flex-direction: column;align-items: center;background-color: white;padding-right: 0.2em;padding-left: 0.2em;position: relative;}#sk-container-id-1 div.sk-item {position: relative;z-index: 1;}#sk-container-id-1 div.sk-parallel {display: flex;align-items: stretch;justify-content: center;background-color: white;position: relative;}#sk-container-id-1 div.sk-item::before, #sk-container-id-1 div.sk-parallel-item::before {content: \"\";position: absolute;border-left: 1px solid gray;box-sizing: border-box;top: 0;bottom: 0;left: 50%;z-index: -1;}#sk-container-id-1 div.sk-parallel-item {display: flex;flex-direction: column;z-index: 1;position: relative;background-color: white;}#sk-container-id-1 div.sk-parallel-item:first-child::after {align-self: flex-end;width: 50%;}#sk-container-id-1 div.sk-parallel-item:last-child::after {align-self: flex-start;width: 50%;}#sk-container-id-1 div.sk-parallel-item:only-child::after {width: 0;}#sk-container-id-1 div.sk-dashed-wrapped {border: 1px dashed gray;margin: 0 0.4em 0.5em 0.4em;box-sizing: border-box;padding-bottom: 0.4em;background-color: white;}#sk-container-id-1 div.sk-label label {font-family: monospace;font-weight: bold;display: inline-block;line-height: 1.2em;}#sk-container-id-1 div.sk-label-container {text-align: center;}#sk-container-id-1 div.sk-container {/* jupyter's `normalize.less` sets `[hidden] { display: none; }` but bootstrap.min.css set `[hidden] { display: none !important; }` so we also need the `!important` here to be able to override the default hidden behavior on the sphinx rendered scikit-learn.org. See: https://github.com/scikit-learn/scikit-learn/issues/21755 */display: inline-block !important;position: relative;}#sk-container-id-1 div.sk-text-repr-fallback {display: none;}</style><div id=\"sk-container-id-1\" class=\"sk-top-container\"><div class=\"sk-text-repr-fallback\"><pre>GridSearchCV(cv=5,\n",
       "             estimator=Pipeline(steps=[(&#x27;cvec&#x27;,\n",
       "                                        CountVectorizer(stop_words=&#x27;english&#x27;)),\n",
       "                                       (&#x27;nb&#x27;, MultinomialNB())]),\n",
       "             n_jobs=-1,\n",
       "             param_grid={&#x27;cvec__max_df&#x27;: [0.8, 0.9, 0.95],\n",
       "                         &#x27;cvec__max_features&#x27;: [1000, 2000, 3000, 4000, 5000,\n",
       "                                                6000, 7000],\n",
       "                         &#x27;cvec__min_df&#x27;: [2, 5, 8],\n",
       "                         &#x27;cvec__ngram_range&#x27;: [(1, 1), (1, 2), (1, 3)]})</pre><b>In a Jupyter environment, please rerun this cell to show the HTML representation or trust the notebook. <br />On GitHub, the HTML representation is unable to render, please try loading this page with nbviewer.org.</b></div><div class=\"sk-container\" hidden><div class=\"sk-item sk-dashed-wrapped\"><div class=\"sk-label-container\"><div class=\"sk-label sk-toggleable\"><input class=\"sk-toggleable__control sk-hidden--visually\" id=\"sk-estimator-id-1\" type=\"checkbox\" ><label for=\"sk-estimator-id-1\" class=\"sk-toggleable__label sk-toggleable__label-arrow\">GridSearchCV</label><div class=\"sk-toggleable__content\"><pre>GridSearchCV(cv=5,\n",
       "             estimator=Pipeline(steps=[(&#x27;cvec&#x27;,\n",
       "                                        CountVectorizer(stop_words=&#x27;english&#x27;)),\n",
       "                                       (&#x27;nb&#x27;, MultinomialNB())]),\n",
       "             n_jobs=-1,\n",
       "             param_grid={&#x27;cvec__max_df&#x27;: [0.8, 0.9, 0.95],\n",
       "                         &#x27;cvec__max_features&#x27;: [1000, 2000, 3000, 4000, 5000,\n",
       "                                                6000, 7000],\n",
       "                         &#x27;cvec__min_df&#x27;: [2, 5, 8],\n",
       "                         &#x27;cvec__ngram_range&#x27;: [(1, 1), (1, 2), (1, 3)]})</pre></div></div></div><div class=\"sk-parallel\"><div class=\"sk-parallel-item\"><div class=\"sk-item\"><div class=\"sk-label-container\"><div class=\"sk-label sk-toggleable\"><input class=\"sk-toggleable__control sk-hidden--visually\" id=\"sk-estimator-id-2\" type=\"checkbox\" ><label for=\"sk-estimator-id-2\" class=\"sk-toggleable__label sk-toggleable__label-arrow\">estimator: Pipeline</label><div class=\"sk-toggleable__content\"><pre>Pipeline(steps=[(&#x27;cvec&#x27;, CountVectorizer(stop_words=&#x27;english&#x27;)),\n",
       "                (&#x27;nb&#x27;, MultinomialNB())])</pre></div></div></div><div class=\"sk-serial\"><div class=\"sk-item\"><div class=\"sk-serial\"><div class=\"sk-item\"><div class=\"sk-estimator sk-toggleable\"><input class=\"sk-toggleable__control sk-hidden--visually\" id=\"sk-estimator-id-3\" type=\"checkbox\" ><label for=\"sk-estimator-id-3\" class=\"sk-toggleable__label sk-toggleable__label-arrow\">CountVectorizer</label><div class=\"sk-toggleable__content\"><pre>CountVectorizer(stop_words=&#x27;english&#x27;)</pre></div></div></div><div class=\"sk-item\"><div class=\"sk-estimator sk-toggleable\"><input class=\"sk-toggleable__control sk-hidden--visually\" id=\"sk-estimator-id-4\" type=\"checkbox\" ><label for=\"sk-estimator-id-4\" class=\"sk-toggleable__label sk-toggleable__label-arrow\">MultinomialNB</label><div class=\"sk-toggleable__content\"><pre>MultinomialNB()</pre></div></div></div></div></div></div></div></div></div></div></div></div>"
      ],
      "text/plain": [
       "GridSearchCV(cv=5,\n",
       "             estimator=Pipeline(steps=[('cvec',\n",
       "                                        CountVectorizer(stop_words='english')),\n",
       "                                       ('nb', MultinomialNB())]),\n",
       "             n_jobs=-1,\n",
       "             param_grid={'cvec__max_df': [0.8, 0.9, 0.95],\n",
       "                         'cvec__max_features': [1000, 2000, 3000, 4000, 5000,\n",
       "                                                6000, 7000],\n",
       "                         'cvec__min_df': [2, 5, 8],\n",
       "                         'cvec__ngram_range': [(1, 1), (1, 2), (1, 3)]})"
      ]
     },
     "execution_count": 10,
     "metadata": {},
     "output_type": "execute_result"
    }
   ],
   "source": [
    "# fit GridSearchCV object to data\n",
    "grid_nb_cvec.fit(X_train, y_train)"
   ]
  },
  {
   "cell_type": "code",
   "execution_count": 11,
   "id": "8401cc80",
   "metadata": {
    "ExecuteTime": {
     "end_time": "2022-08-12T16:07:06.560793Z",
     "start_time": "2022-08-12T16:07:06.546831Z"
    },
    "scrolled": true
   },
   "outputs": [
    {
     "data": {
      "text/plain": [
       "{'cvec__max_df': 0.8,\n",
       " 'cvec__max_features': 5000,\n",
       " 'cvec__min_df': 2,\n",
       " 'cvec__ngram_range': (1, 1)}"
      ]
     },
     "execution_count": 11,
     "metadata": {},
     "output_type": "execute_result"
    }
   ],
   "source": [
    "grid_nb_cvec.best_params_"
   ]
  },
  {
   "cell_type": "code",
   "execution_count": 12,
   "id": "bc40e9cb",
   "metadata": {
    "ExecuteTime": {
     "end_time": "2022-08-12T16:07:07.628389Z",
     "start_time": "2022-08-12T16:07:06.562789Z"
    },
    "scrolled": true
   },
   "outputs": [
    {
     "name": "stdout",
     "output_type": "stream",
     "text": [
      "──────────────────────────────\n",
      "Accuracy score of training set: 0.8758\n",
      "Accuracy score of testing set: 0.8448\n",
      "Precision score of training set: 0.9243\n",
      "Precision score of testing set: 0.9039\n",
      "error rate of training set: 0.1552\n",
      "error rate score of testing set: 0.1242\n",
      "auc score of training set: 0.9612\n",
      "auc score of testing set: 0.9436\n",
      "Percentage differnece is 1.83%\n",
      "──────────────────────────────\n"
     ]
    },
    {
     "data": {
      "text/plain": [
       "<sklearn.metrics._plot.confusion_matrix.ConfusionMatrixDisplay at 0x1222add78b0>"
      ]
     },
     "execution_count": 12,
     "metadata": {},
     "output_type": "execute_result"
    },
    {
     "data": {
      "image/png": "[encoded data removed]",
      "text/plain": [
       "<Figure size 432x288 with 1 Axes>"
      ]
     },
     "metadata": {
      "needs_background": "light"
     },
     "output_type": "display_data"
    },
    {
     "data": {
      "image/png": "[encoded data removed]",
      "text/plain": [
       "<Figure size 432x288 with 2 Axes>"
      ]
     },
     "metadata": {
      "needs_background": "light"
     },
     "output_type": "display_data"
    }
   ],
   "source": [
    "get_metrics(grid_nb_cvec, X_train, X_test)"
   ]
  },
  {
   "cell_type": "markdown",
   "id": "2cd74a69",
   "metadata": {},
   "source": [
    "#### 5.2 Multinomial Naive Bayes + TF-IDF Vectorizer"
   ]
  },
  {
   "cell_type": "code",
   "execution_count": 13,
   "id": "09bf925f",
   "metadata": {
    "ExecuteTime": {
     "end_time": "2022-08-12T16:07:07.644458Z",
     "start_time": "2022-08-12T16:07:07.631382Z"
    }
   },
   "outputs": [],
   "source": [
    "# instantiate TfidfVectorizer + MultinomialNB pipeline\n",
    "pipe_nb_tfid = Pipeline([\n",
    "    ('tfid', TfidfVectorizer(stop_words='english')),\n",
    "    ('nb', MultinomialNB())\n",
    "])\n",
    "\n",
    "# define pipeline parameters\n",
    "pipe_nb_tfid_params = {\n",
    "    'tfid__max_features': [1_000,2_000, 3_000, 4_000, 5_000, 6_000, 7_000],\n",
    "    'tfid__min_df': [2, 5, 8],\n",
    "    'tfid__max_df': [0.9, 0.95],\n",
    "    'tfid__ngram_range': [(1,1), (1,2)]\n",
    "}\n",
    "\n",
    "# instantiate GridSearchCV\n",
    "grid_nb_tfid = GridSearchCV(estimator=pipe_nb_tfid,\n",
    "                      param_grid=pipe_nb_tfid_params,n_jobs=-1,\n",
    "                      cv=5)"
   ]
  },
  {
   "cell_type": "code",
   "execution_count": 14,
   "id": "231c4aba",
   "metadata": {
    "ExecuteTime": {
     "end_time": "2022-08-12T16:07:38.109807Z",
     "start_time": "2022-08-12T16:07:07.647338Z"
    }
   },
   "outputs": [
    {
     "data": {
      "text/html": [
       "<style>#sk-container-id-2 {color: black;background-color: white;}#sk-container-id-2 pre{padding: 0;}#sk-container-id-2 div.sk-toggleable {background-color: white;}#sk-container-id-2 label.sk-toggleable__label {cursor: pointer;display: block;width: 100%;margin-bottom: 0;padding: 0.3em;box-sizing: border-box;text-align: center;}#sk-container-id-2 label.sk-toggleable__label-arrow:before {content: \"▸\";float: left;margin-right: 0.25em;color: #696969;}#sk-container-id-2 label.sk-toggleable__label-arrow:hover:before {color: black;}#sk-container-id-2 div.sk-estimator:hover label.sk-toggleable__label-arrow:before {color: black;}#sk-container-id-2 div.sk-toggleable__content {max-height: 0;max-width: 0;overflow: hidden;text-align: left;background-color: #f0f8ff;}#sk-container-id-2 div.sk-toggleable__content pre {margin: 0.2em;color: black;border-radius: 0.25em;background-color: #f0f8ff;}#sk-container-id-2 input.sk-toggleable__control:checked~div.sk-toggleable__content {max-height: 200px;max-width: 100%;overflow: auto;}#sk-container-id-2 input.sk-toggleable__control:checked~label.sk-toggleable__label-arrow:before {content: \"▾\";}#sk-container-id-2 div.sk-estimator input.sk-toggleable__control:checked~label.sk-toggleable__label {background-color: #d4ebff;}#sk-container-id-2 div.sk-label input.sk-toggleable__control:checked~label.sk-toggleable__label {background-color: #d4ebff;}#sk-container-id-2 input.sk-hidden--visually {border: 0;clip: rect(1px 1px 1px 1px);clip: rect(1px, 1px, 1px, 1px);height: 1px;margin: -1px;overflow: hidden;padding: 0;position: absolute;width: 1px;}#sk-container-id-2 div.sk-estimator {font-family: monospace;background-color: #f0f8ff;border: 1px dotted black;border-radius: 0.25em;box-sizing: border-box;margin-bottom: 0.5em;}#sk-container-id-2 div.sk-estimator:hover {background-color: #d4ebff;}#sk-container-id-2 div.sk-parallel-item::after {content: \"\";width: 100%;border-bottom: 1px solid gray;flex-grow: 1;}#sk-container-id-2 div.sk-label:hover label.sk-toggleable__label {background-color: #d4ebff;}#sk-container-id-2 div.sk-serial::before {content: \"\";position: absolute;border-left: 1px solid gray;box-sizing: border-box;top: 0;bottom: 0;left: 50%;z-index: 0;}#sk-container-id-2 div.sk-serial {display: flex;flex-direction: column;align-items: center;background-color: white;padding-right: 0.2em;padding-left: 0.2em;position: relative;}#sk-container-id-2 div.sk-item {position: relative;z-index: 1;}#sk-container-id-2 div.sk-parallel {display: flex;align-items: stretch;justify-content: center;background-color: white;position: relative;}#sk-container-id-2 div.sk-item::before, #sk-container-id-2 div.sk-parallel-item::before {content: \"\";position: absolute;border-left: 1px solid gray;box-sizing: border-box;top: 0;bottom: 0;left: 50%;z-index: -1;}#sk-container-id-2 div.sk-parallel-item {display: flex;flex-direction: column;z-index: 1;position: relative;background-color: white;}#sk-container-id-2 div.sk-parallel-item:first-child::after {align-self: flex-end;width: 50%;}#sk-container-id-2 div.sk-parallel-item:last-child::after {align-self: flex-start;width: 50%;}#sk-container-id-2 div.sk-parallel-item:only-child::after {width: 0;}#sk-container-id-2 div.sk-dashed-wrapped {border: 1px dashed gray;margin: 0 0.4em 0.5em 0.4em;box-sizing: border-box;padding-bottom: 0.4em;background-color: white;}#sk-container-id-2 div.sk-label label {font-family: monospace;font-weight: bold;display: inline-block;line-height: 1.2em;}#sk-container-id-2 div.sk-label-container {text-align: center;}#sk-container-id-2 div.sk-container {/* jupyter's `normalize.less` sets `[hidden] { display: none; }` but bootstrap.min.css set `[hidden] { display: none !important; }` so we also need the `!important` here to be able to override the default hidden behavior on the sphinx rendered scikit-learn.org. See: https://github.com/scikit-learn/scikit-learn/issues/21755 */display: inline-block !important;position: relative;}#sk-container-id-2 div.sk-text-repr-fallback {display: none;}</style><div id=\"sk-container-id-2\" class=\"sk-top-container\"><div class=\"sk-text-repr-fallback\"><pre>GridSearchCV(cv=5,\n",
       "             estimator=Pipeline(steps=[(&#x27;tfid&#x27;,\n",
       "                                        TfidfVectorizer(stop_words=&#x27;english&#x27;)),\n",
       "                                       (&#x27;nb&#x27;, MultinomialNB())]),\n",
       "             n_jobs=-1,\n",
       "             param_grid={&#x27;tfid__max_df&#x27;: [0.9, 0.95],\n",
       "                         &#x27;tfid__max_features&#x27;: [1000, 2000, 3000, 4000, 5000,\n",
       "                                                6000, 7000],\n",
       "                         &#x27;tfid__min_df&#x27;: [2, 5, 8],\n",
       "                         &#x27;tfid__ngram_range&#x27;: [(1, 1), (1, 2)]})</pre><b>In a Jupyter environment, please rerun this cell to show the HTML representation or trust the notebook. <br />On GitHub, the HTML representation is unable to render, please try loading this page with nbviewer.org.</b></div><div class=\"sk-container\" hidden><div class=\"sk-item sk-dashed-wrapped\"><div class=\"sk-label-container\"><div class=\"sk-label sk-toggleable\"><input class=\"sk-toggleable__control sk-hidden--visually\" id=\"sk-estimator-id-5\" type=\"checkbox\" ><label for=\"sk-estimator-id-5\" class=\"sk-toggleable__label sk-toggleable__label-arrow\">GridSearchCV</label><div class=\"sk-toggleable__content\"><pre>GridSearchCV(cv=5,\n",
       "             estimator=Pipeline(steps=[(&#x27;tfid&#x27;,\n",
       "                                        TfidfVectorizer(stop_words=&#x27;english&#x27;)),\n",
       "                                       (&#x27;nb&#x27;, MultinomialNB())]),\n",
       "             n_jobs=-1,\n",
       "             param_grid={&#x27;tfid__max_df&#x27;: [0.9, 0.95],\n",
       "                         &#x27;tfid__max_features&#x27;: [1000, 2000, 3000, 4000, 5000,\n",
       "                                                6000, 7000],\n",
       "                         &#x27;tfid__min_df&#x27;: [2, 5, 8],\n",
       "                         &#x27;tfid__ngram_range&#x27;: [(1, 1), (1, 2)]})</pre></div></div></div><div class=\"sk-parallel\"><div class=\"sk-parallel-item\"><div class=\"sk-item\"><div class=\"sk-label-container\"><div class=\"sk-label sk-toggleable\"><input class=\"sk-toggleable__control sk-hidden--visually\" id=\"sk-estimator-id-6\" type=\"checkbox\" ><label for=\"sk-estimator-id-6\" class=\"sk-toggleable__label sk-toggleable__label-arrow\">estimator: Pipeline</label><div class=\"sk-toggleable__content\"><pre>Pipeline(steps=[(&#x27;tfid&#x27;, TfidfVectorizer(stop_words=&#x27;english&#x27;)),\n",
       "                (&#x27;nb&#x27;, MultinomialNB())])</pre></div></div></div><div class=\"sk-serial\"><div class=\"sk-item\"><div class=\"sk-serial\"><div class=\"sk-item\"><div class=\"sk-estimator sk-toggleable\"><input class=\"sk-toggleable__control sk-hidden--visually\" id=\"sk-estimator-id-7\" type=\"checkbox\" ><label for=\"sk-estimator-id-7\" class=\"sk-toggleable__label sk-toggleable__label-arrow\">TfidfVectorizer</label><div class=\"sk-toggleable__content\"><pre>TfidfVectorizer(stop_words=&#x27;english&#x27;)</pre></div></div></div><div class=\"sk-item\"><div class=\"sk-estimator sk-toggleable\"><input class=\"sk-toggleable__control sk-hidden--visually\" id=\"sk-estimator-id-8\" type=\"checkbox\" ><label for=\"sk-estimator-id-8\" class=\"sk-toggleable__label sk-toggleable__label-arrow\">MultinomialNB</label><div class=\"sk-toggleable__content\"><pre>MultinomialNB()</pre></div></div></div></div></div></div></div></div></div></div></div></div>"
      ],
      "text/plain": [
       "GridSearchCV(cv=5,\n",
       "             estimator=Pipeline(steps=[('tfid',\n",
       "                                        TfidfVectorizer(stop_words='english')),\n",
       "                                       ('nb', MultinomialNB())]),\n",
       "             n_jobs=-1,\n",
       "             param_grid={'tfid__max_df': [0.9, 0.95],\n",
       "                         'tfid__max_features': [1000, 2000, 3000, 4000, 5000,\n",
       "                                                6000, 7000],\n",
       "                         'tfid__min_df': [2, 5, 8],\n",
       "                         'tfid__ngram_range': [(1, 1), (1, 2)]})"
      ]
     },
     "execution_count": 14,
     "metadata": {},
     "output_type": "execute_result"
    }
   ],
   "source": [
    "# fit GridSearchCV object to data\n",
    "grid_nb_tfid.fit(X_train, y_train)"
   ]
  },
  {
   "cell_type": "code",
   "execution_count": 15,
   "id": "41536704",
   "metadata": {
    "ExecuteTime": {
     "end_time": "2022-08-12T16:07:39.345730Z",
     "start_time": "2022-08-12T16:07:38.110806Z"
    }
   },
   "outputs": [
    {
     "name": "stdout",
     "output_type": "stream",
     "text": [
      "──────────────────────────────\n",
      "Accuracy score of training set: 0.9031\n",
      "Accuracy score of testing set: 0.8642\n",
      "Precision score of training set: 0.9159\n",
      "Precision score of testing set: 0.8873\n",
      "error rate of training set: 0.1358\n",
      "error rate score of testing set: 0.0969\n",
      "auc score of training set: 0.9702\n",
      "auc score of testing set: 0.9473\n",
      "Percentage differnece is 2.36%\n",
      "──────────────────────────────\n"
     ]
    },
    {
     "data": {
      "text/plain": [
       "<sklearn.metrics._plot.confusion_matrix.ConfusionMatrixDisplay at 0x1222b99b970>"
      ]
     },
     "execution_count": 15,
     "metadata": {},
     "output_type": "execute_result"
    },
    {
     "data": {
      "image/png": "[encoded data removed]",
      "text/plain": [
       "<Figure size 432x288 with 1 Axes>"
      ]
     },
     "metadata": {
      "needs_background": "light"
     },
     "output_type": "display_data"
    },
    {
     "data": {
      "image/png": "[encoded data removed]",
      "text/plain": [
       "<Figure size 432x288 with 2 Axes>"
      ]
     },
     "metadata": {
      "needs_background": "light"
     },
     "output_type": "display_data"
    }
   ],
   "source": [
    "get_metrics(grid_nb_tfid, X_train, X_test)"
   ]
  },
  {
   "cell_type": "code",
   "execution_count": 16,
   "id": "7c7cf37f",
   "metadata": {
    "ExecuteTime": {
     "end_time": "2022-08-12T16:07:39.361687Z",
     "start_time": "2022-08-12T16:07:39.347726Z"
    }
   },
   "outputs": [
    {
     "data": {
      "text/plain": [
       "{'tfid__max_df': 0.9,\n",
       " 'tfid__max_features': 7000,\n",
       " 'tfid__min_df': 2,\n",
       " 'tfid__ngram_range': (1, 2)}"
      ]
     },
     "execution_count": 16,
     "metadata": {},
     "output_type": "execute_result"
    }
   ],
   "source": [
    "grid_nb_tfid.best_params_"
   ]
  },
  {
   "cell_type": "markdown",
   "id": "c8ff857b",
   "metadata": {},
   "source": [
    "### 6.0 Random Forest model"
   ]
  },
  {
   "cell_type": "markdown",
   "id": "7d37f6be",
   "metadata": {},
   "source": [
    "#### 6.1 Random Forest + CountVectorizer"
   ]
  },
  {
   "cell_type": "code",
   "execution_count": 17,
   "id": "afa1d0e5",
   "metadata": {
    "ExecuteTime": {
     "end_time": "2022-08-12T16:07:39.392784Z",
     "start_time": "2022-08-12T16:07:39.363682Z"
    }
   },
   "outputs": [],
   "source": [
    "pipe_rf_cvec = Pipeline([\n",
    "    ('cvec', CountVectorizer(stop_words='english')),\n",
    "    ('rf', RandomForestClassifier(random_state=42))\n",
    "])\n",
    "\n",
    "\n",
    "# define GridSearchCV parameters\n",
    "rf_params = {\n",
    "    'cvec__max_features': [5_000],       #using back the best param from previous result\n",
    "    'cvec__min_df': [2],\n",
    "    'cvec__max_df': [0.8],\n",
    "    'cvec__ngram_range': [(1,1)],\n",
    "    'rf__n_estimators': [200, 500, 800],\n",
    "    'rf__max_depth': [5, 10, 15]\n",
    "}\n",
    "\n",
    "\n",
    "# instantiate GridSearchCV\n",
    "grid_rf_cvec = GridSearchCV(estimator=pipe_rf_cvec,\n",
    "                      param_grid=rf_params,n_jobs=-1,\n",
    "                      cv=5)"
   ]
  },
  {
   "cell_type": "code",
   "execution_count": 18,
   "id": "9cfd2c8e",
   "metadata": {
    "ExecuteTime": {
     "end_time": "2022-08-12T16:08:00.077122Z",
     "start_time": "2022-08-12T16:07:39.393784Z"
    }
   },
   "outputs": [
    {
     "data": {
      "text/html": [
       "<style>#sk-container-id-3 {color: black;background-color: white;}#sk-container-id-3 pre{padding: 0;}#sk-container-id-3 div.sk-toggleable {background-color: white;}#sk-container-id-3 label.sk-toggleable__label {cursor: pointer;display: block;width: 100%;margin-bottom: 0;padding: 0.3em;box-sizing: border-box;text-align: center;}#sk-container-id-3 label.sk-toggleable__label-arrow:before {content: \"▸\";float: left;margin-right: 0.25em;color: #696969;}#sk-container-id-3 label.sk-toggleable__label-arrow:hover:before {color: black;}#sk-container-id-3 div.sk-estimator:hover label.sk-toggleable__label-arrow:before {color: black;}#sk-container-id-3 div.sk-toggleable__content {max-height: 0;max-width: 0;overflow: hidden;text-align: left;background-color: #f0f8ff;}#sk-container-id-3 div.sk-toggleable__content pre {margin: 0.2em;color: black;border-radius: 0.25em;background-color: #f0f8ff;}#sk-container-id-3 input.sk-toggleable__control:checked~div.sk-toggleable__content {max-height: 200px;max-width: 100%;overflow: auto;}#sk-container-id-3 input.sk-toggleable__control:checked~label.sk-toggleable__label-arrow:before {content: \"▾\";}#sk-container-id-3 div.sk-estimator input.sk-toggleable__control:checked~label.sk-toggleable__label {background-color: #d4ebff;}#sk-container-id-3 div.sk-label input.sk-toggleable__control:checked~label.sk-toggleable__label {background-color: #d4ebff;}#sk-container-id-3 input.sk-hidden--visually {border: 0;clip: rect(1px 1px 1px 1px);clip: rect(1px, 1px, 1px, 1px);height: 1px;margin: -1px;overflow: hidden;padding: 0;position: absolute;width: 1px;}#sk-container-id-3 div.sk-estimator {font-family: monospace;background-color: #f0f8ff;border: 1px dotted black;border-radius: 0.25em;box-sizing: border-box;margin-bottom: 0.5em;}#sk-container-id-3 div.sk-estimator:hover {background-color: #d4ebff;}#sk-container-id-3 div.sk-parallel-item::after {content: \"\";width: 100%;border-bottom: 1px solid gray;flex-grow: 1;}#sk-container-id-3 div.sk-label:hover label.sk-toggleable__label {background-color: #d4ebff;}#sk-container-id-3 div.sk-serial::before {content: \"\";position: absolute;border-left: 1px solid gray;box-sizing: border-box;top: 0;bottom: 0;left: 50%;z-index: 0;}#sk-container-id-3 div.sk-serial {display: flex;flex-direction: column;align-items: center;background-color: white;padding-right: 0.2em;padding-left: 0.2em;position: relative;}#sk-container-id-3 div.sk-item {position: relative;z-index: 1;}#sk-container-id-3 div.sk-parallel {display: flex;align-items: stretch;justify-content: center;background-color: white;position: relative;}#sk-container-id-3 div.sk-item::before, #sk-container-id-3 div.sk-parallel-item::before {content: \"\";position: absolute;border-left: 1px solid gray;box-sizing: border-box;top: 0;bottom: 0;left: 50%;z-index: -1;}#sk-container-id-3 div.sk-parallel-item {display: flex;flex-direction: column;z-index: 1;position: relative;background-color: white;}#sk-container-id-3 div.sk-parallel-item:first-child::after {align-self: flex-end;width: 50%;}#sk-container-id-3 div.sk-parallel-item:last-child::after {align-self: flex-start;width: 50%;}#sk-container-id-3 div.sk-parallel-item:only-child::after {width: 0;}#sk-container-id-3 div.sk-dashed-wrapped {border: 1px dashed gray;margin: 0 0.4em 0.5em 0.4em;box-sizing: border-box;padding-bottom: 0.4em;background-color: white;}#sk-container-id-3 div.sk-label label {font-family: monospace;font-weight: bold;display: inline-block;line-height: 1.2em;}#sk-container-id-3 div.sk-label-container {text-align: center;}#sk-container-id-3 div.sk-container {/* jupyter's `normalize.less` sets `[hidden] { display: none; }` but bootstrap.min.css set `[hidden] { display: none !important; }` so we also need the `!important` here to be able to override the default hidden behavior on the sphinx rendered scikit-learn.org. See: https://github.com/scikit-learn/scikit-learn/issues/21755 */display: inline-block !important;position: relative;}#sk-container-id-3 div.sk-text-repr-fallback {display: none;}</style><div id=\"sk-container-id-3\" class=\"sk-top-container\"><div class=\"sk-text-repr-fallback\"><pre>GridSearchCV(cv=5,\n",
       "             estimator=Pipeline(steps=[(&#x27;cvec&#x27;,\n",
       "                                        CountVectorizer(stop_words=&#x27;english&#x27;)),\n",
       "                                       (&#x27;rf&#x27;,\n",
       "                                        RandomForestClassifier(random_state=42))]),\n",
       "             n_jobs=-1,\n",
       "             param_grid={&#x27;cvec__max_df&#x27;: [0.8], &#x27;cvec__max_features&#x27;: [5000],\n",
       "                         &#x27;cvec__min_df&#x27;: [2], &#x27;cvec__ngram_range&#x27;: [(1, 1)],\n",
       "                         &#x27;rf__max_depth&#x27;: [5, 10, 15],\n",
       "                         &#x27;rf__n_estimators&#x27;: [200, 500, 800]})</pre><b>In a Jupyter environment, please rerun this cell to show the HTML representation or trust the notebook. <br />On GitHub, the HTML representation is unable to render, please try loading this page with nbviewer.org.</b></div><div class=\"sk-container\" hidden><div class=\"sk-item sk-dashed-wrapped\"><div class=\"sk-label-container\"><div class=\"sk-label sk-toggleable\"><input class=\"sk-toggleable__control sk-hidden--visually\" id=\"sk-estimator-id-9\" type=\"checkbox\" ><label for=\"sk-estimator-id-9\" class=\"sk-toggleable__label sk-toggleable__label-arrow\">GridSearchCV</label><div class=\"sk-toggleable__content\"><pre>GridSearchCV(cv=5,\n",
       "             estimator=Pipeline(steps=[(&#x27;cvec&#x27;,\n",
       "                                        CountVectorizer(stop_words=&#x27;english&#x27;)),\n",
       "                                       (&#x27;rf&#x27;,\n",
       "                                        RandomForestClassifier(random_state=42))]),\n",
       "             n_jobs=-1,\n",
       "             param_grid={&#x27;cvec__max_df&#x27;: [0.8], &#x27;cvec__max_features&#x27;: [5000],\n",
       "                         &#x27;cvec__min_df&#x27;: [2], &#x27;cvec__ngram_range&#x27;: [(1, 1)],\n",
       "                         &#x27;rf__max_depth&#x27;: [5, 10, 15],\n",
       "                         &#x27;rf__n_estimators&#x27;: [200, 500, 800]})</pre></div></div></div><div class=\"sk-parallel\"><div class=\"sk-parallel-item\"><div class=\"sk-item\"><div class=\"sk-label-container\"><div class=\"sk-label sk-toggleable\"><input class=\"sk-toggleable__control sk-hidden--visually\" id=\"sk-estimator-id-10\" type=\"checkbox\" ><label for=\"sk-estimator-id-10\" class=\"sk-toggleable__label sk-toggleable__label-arrow\">estimator: Pipeline</label><div class=\"sk-toggleable__content\"><pre>Pipeline(steps=[(&#x27;cvec&#x27;, CountVectorizer(stop_words=&#x27;english&#x27;)),\n",
       "                (&#x27;rf&#x27;, RandomForestClassifier(random_state=42))])</pre></div></div></div><div class=\"sk-serial\"><div class=\"sk-item\"><div class=\"sk-serial\"><div class=\"sk-item\"><div class=\"sk-estimator sk-toggleable\"><input class=\"sk-toggleable__control sk-hidden--visually\" id=\"sk-estimator-id-11\" type=\"checkbox\" ><label for=\"sk-estimator-id-11\" class=\"sk-toggleable__label sk-toggleable__label-arrow\">CountVectorizer</label><div class=\"sk-toggleable__content\"><pre>CountVectorizer(stop_words=&#x27;english&#x27;)</pre></div></div></div><div class=\"sk-item\"><div class=\"sk-estimator sk-toggleable\"><input class=\"sk-toggleable__control sk-hidden--visually\" id=\"sk-estimator-id-12\" type=\"checkbox\" ><label for=\"sk-estimator-id-12\" class=\"sk-toggleable__label sk-toggleable__label-arrow\">RandomForestClassifier</label><div class=\"sk-toggleable__content\"><pre>RandomForestClassifier(random_state=42)</pre></div></div></div></div></div></div></div></div></div></div></div></div>"
      ],
      "text/plain": [
       "GridSearchCV(cv=5,\n",
       "             estimator=Pipeline(steps=[('cvec',\n",
       "                                        CountVectorizer(stop_words='english')),\n",
       "                                       ('rf',\n",
       "                                        RandomForestClassifier(random_state=42))]),\n",
       "             n_jobs=-1,\n",
       "             param_grid={'cvec__max_df': [0.8], 'cvec__max_features': [5000],\n",
       "                         'cvec__min_df': [2], 'cvec__ngram_range': [(1, 1)],\n",
       "                         'rf__max_depth': [5, 10, 15],\n",
       "                         'rf__n_estimators': [200, 500, 800]})"
      ]
     },
     "execution_count": 18,
     "metadata": {},
     "output_type": "execute_result"
    }
   ],
   "source": [
    "# fit GridSearchCV object to data\n",
    "grid_rf_cvec.fit(X_train, y_train)"
   ]
  },
  {
   "cell_type": "code",
   "execution_count": 19,
   "id": "8d2c9355",
   "metadata": {
    "ExecuteTime": {
     "end_time": "2022-08-12T16:08:03.611944Z",
     "start_time": "2022-08-12T16:08:00.078120Z"
    }
   },
   "outputs": [
    {
     "name": "stdout",
     "output_type": "stream",
     "text": [
      "──────────────────────────────\n",
      "Accuracy score of training set: 0.8617\n",
      "Accuracy score of testing set: 0.8552\n",
      "Precision score of training set: 0.7963\n",
      "Precision score of testing set: 0.7927\n",
      "error rate of training set: 0.1448\n",
      "error rate score of testing set: 0.1383\n",
      "auc score of training set: 0.957\n",
      "auc score of testing set: 0.9445\n",
      "Percentage differnece is 1.31%\n",
      "──────────────────────────────\n"
     ]
    },
    {
     "data": {
      "text/plain": [
       "<sklearn.metrics._plot.confusion_matrix.ConfusionMatrixDisplay at 0x1222bc72460>"
      ]
     },
     "execution_count": 19,
     "metadata": {},
     "output_type": "execute_result"
    },
    {
     "data": {
      "image/png": "[encoded data removed]",
      "text/plain": [
       "<Figure size 432x288 with 1 Axes>"
      ]
     },
     "metadata": {
      "needs_background": "light"
     },
     "output_type": "display_data"
    },
    {
     "data": {
      "image/png": "[encoded data removed]",
      "text/plain": [
       "<Figure size 432x288 with 2 Axes>"
      ]
     },
     "metadata": {
      "needs_background": "light"
     },
     "output_type": "display_data"
    }
   ],
   "source": [
    "get_metrics(grid_rf_cvec, X_train, X_test)"
   ]
  },
  {
   "cell_type": "code",
   "execution_count": 20,
   "id": "8acca587",
   "metadata": {
    "ExecuteTime": {
     "end_time": "2022-08-12T16:08:03.628164Z",
     "start_time": "2022-08-12T16:08:03.612702Z"
    }
   },
   "outputs": [
    {
     "data": {
      "text/plain": [
       "{'cvec__max_df': 0.8,\n",
       " 'cvec__max_features': 5000,\n",
       " 'cvec__min_df': 2,\n",
       " 'cvec__ngram_range': (1, 1),\n",
       " 'rf__max_depth': 15,\n",
       " 'rf__n_estimators': 500}"
      ]
     },
     "execution_count": 20,
     "metadata": {},
     "output_type": "execute_result"
    }
   ],
   "source": [
    "grid_rf_cvec.best_params_"
   ]
  },
  {
   "cell_type": "markdown",
   "id": "5454028c",
   "metadata": {},
   "source": [
    "#### 6.2 Random Forest + TF-IDF Vectorizer"
   ]
  },
  {
   "cell_type": "code",
   "execution_count": 21,
   "id": "1815e996",
   "metadata": {
    "ExecuteTime": {
     "end_time": "2022-08-12T16:08:03.643859Z",
     "start_time": "2022-08-12T16:08:03.629680Z"
    }
   },
   "outputs": [],
   "source": [
    "# instantiate TfidfVectorizer + RandomForest pipeline\n",
    "pipe_rf_tfid = Pipeline([\n",
    "    ('tfid', TfidfVectorizer(stop_words='english')),\n",
    "    ('rf', RandomForestClassifier(random_state=42))\n",
    "])\n",
    "\n",
    "# define pipeline parameters\n",
    "rf_tfid_params = {\n",
    "    'tfid__max_features': [7000],          #reusing best param from previous result\n",
    "    'tfid__min_df': [2],\n",
    "    'tfid__max_df': [0.9],\n",
    "    'tfid__ngram_range': [(1,2)],\n",
    "    'rf__n_estimators': [500],\n",
    "    'rf__max_depth': [15]\n",
    "    \n",
    "}\n",
    "\n",
    "# instantiate GridSearchCV\n",
    "grid_rf_tfid = GridSearchCV(estimator=pipe_rf_tfid,\n",
    "                      param_grid=rf_tfid_params,n_jobs=-1,\n",
    "                      cv=5)"
   ]
  },
  {
   "cell_type": "code",
   "execution_count": 22,
   "id": "3aa7bd04",
   "metadata": {
    "ExecuteTime": {
     "end_time": "2022-08-12T16:08:09.531822Z",
     "start_time": "2022-08-12T16:08:03.644861Z"
    },
    "scrolled": true
   },
   "outputs": [
    {
     "data": {
      "text/html": [
       "<style>#sk-container-id-4 {color: black;background-color: white;}#sk-container-id-4 pre{padding: 0;}#sk-container-id-4 div.sk-toggleable {background-color: white;}#sk-container-id-4 label.sk-toggleable__label {cursor: pointer;display: block;width: 100%;margin-bottom: 0;padding: 0.3em;box-sizing: border-box;text-align: center;}#sk-container-id-4 label.sk-toggleable__label-arrow:before {content: \"▸\";float: left;margin-right: 0.25em;color: #696969;}#sk-container-id-4 label.sk-toggleable__label-arrow:hover:before {color: black;}#sk-container-id-4 div.sk-estimator:hover label.sk-toggleable__label-arrow:before {color: black;}#sk-container-id-4 div.sk-toggleable__content {max-height: 0;max-width: 0;overflow: hidden;text-align: left;background-color: #f0f8ff;}#sk-container-id-4 div.sk-toggleable__content pre {margin: 0.2em;color: black;border-radius: 0.25em;background-color: #f0f8ff;}#sk-container-id-4 input.sk-toggleable__control:checked~div.sk-toggleable__content {max-height: 200px;max-width: 100%;overflow: auto;}#sk-container-id-4 input.sk-toggleable__control:checked~label.sk-toggleable__label-arrow:before {content: \"▾\";}#sk-container-id-4 div.sk-estimator input.sk-toggleable__control:checked~label.sk-toggleable__label {background-color: #d4ebff;}#sk-container-id-4 div.sk-label input.sk-toggleable__control:checked~label.sk-toggleable__label {background-color: #d4ebff;}#sk-container-id-4 input.sk-hidden--visually {border: 0;clip: rect(1px 1px 1px 1px);clip: rect(1px, 1px, 1px, 1px);height: 1px;margin: -1px;overflow: hidden;padding: 0;position: absolute;width: 1px;}#sk-container-id-4 div.sk-estimator {font-family: monospace;background-color: #f0f8ff;border: 1px dotted black;border-radius: 0.25em;box-sizing: border-box;margin-bottom: 0.5em;}#sk-container-id-4 div.sk-estimator:hover {background-color: #d4ebff;}#sk-container-id-4 div.sk-parallel-item::after {content: \"\";width: 100%;border-bottom: 1px solid gray;flex-grow: 1;}#sk-container-id-4 div.sk-label:hover label.sk-toggleable__label {background-color: #d4ebff;}#sk-container-id-4 div.sk-serial::before {content: \"\";position: absolute;border-left: 1px solid gray;box-sizing: border-box;top: 0;bottom: 0;left: 50%;z-index: 0;}#sk-container-id-4 div.sk-serial {display: flex;flex-direction: column;align-items: center;background-color: white;padding-right: 0.2em;padding-left: 0.2em;position: relative;}#sk-container-id-4 div.sk-item {position: relative;z-index: 1;}#sk-container-id-4 div.sk-parallel {display: flex;align-items: stretch;justify-content: center;background-color: white;position: relative;}#sk-container-id-4 div.sk-item::before, #sk-container-id-4 div.sk-parallel-item::before {content: \"\";position: absolute;border-left: 1px solid gray;box-sizing: border-box;top: 0;bottom: 0;left: 50%;z-index: -1;}#sk-container-id-4 div.sk-parallel-item {display: flex;flex-direction: column;z-index: 1;position: relative;background-color: white;}#sk-container-id-4 div.sk-parallel-item:first-child::after {align-self: flex-end;width: 50%;}#sk-container-id-4 div.sk-parallel-item:last-child::after {align-self: flex-start;width: 50%;}#sk-container-id-4 div.sk-parallel-item:only-child::after {width: 0;}#sk-container-id-4 div.sk-dashed-wrapped {border: 1px dashed gray;margin: 0 0.4em 0.5em 0.4em;box-sizing: border-box;padding-bottom: 0.4em;background-color: white;}#sk-container-id-4 div.sk-label label {font-family: monospace;font-weight: bold;display: inline-block;line-height: 1.2em;}#sk-container-id-4 div.sk-label-container {text-align: center;}#sk-container-id-4 div.sk-container {/* jupyter's `normalize.less` sets `[hidden] { display: none; }` but bootstrap.min.css set `[hidden] { display: none !important; }` so we also need the `!important` here to be able to override the default hidden behavior on the sphinx rendered scikit-learn.org. See: https://github.com/scikit-learn/scikit-learn/issues/21755 */display: inline-block !important;position: relative;}#sk-container-id-4 div.sk-text-repr-fallback {display: none;}</style><div id=\"sk-container-id-4\" class=\"sk-top-container\"><div class=\"sk-text-repr-fallback\"><pre>GridSearchCV(cv=5,\n",
       "             estimator=Pipeline(steps=[(&#x27;tfid&#x27;,\n",
       "                                        TfidfVectorizer(stop_words=&#x27;english&#x27;)),\n",
       "                                       (&#x27;rf&#x27;,\n",
       "                                        RandomForestClassifier(random_state=42))]),\n",
       "             n_jobs=-1,\n",
       "             param_grid={&#x27;rf__max_depth&#x27;: [15], &#x27;rf__n_estimators&#x27;: [500],\n",
       "                         &#x27;tfid__max_df&#x27;: [0.9], &#x27;tfid__max_features&#x27;: [7000],\n",
       "                         &#x27;tfid__min_df&#x27;: [2], &#x27;tfid__ngram_range&#x27;: [(1, 2)]})</pre><b>In a Jupyter environment, please rerun this cell to show the HTML representation or trust the notebook. <br />On GitHub, the HTML representation is unable to render, please try loading this page with nbviewer.org.</b></div><div class=\"sk-container\" hidden><div class=\"sk-item sk-dashed-wrapped\"><div class=\"sk-label-container\"><div class=\"sk-label sk-toggleable\"><input class=\"sk-toggleable__control sk-hidden--visually\" id=\"sk-estimator-id-13\" type=\"checkbox\" ><label for=\"sk-estimator-id-13\" class=\"sk-toggleable__label sk-toggleable__label-arrow\">GridSearchCV</label><div class=\"sk-toggleable__content\"><pre>GridSearchCV(cv=5,\n",
       "             estimator=Pipeline(steps=[(&#x27;tfid&#x27;,\n",
       "                                        TfidfVectorizer(stop_words=&#x27;english&#x27;)),\n",
       "                                       (&#x27;rf&#x27;,\n",
       "                                        RandomForestClassifier(random_state=42))]),\n",
       "             n_jobs=-1,\n",
       "             param_grid={&#x27;rf__max_depth&#x27;: [15], &#x27;rf__n_estimators&#x27;: [500],\n",
       "                         &#x27;tfid__max_df&#x27;: [0.9], &#x27;tfid__max_features&#x27;: [7000],\n",
       "                         &#x27;tfid__min_df&#x27;: [2], &#x27;tfid__ngram_range&#x27;: [(1, 2)]})</pre></div></div></div><div class=\"sk-parallel\"><div class=\"sk-parallel-item\"><div class=\"sk-item\"><div class=\"sk-label-container\"><div class=\"sk-label sk-toggleable\"><input class=\"sk-toggleable__control sk-hidden--visually\" id=\"sk-estimator-id-14\" type=\"checkbox\" ><label for=\"sk-estimator-id-14\" class=\"sk-toggleable__label sk-toggleable__label-arrow\">estimator: Pipeline</label><div class=\"sk-toggleable__content\"><pre>Pipeline(steps=[(&#x27;tfid&#x27;, TfidfVectorizer(stop_words=&#x27;english&#x27;)),\n",
       "                (&#x27;rf&#x27;, RandomForestClassifier(random_state=42))])</pre></div></div></div><div class=\"sk-serial\"><div class=\"sk-item\"><div class=\"sk-serial\"><div class=\"sk-item\"><div class=\"sk-estimator sk-toggleable\"><input class=\"sk-toggleable__control sk-hidden--visually\" id=\"sk-estimator-id-15\" type=\"checkbox\" ><label for=\"sk-estimator-id-15\" class=\"sk-toggleable__label sk-toggleable__label-arrow\">TfidfVectorizer</label><div class=\"sk-toggleable__content\"><pre>TfidfVectorizer(stop_words=&#x27;english&#x27;)</pre></div></div></div><div class=\"sk-item\"><div class=\"sk-estimator sk-toggleable\"><input class=\"sk-toggleable__control sk-hidden--visually\" id=\"sk-estimator-id-16\" type=\"checkbox\" ><label for=\"sk-estimator-id-16\" class=\"sk-toggleable__label sk-toggleable__label-arrow\">RandomForestClassifier</label><div class=\"sk-toggleable__content\"><pre>RandomForestClassifier(random_state=42)</pre></div></div></div></div></div></div></div></div></div></div></div></div>"
      ],
      "text/plain": [
       "GridSearchCV(cv=5,\n",
       "             estimator=Pipeline(steps=[('tfid',\n",
       "                                        TfidfVectorizer(stop_words='english')),\n",
       "                                       ('rf',\n",
       "                                        RandomForestClassifier(random_state=42))]),\n",
       "             n_jobs=-1,\n",
       "             param_grid={'rf__max_depth': [15], 'rf__n_estimators': [500],\n",
       "                         'tfid__max_df': [0.9], 'tfid__max_features': [7000],\n",
       "                         'tfid__min_df': [2], 'tfid__ngram_range': [(1, 2)]})"
      ]
     },
     "execution_count": 22,
     "metadata": {},
     "output_type": "execute_result"
    }
   ],
   "source": [
    "# fit GridSearchCV object to data\n",
    "grid_rf_tfid.fit(X_train, y_train)"
   ]
  },
  {
   "cell_type": "code",
   "execution_count": 23,
   "id": "1bfbbc9b",
   "metadata": {
    "ExecuteTime": {
     "end_time": "2022-08-12T16:08:13.720692Z",
     "start_time": "2022-08-12T16:08:09.532819Z"
    },
    "scrolled": true
   },
   "outputs": [
    {
     "name": "stdout",
     "output_type": "stream",
     "text": [
      "──────────────────────────────\n",
      "Accuracy score of training set: 0.8609\n",
      "Accuracy score of testing set: 0.852\n",
      "Precision score of training set: 0.7944\n",
      "Precision score of testing set: 0.789\n",
      "error rate of training set: 0.148\n",
      "error rate score of testing set: 0.1391\n",
      "auc score of training set: 0.9555\n",
      "auc score of testing set: 0.9425\n",
      "Percentage differnece is 1.36%\n",
      "──────────────────────────────\n"
     ]
    },
    {
     "data": {
      "text/plain": [
       "<sklearn.metrics._plot.confusion_matrix.ConfusionMatrixDisplay at 0x1222c25fcd0>"
      ]
     },
     "execution_count": 23,
     "metadata": {},
     "output_type": "execute_result"
    },
    {
     "data": {
      "image/png": "[encoded data removed]",
      "text/plain": [
       "<Figure size 432x288 with 1 Axes>"
      ]
     },
     "metadata": {
      "needs_background": "light"
     },
     "output_type": "display_data"
    },
    {
     "data": {
      "image/png": "[encoded data removed]",
      "text/plain": [
       "<Figure size 432x288 with 2 Axes>"
      ]
     },
     "metadata": {
      "needs_background": "light"
     },
     "output_type": "display_data"
    }
   ],
   "source": [
    "get_metrics(grid_rf_tfid, X_train, X_test)"
   ]
  },
  {
   "cell_type": "markdown",
   "id": "7e750973",
   "metadata": {},
   "source": [
    "### 7.0 Support Vector Machine model"
   ]
  },
  {
   "cell_type": "markdown",
   "id": "17c070e8",
   "metadata": {},
   "source": [
    "#### 7.1 Support Vector Machines and CountVectorizer"
   ]
  },
  {
   "cell_type": "code",
   "execution_count": 24,
   "id": "3b347c97",
   "metadata": {
    "ExecuteTime": {
     "end_time": "2022-08-12T16:08:13.736651Z",
     "start_time": "2022-08-12T16:08:13.721692Z"
    }
   },
   "outputs": [],
   "source": [
    "# instantiate CountVectorizer + SVC pipeline\n",
    "pipe_svc_cvec = Pipeline([\n",
    "    ('cvec', CountVectorizer(stop_words='english')),\n",
    "    ('svc', SVC(random_state=42))\n",
    "])\n",
    "\n",
    "# define GridSearchCV parameters\n",
    "svc_cvec_params = {\n",
    "    'cvec__max_features': [5_000],       #using back the best param from previous result\n",
    "    'cvec__min_df': [2],\n",
    "    'cvec__max_df': [0.8],\n",
    "    'cvec__ngram_range': [(1,1)],\n",
    "    'svc__C': [0.05, 0.1, 1, 5],\n",
    "    'svc__kernel': ['linear','poly','rbf'],\n",
    "    'svc__degree': [1,2,3,4],\n",
    "    'svc__probability' :[True]\n",
    "}\n",
    "\n",
    "# instantiate GridSearchCV\n",
    "grid_svc_cvec = GridSearchCV(pipe_svc_cvec,\n",
    "                      param_grid=svc_cvec_params,n_jobs=-1,\n",
    "                      cv=5)"
   ]
  },
  {
   "cell_type": "code",
   "execution_count": 25,
   "id": "c56d1bc9",
   "metadata": {
    "ExecuteTime": {
     "end_time": "2022-08-12T16:42:12.961516Z",
     "start_time": "2022-08-12T16:08:13.737648Z"
    }
   },
   "outputs": [
    {
     "data": {
      "text/html": [
       "<style>#sk-container-id-5 {color: black;background-color: white;}#sk-container-id-5 pre{padding: 0;}#sk-container-id-5 div.sk-toggleable {background-color: white;}#sk-container-id-5 label.sk-toggleable__label {cursor: pointer;display: block;width: 100%;margin-bottom: 0;padding: 0.3em;box-sizing: border-box;text-align: center;}#sk-container-id-5 label.sk-toggleable__label-arrow:before {content: \"▸\";float: left;margin-right: 0.25em;color: #696969;}#sk-container-id-5 label.sk-toggleable__label-arrow:hover:before {color: black;}#sk-container-id-5 div.sk-estimator:hover label.sk-toggleable__label-arrow:before {color: black;}#sk-container-id-5 div.sk-toggleable__content {max-height: 0;max-width: 0;overflow: hidden;text-align: left;background-color: #f0f8ff;}#sk-container-id-5 div.sk-toggleable__content pre {margin: 0.2em;color: black;border-radius: 0.25em;background-color: #f0f8ff;}#sk-container-id-5 input.sk-toggleable__control:checked~div.sk-toggleable__content {max-height: 200px;max-width: 100%;overflow: auto;}#sk-container-id-5 input.sk-toggleable__control:checked~label.sk-toggleable__label-arrow:before {content: \"▾\";}#sk-container-id-5 div.sk-estimator input.sk-toggleable__control:checked~label.sk-toggleable__label {background-color: #d4ebff;}#sk-container-id-5 div.sk-label input.sk-toggleable__control:checked~label.sk-toggleable__label {background-color: #d4ebff;}#sk-container-id-5 input.sk-hidden--visually {border: 0;clip: rect(1px 1px 1px 1px);clip: rect(1px, 1px, 1px, 1px);height: 1px;margin: -1px;overflow: hidden;padding: 0;position: absolute;width: 1px;}#sk-container-id-5 div.sk-estimator {font-family: monospace;background-color: #f0f8ff;border: 1px dotted black;border-radius: 0.25em;box-sizing: border-box;margin-bottom: 0.5em;}#sk-container-id-5 div.sk-estimator:hover {background-color: #d4ebff;}#sk-container-id-5 div.sk-parallel-item::after {content: \"\";width: 100%;border-bottom: 1px solid gray;flex-grow: 1;}#sk-container-id-5 div.sk-label:hover label.sk-toggleable__label {background-color: #d4ebff;}#sk-container-id-5 div.sk-serial::before {content: \"\";position: absolute;border-left: 1px solid gray;box-sizing: border-box;top: 0;bottom: 0;left: 50%;z-index: 0;}#sk-container-id-5 div.sk-serial {display: flex;flex-direction: column;align-items: center;background-color: white;padding-right: 0.2em;padding-left: 0.2em;position: relative;}#sk-container-id-5 div.sk-item {position: relative;z-index: 1;}#sk-container-id-5 div.sk-parallel {display: flex;align-items: stretch;justify-content: center;background-color: white;position: relative;}#sk-container-id-5 div.sk-item::before, #sk-container-id-5 div.sk-parallel-item::before {content: \"\";position: absolute;border-left: 1px solid gray;box-sizing: border-box;top: 0;bottom: 0;left: 50%;z-index: -1;}#sk-container-id-5 div.sk-parallel-item {display: flex;flex-direction: column;z-index: 1;position: relative;background-color: white;}#sk-container-id-5 div.sk-parallel-item:first-child::after {align-self: flex-end;width: 50%;}#sk-container-id-5 div.sk-parallel-item:last-child::after {align-self: flex-start;width: 50%;}#sk-container-id-5 div.sk-parallel-item:only-child::after {width: 0;}#sk-container-id-5 div.sk-dashed-wrapped {border: 1px dashed gray;margin: 0 0.4em 0.5em 0.4em;box-sizing: border-box;padding-bottom: 0.4em;background-color: white;}#sk-container-id-5 div.sk-label label {font-family: monospace;font-weight: bold;display: inline-block;line-height: 1.2em;}#sk-container-id-5 div.sk-label-container {text-align: center;}#sk-container-id-5 div.sk-container {/* jupyter's `normalize.less` sets `[hidden] { display: none; }` but bootstrap.min.css set `[hidden] { display: none !important; }` so we also need the `!important` here to be able to override the default hidden behavior on the sphinx rendered scikit-learn.org. See: https://github.com/scikit-learn/scikit-learn/issues/21755 */display: inline-block !important;position: relative;}#sk-container-id-5 div.sk-text-repr-fallback {display: none;}</style><div id=\"sk-container-id-5\" class=\"sk-top-container\"><div class=\"sk-text-repr-fallback\"><pre>GridSearchCV(cv=5,\n",
       "             estimator=Pipeline(steps=[(&#x27;cvec&#x27;,\n",
       "                                        CountVectorizer(stop_words=&#x27;english&#x27;)),\n",
       "                                       (&#x27;svc&#x27;, SVC(random_state=42))]),\n",
       "             n_jobs=-1,\n",
       "             param_grid={&#x27;cvec__max_df&#x27;: [0.8], &#x27;cvec__max_features&#x27;: [5000],\n",
       "                         &#x27;cvec__min_df&#x27;: [2], &#x27;cvec__ngram_range&#x27;: [(1, 1)],\n",
       "                         &#x27;svc__C&#x27;: [0.05, 0.1, 1, 5],\n",
       "                         &#x27;svc__degree&#x27;: [1, 2, 3, 4],\n",
       "                         &#x27;svc__kernel&#x27;: [&#x27;linear&#x27;, &#x27;poly&#x27;, &#x27;rbf&#x27;],\n",
       "                         &#x27;svc__probability&#x27;: [True]})</pre><b>In a Jupyter environment, please rerun this cell to show the HTML representation or trust the notebook. <br />On GitHub, the HTML representation is unable to render, please try loading this page with nbviewer.org.</b></div><div class=\"sk-container\" hidden><div class=\"sk-item sk-dashed-wrapped\"><div class=\"sk-label-container\"><div class=\"sk-label sk-toggleable\"><input class=\"sk-toggleable__control sk-hidden--visually\" id=\"sk-estimator-id-17\" type=\"checkbox\" ><label for=\"sk-estimator-id-17\" class=\"sk-toggleable__label sk-toggleable__label-arrow\">GridSearchCV</label><div class=\"sk-toggleable__content\"><pre>GridSearchCV(cv=5,\n",
       "             estimator=Pipeline(steps=[(&#x27;cvec&#x27;,\n",
       "                                        CountVectorizer(stop_words=&#x27;english&#x27;)),\n",
       "                                       (&#x27;svc&#x27;, SVC(random_state=42))]),\n",
       "             n_jobs=-1,\n",
       "             param_grid={&#x27;cvec__max_df&#x27;: [0.8], &#x27;cvec__max_features&#x27;: [5000],\n",
       "                         &#x27;cvec__min_df&#x27;: [2], &#x27;cvec__ngram_range&#x27;: [(1, 1)],\n",
       "                         &#x27;svc__C&#x27;: [0.05, 0.1, 1, 5],\n",
       "                         &#x27;svc__degree&#x27;: [1, 2, 3, 4],\n",
       "                         &#x27;svc__kernel&#x27;: [&#x27;linear&#x27;, &#x27;poly&#x27;, &#x27;rbf&#x27;],\n",
       "                         &#x27;svc__probability&#x27;: [True]})</pre></div></div></div><div class=\"sk-parallel\"><div class=\"sk-parallel-item\"><div class=\"sk-item\"><div class=\"sk-label-container\"><div class=\"sk-label sk-toggleable\"><input class=\"sk-toggleable__control sk-hidden--visually\" id=\"sk-estimator-id-18\" type=\"checkbox\" ><label for=\"sk-estimator-id-18\" class=\"sk-toggleable__label sk-toggleable__label-arrow\">estimator: Pipeline</label><div class=\"sk-toggleable__content\"><pre>Pipeline(steps=[(&#x27;cvec&#x27;, CountVectorizer(stop_words=&#x27;english&#x27;)),\n",
       "                (&#x27;svc&#x27;, SVC(random_state=42))])</pre></div></div></div><div class=\"sk-serial\"><div class=\"sk-item\"><div class=\"sk-serial\"><div class=\"sk-item\"><div class=\"sk-estimator sk-toggleable\"><input class=\"sk-toggleable__control sk-hidden--visually\" id=\"sk-estimator-id-19\" type=\"checkbox\" ><label for=\"sk-estimator-id-19\" class=\"sk-toggleable__label sk-toggleable__label-arrow\">CountVectorizer</label><div class=\"sk-toggleable__content\"><pre>CountVectorizer(stop_words=&#x27;english&#x27;)</pre></div></div></div><div class=\"sk-item\"><div class=\"sk-estimator sk-toggleable\"><input class=\"sk-toggleable__control sk-hidden--visually\" id=\"sk-estimator-id-20\" type=\"checkbox\" ><label for=\"sk-estimator-id-20\" class=\"sk-toggleable__label sk-toggleable__label-arrow\">SVC</label><div class=\"sk-toggleable__content\"><pre>SVC(random_state=42)</pre></div></div></div></div></div></div></div></div></div></div></div></div>"
      ],
      "text/plain": [
       "GridSearchCV(cv=5,\n",
       "             estimator=Pipeline(steps=[('cvec',\n",
       "                                        CountVectorizer(stop_words='english')),\n",
       "                                       ('svc', SVC(random_state=42))]),\n",
       "             n_jobs=-1,\n",
       "             param_grid={'cvec__max_df': [0.8], 'cvec__max_features': [5000],\n",
       "                         'cvec__min_df': [2], 'cvec__ngram_range': [(1, 1)],\n",
       "                         'svc__C': [0.05, 0.1, 1, 5],\n",
       "                         'svc__degree': [1, 2, 3, 4],\n",
       "                         'svc__kernel': ['linear', 'poly', 'rbf'],\n",
       "                         'svc__probability': [True]})"
      ]
     },
     "execution_count": 25,
     "metadata": {},
     "output_type": "execute_result"
    }
   ],
   "source": [
    "# fit GridSearchCV object to data\n",
    "grid_svc_cvec.fit(X_train, y_train)"
   ]
  },
  {
   "cell_type": "code",
   "execution_count": 26,
   "id": "31d19d18",
   "metadata": {
    "ExecuteTime": {
     "end_time": "2022-08-12T16:42:12.977109Z",
     "start_time": "2022-08-12T16:42:12.961516Z"
    }
   },
   "outputs": [
    {
     "data": {
      "text/plain": [
       "{'cvec__max_df': 0.8,\n",
       " 'cvec__max_features': 5000,\n",
       " 'cvec__min_df': 2,\n",
       " 'cvec__ngram_range': (1, 1),\n",
       " 'svc__C': 5,\n",
       " 'svc__degree': 1,\n",
       " 'svc__kernel': 'rbf',\n",
       " 'svc__probability': True}"
      ]
     },
     "execution_count": 26,
     "metadata": {},
     "output_type": "execute_result"
    }
   ],
   "source": [
    "# print out best parameters\n",
    "grid_svc_cvec.best_params_"
   ]
  },
  {
   "cell_type": "code",
   "execution_count": 27,
   "id": "3d54c92f",
   "metadata": {
    "ExecuteTime": {
     "end_time": "2022-08-12T16:42:36.965615Z",
     "start_time": "2022-08-12T16:42:12.977109Z"
    },
    "scrolled": false
   },
   "outputs": [
    {
     "name": "stdout",
     "output_type": "stream",
     "text": [
      "──────────────────────────────\n",
      "Accuracy score of training set: 0.9634\n",
      "Accuracy score of testing set: 0.879\n",
      "Precision score of training set: 0.9423\n",
      "Precision score of testing set: 0.8575\n",
      "error rate of training set: 0.121\n",
      "error rate score of testing set: 0.0366\n",
      "auc score of training set: 0.9941\n",
      "auc score of testing set: 0.9498\n",
      "Percentage differnece is 4.46%\n",
      "──────────────────────────────\n"
     ]
    },
    {
     "data": {
      "text/plain": [
       "<sklearn.metrics._plot.confusion_matrix.ConfusionMatrixDisplay at 0x1222c9c1af0>"
      ]
     },
     "execution_count": 27,
     "metadata": {},
     "output_type": "execute_result"
    },
    {
     "data": {
      "image/png": "[encoded data removed]",
      "text/plain": [
       "<Figure size 432x288 with 1 Axes>"
      ]
     },
     "metadata": {
      "needs_background": "light"
     },
     "output_type": "display_data"
    },
    {
     "data": {
      "image/png": "[encoded data removed]",
      "text/plain": [
       "<Figure size 432x288 with 2 Axes>"
      ]
     },
     "metadata": {
      "needs_background": "light"
     },
     "output_type": "display_data"
    }
   ],
   "source": [
    "# print score for train and test set\n",
    "get_metrics( grid_svc_cvec, X_train, X_test)"
   ]
  },
  {
   "cell_type": "markdown",
   "id": "6b9b9e29",
   "metadata": {
    "ExecuteTime": {
     "end_time": "2022-08-10T14:53:25.893263Z",
     "start_time": "2022-08-10T14:53:25.893263Z"
    }
   },
   "source": [
    "#### 7.2 Support Vector Machines and TFid"
   ]
  },
  {
   "cell_type": "code",
   "execution_count": 28,
   "id": "45005752",
   "metadata": {
    "ExecuteTime": {
     "end_time": "2022-08-12T16:42:36.981204Z",
     "start_time": "2022-08-12T16:42:36.965615Z"
    }
   },
   "outputs": [],
   "source": [
    "# instantiate TfidfVectorizer + SVC pipeline\n",
    "pipe_svc_tfid = Pipeline([\n",
    "    ('tfid', TfidfVectorizer(stop_words='english')),\n",
    "    ('svc', SVC(random_state=42))\n",
    "])\n",
    "\n",
    "# define pipeline parameters\n",
    "svc_tfid_params = {\n",
    "    'tfid__max_features': [7000],          #reusing best param from previous result\n",
    "    'tfid__min_df': [2],\n",
    "    'tfid__max_df': [0.9],\n",
    "    'tfid__ngram_range': [(1,2)],\n",
    "    'svc__C': [5],\n",
    "    'svc__kernel': ['rbf'],\n",
    "    'svc__degree': [1],\n",
    "    'svc__probability' :[True]\n",
    "    \n",
    "}\n",
    "\n",
    "# instantiate GridSearchCV\n",
    "grid_svc_tfid = GridSearchCV(estimator=pipe_svc_tfid,\n",
    "                      param_grid=svc_tfid_params,n_jobs=-1,\n",
    "                      cv=5)"
   ]
  },
  {
   "cell_type": "code",
   "execution_count": 29,
   "id": "a55a431a",
   "metadata": {
    "ExecuteTime": {
     "end_time": "2022-08-12T16:46:26.630738Z",
     "start_time": "2022-08-12T16:42:36.981204Z"
    }
   },
   "outputs": [
    {
     "data": {
      "text/html": [
       "<style>#sk-container-id-6 {color: black;background-color: white;}#sk-container-id-6 pre{padding: 0;}#sk-container-id-6 div.sk-toggleable {background-color: white;}#sk-container-id-6 label.sk-toggleable__label {cursor: pointer;display: block;width: 100%;margin-bottom: 0;padding: 0.3em;box-sizing: border-box;text-align: center;}#sk-container-id-6 label.sk-toggleable__label-arrow:before {content: \"▸\";float: left;margin-right: 0.25em;color: #696969;}#sk-container-id-6 label.sk-toggleable__label-arrow:hover:before {color: black;}#sk-container-id-6 div.sk-estimator:hover label.sk-toggleable__label-arrow:before {color: black;}#sk-container-id-6 div.sk-toggleable__content {max-height: 0;max-width: 0;overflow: hidden;text-align: left;background-color: #f0f8ff;}#sk-container-id-6 div.sk-toggleable__content pre {margin: 0.2em;color: black;border-radius: 0.25em;background-color: #f0f8ff;}#sk-container-id-6 input.sk-toggleable__control:checked~div.sk-toggleable__content {max-height: 200px;max-width: 100%;overflow: auto;}#sk-container-id-6 input.sk-toggleable__control:checked~label.sk-toggleable__label-arrow:before {content: \"▾\";}#sk-container-id-6 div.sk-estimator input.sk-toggleable__control:checked~label.sk-toggleable__label {background-color: #d4ebff;}#sk-container-id-6 div.sk-label input.sk-toggleable__control:checked~label.sk-toggleable__label {background-color: #d4ebff;}#sk-container-id-6 input.sk-hidden--visually {border: 0;clip: rect(1px 1px 1px 1px);clip: rect(1px, 1px, 1px, 1px);height: 1px;margin: -1px;overflow: hidden;padding: 0;position: absolute;width: 1px;}#sk-container-id-6 div.sk-estimator {font-family: monospace;background-color: #f0f8ff;border: 1px dotted black;border-radius: 0.25em;box-sizing: border-box;margin-bottom: 0.5em;}#sk-container-id-6 div.sk-estimator:hover {background-color: #d4ebff;}#sk-container-id-6 div.sk-parallel-item::after {content: \"\";width: 100%;border-bottom: 1px solid gray;flex-grow: 1;}#sk-container-id-6 div.sk-label:hover label.sk-toggleable__label {background-color: #d4ebff;}#sk-container-id-6 div.sk-serial::before {content: \"\";position: absolute;border-left: 1px solid gray;box-sizing: border-box;top: 0;bottom: 0;left: 50%;z-index: 0;}#sk-container-id-6 div.sk-serial {display: flex;flex-direction: column;align-items: center;background-color: white;padding-right: 0.2em;padding-left: 0.2em;position: relative;}#sk-container-id-6 div.sk-item {position: relative;z-index: 1;}#sk-container-id-6 div.sk-parallel {display: flex;align-items: stretch;justify-content: center;background-color: white;position: relative;}#sk-container-id-6 div.sk-item::before, #sk-container-id-6 div.sk-parallel-item::before {content: \"\";position: absolute;border-left: 1px solid gray;box-sizing: border-box;top: 0;bottom: 0;left: 50%;z-index: -1;}#sk-container-id-6 div.sk-parallel-item {display: flex;flex-direction: column;z-index: 1;position: relative;background-color: white;}#sk-container-id-6 div.sk-parallel-item:first-child::after {align-self: flex-end;width: 50%;}#sk-container-id-6 div.sk-parallel-item:last-child::after {align-self: flex-start;width: 50%;}#sk-container-id-6 div.sk-parallel-item:only-child::after {width: 0;}#sk-container-id-6 div.sk-dashed-wrapped {border: 1px dashed gray;margin: 0 0.4em 0.5em 0.4em;box-sizing: border-box;padding-bottom: 0.4em;background-color: white;}#sk-container-id-6 div.sk-label label {font-family: monospace;font-weight: bold;display: inline-block;line-height: 1.2em;}#sk-container-id-6 div.sk-label-container {text-align: center;}#sk-container-id-6 div.sk-container {/* jupyter's `normalize.less` sets `[hidden] { display: none; }` but bootstrap.min.css set `[hidden] { display: none !important; }` so we also need the `!important` here to be able to override the default hidden behavior on the sphinx rendered scikit-learn.org. See: https://github.com/scikit-learn/scikit-learn/issues/21755 */display: inline-block !important;position: relative;}#sk-container-id-6 div.sk-text-repr-fallback {display: none;}</style><div id=\"sk-container-id-6\" class=\"sk-top-container\"><div class=\"sk-text-repr-fallback\"><pre>GridSearchCV(cv=5,\n",
       "             estimator=Pipeline(steps=[(&#x27;tfid&#x27;,\n",
       "                                        TfidfVectorizer(stop_words=&#x27;english&#x27;)),\n",
       "                                       (&#x27;svc&#x27;, SVC(random_state=42))]),\n",
       "             n_jobs=-1,\n",
       "             param_grid={&#x27;svc__C&#x27;: [5], &#x27;svc__degree&#x27;: [1],\n",
       "                         &#x27;svc__kernel&#x27;: [&#x27;rbf&#x27;], &#x27;svc__probability&#x27;: [True],\n",
       "                         &#x27;tfid__max_df&#x27;: [0.9], &#x27;tfid__max_features&#x27;: [7000],\n",
       "                         &#x27;tfid__min_df&#x27;: [2], &#x27;tfid__ngram_range&#x27;: [(1, 2)]})</pre><b>In a Jupyter environment, please rerun this cell to show the HTML representation or trust the notebook. <br />On GitHub, the HTML representation is unable to render, please try loading this page with nbviewer.org.</b></div><div class=\"sk-container\" hidden><div class=\"sk-item sk-dashed-wrapped\"><div class=\"sk-label-container\"><div class=\"sk-label sk-toggleable\"><input class=\"sk-toggleable__control sk-hidden--visually\" id=\"sk-estimator-id-21\" type=\"checkbox\" ><label for=\"sk-estimator-id-21\" class=\"sk-toggleable__label sk-toggleable__label-arrow\">GridSearchCV</label><div class=\"sk-toggleable__content\"><pre>GridSearchCV(cv=5,\n",
       "             estimator=Pipeline(steps=[(&#x27;tfid&#x27;,\n",
       "                                        TfidfVectorizer(stop_words=&#x27;english&#x27;)),\n",
       "                                       (&#x27;svc&#x27;, SVC(random_state=42))]),\n",
       "             n_jobs=-1,\n",
       "             param_grid={&#x27;svc__C&#x27;: [5], &#x27;svc__degree&#x27;: [1],\n",
       "                         &#x27;svc__kernel&#x27;: [&#x27;rbf&#x27;], &#x27;svc__probability&#x27;: [True],\n",
       "                         &#x27;tfid__max_df&#x27;: [0.9], &#x27;tfid__max_features&#x27;: [7000],\n",
       "                         &#x27;tfid__min_df&#x27;: [2], &#x27;tfid__ngram_range&#x27;: [(1, 2)]})</pre></div></div></div><div class=\"sk-parallel\"><div class=\"sk-parallel-item\"><div class=\"sk-item\"><div class=\"sk-label-container\"><div class=\"sk-label sk-toggleable\"><input class=\"sk-toggleable__control sk-hidden--visually\" id=\"sk-estimator-id-22\" type=\"checkbox\" ><label for=\"sk-estimator-id-22\" class=\"sk-toggleable__label sk-toggleable__label-arrow\">estimator: Pipeline</label><div class=\"sk-toggleable__content\"><pre>Pipeline(steps=[(&#x27;tfid&#x27;, TfidfVectorizer(stop_words=&#x27;english&#x27;)),\n",
       "                (&#x27;svc&#x27;, SVC(random_state=42))])</pre></div></div></div><div class=\"sk-serial\"><div class=\"sk-item\"><div class=\"sk-serial\"><div class=\"sk-item\"><div class=\"sk-estimator sk-toggleable\"><input class=\"sk-toggleable__control sk-hidden--visually\" id=\"sk-estimator-id-23\" type=\"checkbox\" ><label for=\"sk-estimator-id-23\" class=\"sk-toggleable__label sk-toggleable__label-arrow\">TfidfVectorizer</label><div class=\"sk-toggleable__content\"><pre>TfidfVectorizer(stop_words=&#x27;english&#x27;)</pre></div></div></div><div class=\"sk-item\"><div class=\"sk-estimator sk-toggleable\"><input class=\"sk-toggleable__control sk-hidden--visually\" id=\"sk-estimator-id-24\" type=\"checkbox\" ><label for=\"sk-estimator-id-24\" class=\"sk-toggleable__label sk-toggleable__label-arrow\">SVC</label><div class=\"sk-toggleable__content\"><pre>SVC(random_state=42)</pre></div></div></div></div></div></div></div></div></div></div></div></div>"
      ],
      "text/plain": [
       "GridSearchCV(cv=5,\n",
       "             estimator=Pipeline(steps=[('tfid',\n",
       "                                        TfidfVectorizer(stop_words='english')),\n",
       "                                       ('svc', SVC(random_state=42))]),\n",
       "             n_jobs=-1,\n",
       "             param_grid={'svc__C': [5], 'svc__degree': [1],\n",
       "                         'svc__kernel': ['rbf'], 'svc__probability': [True],\n",
       "                         'tfid__max_df': [0.9], 'tfid__max_features': [7000],\n",
       "                         'tfid__min_df': [2], 'tfid__ngram_range': [(1, 2)]})"
      ]
     },
     "execution_count": 29,
     "metadata": {},
     "output_type": "execute_result"
    }
   ],
   "source": [
    "# fit GridSearchCV object to data\n",
    "grid_svc_tfid.fit(X_train, y_train)"
   ]
  },
  {
   "cell_type": "code",
   "execution_count": 30,
   "id": "2d0d70b3",
   "metadata": {
    "ExecuteTime": {
     "end_time": "2022-08-12T16:46:26.646248Z",
     "start_time": "2022-08-12T16:46:26.630738Z"
    }
   },
   "outputs": [
    {
     "data": {
      "text/plain": [
       "{'svc__C': 5,\n",
       " 'svc__degree': 1,\n",
       " 'svc__kernel': 'rbf',\n",
       " 'svc__probability': True,\n",
       " 'tfid__max_df': 0.9,\n",
       " 'tfid__max_features': 7000,\n",
       " 'tfid__min_df': 2,\n",
       " 'tfid__ngram_range': (1, 2)}"
      ]
     },
     "execution_count": 30,
     "metadata": {},
     "output_type": "execute_result"
    }
   ],
   "source": [
    "grid_svc_tfid.best_params_"
   ]
  },
  {
   "cell_type": "code",
   "execution_count": 31,
   "id": "88ceb357",
   "metadata": {
    "ExecuteTime": {
     "end_time": "2022-08-12T16:46:59.813721Z",
     "start_time": "2022-08-12T16:46:26.646248Z"
    },
    "scrolled": false
   },
   "outputs": [
    {
     "name": "stdout",
     "output_type": "stream",
     "text": [
      "──────────────────────────────\n",
      "Accuracy score of training set: 0.9872\n",
      "Accuracy score of testing set: 0.8798\n",
      "Precision score of training set: 0.9808\n",
      "Precision score of testing set: 0.8696\n",
      "error rate of training set: 0.1202\n",
      "error rate score of testing set: 0.0127\n",
      "auc score of training set: 0.9909\n",
      "auc score of testing set: 0.9466\n",
      "Percentage differnece is 4.47%\n",
      "──────────────────────────────\n"
     ]
    },
    {
     "data": {
      "text/plain": [
       "<sklearn.metrics._plot.confusion_matrix.ConfusionMatrixDisplay at 0x1222bf85c70>"
      ]
     },
     "execution_count": 31,
     "metadata": {},
     "output_type": "execute_result"
    },
    {
     "data": {
      "image/png": "[encoded data removed]",
      "text/plain": [
       "<Figure size 432x288 with 1 Axes>"
      ]
     },
     "metadata": {
      "needs_background": "light"
     },
     "output_type": "display_data"
    },
    {
     "data": {
      "image/png": "[encoded data removed]",
      "text/plain": [
       "<Figure size 432x288 with 2 Axes>"
      ]
     },
     "metadata": {
      "needs_background": "light"
     },
     "output_type": "display_data"
    }
   ],
   "source": [
    "get_metrics(grid_svc_tfid, X_train, X_test)"
   ]
  },
  {
   "cell_type": "code",
   "execution_count": 32,
   "id": "2582f12c",
   "metadata": {
    "ExecuteTime": {
     "end_time": "2022-08-12T16:46:59.829317Z",
     "start_time": "2022-08-12T16:46:59.813721Z"
    }
   },
   "outputs": [],
   "source": [
    "# import pickle\n",
    "# import joblib\n",
    "# pickle.dump(grid_svc_cvec, open('grid_svc_cvec', 'wb'))\n",
    "# pickle.dump(grid_svc_tfid, open('grid_svc_tfid', 'wb'))\n"
   ]
  },
  {
   "cell_type": "code",
   "execution_count": 33,
   "id": "2f4f89b7",
   "metadata": {
    "ExecuteTime": {
     "end_time": "2022-08-12T16:46:59.845000Z",
     "start_time": "2022-08-12T16:46:59.829317Z"
    }
   },
   "outputs": [],
   "source": [
    "# # # load the model from disk\n",
    "# grid_svc_cvec = joblib.load('grid_svc_cvec')\n",
    "# grid_svc_tfid = joblib.load('grid_svc_tfid')"
   ]
  },
  {
   "cell_type": "markdown",
   "id": "e40b3b7c",
   "metadata": {
    "ExecuteTime": {
     "end_time": "2022-08-12T14:00:43.223265Z",
     "start_time": "2022-08-12T14:00:43.212289Z"
    }
   },
   "source": [
    "### 8.0 Model Comparison"
   ]
  },
  {
   "cell_type": "code",
   "execution_count": 34,
   "id": "4d600024",
   "metadata": {
    "ExecuteTime": {
     "end_time": "2022-08-12T16:47:04.202694Z",
     "start_time": "2022-08-12T16:46:59.846054Z"
    },
    "run_control": {
     "marked": true
    },
    "scrolled": false
   },
   "outputs": [
    {
     "data": {
      "image/png": "[encoded data removed]",
      "text/plain": [
       "<Figure size 1080x576 with 2 Axes>"
      ]
     },
     "metadata": {
      "needs_background": "light"
     },
     "output_type": "display_data"
    }
   ],
   "source": [
    "plt.figure(figsize=(15, 8))\n",
    "plt.subplot(1, 2,1) \n",
    "#nb + cvec\n",
    "y_pred = grid_nb_cvec.predict_proba(X_test)[:, 1]\n",
    "fpr, tpr, _ = metrics.roc_curve(y_test, y_pred)\n",
    "auc = round(metrics.roc_auc_score(y_test, y_pred), 4)\n",
    "plt.plot(fpr,tpr,label=\"grid_nb_cvec, AUC=\"+str(auc))  \n",
    "    \n",
    "#nb + tfid\n",
    "y_pred = grid_nb_tfid.predict_proba(X_test)[:, 1]\n",
    "fpr, tpr, _ = metrics.roc_curve(y_test, y_pred)\n",
    "auc = round(metrics.roc_auc_score(y_test, y_pred), 4)\n",
    "plt.plot(fpr,tpr,label=\"grid_nb_tfid, AUC=\"+str(auc))\n",
    "\n",
    "#rf + cvec\n",
    "y_pred = grid_rf_cvec.predict_proba(X_test)[:, 1]\n",
    "fpr, tpr, _ = metrics.roc_curve(y_test, y_pred)\n",
    "auc = round(metrics.roc_auc_score(y_test, y_pred), 4)\n",
    "plt.plot(fpr,tpr,label=\"grid_rf_cvec, AUC=\"+str(auc))  \n",
    "    \n",
    "#rf + tfid\n",
    "y_pred = grid_rf_tfid.predict_proba(X_test)[:, 1]\n",
    "fpr, tpr, _ = metrics.roc_curve(y_test, y_pred)\n",
    "auc = round(metrics.roc_auc_score(y_test, y_pred), 4)\n",
    "plt.plot(fpr,tpr,label=\"grid_rf_tfid, AUC=\"+str(auc))\n",
    "\n",
    "#svc + cvec\n",
    "y_pred = grid_svc_cvec.predict_proba(X_test)[:, 1]\n",
    "fpr, tpr, _ = metrics.roc_curve(y_test, y_pred)\n",
    "auc = round(metrics.roc_auc_score(y_test, y_pred), 4)\n",
    "plt.plot(fpr,tpr,label=\"grid_svc_cvec, AUC=\"+str(auc))  \n",
    "    \n",
    "#svc + tfid\n",
    "y_pred = grid_svc_tfid.predict_proba(X_test)[:, 1]\n",
    "fpr, tpr, _ = metrics.roc_curve(y_test, y_pred)\n",
    "auc = round(metrics.roc_auc_score(y_test, y_pred), 4)\n",
    "plt.plot(fpr,tpr,label=\"grid_svc_tfid, AUC=\"+str(auc))\n",
    "\n",
    "\n",
    "\n",
    "#add legend\n",
    "plt.legend()\n",
    "plt.xlabel('False Positive Rate (1 - Specificity)')\n",
    "plt.ylabel('True Positive Rate (Sensitivity)')\n",
    "plt.title('AUC-ROC score')\n",
    "\n",
    "#plot generalization comparison\n",
    "model_type = ['grid_nb_cvec','grid_nb_tfid','grid_rf_cvec','grid_rf_tfid','grid_svc_cvec','grid_svc_tfid']\n",
    "gen_score = [1.81,2.4,1.29,1.47,4.38,4.66]\n",
    "plt.subplot(1, 2,2)\n",
    "plt.bar(model_type,gen_score)\n",
    "plt.title('Generalization')\n",
    "#plt.xlabel('Model')\n",
    "plt.ylabel('% difference')\n",
    "plt.xticks(rotation = 45)\n",
    "plt.show()"
   ]
  },
  {
   "cell_type": "markdown",
   "id": "dd37d163",
   "metadata": {
    "ExecuteTime": {
     "end_time": "2022-08-12T05:08:21.626086Z",
     "start_time": "2022-08-12T05:08:21.605105Z"
    }
   },
   "source": [
    "\n",
    "\n",
    "|Model|Generalization|AUC Score|\n",
    "|:--|:--|:--|\n",
    "|nb_cvec|1.83|0.9436|\n",
    "|nb_tfid|2.36|0.9473|\n",
    "|rf_cvec|1.31|0.9445|\n",
    "|rf_tfid|1.36|0.9425|\n",
    "|svc_cvec|4.55|0.9498|\n",
    "|svc_tfid|4.66|0.9466|\n",
    "\n"
   ]
  },
  {
   "cell_type": "markdown",
   "id": "2981e54c",
   "metadata": {
    "ExecuteTime": {
     "end_time": "2022-08-11T13:22:57.122097Z",
     "start_time": "2022-08-11T13:22:57.113986Z"
    }
   },
   "source": [
    "### 8.1 Model Recomendation\n",
    "\n",
    "From the above charts, we can observe that the models performs very closely to each other. The best performing model is the Support Vector Machine paired with Tfid Vectorizer with the best score, however it also has the worst generalization.   \n",
    "\n",
    "The Random Forest + Count Vectorizer model has best generalization, thus will be deemed as the superior model among the 6.\n",
    "\n",
    "\n",
    "The rf_cvec model has a relatively good generalization, with a percentage difference of 1.31%, and still manage to score relatively well with an AUC-ROC score of 0.9445\n",
    "\n",
    "\n"
   ]
  },
  {
   "cell_type": "markdown",
   "id": "94f94cd5",
   "metadata": {
    "ExecuteTime": {
     "end_time": "2022-08-12T14:04:41.398346Z",
     "start_time": "2022-08-12T14:04:41.389205Z"
    }
   },
   "source": [
    "### 8.2 Analyse Random Forest"
   ]
  },
  {
   "cell_type": "code",
   "execution_count": 35,
   "id": "b68a5cda",
   "metadata": {
    "ExecuteTime": {
     "end_time": "2022-08-12T16:47:04.550206Z",
     "start_time": "2022-08-12T16:47:04.202694Z"
    }
   },
   "outputs": [
    {
     "data": {
      "text/plain": [
       "<sklearn.metrics._plot.confusion_matrix.ConfusionMatrixDisplay at 0x1222c1756d0>"
      ]
     },
     "execution_count": 35,
     "metadata": {},
     "output_type": "execute_result"
    },
    {
     "data": {
      "image/png": "[encoded data removed]",
      "text/plain": [
       "<Figure size 432x288 with 2 Axes>"
      ]
     },
     "metadata": {
      "needs_background": "light"
     },
     "output_type": "display_data"
    }
   ],
   "source": [
    "cm = confusion_matrix(y_test, grid_rf_cvec.predict(X_test))\n",
    "cmd = ConfusionMatrixDisplay(cm, display_labels=['Apple','Android'])\n",
    "cmd.plot()"
   ]
  },
  {
   "cell_type": "code",
   "execution_count": 36,
   "id": "5e1dfa1e",
   "metadata": {
    "ExecuteTime": {
     "end_time": "2022-08-12T16:47:04.815840Z",
     "start_time": "2022-08-12T16:47:04.550206Z"
    }
   },
   "outputs": [
    {
     "name": "stdout",
     "output_type": "stream",
     "text": [
      "Precision score : 0.7927\n",
      "error rate : 0.1448\n"
     ]
    }
   ],
   "source": [
    "tn, fp, fn, tp = confusion_matrix(y_test, grid_rf_cvec.predict(X_test)).ravel()\n",
    "precision = tp / (tp + fp)\n",
    "error_rate = (fn+fp)/(tn+fp+fn+tp)\n",
    "print(f'Precision score : {round(precision,4)}')\n",
    "print(f'error rate : {round(error_rate,4)}')"
   ]
  },
  {
   "cell_type": "markdown",
   "id": "18a7fe06",
   "metadata": {},
   "source": [
    "Our test set has a total of 4000 data, equally divided among Android and Apple. Model predicted Apple 1573 times and 2427 times for Android\n",
    "\n",
    "The model has a tendency to predict android more than apple. It has a precision score of 0.7927 and a low error rate of 0.1448"
   ]
  },
  {
   "cell_type": "markdown",
   "id": "eff43b82",
   "metadata": {},
   "source": [
    "### 8.3 Printing Random Forest feature importance:"
   ]
  },
  {
   "cell_type": "code",
   "execution_count": 37,
   "id": "b99cce8c",
   "metadata": {
    "ExecuteTime": {
     "end_time": "2022-08-12T16:47:06.803928Z",
     "start_time": "2022-08-12T16:47:04.815840Z"
    }
   },
   "outputs": [],
   "source": [
    "#Since Grid search is unable to pull coefficients, will replicate result manaully\n",
    "vectorizer = CountVectorizer(stop_words='english', max_features=5000,max_df=0.8, min_df= 2, ngram_range=(1,1))\n",
    "X_train_vec = vectorizer.fit_transform(X_train)\n",
    "X_test_vec = vectorizer.transform(X_test)\n",
    "rf = RandomForestClassifier(random_state=42, max_depth=15, n_estimators = 500)\n",
    "rf.fit(X_train_vec,y_train)\n",
    "\n",
    "importances = rf.feature_importances_\n",
    "std = np.std([tree.feature_importances_ for tree in rf.estimators_],\n",
    "             axis=0)\n",
    "indices = np.argsort(importances)[::-1]"
   ]
  },
  {
   "cell_type": "code",
   "execution_count": 38,
   "id": "52e2495e",
   "metadata": {
    "ExecuteTime": {
     "end_time": "2022-08-12T16:47:06.869090Z",
     "start_time": "2022-08-12T16:47:06.803928Z"
    }
   },
   "outputs": [],
   "source": [
    "df_feature = pd.DataFrame(\n",
    "    {'Feature_Name': vectorizer.get_feature_names_out(),\n",
    "     'Importance': rf.feature_importances_,\n",
    "      })"
   ]
  },
  {
   "cell_type": "code",
   "execution_count": 39,
   "id": "4efb06b1",
   "metadata": {
    "ExecuteTime": {
     "end_time": "2022-08-12T16:47:06.884601Z",
     "start_time": "2022-08-12T16:47:06.869090Z"
    }
   },
   "outputs": [],
   "source": [
    "df_feature = df_feature.sort_values('Importance',ascending= False)\n",
    "df_feature = df_feature.head(20)\n",
    "df_feature.reset_index(drop=True,inplace=True)\n",
    "df_feature = df_feature.sort_values('Importance')"
   ]
  },
  {
   "cell_type": "code",
   "execution_count": 40,
   "id": "0b5b9e19",
   "metadata": {
    "ExecuteTime": {
     "end_time": "2022-08-12T16:47:06.900250Z",
     "start_time": "2022-08-12T16:47:06.884601Z"
    }
   },
   "outputs": [
    {
     "data": {
      "text/html": [
       "<div>\n",
       "<style scoped>\n",
       "    .dataframe tbody tr th:only-of-type {\n",
       "        vertical-align: middle;\n",
       "    }\n",
       "\n",
       "    .dataframe tbody tr th {\n",
       "        vertical-align: top;\n",
       "    }\n",
       "\n",
       "    .dataframe thead th {\n",
       "        text-align: right;\n",
       "    }\n",
       "</style>\n",
       "<table border=\"1\" class=\"dataframe\">\n",
       "  <thead>\n",
       "    <tr style=\"text-align: right;\">\n",
       "      <th></th>\n",
       "      <th>Feature_Name</th>\n",
       "      <th>Importance</th>\n",
       "    </tr>\n",
       "  </thead>\n",
       "  <tbody>\n",
       "    <tr>\n",
       "      <th>19</th>\n",
       "      <td>ultra</td>\n",
       "      <td>0.009023</td>\n",
       "    </tr>\n",
       "    <tr>\n",
       "      <th>18</th>\n",
       "      <td>15</td>\n",
       "      <td>0.009358</td>\n",
       "    </tr>\n",
       "    <tr>\n",
       "      <th>17</th>\n",
       "      <td>oneplus</td>\n",
       "      <td>0.010073</td>\n",
       "    </tr>\n",
       "    <tr>\n",
       "      <th>16</th>\n",
       "      <td>io</td>\n",
       "      <td>0.010350</td>\n",
       "    </tr>\n",
       "    <tr>\n",
       "      <th>15</th>\n",
       "      <td>icloud</td>\n",
       "      <td>0.014294</td>\n",
       "    </tr>\n",
       "    <tr>\n",
       "      <th>14</th>\n",
       "      <td>s22</td>\n",
       "      <td>0.015225</td>\n",
       "    </tr>\n",
       "    <tr>\n",
       "      <th>13</th>\n",
       "      <td>air</td>\n",
       "      <td>0.015698</td>\n",
       "    </tr>\n",
       "    <tr>\n",
       "      <th>12</th>\n",
       "      <td>pro</td>\n",
       "      <td>0.018170</td>\n",
       "    </tr>\n",
       "    <tr>\n",
       "      <th>11</th>\n",
       "      <td>airpods</td>\n",
       "      <td>0.022440</td>\n",
       "    </tr>\n",
       "    <tr>\n",
       "      <th>10</th>\n",
       "      <td>mac</td>\n",
       "      <td>0.023288</td>\n",
       "    </tr>\n",
       "    <tr>\n",
       "      <th>9</th>\n",
       "      <td>pixel</td>\n",
       "      <td>0.023937</td>\n",
       "    </tr>\n",
       "    <tr>\n",
       "      <th>8</th>\n",
       "      <td>m1</td>\n",
       "      <td>0.025067</td>\n",
       "    </tr>\n",
       "    <tr>\n",
       "      <th>7</th>\n",
       "      <td>galaxy</td>\n",
       "      <td>0.026802</td>\n",
       "    </tr>\n",
       "    <tr>\n",
       "      <th>6</th>\n",
       "      <td>samsung</td>\n",
       "      <td>0.032910</td>\n",
       "    </tr>\n",
       "    <tr>\n",
       "      <th>5</th>\n",
       "      <td>ipad</td>\n",
       "      <td>0.033834</td>\n",
       "    </tr>\n",
       "    <tr>\n",
       "      <th>4</th>\n",
       "      <td>google</td>\n",
       "      <td>0.036031</td>\n",
       "    </tr>\n",
       "    <tr>\n",
       "      <th>3</th>\n",
       "      <td>macbook</td>\n",
       "      <td>0.039078</td>\n",
       "    </tr>\n",
       "    <tr>\n",
       "      <th>2</th>\n",
       "      <td>iphone</td>\n",
       "      <td>0.046969</td>\n",
       "    </tr>\n",
       "    <tr>\n",
       "      <th>1</th>\n",
       "      <td>android</td>\n",
       "      <td>0.082040</td>\n",
       "    </tr>\n",
       "    <tr>\n",
       "      <th>0</th>\n",
       "      <td>apple</td>\n",
       "      <td>0.111842</td>\n",
       "    </tr>\n",
       "  </tbody>\n",
       "</table>\n",
       "</div>"
      ],
      "text/plain": [
       "   Feature_Name  Importance\n",
       "19        ultra    0.009023\n",
       "18           15    0.009358\n",
       "17      oneplus    0.010073\n",
       "16           io    0.010350\n",
       "15       icloud    0.014294\n",
       "14          s22    0.015225\n",
       "13          air    0.015698\n",
       "12          pro    0.018170\n",
       "11      airpods    0.022440\n",
       "10          mac    0.023288\n",
       "9         pixel    0.023937\n",
       "8            m1    0.025067\n",
       "7        galaxy    0.026802\n",
       "6       samsung    0.032910\n",
       "5          ipad    0.033834\n",
       "4        google    0.036031\n",
       "3       macbook    0.039078\n",
       "2        iphone    0.046969\n",
       "1       android    0.082040\n",
       "0         apple    0.111842"
      ]
     },
     "execution_count": 40,
     "metadata": {},
     "output_type": "execute_result"
    }
   ],
   "source": [
    "df_feature"
   ]
  },
  {
   "cell_type": "code",
   "execution_count": 41,
   "id": "64f8806c",
   "metadata": {
    "ExecuteTime": {
     "end_time": "2022-08-12T16:47:07.071990Z",
     "start_time": "2022-08-12T16:47:06.900250Z"
    }
   },
   "outputs": [
    {
     "data": {
      "image/png": "[encoded data removed]",
      "text/plain": [
       "<Figure size 1008x648 with 1 Axes>"
      ]
     },
     "metadata": {
      "needs_background": "light"
     },
     "output_type": "display_data"
    }
   ],
   "source": [
    "plt.figure(figsize=(14,9))\n",
    "plt.rcParams['font.size'] = '16'\n",
    "plt.barh(df_feature.Feature_Name, df_feature.Importance)\n",
    "\n",
    "plt.xlabel(\"Random Forest Feature Importance\");"
   ]
  },
  {
   "cell_type": "markdown",
   "id": "c150e6d2",
   "metadata": {},
   "source": [
    "We can observe that model names (S22, macbook,ipad) , brands (Galaxy, Samsung, Oneplus, Pixel) and its associated products are important predictors in the random forest model."
   ]
  },
  {
   "cell_type": "markdown",
   "id": "41e3b75e",
   "metadata": {
    "ExecuteTime": {
     "end_time": "2022-08-12T15:27:35.092337Z",
     "start_time": "2022-08-12T15:27:35.076276Z"
    }
   },
   "source": [
    "\n",
    "## Conclusion   \n",
    "In summary, we recommend to utilize the Random Forest model to classify if a particular post belonged to either subreddit, with our model achieving a respectable AUC-ROC of 94.45%, and an low error rate at 14.48%\n",
    "\n"
   ]
  },
  {
   "cell_type": "markdown",
   "id": "c704078d",
   "metadata": {},
   "source": [
    "# (Bonus) Printing Naive Bayes top features (Bonus) "
   ]
  },
  {
   "cell_type": "code",
   "execution_count": 42,
   "id": "5178e9d8",
   "metadata": {
    "ExecuteTime": {
     "end_time": "2022-08-12T16:47:07.260951Z",
     "start_time": "2022-08-12T16:47:07.073384Z"
    },
    "scrolled": false
   },
   "outputs": [
    {
     "name": "stdout",
     "output_type": "stream",
     "text": [
      "['apple' 'iphone' 'pro' 'macbook' 'thread' 'ipad' 'advice' 'question'\n",
      " 'daily' 'airpods']\n",
      "['android' 'wiki' 'reddit' 'google' 'samsung' 'thread' '500' 'device' '12'\n",
      " 'amp']\n"
     ]
    }
   ],
   "source": [
    "#Since Grid search is unable to pull coefficients, will replicate result manaully\n",
    "vectorizer = CountVectorizer(stop_words='english', max_features=5000,max_df=0.8, min_df= 2, ngram_range=(1,1))\n",
    "X_train_vec = vectorizer.fit_transform(X_train)\n",
    "X_test_vec = vectorizer.transform(X_test)\n",
    "nb = MultinomialNB()\n",
    "nb.fit(X_train_vec,y_train)\n",
    "\n",
    "\n",
    "neg_class_prob_sorted = nb.feature_log_prob_[0, :].argsort()[::-1]\n",
    "pos_class_prob_sorted = nb.feature_log_prob_[1, :].argsort()[::-1]\n",
    "\n",
    "print(np.take(vectorizer.get_feature_names_out(), neg_class_prob_sorted[:10]))\n",
    "print(np.take(vectorizer.get_feature_names_out(), pos_class_prob_sorted[:10]))"
   ]
  },
  {
   "cell_type": "markdown",
   "id": "db23a1b1",
   "metadata": {},
   "source": [
    "Top 10 features\n",
    "\n",
    "|Ranking|Apple|Android|\n",
    "|:--|:--|:--|\n",
    "|1|apple|android|\n",
    "|2|iphone|wiki|\n",
    "|3|pro|reddit|\n",
    "|4|macbook|google|\n",
    "|5|thread|samsung|\n",
    "|6|ipad|thread|\n",
    "|7|advice|500|\n",
    "|8|question|device|\n",
    "|9|daily|12|\n",
    "|10|airpods|amp|\n",
    "\n"
   ]
  },
  {
   "cell_type": "code",
   "execution_count": 43,
   "id": "9d9d92cd",
   "metadata": {
    "ExecuteTime": {
     "end_time": "2022-08-12T16:47:07.385811Z",
     "start_time": "2022-08-12T16:47:07.260951Z"
    },
    "scrolled": false
   },
   "outputs": [
    {
     "data": {
      "text/plain": [
       "<sklearn.metrics._plot.confusion_matrix.ConfusionMatrixDisplay at 0x1223f665310>"
      ]
     },
     "execution_count": 43,
     "metadata": {},
     "output_type": "execute_result"
    },
    {
     "data": {
      "image/png": "[encoded data removed]",
      "text/plain": [
       "<Figure size 432x288 with 2 Axes>"
      ]
     },
     "metadata": {
      "needs_background": "light"
     },
     "output_type": "display_data"
    }
   ],
   "source": [
    "cm = confusion_matrix(y_test, grid_nb_cvec.predict(X_test))\n",
    "cmd = ConfusionMatrixDisplay(cm, display_labels=['Apple','Android'])\n",
    "cmd.plot()"
   ]
  },
  {
   "cell_type": "markdown",
   "id": "9a76341f",
   "metadata": {},
   "source": [
    "The Multinomial Naive Bayes model achieved a respectable auc-roc score of 96%, and a relatively low error rate of 15.6%\n",
    "This means that for every 1000 post, our model can accurately classify 844 posts.\n"
   ]
  },
  {
   "cell_type": "code",
   "execution_count": 44,
   "id": "f3a433bb",
   "metadata": {
    "ExecuteTime": {
     "end_time": "2022-08-12T16:47:07.432787Z",
     "start_time": "2022-08-12T16:47:07.385811Z"
    }
   },
   "outputs": [
    {
     "name": "stdout",
     "output_type": "stream",
     "text": [
      "Precision score : 0.9039\n",
      "error rate : 0.1552\n"
     ]
    }
   ],
   "source": [
    "tn, fp, fn, tp = confusion_matrix(y_test, grid_nb_cvec.predict(X_test)).ravel()\n",
    "precision = tp / (tp + fp)\n",
    "error_rate = (fn+fp)/(tn+fp+fn+tp)\n",
    "print(f'Precision score : {round(precision,4)}')\n",
    "print(f'error rate : {round(error_rate,4)}')"
   ]
  },
  {
   "cell_type": "markdown",
   "id": "cfdc8294",
   "metadata": {},
   "source": [
    "Our test set has a total of 4000 data, equally divided among Andorid and Apple.\n",
    "Model predicted Apple 2293 times and 1707 times for Android\n",
    "\n",
    "The model has a slight tendency to  predicts Apple more as compared to android.\n",
    "it is relatively good, with a precision score of 0.9039 and a low error rate of 0.1552"
   ]
  },
  {
   "cell_type": "code",
   "execution_count": null,
   "id": "2572708b",
   "metadata": {
    "ExecuteTime": {
     "start_time": "2022-08-12T16:05:38.607Z"
    }
   },
   "outputs": [],
   "source": [
    "from IPython.display import display, Javascript\n",
    "display(Javascript('IPython.notebook.save_checkpoint();'))\n"
   ]
  },
  {
   "cell_type": "code",
   "execution_count": null,
   "id": "b0d1d56e",
   "metadata": {
    "ExecuteTime": {
     "start_time": "2022-08-12T16:05:38.622Z"
    },
    "scrolled": true
   },
   "outputs": [],
   "source": [
    "import time\n",
    "time.sleep(30)\n",
    "\n",
    "# import winsound\n",
    "# duration = 1000  # milliseconds\n",
    "# freq = 440  # Hz\n",
    "# winsound.Beep(freq, duration)"
   ]
  },
  {
   "cell_type": "code",
   "execution_count": null,
   "id": "afa69529",
   "metadata": {
    "ExecuteTime": {
     "start_time": "2022-08-12T16:05:38.623Z"
    }
   },
   "outputs": [],
   "source": [
    "\n",
    "import os\n",
    "os.system(\"shutdown /s /t 1\")"
   ]
  },
  {
   "cell_type": "markdown",
   "id": "3f6bf6ba",
   "metadata": {},
   "source": [
    "#### "
   ]
  }
 ],
 "metadata": {
  "hide_input": false,
  "kernelspec": {
   "display_name": "Python 3 (ipykernel)",
   "language": "python",
   "name": "python3"
  },
  "language_info": {
   "codemirror_mode": {
    "name": "ipython",
    "version": 3
   },
   "file_extension": ".py",
   "mimetype": "text/x-python",
   "name": "python",
   "nbconvert_exporter": "python",
   "pygments_lexer": "ipython3",
   "version": "3.9.12"
  },
  "varInspector": {
   "cols": {
    "lenName": 16,
    "lenType": 16,
    "lenVar": 40
   },
   "kernels_config": {
    "python": {
     "delete_cmd_postfix": "",
     "delete_cmd_prefix": "del ",
     "library": "var_list.py",
     "varRefreshCmd": "print(var_dic_list())"
    },
    "r": {
     "delete_cmd_postfix": ") ",
     "delete_cmd_prefix": "rm(",
     "library": "var_list.r",
     "varRefreshCmd": "cat(var_dic_list()) "
    }
   },
   "types_to_exclude": [
    "module",
    "function",
    "builtin_function_or_method",
    "instance",
    "_Feature"
   ],
   "window_display": false
  }
 },
 "nbformat": 4,
 "nbformat_minor": 5
}
