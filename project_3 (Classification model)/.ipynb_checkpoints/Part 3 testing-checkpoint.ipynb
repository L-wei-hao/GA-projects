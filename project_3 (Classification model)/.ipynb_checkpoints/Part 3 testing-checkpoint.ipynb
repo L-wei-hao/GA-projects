{
 "cells": [
  {
   "cell_type": "code",
   "execution_count": 1,
   "id": "e722cf2f",
   "metadata": {
    "ExecuteTime": {
     "end_time": "2022-08-10T12:57:39.846631Z",
     "start_time": "2022-08-10T12:57:35.780853Z"
    }
   },
   "outputs": [],
   "source": [
    "\n",
    "# imports\n",
    "import numpy as np\n",
    "import pandas as pd\n",
    "import matplotlib.pyplot as plt\n",
    "import seaborn as sns\n",
    "import re\n",
    "\n",
    "from nltk.tokenize import RegexpTokenizer\n",
    "from nltk.stem import WordNetLemmatizer\n",
    "from nltk.corpus import stopwords\n",
    "\n",
    "from sklearn.model_selection import train_test_split, GridSearchCV\n",
    "from sklearn.pipeline import Pipeline\n",
    "from sklearn.feature_extraction.text import CountVectorizer, TfidfVectorizer\n",
    "from sklearn.ensemble import RandomForestClassifier\n",
    "from sklearn.naive_bayes import MultinomialNB\n",
    "from sklearn.svm import SVC\n",
    "from sklearn.metrics import plot_confusion_matrix\n",
    "from sklearn.metrics import confusion_matrix, ConfusionMatrixDisplay\n",
    "\n"
   ]
  },
  {
   "cell_type": "markdown",
   "id": "a2e38f4d",
   "metadata": {},
   "source": [
    "### 1.0 Load data"
   ]
  },
  {
   "cell_type": "code",
   "execution_count": 2,
   "id": "c5804974",
   "metadata": {
    "ExecuteTime": {
     "end_time": "2022-08-10T12:57:39.971821Z",
     "start_time": "2022-08-10T12:57:39.850522Z"
    }
   },
   "outputs": [],
   "source": [
    "df = pd.read_csv('./data/reddit_cleaned_data.csv')"
   ]
  },
  {
   "cell_type": "code",
   "execution_count": 3,
   "id": "c9973bbb",
   "metadata": {
    "ExecuteTime": {
     "end_time": "2022-08-10T12:57:40.002102Z",
     "start_time": "2022-08-10T12:57:39.973820Z"
    }
   },
   "outputs": [
    {
     "data": {
      "text/plain": [
       "(20000, 2)"
      ]
     },
     "metadata": {},
     "output_type": "display_data"
    },
    {
     "data": {
      "text/plain": [
       "0"
      ]
     },
     "metadata": {},
     "output_type": "display_data"
    },
    {
     "data": {
      "text/plain": [
       "Index(['clean_text', 'label'], dtype='object')"
      ]
     },
     "execution_count": 3,
     "metadata": {},
     "output_type": "execute_result"
    }
   ],
   "source": [
    "# Cheking data frame shape\n",
    "display(df.shape)\n",
    "#Checking if there is a null value\n",
    "display(df.isnull().sum().sum())\n",
    "#Checking column names\n",
    "df.columns"
   ]
  },
  {
   "cell_type": "code",
   "execution_count": 4,
   "id": "665a0a4f",
   "metadata": {
    "ExecuteTime": {
     "end_time": "2022-08-10T12:57:40.047887Z",
     "start_time": "2022-08-10T12:57:40.005241Z"
    }
   },
   "outputs": [
    {
     "data": {
      "text/html": [
       "<div>\n",
       "<style scoped>\n",
       "    .dataframe tbody tr th:only-of-type {\n",
       "        vertical-align: middle;\n",
       "    }\n",
       "\n",
       "    .dataframe tbody tr th {\n",
       "        vertical-align: top;\n",
       "    }\n",
       "\n",
       "    .dataframe thead th {\n",
       "        text-align: right;\n",
       "    }\n",
       "</style>\n",
       "<table border=\"1\" class=\"dataframe\">\n",
       "  <thead>\n",
       "    <tr style=\"text-align: right;\">\n",
       "      <th></th>\n",
       "      <th>clean_text</th>\n",
       "      <th>label</th>\n",
       "    </tr>\n",
       "  </thead>\n",
       "  <tbody>\n",
       "    <tr>\n",
       "      <th>0</th>\n",
       "      <td>locked macbook lost find activate</td>\n",
       "      <td>0</td>\n",
       "    </tr>\n",
       "    <tr>\n",
       "      <th>1</th>\n",
       "      <td>apple m2 macbook pro see first ever discount 2...</td>\n",
       "      <td>0</td>\n",
       "    </tr>\n",
       "    <tr>\n",
       "      <th>2</th>\n",
       "      <td>home automation</td>\n",
       "      <td>0</td>\n",
       "    </tr>\n",
       "    <tr>\n",
       "      <th>3</th>\n",
       "      <td>apple customer service beyond apple care actua...</td>\n",
       "      <td>0</td>\n",
       "    </tr>\n",
       "    <tr>\n",
       "      <th>4</th>\n",
       "      <td>sure right place get quick</td>\n",
       "      <td>0</td>\n",
       "    </tr>\n",
       "  </tbody>\n",
       "</table>\n",
       "</div>"
      ],
      "text/plain": [
       "                                          clean_text  label\n",
       "0                  locked macbook lost find activate      0\n",
       "1  apple m2 macbook pro see first ever discount 2...      0\n",
       "2                                    home automation      0\n",
       "3  apple customer service beyond apple care actua...      0\n",
       "4                         sure right place get quick      0"
      ]
     },
     "execution_count": 4,
     "metadata": {},
     "output_type": "execute_result"
    }
   ],
   "source": [
    "df.head()"
   ]
  },
  {
   "cell_type": "markdown",
   "id": "c9345950",
   "metadata": {},
   "source": [
    "### 2.0 Define X, Y"
   ]
  },
  {
   "cell_type": "code",
   "execution_count": 16,
   "id": "40fc5a2c",
   "metadata": {
    "ExecuteTime": {
     "end_time": "2022-08-10T13:02:58.183014Z",
     "start_time": "2022-08-10T13:02:58.160282Z"
    },
    "scrolled": true
   },
   "outputs": [],
   "source": [
    "X = df['clean_text']\n",
    "y = df['label']"
   ]
  },
  {
   "cell_type": "markdown",
   "id": "5d6e0304",
   "metadata": {},
   "source": [
    "### 3.0 Baseline accuracy"
   ]
  },
  {
   "cell_type": "code",
   "execution_count": 6,
   "id": "921b566e",
   "metadata": {
    "ExecuteTime": {
     "end_time": "2022-08-10T12:57:40.079438Z",
     "start_time": "2022-08-10T12:57:40.066839Z"
    },
    "scrolled": true
   },
   "outputs": [
    {
     "data": {
      "text/plain": [
       "0    0.5\n",
       "1    0.5\n",
       "Name: label, dtype: float64"
      ]
     },
     "execution_count": 6,
     "metadata": {},
     "output_type": "execute_result"
    }
   ],
   "source": [
    "y.value_counts(normalize=True)"
   ]
  },
  {
   "cell_type": "markdown",
   "id": "4c404ae3",
   "metadata": {},
   "source": [
    "###  4.0 Train Test Split"
   ]
  },
  {
   "cell_type": "code",
   "execution_count": 7,
   "id": "0a0c1686",
   "metadata": {
    "ExecuteTime": {
     "end_time": "2022-08-10T12:57:40.111400Z",
     "start_time": "2022-08-10T12:57:40.082251Z"
    }
   },
   "outputs": [],
   "source": [
    "X_train, X_test, y_train, y_test = train_test_split(X, y,\n",
    "                                                    random_state = 42,\n",
    "                                                    stratify=y,\n",
    "                                                    test_size = 0.20)"
   ]
  },
  {
   "cell_type": "markdown",
   "id": "39eddc2e",
   "metadata": {},
   "source": [
    "( 1.1 ) CountVectorizer + LogisticRegression"
   ]
  },
  {
   "cell_type": "markdown",
   "id": "2c3f93a0",
   "metadata": {},
   "source": [
    "### 5.0 Modelling\n",
    "\n",
    "We will be evaluating the following models based on their performance:  \n",
    "    - Multinomial Naive Bayes (MultinomialNB),  \n",
    "    - Random Forest Classifier,  \n",
    "    - Support Vector Machine  \n",
    "They will be paired with both CountVectorizer and TF-IDF Vectorizer"
   ]
  },
  {
   "cell_type": "markdown",
   "id": "f25b7e34",
   "metadata": {},
   "source": [
    "#### 5.1 CountVectorizer"
   ]
  },
  {
   "cell_type": "code",
   "execution_count": 8,
   "id": "a7fcb1f7",
   "metadata": {
    "ExecuteTime": {
     "end_time": "2022-08-10T12:57:40.142351Z",
     "start_time": "2022-08-10T12:57:40.115688Z"
    }
   },
   "outputs": [],
   "source": [
    "# define function to pull score of training and testing dataset for each model\n",
    "def get_metrics(model, X_train, X_test):\n",
    "    print(u'\\u2500' * 30)\n",
    "    \n",
    "    tn, fp, fn, tp = confusion_matrix(y_test, model.predict(X_test)).ravel()\n",
    "    tn1, fp1, fn1, tp1 = confusion_matrix(y_train, model.predict(X_train)).ravel()\n",
    "    \n",
    "    accuracy = (tp + tn) / (tp + tn + fp + fn)\n",
    "    accuracy1 = (tp1 + tn1) / (tp1 + tn1 + fp1 + fn1)\n",
    "    print(f\"Accuracy score of training set: {round(accuracy1,4)}\")\n",
    "    print(f\"Accuracy score of testing set: {round(accuracy,4)}\")\n",
    "                     \n",
    "    misclassification = 1 - accuracy\n",
    "    misclassification1 = 1 - accuracy1\n",
    "    print(f\"Misclassification score of training set: {round(misclassification1,4)}\")\n",
    "    print(f'Misclassification score of testing set: {round(misclassification,4)}') \n",
    "    \n",
    "    sensitivity = tp / (tp + fn)\n",
    "    sensitivity1 = tp1 / (tp1 + fn1)\n",
    "    print(f'Sensitivity score of training set: {round(sensitivity1,4)}')\n",
    "    print(f'Sensitivity score of testing set: {round(sensitivity,4)}')\n",
    "    \n",
    "    specificity = tn / (tn + fp)\n",
    "    specificity1 = tn1 / (tn1 + fp1)\n",
    "    print(f'Specificity score of training set: {round(specificity1,4)}')\n",
    "    print(f'Specificity score of testing set: {round(specificity,4)}')\n",
    "    \n",
    "    precision = tp / (tp + fp)\n",
    "    precision1 = tp1 / (tp1 + fp1)\n",
    "    print(f'Precision score of training set: {round(precision1,4)}')\n",
    "    print(f'Precision score of testing set: {round(precision,4)}')\n",
    "                     \n",
    "    print(u'\\u2500' * 30)    \n",
    "    return ConfusionMatrixDisplay.from_estimator(model, X_test,y_test)\n"
   ]
  },
  {
   "cell_type": "code",
   "execution_count": 9,
   "id": "2d3920a8",
   "metadata": {
    "ExecuteTime": {
     "end_time": "2022-08-10T12:57:40.157408Z",
     "start_time": "2022-08-10T12:57:40.147839Z"
    }
   },
   "outputs": [],
   "source": [
    "# Instantiate our CountVectorizer.\n",
    "cvec = CountVectorizer(max_features = 2000,min_df=5,max_df=0.8, stop_words = 'english', ngram_range=(1,2))"
   ]
  },
  {
   "cell_type": "code",
   "execution_count": 10,
   "id": "4e6124f2",
   "metadata": {
    "ExecuteTime": {
     "end_time": "2022-08-10T12:57:40.698733Z",
     "start_time": "2022-08-10T12:57:40.161059Z"
    }
   },
   "outputs": [],
   "source": [
    "# Fit our CountVectorizer on the training data and transform training data.\n",
    "X_train_cvec = pd.DataFrame(cvec.fit_transform(X_train['clean_text']).todense(),\n",
    "                          columns = cvec.get_feature_names_out())"
   ]
  },
  {
   "cell_type": "code",
   "execution_count": 11,
   "id": "1f0b6764",
   "metadata": {
    "ExecuteTime": {
     "end_time": "2022-08-10T12:57:40.823843Z",
     "start_time": "2022-08-10T12:57:40.700352Z"
    }
   },
   "outputs": [],
   "source": [
    "# Transform our testing data with the already-fit CountVectorizer.\n",
    "X_test_cvec = pd.DataFrame(cvec.transform(X_test['clean_text']).todense(),\n",
    "                         columns = cvec.get_feature_names_out())"
   ]
  },
  {
   "cell_type": "code",
   "execution_count": 12,
   "id": "8cf81657",
   "metadata": {
    "ExecuteTime": {
     "end_time": "2022-08-10T12:57:40.871925Z",
     "start_time": "2022-08-10T12:57:40.827846Z"
    },
    "scrolled": true
   },
   "outputs": [
    {
     "data": {
      "text/html": [
       "<div>\n",
       "<style scoped>\n",
       "    .dataframe tbody tr th:only-of-type {\n",
       "        vertical-align: middle;\n",
       "    }\n",
       "\n",
       "    .dataframe tbody tr th {\n",
       "        vertical-align: top;\n",
       "    }\n",
       "\n",
       "    .dataframe thead th {\n",
       "        text-align: right;\n",
       "    }\n",
       "</style>\n",
       "<table border=\"1\" class=\"dataframe\">\n",
       "  <thead>\n",
       "    <tr style=\"text-align: right;\">\n",
       "      <th></th>\n",
       "      <th>00</th>\n",
       "      <th>00 est</th>\n",
       "      <th>000</th>\n",
       "      <th>000 india</th>\n",
       "      <th>000 segment</th>\n",
       "      <th>05</th>\n",
       "      <th>06</th>\n",
       "      <th>06 00</th>\n",
       "      <th>06 fix</th>\n",
       "      <th>06 latest</th>\n",
       "      <th>...</th>\n",
       "      <th>year ago</th>\n",
       "      <th>year old</th>\n",
       "      <th>yogesh</th>\n",
       "      <th>yogesh brar</th>\n",
       "      <th>young</th>\n",
       "      <th>youtube</th>\n",
       "      <th>youtube vanced</th>\n",
       "      <th>zenfone</th>\n",
       "      <th>zero</th>\n",
       "      <th>zoom</th>\n",
       "    </tr>\n",
       "  </thead>\n",
       "  <tbody>\n",
       "    <tr>\n",
       "      <th>0</th>\n",
       "      <td>0</td>\n",
       "      <td>0</td>\n",
       "      <td>0</td>\n",
       "      <td>0</td>\n",
       "      <td>0</td>\n",
       "      <td>0</td>\n",
       "      <td>0</td>\n",
       "      <td>0</td>\n",
       "      <td>0</td>\n",
       "      <td>0</td>\n",
       "      <td>...</td>\n",
       "      <td>0</td>\n",
       "      <td>0</td>\n",
       "      <td>0</td>\n",
       "      <td>0</td>\n",
       "      <td>0</td>\n",
       "      <td>0</td>\n",
       "      <td>0</td>\n",
       "      <td>0</td>\n",
       "      <td>0</td>\n",
       "      <td>0</td>\n",
       "    </tr>\n",
       "    <tr>\n",
       "      <th>1</th>\n",
       "      <td>0</td>\n",
       "      <td>0</td>\n",
       "      <td>0</td>\n",
       "      <td>0</td>\n",
       "      <td>0</td>\n",
       "      <td>0</td>\n",
       "      <td>0</td>\n",
       "      <td>0</td>\n",
       "      <td>0</td>\n",
       "      <td>0</td>\n",
       "      <td>...</td>\n",
       "      <td>0</td>\n",
       "      <td>0</td>\n",
       "      <td>0</td>\n",
       "      <td>0</td>\n",
       "      <td>0</td>\n",
       "      <td>0</td>\n",
       "      <td>0</td>\n",
       "      <td>0</td>\n",
       "      <td>0</td>\n",
       "      <td>0</td>\n",
       "    </tr>\n",
       "    <tr>\n",
       "      <th>2</th>\n",
       "      <td>0</td>\n",
       "      <td>0</td>\n",
       "      <td>0</td>\n",
       "      <td>0</td>\n",
       "      <td>0</td>\n",
       "      <td>0</td>\n",
       "      <td>0</td>\n",
       "      <td>0</td>\n",
       "      <td>0</td>\n",
       "      <td>0</td>\n",
       "      <td>...</td>\n",
       "      <td>0</td>\n",
       "      <td>0</td>\n",
       "      <td>0</td>\n",
       "      <td>0</td>\n",
       "      <td>0</td>\n",
       "      <td>0</td>\n",
       "      <td>0</td>\n",
       "      <td>0</td>\n",
       "      <td>0</td>\n",
       "      <td>0</td>\n",
       "    </tr>\n",
       "    <tr>\n",
       "      <th>3</th>\n",
       "      <td>0</td>\n",
       "      <td>0</td>\n",
       "      <td>0</td>\n",
       "      <td>0</td>\n",
       "      <td>0</td>\n",
       "      <td>0</td>\n",
       "      <td>0</td>\n",
       "      <td>0</td>\n",
       "      <td>0</td>\n",
       "      <td>0</td>\n",
       "      <td>...</td>\n",
       "      <td>0</td>\n",
       "      <td>0</td>\n",
       "      <td>0</td>\n",
       "      <td>0</td>\n",
       "      <td>0</td>\n",
       "      <td>0</td>\n",
       "      <td>0</td>\n",
       "      <td>0</td>\n",
       "      <td>0</td>\n",
       "      <td>0</td>\n",
       "    </tr>\n",
       "    <tr>\n",
       "      <th>4</th>\n",
       "      <td>0</td>\n",
       "      <td>0</td>\n",
       "      <td>0</td>\n",
       "      <td>0</td>\n",
       "      <td>0</td>\n",
       "      <td>0</td>\n",
       "      <td>0</td>\n",
       "      <td>0</td>\n",
       "      <td>0</td>\n",
       "      <td>0</td>\n",
       "      <td>...</td>\n",
       "      <td>0</td>\n",
       "      <td>0</td>\n",
       "      <td>0</td>\n",
       "      <td>0</td>\n",
       "      <td>0</td>\n",
       "      <td>0</td>\n",
       "      <td>0</td>\n",
       "      <td>0</td>\n",
       "      <td>0</td>\n",
       "      <td>0</td>\n",
       "    </tr>\n",
       "  </tbody>\n",
       "</table>\n",
       "<p>5 rows × 2000 columns</p>\n",
       "</div>"
      ],
      "text/plain": [
       "   00  00 est  000  000 india  000 segment  05  06  06 00  06 fix  06 latest  \\\n",
       "0   0       0    0          0            0   0   0      0       0          0   \n",
       "1   0       0    0          0            0   0   0      0       0          0   \n",
       "2   0       0    0          0            0   0   0      0       0          0   \n",
       "3   0       0    0          0            0   0   0      0       0          0   \n",
       "4   0       0    0          0            0   0   0      0       0          0   \n",
       "\n",
       "   ...  year ago  year old  yogesh  yogesh brar  young  youtube  \\\n",
       "0  ...         0         0       0            0      0        0   \n",
       "1  ...         0         0       0            0      0        0   \n",
       "2  ...         0         0       0            0      0        0   \n",
       "3  ...         0         0       0            0      0        0   \n",
       "4  ...         0         0       0            0      0        0   \n",
       "\n",
       "   youtube vanced  zenfone  zero  zoom  \n",
       "0               0        0     0     0  \n",
       "1               0        0     0     0  \n",
       "2               0        0     0     0  \n",
       "3               0        0     0     0  \n",
       "4               0        0     0     0  \n",
       "\n",
       "[5 rows x 2000 columns]"
      ]
     },
     "execution_count": 12,
     "metadata": {},
     "output_type": "execute_result"
    }
   ],
   "source": [
    "X_train_cvec.head()"
   ]
  },
  {
   "cell_type": "code",
   "execution_count": null,
   "id": "95cf7d79",
   "metadata": {},
   "outputs": [],
   "source": []
  },
  {
   "cell_type": "code",
   "execution_count": null,
   "id": "051df8f5",
   "metadata": {},
   "outputs": [],
   "source": []
  },
  {
   "cell_type": "code",
   "execution_count": null,
   "id": "c766d7a4",
   "metadata": {},
   "outputs": [],
   "source": []
  },
  {
   "cell_type": "code",
   "execution_count": null,
   "id": "2bd16f19",
   "metadata": {},
   "outputs": [],
   "source": []
  },
  {
   "cell_type": "code",
   "execution_count": null,
   "id": "2f52b7fa",
   "metadata": {},
   "outputs": [],
   "source": []
  },
  {
   "cell_type": "code",
   "execution_count": null,
   "id": "e9b1cb9a",
   "metadata": {},
   "outputs": [],
   "source": []
  },
  {
   "cell_type": "code",
   "execution_count": null,
   "id": "56a97615",
   "metadata": {},
   "outputs": [],
   "source": []
  },
  {
   "cell_type": "code",
   "execution_count": null,
   "id": "684cafb2",
   "metadata": {},
   "outputs": [],
   "source": []
  },
  {
   "cell_type": "code",
   "execution_count": null,
   "id": "b1303e07",
   "metadata": {},
   "outputs": [],
   "source": []
  },
  {
   "cell_type": "code",
   "execution_count": null,
   "id": "19854074",
   "metadata": {},
   "outputs": [],
   "source": []
  },
  {
   "cell_type": "code",
   "execution_count": 13,
   "id": "89792126",
   "metadata": {
    "ExecuteTime": {
     "end_time": "2022-08-10T12:57:40.887368Z",
     "start_time": "2022-08-10T12:57:40.874437Z"
    }
   },
   "outputs": [],
   "source": [
    "# Instantiate our model!\n",
    "nb = MultinomialNB()"
   ]
  },
  {
   "cell_type": "code",
   "execution_count": 14,
   "id": "77bc21d9",
   "metadata": {
    "ExecuteTime": {
     "end_time": "2022-08-10T12:57:41.696400Z",
     "start_time": "2022-08-10T12:57:40.890389Z"
    }
   },
   "outputs": [],
   "source": [
    "# Fit our model!\n",
    "cvec_nb = nb.fit(X_train_cvec, y_train)"
   ]
  },
  {
   "cell_type": "code",
   "execution_count": 15,
   "id": "eecc396e",
   "metadata": {
    "ExecuteTime": {
     "end_time": "2022-08-10T12:57:42.168198Z",
     "start_time": "2022-08-10T12:57:41.698499Z"
    },
    "scrolled": false
   },
   "outputs": [
    {
     "name": "stdout",
     "output_type": "stream",
     "text": [
      "──────────────────────────────\n",
      "Accuracy score of training set: 0.8295\n",
      "Accuracy score of testing set: 0.8182\n",
      "Misclassification score of training set: 0.1705\n",
      "Misclassification score of testing set: 0.1817\n",
      "Sensitivity score of training set: 0.7131\n",
      "Sensitivity score of testing set: 0.698\n",
      "Specificity score of training set: 0.9459\n",
      "Specificity score of testing set: 0.9385\n",
      "Precision score of training set: 0.9295\n",
      "Precision score of testing set: 0.919\n",
      "──────────────────────────────\n"
     ]
    },
    {
     "data": {
      "text/plain": [
       "<sklearn.metrics._plot.confusion_matrix.ConfusionMatrixDisplay at 0x1daacc395e0>"
      ]
     },
     "execution_count": 15,
     "metadata": {},
     "output_type": "execute_result"
    },
    {
     "data": {
      "image/png": "[encoded data removed]",
      "text/plain": [
       "<Figure size 432x288 with 2 Axes>"
      ]
     },
     "metadata": {
      "needs_background": "light"
     },
     "output_type": "display_data"
    }
   ],
   "source": [
    "get_metrics(cvec_nb, X_train_cvec, X_test_cvec)"
   ]
  },
  {
   "cell_type": "code",
   "execution_count": null,
   "id": "069a0392",
   "metadata": {},
   "outputs": [],
   "source": []
  },
  {
   "cell_type": "code",
   "execution_count": null,
   "id": "4a82edfa",
   "metadata": {},
   "outputs": [],
   "source": []
  },
  {
   "cell_type": "code",
   "execution_count": null,
   "id": "2dc30ea1",
   "metadata": {},
   "outputs": [],
   "source": []
  },
  {
   "cell_type": "code",
   "execution_count": null,
   "id": "d83d7a1a",
   "metadata": {},
   "outputs": [],
   "source": []
  },
  {
   "cell_type": "code",
   "execution_count": null,
   "id": "834b8ba0",
   "metadata": {},
   "outputs": [],
   "source": []
  },
  {
   "cell_type": "code",
   "execution_count": null,
   "id": "f8412f8d",
   "metadata": {},
   "outputs": [],
   "source": []
  },
  {
   "cell_type": "code",
   "execution_count": null,
   "id": "7f99cda9",
   "metadata": {},
   "outputs": [],
   "source": []
  },
  {
   "cell_type": "markdown",
   "id": "3f6bf6ba",
   "metadata": {},
   "source": [
    "#### "
   ]
  }
 ],
 "metadata": {
  "kernelspec": {
   "display_name": "Python 3 (ipykernel)",
   "language": "python",
   "name": "python3"
  },
  "language_info": {
   "codemirror_mode": {
    "name": "ipython",
    "version": 3
   },
   "file_extension": ".py",
   "mimetype": "text/x-python",
   "name": "python",
   "nbconvert_exporter": "python",
   "pygments_lexer": "ipython3",
   "version": "3.9.12"
  },
  "varInspector": {
   "cols": {
    "lenName": 16,
    "lenType": 16,
    "lenVar": 40
   },
   "kernels_config": {
    "python": {
     "delete_cmd_postfix": "",
     "delete_cmd_prefix": "del ",
     "library": "var_list.py",
     "varRefreshCmd": "print(var_dic_list())"
    },
    "r": {
     "delete_cmd_postfix": ") ",
     "delete_cmd_prefix": "rm(",
     "library": "var_list.r",
     "varRefreshCmd": "cat(var_dic_list()) "
    }
   },
   "types_to_exclude": [
    "module",
    "function",
    "builtin_function_or_method",
    "instance",
    "_Feature"
   ],
   "window_display": false
  }
 },
 "nbformat": 4,
 "nbformat_minor": 5
}
