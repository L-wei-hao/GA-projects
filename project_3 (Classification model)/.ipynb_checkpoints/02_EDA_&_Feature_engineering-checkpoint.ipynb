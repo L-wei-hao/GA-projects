{
 "cells": [
  {
   "cell_type": "code",
   "execution_count": 1,
   "id": "ff291cf3",
   "metadata": {
    "ExecuteTime": {
     "end_time": "2022-08-12T15:07:00.415408Z",
     "start_time": "2022-08-12T15:06:55.728781Z"
    }
   },
   "outputs": [],
   "source": [
    "import pandas as pd\n",
    "import numpy as np\n",
    "import matplotlib.pyplot as plt\n",
    "import seaborn as sns\n",
    "import re\n",
    "import nltk\n",
    "from nltk.corpus import stopwords\n",
    "from nltk.tokenize import RegexpTokenizer\n",
    "from nltk import WordNetLemmatizer\n",
    "from nltk.stem import PorterStemmer\n",
    "from wordcloud import WordCloud, ImageColorGenerator\n",
    "\n",
    "# Magic command and plot style - matplotlib.pyplot\n",
    "%matplotlib inline\n",
    "plt.style.use('seaborn-darkgrid')\n",
    "\n",
    "    # Do not display future warnings\n",
    "# import warnings\n",
    "# warnings.simplefilter(action='ignore', category=FutureWarning)"
   ]
  },
  {
   "cell_type": "code",
   "execution_count": 2,
   "id": "8b935f4d",
   "metadata": {
    "ExecuteTime": {
     "end_time": "2022-08-12T15:07:00.431138Z",
     "start_time": "2022-08-12T15:07:00.420142Z"
    }
   },
   "outputs": [],
   "source": [
    "pd.set_option('display.max_rows', 100)"
   ]
  },
  {
   "cell_type": "markdown",
   "id": "07cf1f68",
   "metadata": {},
   "source": [
    "### Load data"
   ]
  },
  {
   "cell_type": "code",
   "execution_count": 3,
   "id": "28e0b848",
   "metadata": {
    "ExecuteTime": {
     "end_time": "2022-08-12T15:07:00.509843Z",
     "start_time": "2022-08-12T15:07:00.438672Z"
    }
   },
   "outputs": [],
   "source": [
    "df = pd.read_pickle('./data/reddit.pkl')"
   ]
  },
  {
   "cell_type": "code",
   "execution_count": 4,
   "id": "b2d47d1a",
   "metadata": {
    "ExecuteTime": {
     "end_time": "2022-08-12T15:07:00.540315Z",
     "start_time": "2022-08-12T15:07:00.511493Z"
    },
    "scrolled": false
   },
   "outputs": [
    {
     "data": {
      "text/html": [
       "<div>\n",
       "<style scoped>\n",
       "    .dataframe tbody tr th:only-of-type {\n",
       "        vertical-align: middle;\n",
       "    }\n",
       "\n",
       "    .dataframe tbody tr th {\n",
       "        vertical-align: top;\n",
       "    }\n",
       "\n",
       "    .dataframe thead th {\n",
       "        text-align: right;\n",
       "    }\n",
       "</style>\n",
       "<table border=\"1\" class=\"dataframe\">\n",
       "  <thead>\n",
       "    <tr style=\"text-align: right;\">\n",
       "      <th></th>\n",
       "      <th>selftext</th>\n",
       "      <th>subreddit</th>\n",
       "      <th>title</th>\n",
       "    </tr>\n",
       "  </thead>\n",
       "  <tbody>\n",
       "    <tr>\n",
       "      <th>0</th>\n",
       "      <td>[removed]</td>\n",
       "      <td>Android</td>\n",
       "      <td>Contact Pictures Pixelated</td>\n",
       "    </tr>\n",
       "    <tr>\n",
       "      <th>1</th>\n",
       "      <td></td>\n",
       "      <td>Android</td>\n",
       "      <td>Samsung Galaxy Z Fold4, Z Flip4 fully revealed</td>\n",
       "    </tr>\n",
       "    <tr>\n",
       "      <th>2</th>\n",
       "      <td>[removed]</td>\n",
       "      <td>Android</td>\n",
       "      <td>Motorola G71 vs. Motorola G60 vs. Galaxy A53 (...</td>\n",
       "    </tr>\n",
       "    <tr>\n",
       "      <th>3</th>\n",
       "      <td></td>\n",
       "      <td>Android</td>\n",
       "      <td>European War 7: Medieval Mod_Hack Unlocked Ful...</td>\n",
       "    </tr>\n",
       "    <tr>\n",
       "      <th>4</th>\n",
       "      <td></td>\n",
       "      <td>Android</td>\n",
       "      <td>Malware hits millions of Android users — delet...</td>\n",
       "    </tr>\n",
       "  </tbody>\n",
       "</table>\n",
       "</div>"
      ],
      "text/plain": [
       "    selftext subreddit                                              title\n",
       "0  [removed]   Android                         Contact Pictures Pixelated\n",
       "1              Android     Samsung Galaxy Z Fold4, Z Flip4 fully revealed\n",
       "2  [removed]   Android  Motorola G71 vs. Motorola G60 vs. Galaxy A53 (...\n",
       "3              Android  European War 7: Medieval Mod_Hack Unlocked Ful...\n",
       "4              Android  Malware hits millions of Android users — delet..."
      ]
     },
     "execution_count": 4,
     "metadata": {},
     "output_type": "execute_result"
    }
   ],
   "source": [
    "# Check first 5 rows\n",
    "df.head(5)"
   ]
  },
  {
   "cell_type": "code",
   "execution_count": 5,
   "id": "9f58ea0c",
   "metadata": {
    "ExecuteTime": {
     "end_time": "2022-08-12T15:07:00.571069Z",
     "start_time": "2022-08-12T15:07:00.543990Z"
    },
    "scrolled": true
   },
   "outputs": [],
   "source": [
    "#setting '[removed]' and '[deleted]' as blank\n",
    "df['selftext'] = np.where(df['selftext']=='[removed]' , \"\", df['selftext'])\n",
    "df['selftext'] = np.where(df['selftext']=='[deleted]' , \"\", df['selftext'])\n",
    "df['title'] = np.where(df['title']=='[removed]' , \"\", df['title'])\n",
    "df['title'] = np.where(df['title']=='[deleted]' , \"\", df['title'])"
   ]
  },
  {
   "cell_type": "code",
   "execution_count": 6,
   "id": "26960de2",
   "metadata": {
    "ExecuteTime": {
     "end_time": "2022-08-12T15:07:00.587073Z",
     "start_time": "2022-08-12T15:07:00.576511Z"
    }
   },
   "outputs": [
    {
     "data": {
      "text/html": [
       "<div>\n",
       "<style scoped>\n",
       "    .dataframe tbody tr th:only-of-type {\n",
       "        vertical-align: middle;\n",
       "    }\n",
       "\n",
       "    .dataframe tbody tr th {\n",
       "        vertical-align: top;\n",
       "    }\n",
       "\n",
       "    .dataframe thead th {\n",
       "        text-align: right;\n",
       "    }\n",
       "</style>\n",
       "<table border=\"1\" class=\"dataframe\">\n",
       "  <thead>\n",
       "    <tr style=\"text-align: right;\">\n",
       "      <th></th>\n",
       "      <th>selftext</th>\n",
       "      <th>subreddit</th>\n",
       "      <th>title</th>\n",
       "    </tr>\n",
       "  </thead>\n",
       "  <tbody>\n",
       "    <tr>\n",
       "      <th>0</th>\n",
       "      <td></td>\n",
       "      <td>Android</td>\n",
       "      <td>Contact Pictures Pixelated</td>\n",
       "    </tr>\n",
       "    <tr>\n",
       "      <th>1</th>\n",
       "      <td></td>\n",
       "      <td>Android</td>\n",
       "      <td>Samsung Galaxy Z Fold4, Z Flip4 fully revealed</td>\n",
       "    </tr>\n",
       "    <tr>\n",
       "      <th>2</th>\n",
       "      <td></td>\n",
       "      <td>Android</td>\n",
       "      <td>Motorola G71 vs. Motorola G60 vs. Galaxy A53 (...</td>\n",
       "    </tr>\n",
       "    <tr>\n",
       "      <th>3</th>\n",
       "      <td></td>\n",
       "      <td>Android</td>\n",
       "      <td>European War 7: Medieval Mod_Hack Unlocked Ful...</td>\n",
       "    </tr>\n",
       "    <tr>\n",
       "      <th>4</th>\n",
       "      <td></td>\n",
       "      <td>Android</td>\n",
       "      <td>Malware hits millions of Android users — delet...</td>\n",
       "    </tr>\n",
       "  </tbody>\n",
       "</table>\n",
       "</div>"
      ],
      "text/plain": [
       "  selftext subreddit                                              title\n",
       "0            Android                         Contact Pictures Pixelated\n",
       "1            Android     Samsung Galaxy Z Fold4, Z Flip4 fully revealed\n",
       "2            Android  Motorola G71 vs. Motorola G60 vs. Galaxy A53 (...\n",
       "3            Android  European War 7: Medieval Mod_Hack Unlocked Ful...\n",
       "4            Android  Malware hits millions of Android users — delet..."
      ]
     },
     "execution_count": 6,
     "metadata": {},
     "output_type": "execute_result"
    }
   ],
   "source": [
    "df.head()"
   ]
  },
  {
   "cell_type": "code",
   "execution_count": 7,
   "id": "c84046e6",
   "metadata": {
    "ExecuteTime": {
     "end_time": "2022-08-12T15:07:00.617811Z",
     "start_time": "2022-08-12T15:07:00.589001Z"
    },
    "scrolled": true
   },
   "outputs": [],
   "source": [
    "#fill all Nan with empty string\n",
    "df = df.fillna('')"
   ]
  },
  {
   "cell_type": "code",
   "execution_count": 8,
   "id": "68cee0be",
   "metadata": {
    "ExecuteTime": {
     "end_time": "2022-08-12T15:07:00.633537Z",
     "start_time": "2022-08-12T15:07:00.620831Z"
    }
   },
   "outputs": [],
   "source": [
    "#combine title and selftext\n",
    "df['text'] = df['selftext'] + df['title']"
   ]
  },
  {
   "cell_type": "code",
   "execution_count": 9,
   "id": "1d80f6c8",
   "metadata": {
    "ExecuteTime": {
     "end_time": "2022-08-12T15:07:00.664485Z",
     "start_time": "2022-08-12T15:07:00.636685Z"
    }
   },
   "outputs": [],
   "source": [
    "df.drop(columns=['selftext', 'title'], axis=1, inplace= True)"
   ]
  },
  {
   "cell_type": "code",
   "execution_count": 10,
   "id": "1a95ab44",
   "metadata": {
    "ExecuteTime": {
     "end_time": "2022-08-12T15:07:00.680008Z",
     "start_time": "2022-08-12T15:07:00.667473Z"
    },
    "scrolled": false
   },
   "outputs": [
    {
     "data": {
      "text/plain": [
       "(21964, 2)"
      ]
     },
     "execution_count": 10,
     "metadata": {},
     "output_type": "execute_result"
    }
   ],
   "source": [
    "#there are non english words in the data\n",
    "df.shape"
   ]
  },
  {
   "cell_type": "code",
   "execution_count": 11,
   "id": "26e66778",
   "metadata": {
    "ExecuteTime": {
     "end_time": "2022-08-12T15:07:00.711454Z",
     "start_time": "2022-08-12T15:07:00.683935Z"
    },
    "scrolled": true
   },
   "outputs": [
    {
     "data": {
      "text/plain": [
       "subreddit    0\n",
       "text         0\n",
       "dtype: int64"
      ]
     },
     "execution_count": 11,
     "metadata": {},
     "output_type": "execute_result"
    }
   ],
   "source": [
    "df.isnull().sum()"
   ]
  },
  {
   "cell_type": "code",
   "execution_count": 12,
   "id": "016bd62d",
   "metadata": {
    "ExecuteTime": {
     "end_time": "2022-08-12T15:07:00.727053Z",
     "start_time": "2022-08-12T15:07:00.716529Z"
    },
    "scrolled": true
   },
   "outputs": [],
   "source": [
    "#remove emojis, and non english words\n",
    "\n",
    "#df  = df[~df['text'].str.contains(r'[^\\x00-\\x7F]')]"
   ]
  },
  {
   "cell_type": "code",
   "execution_count": 13,
   "id": "8ff7eb14",
   "metadata": {
    "ExecuteTime": {
     "end_time": "2022-08-12T15:07:00.788168Z",
     "start_time": "2022-08-12T15:07:00.730477Z"
    }
   },
   "outputs": [],
   "source": [
    "#replace emojis, and non english words with \"\"\n",
    "df['text'] = df['text'].str.replace(r'[^\\x00-\\x7F]', '', regex=True)"
   ]
  },
  {
   "cell_type": "code",
   "execution_count": 14,
   "id": "579823f0",
   "metadata": {
    "ExecuteTime": {
     "end_time": "2022-08-12T15:07:00.804082Z",
     "start_time": "2022-08-12T15:07:00.791310Z"
    }
   },
   "outputs": [
    {
     "data": {
      "text/plain": [
       "(21964, 2)"
      ]
     },
     "execution_count": 14,
     "metadata": {},
     "output_type": "execute_result"
    }
   ],
   "source": [
    "df.shape"
   ]
  },
  {
   "cell_type": "code",
   "execution_count": 15,
   "id": "f5d93aa8",
   "metadata": {
    "ExecuteTime": {
     "end_time": "2022-08-12T15:07:00.818474Z",
     "start_time": "2022-08-12T15:07:00.807548Z"
    }
   },
   "outputs": [
    {
     "data": {
      "text/html": [
       "<div>\n",
       "<style scoped>\n",
       "    .dataframe tbody tr th:only-of-type {\n",
       "        vertical-align: middle;\n",
       "    }\n",
       "\n",
       "    .dataframe tbody tr th {\n",
       "        vertical-align: top;\n",
       "    }\n",
       "\n",
       "    .dataframe thead th {\n",
       "        text-align: right;\n",
       "    }\n",
       "</style>\n",
       "<table border=\"1\" class=\"dataframe\">\n",
       "  <thead>\n",
       "    <tr style=\"text-align: right;\">\n",
       "      <th></th>\n",
       "      <th>subreddit</th>\n",
       "      <th>text</th>\n",
       "    </tr>\n",
       "  </thead>\n",
       "  <tbody>\n",
       "    <tr>\n",
       "      <th>0</th>\n",
       "      <td>Android</td>\n",
       "      <td>Contact Pictures Pixelated</td>\n",
       "    </tr>\n",
       "    <tr>\n",
       "      <th>1</th>\n",
       "      <td>Android</td>\n",
       "      <td>Samsung Galaxy Z Fold4, Z Flip4 fully revealed</td>\n",
       "    </tr>\n",
       "    <tr>\n",
       "      <th>2</th>\n",
       "      <td>Android</td>\n",
       "      <td>Motorola G71 vs. Motorola G60 vs. Galaxy A53 (...</td>\n",
       "    </tr>\n",
       "    <tr>\n",
       "      <th>3</th>\n",
       "      <td>Android</td>\n",
       "      <td>European War 7: Medieval Mod_Hack Unlocked Ful...</td>\n",
       "    </tr>\n",
       "    <tr>\n",
       "      <th>4</th>\n",
       "      <td>Android</td>\n",
       "      <td>Malware hits millions of Android users  delete...</td>\n",
       "    </tr>\n",
       "  </tbody>\n",
       "</table>\n",
       "</div>"
      ],
      "text/plain": [
       "  subreddit                                               text\n",
       "0   Android                         Contact Pictures Pixelated\n",
       "1   Android     Samsung Galaxy Z Fold4, Z Flip4 fully revealed\n",
       "2   Android  Motorola G71 vs. Motorola G60 vs. Galaxy A53 (...\n",
       "3   Android  European War 7: Medieval Mod_Hack Unlocked Ful...\n",
       "4   Android  Malware hits millions of Android users  delete..."
      ]
     },
     "execution_count": 15,
     "metadata": {},
     "output_type": "execute_result"
    }
   ],
   "source": [
    "df.head()"
   ]
  },
  {
   "cell_type": "code",
   "execution_count": 16,
   "id": "0e71eb3b",
   "metadata": {
    "ExecuteTime": {
     "end_time": "2022-08-12T15:07:00.834421Z",
     "start_time": "2022-08-12T15:07:00.820709Z"
    },
    "scrolled": false
   },
   "outputs": [
    {
     "data": {
      "text/plain": [
       "subreddit\n",
       "apple      10984\n",
       "Android    10980\n",
       "dtype: int64"
      ]
     },
     "execution_count": 16,
     "metadata": {},
     "output_type": "execute_result"
    }
   ],
   "source": [
    "df.value_counts('subreddit')"
   ]
  },
  {
   "cell_type": "markdown",
   "id": "1bb40143",
   "metadata": {},
   "source": [
    "### Removing space,tab and breakline and stop words:"
   ]
  },
  {
   "cell_type": "code",
   "execution_count": 17,
   "id": "29f6a6e9",
   "metadata": {
    "ExecuteTime": {
     "end_time": "2022-08-12T15:07:00.849544Z",
     "start_time": "2022-08-12T15:07:00.839111Z"
    }
   },
   "outputs": [],
   "source": [
    "def clean_text(text_to_clean):\n",
    "    text_to_clean = re.sub( '[^a-zA-Z0-9]', ' ', text_to_clean) # subs charact in the brackets\n",
    "    text_to_clean = re.sub( '\\s+', ' ', text_to_clean).strip() ## subs tabs,newlines and \"whitespace-like\"\n",
    "    words = text_to_clean.lower().split() ## convert to lowercase split indv words \n",
    "    \n",
    "    #converting stop words to set\n",
    "    stops = stopwords.words('english')\n",
    "    #adding new words that may be common between both subs\n",
    "    newStopWords=('phone', 'tablet', 'system') \n",
    "    stops.extend(newStopWords)\n",
    "    \n",
    "    meaningful_words = [w for w in words if not w in stops] # removing stop words\n",
    "    return(\" \".join(meaningful_words))"
   ]
  },
  {
   "cell_type": "code",
   "execution_count": 18,
   "id": "103142bb",
   "metadata": {
    "ExecuteTime": {
     "end_time": "2022-08-12T15:07:08.167770Z",
     "start_time": "2022-08-12T15:07:00.852048Z"
    },
    "scrolled": false
   },
   "outputs": [],
   "source": [
    "df['clean_text'] = df.apply(lambda x: clean_text(x['text']), axis=1)"
   ]
  },
  {
   "cell_type": "markdown",
   "id": "de5facc9",
   "metadata": {},
   "source": [
    "### Lemmatize Text"
   ]
  },
  {
   "cell_type": "code",
   "execution_count": 19,
   "id": "2448b716",
   "metadata": {
    "ExecuteTime": {
     "end_time": "2022-08-12T15:07:08.183865Z",
     "start_time": "2022-08-12T15:07:08.169662Z"
    }
   },
   "outputs": [],
   "source": [
    "# define function to lemmatize text data\n",
    "\n",
    "def lemmatize_text(text):\n",
    "    # instantiate RegexpTokenizer and WordNetLemmatizer\n",
    "    tokenizer = RegexpTokenizer('\\w+')\n",
    "    lemmatizer = WordNetLemmatizer()\n",
    "    \n",
    "    # tokenize text data\n",
    "    tokens = tokenizer.tokenize(text)\n",
    "    lemmatized_tokens = []\n",
    "    \n",
    "    # lemmatize only words that are not stopwords so they are still recognized as stopwords\n",
    "    for i in tokens:\n",
    "        i = lemmatizer.lemmatize(i)\n",
    "        lemmatized_tokens.append(i)\n",
    "    \n",
    "    # combine words into text data again\n",
    "    lemmatized_text = \" \".join(lemmatized_tokens)\n",
    "    \n",
    "    return lemmatized_text"
   ]
  },
  {
   "cell_type": "code",
   "execution_count": 20,
   "id": "e2e9f9ee",
   "metadata": {
    "ExecuteTime": {
     "end_time": "2022-08-12T15:07:11.834608Z",
     "start_time": "2022-08-12T15:07:08.188338Z"
    }
   },
   "outputs": [],
   "source": [
    "df['clean_text'] = df['clean_text'].apply(lemmatize_text)"
   ]
  },
  {
   "cell_type": "code",
   "execution_count": 21,
   "id": "238f46cf",
   "metadata": {
    "ExecuteTime": {
     "end_time": "2022-08-12T15:07:11.865365Z",
     "start_time": "2022-08-12T15:07:11.837869Z"
    },
    "scrolled": false
   },
   "outputs": [
    {
     "data": {
      "text/html": [
       "<div>\n",
       "<style scoped>\n",
       "    .dataframe tbody tr th:only-of-type {\n",
       "        vertical-align: middle;\n",
       "    }\n",
       "\n",
       "    .dataframe tbody tr th {\n",
       "        vertical-align: top;\n",
       "    }\n",
       "\n",
       "    .dataframe thead th {\n",
       "        text-align: right;\n",
       "    }\n",
       "</style>\n",
       "<table border=\"1\" class=\"dataframe\">\n",
       "  <thead>\n",
       "    <tr style=\"text-align: right;\">\n",
       "      <th></th>\n",
       "      <th>subreddit</th>\n",
       "      <th>text</th>\n",
       "      <th>clean_text</th>\n",
       "    </tr>\n",
       "  </thead>\n",
       "  <tbody>\n",
       "    <tr>\n",
       "      <th>0</th>\n",
       "      <td>Android</td>\n",
       "      <td>Contact Pictures Pixelated</td>\n",
       "      <td>contact picture pixelated</td>\n",
       "    </tr>\n",
       "    <tr>\n",
       "      <th>1</th>\n",
       "      <td>Android</td>\n",
       "      <td>Samsung Galaxy Z Fold4, Z Flip4 fully revealed</td>\n",
       "      <td>samsung galaxy z fold4 z flip4 fully revealed</td>\n",
       "    </tr>\n",
       "    <tr>\n",
       "      <th>2</th>\n",
       "      <td>Android</td>\n",
       "      <td>Motorola G71 vs. Motorola G60 vs. Galaxy A53 (...</td>\n",
       "      <td>motorola g71 v motorola g60 v galaxy a53 heard...</td>\n",
       "    </tr>\n",
       "    <tr>\n",
       "      <th>3</th>\n",
       "      <td>Android</td>\n",
       "      <td>European War 7: Medieval Mod_Hack Unlocked Ful...</td>\n",
       "      <td>european war 7 medieval mod hack unlocked full...</td>\n",
       "    </tr>\n",
       "    <tr>\n",
       "      <th>4</th>\n",
       "      <td>Android</td>\n",
       "      <td>Malware hits millions of Android users  delete...</td>\n",
       "      <td>malware hit million android user delete apps r...</td>\n",
       "    </tr>\n",
       "    <tr>\n",
       "      <th>...</th>\n",
       "      <td>...</td>\n",
       "      <td>...</td>\n",
       "      <td>...</td>\n",
       "    </tr>\n",
       "    <tr>\n",
       "      <th>21959</th>\n",
       "      <td>apple</td>\n",
       "      <td>IPHONE 13 HIDDEN FEATURES AND TRICKS</td>\n",
       "      <td>iphone 13 hidden feature trick</td>\n",
       "    </tr>\n",
       "    <tr>\n",
       "      <th>21960</th>\n",
       "      <td>apple</td>\n",
       "      <td>Apple's secret</td>\n",
       "      <td>apple secret</td>\n",
       "    </tr>\n",
       "    <tr>\n",
       "      <th>21961</th>\n",
       "      <td>apple</td>\n",
       "      <td>Shared Albums disappeared overnight apart from...</td>\n",
       "      <td>shared album disappeared overnight apart lates...</td>\n",
       "    </tr>\n",
       "    <tr>\n",
       "      <th>21962</th>\n",
       "      <td>apple</td>\n",
       "      <td>Apple's secret</td>\n",
       "      <td>apple secret</td>\n",
       "    </tr>\n",
       "    <tr>\n",
       "      <th>21963</th>\n",
       "      <td>apple</td>\n",
       "      <td>What iPhone is this?</td>\n",
       "      <td>iphone</td>\n",
       "    </tr>\n",
       "  </tbody>\n",
       "</table>\n",
       "<p>21964 rows × 3 columns</p>\n",
       "</div>"
      ],
      "text/plain": [
       "      subreddit                                               text  \\\n",
       "0       Android                         Contact Pictures Pixelated   \n",
       "1       Android     Samsung Galaxy Z Fold4, Z Flip4 fully revealed   \n",
       "2       Android  Motorola G71 vs. Motorola G60 vs. Galaxy A53 (...   \n",
       "3       Android  European War 7: Medieval Mod_Hack Unlocked Ful...   \n",
       "4       Android  Malware hits millions of Android users  delete...   \n",
       "...         ...                                                ...   \n",
       "21959     apple               IPHONE 13 HIDDEN FEATURES AND TRICKS   \n",
       "21960     apple                                     Apple's secret   \n",
       "21961     apple  Shared Albums disappeared overnight apart from...   \n",
       "21962     apple                                     Apple's secret   \n",
       "21963     apple                               What iPhone is this?   \n",
       "\n",
       "                                              clean_text  \n",
       "0                              contact picture pixelated  \n",
       "1          samsung galaxy z fold4 z flip4 fully revealed  \n",
       "2      motorola g71 v motorola g60 v galaxy a53 heard...  \n",
       "3      european war 7 medieval mod hack unlocked full...  \n",
       "4      malware hit million android user delete apps r...  \n",
       "...                                                  ...  \n",
       "21959                     iphone 13 hidden feature trick  \n",
       "21960                                       apple secret  \n",
       "21961  shared album disappeared overnight apart lates...  \n",
       "21962                                       apple secret  \n",
       "21963                                             iphone  \n",
       "\n",
       "[21964 rows x 3 columns]"
      ]
     },
     "execution_count": 21,
     "metadata": {},
     "output_type": "execute_result"
    }
   ],
   "source": [
    "df"
   ]
  },
  {
   "cell_type": "code",
   "execution_count": 22,
   "id": "02bb7abb",
   "metadata": {
    "ExecuteTime": {
     "end_time": "2022-08-12T15:07:11.927725Z",
     "start_time": "2022-08-12T15:07:11.871792Z"
    }
   },
   "outputs": [
    {
     "name": "stdout",
     "output_type": "stream",
     "text": [
      "Total nulls: 0\n"
     ]
    }
   ],
   "source": [
    "print(\"Total nulls:\" , df.isnull().sum().sum())"
   ]
  },
  {
   "cell_type": "code",
   "execution_count": 23,
   "id": "64784e15",
   "metadata": {
    "ExecuteTime": {
     "end_time": "2022-08-12T15:07:11.959457Z",
     "start_time": "2022-08-12T15:07:11.933903Z"
    },
    "scrolled": true
   },
   "outputs": [
    {
     "data": {
      "text/plain": [
       "subreddit     0\n",
       "text          0\n",
       "clean_text    0\n",
       "dtype: int64"
      ]
     },
     "execution_count": 23,
     "metadata": {},
     "output_type": "execute_result"
    }
   ],
   "source": [
    "df.isnull().sum()"
   ]
  },
  {
   "cell_type": "markdown",
   "id": "a3422359",
   "metadata": {},
   "source": [
    "### Feature Engineering"
   ]
  },
  {
   "cell_type": "code",
   "execution_count": 24,
   "id": "5e0935ec",
   "metadata": {
    "ExecuteTime": {
     "end_time": "2022-08-12T15:07:11.975327Z",
     "start_time": "2022-08-12T15:07:11.961695Z"
    }
   },
   "outputs": [],
   "source": [
    "# Create function to tokenize 'body'\n",
    "def tokenizer(x):\n",
    "    tokenizer = RegexpTokenizer(r'\\w+')\n",
    "    return tokenizer.tokenize(x)"
   ]
  },
  {
   "cell_type": "code",
   "execution_count": 25,
   "id": "c81407f0",
   "metadata": {
    "ExecuteTime": {
     "end_time": "2022-08-12T15:07:12.116956Z",
     "start_time": "2022-08-12T15:07:11.977675Z"
    }
   },
   "outputs": [],
   "source": [
    "df['tokens'] = df['clean_text'].map(tokenizer)"
   ]
  },
  {
   "cell_type": "code",
   "execution_count": 26,
   "id": "43b97160",
   "metadata": {
    "ExecuteTime": {
     "end_time": "2022-08-12T15:07:12.380994Z",
     "start_time": "2022-08-12T15:07:12.118333Z"
    }
   },
   "outputs": [],
   "source": [
    "#Replacing blank values (white space) with NaN \n",
    "df = df.replace(r'^\\s*$', np.nan, regex=True)"
   ]
  },
  {
   "cell_type": "markdown",
   "id": "3752130a",
   "metadata": {},
   "source": [
    "### Data Cleaning"
   ]
  },
  {
   "cell_type": "code",
   "execution_count": 27,
   "id": "a2c7cc5d",
   "metadata": {
    "ExecuteTime": {
     "end_time": "2022-08-12T15:07:12.442756Z",
     "start_time": "2022-08-12T15:07:12.382105Z"
    },
    "scrolled": true
   },
   "outputs": [
    {
     "data": {
      "text/html": [
       "<div>\n",
       "<style scoped>\n",
       "    .dataframe tbody tr th:only-of-type {\n",
       "        vertical-align: middle;\n",
       "    }\n",
       "\n",
       "    .dataframe tbody tr th {\n",
       "        vertical-align: top;\n",
       "    }\n",
       "\n",
       "    .dataframe thead th {\n",
       "        text-align: right;\n",
       "    }\n",
       "</style>\n",
       "<table border=\"1\" class=\"dataframe\">\n",
       "  <thead>\n",
       "    <tr style=\"text-align: right;\">\n",
       "      <th></th>\n",
       "      <th>subreddit</th>\n",
       "      <th>text</th>\n",
       "      <th>clean_text</th>\n",
       "      <th>tokens</th>\n",
       "    </tr>\n",
       "  </thead>\n",
       "  <tbody>\n",
       "    <tr>\n",
       "      <th>5</th>\n",
       "      <td>Android</td>\n",
       "      <td>NaN</td>\n",
       "      <td>NaN</td>\n",
       "      <td>[]</td>\n",
       "    </tr>\n",
       "    <tr>\n",
       "      <th>54</th>\n",
       "      <td>Android</td>\n",
       "      <td>NaN</td>\n",
       "      <td>NaN</td>\n",
       "      <td>[]</td>\n",
       "    </tr>\n",
       "    <tr>\n",
       "      <th>210</th>\n",
       "      <td>Android</td>\n",
       "      <td>We are here!!!</td>\n",
       "      <td>NaN</td>\n",
       "      <td>[]</td>\n",
       "    </tr>\n",
       "    <tr>\n",
       "      <th>342</th>\n",
       "      <td>Android</td>\n",
       "      <td>NaN</td>\n",
       "      <td>NaN</td>\n",
       "      <td>[]</td>\n",
       "    </tr>\n",
       "    <tr>\n",
       "      <th>416</th>\n",
       "      <td>Android</td>\n",
       "      <td>NaN</td>\n",
       "      <td>NaN</td>\n",
       "      <td>[]</td>\n",
       "    </tr>\n",
       "    <tr>\n",
       "      <th>487</th>\n",
       "      <td>Android</td>\n",
       "      <td>NaN</td>\n",
       "      <td>NaN</td>\n",
       "      <td>[]</td>\n",
       "    </tr>\n",
       "    <tr>\n",
       "      <th>847</th>\n",
       "      <td>Android</td>\n",
       "      <td>NaN</td>\n",
       "      <td>NaN</td>\n",
       "      <td>[]</td>\n",
       "    </tr>\n",
       "    <tr>\n",
       "      <th>918</th>\n",
       "      <td>Android</td>\n",
       "      <td>NaN</td>\n",
       "      <td>NaN</td>\n",
       "      <td>[]</td>\n",
       "    </tr>\n",
       "    <tr>\n",
       "      <th>1036</th>\n",
       "      <td>Android</td>\n",
       "      <td>NaN</td>\n",
       "      <td>NaN</td>\n",
       "      <td>[]</td>\n",
       "    </tr>\n",
       "    <tr>\n",
       "      <th>1141</th>\n",
       "      <td>Android</td>\n",
       "      <td>-</td>\n",
       "      <td>NaN</td>\n",
       "      <td>[]</td>\n",
       "    </tr>\n",
       "    <tr>\n",
       "      <th>1312</th>\n",
       "      <td>Android</td>\n",
       "      <td>NaN</td>\n",
       "      <td>NaN</td>\n",
       "      <td>[]</td>\n",
       "    </tr>\n",
       "    <tr>\n",
       "      <th>1409</th>\n",
       "      <td>Android</td>\n",
       "      <td>NaN</td>\n",
       "      <td>NaN</td>\n",
       "      <td>[]</td>\n",
       "    </tr>\n",
       "    <tr>\n",
       "      <th>1571</th>\n",
       "      <td>Android</td>\n",
       "      <td>Which phone?</td>\n",
       "      <td>NaN</td>\n",
       "      <td>[]</td>\n",
       "    </tr>\n",
       "    <tr>\n",
       "      <th>2097</th>\n",
       "      <td>Android</td>\n",
       "      <td>Which phone ?</td>\n",
       "      <td>NaN</td>\n",
       "      <td>[]</td>\n",
       "    </tr>\n",
       "    <tr>\n",
       "      <th>2353</th>\n",
       "      <td>Android</td>\n",
       "      <td>NaN</td>\n",
       "      <td>NaN</td>\n",
       "      <td>[]</td>\n",
       "    </tr>\n",
       "    <tr>\n",
       "      <th>2475</th>\n",
       "      <td>Android</td>\n",
       "      <td>,</td>\n",
       "      <td>NaN</td>\n",
       "      <td>[]</td>\n",
       "    </tr>\n",
       "    <tr>\n",
       "      <th>2758</th>\n",
       "      <td>Android</td>\n",
       "      <td>NaN</td>\n",
       "      <td>NaN</td>\n",
       "      <td>[]</td>\n",
       "    </tr>\n",
       "    <tr>\n",
       "      <th>2856</th>\n",
       "      <td>Android</td>\n",
       "      <td>NaN</td>\n",
       "      <td>NaN</td>\n",
       "      <td>[]</td>\n",
       "    </tr>\n",
       "    <tr>\n",
       "      <th>2901</th>\n",
       "      <td>Android</td>\n",
       "      <td>NaN</td>\n",
       "      <td>NaN</td>\n",
       "      <td>[]</td>\n",
       "    </tr>\n",
       "    <tr>\n",
       "      <th>3005</th>\n",
       "      <td>Android</td>\n",
       "      <td>NaN</td>\n",
       "      <td>NaN</td>\n",
       "      <td>[]</td>\n",
       "    </tr>\n",
       "    <tr>\n",
       "      <th>4585</th>\n",
       "      <td>Android</td>\n",
       "      <td>NaN</td>\n",
       "      <td>NaN</td>\n",
       "      <td>[]</td>\n",
       "    </tr>\n",
       "    <tr>\n",
       "      <th>5756</th>\n",
       "      <td>Android</td>\n",
       "      <td>what is this.</td>\n",
       "      <td>NaN</td>\n",
       "      <td>[]</td>\n",
       "    </tr>\n",
       "    <tr>\n",
       "      <th>6175</th>\n",
       "      <td>Android</td>\n",
       "      <td>NaN</td>\n",
       "      <td>NaN</td>\n",
       "      <td>[]</td>\n",
       "    </tr>\n",
       "    <tr>\n",
       "      <th>6337</th>\n",
       "      <td>Android</td>\n",
       "      <td>over and over</td>\n",
       "      <td>NaN</td>\n",
       "      <td>[]</td>\n",
       "    </tr>\n",
       "    <tr>\n",
       "      <th>6339</th>\n",
       "      <td>Android</td>\n",
       "      <td>NaN</td>\n",
       "      <td>NaN</td>\n",
       "      <td>[]</td>\n",
       "    </tr>\n",
       "    <tr>\n",
       "      <th>6371</th>\n",
       "      <td>Android</td>\n",
       "      <td>NaN</td>\n",
       "      <td>NaN</td>\n",
       "      <td>[]</td>\n",
       "    </tr>\n",
       "    <tr>\n",
       "      <th>7006</th>\n",
       "      <td>Android</td>\n",
       "      <td>NaN</td>\n",
       "      <td>NaN</td>\n",
       "      <td>[]</td>\n",
       "    </tr>\n",
       "    <tr>\n",
       "      <th>7092</th>\n",
       "      <td>Android</td>\n",
       "      <td>NaN</td>\n",
       "      <td>NaN</td>\n",
       "      <td>[]</td>\n",
       "    </tr>\n",
       "    <tr>\n",
       "      <th>7275</th>\n",
       "      <td>Android</td>\n",
       "      <td>NaN</td>\n",
       "      <td>NaN</td>\n",
       "      <td>[]</td>\n",
       "    </tr>\n",
       "    <tr>\n",
       "      <th>7724</th>\n",
       "      <td>Android</td>\n",
       "      <td>NaN</td>\n",
       "      <td>NaN</td>\n",
       "      <td>[]</td>\n",
       "    </tr>\n",
       "    <tr>\n",
       "      <th>7803</th>\n",
       "      <td>Android</td>\n",
       "      <td>NaN</td>\n",
       "      <td>NaN</td>\n",
       "      <td>[]</td>\n",
       "    </tr>\n",
       "    <tr>\n",
       "      <th>7840</th>\n",
       "      <td>Android</td>\n",
       "      <td>What is this?</td>\n",
       "      <td>NaN</td>\n",
       "      <td>[]</td>\n",
       "    </tr>\n",
       "    <tr>\n",
       "      <th>7865</th>\n",
       "      <td>Android</td>\n",
       "      <td>NaN</td>\n",
       "      <td>NaN</td>\n",
       "      <td>[]</td>\n",
       "    </tr>\n",
       "    <tr>\n",
       "      <th>8163</th>\n",
       "      <td>Android</td>\n",
       "      <td>NaN</td>\n",
       "      <td>NaN</td>\n",
       "      <td>[]</td>\n",
       "    </tr>\n",
       "    <tr>\n",
       "      <th>9977</th>\n",
       "      <td>Android</td>\n",
       "      <td>NaN</td>\n",
       "      <td>NaN</td>\n",
       "      <td>[]</td>\n",
       "    </tr>\n",
       "    <tr>\n",
       "      <th>10249</th>\n",
       "      <td>Android</td>\n",
       "      <td>-</td>\n",
       "      <td>NaN</td>\n",
       "      <td>[]</td>\n",
       "    </tr>\n",
       "    <tr>\n",
       "      <th>10279</th>\n",
       "      <td>Android</td>\n",
       "      <td>NaN</td>\n",
       "      <td>NaN</td>\n",
       "      <td>[]</td>\n",
       "    </tr>\n",
       "    <tr>\n",
       "      <th>10466</th>\n",
       "      <td>Android</td>\n",
       "      <td>/  |</td>\n",
       "      <td>NaN</td>\n",
       "      <td>[]</td>\n",
       "    </tr>\n",
       "    <tr>\n",
       "      <th>10473</th>\n",
       "      <td>Android</td>\n",
       "      <td>/  |</td>\n",
       "      <td>NaN</td>\n",
       "      <td>[]</td>\n",
       "    </tr>\n",
       "    <tr>\n",
       "      <th>10555</th>\n",
       "      <td>Android</td>\n",
       "      <td>NaN</td>\n",
       "      <td>NaN</td>\n",
       "      <td>[]</td>\n",
       "    </tr>\n",
       "    <tr>\n",
       "      <th>10886</th>\n",
       "      <td>Android</td>\n",
       "      <td>?</td>\n",
       "      <td>NaN</td>\n",
       "      <td>[]</td>\n",
       "    </tr>\n",
       "    <tr>\n",
       "      <th>11049</th>\n",
       "      <td>apple</td>\n",
       "      <td>NaN</td>\n",
       "      <td>NaN</td>\n",
       "      <td>[]</td>\n",
       "    </tr>\n",
       "    <tr>\n",
       "      <th>11139</th>\n",
       "      <td>apple</td>\n",
       "      <td>NaN</td>\n",
       "      <td>NaN</td>\n",
       "      <td>[]</td>\n",
       "    </tr>\n",
       "    <tr>\n",
       "      <th>11280</th>\n",
       "      <td>apple</td>\n",
       "      <td>What is this</td>\n",
       "      <td>NaN</td>\n",
       "      <td>[]</td>\n",
       "    </tr>\n",
       "    <tr>\n",
       "      <th>11427</th>\n",
       "      <td>apple</td>\n",
       "      <td>Why?</td>\n",
       "      <td>NaN</td>\n",
       "      <td>[]</td>\n",
       "    </tr>\n",
       "    <tr>\n",
       "      <th>12322</th>\n",
       "      <td>apple</td>\n",
       "      <td>why-</td>\n",
       "      <td>NaN</td>\n",
       "      <td>[]</td>\n",
       "    </tr>\n",
       "    <tr>\n",
       "      <th>12329</th>\n",
       "      <td>apple</td>\n",
       "      <td>NaN</td>\n",
       "      <td>NaN</td>\n",
       "      <td>[]</td>\n",
       "    </tr>\n",
       "    <tr>\n",
       "      <th>14427</th>\n",
       "      <td>apple</td>\n",
       "      <td>NaN</td>\n",
       "      <td>NaN</td>\n",
       "      <td>[]</td>\n",
       "    </tr>\n",
       "    <tr>\n",
       "      <th>16535</th>\n",
       "      <td>apple</td>\n",
       "      <td>NaN</td>\n",
       "      <td>NaN</td>\n",
       "      <td>[]</td>\n",
       "    </tr>\n",
       "    <tr>\n",
       "      <th>16536</th>\n",
       "      <td>apple</td>\n",
       "      <td>NaN</td>\n",
       "      <td>NaN</td>\n",
       "      <td>[]</td>\n",
       "    </tr>\n",
       "    <tr>\n",
       "      <th>16537</th>\n",
       "      <td>apple</td>\n",
       "      <td>NaN</td>\n",
       "      <td>NaN</td>\n",
       "      <td>[]</td>\n",
       "    </tr>\n",
       "    <tr>\n",
       "      <th>16539</th>\n",
       "      <td>apple</td>\n",
       "      <td>NaN</td>\n",
       "      <td>NaN</td>\n",
       "      <td>[]</td>\n",
       "    </tr>\n",
       "    <tr>\n",
       "      <th>16540</th>\n",
       "      <td>apple</td>\n",
       "      <td>NaN</td>\n",
       "      <td>NaN</td>\n",
       "      <td>[]</td>\n",
       "    </tr>\n",
       "    <tr>\n",
       "      <th>16542</th>\n",
       "      <td>apple</td>\n",
       "      <td>NaN</td>\n",
       "      <td>NaN</td>\n",
       "      <td>[]</td>\n",
       "    </tr>\n",
       "    <tr>\n",
       "      <th>17202</th>\n",
       "      <td>apple</td>\n",
       "      <td>NaN</td>\n",
       "      <td>NaN</td>\n",
       "      <td>[]</td>\n",
       "    </tr>\n",
       "    <tr>\n",
       "      <th>17640</th>\n",
       "      <td>apple</td>\n",
       "      <td>Why</td>\n",
       "      <td>NaN</td>\n",
       "      <td>[]</td>\n",
       "    </tr>\n",
       "    <tr>\n",
       "      <th>18599</th>\n",
       "      <td>apple</td>\n",
       "      <td>Which?</td>\n",
       "      <td>NaN</td>\n",
       "      <td>[]</td>\n",
       "    </tr>\n",
       "    <tr>\n",
       "      <th>18673</th>\n",
       "      <td>apple</td>\n",
       "      <td>What</td>\n",
       "      <td>NaN</td>\n",
       "      <td>[]</td>\n",
       "    </tr>\n",
       "    <tr>\n",
       "      <th>21148</th>\n",
       "      <td>apple</td>\n",
       "      <td>?</td>\n",
       "      <td>NaN</td>\n",
       "      <td>[]</td>\n",
       "    </tr>\n",
       "  </tbody>\n",
       "</table>\n",
       "</div>"
      ],
      "text/plain": [
       "      subreddit            text clean_text tokens\n",
       "5       Android             NaN        NaN     []\n",
       "54      Android             NaN        NaN     []\n",
       "210     Android  We are here!!!        NaN     []\n",
       "342     Android             NaN        NaN     []\n",
       "416     Android             NaN        NaN     []\n",
       "487     Android             NaN        NaN     []\n",
       "847     Android             NaN        NaN     []\n",
       "918     Android             NaN        NaN     []\n",
       "1036    Android             NaN        NaN     []\n",
       "1141    Android             -          NaN     []\n",
       "1312    Android             NaN        NaN     []\n",
       "1409    Android             NaN        NaN     []\n",
       "1571    Android    Which phone?        NaN     []\n",
       "2097    Android   Which phone ?        NaN     []\n",
       "2353    Android             NaN        NaN     []\n",
       "2475    Android            ,           NaN     []\n",
       "2758    Android             NaN        NaN     []\n",
       "2856    Android             NaN        NaN     []\n",
       "2901    Android             NaN        NaN     []\n",
       "3005    Android             NaN        NaN     []\n",
       "4585    Android             NaN        NaN     []\n",
       "5756    Android   what is this.        NaN     []\n",
       "6175    Android             NaN        NaN     []\n",
       "6337    Android   over and over        NaN     []\n",
       "6339    Android             NaN        NaN     []\n",
       "6371    Android             NaN        NaN     []\n",
       "7006    Android             NaN        NaN     []\n",
       "7092    Android             NaN        NaN     []\n",
       "7275    Android             NaN        NaN     []\n",
       "7724    Android             NaN        NaN     []\n",
       "7803    Android             NaN        NaN     []\n",
       "7840    Android   What is this?        NaN     []\n",
       "7865    Android             NaN        NaN     []\n",
       "8163    Android             NaN        NaN     []\n",
       "9977    Android             NaN        NaN     []\n",
       "10249   Android         -              NaN     []\n",
       "10279   Android             NaN        NaN     []\n",
       "10466   Android          /  |          NaN     []\n",
       "10473   Android          /  |          NaN     []\n",
       "10555   Android             NaN        NaN     []\n",
       "10886   Android               ?        NaN     []\n",
       "11049     apple             NaN        NaN     []\n",
       "11139     apple             NaN        NaN     []\n",
       "11280     apple    What is this        NaN     []\n",
       "11427     apple            Why?        NaN     []\n",
       "12322     apple            why-        NaN     []\n",
       "12329     apple             NaN        NaN     []\n",
       "14427     apple             NaN        NaN     []\n",
       "16535     apple             NaN        NaN     []\n",
       "16536     apple             NaN        NaN     []\n",
       "16537     apple             NaN        NaN     []\n",
       "16539     apple             NaN        NaN     []\n",
       "16540     apple             NaN        NaN     []\n",
       "16542     apple             NaN        NaN     []\n",
       "17202     apple             NaN        NaN     []\n",
       "17640     apple             Why        NaN     []\n",
       "18599     apple          Which?        NaN     []\n",
       "18673     apple            What        NaN     []\n",
       "21148     apple               ?        NaN     []"
      ]
     },
     "execution_count": 27,
     "metadata": {},
     "output_type": "execute_result"
    }
   ],
   "source": [
    "df[df.isna().any(axis=1)]"
   ]
  },
  {
   "cell_type": "code",
   "execution_count": 28,
   "id": "51b6531c",
   "metadata": {
    "ExecuteTime": {
     "end_time": "2022-08-12T15:07:12.473872Z",
     "start_time": "2022-08-12T15:07:12.445229Z"
    }
   },
   "outputs": [],
   "source": [
    "df = df.dropna()"
   ]
  },
  {
   "cell_type": "code",
   "execution_count": 29,
   "id": "bb33fc3c",
   "metadata": {
    "ExecuteTime": {
     "end_time": "2022-08-12T15:07:12.504281Z",
     "start_time": "2022-08-12T15:07:12.476320Z"
    },
    "scrolled": true
   },
   "outputs": [
    {
     "data": {
      "text/plain": [
       "subreddit     0\n",
       "text          0\n",
       "clean_text    0\n",
       "tokens        0\n",
       "dtype: int64"
      ]
     },
     "execution_count": 29,
     "metadata": {},
     "output_type": "execute_result"
    }
   ],
   "source": [
    "df.isnull().sum()"
   ]
  },
  {
   "cell_type": "code",
   "execution_count": 30,
   "id": "2b4b92e3",
   "metadata": {
    "ExecuteTime": {
     "end_time": "2022-08-12T15:07:12.536324Z",
     "start_time": "2022-08-12T15:07:12.505926Z"
    }
   },
   "outputs": [
    {
     "data": {
      "text/html": [
       "<div>\n",
       "<style scoped>\n",
       "    .dataframe tbody tr th:only-of-type {\n",
       "        vertical-align: middle;\n",
       "    }\n",
       "\n",
       "    .dataframe tbody tr th {\n",
       "        vertical-align: top;\n",
       "    }\n",
       "\n",
       "    .dataframe thead th {\n",
       "        text-align: right;\n",
       "    }\n",
       "</style>\n",
       "<table border=\"1\" class=\"dataframe\">\n",
       "  <thead>\n",
       "    <tr style=\"text-align: right;\">\n",
       "      <th></th>\n",
       "      <th>text</th>\n",
       "      <th>clean_text</th>\n",
       "      <th>tokens</th>\n",
       "    </tr>\n",
       "    <tr>\n",
       "      <th>subreddit</th>\n",
       "      <th></th>\n",
       "      <th></th>\n",
       "      <th></th>\n",
       "    </tr>\n",
       "  </thead>\n",
       "  <tbody>\n",
       "    <tr>\n",
       "      <th>Android</th>\n",
       "      <td>10939</td>\n",
       "      <td>10939</td>\n",
       "      <td>10939</td>\n",
       "    </tr>\n",
       "    <tr>\n",
       "      <th>apple</th>\n",
       "      <td>10966</td>\n",
       "      <td>10966</td>\n",
       "      <td>10966</td>\n",
       "    </tr>\n",
       "  </tbody>\n",
       "</table>\n",
       "</div>"
      ],
      "text/plain": [
       "            text  clean_text  tokens\n",
       "subreddit                           \n",
       "Android    10939       10939   10939\n",
       "apple      10966       10966   10966"
      ]
     },
     "execution_count": 30,
     "metadata": {},
     "output_type": "execute_result"
    }
   ],
   "source": [
    "df.groupby(['subreddit']).count()"
   ]
  },
  {
   "cell_type": "markdown",
   "id": "42c9a88e",
   "metadata": {},
   "source": [
    "### Data Imbalance\n",
    "To prevent data in balance we will take 10900 data from each subreddit for further processing,  "
   ]
  },
  {
   "cell_type": "code",
   "execution_count": 31,
   "id": "fdd685ce",
   "metadata": {
    "ExecuteTime": {
     "end_time": "2022-08-12T15:07:12.552188Z",
     "start_time": "2022-08-12T15:07:12.538766Z"
    },
    "scrolled": true
   },
   "outputs": [],
   "source": [
    "df_android = df[df.subreddit == 'Android']\n",
    "df_android = df_android.head(10900)\n",
    "df_apple = df[df.subreddit == 'apple']\n",
    "df_apple = df_apple.head(10900)"
   ]
  },
  {
   "cell_type": "code",
   "execution_count": 32,
   "id": "192be755",
   "metadata": {
    "ExecuteTime": {
     "end_time": "2022-08-12T15:07:12.568246Z",
     "start_time": "2022-08-12T15:07:12.557270Z"
    },
    "scrolled": true
   },
   "outputs": [
    {
     "name": "stdout",
     "output_type": "stream",
     "text": [
      "android shape (10900, 4)\n",
      "apple shape (10900, 4)\n"
     ]
    }
   ],
   "source": [
    "print(\"android shape\", df_android.shape)\n",
    "print(\"apple shape\", df_apple.shape)"
   ]
  },
  {
   "cell_type": "code",
   "execution_count": 33,
   "id": "e7b0605e",
   "metadata": {
    "ExecuteTime": {
     "end_time": "2022-08-12T15:07:12.584625Z",
     "start_time": "2022-08-12T15:07:12.572478Z"
    }
   },
   "outputs": [],
   "source": [
    "#combine them back into one dataframe\n",
    "df = pd.concat([df_apple, df_android], axis=0, join='outer',ignore_index=False)\n",
    "df.reset_index(drop=True, inplace=True)"
   ]
  },
  {
   "cell_type": "markdown",
   "id": "20343c2f",
   "metadata": {},
   "source": [
    "### Creating Label column\n",
    "\n",
    "apple = 0  \n",
    "Android = 1\n"
   ]
  },
  {
   "cell_type": "code",
   "execution_count": 34,
   "id": "85f56ab6",
   "metadata": {
    "ExecuteTime": {
     "end_time": "2022-08-12T15:07:12.615517Z",
     "start_time": "2022-08-12T15:07:12.588647Z"
    }
   },
   "outputs": [],
   "source": [
    "df['label'] = df['subreddit'].map({'apple':0,'Android':1})"
   ]
  },
  {
   "cell_type": "code",
   "execution_count": 35,
   "id": "c04c9c9a",
   "metadata": {
    "ExecuteTime": {
     "end_time": "2022-08-12T15:07:12.647294Z",
     "start_time": "2022-08-12T15:07:12.619506Z"
    },
    "scrolled": true
   },
   "outputs": [
    {
     "data": {
      "text/html": [
       "<div>\n",
       "<style scoped>\n",
       "    .dataframe tbody tr th:only-of-type {\n",
       "        vertical-align: middle;\n",
       "    }\n",
       "\n",
       "    .dataframe tbody tr th {\n",
       "        vertical-align: top;\n",
       "    }\n",
       "\n",
       "    .dataframe thead th {\n",
       "        text-align: right;\n",
       "    }\n",
       "</style>\n",
       "<table border=\"1\" class=\"dataframe\">\n",
       "  <thead>\n",
       "    <tr style=\"text-align: right;\">\n",
       "      <th></th>\n",
       "      <th>subreddit</th>\n",
       "      <th>text</th>\n",
       "      <th>clean_text</th>\n",
       "      <th>tokens</th>\n",
       "      <th>label</th>\n",
       "    </tr>\n",
       "  </thead>\n",
       "  <tbody>\n",
       "    <tr>\n",
       "      <th>0</th>\n",
       "      <td>apple</td>\n",
       "      <td>I locked my MacBook when it was lost, through ...</td>\n",
       "      <td>locked macbook lost find app activate help</td>\n",
       "      <td>[locked, macbook, lost, find, app, activate, h...</td>\n",
       "      <td>0</td>\n",
       "    </tr>\n",
       "    <tr>\n",
       "      <th>1</th>\n",
       "      <td>apple</td>\n",
       "      <td>Apple's M2 MacBook Pro Sees First Ever Discoun...</td>\n",
       "      <td>apple m2 macbook pro see first ever discount 2...</td>\n",
       "      <td>[apple, m2, macbook, pro, see, first, ever, di...</td>\n",
       "      <td>0</td>\n",
       "    </tr>\n",
       "    <tr>\n",
       "      <th>2</th>\n",
       "      <td>apple</td>\n",
       "      <td>Home Automation</td>\n",
       "      <td>home automation</td>\n",
       "      <td>[home, automation]</td>\n",
       "      <td>0</td>\n",
       "    </tr>\n",
       "    <tr>\n",
       "      <th>3</th>\n",
       "      <td>apple</td>\n",
       "      <td>Apple's customer service beyond Apple Care is ...</td>\n",
       "      <td>apple customer service beyond apple care actua...</td>\n",
       "      <td>[apple, customer, service, beyond, apple, care...</td>\n",
       "      <td>0</td>\n",
       "    </tr>\n",
       "    <tr>\n",
       "      <th>4</th>\n",
       "      <td>apple</td>\n",
       "      <td>Not sure if this is the right place to get hel...</td>\n",
       "      <td>sure right place get help quick</td>\n",
       "      <td>[sure, right, place, get, help, quick]</td>\n",
       "      <td>0</td>\n",
       "    </tr>\n",
       "    <tr>\n",
       "      <th>...</th>\n",
       "      <td>...</td>\n",
       "      <td>...</td>\n",
       "      <td>...</td>\n",
       "      <td>...</td>\n",
       "      <td>...</td>\n",
       "    </tr>\n",
       "    <tr>\n",
       "      <th>21795</th>\n",
       "      <td>Android</td>\n",
       "      <td>S21+ at BB for 949.99?</td>\n",
       "      <td>s21 bb 949 99</td>\n",
       "      <td>[s21, bb, 949, 99]</td>\n",
       "      <td>1</td>\n",
       "    </tr>\n",
       "    <tr>\n",
       "      <th>21796</th>\n",
       "      <td>Android</td>\n",
       "      <td>How to mute individual conversations on Androi...</td>\n",
       "      <td>mute individual conversation android 12</td>\n",
       "      <td>[mute, individual, conversation, android, 12]</td>\n",
       "      <td>1</td>\n",
       "    </tr>\n",
       "    <tr>\n",
       "      <th>21797</th>\n",
       "      <td>Android</td>\n",
       "      <td>Honor Magic 4: All we know so far about the up...</td>\n",
       "      <td>honor magic 4 know far upcoming premium smartp...</td>\n",
       "      <td>[honor, magic, 4, know, far, upcoming, premium...</td>\n",
       "      <td>1</td>\n",
       "    </tr>\n",
       "    <tr>\n",
       "      <th>21798</th>\n",
       "      <td>Android</td>\n",
       "      <td>Top 5 Samsung Galaxy Best Phones Under 50000 F...</td>\n",
       "      <td>top 5 samsung galaxy best phone 50000 money</td>\n",
       "      <td>[top, 5, samsung, galaxy, best, phone, 50000, ...</td>\n",
       "      <td>1</td>\n",
       "    </tr>\n",
       "    <tr>\n",
       "      <th>21799</th>\n",
       "      <td>Android</td>\n",
       "      <td>How to shutdown a phone in bootloop</td>\n",
       "      <td>shutdown bootloop</td>\n",
       "      <td>[shutdown, bootloop]</td>\n",
       "      <td>1</td>\n",
       "    </tr>\n",
       "  </tbody>\n",
       "</table>\n",
       "<p>21800 rows × 5 columns</p>\n",
       "</div>"
      ],
      "text/plain": [
       "      subreddit                                               text  \\\n",
       "0         apple  I locked my MacBook when it was lost, through ...   \n",
       "1         apple  Apple's M2 MacBook Pro Sees First Ever Discoun...   \n",
       "2         apple                                    Home Automation   \n",
       "3         apple  Apple's customer service beyond Apple Care is ...   \n",
       "4         apple  Not sure if this is the right place to get hel...   \n",
       "...         ...                                                ...   \n",
       "21795   Android                             S21+ at BB for 949.99?   \n",
       "21796   Android  How to mute individual conversations on Androi...   \n",
       "21797   Android  Honor Magic 4: All we know so far about the up...   \n",
       "21798   Android  Top 5 Samsung Galaxy Best Phones Under 50000 F...   \n",
       "21799   Android                How to shutdown a phone in bootloop   \n",
       "\n",
       "                                              clean_text  \\\n",
       "0             locked macbook lost find app activate help   \n",
       "1      apple m2 macbook pro see first ever discount 2...   \n",
       "2                                        home automation   \n",
       "3      apple customer service beyond apple care actua...   \n",
       "4                        sure right place get help quick   \n",
       "...                                                  ...   \n",
       "21795                                      s21 bb 949 99   \n",
       "21796            mute individual conversation android 12   \n",
       "21797  honor magic 4 know far upcoming premium smartp...   \n",
       "21798        top 5 samsung galaxy best phone 50000 money   \n",
       "21799                                  shutdown bootloop   \n",
       "\n",
       "                                                  tokens  label  \n",
       "0      [locked, macbook, lost, find, app, activate, h...      0  \n",
       "1      [apple, m2, macbook, pro, see, first, ever, di...      0  \n",
       "2                                     [home, automation]      0  \n",
       "3      [apple, customer, service, beyond, apple, care...      0  \n",
       "4                 [sure, right, place, get, help, quick]      0  \n",
       "...                                                  ...    ...  \n",
       "21795                                 [s21, bb, 949, 99]      1  \n",
       "21796      [mute, individual, conversation, android, 12]      1  \n",
       "21797  [honor, magic, 4, know, far, upcoming, premium...      1  \n",
       "21798  [top, 5, samsung, galaxy, best, phone, 50000, ...      1  \n",
       "21799                               [shutdown, bootloop]      1  \n",
       "\n",
       "[21800 rows x 5 columns]"
      ]
     },
     "execution_count": 35,
     "metadata": {},
     "output_type": "execute_result"
    }
   ],
   "source": [
    "df"
   ]
  },
  {
   "cell_type": "markdown",
   "id": "7d426729",
   "metadata": {},
   "source": [
    "### Removing un-used columns:"
   ]
  },
  {
   "cell_type": "code",
   "execution_count": 36,
   "id": "2aeaf066",
   "metadata": {
    "ExecuteTime": {
     "end_time": "2022-08-12T15:07:12.662606Z",
     "start_time": "2022-08-12T15:07:12.651815Z"
    }
   },
   "outputs": [],
   "source": [
    "drop_columns = ['subreddit','text','tokens']\n",
    "df.drop(columns=drop_columns,axis=1,inplace=True)"
   ]
  },
  {
   "cell_type": "code",
   "execution_count": 37,
   "id": "6b13f047",
   "metadata": {
    "ExecuteTime": {
     "end_time": "2022-08-12T15:07:12.694315Z",
     "start_time": "2022-08-12T15:07:12.665603Z"
    }
   },
   "outputs": [
    {
     "data": {
      "text/html": [
       "<div>\n",
       "<style scoped>\n",
       "    .dataframe tbody tr th:only-of-type {\n",
       "        vertical-align: middle;\n",
       "    }\n",
       "\n",
       "    .dataframe tbody tr th {\n",
       "        vertical-align: top;\n",
       "    }\n",
       "\n",
       "    .dataframe thead th {\n",
       "        text-align: right;\n",
       "    }\n",
       "</style>\n",
       "<table border=\"1\" class=\"dataframe\">\n",
       "  <thead>\n",
       "    <tr style=\"text-align: right;\">\n",
       "      <th></th>\n",
       "      <th>clean_text</th>\n",
       "      <th>label</th>\n",
       "    </tr>\n",
       "  </thead>\n",
       "  <tbody>\n",
       "    <tr>\n",
       "      <th>0</th>\n",
       "      <td>locked macbook lost find app activate help</td>\n",
       "      <td>0</td>\n",
       "    </tr>\n",
       "    <tr>\n",
       "      <th>1</th>\n",
       "      <td>apple m2 macbook pro see first ever discount 2...</td>\n",
       "      <td>0</td>\n",
       "    </tr>\n",
       "    <tr>\n",
       "      <th>2</th>\n",
       "      <td>home automation</td>\n",
       "      <td>0</td>\n",
       "    </tr>\n",
       "    <tr>\n",
       "      <th>3</th>\n",
       "      <td>apple customer service beyond apple care actua...</td>\n",
       "      <td>0</td>\n",
       "    </tr>\n",
       "    <tr>\n",
       "      <th>4</th>\n",
       "      <td>sure right place get help quick</td>\n",
       "      <td>0</td>\n",
       "    </tr>\n",
       "    <tr>\n",
       "      <th>...</th>\n",
       "      <td>...</td>\n",
       "      <td>...</td>\n",
       "    </tr>\n",
       "    <tr>\n",
       "      <th>21795</th>\n",
       "      <td>s21 bb 949 99</td>\n",
       "      <td>1</td>\n",
       "    </tr>\n",
       "    <tr>\n",
       "      <th>21796</th>\n",
       "      <td>mute individual conversation android 12</td>\n",
       "      <td>1</td>\n",
       "    </tr>\n",
       "    <tr>\n",
       "      <th>21797</th>\n",
       "      <td>honor magic 4 know far upcoming premium smartp...</td>\n",
       "      <td>1</td>\n",
       "    </tr>\n",
       "    <tr>\n",
       "      <th>21798</th>\n",
       "      <td>top 5 samsung galaxy best phone 50000 money</td>\n",
       "      <td>1</td>\n",
       "    </tr>\n",
       "    <tr>\n",
       "      <th>21799</th>\n",
       "      <td>shutdown bootloop</td>\n",
       "      <td>1</td>\n",
       "    </tr>\n",
       "  </tbody>\n",
       "</table>\n",
       "<p>21800 rows × 2 columns</p>\n",
       "</div>"
      ],
      "text/plain": [
       "                                              clean_text  label\n",
       "0             locked macbook lost find app activate help      0\n",
       "1      apple m2 macbook pro see first ever discount 2...      0\n",
       "2                                        home automation      0\n",
       "3      apple customer service beyond apple care actua...      0\n",
       "4                        sure right place get help quick      0\n",
       "...                                                  ...    ...\n",
       "21795                                      s21 bb 949 99      1\n",
       "21796            mute individual conversation android 12      1\n",
       "21797  honor magic 4 know far upcoming premium smartp...      1\n",
       "21798        top 5 samsung galaxy best phone 50000 money      1\n",
       "21799                                  shutdown bootloop      1\n",
       "\n",
       "[21800 rows x 2 columns]"
      ]
     },
     "execution_count": 37,
     "metadata": {},
     "output_type": "execute_result"
    }
   ],
   "source": [
    "df"
   ]
  },
  {
   "cell_type": "markdown",
   "id": "92350d8e",
   "metadata": {},
   "source": [
    "### Cheking most comon words for each class"
   ]
  },
  {
   "cell_type": "code",
   "execution_count": 38,
   "id": "ff94c1a8",
   "metadata": {
    "ExecuteTime": {
     "end_time": "2022-08-12T15:07:12.709787Z",
     "start_time": "2022-08-12T15:07:12.698350Z"
    }
   },
   "outputs": [],
   "source": [
    "def wordListToFreqDict(wordlist):\n",
    "    wordfreq = [wordlist.count(p) for p in wordlist]\n",
    "    return dict(zip(wordlist,wordfreq))\n",
    "\n",
    "def sortFreqDict(freqdict):\n",
    "    aux = [(freqdict[key], key) for key in freqdict]\n",
    "    aux.sort()\n",
    "    aux.reverse()\n",
    "    return aux"
   ]
  },
  {
   "cell_type": "code",
   "execution_count": 39,
   "id": "1e387b1a",
   "metadata": {
    "ExecuteTime": {
     "end_time": "2022-08-12T15:09:02.577708Z",
     "start_time": "2022-08-12T15:07:12.714075Z"
    },
    "scrolled": true
   },
   "outputs": [
    {
     "name": "stdout",
     "output_type": "stream",
     "text": [
      "android word count length: 102847\n"
     ]
    },
    {
     "data": {
      "text/html": [
       "<div>\n",
       "<style scoped>\n",
       "    .dataframe tbody tr th:only-of-type {\n",
       "        vertical-align: middle;\n",
       "    }\n",
       "\n",
       "    .dataframe tbody tr th {\n",
       "        vertical-align: top;\n",
       "    }\n",
       "\n",
       "    .dataframe thead th {\n",
       "        text-align: right;\n",
       "    }\n",
       "</style>\n",
       "<table border=\"1\" class=\"dataframe\">\n",
       "  <thead>\n",
       "    <tr style=\"text-align: right;\">\n",
       "      <th></th>\n",
       "      <th>count</th>\n",
       "      <th>word</th>\n",
       "    </tr>\n",
       "  </thead>\n",
       "  <tbody>\n",
       "    <tr>\n",
       "      <th>0</th>\n",
       "      <td>3487</td>\n",
       "      <td>android</td>\n",
       "    </tr>\n",
       "    <tr>\n",
       "      <th>1</th>\n",
       "      <td>1267</td>\n",
       "      <td>wiki</td>\n",
       "    </tr>\n",
       "    <tr>\n",
       "      <th>2</th>\n",
       "      <td>1225</td>\n",
       "      <td>com</td>\n",
       "    </tr>\n",
       "    <tr>\n",
       "      <th>3</th>\n",
       "      <td>1221</td>\n",
       "      <td>http</td>\n",
       "    </tr>\n",
       "    <tr>\n",
       "      <th>4</th>\n",
       "      <td>1187</td>\n",
       "      <td>r</td>\n",
       "    </tr>\n",
       "    <tr>\n",
       "      <th>5</th>\n",
       "      <td>1081</td>\n",
       "      <td>reddit</td>\n",
       "    </tr>\n",
       "    <tr>\n",
       "      <th>6</th>\n",
       "      <td>1015</td>\n",
       "      <td>google</td>\n",
       "    </tr>\n",
       "    <tr>\n",
       "      <th>7</th>\n",
       "      <td>996</td>\n",
       "      <td>www</td>\n",
       "    </tr>\n",
       "    <tr>\n",
       "      <th>8</th>\n",
       "      <td>978</td>\n",
       "      <td>app</td>\n",
       "    </tr>\n",
       "    <tr>\n",
       "      <th>9</th>\n",
       "      <td>895</td>\n",
       "      <td>samsung</td>\n",
       "    </tr>\n",
       "    <tr>\n",
       "      <th>10</th>\n",
       "      <td>798</td>\n",
       "      <td>thread</td>\n",
       "    </tr>\n",
       "    <tr>\n",
       "      <th>11</th>\n",
       "      <td>763</td>\n",
       "      <td>500</td>\n",
       "    </tr>\n",
       "    <tr>\n",
       "      <th>12</th>\n",
       "      <td>738</td>\n",
       "      <td>device</td>\n",
       "    </tr>\n",
       "    <tr>\n",
       "      <th>13</th>\n",
       "      <td>729</td>\n",
       "      <td>galaxy</td>\n",
       "    </tr>\n",
       "    <tr>\n",
       "      <th>14</th>\n",
       "      <td>697</td>\n",
       "      <td>12</td>\n",
       "    </tr>\n",
       "  </tbody>\n",
       "</table>\n",
       "</div>"
      ],
      "text/plain": [
       "    count     word\n",
       "0    3487  android\n",
       "1    1267     wiki\n",
       "2    1225      com\n",
       "3    1221     http\n",
       "4    1187        r\n",
       "5    1081   reddit\n",
       "6    1015   google\n",
       "7     996      www\n",
       "8     978      app\n",
       "9     895  samsung\n",
       "10    798   thread\n",
       "11    763      500\n",
       "12    738   device\n",
       "13    729   galaxy\n",
       "14    697       12"
      ]
     },
     "execution_count": 39,
     "metadata": {},
     "output_type": "execute_result"
    }
   ],
   "source": [
    "#android\n",
    "split_android_series = df.loc[df['label']==1,:]['clean_text'].str.split()\n",
    "words_android = []\n",
    "for value in split_android_series:\n",
    "    words_android = words_android + value\n",
    "print(\"android word count length:\", len(words_android))\n",
    "android_com_words = sortFreqDict(wordListToFreqDict(words_android))[0:15]\n",
    "df_android_com_words= pd.DataFrame(android_com_words,columns=['count','word'])\n",
    "df_android_com_words.head(15)"
   ]
  },
  {
   "cell_type": "code",
   "execution_count": 40,
   "id": "bb66b22a",
   "metadata": {
    "ExecuteTime": {
     "end_time": "2022-08-12T15:10:55.262474Z",
     "start_time": "2022-08-12T15:09:02.578976Z"
    },
    "scrolled": false
   },
   "outputs": [
    {
     "name": "stdout",
     "output_type": "stream",
     "text": [
      "apple word count length: 105293\n"
     ]
    },
    {
     "data": {
      "text/html": [
       "<div>\n",
       "<style scoped>\n",
       "    .dataframe tbody tr th:only-of-type {\n",
       "        vertical-align: middle;\n",
       "    }\n",
       "\n",
       "    .dataframe tbody tr th {\n",
       "        vertical-align: top;\n",
       "    }\n",
       "\n",
       "    .dataframe thead th {\n",
       "        text-align: right;\n",
       "    }\n",
       "</style>\n",
       "<table border=\"1\" class=\"dataframe\">\n",
       "  <thead>\n",
       "    <tr style=\"text-align: right;\">\n",
       "      <th></th>\n",
       "      <th>count</th>\n",
       "      <th>word</th>\n",
       "    </tr>\n",
       "  </thead>\n",
       "  <tbody>\n",
       "    <tr>\n",
       "      <th>0</th>\n",
       "      <td>3977</td>\n",
       "      <td>apple</td>\n",
       "    </tr>\n",
       "    <tr>\n",
       "      <th>1</th>\n",
       "      <td>1679</td>\n",
       "      <td>iphone</td>\n",
       "    </tr>\n",
       "    <tr>\n",
       "      <th>2</th>\n",
       "      <td>1430</td>\n",
       "      <td>pro</td>\n",
       "    </tr>\n",
       "    <tr>\n",
       "      <th>3</th>\n",
       "      <td>1143</td>\n",
       "      <td>app</td>\n",
       "    </tr>\n",
       "    <tr>\n",
       "      <th>4</th>\n",
       "      <td>1042</td>\n",
       "      <td>new</td>\n",
       "    </tr>\n",
       "    <tr>\n",
       "      <th>5</th>\n",
       "      <td>1009</td>\n",
       "      <td>macbook</td>\n",
       "    </tr>\n",
       "    <tr>\n",
       "      <th>6</th>\n",
       "      <td>866</td>\n",
       "      <td>thread</td>\n",
       "    </tr>\n",
       "    <tr>\n",
       "      <th>7</th>\n",
       "      <td>731</td>\n",
       "      <td>http</td>\n",
       "    </tr>\n",
       "    <tr>\n",
       "      <th>8</th>\n",
       "      <td>667</td>\n",
       "      <td>advice</td>\n",
       "    </tr>\n",
       "    <tr>\n",
       "      <th>9</th>\n",
       "      <td>657</td>\n",
       "      <td>ipad</td>\n",
       "    </tr>\n",
       "    <tr>\n",
       "      <th>10</th>\n",
       "      <td>615</td>\n",
       "      <td>question</td>\n",
       "    </tr>\n",
       "    <tr>\n",
       "      <th>11</th>\n",
       "      <td>598</td>\n",
       "      <td>com</td>\n",
       "    </tr>\n",
       "    <tr>\n",
       "      <th>12</th>\n",
       "      <td>589</td>\n",
       "      <td>help</td>\n",
       "    </tr>\n",
       "    <tr>\n",
       "      <th>13</th>\n",
       "      <td>550</td>\n",
       "      <td>airpods</td>\n",
       "    </tr>\n",
       "    <tr>\n",
       "      <th>14</th>\n",
       "      <td>538</td>\n",
       "      <td>daily</td>\n",
       "    </tr>\n",
       "  </tbody>\n",
       "</table>\n",
       "</div>"
      ],
      "text/plain": [
       "    count      word\n",
       "0    3977     apple\n",
       "1    1679    iphone\n",
       "2    1430       pro\n",
       "3    1143       app\n",
       "4    1042       new\n",
       "5    1009   macbook\n",
       "6     866    thread\n",
       "7     731      http\n",
       "8     667    advice\n",
       "9     657      ipad\n",
       "10    615  question\n",
       "11    598       com\n",
       "12    589      help\n",
       "13    550   airpods\n",
       "14    538     daily"
      ]
     },
     "execution_count": 40,
     "metadata": {},
     "output_type": "execute_result"
    }
   ],
   "source": [
    "#apple\n",
    "split_apple_series = df.loc[df['label']==0,:]['clean_text'].str.split()\n",
    "words_apple = []\n",
    "for value in split_apple_series:\n",
    "    words_apple = words_apple + value\n",
    "print(\"apple word count length:\", len(words_apple))\n",
    "#display(\"apple title common words\",sortFreqDict(wordListToFreqDict(words_apple))[0:15])\n",
    "apple_com_words = sortFreqDict(wordListToFreqDict(words_apple))[0:15]\n",
    "df_apple_com_words= pd.DataFrame(apple_com_words,columns=['count','word'])\n",
    "df_apple_com_words.head(15)"
   ]
  },
  {
   "cell_type": "code",
   "execution_count": 41,
   "id": "406f37b2",
   "metadata": {
    "ExecuteTime": {
     "end_time": "2022-08-12T15:10:55.497567Z",
     "start_time": "2022-08-12T15:10:55.264699Z"
    }
   },
   "outputs": [
    {
     "data": {
      "text/plain": [
       "Text(0.5, 0.14327136594005552, 'Android')"
      ]
     },
     "execution_count": 41,
     "metadata": {},
     "output_type": "execute_result"
    },
    {
     "data": {
      "image/png": "[encoded data removed]",
      "text/plain": [
       "<Figure size 432x288 with 1 Axes>"
      ]
     },
     "metadata": {},
     "output_type": "display_data"
    }
   ],
   "source": [
    "#plt.figure(figsize=(14,9))\n",
    "\n",
    "df_android_com_words.set_index('word').plot(kind='bar')\n",
    "plt.xticks(rotation=30)\n",
    "\n",
    "plt.savefig(\"./images/aaplb4.png\", format=\"png\")\n",
    "plt.xlabel('Android')"
   ]
  },
  {
   "cell_type": "code",
   "execution_count": 42,
   "id": "e5178327",
   "metadata": {
    "ExecuteTime": {
     "end_time": "2022-08-12T15:10:55.682451Z",
     "start_time": "2022-08-12T15:10:55.499570Z"
    }
   },
   "outputs": [
    {
     "data": {
      "text/plain": [
       "Text(0.5, 0.3307713659400555, 'Apple')"
      ]
     },
     "execution_count": 42,
     "metadata": {},
     "output_type": "execute_result"
    },
    {
     "data": {
      "image/png": "[encoded data removed]",
      "text/plain": [
       "<Figure size 432x288 with 1 Axes>"
      ]
     },
     "metadata": {},
     "output_type": "display_data"
    }
   ],
   "source": [
    "df_apple_com_words.set_index('word').plot(kind='bar')\n",
    "plt.xticks(rotation=30)\n",
    "\n",
    "plt.savefig(\"./images/aaplb4.png\", format=\"png\")\n",
    "plt.xlabel('Apple')"
   ]
  },
  {
   "cell_type": "markdown",
   "id": "b0b342ee",
   "metadata": {},
   "source": [
    "Notice there are some common words such as new, app/apps, https, help etc.  \n",
    "in order to improve our model, we will be adding these words into our stop list"
   ]
  },
  {
   "cell_type": "markdown",
   "id": "a430d321",
   "metadata": {
    "ExecuteTime": {
     "end_time": "2022-08-09T08:27:12.030006Z",
     "start_time": "2022-08-09T08:27:12.011432Z"
    }
   },
   "source": [
    "### Adding additional/common stop words"
   ]
  },
  {
   "cell_type": "code",
   "execution_count": 43,
   "id": "f2739543",
   "metadata": {
    "ExecuteTime": {
     "end_time": "2022-08-12T15:10:55.694094Z",
     "start_time": "2022-08-12T15:10:55.684491Z"
    }
   },
   "outputs": [],
   "source": [
    "#re-doing stop words with more stopwords added\n",
    "\n",
    "\n",
    "def clean_text2(text_to_clean):\n",
    "    text_to_clean = re.sub( '[^a-zA-Z0-9]', ' ', text_to_clean) # subs charact in the brackets\n",
    "    text_to_clean = re.sub( '\\s+', ' ', text_to_clean).strip() ## subs tabs,newlines and \"whitespace-like\"\n",
    "    words = text_to_clean.lower().split() ## convert to lowercase split indv words \n",
    "    \n",
    "    #converting stop words to set\n",
    "    stops = stopwords.words('english')\n",
    "    #adding new words that may be common between both subs\n",
    "    newStopWords2=('phone', 'tablet', 'system','https', 'help','app','apps','new','com','www','http') \n",
    "    stops.extend(newStopWords2)\n",
    "    \n",
    "    meaningful_words = [w for w in words if not w in stops] # removing stop words\n",
    "    return(\" \".join(meaningful_words))"
   ]
  },
  {
   "cell_type": "code",
   "execution_count": 44,
   "id": "515ad95a",
   "metadata": {
    "ExecuteTime": {
     "end_time": "2022-08-12T15:10:59.869676Z",
     "start_time": "2022-08-12T15:10:55.698281Z"
    }
   },
   "outputs": [],
   "source": [
    "df['clean_text'] = df.apply(lambda x: clean_text2(x['clean_text']), axis=1)"
   ]
  },
  {
   "cell_type": "code",
   "execution_count": 45,
   "id": "669240f2",
   "metadata": {
    "ExecuteTime": {
     "end_time": "2022-08-12T15:10:59.928616Z",
     "start_time": "2022-08-12T15:10:59.871983Z"
    }
   },
   "outputs": [],
   "source": [
    "df = df.replace(r'^\\s*$', np.nan, regex=True)"
   ]
  },
  {
   "cell_type": "code",
   "execution_count": 46,
   "id": "9b4276d7",
   "metadata": {
    "ExecuteTime": {
     "end_time": "2022-08-12T15:10:59.961489Z",
     "start_time": "2022-08-12T15:10:59.930392Z"
    }
   },
   "outputs": [
    {
     "data": {
      "text/html": [
       "<div>\n",
       "<style scoped>\n",
       "    .dataframe tbody tr th:only-of-type {\n",
       "        vertical-align: middle;\n",
       "    }\n",
       "\n",
       "    .dataframe tbody tr th {\n",
       "        vertical-align: top;\n",
       "    }\n",
       "\n",
       "    .dataframe thead th {\n",
       "        text-align: right;\n",
       "    }\n",
       "</style>\n",
       "<table border=\"1\" class=\"dataframe\">\n",
       "  <thead>\n",
       "    <tr style=\"text-align: right;\">\n",
       "      <th></th>\n",
       "      <th>clean_text</th>\n",
       "      <th>label</th>\n",
       "    </tr>\n",
       "  </thead>\n",
       "  <tbody>\n",
       "    <tr>\n",
       "      <th>0</th>\n",
       "      <td>locked macbook lost find activate</td>\n",
       "      <td>0</td>\n",
       "    </tr>\n",
       "    <tr>\n",
       "      <th>1</th>\n",
       "      <td>apple m2 macbook pro see first ever discount 2...</td>\n",
       "      <td>0</td>\n",
       "    </tr>\n",
       "    <tr>\n",
       "      <th>2</th>\n",
       "      <td>home automation</td>\n",
       "      <td>0</td>\n",
       "    </tr>\n",
       "    <tr>\n",
       "      <th>3</th>\n",
       "      <td>apple customer service beyond apple care actua...</td>\n",
       "      <td>0</td>\n",
       "    </tr>\n",
       "    <tr>\n",
       "      <th>4</th>\n",
       "      <td>sure right place get quick</td>\n",
       "      <td>0</td>\n",
       "    </tr>\n",
       "    <tr>\n",
       "      <th>...</th>\n",
       "      <td>...</td>\n",
       "      <td>...</td>\n",
       "    </tr>\n",
       "    <tr>\n",
       "      <th>21795</th>\n",
       "      <td>s21 bb 949 99</td>\n",
       "      <td>1</td>\n",
       "    </tr>\n",
       "    <tr>\n",
       "      <th>21796</th>\n",
       "      <td>mute individual conversation android 12</td>\n",
       "      <td>1</td>\n",
       "    </tr>\n",
       "    <tr>\n",
       "      <th>21797</th>\n",
       "      <td>honor magic 4 know far upcoming premium smartp...</td>\n",
       "      <td>1</td>\n",
       "    </tr>\n",
       "    <tr>\n",
       "      <th>21798</th>\n",
       "      <td>top 5 samsung galaxy best 50000 money</td>\n",
       "      <td>1</td>\n",
       "    </tr>\n",
       "    <tr>\n",
       "      <th>21799</th>\n",
       "      <td>shutdown bootloop</td>\n",
       "      <td>1</td>\n",
       "    </tr>\n",
       "  </tbody>\n",
       "</table>\n",
       "<p>21800 rows × 2 columns</p>\n",
       "</div>"
      ],
      "text/plain": [
       "                                              clean_text  label\n",
       "0                      locked macbook lost find activate      0\n",
       "1      apple m2 macbook pro see first ever discount 2...      0\n",
       "2                                        home automation      0\n",
       "3      apple customer service beyond apple care actua...      0\n",
       "4                             sure right place get quick      0\n",
       "...                                                  ...    ...\n",
       "21795                                      s21 bb 949 99      1\n",
       "21796            mute individual conversation android 12      1\n",
       "21797  honor magic 4 know far upcoming premium smartp...      1\n",
       "21798              top 5 samsung galaxy best 50000 money      1\n",
       "21799                                  shutdown bootloop      1\n",
       "\n",
       "[21800 rows x 2 columns]"
      ]
     },
     "execution_count": 46,
     "metadata": {},
     "output_type": "execute_result"
    }
   ],
   "source": [
    "df"
   ]
  },
  {
   "cell_type": "code",
   "execution_count": 47,
   "id": "838812c6",
   "metadata": {
    "ExecuteTime": {
     "end_time": "2022-08-12T15:10:59.986087Z",
     "start_time": "2022-08-12T15:10:59.963822Z"
    },
    "scrolled": false
   },
   "outputs": [
    {
     "data": {
      "text/html": [
       "<div>\n",
       "<style scoped>\n",
       "    .dataframe tbody tr th:only-of-type {\n",
       "        vertical-align: middle;\n",
       "    }\n",
       "\n",
       "    .dataframe tbody tr th {\n",
       "        vertical-align: top;\n",
       "    }\n",
       "\n",
       "    .dataframe thead th {\n",
       "        text-align: right;\n",
       "    }\n",
       "</style>\n",
       "<table border=\"1\" class=\"dataframe\">\n",
       "  <thead>\n",
       "    <tr style=\"text-align: right;\">\n",
       "      <th></th>\n",
       "      <th>clean_text</th>\n",
       "      <th>label</th>\n",
       "    </tr>\n",
       "  </thead>\n",
       "  <tbody>\n",
       "    <tr>\n",
       "      <th>146</th>\n",
       "      <td>NaN</td>\n",
       "      <td>0</td>\n",
       "    </tr>\n",
       "    <tr>\n",
       "      <th>385</th>\n",
       "      <td>NaN</td>\n",
       "      <td>0</td>\n",
       "    </tr>\n",
       "    <tr>\n",
       "      <th>403</th>\n",
       "      <td>NaN</td>\n",
       "      <td>0</td>\n",
       "    </tr>\n",
       "    <tr>\n",
       "      <th>1007</th>\n",
       "      <td>NaN</td>\n",
       "      <td>0</td>\n",
       "    </tr>\n",
       "    <tr>\n",
       "      <th>1018</th>\n",
       "      <td>NaN</td>\n",
       "      <td>0</td>\n",
       "    </tr>\n",
       "    <tr>\n",
       "      <th>1028</th>\n",
       "      <td>NaN</td>\n",
       "      <td>0</td>\n",
       "    </tr>\n",
       "    <tr>\n",
       "      <th>1259</th>\n",
       "      <td>NaN</td>\n",
       "      <td>0</td>\n",
       "    </tr>\n",
       "    <tr>\n",
       "      <th>1423</th>\n",
       "      <td>NaN</td>\n",
       "      <td>0</td>\n",
       "    </tr>\n",
       "    <tr>\n",
       "      <th>1506</th>\n",
       "      <td>NaN</td>\n",
       "      <td>0</td>\n",
       "    </tr>\n",
       "    <tr>\n",
       "      <th>1769</th>\n",
       "      <td>NaN</td>\n",
       "      <td>0</td>\n",
       "    </tr>\n",
       "    <tr>\n",
       "      <th>1994</th>\n",
       "      <td>NaN</td>\n",
       "      <td>0</td>\n",
       "    </tr>\n",
       "    <tr>\n",
       "      <th>2050</th>\n",
       "      <td>NaN</td>\n",
       "      <td>0</td>\n",
       "    </tr>\n",
       "    <tr>\n",
       "      <th>2309</th>\n",
       "      <td>NaN</td>\n",
       "      <td>0</td>\n",
       "    </tr>\n",
       "    <tr>\n",
       "      <th>2646</th>\n",
       "      <td>NaN</td>\n",
       "      <td>0</td>\n",
       "    </tr>\n",
       "    <tr>\n",
       "      <th>2767</th>\n",
       "      <td>NaN</td>\n",
       "      <td>0</td>\n",
       "    </tr>\n",
       "    <tr>\n",
       "      <th>3350</th>\n",
       "      <td>NaN</td>\n",
       "      <td>0</td>\n",
       "    </tr>\n",
       "    <tr>\n",
       "      <th>3744</th>\n",
       "      <td>NaN</td>\n",
       "      <td>0</td>\n",
       "    </tr>\n",
       "    <tr>\n",
       "      <th>3884</th>\n",
       "      <td>NaN</td>\n",
       "      <td>0</td>\n",
       "    </tr>\n",
       "    <tr>\n",
       "      <th>3905</th>\n",
       "      <td>NaN</td>\n",
       "      <td>0</td>\n",
       "    </tr>\n",
       "    <tr>\n",
       "      <th>4010</th>\n",
       "      <td>NaN</td>\n",
       "      <td>0</td>\n",
       "    </tr>\n",
       "    <tr>\n",
       "      <th>4056</th>\n",
       "      <td>NaN</td>\n",
       "      <td>0</td>\n",
       "    </tr>\n",
       "    <tr>\n",
       "      <th>4203</th>\n",
       "      <td>NaN</td>\n",
       "      <td>0</td>\n",
       "    </tr>\n",
       "    <tr>\n",
       "      <th>4449</th>\n",
       "      <td>NaN</td>\n",
       "      <td>0</td>\n",
       "    </tr>\n",
       "    <tr>\n",
       "      <th>5031</th>\n",
       "      <td>NaN</td>\n",
       "      <td>0</td>\n",
       "    </tr>\n",
       "    <tr>\n",
       "      <th>5032</th>\n",
       "      <td>NaN</td>\n",
       "      <td>0</td>\n",
       "    </tr>\n",
       "    <tr>\n",
       "      <th>5212</th>\n",
       "      <td>NaN</td>\n",
       "      <td>0</td>\n",
       "    </tr>\n",
       "    <tr>\n",
       "      <th>5334</th>\n",
       "      <td>NaN</td>\n",
       "      <td>0</td>\n",
       "    </tr>\n",
       "    <tr>\n",
       "      <th>5862</th>\n",
       "      <td>NaN</td>\n",
       "      <td>0</td>\n",
       "    </tr>\n",
       "    <tr>\n",
       "      <th>6068</th>\n",
       "      <td>NaN</td>\n",
       "      <td>0</td>\n",
       "    </tr>\n",
       "    <tr>\n",
       "      <th>6127</th>\n",
       "      <td>NaN</td>\n",
       "      <td>0</td>\n",
       "    </tr>\n",
       "    <tr>\n",
       "      <th>6485</th>\n",
       "      <td>NaN</td>\n",
       "      <td>0</td>\n",
       "    </tr>\n",
       "    <tr>\n",
       "      <th>6629</th>\n",
       "      <td>NaN</td>\n",
       "      <td>0</td>\n",
       "    </tr>\n",
       "    <tr>\n",
       "      <th>6948</th>\n",
       "      <td>NaN</td>\n",
       "      <td>0</td>\n",
       "    </tr>\n",
       "    <tr>\n",
       "      <th>7319</th>\n",
       "      <td>NaN</td>\n",
       "      <td>0</td>\n",
       "    </tr>\n",
       "    <tr>\n",
       "      <th>7439</th>\n",
       "      <td>NaN</td>\n",
       "      <td>0</td>\n",
       "    </tr>\n",
       "    <tr>\n",
       "      <th>8568</th>\n",
       "      <td>NaN</td>\n",
       "      <td>0</td>\n",
       "    </tr>\n",
       "    <tr>\n",
       "      <th>8655</th>\n",
       "      <td>NaN</td>\n",
       "      <td>0</td>\n",
       "    </tr>\n",
       "    <tr>\n",
       "      <th>9150</th>\n",
       "      <td>NaN</td>\n",
       "      <td>0</td>\n",
       "    </tr>\n",
       "    <tr>\n",
       "      <th>9709</th>\n",
       "      <td>NaN</td>\n",
       "      <td>0</td>\n",
       "    </tr>\n",
       "    <tr>\n",
       "      <th>9802</th>\n",
       "      <td>NaN</td>\n",
       "      <td>0</td>\n",
       "    </tr>\n",
       "    <tr>\n",
       "      <th>9875</th>\n",
       "      <td>NaN</td>\n",
       "      <td>0</td>\n",
       "    </tr>\n",
       "    <tr>\n",
       "      <th>10682</th>\n",
       "      <td>NaN</td>\n",
       "      <td>0</td>\n",
       "    </tr>\n",
       "    <tr>\n",
       "      <th>11521</th>\n",
       "      <td>NaN</td>\n",
       "      <td>1</td>\n",
       "    </tr>\n",
       "    <tr>\n",
       "      <th>12742</th>\n",
       "      <td>NaN</td>\n",
       "      <td>1</td>\n",
       "    </tr>\n",
       "    <tr>\n",
       "      <th>14014</th>\n",
       "      <td>NaN</td>\n",
       "      <td>1</td>\n",
       "    </tr>\n",
       "    <tr>\n",
       "      <th>16101</th>\n",
       "      <td>NaN</td>\n",
       "      <td>1</td>\n",
       "    </tr>\n",
       "    <tr>\n",
       "      <th>17062</th>\n",
       "      <td>NaN</td>\n",
       "      <td>1</td>\n",
       "    </tr>\n",
       "    <tr>\n",
       "      <th>17063</th>\n",
       "      <td>NaN</td>\n",
       "      <td>1</td>\n",
       "    </tr>\n",
       "    <tr>\n",
       "      <th>21185</th>\n",
       "      <td>NaN</td>\n",
       "      <td>1</td>\n",
       "    </tr>\n",
       "  </tbody>\n",
       "</table>\n",
       "</div>"
      ],
      "text/plain": [
       "      clean_text  label\n",
       "146          NaN      0\n",
       "385          NaN      0\n",
       "403          NaN      0\n",
       "1007         NaN      0\n",
       "1018         NaN      0\n",
       "1028         NaN      0\n",
       "1259         NaN      0\n",
       "1423         NaN      0\n",
       "1506         NaN      0\n",
       "1769         NaN      0\n",
       "1994         NaN      0\n",
       "2050         NaN      0\n",
       "2309         NaN      0\n",
       "2646         NaN      0\n",
       "2767         NaN      0\n",
       "3350         NaN      0\n",
       "3744         NaN      0\n",
       "3884         NaN      0\n",
       "3905         NaN      0\n",
       "4010         NaN      0\n",
       "4056         NaN      0\n",
       "4203         NaN      0\n",
       "4449         NaN      0\n",
       "5031         NaN      0\n",
       "5032         NaN      0\n",
       "5212         NaN      0\n",
       "5334         NaN      0\n",
       "5862         NaN      0\n",
       "6068         NaN      0\n",
       "6127         NaN      0\n",
       "6485         NaN      0\n",
       "6629         NaN      0\n",
       "6948         NaN      0\n",
       "7319         NaN      0\n",
       "7439         NaN      0\n",
       "8568         NaN      0\n",
       "8655         NaN      0\n",
       "9150         NaN      0\n",
       "9709         NaN      0\n",
       "9802         NaN      0\n",
       "9875         NaN      0\n",
       "10682        NaN      0\n",
       "11521        NaN      1\n",
       "12742        NaN      1\n",
       "14014        NaN      1\n",
       "16101        NaN      1\n",
       "17062        NaN      1\n",
       "17063        NaN      1\n",
       "21185        NaN      1"
      ]
     },
     "execution_count": 47,
     "metadata": {},
     "output_type": "execute_result"
    }
   ],
   "source": [
    "#checking for numm values\n",
    "df[df.isna().any(axis=1)]"
   ]
  },
  {
   "cell_type": "code",
   "execution_count": 48,
   "id": "d6050e02",
   "metadata": {
    "ExecuteTime": {
     "end_time": "2022-08-12T15:11:00.009138Z",
     "start_time": "2022-08-12T15:10:59.987232Z"
    }
   },
   "outputs": [],
   "source": [
    "#dropping null\n",
    "df.dropna(inplace=True)"
   ]
  },
  {
   "cell_type": "code",
   "execution_count": 49,
   "id": "a960a961",
   "metadata": {
    "ExecuteTime": {
     "end_time": "2022-08-12T15:11:00.046598Z",
     "start_time": "2022-08-12T15:11:00.012377Z"
    },
    "scrolled": true
   },
   "outputs": [],
   "source": [
    "df_android = df[df['label'] == 1]\n",
    "df_android = df_android.head(10000)\n",
    "df_apple = df[df['label'] == 0]\n",
    "df_apple = df_apple.head(10000)"
   ]
  },
  {
   "cell_type": "code",
   "execution_count": 50,
   "id": "675493fd",
   "metadata": {
    "ExecuteTime": {
     "end_time": "2022-08-12T15:11:00.062875Z",
     "start_time": "2022-08-12T15:11:00.051514Z"
    },
    "scrolled": true
   },
   "outputs": [
    {
     "name": "stdout",
     "output_type": "stream",
     "text": [
      "android shape (10000, 2)\n",
      "apple shape (10000, 2)\n"
     ]
    }
   ],
   "source": [
    "print(\"android shape\", df_android.shape)\n",
    "print(\"apple shape\", df_apple.shape)"
   ]
  },
  {
   "cell_type": "code",
   "execution_count": 51,
   "id": "e87f8b7e",
   "metadata": {
    "ExecuteTime": {
     "end_time": "2022-08-12T15:11:00.075745Z",
     "start_time": "2022-08-12T15:11:00.064802Z"
    }
   },
   "outputs": [],
   "source": [
    "#combine them back into one dataframe\n",
    "\n",
    "df = pd.concat([df_apple, df_android], axis=0, join='outer',ignore_index=False)\n",
    "df.reset_index(drop=True, inplace=True)"
   ]
  },
  {
   "cell_type": "code",
   "execution_count": 52,
   "id": "9bc8e51a",
   "metadata": {
    "ExecuteTime": {
     "end_time": "2022-08-12T15:11:00.100550Z",
     "start_time": "2022-08-12T15:11:00.077626Z"
    }
   },
   "outputs": [
    {
     "data": {
      "text/html": [
       "<div>\n",
       "<style scoped>\n",
       "    .dataframe tbody tr th:only-of-type {\n",
       "        vertical-align: middle;\n",
       "    }\n",
       "\n",
       "    .dataframe tbody tr th {\n",
       "        vertical-align: top;\n",
       "    }\n",
       "\n",
       "    .dataframe thead th {\n",
       "        text-align: right;\n",
       "    }\n",
       "</style>\n",
       "<table border=\"1\" class=\"dataframe\">\n",
       "  <thead>\n",
       "    <tr style=\"text-align: right;\">\n",
       "      <th></th>\n",
       "      <th>clean_text</th>\n",
       "      <th>label</th>\n",
       "    </tr>\n",
       "  </thead>\n",
       "  <tbody>\n",
       "    <tr>\n",
       "      <th>0</th>\n",
       "      <td>locked macbook lost find activate</td>\n",
       "      <td>0</td>\n",
       "    </tr>\n",
       "    <tr>\n",
       "      <th>1</th>\n",
       "      <td>apple m2 macbook pro see first ever discount 2...</td>\n",
       "      <td>0</td>\n",
       "    </tr>\n",
       "    <tr>\n",
       "      <th>2</th>\n",
       "      <td>home automation</td>\n",
       "      <td>0</td>\n",
       "    </tr>\n",
       "    <tr>\n",
       "      <th>3</th>\n",
       "      <td>apple customer service beyond apple care actua...</td>\n",
       "      <td>0</td>\n",
       "    </tr>\n",
       "    <tr>\n",
       "      <th>4</th>\n",
       "      <td>sure right place get quick</td>\n",
       "      <td>0</td>\n",
       "    </tr>\n",
       "    <tr>\n",
       "      <th>...</th>\n",
       "      <td>...</td>\n",
       "      <td>...</td>\n",
       "    </tr>\n",
       "    <tr>\n",
       "      <th>19995</th>\n",
       "      <td>libsu 4 0 0 released proper multi user support...</td>\n",
       "      <td>1</td>\n",
       "    </tr>\n",
       "    <tr>\n",
       "      <th>19996</th>\n",
       "      <td>samsung galaxy s22 s21 power restart</td>\n",
       "      <td>1</td>\n",
       "    </tr>\n",
       "    <tr>\n",
       "      <th>19997</th>\n",
       "      <td>google play false dmca complaint ruin life dev...</td>\n",
       "      <td>1</td>\n",
       "    </tr>\n",
       "    <tr>\n",
       "      <th>19998</th>\n",
       "      <td>nokia unveils 3 budget android 11 go</td>\n",
       "      <td>1</td>\n",
       "    </tr>\n",
       "    <tr>\n",
       "      <th>19999</th>\n",
       "      <td>leaked sony xperia 1 iv render show company co...</td>\n",
       "      <td>1</td>\n",
       "    </tr>\n",
       "  </tbody>\n",
       "</table>\n",
       "<p>20000 rows × 2 columns</p>\n",
       "</div>"
      ],
      "text/plain": [
       "                                              clean_text  label\n",
       "0                      locked macbook lost find activate      0\n",
       "1      apple m2 macbook pro see first ever discount 2...      0\n",
       "2                                        home automation      0\n",
       "3      apple customer service beyond apple care actua...      0\n",
       "4                             sure right place get quick      0\n",
       "...                                                  ...    ...\n",
       "19995  libsu 4 0 0 released proper multi user support...      1\n",
       "19996               samsung galaxy s22 s21 power restart      1\n",
       "19997  google play false dmca complaint ruin life dev...      1\n",
       "19998               nokia unveils 3 budget android 11 go      1\n",
       "19999  leaked sony xperia 1 iv render show company co...      1\n",
       "\n",
       "[20000 rows x 2 columns]"
      ]
     },
     "execution_count": 52,
     "metadata": {},
     "output_type": "execute_result"
    }
   ],
   "source": [
    "df"
   ]
  },
  {
   "cell_type": "code",
   "execution_count": 53,
   "id": "e0633e29",
   "metadata": {
    "ExecuteTime": {
     "end_time": "2022-08-12T15:12:22.624241Z",
     "start_time": "2022-08-12T15:11:00.104094Z"
    }
   },
   "outputs": [
    {
     "name": "stdout",
     "output_type": "stream",
     "text": [
      "apple word count length: 92806\n"
     ]
    },
    {
     "data": {
      "text/html": [
       "<div>\n",
       "<style scoped>\n",
       "    .dataframe tbody tr th:only-of-type {\n",
       "        vertical-align: middle;\n",
       "    }\n",
       "\n",
       "    .dataframe tbody tr th {\n",
       "        vertical-align: top;\n",
       "    }\n",
       "\n",
       "    .dataframe thead th {\n",
       "        text-align: right;\n",
       "    }\n",
       "</style>\n",
       "<table border=\"1\" class=\"dataframe\">\n",
       "  <thead>\n",
       "    <tr style=\"text-align: right;\">\n",
       "      <th></th>\n",
       "      <th>count</th>\n",
       "      <th>word</th>\n",
       "    </tr>\n",
       "  </thead>\n",
       "  <tbody>\n",
       "    <tr>\n",
       "      <th>0</th>\n",
       "      <td>3688</td>\n",
       "      <td>apple</td>\n",
       "    </tr>\n",
       "    <tr>\n",
       "      <th>1</th>\n",
       "      <td>1533</td>\n",
       "      <td>iphone</td>\n",
       "    </tr>\n",
       "    <tr>\n",
       "      <th>2</th>\n",
       "      <td>1290</td>\n",
       "      <td>pro</td>\n",
       "    </tr>\n",
       "    <tr>\n",
       "      <th>3</th>\n",
       "      <td>915</td>\n",
       "      <td>macbook</td>\n",
       "    </tr>\n",
       "    <tr>\n",
       "      <th>4</th>\n",
       "      <td>806</td>\n",
       "      <td>thread</td>\n",
       "    </tr>\n",
       "    <tr>\n",
       "      <th>5</th>\n",
       "      <td>621</td>\n",
       "      <td>advice</td>\n",
       "    </tr>\n",
       "    <tr>\n",
       "      <th>6</th>\n",
       "      <td>610</td>\n",
       "      <td>ipad</td>\n",
       "    </tr>\n",
       "    <tr>\n",
       "      <th>7</th>\n",
       "      <td>571</td>\n",
       "      <td>question</td>\n",
       "    </tr>\n",
       "    <tr>\n",
       "      <th>8</th>\n",
       "      <td>501</td>\n",
       "      <td>daily</td>\n",
       "    </tr>\n",
       "    <tr>\n",
       "      <th>9</th>\n",
       "      <td>495</td>\n",
       "      <td>airpods</td>\n",
       "    </tr>\n",
       "    <tr>\n",
       "      <th>10</th>\n",
       "      <td>458</td>\n",
       "      <td>mac</td>\n",
       "    </tr>\n",
       "    <tr>\n",
       "      <th>11</th>\n",
       "      <td>455</td>\n",
       "      <td>io</td>\n",
       "    </tr>\n",
       "    <tr>\n",
       "      <th>12</th>\n",
       "      <td>439</td>\n",
       "      <td>m1</td>\n",
       "    </tr>\n",
       "    <tr>\n",
       "      <th>13</th>\n",
       "      <td>422</td>\n",
       "      <td>support</td>\n",
       "    </tr>\n",
       "    <tr>\n",
       "      <th>14</th>\n",
       "      <td>415</td>\n",
       "      <td>time</td>\n",
       "    </tr>\n",
       "  </tbody>\n",
       "</table>\n",
       "</div>"
      ],
      "text/plain": [
       "    count      word\n",
       "0    3688     apple\n",
       "1    1533    iphone\n",
       "2    1290       pro\n",
       "3     915   macbook\n",
       "4     806    thread\n",
       "5     621    advice\n",
       "6     610      ipad\n",
       "7     571  question\n",
       "8     501     daily\n",
       "9     495   airpods\n",
       "10    458       mac\n",
       "11    455        io\n",
       "12    439        m1\n",
       "13    422   support\n",
       "14    415      time"
      ]
     },
     "execution_count": 53,
     "metadata": {},
     "output_type": "execute_result"
    }
   ],
   "source": [
    "#apple\n",
    "split_apple_series = df.loc[df['label']==0,:]['clean_text'].str.split()\n",
    "words_apple = []\n",
    "for value in split_apple_series:\n",
    "    words_apple = words_apple + value\n",
    "print(\"apple word count length:\", len(words_apple))\n",
    "#display(\"apple title common words\",sortFreqDict(wordListToFreqDict(words_apple))[0:15])\n",
    "apple_com_words = sortFreqDict(wordListToFreqDict(words_apple))[0:15]\n",
    "df_apple_com_words= pd.DataFrame(apple_com_words,columns=['count','word'])\n",
    "df_apple_com_words.head(15)\n"
   ]
  },
  {
   "cell_type": "code",
   "execution_count": 54,
   "id": "b444245f",
   "metadata": {
    "ExecuteTime": {
     "end_time": "2022-08-12T15:13:36.876485Z",
     "start_time": "2022-08-12T15:12:22.625733Z"
    },
    "scrolled": false
   },
   "outputs": [
    {
     "name": "stdout",
     "output_type": "stream",
     "text": [
      "android word count length: 88505\n"
     ]
    },
    {
     "data": {
      "text/html": [
       "<div>\n",
       "<style scoped>\n",
       "    .dataframe tbody tr th:only-of-type {\n",
       "        vertical-align: middle;\n",
       "    }\n",
       "\n",
       "    .dataframe tbody tr th {\n",
       "        vertical-align: top;\n",
       "    }\n",
       "\n",
       "    .dataframe thead th {\n",
       "        text-align: right;\n",
       "    }\n",
       "</style>\n",
       "<table border=\"1\" class=\"dataframe\">\n",
       "  <thead>\n",
       "    <tr style=\"text-align: right;\">\n",
       "      <th></th>\n",
       "      <th>count</th>\n",
       "      <th>word</th>\n",
       "    </tr>\n",
       "  </thead>\n",
       "  <tbody>\n",
       "    <tr>\n",
       "      <th>0</th>\n",
       "      <td>3213</td>\n",
       "      <td>android</td>\n",
       "    </tr>\n",
       "    <tr>\n",
       "      <th>1</th>\n",
       "      <td>1176</td>\n",
       "      <td>wiki</td>\n",
       "    </tr>\n",
       "    <tr>\n",
       "      <th>2</th>\n",
       "      <td>1107</td>\n",
       "      <td>r</td>\n",
       "    </tr>\n",
       "    <tr>\n",
       "      <th>3</th>\n",
       "      <td>1005</td>\n",
       "      <td>reddit</td>\n",
       "    </tr>\n",
       "    <tr>\n",
       "      <th>4</th>\n",
       "      <td>947</td>\n",
       "      <td>google</td>\n",
       "    </tr>\n",
       "    <tr>\n",
       "      <th>5</th>\n",
       "      <td>802</td>\n",
       "      <td>samsung</td>\n",
       "    </tr>\n",
       "    <tr>\n",
       "      <th>6</th>\n",
       "      <td>742</td>\n",
       "      <td>thread</td>\n",
       "    </tr>\n",
       "    <tr>\n",
       "      <th>7</th>\n",
       "      <td>722</td>\n",
       "      <td>500</td>\n",
       "    </tr>\n",
       "    <tr>\n",
       "      <th>8</th>\n",
       "      <td>676</td>\n",
       "      <td>device</td>\n",
       "    </tr>\n",
       "    <tr>\n",
       "      <th>9</th>\n",
       "      <td>651</td>\n",
       "      <td>12</td>\n",
       "    </tr>\n",
       "    <tr>\n",
       "      <th>10</th>\n",
       "      <td>641</td>\n",
       "      <td>amp</td>\n",
       "    </tr>\n",
       "    <tr>\n",
       "      <th>11</th>\n",
       "      <td>620</td>\n",
       "      <td>galaxy</td>\n",
       "    </tr>\n",
       "    <tr>\n",
       "      <th>12</th>\n",
       "      <td>606</td>\n",
       "      <td>please</td>\n",
       "    </tr>\n",
       "    <tr>\n",
       "      <th>13</th>\n",
       "      <td>599</td>\n",
       "      <td>2022</td>\n",
       "    </tr>\n",
       "    <tr>\n",
       "      <th>14</th>\n",
       "      <td>587</td>\n",
       "      <td>1</td>\n",
       "    </tr>\n",
       "  </tbody>\n",
       "</table>\n",
       "</div>"
      ],
      "text/plain": [
       "    count     word\n",
       "0    3213  android\n",
       "1    1176     wiki\n",
       "2    1107        r\n",
       "3    1005   reddit\n",
       "4     947   google\n",
       "5     802  samsung\n",
       "6     742   thread\n",
       "7     722      500\n",
       "8     676   device\n",
       "9     651       12\n",
       "10    641      amp\n",
       "11    620   galaxy\n",
       "12    606   please\n",
       "13    599     2022\n",
       "14    587        1"
      ]
     },
     "execution_count": 54,
     "metadata": {},
     "output_type": "execute_result"
    }
   ],
   "source": [
    "#android\n",
    "split_android_series = df.loc[df['label']==1,:]['clean_text'].str.split()\n",
    "words_android = []\n",
    "for value in split_android_series:\n",
    "    words_android = words_android + value\n",
    "print(\"android word count length:\", len(words_android))\n",
    "android_com_words = sortFreqDict(wordListToFreqDict(words_android))[0:15]\n",
    "df_android_com_words= pd.DataFrame(android_com_words,columns=['count','word'])\n",
    "df_android_com_words.head(15)"
   ]
  },
  {
   "cell_type": "code",
   "execution_count": 55,
   "id": "85d3e68d",
   "metadata": {
    "ExecuteTime": {
     "end_time": "2022-08-12T15:13:37.075115Z",
     "start_time": "2022-08-12T15:13:36.876485Z"
    },
    "scrolled": true
   },
   "outputs": [
    {
     "data": {
      "image/png": "[encoded data removed]",
      "text/plain": [
       "<Figure size 432x288 with 1 Axes>"
      ]
     },
     "metadata": {},
     "output_type": "display_data"
    }
   ],
   "source": [
    "df_android_com_words.set_index('word').plot(kind='bar')\n",
    "plt.xticks(rotation=30)\n",
    "plt.xlabel('Android')\n",
    "plt.savefig(\"./images/android_after.png\", format=\"png\")"
   ]
  },
  {
   "cell_type": "code",
   "execution_count": 60,
   "id": "e35e58e5",
   "metadata": {
    "ExecuteTime": {
     "end_time": "2022-08-12T15:30:49.460818Z",
     "start_time": "2022-08-12T15:30:49.292593Z"
    }
   },
   "outputs": [
    {
     "data": {
      "image/png": "[encoded data removed]",
      "text/plain": [
       "<Figure size 432x288 with 1 Axes>"
      ]
     },
     "metadata": {},
     "output_type": "display_data"
    }
   ],
   "source": [
    "df_apple_com_words.set_index('word').plot(kind='bar')\n",
    "plt.xticks(rotation=30)\n",
    "plt.xlabel('Apple')\n",
    "plt.savefig(\"./images/aapl_after.png\", format=\"png\")"
   ]
  },
  {
   "cell_type": "markdown",
   "id": "76972b7b",
   "metadata": {},
   "source": [
    "### Creating Word Cloud"
   ]
  },
  {
   "cell_type": "code",
   "execution_count": 57,
   "id": "76f94cce",
   "metadata": {
    "ExecuteTime": {
     "end_time": "2022-08-12T15:13:37.947058Z",
     "start_time": "2022-08-12T15:13:37.247149Z"
    },
    "scrolled": true
   },
   "outputs": [
    {
     "data": {
      "image/png": "[encoded data removed]",
      "text/plain": [
       "<Figure size 432x288 with 1 Axes>"
      ]
     },
     "metadata": {},
     "output_type": "display_data"
    }
   ],
   "source": [
    "android = \" \".join(review for review in df[df[\"label\"]==1]['clean_text'])\n",
    "#Create and generate a word cloud image:\n",
    "wordcloud_android = WordCloud(collocations=False,background_color=\"white\", max_words=150).generate(android)\n",
    "\n",
    "# Display the generated image:\n",
    "plt.imshow(wordcloud_android, interpolation='bilinear',aspect=\"auto\")\n",
    "plt.axis(\"off\")\n",
    "# store to file\n",
    "plt.savefig(\"./images/android_word_cloud.png\", format=\"png\")\n",
    "plt.show()"
   ]
  },
  {
   "cell_type": "code",
   "execution_count": 58,
   "id": "e1467b5f",
   "metadata": {
    "ExecuteTime": {
     "end_time": "2022-08-12T15:13:38.687544Z",
     "start_time": "2022-08-12T15:13:37.949106Z"
    },
    "scrolled": true
   },
   "outputs": [
    {
     "data": {
      "image/png": "[encoded data removed]",
      "text/plain": [
       "<Figure size 432x288 with 1 Axes>"
      ]
     },
     "metadata": {},
     "output_type": "display_data"
    }
   ],
   "source": [
    "apple = \" \".join(review for review in df[df[\"label\"]==0]['clean_text'])\n",
    "#Create and generate a word cloud image:\n",
    "wordcloud_apple = WordCloud(collocations=False,background_color=\"white\", max_words=150).generate(apple)\n",
    "\n",
    "# Display the generated image:\n",
    "plt.imshow(wordcloud_apple, interpolation='bilinear',aspect=\"auto\")\n",
    "plt.axis(\"off\")\n",
    "# store to file\n",
    "plt.savefig(\"./images/apple_word_cloud.png\", format=\"png\")\n",
    "plt.show()"
   ]
  },
  {
   "cell_type": "code",
   "execution_count": 59,
   "id": "4d1ae05a",
   "metadata": {
    "ExecuteTime": {
     "end_time": "2022-08-12T15:13:38.785822Z",
     "start_time": "2022-08-12T15:13:38.689695Z"
    }
   },
   "outputs": [],
   "source": [
    "df.to_csv('./data/reddit_cleaned_data.csv',index=False)"
   ]
  }
 ],
 "metadata": {
  "hide_input": false,
  "kernelspec": {
   "display_name": "Python 3 (ipykernel)",
   "language": "python",
   "name": "python3"
  },
  "language_info": {
   "codemirror_mode": {
    "name": "ipython",
    "version": 3
   },
   "file_extension": ".py",
   "mimetype": "text/x-python",
   "name": "python",
   "nbconvert_exporter": "python",
   "pygments_lexer": "ipython3",
   "version": "3.9.12"
  },
  "varInspector": {
   "cols": {
    "lenName": 16,
    "lenType": 16,
    "lenVar": 40
   },
   "kernels_config": {
    "python": {
     "delete_cmd_postfix": "",
     "delete_cmd_prefix": "del ",
     "library": "var_list.py",
     "varRefreshCmd": "print(var_dic_list())"
    },
    "r": {
     "delete_cmd_postfix": ") ",
     "delete_cmd_prefix": "rm(",
     "library": "var_list.r",
     "varRefreshCmd": "cat(var_dic_list()) "
    }
   },
   "types_to_exclude": [
    "module",
    "function",
    "builtin_function_or_method",
    "instance",
    "_Feature"
   ],
   "window_display": false
  }
 },
 "nbformat": 4,
 "nbformat_minor": 5
}
