{
 "cells": [
  {
   "cell_type": "code",
   "execution_count": 1,
   "id": "e722cf2f",
   "metadata": {
    "ExecuteTime": {
     "end_time": "2022-08-10T12:20:53.431706Z",
     "start_time": "2022-08-10T12:20:49.234652Z"
    }
   },
   "outputs": [],
   "source": [
    "\n",
    "# imports\n",
    "import numpy as np\n",
    "import pandas as pd\n",
    "import matplotlib.pyplot as plt\n",
    "import seaborn as sns\n",
    "import re\n",
    "\n",
    "from nltk.tokenize import RegexpTokenizer\n",
    "from nltk.stem import WordNetLemmatizer\n",
    "from nltk.corpus import stopwords\n",
    "\n",
    "from sklearn.model_selection import train_test_split, GridSearchCV\n",
    "from sklearn.pipeline import Pipeline\n",
    "from sklearn.feature_extraction.text import CountVectorizer, TfidfVectorizer\n",
    "from sklearn.ensemble import RandomForestClassifier\n",
    "from sklearn.naive_bayes import MultinomialNB\n",
    "from sklearn.svm import SVC\n",
    "from sklearn.metrics import plot_confusion_matrix\n",
    "from sklearn.metrics import confusion_matrix\n",
    "\n"
   ]
  },
  {
   "cell_type": "markdown",
   "id": "f5ee9e3c",
   "metadata": {},
   "source": [
    "### 1.0 Load data"
   ]
  },
  {
   "cell_type": "code",
   "execution_count": 2,
   "id": "c5804974",
   "metadata": {
    "ExecuteTime": {
     "end_time": "2022-08-10T12:20:53.618759Z",
     "start_time": "2022-08-10T12:20:53.433708Z"
    }
   },
   "outputs": [],
   "source": [
    "df = pd.read_csv('./data/reddit_cleaned_data.csv')"
   ]
  },
  {
   "cell_type": "code",
   "execution_count": 3,
   "id": "c9973bbb",
   "metadata": {
    "ExecuteTime": {
     "end_time": "2022-08-10T12:20:53.649513Z",
     "start_time": "2022-08-10T12:20:53.622245Z"
    }
   },
   "outputs": [
    {
     "data": {
      "text/plain": [
       "(18000, 2)"
      ]
     },
     "metadata": {},
     "output_type": "display_data"
    },
    {
     "data": {
      "text/plain": [
       "0"
      ]
     },
     "metadata": {},
     "output_type": "display_data"
    },
    {
     "data": {
      "text/plain": [
       "Index(['clean_text', 'label'], dtype='object')"
      ]
     },
     "execution_count": 3,
     "metadata": {},
     "output_type": "execute_result"
    }
   ],
   "source": [
    "# Cheking data frame shape\n",
    "display(df.shape)\n",
    "#Checking if there is a null value\n",
    "display(df.isnull().sum().sum())\n",
    "#Checking column names\n",
    "df.columns"
   ]
  },
  {
   "cell_type": "code",
   "execution_count": 4,
   "id": "a83ce5a0",
   "metadata": {
    "ExecuteTime": {
     "end_time": "2022-08-10T12:20:53.680371Z",
     "start_time": "2022-08-10T12:20:53.653551Z"
    }
   },
   "outputs": [
    {
     "data": {
      "text/html": [
       "<div>\n",
       "<style scoped>\n",
       "    .dataframe tbody tr th:only-of-type {\n",
       "        vertical-align: middle;\n",
       "    }\n",
       "\n",
       "    .dataframe tbody tr th {\n",
       "        vertical-align: top;\n",
       "    }\n",
       "\n",
       "    .dataframe thead th {\n",
       "        text-align: right;\n",
       "    }\n",
       "</style>\n",
       "<table border=\"1\" class=\"dataframe\">\n",
       "  <thead>\n",
       "    <tr style=\"text-align: right;\">\n",
       "      <th></th>\n",
       "      <th>clean_text</th>\n",
       "      <th>label</th>\n",
       "    </tr>\n",
       "  </thead>\n",
       "  <tbody>\n",
       "    <tr>\n",
       "      <th>0</th>\n",
       "      <td>locked macbook lost find activate</td>\n",
       "      <td>0</td>\n",
       "    </tr>\n",
       "    <tr>\n",
       "      <th>1</th>\n",
       "      <td>apple m2 macbook pro see first ever discount 2...</td>\n",
       "      <td>0</td>\n",
       "    </tr>\n",
       "    <tr>\n",
       "      <th>2</th>\n",
       "      <td>home automation</td>\n",
       "      <td>0</td>\n",
       "    </tr>\n",
       "    <tr>\n",
       "      <th>3</th>\n",
       "      <td>apple customer service beyond apple care actua...</td>\n",
       "      <td>0</td>\n",
       "    </tr>\n",
       "    <tr>\n",
       "      <th>4</th>\n",
       "      <td>sure right place get quick</td>\n",
       "      <td>0</td>\n",
       "    </tr>\n",
       "  </tbody>\n",
       "</table>\n",
       "</div>"
      ],
      "text/plain": [
       "                                          clean_text  label\n",
       "0                  locked macbook lost find activate      0\n",
       "1  apple m2 macbook pro see first ever discount 2...      0\n",
       "2                                    home automation      0\n",
       "3  apple customer service beyond apple care actua...      0\n",
       "4                         sure right place get quick      0"
      ]
     },
     "execution_count": 4,
     "metadata": {},
     "output_type": "execute_result"
    }
   ],
   "source": [
    "df.head()"
   ]
  },
  {
   "cell_type": "markdown",
   "id": "c9345950",
   "metadata": {},
   "source": [
    "### 2.0 Define X, Y"
   ]
  },
  {
   "cell_type": "code",
   "execution_count": 5,
   "id": "40fc5a2c",
   "metadata": {
    "ExecuteTime": {
     "end_time": "2022-08-10T12:20:53.711010Z",
     "start_time": "2022-08-10T12:20:53.686372Z"
    },
    "scrolled": true
   },
   "outputs": [],
   "source": [
    "X = df[['clean_text']]\n",
    "y = df['label']"
   ]
  },
  {
   "cell_type": "markdown",
   "id": "5d6e0304",
   "metadata": {},
   "source": [
    "### 3.0 Baseline accuracy"
   ]
  },
  {
   "cell_type": "code",
   "execution_count": 6,
   "id": "921b566e",
   "metadata": {
    "ExecuteTime": {
     "end_time": "2022-08-10T12:20:53.741869Z",
     "start_time": "2022-08-10T12:20:53.716702Z"
    },
    "scrolled": true
   },
   "outputs": [
    {
     "data": {
      "text/plain": [
       "0    0.5\n",
       "1    0.5\n",
       "Name: label, dtype: float64"
      ]
     },
     "execution_count": 6,
     "metadata": {},
     "output_type": "execute_result"
    }
   ],
   "source": [
    "y.value_counts(normalize=True)"
   ]
  },
  {
   "cell_type": "markdown",
   "id": "4c404ae3",
   "metadata": {},
   "source": [
    "###  4.0 Train Test Split"
   ]
  },
  {
   "cell_type": "code",
   "execution_count": 7,
   "id": "0a0c1686",
   "metadata": {
    "ExecuteTime": {
     "end_time": "2022-08-10T12:20:53.791742Z",
     "start_time": "2022-08-10T12:20:53.747056Z"
    }
   },
   "outputs": [],
   "source": [
    "X_train, X_test, y_train, y_test = train_test_split(X, y,\n",
    "                                                    random_state = 42,\n",
    "                                                    stratify=y,\n",
    "                                                    test_size = 0.25)"
   ]
  },
  {
   "cell_type": "markdown",
   "id": "39eddc2e",
   "metadata": {},
   "source": [
    "( 1.1 ) CountVectorizer + LogisticRegression"
   ]
  },
  {
   "cell_type": "markdown",
   "id": "2d702d57",
   "metadata": {},
   "source": [
    "### 5.0 Modelling\n",
    "\n",
    "We will be evaluating the following models based on their performance:  \n",
    "    - Multinomial Naive Bayes (MultinomialNB),  \n",
    "    - Random Forest Classifier,  \n",
    "    - Support Vector Machine  \n",
    "They will be paired with both CountVectorizer and TF-IDF Vectorizer"
   ]
  },
  {
   "cell_type": "markdown",
   "id": "214081e1",
   "metadata": {},
   "source": [
    "#### 5.1 CountVectorizer"
   ]
  },
  {
   "cell_type": "code",
   "execution_count": 8,
   "id": "99d9f508",
   "metadata": {
    "ExecuteTime": {
     "end_time": "2022-08-10T12:20:53.817964Z",
     "start_time": "2022-08-10T12:20:53.796825Z"
    }
   },
   "outputs": [],
   "source": [
    "# define function to pull accuracy score of training and testing dataset for each model\n",
    "def get_metrics(model, X_train, X_test):\n",
    "    print(u'\\u2500' * 30)\n",
    "    print(f\"Accuracy score of training set: {round(100* model.score(X_train, y_train),2)}%\")\n",
    "    print(f\"Accuracy score of testing set: {round(100* model.score(X_test, y_test),2)}%\")\n",
    "    print(u'\\u2500' * 30)    \n",
    "    return plot_confusion_matrix(model, X_test,y_test)"
   ]
  },
  {
   "cell_type": "code",
   "execution_count": 28,
   "id": "f6d97d7f",
   "metadata": {
    "ExecuteTime": {
     "end_time": "2022-08-10T12:22:16.042469Z",
     "start_time": "2022-08-10T12:22:16.024266Z"
    }
   },
   "outputs": [],
   "source": [
    "# Instantiate our CountVectorizer.\n",
    "cvec = CountVectorizer(max_features = 2000,min_df=2,max_df=0.9, stop_words = 'english')"
   ]
  },
  {
   "cell_type": "code",
   "execution_count": 29,
   "id": "38933970",
   "metadata": {
    "ExecuteTime": {
     "end_time": "2022-08-10T12:22:16.309174Z",
     "start_time": "2022-08-10T12:22:16.044995Z"
    }
   },
   "outputs": [],
   "source": [
    "# Fit our CountVectorizer on the training data and transform training data.\n",
    "X_train_cvec = pd.DataFrame(cvec.fit_transform(X_train['clean_text']).todense(),\n",
    "                          columns = cvec.get_feature_names_out())"
   ]
  },
  {
   "cell_type": "code",
   "execution_count": 30,
   "id": "cc8598ad",
   "metadata": {
    "ExecuteTime": {
     "end_time": "2022-08-10T12:22:16.401235Z",
     "start_time": "2022-08-10T12:22:16.311308Z"
    }
   },
   "outputs": [],
   "source": [
    "# Transform our testing data with the already-fit CountVectorizer.\n",
    "X_test_cvec = pd.DataFrame(cvec.transform(X_test['clean_text']).todense(),\n",
    "                         columns = cvec.get_feature_names_out())"
   ]
  },
  {
   "cell_type": "code",
   "execution_count": 31,
   "id": "b9bcc6aa",
   "metadata": {
    "ExecuteTime": {
     "end_time": "2022-08-10T12:22:16.432475Z",
     "start_time": "2022-08-10T12:22:16.404255Z"
    }
   },
   "outputs": [
    {
     "data": {
      "text/html": [
       "<div>\n",
       "<style scoped>\n",
       "    .dataframe tbody tr th:only-of-type {\n",
       "        vertical-align: middle;\n",
       "    }\n",
       "\n",
       "    .dataframe tbody tr th {\n",
       "        vertical-align: top;\n",
       "    }\n",
       "\n",
       "    .dataframe thead th {\n",
       "        text-align: right;\n",
       "    }\n",
       "</style>\n",
       "<table border=\"1\" class=\"dataframe\">\n",
       "  <thead>\n",
       "    <tr style=\"text-align: right;\">\n",
       "      <th></th>\n",
       "      <th>00</th>\n",
       "      <th>000</th>\n",
       "      <th>01</th>\n",
       "      <th>02</th>\n",
       "      <th>03</th>\n",
       "      <th>05</th>\n",
       "      <th>06</th>\n",
       "      <th>07</th>\n",
       "      <th>08</th>\n",
       "      <th>10</th>\n",
       "      <th>...</th>\n",
       "      <th>yesterday</th>\n",
       "      <th>yogesh</th>\n",
       "      <th>young</th>\n",
       "      <th>youre</th>\n",
       "      <th>youtube</th>\n",
       "      <th>zenfone</th>\n",
       "      <th>zero</th>\n",
       "      <th>zone</th>\n",
       "      <th>zoom</th>\n",
       "      <th>zte</th>\n",
       "    </tr>\n",
       "  </thead>\n",
       "  <tbody>\n",
       "    <tr>\n",
       "      <th>0</th>\n",
       "      <td>0</td>\n",
       "      <td>0</td>\n",
       "      <td>0</td>\n",
       "      <td>0</td>\n",
       "      <td>0</td>\n",
       "      <td>0</td>\n",
       "      <td>0</td>\n",
       "      <td>0</td>\n",
       "      <td>0</td>\n",
       "      <td>0</td>\n",
       "      <td>...</td>\n",
       "      <td>0</td>\n",
       "      <td>0</td>\n",
       "      <td>0</td>\n",
       "      <td>0</td>\n",
       "      <td>0</td>\n",
       "      <td>0</td>\n",
       "      <td>0</td>\n",
       "      <td>0</td>\n",
       "      <td>0</td>\n",
       "      <td>0</td>\n",
       "    </tr>\n",
       "    <tr>\n",
       "      <th>1</th>\n",
       "      <td>0</td>\n",
       "      <td>0</td>\n",
       "      <td>0</td>\n",
       "      <td>0</td>\n",
       "      <td>0</td>\n",
       "      <td>0</td>\n",
       "      <td>0</td>\n",
       "      <td>0</td>\n",
       "      <td>0</td>\n",
       "      <td>0</td>\n",
       "      <td>...</td>\n",
       "      <td>0</td>\n",
       "      <td>0</td>\n",
       "      <td>0</td>\n",
       "      <td>0</td>\n",
       "      <td>0</td>\n",
       "      <td>0</td>\n",
       "      <td>0</td>\n",
       "      <td>0</td>\n",
       "      <td>0</td>\n",
       "      <td>0</td>\n",
       "    </tr>\n",
       "    <tr>\n",
       "      <th>2</th>\n",
       "      <td>0</td>\n",
       "      <td>0</td>\n",
       "      <td>0</td>\n",
       "      <td>0</td>\n",
       "      <td>0</td>\n",
       "      <td>0</td>\n",
       "      <td>0</td>\n",
       "      <td>0</td>\n",
       "      <td>0</td>\n",
       "      <td>0</td>\n",
       "      <td>...</td>\n",
       "      <td>0</td>\n",
       "      <td>0</td>\n",
       "      <td>0</td>\n",
       "      <td>0</td>\n",
       "      <td>0</td>\n",
       "      <td>0</td>\n",
       "      <td>0</td>\n",
       "      <td>0</td>\n",
       "      <td>0</td>\n",
       "      <td>0</td>\n",
       "    </tr>\n",
       "    <tr>\n",
       "      <th>3</th>\n",
       "      <td>0</td>\n",
       "      <td>0</td>\n",
       "      <td>0</td>\n",
       "      <td>0</td>\n",
       "      <td>0</td>\n",
       "      <td>0</td>\n",
       "      <td>0</td>\n",
       "      <td>0</td>\n",
       "      <td>0</td>\n",
       "      <td>0</td>\n",
       "      <td>...</td>\n",
       "      <td>0</td>\n",
       "      <td>0</td>\n",
       "      <td>0</td>\n",
       "      <td>0</td>\n",
       "      <td>0</td>\n",
       "      <td>0</td>\n",
       "      <td>0</td>\n",
       "      <td>0</td>\n",
       "      <td>0</td>\n",
       "      <td>0</td>\n",
       "    </tr>\n",
       "    <tr>\n",
       "      <th>4</th>\n",
       "      <td>0</td>\n",
       "      <td>0</td>\n",
       "      <td>0</td>\n",
       "      <td>0</td>\n",
       "      <td>0</td>\n",
       "      <td>0</td>\n",
       "      <td>0</td>\n",
       "      <td>0</td>\n",
       "      <td>0</td>\n",
       "      <td>0</td>\n",
       "      <td>...</td>\n",
       "      <td>0</td>\n",
       "      <td>0</td>\n",
       "      <td>0</td>\n",
       "      <td>0</td>\n",
       "      <td>0</td>\n",
       "      <td>0</td>\n",
       "      <td>0</td>\n",
       "      <td>0</td>\n",
       "      <td>0</td>\n",
       "      <td>0</td>\n",
       "    </tr>\n",
       "  </tbody>\n",
       "</table>\n",
       "<p>5 rows × 2000 columns</p>\n",
       "</div>"
      ],
      "text/plain": [
       "   00  000  01  02  03  05  06  07  08  10  ...  yesterday  yogesh  young  \\\n",
       "0   0    0   0   0   0   0   0   0   0   0  ...          0       0      0   \n",
       "1   0    0   0   0   0   0   0   0   0   0  ...          0       0      0   \n",
       "2   0    0   0   0   0   0   0   0   0   0  ...          0       0      0   \n",
       "3   0    0   0   0   0   0   0   0   0   0  ...          0       0      0   \n",
       "4   0    0   0   0   0   0   0   0   0   0  ...          0       0      0   \n",
       "\n",
       "   youre  youtube  zenfone  zero  zone  zoom  zte  \n",
       "0      0        0        0     0     0     0    0  \n",
       "1      0        0        0     0     0     0    0  \n",
       "2      0        0        0     0     0     0    0  \n",
       "3      0        0        0     0     0     0    0  \n",
       "4      0        0        0     0     0     0    0  \n",
       "\n",
       "[5 rows x 2000 columns]"
      ]
     },
     "execution_count": 31,
     "metadata": {},
     "output_type": "execute_result"
    }
   ],
   "source": [
    "X_train_cvec.head()"
   ]
  },
  {
   "cell_type": "code",
   "execution_count": 32,
   "id": "588e95fd",
   "metadata": {
    "ExecuteTime": {
     "end_time": "2022-08-10T12:22:16.447877Z",
     "start_time": "2022-08-10T12:22:16.435489Z"
    }
   },
   "outputs": [],
   "source": [
    "# Instantiate our model!\n",
    "nb = MultinomialNB()"
   ]
  },
  {
   "cell_type": "code",
   "execution_count": 33,
   "id": "5679ae92",
   "metadata": {
    "ExecuteTime": {
     "end_time": "2022-08-10T12:22:17.036669Z",
     "start_time": "2022-08-10T12:22:16.450893Z"
    }
   },
   "outputs": [],
   "source": [
    "# Fit our model!\n",
    "cvec_nb = nb.fit(X_train_cvec, y_train)"
   ]
  },
  {
   "cell_type": "code",
   "execution_count": 34,
   "id": "b2bf8e2c",
   "metadata": {
    "ExecuteTime": {
     "end_time": "2022-08-10T12:22:17.364803Z",
     "start_time": "2022-08-10T12:22:17.037718Z"
    },
    "scrolled": true
   },
   "outputs": [
    {
     "name": "stdout",
     "output_type": "stream",
     "text": [
      "──────────────────────────────\n",
      "Accuracy score of training set: 85.01%\n",
      "Accuracy score of testing set: 82.89%\n",
      "──────────────────────────────\n"
     ]
    }
   ],
   "source": [
    "# Generate our predictions!\n",
    "\n",
    "predictions = cvec_nb.predict(X_test_cvec)\n",
    "    \n",
    "print(u'\\u2500' * 30)\n",
    "print(f\"Accuracy score of training set: {round(100* cvec_nb.score(X_train_cvec, y_train),2)}%\")\n",
    "print(f\"Accuracy score of testing set: {round(100* cvec_nb.score(X_test_cvec, y_test),2)}%\")\n",
    "print(u'\\u2500' * 30)    "
   ]
  },
  {
   "cell_type": "code",
   "execution_count": 35,
   "id": "6811f09b",
   "metadata": {
    "ExecuteTime": {
     "end_time": "2022-08-10T12:22:17.380574Z",
     "start_time": "2022-08-10T12:22:17.367813Z"
    }
   },
   "outputs": [
    {
     "data": {
      "text/plain": [
       "array([[2062,  188],\n",
       "       [ 582, 1668]], dtype=int64)"
      ]
     },
     "execution_count": 35,
     "metadata": {},
     "output_type": "execute_result"
    }
   ],
   "source": [
    "confusion_matrix(y_test, predictions)"
   ]
  },
  {
   "cell_type": "code",
   "execution_count": null,
   "id": "8b86db8e",
   "metadata": {},
   "outputs": [],
   "source": []
  },
  {
   "cell_type": "code",
   "execution_count": null,
   "id": "32e51a55",
   "metadata": {},
   "outputs": [],
   "source": []
  },
  {
   "cell_type": "code",
   "execution_count": null,
   "id": "2575ab87",
   "metadata": {},
   "outputs": [],
   "source": []
  },
  {
   "cell_type": "code",
   "execution_count": null,
   "id": "e367e2a9",
   "metadata": {},
   "outputs": [],
   "source": []
  },
  {
   "cell_type": "code",
   "execution_count": null,
   "id": "3d1ccbc9",
   "metadata": {},
   "outputs": [],
   "source": []
  },
  {
   "cell_type": "code",
   "execution_count": null,
   "id": "51185dfa",
   "metadata": {},
   "outputs": [],
   "source": []
  },
  {
   "cell_type": "code",
   "execution_count": null,
   "id": "086574c9",
   "metadata": {},
   "outputs": [],
   "source": []
  },
  {
   "cell_type": "code",
   "execution_count": null,
   "id": "e3ec3b9f",
   "metadata": {},
   "outputs": [],
   "source": []
  },
  {
   "cell_type": "markdown",
   "id": "3f6bf6ba",
   "metadata": {},
   "source": [
    "#### "
   ]
  }
 ],
 "metadata": {
  "kernelspec": {
   "display_name": "Python 3 (ipykernel)",
   "language": "python",
   "name": "python3"
  },
  "language_info": {
   "codemirror_mode": {
    "name": "ipython",
    "version": 3
   },
   "file_extension": ".py",
   "mimetype": "text/x-python",
   "name": "python",
   "nbconvert_exporter": "python",
   "pygments_lexer": "ipython3",
   "version": "3.9.12"
  },
  "varInspector": {
   "cols": {
    "lenName": 16,
    "lenType": 16,
    "lenVar": 40
   },
   "kernels_config": {
    "python": {
     "delete_cmd_postfix": "",
     "delete_cmd_prefix": "del ",
     "library": "var_list.py",
     "varRefreshCmd": "print(var_dic_list())"
    },
    "r": {
     "delete_cmd_postfix": ") ",
     "delete_cmd_prefix": "rm(",
     "library": "var_list.r",
     "varRefreshCmd": "cat(var_dic_list()) "
    }
   },
   "types_to_exclude": [
    "module",
    "function",
    "builtin_function_or_method",
    "instance",
    "_Feature"
   ],
   "window_display": false
  }
 },
 "nbformat": 4,
 "nbformat_minor": 5
}
