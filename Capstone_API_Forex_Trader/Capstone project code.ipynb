{
 "cells": [
  {
   "cell_type": "markdown",
   "id": "7f256b76",
   "metadata": {},
   "source": [
    "## Machine learning Algorithm Trader\n",
    "\n",
    "In this project, we will be using the OANDA v20 REST API  \n",
    "\n",
    "<img style=\"float: left;\" src=\"./images/api.png\">\n",
    "\n",
    "\n"
   ]
  },
  {
   "cell_type": "markdown",
   "id": "4a73f5a1",
   "metadata": {},
   "source": [
    "# Why forex over stocks?\n",
    "\n",
    "\n",
    "![3advantage](./images/lvts.png)\n",
    "\n",
    "### Liquidity  \n",
    "The forex market is the largest and most liquid financial market. Daily activity often exceeds 4 trillion USD, with over 1.5 trillion of that conducted in the form of spot trading.\n",
    "\n",
    "\n",
    "### Volatility  \n",
    "Volatility boosts opportunity due to exchange rate fluctuations. Forex trading operates 24 hours a day, 5 days a week. The greatest liquidity occurs when operational hours in multiple time zones overlap.\n",
    "\n",
    "\n",
    "### Tight Spreads  \n",
    "Spreads in the forex market tend to be tighter (less), than the spreads applied to other, securities such as stocks. This makes OTC forex trading one of the most cost - effective means of investment trading."
   ]
  },
  {
   "cell_type": "code",
   "execution_count": 212,
   "id": "a15c9f92",
   "metadata": {
    "ExecuteTime": {
     "end_time": "2022-09-14T15:22:28.066244Z",
     "start_time": "2022-09-14T15:22:28.049248Z"
    }
   },
   "outputs": [],
   "source": [
    "#python packages required\n",
    "\n",
    "# pip install v20  #OANDA V20 API\n",
    "# pip install ujson\n",
    "# pip install PyYAML\n",
    "# pip install --index-url https://test.pypi.org/simple/ #tpqoa wrap up package"
   ]
  },
  {
   "cell_type": "code",
   "execution_count": 213,
   "id": "b9a8883c",
   "metadata": {
    "ExecuteTime": {
     "end_time": "2022-09-14T15:22:28.082265Z",
     "start_time": "2022-09-14T15:22:28.068245Z"
    }
   },
   "outputs": [],
   "source": [
    "import pandas as pd\n",
    "import numpy as np\n",
    "import tpqoa\n",
    "import matplotlib.pyplot as plt"
   ]
  },
  {
   "cell_type": "code",
   "execution_count": 214,
   "id": "19d5646b",
   "metadata": {
    "ExecuteTime": {
     "end_time": "2022-09-14T15:22:28.113370Z",
     "start_time": "2022-09-14T15:22:28.084246Z"
    }
   },
   "outputs": [],
   "source": [
    "#sensitive ID and password have been gitignored you will need to create your own config file \n",
    "\n",
    "\n",
    "api = tpqoa.tpqoa(\"oanda.cfg\")"
   ]
  },
  {
   "cell_type": "code",
   "execution_count": 215,
   "id": "acae21ae",
   "metadata": {
    "ExecuteTime": {
     "end_time": "2022-09-14T15:22:28.453231Z",
     "start_time": "2022-09-14T15:22:28.115246Z"
    },
    "scrolled": false
   },
   "outputs": [
    {
     "data": {
      "text/plain": [
       "{'id': '101-003-23224294-001',\n",
       " 'alias': 'Primary',\n",
       " 'currency': 'SGD',\n",
       " 'balance': '100140.8565',\n",
       " 'createdByUserID': 23224294,\n",
       " 'createdTime': '2022-09-13T12:16:27.974338285Z',\n",
       " 'guaranteedStopLossOrderMode': 'ALLOWED',\n",
       " 'pl': '-126.8535',\n",
       " 'resettablePL': '-126.8535',\n",
       " 'resettablePLTime': '0',\n",
       " 'financing': '0.0',\n",
       " 'commission': '0.0',\n",
       " 'guaranteedExecutionFees': '0.0',\n",
       " 'marginRate': '0.05',\n",
       " 'openTradeCount': 0,\n",
       " 'openPositionCount': 0,\n",
       " 'pendingOrderCount': 1,\n",
       " 'hedgingEnabled': False,\n",
       " 'unrealizedPL': '0.0',\n",
       " 'NAV': '100140.8565',\n",
       " 'marginUsed': '0.0',\n",
       " 'marginAvailable': '100140.8565',\n",
       " 'positionValue': '0.0',\n",
       " 'marginCloseoutUnrealizedPL': '0.0',\n",
       " 'marginCloseoutNAV': '100140.8565',\n",
       " 'marginCloseoutMarginUsed': '0.0',\n",
       " 'marginCloseoutPercent': '0.0',\n",
       " 'marginCloseoutPositionValue': '0.0',\n",
       " 'withdrawalLimit': '100140.8565',\n",
       " 'marginCallMarginUsed': '0.0',\n",
       " 'marginCallPercent': '0.0',\n",
       " 'lastTransactionID': '115'}"
      ]
     },
     "execution_count": 215,
     "metadata": {},
     "output_type": "execute_result"
    }
   ],
   "source": [
    "api.get_account_summary()"
   ]
  },
  {
   "cell_type": "code",
   "execution_count": 216,
   "id": "6be7e594",
   "metadata": {
    "ExecuteTime": {
     "end_time": "2022-09-14T15:22:28.469269Z",
     "start_time": "2022-09-14T15:22:28.456230Z"
    }
   },
   "outputs": [
    {
     "data": {
      "text/plain": [
       "'practice'"
      ]
     },
     "execution_count": 216,
     "metadata": {},
     "output_type": "execute_result"
    }
   ],
   "source": [
    "#ensure the accunt type is the OANDA demo account\n",
    "api.account_type"
   ]
  },
  {
   "cell_type": "code",
   "execution_count": 217,
   "id": "2ef555fa",
   "metadata": {
    "ExecuteTime": {
     "end_time": "2022-09-14T15:22:28.484232Z",
     "start_time": "2022-09-14T15:22:28.472229Z"
    }
   },
   "outputs": [
    {
     "data": {
      "text/plain": [
       "'101-003-23224294-001'"
      ]
     },
     "execution_count": 217,
     "metadata": {},
     "output_type": "execute_result"
    }
   ],
   "source": [
    "api.account_id"
   ]
  },
  {
   "cell_type": "code",
   "execution_count": 218,
   "id": "bd45a5d9",
   "metadata": {
    "ExecuteTime": {
     "end_time": "2022-09-14T15:22:28.778877Z",
     "start_time": "2022-09-14T15:22:28.487235Z"
    }
   },
   "outputs": [
    {
     "data": {
      "text/plain": [
       "[('Copper', 'XCU_USD'),\n",
       " ('Wheat', 'WHEAT_USD'),\n",
       " ('NZD/SGD', 'NZD_SGD'),\n",
       " ('US SPX 500', 'SPX500_USD'),\n",
       " ('USD/NOK', 'USD_NOK'),\n",
       " ('UK 100', 'UK100_GBP'),\n",
       " ('AUD/NZD', 'AUD_NZD'),\n",
       " ('Silver', 'XAG_USD'),\n",
       " ('EUR/HUF', 'EUR_HUF'),\n",
       " ('Silver/EUR', 'XAG_EUR'),\n",
       " ('Litecoin', 'LTC_USD'),\n",
       " ('Silver/GBP', 'XAG_GBP'),\n",
       " ('NZD/USD', 'NZD_USD'),\n",
       " ('USD/CNH', 'USD_CNH'),\n",
       " ('CHF/ZAR', 'CHF_ZAR'),\n",
       " ('GBP/NZD', 'GBP_NZD'),\n",
       " ('US 10Y T-Note', 'USB10Y_USD'),\n",
       " ('Hong Kong 33', 'HK33_HKD'),\n",
       " ('US 5Y T-Note', 'USB05Y_USD'),\n",
       " ('US 2Y T-Note', 'USB02Y_USD'),\n",
       " ('Bund', 'DE10YB_EUR'),\n",
       " ('US Russ 2000', 'US2000_USD'),\n",
       " ('US T-Bond', 'USB30Y_USD'),\n",
       " ('USD/CAD', 'USD_CAD'),\n",
       " ('ZAR/JPY', 'ZAR_JPY'),\n",
       " ('Silver/JPY', 'XAG_JPY'),\n",
       " ('Ether', 'ETH_USD'),\n",
       " ('SGD/JPY', 'SGD_JPY'),\n",
       " ('GBP/ZAR', 'GBP_ZAR'),\n",
       " ('USD/JPY', 'USD_JPY'),\n",
       " ('EUR/TRY', 'EUR_TRY'),\n",
       " ('Bitcoin', 'BTC_USD'),\n",
       " ('EUR/CZK', 'EUR_CZK'),\n",
       " ('EUR/JPY', 'EUR_JPY'),\n",
       " ('Taiwan Index', 'TWIX_USD'),\n",
       " ('AUD/SGD', 'AUD_SGD'),\n",
       " ('Silver/NZD', 'XAG_NZD'),\n",
       " ('West Texas Oil', 'WTICO_USD'),\n",
       " ('Silver/AUD', 'XAG_AUD'),\n",
       " ('EUR/NZD', 'EUR_NZD'),\n",
       " ('GBP/HKD', 'GBP_HKD'),\n",
       " ('CHF/JPY', 'CHF_JPY'),\n",
       " ('Gold/AUD', 'XAU_AUD'),\n",
       " ('EUR/HKD', 'EUR_HKD'),\n",
       " ('Gold/HKD', 'XAU_HKD'),\n",
       " ('Gold/JPY', 'XAU_JPY'),\n",
       " ('USD/THB', 'USD_THB'),\n",
       " ('GBP/CHF', 'GBP_CHF'),\n",
       " ('CAD/JPY', 'CAD_JPY'),\n",
       " ('NZD/CHF', 'NZD_CHF'),\n",
       " ('Spain 35', 'ESPIX_EUR'),\n",
       " ('AUD/HKD', 'AUD_HKD'),\n",
       " ('Silver/HKD', 'XAG_HKD'),\n",
       " ('USD/CHF', 'USD_CHF'),\n",
       " ('Silver/CHF', 'XAG_CHF'),\n",
       " ('Bitcoin Cash', 'BCH_USD'),\n",
       " ('AUD/USD', 'AUD_USD'),\n",
       " ('GBP/JPY', 'GBP_JPY'),\n",
       " ('USD/TRY', 'USD_TRY'),\n",
       " ('US Nas 100', 'NAS100_USD'),\n",
       " ('TRY/JPY', 'TRY_JPY'),\n",
       " ('USD/SGD', 'USD_SGD'),\n",
       " ('EUR/SEK', 'EUR_SEK'),\n",
       " ('HKD/JPY', 'HKD_JPY'),\n",
       " ('AUD/CHF', 'AUD_CHF'),\n",
       " ('Gold/Silver', 'XAU_XAG'),\n",
       " ('SGD/CHF', 'SGD_CHF'),\n",
       " ('Soybeans', 'SOYBN_USD'),\n",
       " ('Corn', 'CORN_USD'),\n",
       " ('USD/PLN', 'USD_PLN'),\n",
       " ('GBP/AUD', 'GBP_AUD'),\n",
       " ('Gold/SGD', 'XAU_SGD'),\n",
       " ('AUD/JPY', 'AUD_JPY'),\n",
       " ('EUR/ZAR', 'EUR_ZAR'),\n",
       " ('China H Shares', 'CHINAH_HKD'),\n",
       " ('Singapore 30', 'SG30_SGD'),\n",
       " ('EUR/USD', 'EUR_USD'),\n",
       " ('EUR/CAD', 'EUR_CAD'),\n",
       " ('USD/HUF', 'USD_HUF'),\n",
       " ('Netherlands 25', 'NL25_EUR'),\n",
       " ('EUR/CHF', 'EUR_CHF'),\n",
       " ('UK 10Y Gilt', 'UK10YB_GBP'),\n",
       " ('NZD/CAD', 'NZD_CAD'),\n",
       " ('EUR/SGD', 'EUR_SGD'),\n",
       " ('USD/INR', 'USD_INR'),\n",
       " ('Gold/NZD', 'XAU_NZD'),\n",
       " ('Gold/GBP', 'XAU_GBP'),\n",
       " ('NZD/JPY', 'NZD_JPY'),\n",
       " ('CHF/HKD', 'CHF_HKD'),\n",
       " ('Australia 200', 'AU200_AUD'),\n",
       " ('USD/DKK', 'USD_DKK'),\n",
       " ('EUR/AUD', 'EUR_AUD'),\n",
       " ('Gold/CAD', 'XAU_CAD'),\n",
       " ('Gold/CHF', 'XAU_CHF'),\n",
       " ('Japan 225', 'JP225_USD'),\n",
       " ('Silver/CAD', 'XAG_CAD'),\n",
       " ('USD/ZAR', 'USD_ZAR'),\n",
       " ('USD/CZK', 'USD_CZK'),\n",
       " ('China A50', 'CN50_USD'),\n",
       " ('Europe 50', 'EU50_EUR'),\n",
       " ('Silver/SGD', 'XAG_SGD'),\n",
       " ('France 40', 'FR40_EUR'),\n",
       " ('GBP/SGD', 'GBP_SGD'),\n",
       " ('USD/SEK', 'USD_SEK'),\n",
       " ('USD/MXN', 'USD_MXN'),\n",
       " ('GBP/USD', 'GBP_USD'),\n",
       " ('EUR/DKK', 'EUR_DKK'),\n",
       " ('Natural Gas', 'NATGAS_USD'),\n",
       " ('CAD/CHF', 'CAD_CHF'),\n",
       " ('EUR/GBP', 'EUR_GBP'),\n",
       " ('CAD/HKD', 'CAD_HKD'),\n",
       " ('Switzerland 20', 'CH20_CHF'),\n",
       " ('Brent Crude Oil', 'BCO_USD'),\n",
       " ('EUR/NOK', 'EUR_NOK'),\n",
       " ('Gold', 'XAU_USD'),\n",
       " ('Palladium', 'XPD_USD'),\n",
       " ('Platinum', 'XPT_USD'),\n",
       " ('GBP/CAD', 'GBP_CAD'),\n",
       " ('Gold/EUR', 'XAU_EUR'),\n",
       " ('Germany 30', 'DE30_EUR'),\n",
       " ('NZD/HKD', 'NZD_HKD'),\n",
       " ('GBP/PLN', 'GBP_PLN'),\n",
       " ('US Wall St 30', 'US30_USD'),\n",
       " ('Japan 225 (JPY)', 'JP225Y_JPY'),\n",
       " ('EUR/PLN', 'EUR_PLN'),\n",
       " ('Sugar', 'SUGAR_USD'),\n",
       " ('AUD/CAD', 'AUD_CAD'),\n",
       " ('USD/HKD', 'USD_HKD'),\n",
       " ('CAD/SGD', 'CAD_SGD')]"
      ]
     },
     "execution_count": 218,
     "metadata": {},
     "output_type": "execute_result"
    }
   ],
   "source": [
    "api.get_instruments()"
   ]
  },
  {
   "cell_type": "code",
   "execution_count": 219,
   "id": "42b06720",
   "metadata": {
    "ExecuteTime": {
     "end_time": "2022-09-14T15:22:29.076971Z",
     "start_time": "2022-09-14T15:22:28.780201Z"
    }
   },
   "outputs": [
    {
     "data": {
      "text/plain": [
       "129"
      ]
     },
     "execution_count": 219,
     "metadata": {},
     "output_type": "execute_result"
    }
   ],
   "source": [
    "instr = api.get_instruments()\n",
    "len(instr)"
   ]
  },
  {
   "cell_type": "markdown",
   "id": "cd10c656",
   "metadata": {},
   "source": [
    "There is a total of 12 instruments"
   ]
  },
  {
   "cell_type": "markdown",
   "id": "c92f5ef0",
   "metadata": {},
   "source": [
    "## Getting Historical Data\n"
   ]
  },
  {
   "cell_type": "code",
   "execution_count": 220,
   "id": "a2174688",
   "metadata": {
    "ExecuteTime": {
     "end_time": "2022-09-14T15:22:29.091952Z",
     "start_time": "2022-09-14T15:22:29.079953Z"
    }
   },
   "outputs": [
    {
     "name": "stdout",
     "output_type": "stream",
     "text": [
      "Help on method get_history in module tpqoa.tpqoa:\n",
      "\n",
      "get_history(instrument, start, end, granularity, price) method of tpqoa.tpqoa.tpqoa instance\n",
      "    Retrieves historical data for instrument.\n",
      "    \n",
      "    Parameters\n",
      "    ==========\n",
      "    instrument: string\n",
      "        valid instrument name\n",
      "    start, end: datetime, str\n",
      "        Python datetime or string objects for start and end\n",
      "    granularity: string\n",
      "        a string like 'S5', 'M1' or 'D'\n",
      "    price: string\n",
      "        one of 'A' (ask) or 'B' (bid)\n",
      "    \n",
      "    Returns\n",
      "    =======\n",
      "    data: pd.DataFrame\n",
      "        pandas DataFrame object with data\n",
      "\n"
     ]
    }
   ],
   "source": [
    "#lets see how to use .get_history \n",
    "help(api.get_history)"
   ]
  },
  {
   "cell_type": "code",
   "execution_count": 221,
   "id": "7cf3bbd1",
   "metadata": {
    "ExecuteTime": {
     "end_time": "2022-09-14T15:22:29.107951Z",
     "start_time": "2022-09-14T15:22:29.094951Z"
    },
    "scrolled": false
   },
   "outputs": [],
   "source": [
    "# df = api.get_history(\"EUR_USD\", \"2021-08-01\", \"2022-08-31\", \"M1\", \"A\")"
   ]
  },
  {
   "cell_type": "code",
   "execution_count": 222,
   "id": "6c5c3b77",
   "metadata": {
    "ExecuteTime": {
     "end_time": "2022-09-14T15:22:31.122055Z",
     "start_time": "2022-09-14T15:22:29.109952Z"
    }
   },
   "outputs": [],
   "source": [
    "df = pd.read_csv('datasets/eur_usd.csv', parse_dates = [\"time\"], index_col = \"time\")"
   ]
  },
  {
   "cell_type": "code",
   "execution_count": 223,
   "id": "87dce8be",
   "metadata": {
    "ExecuteTime": {
     "end_time": "2022-09-14T15:22:31.137971Z",
     "start_time": "2022-09-14T15:22:31.123093Z"
    },
    "scrolled": true
   },
   "outputs": [
    {
     "data": {
      "text/html": [
       "<div>\n",
       "<style scoped>\n",
       "    .dataframe tbody tr th:only-of-type {\n",
       "        vertical-align: middle;\n",
       "    }\n",
       "\n",
       "    .dataframe tbody tr th {\n",
       "        vertical-align: top;\n",
       "    }\n",
       "\n",
       "    .dataframe thead th {\n",
       "        text-align: right;\n",
       "    }\n",
       "</style>\n",
       "<table border=\"1\" class=\"dataframe\">\n",
       "  <thead>\n",
       "    <tr style=\"text-align: right;\">\n",
       "      <th></th>\n",
       "      <th>volume</th>\n",
       "      <th>complete</th>\n",
       "      <th>open</th>\n",
       "      <th>high</th>\n",
       "      <th>low</th>\n",
       "      <th>close</th>\n",
       "    </tr>\n",
       "    <tr>\n",
       "      <th>time</th>\n",
       "      <th></th>\n",
       "      <th></th>\n",
       "      <th></th>\n",
       "      <th></th>\n",
       "      <th></th>\n",
       "      <th></th>\n",
       "    </tr>\n",
       "  </thead>\n",
       "  <tbody>\n",
       "    <tr>\n",
       "      <th>2021-08-01 21:00:00+00:00</th>\n",
       "      <td>2</td>\n",
       "      <td>True</td>\n",
       "      <td>1.18673</td>\n",
       "      <td>1.18743</td>\n",
       "      <td>1.18673</td>\n",
       "      <td>1.18743</td>\n",
       "    </tr>\n",
       "    <tr>\n",
       "      <th>2021-08-01 21:02:00+00:00</th>\n",
       "      <td>2</td>\n",
       "      <td>True</td>\n",
       "      <td>1.18743</td>\n",
       "      <td>1.18743</td>\n",
       "      <td>1.18743</td>\n",
       "      <td>1.18743</td>\n",
       "    </tr>\n",
       "    <tr>\n",
       "      <th>2021-08-01 21:05:00+00:00</th>\n",
       "      <td>4</td>\n",
       "      <td>True</td>\n",
       "      <td>1.18721</td>\n",
       "      <td>1.18752</td>\n",
       "      <td>1.18673</td>\n",
       "      <td>1.18752</td>\n",
       "    </tr>\n",
       "    <tr>\n",
       "      <th>2021-08-01 21:10:00+00:00</th>\n",
       "      <td>4</td>\n",
       "      <td>True</td>\n",
       "      <td>1.18739</td>\n",
       "      <td>1.18752</td>\n",
       "      <td>1.18739</td>\n",
       "      <td>1.18752</td>\n",
       "    </tr>\n",
       "    <tr>\n",
       "      <th>2021-08-01 21:12:00+00:00</th>\n",
       "      <td>2</td>\n",
       "      <td>True</td>\n",
       "      <td>1.18743</td>\n",
       "      <td>1.18743</td>\n",
       "      <td>1.18734</td>\n",
       "      <td>1.18734</td>\n",
       "    </tr>\n",
       "  </tbody>\n",
       "</table>\n",
       "</div>"
      ],
      "text/plain": [
       "                           volume  complete     open     high      low  \\\n",
       "time                                                                     \n",
       "2021-08-01 21:00:00+00:00       2      True  1.18673  1.18743  1.18673   \n",
       "2021-08-01 21:02:00+00:00       2      True  1.18743  1.18743  1.18743   \n",
       "2021-08-01 21:05:00+00:00       4      True  1.18721  1.18752  1.18673   \n",
       "2021-08-01 21:10:00+00:00       4      True  1.18739  1.18752  1.18739   \n",
       "2021-08-01 21:12:00+00:00       2      True  1.18743  1.18743  1.18734   \n",
       "\n",
       "                             close  \n",
       "time                                \n",
       "2021-08-01 21:00:00+00:00  1.18743  \n",
       "2021-08-01 21:02:00+00:00  1.18743  \n",
       "2021-08-01 21:05:00+00:00  1.18752  \n",
       "2021-08-01 21:10:00+00:00  1.18752  \n",
       "2021-08-01 21:12:00+00:00  1.18734  "
      ]
     },
     "execution_count": 223,
     "metadata": {},
     "output_type": "execute_result"
    }
   ],
   "source": [
    "df.head() "
   ]
  },
  {
   "cell_type": "markdown",
   "id": "da34df04",
   "metadata": {},
   "source": [
    "The data pulled has 7 columns,  \n",
    "time, volume, complete, o, h, l, c,  \n",
    "Lets rename them to make it easier to digest.\n"
   ]
  },
  {
   "cell_type": "code",
   "execution_count": 224,
   "id": "c8e325ca",
   "metadata": {
    "ExecuteTime": {
     "end_time": "2022-09-14T15:22:31.152952Z",
     "start_time": "2022-09-14T15:22:31.139954Z"
    }
   },
   "outputs": [],
   "source": [
    "\n",
    "df = df.rename(columns={'o': 'open', 'h': 'high', 'l':'low', 'c': 'close'})\n"
   ]
  },
  {
   "cell_type": "code",
   "execution_count": 225,
   "id": "f2a25a29",
   "metadata": {
    "ExecuteTime": {
     "end_time": "2022-09-14T15:22:31.184035Z",
     "start_time": "2022-09-14T15:22:31.155954Z"
    }
   },
   "outputs": [
    {
     "data": {
      "text/html": [
       "<div>\n",
       "<style scoped>\n",
       "    .dataframe tbody tr th:only-of-type {\n",
       "        vertical-align: middle;\n",
       "    }\n",
       "\n",
       "    .dataframe tbody tr th {\n",
       "        vertical-align: top;\n",
       "    }\n",
       "\n",
       "    .dataframe thead th {\n",
       "        text-align: right;\n",
       "    }\n",
       "</style>\n",
       "<table border=\"1\" class=\"dataframe\">\n",
       "  <thead>\n",
       "    <tr style=\"text-align: right;\">\n",
       "      <th></th>\n",
       "      <th>volume</th>\n",
       "      <th>complete</th>\n",
       "      <th>open</th>\n",
       "      <th>high</th>\n",
       "      <th>low</th>\n",
       "      <th>close</th>\n",
       "    </tr>\n",
       "    <tr>\n",
       "      <th>time</th>\n",
       "      <th></th>\n",
       "      <th></th>\n",
       "      <th></th>\n",
       "      <th></th>\n",
       "      <th></th>\n",
       "      <th></th>\n",
       "    </tr>\n",
       "  </thead>\n",
       "  <tbody>\n",
       "    <tr>\n",
       "      <th>2021-08-01 21:00:00+00:00</th>\n",
       "      <td>2</td>\n",
       "      <td>True</td>\n",
       "      <td>1.18673</td>\n",
       "      <td>1.18743</td>\n",
       "      <td>1.18673</td>\n",
       "      <td>1.18743</td>\n",
       "    </tr>\n",
       "    <tr>\n",
       "      <th>2021-08-01 21:02:00+00:00</th>\n",
       "      <td>2</td>\n",
       "      <td>True</td>\n",
       "      <td>1.18743</td>\n",
       "      <td>1.18743</td>\n",
       "      <td>1.18743</td>\n",
       "      <td>1.18743</td>\n",
       "    </tr>\n",
       "    <tr>\n",
       "      <th>2021-08-01 21:05:00+00:00</th>\n",
       "      <td>4</td>\n",
       "      <td>True</td>\n",
       "      <td>1.18721</td>\n",
       "      <td>1.18752</td>\n",
       "      <td>1.18673</td>\n",
       "      <td>1.18752</td>\n",
       "    </tr>\n",
       "    <tr>\n",
       "      <th>2021-08-01 21:10:00+00:00</th>\n",
       "      <td>4</td>\n",
       "      <td>True</td>\n",
       "      <td>1.18739</td>\n",
       "      <td>1.18752</td>\n",
       "      <td>1.18739</td>\n",
       "      <td>1.18752</td>\n",
       "    </tr>\n",
       "    <tr>\n",
       "      <th>2021-08-01 21:12:00+00:00</th>\n",
       "      <td>2</td>\n",
       "      <td>True</td>\n",
       "      <td>1.18743</td>\n",
       "      <td>1.18743</td>\n",
       "      <td>1.18734</td>\n",
       "      <td>1.18734</td>\n",
       "    </tr>\n",
       "  </tbody>\n",
       "</table>\n",
       "</div>"
      ],
      "text/plain": [
       "                           volume  complete     open     high      low  \\\n",
       "time                                                                     \n",
       "2021-08-01 21:00:00+00:00       2      True  1.18673  1.18743  1.18673   \n",
       "2021-08-01 21:02:00+00:00       2      True  1.18743  1.18743  1.18743   \n",
       "2021-08-01 21:05:00+00:00       4      True  1.18721  1.18752  1.18673   \n",
       "2021-08-01 21:10:00+00:00       4      True  1.18739  1.18752  1.18739   \n",
       "2021-08-01 21:12:00+00:00       2      True  1.18743  1.18743  1.18734   \n",
       "\n",
       "                             close  \n",
       "time                                \n",
       "2021-08-01 21:00:00+00:00  1.18743  \n",
       "2021-08-01 21:02:00+00:00  1.18743  \n",
       "2021-08-01 21:05:00+00:00  1.18752  \n",
       "2021-08-01 21:10:00+00:00  1.18752  \n",
       "2021-08-01 21:12:00+00:00  1.18734  "
      ]
     },
     "execution_count": 225,
     "metadata": {},
     "output_type": "execute_result"
    }
   ],
   "source": [
    "df.head()"
   ]
  },
  {
   "cell_type": "code",
   "execution_count": 226,
   "id": "088a5fde",
   "metadata": {
    "ExecuteTime": {
     "end_time": "2022-09-14T15:22:31.214950Z",
     "start_time": "2022-09-14T15:22:31.185953Z"
    },
    "scrolled": true
   },
   "outputs": [
    {
     "name": "stdout",
     "output_type": "stream",
     "text": [
      "<class 'pandas.core.frame.DataFrame'>\n",
      "DatetimeIndex: 396575 entries, 2021-08-01 21:00:00+00:00 to 2022-08-30 23:59:00+00:00\n",
      "Data columns (total 6 columns):\n",
      " #   Column    Non-Null Count   Dtype  \n",
      "---  ------    --------------   -----  \n",
      " 0   volume    396575 non-null  int64  \n",
      " 1   complete  396575 non-null  bool   \n",
      " 2   open      396575 non-null  float64\n",
      " 3   high      396575 non-null  float64\n",
      " 4   low       396575 non-null  float64\n",
      " 5   close     396575 non-null  float64\n",
      "dtypes: bool(1), float64(4), int64(1)\n",
      "memory usage: 18.5 MB\n"
     ]
    }
   ],
   "source": [
    "df.info()"
   ]
  },
  {
   "cell_type": "code",
   "execution_count": 227,
   "id": "5e0dc0ca",
   "metadata": {
    "ExecuteTime": {
     "end_time": "2022-09-14T15:22:31.229951Z",
     "start_time": "2022-09-14T15:22:31.216013Z"
    }
   },
   "outputs": [],
   "source": [
    "#saving dataset to CSV \n",
    "# df.to_csv('datasets/eur_usd.csv', index=True)"
   ]
  },
  {
   "cell_type": "code",
   "execution_count": 228,
   "id": "eccbedf7",
   "metadata": {
    "ExecuteTime": {
     "end_time": "2022-09-14T15:22:31.245956Z",
     "start_time": "2022-09-14T15:22:31.230954Z"
    }
   },
   "outputs": [],
   "source": [
    "plt.style.use(\"seaborn\")"
   ]
  },
  {
   "cell_type": "code",
   "execution_count": 229,
   "id": "89e401a7",
   "metadata": {
    "ExecuteTime": {
     "end_time": "2022-09-14T15:22:32.151959Z",
     "start_time": "2022-09-14T15:22:31.247955Z"
    }
   },
   "outputs": [
    {
     "data": {
      "image/png": "[encoded data removed]",
      "text/plain": [
       "<Figure size 1080x576 with 1 Axes>"
      ]
     },
     "metadata": {},
     "output_type": "display_data"
    }
   ],
   "source": [
    "df.plot(y = \"close\", figsize = (15, 8 ), fontsize = 13)\n",
    "plt.legend(fontsize = 13)\n",
    "plt.title(\"EUR/USD Closing price\", fontsize = 20)\n",
    "plt.show()"
   ]
  },
  {
   "cell_type": "code",
   "execution_count": 230,
   "id": "3a128bd3",
   "metadata": {
    "ExecuteTime": {
     "end_time": "2022-09-14T15:22:33.131951Z",
     "start_time": "2022-09-14T15:22:32.154951Z"
    }
   },
   "outputs": [
    {
     "data": {
      "image/png": "[encoded data removed]",
      "text/plain": [
       "<Figure size 1080x576 with 1 Axes>"
      ]
     },
     "metadata": {},
     "output_type": "display_data"
    }
   ],
   "source": [
    "df.plot(y = \"volume\", figsize = (15, 8 ), fontsize = 13)\n",
    "plt.legend(fontsize = 13)\n",
    "plt.title(\"Volume\", fontsize = 20)\n",
    "plt.show()"
   ]
  },
  {
   "cell_type": "code",
   "execution_count": 231,
   "id": "554dd6a9",
   "metadata": {
    "ExecuteTime": {
     "end_time": "2022-09-14T15:22:33.448031Z",
     "start_time": "2022-09-14T15:22:33.134955Z"
    }
   },
   "outputs": [
    {
     "data": {
      "image/png": "[encoded data removed]",
      "text/plain": [
       "<Figure size 864x576 with 1 Axes>"
      ]
     },
     "metadata": {},
     "output_type": "display_data"
    }
   ],
   "source": [
    "df.loc[\"2022-03\" : \"2022-07\"].plot(y = \"close\",figsize = (12, 8), title = \"EUR/USD\", fontsize = 12)\n",
    "plt.show()"
   ]
  },
  {
   "cell_type": "code",
   "execution_count": 249,
   "id": "8cf8473a",
   "metadata": {
    "ExecuteTime": {
     "end_time": "2022-09-14T15:24:58.929347Z",
     "start_time": "2022-09-14T15:24:58.910326Z"
    },
    "scrolled": true
   },
   "outputs": [
    {
     "data": {
      "text/html": [
       "<div>\n",
       "<style scoped>\n",
       "    .dataframe tbody tr th:only-of-type {\n",
       "        vertical-align: middle;\n",
       "    }\n",
       "\n",
       "    .dataframe tbody tr th {\n",
       "        vertical-align: top;\n",
       "    }\n",
       "\n",
       "    .dataframe thead th {\n",
       "        text-align: right;\n",
       "    }\n",
       "</style>\n",
       "<table border=\"1\" class=\"dataframe\">\n",
       "  <thead>\n",
       "    <tr style=\"text-align: right;\">\n",
       "      <th></th>\n",
       "      <th>close</th>\n",
       "    </tr>\n",
       "    <tr>\n",
       "      <th>time</th>\n",
       "      <th></th>\n",
       "    </tr>\n",
       "  </thead>\n",
       "  <tbody>\n",
       "    <tr>\n",
       "      <th>2021-08-01 21:00:00+00:00</th>\n",
       "      <td>1.18743</td>\n",
       "    </tr>\n",
       "    <tr>\n",
       "      <th>2021-08-01 21:02:00+00:00</th>\n",
       "      <td>1.18743</td>\n",
       "    </tr>\n",
       "    <tr>\n",
       "      <th>2021-08-01 21:05:00+00:00</th>\n",
       "      <td>1.18752</td>\n",
       "    </tr>\n",
       "    <tr>\n",
       "      <th>2021-08-01 21:10:00+00:00</th>\n",
       "      <td>1.18752</td>\n",
       "    </tr>\n",
       "    <tr>\n",
       "      <th>2021-08-01 21:12:00+00:00</th>\n",
       "      <td>1.18734</td>\n",
       "    </tr>\n",
       "  </tbody>\n",
       "</table>\n",
       "</div>"
      ],
      "text/plain": [
       "                             close\n",
       "time                              \n",
       "2021-08-01 21:00:00+00:00  1.18743\n",
       "2021-08-01 21:02:00+00:00  1.18743\n",
       "2021-08-01 21:05:00+00:00  1.18752\n",
       "2021-08-01 21:10:00+00:00  1.18752\n",
       "2021-08-01 21:12:00+00:00  1.18734"
      ]
     },
     "execution_count": 249,
     "metadata": {},
     "output_type": "execute_result"
    }
   ],
   "source": [
    "#for the purpose of this project, we will be looking at only the closing price\n",
    "close = df.close.to_frame()\n",
    "close.head()"
   ]
  },
  {
   "cell_type": "code",
   "execution_count": 250,
   "id": "466f47a5",
   "metadata": {
    "ExecuteTime": {
     "end_time": "2022-09-14T15:25:00.469902Z",
     "start_time": "2022-09-14T15:25:00.445353Z"
    },
    "scrolled": false
   },
   "outputs": [],
   "source": [
    "close[\"returns\"] = np.log(close.div(close.shift(1)))"
   ]
  },
  {
   "cell_type": "code",
   "execution_count": 251,
   "id": "0a863e96",
   "metadata": {
    "ExecuteTime": {
     "end_time": "2022-09-14T15:25:01.299286Z",
     "start_time": "2022-09-14T15:25:01.278248Z"
    }
   },
   "outputs": [
    {
     "data": {
      "text/html": [
       "<div>\n",
       "<style scoped>\n",
       "    .dataframe tbody tr th:only-of-type {\n",
       "        vertical-align: middle;\n",
       "    }\n",
       "\n",
       "    .dataframe tbody tr th {\n",
       "        vertical-align: top;\n",
       "    }\n",
       "\n",
       "    .dataframe thead th {\n",
       "        text-align: right;\n",
       "    }\n",
       "</style>\n",
       "<table border=\"1\" class=\"dataframe\">\n",
       "  <thead>\n",
       "    <tr style=\"text-align: right;\">\n",
       "      <th></th>\n",
       "      <th>close</th>\n",
       "      <th>returns</th>\n",
       "    </tr>\n",
       "    <tr>\n",
       "      <th>time</th>\n",
       "      <th></th>\n",
       "      <th></th>\n",
       "    </tr>\n",
       "  </thead>\n",
       "  <tbody>\n",
       "    <tr>\n",
       "      <th>2021-08-01 21:00:00+00:00</th>\n",
       "      <td>1.18743</td>\n",
       "      <td>NaN</td>\n",
       "    </tr>\n",
       "    <tr>\n",
       "      <th>2021-08-01 21:02:00+00:00</th>\n",
       "      <td>1.18743</td>\n",
       "      <td>0.000000</td>\n",
       "    </tr>\n",
       "    <tr>\n",
       "      <th>2021-08-01 21:05:00+00:00</th>\n",
       "      <td>1.18752</td>\n",
       "      <td>0.000076</td>\n",
       "    </tr>\n",
       "    <tr>\n",
       "      <th>2021-08-01 21:10:00+00:00</th>\n",
       "      <td>1.18752</td>\n",
       "      <td>0.000000</td>\n",
       "    </tr>\n",
       "    <tr>\n",
       "      <th>2021-08-01 21:12:00+00:00</th>\n",
       "      <td>1.18734</td>\n",
       "      <td>-0.000152</td>\n",
       "    </tr>\n",
       "  </tbody>\n",
       "</table>\n",
       "</div>"
      ],
      "text/plain": [
       "                             close   returns\n",
       "time                                        \n",
       "2021-08-01 21:00:00+00:00  1.18743       NaN\n",
       "2021-08-01 21:02:00+00:00  1.18743  0.000000\n",
       "2021-08-01 21:05:00+00:00  1.18752  0.000076\n",
       "2021-08-01 21:10:00+00:00  1.18752  0.000000\n",
       "2021-08-01 21:12:00+00:00  1.18734 -0.000152"
      ]
     },
     "execution_count": 251,
     "metadata": {},
     "output_type": "execute_result"
    }
   ],
   "source": [
    "close.head()"
   ]
  },
  {
   "cell_type": "code",
   "execution_count": 252,
   "id": "439e20b2",
   "metadata": {
    "ExecuteTime": {
     "end_time": "2022-09-14T15:25:03.572649Z",
     "start_time": "2022-09-14T15:25:03.550075Z"
    }
   },
   "outputs": [],
   "source": [
    "close=close.dropna()"
   ]
  },
  {
   "cell_type": "code",
   "execution_count": 253,
   "id": "664d7505",
   "metadata": {
    "ExecuteTime": {
     "end_time": "2022-09-14T15:25:05.315141Z",
     "start_time": "2022-09-14T15:25:05.302614Z"
    }
   },
   "outputs": [
    {
     "data": {
      "text/html": [
       "<div>\n",
       "<style scoped>\n",
       "    .dataframe tbody tr th:only-of-type {\n",
       "        vertical-align: middle;\n",
       "    }\n",
       "\n",
       "    .dataframe tbody tr th {\n",
       "        vertical-align: top;\n",
       "    }\n",
       "\n",
       "    .dataframe thead th {\n",
       "        text-align: right;\n",
       "    }\n",
       "</style>\n",
       "<table border=\"1\" class=\"dataframe\">\n",
       "  <thead>\n",
       "    <tr style=\"text-align: right;\">\n",
       "      <th></th>\n",
       "      <th>close</th>\n",
       "      <th>returns</th>\n",
       "    </tr>\n",
       "    <tr>\n",
       "      <th>time</th>\n",
       "      <th></th>\n",
       "      <th></th>\n",
       "    </tr>\n",
       "  </thead>\n",
       "  <tbody>\n",
       "    <tr>\n",
       "      <th>2021-08-01 21:02:00+00:00</th>\n",
       "      <td>1.18743</td>\n",
       "      <td>0.000000</td>\n",
       "    </tr>\n",
       "    <tr>\n",
       "      <th>2021-08-01 21:05:00+00:00</th>\n",
       "      <td>1.18752</td>\n",
       "      <td>0.000076</td>\n",
       "    </tr>\n",
       "    <tr>\n",
       "      <th>2021-08-01 21:10:00+00:00</th>\n",
       "      <td>1.18752</td>\n",
       "      <td>0.000000</td>\n",
       "    </tr>\n",
       "    <tr>\n",
       "      <th>2021-08-01 21:12:00+00:00</th>\n",
       "      <td>1.18734</td>\n",
       "      <td>-0.000152</td>\n",
       "    </tr>\n",
       "    <tr>\n",
       "      <th>2021-08-01 21:30:00+00:00</th>\n",
       "      <td>1.18720</td>\n",
       "      <td>-0.000118</td>\n",
       "    </tr>\n",
       "    <tr>\n",
       "      <th>...</th>\n",
       "      <td>...</td>\n",
       "      <td>...</td>\n",
       "    </tr>\n",
       "    <tr>\n",
       "      <th>2022-08-30 23:55:00+00:00</th>\n",
       "      <td>1.00262</td>\n",
       "      <td>-0.000030</td>\n",
       "    </tr>\n",
       "    <tr>\n",
       "      <th>2022-08-30 23:56:00+00:00</th>\n",
       "      <td>1.00262</td>\n",
       "      <td>0.000000</td>\n",
       "    </tr>\n",
       "    <tr>\n",
       "      <th>2022-08-30 23:57:00+00:00</th>\n",
       "      <td>1.00255</td>\n",
       "      <td>-0.000070</td>\n",
       "    </tr>\n",
       "    <tr>\n",
       "      <th>2022-08-30 23:58:00+00:00</th>\n",
       "      <td>1.00256</td>\n",
       "      <td>0.000010</td>\n",
       "    </tr>\n",
       "    <tr>\n",
       "      <th>2022-08-30 23:59:00+00:00</th>\n",
       "      <td>1.00245</td>\n",
       "      <td>-0.000110</td>\n",
       "    </tr>\n",
       "  </tbody>\n",
       "</table>\n",
       "<p>396574 rows × 2 columns</p>\n",
       "</div>"
      ],
      "text/plain": [
       "                             close   returns\n",
       "time                                        \n",
       "2021-08-01 21:02:00+00:00  1.18743  0.000000\n",
       "2021-08-01 21:05:00+00:00  1.18752  0.000076\n",
       "2021-08-01 21:10:00+00:00  1.18752  0.000000\n",
       "2021-08-01 21:12:00+00:00  1.18734 -0.000152\n",
       "2021-08-01 21:30:00+00:00  1.18720 -0.000118\n",
       "...                            ...       ...\n",
       "2022-08-30 23:55:00+00:00  1.00262 -0.000030\n",
       "2022-08-30 23:56:00+00:00  1.00262  0.000000\n",
       "2022-08-30 23:57:00+00:00  1.00255 -0.000070\n",
       "2022-08-30 23:58:00+00:00  1.00256  0.000010\n",
       "2022-08-30 23:59:00+00:00  1.00245 -0.000110\n",
       "\n",
       "[396574 rows x 2 columns]"
      ]
     },
     "execution_count": 253,
     "metadata": {},
     "output_type": "execute_result"
    }
   ],
   "source": [
    "close"
   ]
  },
  {
   "cell_type": "code",
   "execution_count": null,
   "id": "c7e2966d",
   "metadata": {},
   "outputs": [],
   "source": []
  },
  {
   "cell_type": "code",
   "execution_count": null,
   "id": "95c7b899",
   "metadata": {},
   "outputs": [],
   "source": []
  },
  {
   "cell_type": "code",
   "execution_count": null,
   "id": "2ce967f1",
   "metadata": {},
   "outputs": [],
   "source": []
  },
  {
   "cell_type": "code",
   "execution_count": null,
   "id": "4d1990e0",
   "metadata": {},
   "outputs": [],
   "source": []
  },
  {
   "cell_type": "code",
   "execution_count": null,
   "id": "f5229766",
   "metadata": {},
   "outputs": [],
   "source": []
  },
  {
   "cell_type": "code",
   "execution_count": null,
   "id": "98c7b875",
   "metadata": {},
   "outputs": [],
   "source": []
  },
  {
   "cell_type": "code",
   "execution_count": null,
   "id": "7e0cf93a",
   "metadata": {},
   "outputs": [],
   "source": []
  },
  {
   "cell_type": "code",
   "execution_count": null,
   "id": "174def53",
   "metadata": {},
   "outputs": [],
   "source": []
  },
  {
   "cell_type": "code",
   "execution_count": null,
   "id": "aaa5b503",
   "metadata": {},
   "outputs": [],
   "source": []
  },
  {
   "cell_type": "code",
   "execution_count": null,
   "id": "1cbc8c1d",
   "metadata": {},
   "outputs": [],
   "source": []
  },
  {
   "cell_type": "code",
   "execution_count": null,
   "id": "b2d5197f",
   "metadata": {},
   "outputs": [],
   "source": []
  },
  {
   "cell_type": "code",
   "execution_count": null,
   "id": "b731c81d",
   "metadata": {},
   "outputs": [],
   "source": []
  },
  {
   "cell_type": "code",
   "execution_count": null,
   "id": "127cff8a",
   "metadata": {},
   "outputs": [],
   "source": []
  },
  {
   "cell_type": "code",
   "execution_count": null,
   "id": "3cae170d",
   "metadata": {},
   "outputs": [],
   "source": []
  },
  {
   "cell_type": "code",
   "execution_count": null,
   "id": "5e006409",
   "metadata": {},
   "outputs": [],
   "source": []
  },
  {
   "cell_type": "markdown",
   "id": "70fd36b2",
   "metadata": {},
   "source": [
    "## Streaming high-frequency real-time Data"
   ]
  },
  {
   "cell_type": "code",
   "execution_count": 71,
   "id": "811ec09a",
   "metadata": {
    "ExecuteTime": {
     "end_time": "2022-09-14T12:46:13.232811Z",
     "start_time": "2022-09-14T12:46:05.453440Z"
    },
    "scrolled": true
   },
   "outputs": [
    {
     "name": "stdout",
     "output_type": "stream",
     "text": [
      "2022-09-14T12:46:06.485065278Z 0.99983 0.99992\n",
      "2022-09-14T12:46:07.202051582Z 0.99984 0.99994\n",
      "2022-09-14T12:46:07.462142626Z 0.99991 1.0\n",
      "2022-09-14T12:46:07.617935760Z 0.99995 1.00005\n",
      "2022-09-14T12:46:07.949039666Z 0.99991 1.00001\n",
      "2022-09-14T12:46:08.485643475Z 0.99992 1.00003\n",
      "2022-09-14T12:46:08.600025385Z 0.99995 1.00005\n",
      "2022-09-14T12:46:09.051829192Z 0.99993 1.00003\n",
      "2022-09-14T12:46:09.481146469Z 0.9999 1.0\n",
      "2022-09-14T12:46:09.729002181Z 0.99994 1.00002\n",
      "2022-09-14T12:46:09.948675266Z 0.99992 1.00002\n",
      "2022-09-14T12:46:10.262377413Z 0.99995 1.00004\n",
      "2022-09-14T12:46:10.734615566Z 0.99997 1.00007\n",
      "2022-09-14T12:46:11.517587754Z 0.99995 1.00005\n",
      "2022-09-14T12:46:12.259239429Z 0.9999 0.99999\n",
      "2022-09-14T12:46:12.454799567Z 0.99987 0.99997\n",
      "2022-09-14T12:46:12.722885118Z 0.99987 0.99997\n",
      "2022-09-14T12:46:13.267069692Z 0.9999 0.99999\n",
      "2022-09-14T12:46:13.480122872Z 0.99989 1.0\n",
      "2022-09-14T12:46:13.980844177Z 0.99997 1.00008\n"
     ]
    }
   ],
   "source": [
    "# api.stream_data('EUR_USD', stop=20) "
   ]
  },
  {
   "cell_type": "markdown",
   "id": "f6c056a4",
   "metadata": {
    "ExecuteTime": {
     "end_time": "2022-09-13T14:36:18.880872Z",
     "start_time": "2022-09-13T14:36:18.866857Z"
    }
   },
   "source": [
    "## Creating Orders and Executing Trades"
   ]
  },
  {
   "cell_type": "code",
   "execution_count": 98,
   "id": "1e8f706e",
   "metadata": {
    "ExecuteTime": {
     "end_time": "2022-09-14T13:06:05.378734Z",
     "start_time": "2022-09-14T13:06:05.373784Z"
    }
   },
   "outputs": [
    {
     "name": "stdout",
     "output_type": "stream",
     "text": [
      "Help on method create_order in module tpqoa.tpqoa:\n",
      "\n",
      "create_order(instrument, units, sl_distance=0.01) method of tpqoa.tpqoa.tpqoa instance\n",
      "    Places order with Oanda.\n",
      "    \n",
      "    Parameters\n",
      "    ==========\n",
      "    instrument: string\n",
      "        valid instrument name\n",
      "    units: int\n",
      "        number of units of instrument to be bought\n",
      "        (positive int, eg 'units=50')\n",
      "        or to be sold (negative int, eg 'units=-100')\n",
      "    sl_distance: float\n",
      "        stop loss distance price, mandatory eg in Germany\n",
      "\n"
     ]
    }
   ],
   "source": [
    "# help(api.create_order)"
   ]
  },
  {
   "cell_type": "code",
   "execution_count": 97,
   "id": "c93eb615",
   "metadata": {
    "ExecuteTime": {
     "end_time": "2022-09-14T13:04:44.247705Z",
     "start_time": "2022-09-14T13:04:43.967150Z"
    },
    "scrolled": true
   },
   "outputs": [
    {
     "name": "stdout",
     "output_type": "stream",
     "text": [
      "\n",
      "\n",
      " {'id': '31', 'time': '2022-09-14T13:04:45.083778279Z', 'userID': 23224294, 'accountID': '101-003-23224294-001', 'batchID': '30', 'requestID': '43004598533797126', 'type': 'ORDER_FILL', 'orderID': '30', 'instrument': 'EUR_USD', 'units': '100000.0', 'gainQuoteHomeConversionFactor': '1.3978755', 'lossQuoteHomeConversionFactor': '1.4119245', 'price': 0.99998, 'fullVWAP': 0.99998, 'fullPrice': {'type': 'PRICE', 'bids': [{'price': 0.9999, 'liquidity': '1000000'}, {'price': 0.99989, 'liquidity': '2000000'}, {'price': 0.99988, 'liquidity': '2000000'}, {'price': 0.99986, 'liquidity': '5000000'}], 'asks': [{'price': 0.99998, 'liquidity': '1000000'}, {'price': 1.0, 'liquidity': '2000000'}, {'price': 1.00001, 'liquidity': '2000000'}, {'price': 1.00002, 'liquidity': '5000000'}], 'closeoutBid': 0.99986, 'closeoutAsk': 1.00002}, 'reason': 'MARKET_ORDER', 'pl': '8.3873', 'financing': '0.0', 'commission': '0.0', 'guaranteedExecutionFee': '0.0', 'accountBalance': '100044.7412', 'tradesClosed': [{'tradeID': '28', 'units': '100000.0', 'price': 0.99998, 'realizedPL': '8.3873', 'financing': '0.0', 'guaranteedExecutionFee': '0.0', 'halfSpreadCost': '5.6196'}], 'halfSpreadCost': '5.6196'} \n",
      "\n"
     ]
    }
   ],
   "source": [
    "# api.create_order(instrument = \"EUR_USD\", units = 100000, sl_distance= 0.1)"
   ]
  },
  {
   "cell_type": "code",
   "execution_count": 96,
   "id": "0402da8b",
   "metadata": {
    "ExecuteTime": {
     "end_time": "2022-09-14T13:03:53.587384Z",
     "start_time": "2022-09-14T13:03:53.313401Z"
    }
   },
   "outputs": [
    {
     "name": "stdout",
     "output_type": "stream",
     "text": [
      "\n",
      "\n",
      " {'id': '28', 'time': '2022-09-14T13:03:54.422497715Z', 'userID': 23224294, 'accountID': '101-003-23224294-001', 'batchID': '27', 'requestID': '24990199812139123', 'type': 'ORDER_FILL', 'orderID': '27', 'instrument': 'EUR_USD', 'units': '-100000.0', 'gainQuoteHomeConversionFactor': '1.39778595', 'lossQuoteHomeConversionFactor': '1.41183405', 'price': 1.00004, 'fullVWAP': 1.00004, 'fullPrice': {'type': 'PRICE', 'bids': [{'price': 1.00004, 'liquidity': '1000000'}, {'price': 1.00003, 'liquidity': '2000000'}, {'price': 1.00002, 'liquidity': '2000000'}, {'price': 1.0, 'liquidity': '5000000'}], 'asks': [{'price': 1.00014, 'liquidity': '1000000'}, {'price': 1.00016, 'liquidity': '2000000'}, {'price': 1.00017, 'liquidity': '2000000'}, {'price': 1.00018, 'liquidity': '5000000'}], 'closeoutBid': 1.0, 'closeoutAsk': 1.00018}, 'reason': 'MARKET_ORDER', 'pl': '0.0', 'financing': '0.0', 'commission': '0.0', 'guaranteedExecutionFee': '0.0', 'accountBalance': '100036.3539', 'tradeOpened': {'tradeID': '28', 'units': '-100000.0', 'price': 1.00004, 'guaranteedExecutionFee': '0.0', 'halfSpreadCost': '7.024', 'initialMarginRequired': '7024.5'}, 'halfSpreadCost': '7.024'} \n",
      "\n"
     ]
    }
   ],
   "source": [
    "# api.create_order(instrument = \"EUR_USD\", units = -100000, sl_distance= 0.01)"
   ]
  },
  {
   "cell_type": "code",
   "execution_count": 74,
   "id": "e25bd5cd",
   "metadata": {
    "ExecuteTime": {
     "end_time": "2022-09-14T12:52:26.581018Z",
     "start_time": "2022-09-14T12:52:26.307492Z"
    }
   },
   "outputs": [
    {
     "data": {
      "text/plain": [
       "{'id': '101-003-23224294-001',\n",
       " 'alias': 'Primary',\n",
       " 'currency': 'SGD',\n",
       " 'balance': '100036.3539',\n",
       " 'createdByUserID': 23224294,\n",
       " 'createdTime': '2022-09-13T12:16:27.974338285Z',\n",
       " 'guaranteedStopLossOrderMode': 'ALLOWED',\n",
       " 'pl': '-231.3561',\n",
       " 'resettablePL': '-231.3561',\n",
       " 'resettablePLTime': '0',\n",
       " 'financing': '0.0',\n",
       " 'commission': '0.0',\n",
       " 'guaranteedExecutionFees': '0.0',\n",
       " 'marginRate': '0.05',\n",
       " 'openTradeCount': 0,\n",
       " 'openPositionCount': 0,\n",
       " 'pendingOrderCount': 0,\n",
       " 'hedgingEnabled': False,\n",
       " 'unrealizedPL': '0.0',\n",
       " 'NAV': '100036.3539',\n",
       " 'marginUsed': '0.0',\n",
       " 'marginAvailable': '100036.3539',\n",
       " 'positionValue': '0.0',\n",
       " 'marginCloseoutUnrealizedPL': '0.0',\n",
       " 'marginCloseoutNAV': '100036.3539',\n",
       " 'marginCloseoutMarginUsed': '0.0',\n",
       " 'marginCloseoutPercent': '0.0',\n",
       " 'marginCloseoutPositionValue': '0.0',\n",
       " 'withdrawalLimit': '100036.3539',\n",
       " 'marginCallMarginUsed': '0.0',\n",
       " 'marginCallPercent': '0.0',\n",
       " 'lastTransactionID': '26'}"
      ]
     },
     "execution_count": 74,
     "metadata": {},
     "output_type": "execute_result"
    }
   ],
   "source": [
    "# api.get_account_summary()"
   ]
  },
  {
   "cell_type": "code",
   "execution_count": 92,
   "id": "0743cce7",
   "metadata": {
    "ExecuteTime": {
     "end_time": "2022-09-14T12:57:16.384538Z",
     "start_time": "2022-09-14T12:57:16.118711Z"
    }
   },
   "outputs": [],
   "source": [
    "trade_record = api.get_transactions()"
   ]
  },
  {
   "cell_type": "code",
   "execution_count": 94,
   "id": "42f37b13",
   "metadata": {
    "ExecuteTime": {
     "end_time": "2022-09-14T12:57:43.636944Z",
     "start_time": "2022-09-14T12:57:43.624240Z"
    },
    "scrolled": false
   },
   "outputs": [],
   "source": [
    "df1 = pd.DataFrame.from_dict(trade_record)\n",
    "df1"
   ]
  }
 ],
 "metadata": {
  "kernelspec": {
   "display_name": "Python 3 (ipykernel)",
   "language": "python",
   "name": "python3"
  },
  "language_info": {
   "codemirror_mode": {
    "name": "ipython",
    "version": 3
   },
   "file_extension": ".py",
   "mimetype": "text/x-python",
   "name": "python",
   "nbconvert_exporter": "python",
   "pygments_lexer": "ipython3",
   "version": "3.9.7"
  },
  "varInspector": {
   "cols": {
    "lenName": 16,
    "lenType": 16,
    "lenVar": 40
   },
   "kernels_config": {
    "python": {
     "delete_cmd_postfix": "",
     "delete_cmd_prefix": "del ",
     "library": "var_list.py",
     "varRefreshCmd": "print(var_dic_list())"
    },
    "r": {
     "delete_cmd_postfix": ") ",
     "delete_cmd_prefix": "rm(",
     "library": "var_list.r",
     "varRefreshCmd": "cat(var_dic_list()) "
    }
   },
   "types_to_exclude": [
    "module",
    "function",
    "builtin_function_or_method",
    "instance",
    "_Feature"
   ],
   "window_display": false
  }
 },
 "nbformat": 4,
 "nbformat_minor": 5
}
