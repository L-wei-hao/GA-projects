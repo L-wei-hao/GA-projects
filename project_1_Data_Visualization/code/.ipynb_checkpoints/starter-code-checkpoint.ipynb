{
 "cells": [
  {
   "cell_type": "markdown",
   "metadata": {},
   "source": [
    "<img src=\"http://imgur.com/1ZcRyrc.png\" style=\"float: left; margin: 20px; height: 55px\">\n",
    "\n",
    "# Project 1: Standardized Test Analysis"
   ]
  },
  {
   "cell_type": "markdown",
   "metadata": {},
   "source": [
    "--- \n",
    "# Part 1\n",
    "\n",
    "Part 1 requires knowledge of basic Python.\n",
    "\n",
    "---"
   ]
  },
  {
   "cell_type": "markdown",
   "metadata": {},
   "source": [
    "## Problem Statement"
   ]
  },
  {
   "cell_type": "markdown",
   "metadata": {},
   "source": [
    "Decide on your problem statement that will guide your analysis for this project. For guidelines, sample prompts, or inspiration, check out the README.\n",
    "\n",
    "\n",
    "Who we are:\n",
    "We are xxx education expert from Singapore trying to break into the US private education market.\n",
    "\n",
    "approach:\n",
    "Tuition center to determine which subject to focus on and what states to target\n",
    "\n",
    "Find regression/correlation between GDP against ACT and Participation rate\n",
    "\n"
   ]
  },
  {
   "cell_type": "markdown",
   "metadata": {},
   "source": [
    "### Contents:\n",
    "- [Background](#Background)\n",
    "- [Data Import & Cleaning](#Data-Import-and-Cleaning)\n",
    "- [Exploratory Data Analysis](#Exploratory-Data-Analysis)\n",
    "- [Data Visualization](#Visualize-the-Data)\n",
    "- [Conclusions and Recommendations](#Conclusions-and-Recommendations)"
   ]
  },
  {
   "cell_type": "markdown",
   "metadata": {},
   "source": [
    "## Background"
   ]
  },
  {
   "cell_type": "markdown",
   "metadata": {},
   "source": [
    "The SAT and ACT are standardized tests that many colleges and universities in the United States require for their admissions process. This score is used along with other materials such as grade point average (GPA) and essay responses to determine whether or not a potential student will be accepted to the university.\n",
    "\n",
    "The SAT has two sections of the test: Evidence-Based Reading and Writing and Math ([*source*](https://www.princetonreview.com/college/sat-sections)). The ACT has 4 sections: English, Mathematics, Reading, and Science, with an additional optional writing section ([*source*](https://www.act.org/content/act/en/products-and-services/the-act/scores/understanding-your-scores.html)). They have different score ranges, which you can read more about on their websites or additional outside sources (a quick Google search will help you understand the scores for each test):\n",
    "* [SAT](https://collegereadiness.collegeboard.org/sat)\n",
    "* [ACT](https://www.act.org/content/act/en.html)\n",
    "\n",
    "Standardized tests have long been a controversial topic for students, administrators, and legislators. Since the 1940's, an increasing number of colleges have been using scores from sudents' performances on tests like the SAT and the ACT as a measure for college readiness and aptitude ([*source*](https://www.minotdailynews.com/news/local-news/2017/04/a-brief-history-of-the-sat-and-act/)). Supporters of these tests argue that these scores can be used as an objective measure to determine college admittance. Opponents of these tests claim that these tests are not accurate measures of students potential or ability and serve as an inequitable barrier to entry. Lately, more and more schools are opting to drop the SAT/ACT requirement for their Fall 2021 applications ([*read more about this here*](https://www.cnn.com/2020/04/14/us/coronavirus-colleges-sat-act-test-trnd/index.html))."
   ]
  },
  {
   "cell_type": "markdown",
   "metadata": {},
   "source": [
    "**To-Do:** *Fill out this cell (or edit the above cell) with any other background or information that is necessary for your problem statement.*"
   ]
  },
  {
   "cell_type": "markdown",
   "metadata": {},
   "source": [
    "### Choose your Data\n",
    "\n",
    "There are 10 datasets included in the [`data`](./data/) folder for this project. You are required to pick **at least two** of these to complete your analysis. Feel free to use more than two if you would like, or add other relevant datasets you find online.\n",
    "\n",
    "* [`act_2017.csv`](./data/act_2017.csv): 2017 ACT Scores by State\n",
    "* [`act_2018.csv`](./data/act_2018.csv): 2018 ACT Scores by State\n",
    "* [`act_2019.csv`](./data/act_2019.csv): 2019 ACT Scores by State\n",
    "* [`act_2019_ca.csv`](./data/act_2019_ca.csv): 2019 ACT Scores in California by School\n",
    "* [`sat_2017.csv`](./data/sat_2017.csv): 2017 SAT Scores by State\n",
    "* [`sat_2018.csv`](./data/sat_2018.csv): 2018 SAT Scores by State\n",
    "* [`sat_2019.csv`](./data/sat_2019.csv): 2019 SAT Scores by State\n",
    "* [`sat_2019_by_intended_college_major.csv`](./data/sat_2019_by_intended_college_major.csv): 2019 SAT Scores by Intended College Major\n",
    "* [`sat_2019_ca.csv`](./data/sat_2019_ca.csv): 2019 SAT Scores in California by School\n",
    "* [`sat_act_by_college.csv`](./data/sat_act_by_college.csv): Ranges of Accepted ACT & SAT Student Scores by Colleges\n",
    "\n",
    "Addtional Dataset\n",
    "* [`SAGDP1__ALL_AREAS_1997_2021.csv`](./data/SAGDP1__ALL_AREAS_1997_2021.csv): GDP by state from 1997 - 2021 \n",
    "source: https://www.bea.gov/data/gdp/gross-domestic-product\n",
    "\n"
   ]
  },
  {
   "cell_type": "markdown",
   "metadata": {},
   "source": [
    "**To-Do:** *Fill out this cell with the datasets you will use for your analysis. Write a brief description of the contents for each dataset that you choose.*"
   ]
  },
  {
   "cell_type": "markdown",
   "metadata": {},
   "source": [
    "### Outside Research"
   ]
  },
  {
   "cell_type": "markdown",
   "metadata": {},
   "source": [
    "Based on your problem statement and your chosen datasets, spend some time doing outside research on state policies or additional information that might be relevant. Summarize your findings below. If you bring in any outside tables or charts, make sure you are explicit about having borrowed them. If you quote any text, make sure that it renders as being quoted. **Make sure that you cite your sources.**"
   ]
  },
  {
   "cell_type": "markdown",
   "metadata": {},
   "source": [
    "**To-Do:** *Fill out this cell with outside research or any additional background information that will support your analysis.*"
   ]
  },
  {
   "cell_type": "markdown",
   "metadata": {},
   "source": [
    "### Coding Challenges\n",
    "\n",
    "1. Manually calculate mean:\n",
    "\n",
    "    Write a function that takes in values and returns the mean of the values. Create a list of numbers that you test on your function to check to make sure your function works!\n",
    "    \n",
    "    *Note*: Do not use any mean methods built-in to any Python libraries to do this! This should be done without importing any additional libraries."
   ]
  },
  {
   "cell_type": "code",
   "execution_count": null,
   "metadata": {},
   "outputs": [],
   "source": [
    "# Code:\n"
   ]
  },
  {
   "cell_type": "markdown",
   "metadata": {},
   "source": [
    "2. Manually calculate standard deviation:\n",
    "\n",
    "    The formula for standard deviation is below:\n",
    "\n",
    "    $$\\sigma = \\sqrt{\\frac{1}{n}\\sum_{i=1}^n(x_i - \\mu)^2}$$\n",
    "\n",
    "    Where $x_i$ represents each value in the dataset, $\\mu$ represents the mean of all values in the dataset and $n$ represents the number of values in the dataset.\n",
    "\n",
    "    Write a function that takes in values and returns the standard deviation of the values using the formula above. Hint: use the function you wrote above to calculate the mean! Use the list of numbers you created above to test on your function.\n",
    "    \n",
    "    *Note*: Do not use any standard deviation methods built-in to any Python libraries to do this! This should be done without importing any additional libraries."
   ]
  },
  {
   "cell_type": "code",
   "execution_count": null,
   "metadata": {},
   "outputs": [],
   "source": [
    "# Code:"
   ]
  },
  {
   "cell_type": "markdown",
   "metadata": {},
   "source": [
    "3. Data cleaning function:\n",
    "    \n",
    "    Write a function that takes in a string that is a number and a percent symbol (ex. '50%', '30.5%', etc.) and converts this to a float that is the decimal approximation of the percent. For example, inputting '50%' in your function should return 0.5, '30.5%' should return 0.305, etc. Make sure to test your function to make sure it works!\n",
    "\n",
    "You will use these functions later on in the project!"
   ]
  },
  {
   "cell_type": "code",
   "execution_count": null,
   "metadata": {},
   "outputs": [],
   "source": [
    "# Code:"
   ]
  },
  {
   "cell_type": "markdown",
   "metadata": {},
   "source": [
    "--- \n",
    "# Part 2\n",
    "\n",
    "Part 2 requires knowledge of Pandas, EDA, data cleaning, and data visualization.\n",
    "\n",
    "---"
   ]
  },
  {
   "cell_type": "markdown",
   "metadata": {},
   "source": [
    "*All libraries used should be added here*"
   ]
  },
  {
   "cell_type": "code",
   "execution_count": 1,
   "metadata": {},
   "outputs": [],
   "source": [
    "# Imports:\n",
    "\n",
    "import numpy as np\n",
    "import pandas as pd\n",
    "import seaborn as sns\n",
    "import matplotlib.pyplot as plt"
   ]
  },
  {
   "cell_type": "markdown",
   "metadata": {},
   "source": [
    "## Data Import and Cleaning"
   ]
  },
  {
   "cell_type": "markdown",
   "metadata": {},
   "source": [
    "### Data Import & Cleaning\n",
    "\n",
    "Import the datasets that you selected for this project and go through the following steps at a minimum. You are welcome to do further cleaning as you feel necessary:\n",
    "1. Display the data: print the first 5 rows of each dataframe to your Jupyter notebook.\n",
    "2. Check for missing values.\n",
    "3. Check for any obvious issues with the observations (keep in mind the minimum & maximum possible values for each test/subtest).\n",
    "4. Fix any errors you identified in steps 2-3.\n",
    "5. Display the data types of each feature.\n",
    "6. Fix any incorrect data types found in step 5.\n",
    "    - Fix any individual values preventing other columns from being the appropriate type.\n",
    "    - If your dataset has a column of percents (ex. '50%', '30.5%', etc.), use the function you wrote in Part 1 (coding challenges, number 3) to convert this to floats! *Hint*: use `.map()` or `.apply()`.\n",
    "7. Rename Columns.\n",
    "    - Column names should be all lowercase.\n",
    "    - Column names should not contain spaces (underscores will suffice--this allows for using the `df.column_name` method to access columns in addition to `df['column_name']`).\n",
    "    - Column names should be unique and informative.\n",
    "8. Drop unnecessary rows (if needed).\n",
    "9. Merge dataframes that can be merged.\n",
    "10. Perform any additional cleaning that you feel is necessary.\n",
    "11. Save your cleaned and merged dataframes as csv files."
   ]
  },
  {
   "cell_type": "code",
   "execution_count": 2,
   "metadata": {},
   "outputs": [],
   "source": [
    "# Code:\n",
    "\n",
    "act_2017 = pd.read_csv('../data/act_2017.csv')\n",
    "act_2018 = pd.read_csv('../data/act_2018.csv')\n",
    "act_2019 = pd.read_csv('../data/act_2019.csv')\n",
    "sat_2017 = pd.read_csv('../data/sat_2017.csv')\n",
    "sat_2018 = pd.read_csv('../data/sat_2018.csv')\n",
    "sat_2019 = pd.read_csv('../data/sat_2019.csv')\n",
    "US_GDP = pd.read_csv('../data/SAGDP1__ALL_AREAS_1997_2021.csv')\n",
    "\n"
   ]
  },
  {
   "cell_type": "code",
   "execution_count": 3,
   "metadata": {},
   "outputs": [],
   "source": [
    "#load files to dataframe\n",
    "GDP_DF = pd.DataFrame(US_GDP)\n"
   ]
  },
  {
   "cell_type": "code",
   "execution_count": 4,
   "metadata": {},
   "outputs": [],
   "source": [
    "#filter out unwanted rows (we only want rows with 'Current-dollar GDP (millions of current dollars)'' )\n",
    "\n",
    "GDP_DF = GDP_DF[(GDP_DF['Description'] == 'Current-dollar GDP (millions of current dollars)' ) ]"
   ]
  },
  {
   "cell_type": "code",
   "execution_count": 5,
   "metadata": {},
   "outputs": [
    {
     "data": {
      "text/html": [
       "<div>\n",
       "<style scoped>\n",
       "    .dataframe tbody tr th:only-of-type {\n",
       "        vertical-align: middle;\n",
       "    }\n",
       "\n",
       "    .dataframe tbody tr th {\n",
       "        vertical-align: top;\n",
       "    }\n",
       "\n",
       "    .dataframe thead th {\n",
       "        text-align: right;\n",
       "    }\n",
       "</style>\n",
       "<table border=\"1\" class=\"dataframe\">\n",
       "  <thead>\n",
       "    <tr style=\"text-align: right;\">\n",
       "      <th></th>\n",
       "      <th>GeoName</th>\n",
       "      <th>2017</th>\n",
       "      <th>2018</th>\n",
       "      <th>2019</th>\n",
       "    </tr>\n",
       "  </thead>\n",
       "  <tbody>\n",
       "    <tr>\n",
       "      <th>2</th>\n",
       "      <td>United States</td>\n",
       "      <td>19479623.0</td>\n",
       "      <td>20527159.0</td>\n",
       "      <td>21372582.0</td>\n",
       "    </tr>\n",
       "    <tr>\n",
       "      <th>10</th>\n",
       "      <td>Alabama</td>\n",
       "      <td>215085.9</td>\n",
       "      <td>224046.9</td>\n",
       "      <td>231171.8</td>\n",
       "    </tr>\n",
       "    <tr>\n",
       "      <th>18</th>\n",
       "      <td>Alaska</td>\n",
       "      <td>53089.3</td>\n",
       "      <td>54711.7</td>\n",
       "      <td>54547.1</td>\n",
       "    </tr>\n",
       "    <tr>\n",
       "      <th>26</th>\n",
       "      <td>Arizona</td>\n",
       "      <td>330416.1</td>\n",
       "      <td>349907.5</td>\n",
       "      <td>369988.2</td>\n",
       "    </tr>\n",
       "    <tr>\n",
       "      <th>34</th>\n",
       "      <td>Arkansas</td>\n",
       "      <td>122350.2</td>\n",
       "      <td>127306.5</td>\n",
       "      <td>130839.9</td>\n",
       "    </tr>\n",
       "  </tbody>\n",
       "</table>\n",
       "</div>"
      ],
      "text/plain": [
       "          GeoName        2017        2018        2019\n",
       "2   United States  19479623.0  20527159.0  21372582.0\n",
       "10        Alabama    215085.9    224046.9    231171.8\n",
       "18         Alaska     53089.3     54711.7     54547.1\n",
       "26        Arizona    330416.1    349907.5    369988.2\n",
       "34       Arkansas    122350.2    127306.5    130839.9"
      ]
     },
     "execution_count": 5,
     "metadata": {},
     "output_type": "execute_result"
    }
   ],
   "source": [
    "#drop unwanted columns\n",
    "GDP_DF.drop(GDP_DF.columns[[0,2,3,4,5,6,7,8,9,10,11,12,13,14,15,16,17,18,19,20,21,22,23,24,25,26,27,31,32]], axis=1, inplace=True)\n",
    "GDP_DF.head()"
   ]
  },
  {
   "cell_type": "code",
   "execution_count": 6,
   "metadata": {},
   "outputs": [],
   "source": [
    "#drop null\n",
    "GDP_DF = GDP_DF.dropna()"
   ]
  },
  {
   "cell_type": "code",
   "execution_count": 7,
   "metadata": {},
   "outputs": [
    {
     "data": {
      "text/html": [
       "<div>\n",
       "<style scoped>\n",
       "    .dataframe tbody tr th:only-of-type {\n",
       "        vertical-align: middle;\n",
       "    }\n",
       "\n",
       "    .dataframe tbody tr th {\n",
       "        vertical-align: top;\n",
       "    }\n",
       "\n",
       "    .dataframe thead th {\n",
       "        text-align: right;\n",
       "    }\n",
       "</style>\n",
       "<table border=\"1\" class=\"dataframe\">\n",
       "  <thead>\n",
       "    <tr style=\"text-align: right;\">\n",
       "      <th></th>\n",
       "      <th>GeoName</th>\n",
       "      <th>2017</th>\n",
       "      <th>2018</th>\n",
       "      <th>2019</th>\n",
       "    </tr>\n",
       "  </thead>\n",
       "  <tbody>\n",
       "    <tr>\n",
       "      <th>10</th>\n",
       "      <td>Alabama</td>\n",
       "      <td>215085.9</td>\n",
       "      <td>224046.9</td>\n",
       "      <td>231171.8</td>\n",
       "    </tr>\n",
       "    <tr>\n",
       "      <th>18</th>\n",
       "      <td>Alaska</td>\n",
       "      <td>53089.3</td>\n",
       "      <td>54711.7</td>\n",
       "      <td>54547.1</td>\n",
       "    </tr>\n",
       "    <tr>\n",
       "      <th>26</th>\n",
       "      <td>Arizona</td>\n",
       "      <td>330416.1</td>\n",
       "      <td>349907.5</td>\n",
       "      <td>369988.2</td>\n",
       "    </tr>\n",
       "    <tr>\n",
       "      <th>34</th>\n",
       "      <td>Arkansas</td>\n",
       "      <td>122350.2</td>\n",
       "      <td>127306.5</td>\n",
       "      <td>130839.9</td>\n",
       "    </tr>\n",
       "    <tr>\n",
       "      <th>42</th>\n",
       "      <td>California</td>\n",
       "      <td>2730973.9</td>\n",
       "      <td>2895101.0</td>\n",
       "      <td>3052645.2</td>\n",
       "    </tr>\n",
       "  </tbody>\n",
       "</table>\n",
       "</div>"
      ],
      "text/plain": [
       "       GeoName       2017       2018       2019\n",
       "10     Alabama   215085.9   224046.9   231171.8\n",
       "18      Alaska    53089.3    54711.7    54547.1\n",
       "26     Arizona   330416.1   349907.5   369988.2\n",
       "34    Arkansas   122350.2   127306.5   130839.9\n",
       "42  California  2730973.9  2895101.0  3052645.2"
      ]
     },
     "execution_count": 7,
     "metadata": {},
     "output_type": "execute_result"
    }
   ],
   "source": [
    "#GDP_DF['GeoName'] != 'United States' \n",
    "\n",
    "GDP_state_DF = GDP_DF[(GDP_DF['GeoName'] != 'United States' ) ]\n",
    "GDP_state_DF.head()"
   ]
  },
  {
   "cell_type": "code",
   "execution_count": 8,
   "metadata": {},
   "outputs": [],
   "source": [
    "#find out the unique states in the data\n",
    "\n",
    "GDP_states= set(GDP_state_DF['GeoName'])\n",
    "act_states = set(act_2019['State'])\n",
    "sat_states = set(sat_2019['State'])"
   ]
  },
  {
   "cell_type": "code",
   "execution_count": 9,
   "metadata": {},
   "outputs": [
    {
     "data": {
      "text/plain": [
       "{'Far West',\n",
       " 'Great Lakes',\n",
       " 'Mideast',\n",
       " 'National',\n",
       " 'New England',\n",
       " 'Plains',\n",
       " 'Rocky Mountain',\n",
       " 'Southeast',\n",
       " 'Southwest'}"
      ]
     },
     "execution_count": 9,
     "metadata": {},
     "output_type": "execute_result"
    }
   ],
   "source": [
    "#compare against act vs sat vs GDP data to find what state is missing in the 3 data sets.\n",
    "#to account for available data for 'states' between act sat and GDP data\n",
    "\n",
    "\n",
    "A = set(GDP_states).symmetric_difference(act_states)\n",
    "A"
   ]
  },
  {
   "cell_type": "code",
   "execution_count": 10,
   "metadata": {},
   "outputs": [
    {
     "data": {
      "text/plain": [
       "{'Far West',\n",
       " 'Great Lakes',\n",
       " 'Mideast',\n",
       " 'New England',\n",
       " 'Plains',\n",
       " 'Puerto Rico',\n",
       " 'Rocky Mountain',\n",
       " 'Southeast',\n",
       " 'Southwest',\n",
       " 'Virgin Islands'}"
      ]
     },
     "execution_count": 10,
     "metadata": {},
     "output_type": "execute_result"
    }
   ],
   "source": [
    "B = set(GDP_states).symmetric_difference(sat_states)\n",
    "B"
   ]
  },
  {
   "cell_type": "code",
   "execution_count": 11,
   "metadata": {},
   "outputs": [
    {
     "data": {
      "text/plain": [
       "{'National', 'Puerto Rico', 'Virgin Islands'}"
      ]
     },
     "execution_count": 11,
     "metadata": {},
     "output_type": "execute_result"
    }
   ],
   "source": [
    "C = set(act_states).symmetric_difference(sat_states)\n",
    "C"
   ]
  },
  {
   "cell_type": "code",
   "execution_count": 12,
   "metadata": {},
   "outputs": [
    {
     "data": {
      "text/plain": [
       "{'Far West',\n",
       " 'Great Lakes',\n",
       " 'Mideast',\n",
       " 'National',\n",
       " 'New England',\n",
       " 'Plains',\n",
       " 'Puerto Rico',\n",
       " 'Rocky Mountain',\n",
       " 'Southeast',\n",
       " 'Southwest',\n",
       " 'Virgin Islands'}"
      ]
     },
     "execution_count": 12,
     "metadata": {},
     "output_type": "execute_result"
    }
   ],
   "source": [
    "#find out the union of all difference\n",
    "ABC = A|B|C\n",
    "ABC"
   ]
  },
  {
   "cell_type": "code",
   "execution_count": 13,
   "metadata": {},
   "outputs": [
    {
     "data": {
      "text/html": [
       "<div>\n",
       "<style scoped>\n",
       "    .dataframe tbody tr th:only-of-type {\n",
       "        vertical-align: middle;\n",
       "    }\n",
       "\n",
       "    .dataframe tbody tr th {\n",
       "        vertical-align: top;\n",
       "    }\n",
       "\n",
       "    .dataframe thead th {\n",
       "        text-align: right;\n",
       "    }\n",
       "</style>\n",
       "<table border=\"1\" class=\"dataframe\">\n",
       "  <thead>\n",
       "    <tr style=\"text-align: right;\">\n",
       "      <th></th>\n",
       "      <th>GeoName</th>\n",
       "      <th>2017</th>\n",
       "      <th>2018</th>\n",
       "      <th>2019</th>\n",
       "    </tr>\n",
       "  </thead>\n",
       "  <tbody>\n",
       "    <tr>\n",
       "      <th>10</th>\n",
       "      <td>Alabama</td>\n",
       "      <td>215085.9</td>\n",
       "      <td>224046.9</td>\n",
       "      <td>231171.8</td>\n",
       "    </tr>\n",
       "    <tr>\n",
       "      <th>18</th>\n",
       "      <td>Alaska</td>\n",
       "      <td>53089.3</td>\n",
       "      <td>54711.7</td>\n",
       "      <td>54547.1</td>\n",
       "    </tr>\n",
       "    <tr>\n",
       "      <th>26</th>\n",
       "      <td>Arizona</td>\n",
       "      <td>330416.1</td>\n",
       "      <td>349907.5</td>\n",
       "      <td>369988.2</td>\n",
       "    </tr>\n",
       "    <tr>\n",
       "      <th>34</th>\n",
       "      <td>Arkansas</td>\n",
       "      <td>122350.2</td>\n",
       "      <td>127306.5</td>\n",
       "      <td>130839.9</td>\n",
       "    </tr>\n",
       "    <tr>\n",
       "      <th>42</th>\n",
       "      <td>California</td>\n",
       "      <td>2730973.9</td>\n",
       "      <td>2895101.0</td>\n",
       "      <td>3052645.2</td>\n",
       "    </tr>\n",
       "    <tr>\n",
       "      <th>50</th>\n",
       "      <td>Colorado</td>\n",
       "      <td>348898.1</td>\n",
       "      <td>371424.6</td>\n",
       "      <td>392218.0</td>\n",
       "    </tr>\n",
       "    <tr>\n",
       "      <th>58</th>\n",
       "      <td>Connecticut</td>\n",
       "      <td>271582.6</td>\n",
       "      <td>280692.0</td>\n",
       "      <td>288109.1</td>\n",
       "    </tr>\n",
       "    <tr>\n",
       "      <th>66</th>\n",
       "      <td>Delaware</td>\n",
       "      <td>68763.8</td>\n",
       "      <td>72488.0</td>\n",
       "      <td>77042.2</td>\n",
       "    </tr>\n",
       "    <tr>\n",
       "      <th>74</th>\n",
       "      <td>District of Columbia</td>\n",
       "      <td>133391.2</td>\n",
       "      <td>139784.8</td>\n",
       "      <td>144405.7</td>\n",
       "    </tr>\n",
       "    <tr>\n",
       "      <th>82</th>\n",
       "      <td>Florida</td>\n",
       "      <td>1002568.1</td>\n",
       "      <td>1057862.3</td>\n",
       "      <td>1116435.4</td>\n",
       "    </tr>\n",
       "    <tr>\n",
       "      <th>90</th>\n",
       "      <td>Georgia</td>\n",
       "      <td>574404.4</td>\n",
       "      <td>602340.1</td>\n",
       "      <td>637798.7</td>\n",
       "    </tr>\n",
       "    <tr>\n",
       "      <th>98</th>\n",
       "      <td>Hawaii</td>\n",
       "      <td>87177.8</td>\n",
       "      <td>90276.4</td>\n",
       "      <td>91781.1</td>\n",
       "    </tr>\n",
       "    <tr>\n",
       "      <th>106</th>\n",
       "      <td>Idaho</td>\n",
       "      <td>71688.4</td>\n",
       "      <td>77493.9</td>\n",
       "      <td>82420.1</td>\n",
       "    </tr>\n",
       "    <tr>\n",
       "      <th>114</th>\n",
       "      <td>Illinois</td>\n",
       "      <td>827075.2</td>\n",
       "      <td>867535.5</td>\n",
       "      <td>890486.1</td>\n",
       "    </tr>\n",
       "    <tr>\n",
       "      <th>122</th>\n",
       "      <td>Indiana</td>\n",
       "      <td>353150.3</td>\n",
       "      <td>373518.4</td>\n",
       "      <td>381020.3</td>\n",
       "    </tr>\n",
       "    <tr>\n",
       "      <th>130</th>\n",
       "      <td>Iowa</td>\n",
       "      <td>183549.8</td>\n",
       "      <td>190403.1</td>\n",
       "      <td>194322.6</td>\n",
       "    </tr>\n",
       "    <tr>\n",
       "      <th>138</th>\n",
       "      <td>Kansas</td>\n",
       "      <td>164923.3</td>\n",
       "      <td>172327.5</td>\n",
       "      <td>176738.5</td>\n",
       "    </tr>\n",
       "    <tr>\n",
       "      <th>146</th>\n",
       "      <td>Kentucky</td>\n",
       "      <td>201555.0</td>\n",
       "      <td>208250.3</td>\n",
       "      <td>216101.5</td>\n",
       "    </tr>\n",
       "    <tr>\n",
       "      <th>154</th>\n",
       "      <td>Louisiana</td>\n",
       "      <td>241704.2</td>\n",
       "      <td>255810.3</td>\n",
       "      <td>254562.0</td>\n",
       "    </tr>\n",
       "    <tr>\n",
       "      <th>162</th>\n",
       "      <td>Maine</td>\n",
       "      <td>62412.9</td>\n",
       "      <td>65491.9</td>\n",
       "      <td>68452.9</td>\n",
       "    </tr>\n",
       "    <tr>\n",
       "      <th>170</th>\n",
       "      <td>Maryland</td>\n",
       "      <td>400406.0</td>\n",
       "      <td>411099.8</td>\n",
       "      <td>421609.5</td>\n",
       "    </tr>\n",
       "    <tr>\n",
       "      <th>178</th>\n",
       "      <td>Massachusetts</td>\n",
       "      <td>532354.3</td>\n",
       "      <td>564047.3</td>\n",
       "      <td>593256.7</td>\n",
       "    </tr>\n",
       "    <tr>\n",
       "      <th>186</th>\n",
       "      <td>Michigan</td>\n",
       "      <td>501751.6</td>\n",
       "      <td>520802.6</td>\n",
       "      <td>531434.6</td>\n",
       "    </tr>\n",
       "    <tr>\n",
       "      <th>194</th>\n",
       "      <td>Minnesota</td>\n",
       "      <td>354684.2</td>\n",
       "      <td>373419.5</td>\n",
       "      <td>383039.6</td>\n",
       "    </tr>\n",
       "    <tr>\n",
       "      <th>202</th>\n",
       "      <td>Mississippi</td>\n",
       "      <td>109962.5</td>\n",
       "      <td>112406.8</td>\n",
       "      <td>114733.8</td>\n",
       "    </tr>\n",
       "    <tr>\n",
       "      <th>210</th>\n",
       "      <td>Missouri</td>\n",
       "      <td>308722.1</td>\n",
       "      <td>319393.9</td>\n",
       "      <td>332272.9</td>\n",
       "    </tr>\n",
       "    <tr>\n",
       "      <th>218</th>\n",
       "      <td>Montana</td>\n",
       "      <td>48439.5</td>\n",
       "      <td>50903.8</td>\n",
       "      <td>51789.3</td>\n",
       "    </tr>\n",
       "    <tr>\n",
       "      <th>226</th>\n",
       "      <td>Nebraska</td>\n",
       "      <td>121946.3</td>\n",
       "      <td>126922.7</td>\n",
       "      <td>131352.4</td>\n",
       "    </tr>\n",
       "    <tr>\n",
       "      <th>234</th>\n",
       "      <td>Nevada</td>\n",
       "      <td>160785.0</td>\n",
       "      <td>170352.9</td>\n",
       "      <td>181743.3</td>\n",
       "    </tr>\n",
       "    <tr>\n",
       "      <th>242</th>\n",
       "      <td>New Hampshire</td>\n",
       "      <td>80665.9</td>\n",
       "      <td>83844.0</td>\n",
       "      <td>87507.6</td>\n",
       "    </tr>\n",
       "    <tr>\n",
       "      <th>250</th>\n",
       "      <td>New Jersey</td>\n",
       "      <td>586374.6</td>\n",
       "      <td>613508.7</td>\n",
       "      <td>639436.7</td>\n",
       "    </tr>\n",
       "    <tr>\n",
       "      <th>258</th>\n",
       "      <td>New Mexico</td>\n",
       "      <td>92311.1</td>\n",
       "      <td>97269.2</td>\n",
       "      <td>101971.5</td>\n",
       "    </tr>\n",
       "    <tr>\n",
       "      <th>266</th>\n",
       "      <td>New York</td>\n",
       "      <td>1603903.4</td>\n",
       "      <td>1694957.9</td>\n",
       "      <td>1777751.8</td>\n",
       "    </tr>\n",
       "    <tr>\n",
       "      <th>274</th>\n",
       "      <td>North Carolina</td>\n",
       "      <td>549670.6</td>\n",
       "      <td>569981.7</td>\n",
       "      <td>595655.4</td>\n",
       "    </tr>\n",
       "    <tr>\n",
       "      <th>282</th>\n",
       "      <td>North Dakota</td>\n",
       "      <td>55228.0</td>\n",
       "      <td>59092.6</td>\n",
       "      <td>59004.5</td>\n",
       "    </tr>\n",
       "    <tr>\n",
       "      <th>290</th>\n",
       "      <td>Ohio</td>\n",
       "      <td>641745.8</td>\n",
       "      <td>666973.9</td>\n",
       "      <td>693199.3</td>\n",
       "    </tr>\n",
       "    <tr>\n",
       "      <th>298</th>\n",
       "      <td>Oklahoma</td>\n",
       "      <td>190674.5</td>\n",
       "      <td>202466.6</td>\n",
       "      <td>203699.7</td>\n",
       "    </tr>\n",
       "    <tr>\n",
       "      <th>306</th>\n",
       "      <td>Oregon</td>\n",
       "      <td>222613.8</td>\n",
       "      <td>237066.0</td>\n",
       "      <td>246647.1</td>\n",
       "    </tr>\n",
       "    <tr>\n",
       "      <th>314</th>\n",
       "      <td>Pennsylvania</td>\n",
       "      <td>745011.3</td>\n",
       "      <td>772611.4</td>\n",
       "      <td>799686.2</td>\n",
       "    </tr>\n",
       "    <tr>\n",
       "      <th>322</th>\n",
       "      <td>Rhode Island</td>\n",
       "      <td>57940.8</td>\n",
       "      <td>59129.0</td>\n",
       "      <td>61319.1</td>\n",
       "    </tr>\n",
       "    <tr>\n",
       "      <th>330</th>\n",
       "      <td>South Carolina</td>\n",
       "      <td>223044.9</td>\n",
       "      <td>233665.3</td>\n",
       "      <td>244662.3</td>\n",
       "    </tr>\n",
       "    <tr>\n",
       "      <th>338</th>\n",
       "      <td>South Dakota</td>\n",
       "      <td>50299.4</td>\n",
       "      <td>52404.3</td>\n",
       "      <td>53939.9</td>\n",
       "    </tr>\n",
       "    <tr>\n",
       "      <th>346</th>\n",
       "      <td>Tennessee</td>\n",
       "      <td>349837.7</td>\n",
       "      <td>361381.5</td>\n",
       "      <td>376916.5</td>\n",
       "    </tr>\n",
       "    <tr>\n",
       "      <th>354</th>\n",
       "      <td>Texas</td>\n",
       "      <td>1677110.9</td>\n",
       "      <td>1809706.4</td>\n",
       "      <td>1863953.8</td>\n",
       "    </tr>\n",
       "    <tr>\n",
       "      <th>362</th>\n",
       "      <td>Utah</td>\n",
       "      <td>168058.4</td>\n",
       "      <td>182643.6</td>\n",
       "      <td>195088.4</td>\n",
       "    </tr>\n",
       "    <tr>\n",
       "      <th>370</th>\n",
       "      <td>Vermont</td>\n",
       "      <td>32246.9</td>\n",
       "      <td>33032.7</td>\n",
       "      <td>34127.5</td>\n",
       "    </tr>\n",
       "    <tr>\n",
       "      <th>378</th>\n",
       "      <td>Virginia</td>\n",
       "      <td>509892.8</td>\n",
       "      <td>531757.1</td>\n",
       "      <td>554305.8</td>\n",
       "    </tr>\n",
       "    <tr>\n",
       "      <th>386</th>\n",
       "      <td>Washington</td>\n",
       "      <td>519942.9</td>\n",
       "      <td>564480.7</td>\n",
       "      <td>597873.8</td>\n",
       "    </tr>\n",
       "    <tr>\n",
       "      <th>394</th>\n",
       "      <td>West Virginia</td>\n",
       "      <td>74799.5</td>\n",
       "      <td>79044.8</td>\n",
       "      <td>79139.7</td>\n",
       "    </tr>\n",
       "    <tr>\n",
       "      <th>402</th>\n",
       "      <td>Wisconsin</td>\n",
       "      <td>318364.2</td>\n",
       "      <td>332263.5</td>\n",
       "      <td>344724.8</td>\n",
       "    </tr>\n",
       "    <tr>\n",
       "      <th>410</th>\n",
       "      <td>Wyoming</td>\n",
       "      <td>36863.7</td>\n",
       "      <td>39032.3</td>\n",
       "      <td>39600.8</td>\n",
       "    </tr>\n",
       "  </tbody>\n",
       "</table>\n",
       "</div>"
      ],
      "text/plain": [
       "                  GeoName       2017       2018       2019\n",
       "10                Alabama   215085.9   224046.9   231171.8\n",
       "18                 Alaska    53089.3    54711.7    54547.1\n",
       "26                Arizona   330416.1   349907.5   369988.2\n",
       "34               Arkansas   122350.2   127306.5   130839.9\n",
       "42             California  2730973.9  2895101.0  3052645.2\n",
       "50               Colorado   348898.1   371424.6   392218.0\n",
       "58            Connecticut   271582.6   280692.0   288109.1\n",
       "66               Delaware    68763.8    72488.0    77042.2\n",
       "74   District of Columbia   133391.2   139784.8   144405.7\n",
       "82                Florida  1002568.1  1057862.3  1116435.4\n",
       "90                Georgia   574404.4   602340.1   637798.7\n",
       "98                 Hawaii    87177.8    90276.4    91781.1\n",
       "106                 Idaho    71688.4    77493.9    82420.1\n",
       "114              Illinois   827075.2   867535.5   890486.1\n",
       "122               Indiana   353150.3   373518.4   381020.3\n",
       "130                  Iowa   183549.8   190403.1   194322.6\n",
       "138                Kansas   164923.3   172327.5   176738.5\n",
       "146              Kentucky   201555.0   208250.3   216101.5\n",
       "154             Louisiana   241704.2   255810.3   254562.0\n",
       "162                 Maine    62412.9    65491.9    68452.9\n",
       "170              Maryland   400406.0   411099.8   421609.5\n",
       "178         Massachusetts   532354.3   564047.3   593256.7\n",
       "186              Michigan   501751.6   520802.6   531434.6\n",
       "194             Minnesota   354684.2   373419.5   383039.6\n",
       "202           Mississippi   109962.5   112406.8   114733.8\n",
       "210              Missouri   308722.1   319393.9   332272.9\n",
       "218               Montana    48439.5    50903.8    51789.3\n",
       "226              Nebraska   121946.3   126922.7   131352.4\n",
       "234                Nevada   160785.0   170352.9   181743.3\n",
       "242         New Hampshire    80665.9    83844.0    87507.6\n",
       "250            New Jersey   586374.6   613508.7   639436.7\n",
       "258            New Mexico    92311.1    97269.2   101971.5\n",
       "266              New York  1603903.4  1694957.9  1777751.8\n",
       "274        North Carolina   549670.6   569981.7   595655.4\n",
       "282          North Dakota    55228.0    59092.6    59004.5\n",
       "290                  Ohio   641745.8   666973.9   693199.3\n",
       "298              Oklahoma   190674.5   202466.6   203699.7\n",
       "306                Oregon   222613.8   237066.0   246647.1\n",
       "314          Pennsylvania   745011.3   772611.4   799686.2\n",
       "322          Rhode Island    57940.8    59129.0    61319.1\n",
       "330        South Carolina   223044.9   233665.3   244662.3\n",
       "338          South Dakota    50299.4    52404.3    53939.9\n",
       "346             Tennessee   349837.7   361381.5   376916.5\n",
       "354                 Texas  1677110.9  1809706.4  1863953.8\n",
       "362                  Utah   168058.4   182643.6   195088.4\n",
       "370               Vermont    32246.9    33032.7    34127.5\n",
       "378              Virginia   509892.8   531757.1   554305.8\n",
       "386            Washington   519942.9   564480.7   597873.8\n",
       "394         West Virginia    74799.5    79044.8    79139.7\n",
       "402             Wisconsin   318364.2   332263.5   344724.8\n",
       "410               Wyoming    36863.7    39032.3    39600.8"
      ]
     },
     "execution_count": 13,
     "metadata": {},
     "output_type": "execute_result"
    }
   ],
   "source": [
    "clean_GDP_states = GDP_state_DF[~GDP_state_DF['GeoName'].isin(ABC)]\n",
    "clean_GDP_states\n",
    "\n",
    "\n",
    "##long method to clean\n",
    "#clean_GDP_states = GDP_state_DF[(GDP_state_DF['GeoName'] != 'Plains' ) & (GDP_state_DF['GeoName'] != 'Southeast' ) & (GDP_state_DF['GeoName'] != 'Rocky Mountain' )& (GDP_state_DF['GeoName'] != 'New England' ) & (GDP_state_DF['GeoName'] != 'Great Lakes' )& (GDP_state_DF['GeoName'] != 'Puerto Rico' )& (GDP_state_DF['GeoName'] != 'Virgin Islands')& (GDP_state_DF['GeoName'] != 'Mideast' )& (GDP_state_DF['GeoName'] != 'Far West' ) & (GDP_state_DF['GeoName'] != 'Southwest' )& (GDP_state_DF['GeoName'] != 'National' )]\n",
    "#clean_GDP_states"
   ]
  },
  {
   "cell_type": "code",
   "execution_count": 14,
   "metadata": {},
   "outputs": [
    {
     "data": {
      "text/plain": [
       "{'National'}"
      ]
     },
     "execution_count": 14,
     "metadata": {},
     "output_type": "execute_result"
    }
   ],
   "source": [
    "GDP_states= set(clean_GDP_states['GeoName'])\n",
    "set(GDP_states).symmetric_difference(act_states)"
   ]
  },
  {
   "cell_type": "code",
   "execution_count": 15,
   "metadata": {},
   "outputs": [
    {
     "data": {
      "image/png": "[encoded data removed]",
      "text/plain": [
       "<Figure size 1152x432 with 1 Axes>"
      ]
     },
     "metadata": {
      "needs_background": "light"
     },
     "output_type": "display_data"
    }
   ],
   "source": [
    "plt.figure(figsize=(16,6))\n",
    "plt.bar(GDP_state_DF['GeoName'], GDP_state_DF['2017'], width = 0.8)\n",
    "plt.xticks(rotation='vertical')\n",
    "plt.show()"
   ]
  },
  {
   "cell_type": "code",
   "execution_count": null,
   "metadata": {},
   "outputs": [],
   "source": []
  },
  {
   "cell_type": "code",
   "execution_count": null,
   "metadata": {},
   "outputs": [],
   "source": []
  },
  {
   "cell_type": "markdown",
   "metadata": {},
   "source": [
    "### Data Dictionary\n",
    "\n",
    "Now that we've fixed our data, and given it appropriate names, let's create a [data dictionary](http://library.ucmerced.edu/node/10249). \n",
    "\n",
    "A data dictionary provides a quick overview of features/variables/columns, alongside data types and descriptions. The more descriptive you can be, the more useful this document is.\n",
    "\n",
    "Example of a Fictional Data Dictionary Entry: \n",
    "\n",
    "|Feature|Type|Dataset|Description|\n",
    "|---|---|---|---|\n",
    "|**county_pop**|*integer*|2010 census|The population of the county (units in thousands, where 2.5 represents 2500 people).| \n",
    "|**per_poverty**|*float*|2010 census|The percent of the county over the age of 18 living below the 200% of official US poverty rate (units percent to two decimal places 98.10 means 98.1%)|\n",
    "\n",
    "[Here's a quick link to a short guide for formatting markdown in Jupyter notebooks](https://jupyter-notebook.readthedocs.io/en/stable/examples/Notebook/Working%20With%20Markdown%20Cells.html).\n",
    "\n",
    "Provided is the skeleton for formatting a markdown table, with columns headers that will help you create a data dictionary to quickly summarize your data, as well as some examples. **This would be a great thing to copy and paste into your custom README for this project.**\n",
    "\n",
    "*Note*: if you are unsure of what a feature is, check the source of the data! This can be found in the README."
   ]
  },
  {
   "cell_type": "markdown",
   "metadata": {},
   "source": [
    "**To-Do:** *Edit the table below to create your own data dictionary for the datasets you chose.*\n",
    "\n",
    "|Feature|Type|Dataset|Description|\n",
    "|---|---|---|---|\n",
    "|column name|int/float/object|ACT/SAT|This is an example| \n"
   ]
  },
  {
   "cell_type": "markdown",
   "metadata": {},
   "source": [
    "## Exploratory Data Analysis\n",
    "\n",
    "Complete the following steps to explore your data. You are welcome to do more EDA than the steps outlined here as you feel necessary:\n",
    "1. Summary Statistics.\n",
    "2. Use a **dictionary comprehension** to apply the standard deviation function you create in part 1 to each numeric column in the dataframe.  **No loops**.\n",
    "    - Assign the output to variable `sd` as a dictionary where: \n",
    "        - Each column name is now a key \n",
    "        - That standard deviation of the column is the value \n",
    "        - *Example Output :* `{'ACT_Math': 120, 'ACT_Reading': 120, ...}`\n",
    "3. Investigate trends in the data.\n",
    "    - Using sorting and/or masking (along with the `.head()` method to avoid printing our entire dataframe), consider questions relevant to your problem statement. Some examples are provided below (but feel free to change these questions for your specific problem):\n",
    "        - Which states have the highest and lowest participation rates for the 2017, 2019, or 2019 SAT and ACT?\n",
    "        - Which states have the highest and lowest mean total/composite scores for the 2017, 2019, or 2019 SAT and ACT?\n",
    "        - Do any states with 100% participation on a given test have a rate change year-to-year?\n",
    "        - Do any states show have >50% participation on *both* tests each year?\n",
    "        - Which colleges have the highest median SAT and ACT scores for admittance?\n",
    "        - Which California school districts have the highest and lowest mean test scores?\n",
    "    - **You should comment on your findings at each step in a markdown cell below your code block**. Make sure you include at least one example of sorting your dataframe by a column, and one example of using boolean filtering (i.e., masking) to select a subset of the dataframe."
   ]
  },
  {
   "cell_type": "code",
   "execution_count": null,
   "metadata": {},
   "outputs": [],
   "source": [
    "#Code:"
   ]
  },
  {
   "cell_type": "markdown",
   "metadata": {},
   "source": [
    "**To-Do:** *Edit this cell with your findings on trends in the data (step 3 above).*"
   ]
  },
  {
   "cell_type": "markdown",
   "metadata": {},
   "source": [
    "## Visualize the Data\n",
    "\n",
    "There's not a magic bullet recommendation for the right number of plots to understand a given dataset, but visualizing your data is *always* a good idea. Not only does it allow you to quickly convey your findings (even if you have a non-technical audience), it will often reveal trends in your data that escaped you when you were looking only at numbers. It is important to not only create visualizations, but to **interpret your visualizations** as well.\n",
    "\n",
    "**Every plot should**:\n",
    "- Have a title\n",
    "- Have axis labels\n",
    "- Have appropriate tick labels\n",
    "- Text is legible in a plot\n",
    "- Plots demonstrate meaningful and valid relationships\n",
    "- Have an interpretation to aid understanding\n",
    "\n",
    "Here is an example of what your plots should look like following the above guidelines. Note that while the content of this example is unrelated, the principles of visualization hold:\n",
    "\n",
    "![](https://snag.gy/hCBR1U.jpg)\n",
    "*Interpretation: The above image shows that as we increase our spending on advertising, our sales numbers also tend to increase. There is a positive correlation between advertising spending and sales.*\n",
    "\n",
    "---\n",
    "\n",
    "Here are some prompts to get you started with visualizations. Feel free to add additional visualizations as you see fit:\n",
    "1. Use Seaborn's heatmap with pandas `.corr()` to visualize correlations between all numeric features.\n",
    "    - Heatmaps are generally not appropriate for presentations, and should often be excluded from reports as they can be visually overwhelming. **However**, they can be extremely useful in identify relationships of potential interest (as well as identifying potential collinearity before modeling).\n",
    "    - Please take time to format your output, adding a title. Look through some of the additional arguments and options. (Axis labels aren't really necessary, as long as the title is informative).\n",
    "2. Visualize distributions using histograms. If you have a lot, consider writing a custom function and use subplots.\n",
    "    - *OPTIONAL*: Summarize the underlying distributions of your features (in words & statistics)\n",
    "         - Be thorough in your verbal description of these distributions.\n",
    "         - Be sure to back up these summaries with statistics.\n",
    "         - We generally assume that data we sample from a population will be normally distributed. Do we observe this trend? Explain your answers for each distribution and how you think this will affect estimates made from these data.\n",
    "3. Plot and interpret boxplots. \n",
    "    - Boxplots demonstrate central tendency and spread in variables. In a certain sense, these are somewhat redundant with histograms, but you may be better able to identify clear outliers or differences in IQR, etc.\n",
    "    - Multiple values can be plotted to a single boxplot as long as they are of the same relative scale (meaning they have similar min/max values).\n",
    "    - Each boxplot should:\n",
    "        - Only include variables of a similar scale\n",
    "        - Have clear labels for each variable\n",
    "        - Have appropriate titles and labels\n",
    "4. Plot and interpret scatter plots to view relationships between features. Feel free to write a custom function, and subplot if you'd like. Functions save both time and space.\n",
    "    - Your plots should have:\n",
    "        - Two clearly labeled axes\n",
    "        - A proper title\n",
    "        - Colors and symbols that are clear and unmistakable\n",
    "5. Additional plots of your choosing.\n",
    "    - Are there any additional trends or relationships you haven't explored? Was there something interesting you saw that you'd like to dive further into? It's likely that there are a few more plots you might want to generate to support your narrative and recommendations that you are building toward. **As always, make sure you're interpreting your plots as you go**."
   ]
  },
  {
   "cell_type": "code",
   "execution_count": null,
   "metadata": {},
   "outputs": [],
   "source": [
    "# Code"
   ]
  },
  {
   "cell_type": "markdown",
   "metadata": {},
   "source": [
    "## Conclusions and Recommendations"
   ]
  },
  {
   "cell_type": "markdown",
   "metadata": {},
   "source": [
    "Based on your exploration of the data, what are you key takeaways and recommendations? Make sure to answer your question of interest or address your problem statement here."
   ]
  },
  {
   "cell_type": "markdown",
   "metadata": {},
   "source": [
    "**To-Do:** *Edit this cell with your conclusions and recommendations.*"
   ]
  },
  {
   "cell_type": "markdown",
   "metadata": {},
   "source": [
    "Don't forget to create your README!\n",
    "\n",
    "**To-Do:** *If you combine your problem statement, data dictionary, brief summary of your analysis, and conclusions/recommendations, you have an amazing README.md file that quickly aligns your audience to the contents of your project.* Don't forget to cite your data sources!"
   ]
  }
 ],
 "metadata": {
  "anaconda-cloud": {},
  "kernelspec": {
   "display_name": "Python 3 (ipykernel)",
   "language": "python",
   "name": "python3"
  },
  "language_info": {
   "codemirror_mode": {
    "name": "ipython",
    "version": 3
   },
   "file_extension": ".py",
   "mimetype": "text/x-python",
   "name": "python",
   "nbconvert_exporter": "python",
   "pygments_lexer": "ipython3",
   "version": "3.9.7"
  },
  "varInspector": {
   "cols": {
    "lenName": 16,
    "lenType": 16,
    "lenVar": 40
   },
   "kernels_config": {
    "python": {
     "delete_cmd_postfix": "",
     "delete_cmd_prefix": "del ",
     "library": "var_list.py",
     "varRefreshCmd": "print(var_dic_list())"
    },
    "r": {
     "delete_cmd_postfix": ") ",
     "delete_cmd_prefix": "rm(",
     "library": "var_list.r",
     "varRefreshCmd": "cat(var_dic_list()) "
    }
   },
   "types_to_exclude": [
    "module",
    "function",
    "builtin_function_or_method",
    "instance",
    "_Feature"
   ],
   "window_display": false
  }
 },
 "nbformat": 4,
 "nbformat_minor": 4
}
