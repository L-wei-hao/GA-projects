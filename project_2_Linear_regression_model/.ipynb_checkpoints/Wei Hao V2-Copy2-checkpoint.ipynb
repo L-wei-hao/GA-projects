{
 "cells": [
  {
   "cell_type": "markdown",
   "id": "992f4cb3",
   "metadata": {},
   "source": [
    "<!-- # Ames Housing Project -->\n",
    "\n",
    "Goal of this project is to predict the house prices based on the well known Ames housing data by creating a regression model."
   ]
  },
  {
   "cell_type": "code",
   "execution_count": 87,
   "id": "89c5fb2b",
   "metadata": {
    "ExecuteTime": {
     "end_time": "2022-07-12T11:16:33.429856Z",
     "start_time": "2022-07-12T11:16:33.414895Z"
    },
    "run_control": {
     "marked": false
    }
   },
   "outputs": [],
   "source": [
    "import pandas as pd\n",
    "import numpy as np\n",
    "import matplotlib.pyplot as plt\n",
    "import seaborn as sns\n",
    "import statistics\n",
    "from scipy.stats import norm\n",
    "from scipy import stats\n",
    "from sklearn.preprocessing import MinMaxScaler\n",
    "from sklearn.model_selection import train_test_split\n",
    "from sklearn.linear_model import LinearRegression\n",
    "from sklearn.metrics import mean_squared_error\n",
    "from sklearn import metrics\n",
    "from statsmodels.stats.outliers_influence import variance_inflation_factor\n",
    "\n",
    "# # Activate this code if you wan to see all columns/rows\n",
    "# pd.set_option('display.max_columns', None)\n",
    "# pd.set_option('display.max_rows',None)  #setting max row so that panadas will show all rows."
   ]
  },
  {
   "cell_type": "markdown",
   "id": "d719aa82",
   "metadata": {},
   "source": [
    "# 1.0 Understanding the data"
   ]
  },
  {
   "cell_type": "code",
   "execution_count": 88,
   "id": "d3c145ba",
   "metadata": {
    "ExecuteTime": {
     "end_time": "2022-07-12T11:16:33.489721Z",
     "start_time": "2022-07-12T11:16:33.431851Z"
    }
   },
   "outputs": [],
   "source": [
    "df = pd.read_csv('datasets/train.csv')\n",
    "test_file = pd.read_csv('datasets/test.csv')"
   ]
  },
  {
   "cell_type": "code",
   "execution_count": 89,
   "id": "ab215699",
   "metadata": {
    "ExecuteTime": {
     "end_time": "2022-07-12T11:16:33.521611Z",
     "start_time": "2022-07-12T11:16:33.491692Z"
    }
   },
   "outputs": [
    {
     "data": {
      "text/html": [
       "<div>\n",
       "<style scoped>\n",
       "    .dataframe tbody tr th:only-of-type {\n",
       "        vertical-align: middle;\n",
       "    }\n",
       "\n",
       "    .dataframe tbody tr th {\n",
       "        vertical-align: top;\n",
       "    }\n",
       "\n",
       "    .dataframe thead th {\n",
       "        text-align: right;\n",
       "    }\n",
       "</style>\n",
       "<table border=\"1\" class=\"dataframe\">\n",
       "  <thead>\n",
       "    <tr style=\"text-align: right;\">\n",
       "      <th></th>\n",
       "      <th>Id</th>\n",
       "      <th>PID</th>\n",
       "      <th>MS SubClass</th>\n",
       "      <th>MS Zoning</th>\n",
       "      <th>Lot Frontage</th>\n",
       "      <th>Lot Area</th>\n",
       "      <th>Street</th>\n",
       "      <th>Alley</th>\n",
       "      <th>Lot Shape</th>\n",
       "      <th>Land Contour</th>\n",
       "      <th>...</th>\n",
       "      <th>Screen Porch</th>\n",
       "      <th>Pool Area</th>\n",
       "      <th>Pool QC</th>\n",
       "      <th>Fence</th>\n",
       "      <th>Misc Feature</th>\n",
       "      <th>Misc Val</th>\n",
       "      <th>Mo Sold</th>\n",
       "      <th>Yr Sold</th>\n",
       "      <th>Sale Type</th>\n",
       "      <th>SalePrice</th>\n",
       "    </tr>\n",
       "  </thead>\n",
       "  <tbody>\n",
       "    <tr>\n",
       "      <th>0</th>\n",
       "      <td>109</td>\n",
       "      <td>533352170</td>\n",
       "      <td>60</td>\n",
       "      <td>RL</td>\n",
       "      <td>NaN</td>\n",
       "      <td>13517</td>\n",
       "      <td>Pave</td>\n",
       "      <td>NaN</td>\n",
       "      <td>IR1</td>\n",
       "      <td>Lvl</td>\n",
       "      <td>...</td>\n",
       "      <td>0</td>\n",
       "      <td>0</td>\n",
       "      <td>NaN</td>\n",
       "      <td>NaN</td>\n",
       "      <td>NaN</td>\n",
       "      <td>0</td>\n",
       "      <td>3</td>\n",
       "      <td>2010</td>\n",
       "      <td>WD</td>\n",
       "      <td>130500</td>\n",
       "    </tr>\n",
       "    <tr>\n",
       "      <th>1</th>\n",
       "      <td>544</td>\n",
       "      <td>531379050</td>\n",
       "      <td>60</td>\n",
       "      <td>RL</td>\n",
       "      <td>43.0</td>\n",
       "      <td>11492</td>\n",
       "      <td>Pave</td>\n",
       "      <td>NaN</td>\n",
       "      <td>IR1</td>\n",
       "      <td>Lvl</td>\n",
       "      <td>...</td>\n",
       "      <td>0</td>\n",
       "      <td>0</td>\n",
       "      <td>NaN</td>\n",
       "      <td>NaN</td>\n",
       "      <td>NaN</td>\n",
       "      <td>0</td>\n",
       "      <td>4</td>\n",
       "      <td>2009</td>\n",
       "      <td>WD</td>\n",
       "      <td>220000</td>\n",
       "    </tr>\n",
       "    <tr>\n",
       "      <th>2</th>\n",
       "      <td>153</td>\n",
       "      <td>535304180</td>\n",
       "      <td>20</td>\n",
       "      <td>RL</td>\n",
       "      <td>68.0</td>\n",
       "      <td>7922</td>\n",
       "      <td>Pave</td>\n",
       "      <td>NaN</td>\n",
       "      <td>Reg</td>\n",
       "      <td>Lvl</td>\n",
       "      <td>...</td>\n",
       "      <td>0</td>\n",
       "      <td>0</td>\n",
       "      <td>NaN</td>\n",
       "      <td>NaN</td>\n",
       "      <td>NaN</td>\n",
       "      <td>0</td>\n",
       "      <td>1</td>\n",
       "      <td>2010</td>\n",
       "      <td>WD</td>\n",
       "      <td>109000</td>\n",
       "    </tr>\n",
       "    <tr>\n",
       "      <th>3</th>\n",
       "      <td>318</td>\n",
       "      <td>916386060</td>\n",
       "      <td>60</td>\n",
       "      <td>RL</td>\n",
       "      <td>73.0</td>\n",
       "      <td>9802</td>\n",
       "      <td>Pave</td>\n",
       "      <td>NaN</td>\n",
       "      <td>Reg</td>\n",
       "      <td>Lvl</td>\n",
       "      <td>...</td>\n",
       "      <td>0</td>\n",
       "      <td>0</td>\n",
       "      <td>NaN</td>\n",
       "      <td>NaN</td>\n",
       "      <td>NaN</td>\n",
       "      <td>0</td>\n",
       "      <td>4</td>\n",
       "      <td>2010</td>\n",
       "      <td>WD</td>\n",
       "      <td>174000</td>\n",
       "    </tr>\n",
       "    <tr>\n",
       "      <th>4</th>\n",
       "      <td>255</td>\n",
       "      <td>906425045</td>\n",
       "      <td>50</td>\n",
       "      <td>RL</td>\n",
       "      <td>82.0</td>\n",
       "      <td>14235</td>\n",
       "      <td>Pave</td>\n",
       "      <td>NaN</td>\n",
       "      <td>IR1</td>\n",
       "      <td>Lvl</td>\n",
       "      <td>...</td>\n",
       "      <td>0</td>\n",
       "      <td>0</td>\n",
       "      <td>NaN</td>\n",
       "      <td>NaN</td>\n",
       "      <td>NaN</td>\n",
       "      <td>0</td>\n",
       "      <td>3</td>\n",
       "      <td>2010</td>\n",
       "      <td>WD</td>\n",
       "      <td>138500</td>\n",
       "    </tr>\n",
       "  </tbody>\n",
       "</table>\n",
       "<p>5 rows × 81 columns</p>\n",
       "</div>"
      ],
      "text/plain": [
       "    Id        PID  MS SubClass MS Zoning  Lot Frontage  Lot Area Street Alley  \\\n",
       "0  109  533352170           60        RL           NaN     13517   Pave   NaN   \n",
       "1  544  531379050           60        RL          43.0     11492   Pave   NaN   \n",
       "2  153  535304180           20        RL          68.0      7922   Pave   NaN   \n",
       "3  318  916386060           60        RL          73.0      9802   Pave   NaN   \n",
       "4  255  906425045           50        RL          82.0     14235   Pave   NaN   \n",
       "\n",
       "  Lot Shape Land Contour  ... Screen Porch Pool Area Pool QC Fence  \\\n",
       "0       IR1          Lvl  ...            0         0     NaN   NaN   \n",
       "1       IR1          Lvl  ...            0         0     NaN   NaN   \n",
       "2       Reg          Lvl  ...            0         0     NaN   NaN   \n",
       "3       Reg          Lvl  ...            0         0     NaN   NaN   \n",
       "4       IR1          Lvl  ...            0         0     NaN   NaN   \n",
       "\n",
       "  Misc Feature Misc Val Mo Sold Yr Sold  Sale Type  SalePrice  \n",
       "0          NaN        0       3    2010        WD      130500  \n",
       "1          NaN        0       4    2009        WD      220000  \n",
       "2          NaN        0       1    2010        WD      109000  \n",
       "3          NaN        0       4    2010        WD      174000  \n",
       "4          NaN        0       3    2010        WD      138500  \n",
       "\n",
       "[5 rows x 81 columns]"
      ]
     },
     "execution_count": 89,
     "metadata": {},
     "output_type": "execute_result"
    }
   ],
   "source": [
    "df.head()"
   ]
  },
  {
   "cell_type": "code",
   "execution_count": 90,
   "id": "79817cf5",
   "metadata": {
    "ExecuteTime": {
     "end_time": "2022-07-12T11:16:33.536571Z",
     "start_time": "2022-07-12T11:16:33.523605Z"
    },
    "scrolled": false
   },
   "outputs": [
    {
     "data": {
      "text/plain": [
       "(2051, 81)"
      ]
     },
     "execution_count": 90,
     "metadata": {},
     "output_type": "execute_result"
    }
   ],
   "source": [
    "df.shape"
   ]
  },
  {
   "cell_type": "code",
   "execution_count": 91,
   "id": "705cf568",
   "metadata": {
    "ExecuteTime": {
     "end_time": "2022-07-12T11:16:33.567509Z",
     "start_time": "2022-07-12T11:16:33.540560Z"
    },
    "scrolled": true
   },
   "outputs": [
    {
     "data": {
      "text/plain": [
       "Index(['Id', 'PID', 'MS SubClass', 'MS Zoning', 'Lot Frontage', 'Lot Area',\n",
       "       'Street', 'Alley', 'Lot Shape', 'Land Contour', 'Utilities',\n",
       "       'Lot Config', 'Land Slope', 'Neighborhood', 'Condition 1',\n",
       "       'Condition 2', 'Bldg Type', 'House Style', 'Overall Qual',\n",
       "       'Overall Cond', 'Year Built', 'Year Remod/Add', 'Roof Style',\n",
       "       'Roof Matl', 'Exterior 1st', 'Exterior 2nd', 'Mas Vnr Type',\n",
       "       'Mas Vnr Area', 'Exter Qual', 'Exter Cond', 'Foundation', 'Bsmt Qual',\n",
       "       'Bsmt Cond', 'Bsmt Exposure', 'BsmtFin Type 1', 'BsmtFin SF 1',\n",
       "       'BsmtFin Type 2', 'BsmtFin SF 2', 'Bsmt Unf SF', 'Total Bsmt SF',\n",
       "       'Heating', 'Heating QC', 'Central Air', 'Electrical', '1st Flr SF',\n",
       "       '2nd Flr SF', 'Low Qual Fin SF', 'Gr Liv Area', 'Bsmt Full Bath',\n",
       "       'Bsmt Half Bath', 'Full Bath', 'Half Bath', 'Bedroom AbvGr',\n",
       "       'Kitchen AbvGr', 'Kitchen Qual', 'TotRms AbvGrd', 'Functional',\n",
       "       'Fireplaces', 'Fireplace Qu', 'Garage Type', 'Garage Yr Blt',\n",
       "       'Garage Finish', 'Garage Cars', 'Garage Area', 'Garage Qual',\n",
       "       'Garage Cond', 'Paved Drive', 'Wood Deck SF', 'Open Porch SF',\n",
       "       'Enclosed Porch', '3Ssn Porch', 'Screen Porch', 'Pool Area', 'Pool QC',\n",
       "       'Fence', 'Misc Feature', 'Misc Val', 'Mo Sold', 'Yr Sold', 'Sale Type',\n",
       "       'SalePrice'],\n",
       "      dtype='object')"
      ]
     },
     "execution_count": 91,
     "metadata": {},
     "output_type": "execute_result"
    }
   ],
   "source": [
    "df.columns"
   ]
  },
  {
   "cell_type": "markdown",
   "id": "e6fb21f8",
   "metadata": {},
   "source": [
    "There is a total of 2051 rows of data, and 81 columns of features."
   ]
  },
  {
   "cell_type": "code",
   "execution_count": 92,
   "id": "3e613e43",
   "metadata": {
    "ExecuteTime": {
     "end_time": "2022-07-12T11:16:33.614360Z",
     "start_time": "2022-07-12T11:16:33.568483Z"
    },
    "scrolled": true
   },
   "outputs": [
    {
     "name": "stdout",
     "output_type": "stream",
     "text": [
      "<class 'pandas.core.frame.DataFrame'>\n",
      "RangeIndex: 2051 entries, 0 to 2050\n",
      "Data columns (total 81 columns):\n",
      " #   Column           Non-Null Count  Dtype  \n",
      "---  ------           --------------  -----  \n",
      " 0   Id               2051 non-null   int64  \n",
      " 1   PID              2051 non-null   int64  \n",
      " 2   MS SubClass      2051 non-null   int64  \n",
      " 3   MS Zoning        2051 non-null   object \n",
      " 4   Lot Frontage     1721 non-null   float64\n",
      " 5   Lot Area         2051 non-null   int64  \n",
      " 6   Street           2051 non-null   object \n",
      " 7   Alley            140 non-null    object \n",
      " 8   Lot Shape        2051 non-null   object \n",
      " 9   Land Contour     2051 non-null   object \n",
      " 10  Utilities        2051 non-null   object \n",
      " 11  Lot Config       2051 non-null   object \n",
      " 12  Land Slope       2051 non-null   object \n",
      " 13  Neighborhood     2051 non-null   object \n",
      " 14  Condition 1      2051 non-null   object \n",
      " 15  Condition 2      2051 non-null   object \n",
      " 16  Bldg Type        2051 non-null   object \n",
      " 17  House Style      2051 non-null   object \n",
      " 18  Overall Qual     2051 non-null   int64  \n",
      " 19  Overall Cond     2051 non-null   int64  \n",
      " 20  Year Built       2051 non-null   int64  \n",
      " 21  Year Remod/Add   2051 non-null   int64  \n",
      " 22  Roof Style       2051 non-null   object \n",
      " 23  Roof Matl        2051 non-null   object \n",
      " 24  Exterior 1st     2051 non-null   object \n",
      " 25  Exterior 2nd     2051 non-null   object \n",
      " 26  Mas Vnr Type     2029 non-null   object \n",
      " 27  Mas Vnr Area     2029 non-null   float64\n",
      " 28  Exter Qual       2051 non-null   object \n",
      " 29  Exter Cond       2051 non-null   object \n",
      " 30  Foundation       2051 non-null   object \n",
      " 31  Bsmt Qual        1996 non-null   object \n",
      " 32  Bsmt Cond        1996 non-null   object \n",
      " 33  Bsmt Exposure    1993 non-null   object \n",
      " 34  BsmtFin Type 1   1996 non-null   object \n",
      " 35  BsmtFin SF 1     2050 non-null   float64\n",
      " 36  BsmtFin Type 2   1995 non-null   object \n",
      " 37  BsmtFin SF 2     2050 non-null   float64\n",
      " 38  Bsmt Unf SF      2050 non-null   float64\n",
      " 39  Total Bsmt SF    2050 non-null   float64\n",
      " 40  Heating          2051 non-null   object \n",
      " 41  Heating QC       2051 non-null   object \n",
      " 42  Central Air      2051 non-null   object \n",
      " 43  Electrical       2051 non-null   object \n",
      " 44  1st Flr SF       2051 non-null   int64  \n",
      " 45  2nd Flr SF       2051 non-null   int64  \n",
      " 46  Low Qual Fin SF  2051 non-null   int64  \n",
      " 47  Gr Liv Area      2051 non-null   int64  \n",
      " 48  Bsmt Full Bath   2049 non-null   float64\n",
      " 49  Bsmt Half Bath   2049 non-null   float64\n",
      " 50  Full Bath        2051 non-null   int64  \n",
      " 51  Half Bath        2051 non-null   int64  \n",
      " 52  Bedroom AbvGr    2051 non-null   int64  \n",
      " 53  Kitchen AbvGr    2051 non-null   int64  \n",
      " 54  Kitchen Qual     2051 non-null   object \n",
      " 55  TotRms AbvGrd    2051 non-null   int64  \n",
      " 56  Functional       2051 non-null   object \n",
      " 57  Fireplaces       2051 non-null   int64  \n",
      " 58  Fireplace Qu     1051 non-null   object \n",
      " 59  Garage Type      1938 non-null   object \n",
      " 60  Garage Yr Blt    1937 non-null   float64\n",
      " 61  Garage Finish    1937 non-null   object \n",
      " 62  Garage Cars      2050 non-null   float64\n",
      " 63  Garage Area      2050 non-null   float64\n",
      " 64  Garage Qual      1937 non-null   object \n",
      " 65  Garage Cond      1937 non-null   object \n",
      " 66  Paved Drive      2051 non-null   object \n",
      " 67  Wood Deck SF     2051 non-null   int64  \n",
      " 68  Open Porch SF    2051 non-null   int64  \n",
      " 69  Enclosed Porch   2051 non-null   int64  \n",
      " 70  3Ssn Porch       2051 non-null   int64  \n",
      " 71  Screen Porch     2051 non-null   int64  \n",
      " 72  Pool Area        2051 non-null   int64  \n",
      " 73  Pool QC          9 non-null      object \n",
      " 74  Fence            400 non-null    object \n",
      " 75  Misc Feature     65 non-null     object \n",
      " 76  Misc Val         2051 non-null   int64  \n",
      " 77  Mo Sold          2051 non-null   int64  \n",
      " 78  Yr Sold          2051 non-null   int64  \n",
      " 79  Sale Type        2051 non-null   object \n",
      " 80  SalePrice        2051 non-null   int64  \n",
      "dtypes: float64(11), int64(28), object(42)\n",
      "memory usage: 1.3+ MB\n"
     ]
    }
   ],
   "source": [
    "df.info()"
   ]
  },
  {
   "cell_type": "markdown",
   "id": "1857f1d7",
   "metadata": {},
   "source": [
    "Based on the above info we now know that there are 39 numerical value features and 42 categorical features"
   ]
  },
  {
   "cell_type": "code",
   "execution_count": 93,
   "id": "65e84212",
   "metadata": {
    "ExecuteTime": {
     "end_time": "2022-07-12T11:16:33.645278Z",
     "start_time": "2022-07-12T11:16:33.616355Z"
    },
    "scrolled": true
   },
   "outputs": [
    {
     "data": {
      "text/plain": [
       "Id                0\n",
       "PID               0\n",
       "MS SubClass       0\n",
       "MS Zoning         0\n",
       "Lot Frontage    330\n",
       "               ... \n",
       "Misc Val          0\n",
       "Mo Sold           0\n",
       "Yr Sold           0\n",
       "Sale Type         0\n",
       "SalePrice         0\n",
       "Length: 81, dtype: int64"
      ]
     },
     "execution_count": 93,
     "metadata": {},
     "output_type": "execute_result"
    }
   ],
   "source": [
    "df.isnull().sum()"
   ]
  },
  {
   "cell_type": "markdown",
   "id": "23fcd772",
   "metadata": {},
   "source": [
    "Target variable is sale price"
   ]
  },
  {
   "cell_type": "code",
   "execution_count": 94,
   "id": "31422142",
   "metadata": {
    "ExecuteTime": {
     "end_time": "2022-07-12T11:16:33.660240Z",
     "start_time": "2022-07-12T11:16:33.647273Z"
    },
    "scrolled": true
   },
   "outputs": [
    {
     "data": {
      "text/plain": [
       "count      2051.000000\n",
       "mean     181469.701609\n",
       "std       79258.659352\n",
       "min       12789.000000\n",
       "25%      129825.000000\n",
       "50%      162500.000000\n",
       "75%      214000.000000\n",
       "max      611657.000000\n",
       "Name: SalePrice, dtype: float64"
      ]
     },
     "execution_count": 94,
     "metadata": {},
     "output_type": "execute_result"
    }
   ],
   "source": [
    "df.SalePrice.describe()"
   ]
  },
  {
   "cell_type": "code",
   "execution_count": 95,
   "id": "51d4de09",
   "metadata": {
    "ExecuteTime": {
     "end_time": "2022-07-12T11:16:34.000328Z",
     "start_time": "2022-07-12T11:16:33.662233Z"
    },
    "scrolled": false
   },
   "outputs": [
    {
     "name": "stderr",
     "output_type": "stream",
     "text": [
      "C:\\Users\\Home\\anaconda3\\lib\\site-packages\\seaborn\\distributions.py:2619: FutureWarning: `distplot` is a deprecated function and will be removed in a future version. Please adapt your code to use either `displot` (a figure-level function with similar flexibility) or `histplot` (an axes-level function for histograms).\n",
      "  warnings.warn(msg, FutureWarning)\n"
     ]
    },
    {
     "data": {
      "text/plain": [
       "<matplotlib.lines.Line2D at 0x26d2bda7cd0>"
      ]
     },
     "execution_count": 95,
     "metadata": {},
     "output_type": "execute_result"
    },
    {
     "data": {
      "image/png": "[encoded data removed]",
      "text/plain": [
       "<Figure size 432x288 with 1 Axes>"
      ]
     },
     "metadata": {
      "needs_background": "light"
     },
     "output_type": "display_data"
    }
   ],
   "source": [
    "fig = sns.distplot(df['SalePrice'], color='g', bins=100)\n",
    "plt.axvline(df['SalePrice'].mean(), 0, 1)\n",
    "plt.axvline(df['SalePrice'].median(), 0, 1, color='r')"
   ]
  },
  {
   "cell_type": "code",
   "execution_count": 96,
   "id": "9a960a3e",
   "metadata": {
    "ExecuteTime": {
     "end_time": "2022-07-12T11:16:34.182840Z",
     "start_time": "2022-07-12T11:16:34.002324Z"
    },
    "scrolled": true
   },
   "outputs": [
    {
     "data": {
      "image/png": "[encoded data removed]",
      "text/plain": [
       "<Figure size 432x288 with 1 Axes>"
      ]
     },
     "metadata": {
      "needs_background": "light"
     },
     "output_type": "display_data"
    }
   ],
   "source": [
    "fig = plt.figure()\n",
    "res = stats.probplot(df['SalePrice'], plot=plt)\n",
    "plt.show()"
   ]
  },
  {
   "cell_type": "markdown",
   "id": "22fa7ffc",
   "metadata": {
    "ExecuteTime": {
     "end_time": "2022-07-09T01:31:43.395944Z",
     "start_time": "2022-07-09T01:31:43.380970Z"
    }
   },
   "source": [
    "We can see that there is a pronounced curve on the Sales price.\n",
    "The target variable is right skewed. As linear models tends to work better in a normal distribution, we need to transform this variable and make it more normally distributed."
   ]
  },
  {
   "cell_type": "code",
   "execution_count": 97,
   "id": "c523104a",
   "metadata": {
    "ExecuteTime": {
     "end_time": "2022-07-12T11:16:34.198800Z",
     "start_time": "2022-07-12T11:16:34.185838Z"
    }
   },
   "outputs": [],
   "source": [
    "#We use the numpy fuction log1p which  applies log(1+x) to all elements of the column\n",
    "df[\"SalePrice\"] = np.log1p(df[\"SalePrice\"])"
   ]
  },
  {
   "cell_type": "code",
   "execution_count": 98,
   "id": "8f8e1477",
   "metadata": {
    "ExecuteTime": {
     "end_time": "2022-07-12T11:16:34.489049Z",
     "start_time": "2022-07-12T11:16:34.200794Z"
    },
    "scrolled": true
   },
   "outputs": [
    {
     "name": "stderr",
     "output_type": "stream",
     "text": [
      "C:\\Users\\Home\\anaconda3\\lib\\site-packages\\seaborn\\distributions.py:2619: FutureWarning: `distplot` is a deprecated function and will be removed in a future version. Please adapt your code to use either `displot` (a figure-level function with similar flexibility) or `histplot` (an axes-level function for histograms).\n",
      "  warnings.warn(msg, FutureWarning)\n"
     ]
    },
    {
     "data": {
      "text/plain": [
       "<matplotlib.lines.Line2D at 0x26d2bb594f0>"
      ]
     },
     "execution_count": 98,
     "metadata": {},
     "output_type": "execute_result"
    },
    {
     "data": {
      "image/png": "[encoded data removed]",
      "text/plain": [
       "<Figure size 432x288 with 1 Axes>"
      ]
     },
     "metadata": {
      "needs_background": "light"
     },
     "output_type": "display_data"
    }
   ],
   "source": [
    "fig = sns.distplot(df['SalePrice'], color='g', bins=100)\n",
    "plt.axvline(df['SalePrice'].mean(), 0, 1)\n",
    "plt.axvline(df['SalePrice'].median(), 0, 1, color='r')"
   ]
  },
  {
   "cell_type": "markdown",
   "id": "2aa892fe",
   "metadata": {},
   "source": [
    "We can see that SalePrice is right skewed, with a median > mean"
   ]
  },
  {
   "cell_type": "code",
   "execution_count": 99,
   "id": "7abf1d46",
   "metadata": {
    "ExecuteTime": {
     "end_time": "2022-07-12T11:16:34.655576Z",
     "start_time": "2022-07-12T11:16:34.490020Z"
    },
    "scrolled": true
   },
   "outputs": [
    {
     "data": {
      "image/png": "[encoded data removed]",
      "text/plain": [
       "<Figure size 432x288 with 1 Axes>"
      ]
     },
     "metadata": {
      "needs_background": "light"
     },
     "output_type": "display_data"
    }
   ],
   "source": [
    "fig = plt.figure()\n",
    "res = stats.probplot(df['SalePrice'], plot=plt)\n",
    "plt.show()"
   ]
  },
  {
   "cell_type": "code",
   "execution_count": 100,
   "id": "019e65a8",
   "metadata": {
    "ExecuteTime": {
     "end_time": "2022-07-12T11:16:34.670536Z",
     "start_time": "2022-07-12T11:16:34.659566Z"
    },
    "run_control": {
     "marked": true
    }
   },
   "outputs": [],
   "source": [
    "#Dropping the outliers below 11\n",
    "df.drop(df[(df['SalePrice']<11)].index,inplace=True)"
   ]
  },
  {
   "cell_type": "code",
   "execution_count": 101,
   "id": "0a9eb118",
   "metadata": {
    "ExecuteTime": {
     "end_time": "2022-07-12T11:16:34.991709Z",
     "start_time": "2022-07-12T11:16:34.672533Z"
    }
   },
   "outputs": [
    {
     "name": "stderr",
     "output_type": "stream",
     "text": [
      "C:\\Users\\Home\\anaconda3\\lib\\site-packages\\seaborn\\distributions.py:2619: FutureWarning: `distplot` is a deprecated function and will be removed in a future version. Please adapt your code to use either `displot` (a figure-level function with similar flexibility) or `histplot` (an axes-level function for histograms).\n",
      "  warnings.warn(msg, FutureWarning)\n"
     ]
    },
    {
     "data": {
      "text/plain": [
       "<matplotlib.lines.Line2D at 0x26d2b66c7c0>"
      ]
     },
     "execution_count": 101,
     "metadata": {},
     "output_type": "execute_result"
    },
    {
     "data": {
      "image/png": "[encoded data removed]",
      "text/plain": [
       "<Figure size 432x288 with 1 Axes>"
      ]
     },
     "metadata": {
      "needs_background": "light"
     },
     "output_type": "display_data"
    }
   ],
   "source": [
    "fig = sns.distplot(df['SalePrice'], color='g', bins=100)\n",
    "plt.axvline(df['SalePrice'].mean(), 0, 1)\n",
    "plt.axvline(df['SalePrice'].median(), 0, 1, color='r')"
   ]
  },
  {
   "cell_type": "code",
   "execution_count": 102,
   "id": "77e8c4b0",
   "metadata": {
    "ExecuteTime": {
     "end_time": "2022-07-12T11:16:35.145267Z",
     "start_time": "2022-07-12T11:16:34.993673Z"
    },
    "scrolled": true
   },
   "outputs": [
    {
     "data": {
      "image/png": "[encoded data removed]",
      "text/plain": [
       "<Figure size 432x288 with 1 Axes>"
      ]
     },
     "metadata": {
      "needs_background": "light"
     },
     "output_type": "display_data"
    }
   ],
   "source": [
    "fig = plt.figure()\n",
    "res = stats.probplot(df['SalePrice'], plot=plt)\n",
    "plt.show()"
   ]
  },
  {
   "cell_type": "code",
   "execution_count": 103,
   "id": "3f10e1a1",
   "metadata": {
    "ExecuteTime": {
     "end_time": "2022-07-12T11:16:35.161224Z",
     "start_time": "2022-07-12T11:16:35.148260Z"
    }
   },
   "outputs": [
    {
     "data": {
      "text/plain": [
       "(2032, 81)"
      ]
     },
     "execution_count": 103,
     "metadata": {},
     "output_type": "execute_result"
    }
   ],
   "source": [
    "df.shape"
   ]
  },
  {
   "cell_type": "markdown",
   "id": "9e98a5d8",
   "metadata": {
    "ExecuteTime": {
     "end_time": "2022-07-11T13:03:43.491140Z",
     "start_time": "2022-07-11T13:03:43.476208Z"
    }
   },
   "source": [
    "From the data dictionary, \n",
    "We noted that there are 3 data that \"MSSubClass\" should be categorical.  "
   ]
  },
  {
   "cell_type": "code",
   "execution_count": 104,
   "id": "31ab8811",
   "metadata": {
    "ExecuteTime": {
     "end_time": "2022-07-12T11:16:35.177182Z",
     "start_time": "2022-07-12T11:16:35.164218Z"
    }
   },
   "outputs": [],
   "source": [
    "df['MSSubClass'] = df['MS SubClass'].apply(str)"
   ]
  },
  {
   "cell_type": "markdown",
   "id": "41f99c29",
   "metadata": {},
   "source": [
    "# 2.0 Handling Missing Values"
   ]
  },
  {
   "cell_type": "markdown",
   "id": "ae0c3d56",
   "metadata": {},
   "source": [
    "Lets analyse the number of null vlaues and its percentage"
   ]
  },
  {
   "cell_type": "code",
   "execution_count": 105,
   "id": "81c4d050",
   "metadata": {
    "ExecuteTime": {
     "end_time": "2022-07-12T11:16:35.209097Z",
     "start_time": "2022-07-12T11:16:35.179177Z"
    },
    "scrolled": true
   },
   "outputs": [
    {
     "data": {
      "text/plain": [
       "Id                0\n",
       "PID               0\n",
       "MS SubClass       0\n",
       "MS Zoning         0\n",
       "Lot Frontage    330\n",
       "               ... \n",
       "Mo Sold           0\n",
       "Yr Sold           0\n",
       "Sale Type         0\n",
       "SalePrice         0\n",
       "MSSubClass        0\n",
       "Length: 82, dtype: int64"
      ]
     },
     "execution_count": 105,
     "metadata": {},
     "output_type": "execute_result"
    }
   ],
   "source": [
    "missing_value = df.isnull().sum()\n",
    "missing_value"
   ]
  },
  {
   "cell_type": "code",
   "execution_count": 106,
   "id": "432bc5de",
   "metadata": {
    "ExecuteTime": {
     "end_time": "2022-07-12T11:16:35.253977Z",
     "start_time": "2022-07-12T11:16:35.212090Z"
    },
    "scrolled": true
   },
   "outputs": [
    {
     "data": {
      "text/plain": [
       "Id              0.000000\n",
       "PID             0.000000\n",
       "MS SubClass     0.000000\n",
       "MS Zoning       0.000000\n",
       "Lot Frontage    0.162402\n",
       "                  ...   \n",
       "Mo Sold         0.000000\n",
       "Yr Sold         0.000000\n",
       "Sale Type       0.000000\n",
       "SalePrice       0.000000\n",
       "MSSubClass      0.000000\n",
       "Length: 82, dtype: float64"
      ]
     },
     "execution_count": 106,
     "metadata": {},
     "output_type": "execute_result"
    }
   ],
   "source": [
    "percentage_missing = (df.isnull().sum() / df.isnull().count())\n",
    "percentage_missing"
   ]
  },
  {
   "cell_type": "code",
   "execution_count": 107,
   "id": "fc8cc9d4",
   "metadata": {
    "ExecuteTime": {
     "end_time": "2022-07-12T11:16:35.268937Z",
     "start_time": "2022-07-12T11:16:35.255973Z"
    },
    "scrolled": true
   },
   "outputs": [
    {
     "data": {
      "text/html": [
       "<div>\n",
       "<style scoped>\n",
       "    .dataframe tbody tr th:only-of-type {\n",
       "        vertical-align: middle;\n",
       "    }\n",
       "\n",
       "    .dataframe tbody tr th {\n",
       "        vertical-align: top;\n",
       "    }\n",
       "\n",
       "    .dataframe thead th {\n",
       "        text-align: right;\n",
       "    }\n",
       "</style>\n",
       "<table border=\"1\" class=\"dataframe\">\n",
       "  <thead>\n",
       "    <tr style=\"text-align: right;\">\n",
       "      <th></th>\n",
       "      <th>missing</th>\n",
       "      <th>percent</th>\n",
       "    </tr>\n",
       "  </thead>\n",
       "  <tbody>\n",
       "    <tr>\n",
       "      <th>Pool QC</th>\n",
       "      <td>2023</td>\n",
       "      <td>0.995571</td>\n",
       "    </tr>\n",
       "    <tr>\n",
       "      <th>Misc Feature</th>\n",
       "      <td>1969</td>\n",
       "      <td>0.968996</td>\n",
       "    </tr>\n",
       "    <tr>\n",
       "      <th>Alley</th>\n",
       "      <td>1896</td>\n",
       "      <td>0.933071</td>\n",
       "    </tr>\n",
       "    <tr>\n",
       "      <th>Fence</th>\n",
       "      <td>1636</td>\n",
       "      <td>0.805118</td>\n",
       "    </tr>\n",
       "    <tr>\n",
       "      <th>Fireplace Qu</th>\n",
       "      <td>982</td>\n",
       "      <td>0.483268</td>\n",
       "    </tr>\n",
       "    <tr>\n",
       "      <th>...</th>\n",
       "      <td>...</td>\n",
       "      <td>...</td>\n",
       "    </tr>\n",
       "    <tr>\n",
       "      <th>Central Air</th>\n",
       "      <td>0</td>\n",
       "      <td>0.000000</td>\n",
       "    </tr>\n",
       "    <tr>\n",
       "      <th>Electrical</th>\n",
       "      <td>0</td>\n",
       "      <td>0.000000</td>\n",
       "    </tr>\n",
       "    <tr>\n",
       "      <th>1st Flr SF</th>\n",
       "      <td>0</td>\n",
       "      <td>0.000000</td>\n",
       "    </tr>\n",
       "    <tr>\n",
       "      <th>2nd Flr SF</th>\n",
       "      <td>0</td>\n",
       "      <td>0.000000</td>\n",
       "    </tr>\n",
       "    <tr>\n",
       "      <th>MSSubClass</th>\n",
       "      <td>0</td>\n",
       "      <td>0.000000</td>\n",
       "    </tr>\n",
       "  </tbody>\n",
       "</table>\n",
       "<p>82 rows × 2 columns</p>\n",
       "</div>"
      ],
      "text/plain": [
       "              missing   percent\n",
       "Pool QC          2023  0.995571\n",
       "Misc Feature     1969  0.968996\n",
       "Alley            1896  0.933071\n",
       "Fence            1636  0.805118\n",
       "Fireplace Qu      982  0.483268\n",
       "...               ...       ...\n",
       "Central Air         0  0.000000\n",
       "Electrical          0  0.000000\n",
       "1st Flr SF          0  0.000000\n",
       "2nd Flr SF          0  0.000000\n",
       "MSSubClass          0  0.000000\n",
       "\n",
       "[82 rows x 2 columns]"
      ]
     },
     "execution_count": 107,
     "metadata": {},
     "output_type": "execute_result"
    }
   ],
   "source": [
    "missing_data = pd.concat([missing_value, percentage_missing],\n",
    "                         axis=1,\n",
    "                         keys=['missing','percent']).sort_values(ascending=False,by='missing')\n",
    "missing_data"
   ]
  },
  {
   "cell_type": "markdown",
   "id": "92b350db",
   "metadata": {},
   "source": [
    "We will be dropping features that has above 10% null values\n",
    "Also, the ID will also be removed as this field identifies each feature in the dataset and, consequently, is processed differently than other fields. The ID field is not a good explanatory or dependent variable for a regression model."
   ]
  },
  {
   "cell_type": "code",
   "execution_count": 108,
   "id": "6177eda2",
   "metadata": {
    "ExecuteTime": {
     "end_time": "2022-07-12T11:16:35.283896Z",
     "start_time": "2022-07-12T11:16:35.270933Z"
    },
    "scrolled": true
   },
   "outputs": [],
   "source": [
    "df.drop(columns=[\n",
    "    'Pool QC', 'Misc Feature', 'Alley', 'Fence', 'Fireplace Qu',\n",
    "    'Lot Frontage', 'Id','PID'\n",
    "],\n",
    "        inplace=True)"
   ]
  },
  {
   "cell_type": "code",
   "execution_count": 109,
   "id": "a3e709a2",
   "metadata": {
    "ExecuteTime": {
     "end_time": "2022-07-12T11:16:35.314841Z",
     "start_time": "2022-07-12T11:16:35.285892Z"
    }
   },
   "outputs": [
    {
     "data": {
      "text/html": [
       "<div>\n",
       "<style scoped>\n",
       "    .dataframe tbody tr th:only-of-type {\n",
       "        vertical-align: middle;\n",
       "    }\n",
       "\n",
       "    .dataframe tbody tr th {\n",
       "        vertical-align: top;\n",
       "    }\n",
       "\n",
       "    .dataframe thead th {\n",
       "        text-align: right;\n",
       "    }\n",
       "</style>\n",
       "<table border=\"1\" class=\"dataframe\">\n",
       "  <thead>\n",
       "    <tr style=\"text-align: right;\">\n",
       "      <th></th>\n",
       "      <th>MS SubClass</th>\n",
       "      <th>MS Zoning</th>\n",
       "      <th>Lot Area</th>\n",
       "      <th>Street</th>\n",
       "      <th>Lot Shape</th>\n",
       "      <th>Land Contour</th>\n",
       "      <th>Utilities</th>\n",
       "      <th>Lot Config</th>\n",
       "      <th>Land Slope</th>\n",
       "      <th>Neighborhood</th>\n",
       "      <th>...</th>\n",
       "      <th>Enclosed Porch</th>\n",
       "      <th>3Ssn Porch</th>\n",
       "      <th>Screen Porch</th>\n",
       "      <th>Pool Area</th>\n",
       "      <th>Misc Val</th>\n",
       "      <th>Mo Sold</th>\n",
       "      <th>Yr Sold</th>\n",
       "      <th>Sale Type</th>\n",
       "      <th>SalePrice</th>\n",
       "      <th>MSSubClass</th>\n",
       "    </tr>\n",
       "  </thead>\n",
       "  <tbody>\n",
       "    <tr>\n",
       "      <th>0</th>\n",
       "      <td>60</td>\n",
       "      <td>RL</td>\n",
       "      <td>13517</td>\n",
       "      <td>Pave</td>\n",
       "      <td>IR1</td>\n",
       "      <td>Lvl</td>\n",
       "      <td>AllPub</td>\n",
       "      <td>CulDSac</td>\n",
       "      <td>Gtl</td>\n",
       "      <td>Sawyer</td>\n",
       "      <td>...</td>\n",
       "      <td>0</td>\n",
       "      <td>0</td>\n",
       "      <td>0</td>\n",
       "      <td>0</td>\n",
       "      <td>0</td>\n",
       "      <td>3</td>\n",
       "      <td>2010</td>\n",
       "      <td>WD</td>\n",
       "      <td>11.779136</td>\n",
       "      <td>60</td>\n",
       "    </tr>\n",
       "    <tr>\n",
       "      <th>1</th>\n",
       "      <td>60</td>\n",
       "      <td>RL</td>\n",
       "      <td>11492</td>\n",
       "      <td>Pave</td>\n",
       "      <td>IR1</td>\n",
       "      <td>Lvl</td>\n",
       "      <td>AllPub</td>\n",
       "      <td>CulDSac</td>\n",
       "      <td>Gtl</td>\n",
       "      <td>SawyerW</td>\n",
       "      <td>...</td>\n",
       "      <td>0</td>\n",
       "      <td>0</td>\n",
       "      <td>0</td>\n",
       "      <td>0</td>\n",
       "      <td>0</td>\n",
       "      <td>4</td>\n",
       "      <td>2009</td>\n",
       "      <td>WD</td>\n",
       "      <td>12.301387</td>\n",
       "      <td>60</td>\n",
       "    </tr>\n",
       "    <tr>\n",
       "      <th>2</th>\n",
       "      <td>20</td>\n",
       "      <td>RL</td>\n",
       "      <td>7922</td>\n",
       "      <td>Pave</td>\n",
       "      <td>Reg</td>\n",
       "      <td>Lvl</td>\n",
       "      <td>AllPub</td>\n",
       "      <td>Inside</td>\n",
       "      <td>Gtl</td>\n",
       "      <td>NAmes</td>\n",
       "      <td>...</td>\n",
       "      <td>0</td>\n",
       "      <td>0</td>\n",
       "      <td>0</td>\n",
       "      <td>0</td>\n",
       "      <td>0</td>\n",
       "      <td>1</td>\n",
       "      <td>2010</td>\n",
       "      <td>WD</td>\n",
       "      <td>11.599112</td>\n",
       "      <td>20</td>\n",
       "    </tr>\n",
       "    <tr>\n",
       "      <th>3</th>\n",
       "      <td>60</td>\n",
       "      <td>RL</td>\n",
       "      <td>9802</td>\n",
       "      <td>Pave</td>\n",
       "      <td>Reg</td>\n",
       "      <td>Lvl</td>\n",
       "      <td>AllPub</td>\n",
       "      <td>Inside</td>\n",
       "      <td>Gtl</td>\n",
       "      <td>Timber</td>\n",
       "      <td>...</td>\n",
       "      <td>0</td>\n",
       "      <td>0</td>\n",
       "      <td>0</td>\n",
       "      <td>0</td>\n",
       "      <td>0</td>\n",
       "      <td>4</td>\n",
       "      <td>2010</td>\n",
       "      <td>WD</td>\n",
       "      <td>12.066816</td>\n",
       "      <td>60</td>\n",
       "    </tr>\n",
       "    <tr>\n",
       "      <th>4</th>\n",
       "      <td>50</td>\n",
       "      <td>RL</td>\n",
       "      <td>14235</td>\n",
       "      <td>Pave</td>\n",
       "      <td>IR1</td>\n",
       "      <td>Lvl</td>\n",
       "      <td>AllPub</td>\n",
       "      <td>Inside</td>\n",
       "      <td>Gtl</td>\n",
       "      <td>SawyerW</td>\n",
       "      <td>...</td>\n",
       "      <td>0</td>\n",
       "      <td>0</td>\n",
       "      <td>0</td>\n",
       "      <td>0</td>\n",
       "      <td>0</td>\n",
       "      <td>3</td>\n",
       "      <td>2010</td>\n",
       "      <td>WD</td>\n",
       "      <td>11.838633</td>\n",
       "      <td>50</td>\n",
       "    </tr>\n",
       "  </tbody>\n",
       "</table>\n",
       "<p>5 rows × 74 columns</p>\n",
       "</div>"
      ],
      "text/plain": [
       "   MS SubClass MS Zoning  Lot Area Street Lot Shape Land Contour Utilities  \\\n",
       "0           60        RL     13517   Pave       IR1          Lvl    AllPub   \n",
       "1           60        RL     11492   Pave       IR1          Lvl    AllPub   \n",
       "2           20        RL      7922   Pave       Reg          Lvl    AllPub   \n",
       "3           60        RL      9802   Pave       Reg          Lvl    AllPub   \n",
       "4           50        RL     14235   Pave       IR1          Lvl    AllPub   \n",
       "\n",
       "  Lot Config Land Slope Neighborhood  ... Enclosed Porch 3Ssn Porch  \\\n",
       "0    CulDSac        Gtl       Sawyer  ...              0          0   \n",
       "1    CulDSac        Gtl      SawyerW  ...              0          0   \n",
       "2     Inside        Gtl        NAmes  ...              0          0   \n",
       "3     Inside        Gtl       Timber  ...              0          0   \n",
       "4     Inside        Gtl      SawyerW  ...              0          0   \n",
       "\n",
       "  Screen Porch Pool Area  Misc Val  Mo Sold  Yr Sold  Sale Type  SalePrice  \\\n",
       "0            0         0         0        3     2010        WD   11.779136   \n",
       "1            0         0         0        4     2009        WD   12.301387   \n",
       "2            0         0         0        1     2010        WD   11.599112   \n",
       "3            0         0         0        4     2010        WD   12.066816   \n",
       "4            0         0         0        3     2010        WD   11.838633   \n",
       "\n",
       "  MSSubClass  \n",
       "0         60  \n",
       "1         60  \n",
       "2         20  \n",
       "3         60  \n",
       "4         50  \n",
       "\n",
       "[5 rows x 74 columns]"
      ]
     },
     "execution_count": 109,
     "metadata": {},
     "output_type": "execute_result"
    }
   ],
   "source": [
    "df.head()"
   ]
  },
  {
   "cell_type": "markdown",
   "id": "1a9580ac",
   "metadata": {},
   "source": [
    "### 2.1 Fill missing values\n",
    "Since there is categorical + numerical data, we need to split them up as it is illogical to fill na with average on categorical data.\n",
    "\n",
    "We will be taking the approach listed below:  \n",
    "-Numerical Data fill na with average  \n",
    "-Categorical data fill na with highest frequency string\n"
   ]
  },
  {
   "cell_type": "code",
   "execution_count": 110,
   "id": "f317886b",
   "metadata": {
    "ExecuteTime": {
     "end_time": "2022-07-12T11:16:35.329775Z",
     "start_time": "2022-07-12T11:16:35.316810Z"
    }
   },
   "outputs": [],
   "source": [
    "#we create a function to fill na since we need to do the same for test file as well\n",
    "def fill_na(x):\n",
    "    numerics = ['int16', 'int32', 'int64', 'float16', 'float32', 'float64']\n",
    "    df_num = x.select_dtypes(include=numerics)\n",
    "    df_num = df_num.fillna(df_num.mean())\n",
    "    df_obj = x.select_dtypes(include='object')\n",
    "    df_obj = df_obj.fillna(df_obj.mode().iloc[0])\n",
    "    x = pd.concat([df_obj,df_num], axis=1)\n",
    "    return x"
   ]
  },
  {
   "cell_type": "code",
   "execution_count": 111,
   "id": "bf618d4e",
   "metadata": {
    "ExecuteTime": {
     "end_time": "2022-07-12T11:16:35.389643Z",
     "start_time": "2022-07-12T11:16:35.332768Z"
    },
    "run_control": {
     "marked": false
    }
   },
   "outputs": [],
   "source": [
    "df = fill_na(df)"
   ]
  },
  {
   "cell_type": "code",
   "execution_count": 112,
   "id": "d354979e",
   "metadata": {
    "ExecuteTime": {
     "end_time": "2022-07-12T11:16:35.421043Z",
     "start_time": "2022-07-12T11:16:35.390614Z"
    },
    "scrolled": true
   },
   "outputs": [
    {
     "data": {
      "text/plain": [
       "MS Zoning       0\n",
       "Street          0\n",
       "Lot Shape       0\n",
       "Land Contour    0\n",
       "Utilities       0\n",
       "               ..\n",
       "Pool Area       0\n",
       "Misc Val        0\n",
       "Mo Sold         0\n",
       "Yr Sold         0\n",
       "SalePrice       0\n",
       "Length: 74, dtype: int64"
      ]
     },
     "execution_count": 112,
     "metadata": {},
     "output_type": "execute_result"
    }
   ],
   "source": [
    "df.isnull().sum()"
   ]
  },
  {
   "cell_type": "code",
   "execution_count": 113,
   "id": "a2b8dee1",
   "metadata": {
    "ExecuteTime": {
     "end_time": "2022-07-12T11:16:35.451960Z",
     "start_time": "2022-07-12T11:16:35.426031Z"
    },
    "scrolled": true
   },
   "outputs": [
    {
     "data": {
      "text/html": [
       "<div>\n",
       "<style scoped>\n",
       "    .dataframe tbody tr th:only-of-type {\n",
       "        vertical-align: middle;\n",
       "    }\n",
       "\n",
       "    .dataframe tbody tr th {\n",
       "        vertical-align: top;\n",
       "    }\n",
       "\n",
       "    .dataframe thead th {\n",
       "        text-align: right;\n",
       "    }\n",
       "</style>\n",
       "<table border=\"1\" class=\"dataframe\">\n",
       "  <thead>\n",
       "    <tr style=\"text-align: right;\">\n",
       "      <th></th>\n",
       "      <th>MS Zoning</th>\n",
       "      <th>Street</th>\n",
       "      <th>Lot Shape</th>\n",
       "      <th>Land Contour</th>\n",
       "      <th>Utilities</th>\n",
       "      <th>Lot Config</th>\n",
       "      <th>Land Slope</th>\n",
       "      <th>Neighborhood</th>\n",
       "      <th>Condition 1</th>\n",
       "      <th>Condition 2</th>\n",
       "      <th>...</th>\n",
       "      <th>Wood Deck SF</th>\n",
       "      <th>Open Porch SF</th>\n",
       "      <th>Enclosed Porch</th>\n",
       "      <th>3Ssn Porch</th>\n",
       "      <th>Screen Porch</th>\n",
       "      <th>Pool Area</th>\n",
       "      <th>Misc Val</th>\n",
       "      <th>Mo Sold</th>\n",
       "      <th>Yr Sold</th>\n",
       "      <th>SalePrice</th>\n",
       "    </tr>\n",
       "  </thead>\n",
       "  <tbody>\n",
       "    <tr>\n",
       "      <th>0</th>\n",
       "      <td>RL</td>\n",
       "      <td>Pave</td>\n",
       "      <td>IR1</td>\n",
       "      <td>Lvl</td>\n",
       "      <td>AllPub</td>\n",
       "      <td>CulDSac</td>\n",
       "      <td>Gtl</td>\n",
       "      <td>Sawyer</td>\n",
       "      <td>RRAe</td>\n",
       "      <td>Norm</td>\n",
       "      <td>...</td>\n",
       "      <td>0</td>\n",
       "      <td>44</td>\n",
       "      <td>0</td>\n",
       "      <td>0</td>\n",
       "      <td>0</td>\n",
       "      <td>0</td>\n",
       "      <td>0</td>\n",
       "      <td>3</td>\n",
       "      <td>2010</td>\n",
       "      <td>11.779136</td>\n",
       "    </tr>\n",
       "    <tr>\n",
       "      <th>1</th>\n",
       "      <td>RL</td>\n",
       "      <td>Pave</td>\n",
       "      <td>IR1</td>\n",
       "      <td>Lvl</td>\n",
       "      <td>AllPub</td>\n",
       "      <td>CulDSac</td>\n",
       "      <td>Gtl</td>\n",
       "      <td>SawyerW</td>\n",
       "      <td>Norm</td>\n",
       "      <td>Norm</td>\n",
       "      <td>...</td>\n",
       "      <td>0</td>\n",
       "      <td>74</td>\n",
       "      <td>0</td>\n",
       "      <td>0</td>\n",
       "      <td>0</td>\n",
       "      <td>0</td>\n",
       "      <td>0</td>\n",
       "      <td>4</td>\n",
       "      <td>2009</td>\n",
       "      <td>12.301387</td>\n",
       "    </tr>\n",
       "    <tr>\n",
       "      <th>2</th>\n",
       "      <td>RL</td>\n",
       "      <td>Pave</td>\n",
       "      <td>Reg</td>\n",
       "      <td>Lvl</td>\n",
       "      <td>AllPub</td>\n",
       "      <td>Inside</td>\n",
       "      <td>Gtl</td>\n",
       "      <td>NAmes</td>\n",
       "      <td>Norm</td>\n",
       "      <td>Norm</td>\n",
       "      <td>...</td>\n",
       "      <td>0</td>\n",
       "      <td>52</td>\n",
       "      <td>0</td>\n",
       "      <td>0</td>\n",
       "      <td>0</td>\n",
       "      <td>0</td>\n",
       "      <td>0</td>\n",
       "      <td>1</td>\n",
       "      <td>2010</td>\n",
       "      <td>11.599112</td>\n",
       "    </tr>\n",
       "    <tr>\n",
       "      <th>3</th>\n",
       "      <td>RL</td>\n",
       "      <td>Pave</td>\n",
       "      <td>Reg</td>\n",
       "      <td>Lvl</td>\n",
       "      <td>AllPub</td>\n",
       "      <td>Inside</td>\n",
       "      <td>Gtl</td>\n",
       "      <td>Timber</td>\n",
       "      <td>Norm</td>\n",
       "      <td>Norm</td>\n",
       "      <td>...</td>\n",
       "      <td>100</td>\n",
       "      <td>0</td>\n",
       "      <td>0</td>\n",
       "      <td>0</td>\n",
       "      <td>0</td>\n",
       "      <td>0</td>\n",
       "      <td>0</td>\n",
       "      <td>4</td>\n",
       "      <td>2010</td>\n",
       "      <td>12.066816</td>\n",
       "    </tr>\n",
       "    <tr>\n",
       "      <th>4</th>\n",
       "      <td>RL</td>\n",
       "      <td>Pave</td>\n",
       "      <td>IR1</td>\n",
       "      <td>Lvl</td>\n",
       "      <td>AllPub</td>\n",
       "      <td>Inside</td>\n",
       "      <td>Gtl</td>\n",
       "      <td>SawyerW</td>\n",
       "      <td>Norm</td>\n",
       "      <td>Norm</td>\n",
       "      <td>...</td>\n",
       "      <td>0</td>\n",
       "      <td>59</td>\n",
       "      <td>0</td>\n",
       "      <td>0</td>\n",
       "      <td>0</td>\n",
       "      <td>0</td>\n",
       "      <td>0</td>\n",
       "      <td>3</td>\n",
       "      <td>2010</td>\n",
       "      <td>11.838633</td>\n",
       "    </tr>\n",
       "  </tbody>\n",
       "</table>\n",
       "<p>5 rows × 74 columns</p>\n",
       "</div>"
      ],
      "text/plain": [
       "  MS Zoning Street Lot Shape Land Contour Utilities Lot Config Land Slope  \\\n",
       "0        RL   Pave       IR1          Lvl    AllPub    CulDSac        Gtl   \n",
       "1        RL   Pave       IR1          Lvl    AllPub    CulDSac        Gtl   \n",
       "2        RL   Pave       Reg          Lvl    AllPub     Inside        Gtl   \n",
       "3        RL   Pave       Reg          Lvl    AllPub     Inside        Gtl   \n",
       "4        RL   Pave       IR1          Lvl    AllPub     Inside        Gtl   \n",
       "\n",
       "  Neighborhood Condition 1 Condition 2  ... Wood Deck SF Open Porch SF  \\\n",
       "0       Sawyer        RRAe        Norm  ...            0            44   \n",
       "1      SawyerW        Norm        Norm  ...            0            74   \n",
       "2        NAmes        Norm        Norm  ...            0            52   \n",
       "3       Timber        Norm        Norm  ...          100             0   \n",
       "4      SawyerW        Norm        Norm  ...            0            59   \n",
       "\n",
       "  Enclosed Porch 3Ssn Porch Screen Porch Pool Area Misc Val Mo Sold Yr Sold  \\\n",
       "0              0          0            0         0        0       3    2010   \n",
       "1              0          0            0         0        0       4    2009   \n",
       "2              0          0            0         0        0       1    2010   \n",
       "3              0          0            0         0        0       4    2010   \n",
       "4              0          0            0         0        0       3    2010   \n",
       "\n",
       "   SalePrice  \n",
       "0  11.779136  \n",
       "1  12.301387  \n",
       "2  11.599112  \n",
       "3  12.066816  \n",
       "4  11.838633  \n",
       "\n",
       "[5 rows x 74 columns]"
      ]
     },
     "execution_count": 113,
     "metadata": {},
     "output_type": "execute_result"
    }
   ],
   "source": [
    "df.head()"
   ]
  },
  {
   "cell_type": "markdown",
   "id": "1b5f2836",
   "metadata": {},
   "source": [
    "## 3.0 Feature Analysis"
   ]
  },
  {
   "cell_type": "code",
   "execution_count": 114,
   "id": "696ec1b8",
   "metadata": {
    "ExecuteTime": {
     "end_time": "2022-07-12T11:16:35.466921Z",
     "start_time": "2022-07-12T11:16:35.453955Z"
    },
    "scrolled": true
   },
   "outputs": [
    {
     "data": {
      "text/plain": [
       "(2032, 74)"
      ]
     },
     "execution_count": 114,
     "metadata": {},
     "output_type": "execute_result"
    }
   ],
   "source": [
    "df.shape"
   ]
  },
  {
   "cell_type": "markdown",
   "id": "f3412197",
   "metadata": {},
   "source": [
    "Find out which columns are overweight "
   ]
  },
  {
   "cell_type": "code",
   "execution_count": 115,
   "id": "fc00957b",
   "metadata": {
    "ExecuteTime": {
     "end_time": "2022-07-12T11:16:35.497839Z",
     "start_time": "2022-07-12T11:16:35.470910Z"
    }
   },
   "outputs": [],
   "source": [
    "def skewed_columns(df):\n",
    "    skw_col = []\n",
    "    for col in df.columns:\n",
    "        pct_null = round(df[col].isnull().sum()/len(df[col])*100,2)\n",
    "        \n",
    "        #for ordinal \n",
    "        if df[col].dtypes==np.object:\n",
    "            pct_single_value = round(df[col].value_counts()[0]/len(df)*100,2)\n",
    "            \n",
    "            if pct_single_value>70 or pct_null>70:\n",
    "                print(f' {col} has high percentage of a single value')\n",
    "                print(df[col].value_counts())\n",
    "                print('Percentage single value:', pct_single_value )\n",
    "                print('nulls: ',pct_null)\n",
    "                print('\\n')\n",
    "                skw_col.append(col)\n",
    "        else:\n",
    "            pct_zeros = round(len(df[df[col]==0])/len(df)*100,2)\n",
    "            featcorr_salesprice = round(df[col].corr(df['SalePrice']),2)\n",
    "            if pct_zeros > 70 or pct_null>70:\n",
    "                print(f' {col} has high percentage of 0s')\n",
    "                print(df[col].value_counts())\n",
    "                print('% 0s:', pct_zeros )\n",
    "                print('% nulls: ',pct_null)\n",
    "                print('\\n')\n",
    "                skw_col.append(col)   \n",
    "                \n",
    "    print(f' there are {len(skw_col)} Columns to drop')\n",
    "    print(skw_col)\n",
    "    return skw_col\n"
   ]
  },
  {
   "cell_type": "code",
   "execution_count": 116,
   "id": "b51f8ccb",
   "metadata": {
    "ExecuteTime": {
     "end_time": "2022-07-12T11:16:35.743957Z",
     "start_time": "2022-07-12T11:16:35.500831Z"
    },
    "scrolled": true
   },
   "outputs": [
    {
     "name": "stderr",
     "output_type": "stream",
     "text": [
      "C:\\Users\\Home\\AppData\\Local\\Temp\\ipykernel_28192\\2688134202.py:7: DeprecationWarning: `np.object` is a deprecated alias for the builtin `object`. To silence this warning, use `object` by itself. Doing this will not modify any behavior and is safe. \n",
      "Deprecated in NumPy 1.20; for more details and guidance: https://numpy.org/devdocs/release/1.20.0-notes.html#deprecations\n",
      "  if df[col].dtypes==np.object:\n",
      "C:\\Users\\Home\\AppData\\Local\\Temp\\ipykernel_28192\\2688134202.py:7: DeprecationWarning: `np.object` is a deprecated alias for the builtin `object`. To silence this warning, use `object` by itself. Doing this will not modify any behavior and is safe. \n",
      "Deprecated in NumPy 1.20; for more details and guidance: https://numpy.org/devdocs/release/1.20.0-notes.html#deprecations\n",
      "  if df[col].dtypes==np.object:\n",
      "C:\\Users\\Home\\AppData\\Local\\Temp\\ipykernel_28192\\2688134202.py:7: DeprecationWarning: `np.object` is a deprecated alias for the builtin `object`. To silence this warning, use `object` by itself. Doing this will not modify any behavior and is safe. \n",
      "Deprecated in NumPy 1.20; for more details and guidance: https://numpy.org/devdocs/release/1.20.0-notes.html#deprecations\n",
      "  if df[col].dtypes==np.object:\n",
      "C:\\Users\\Home\\AppData\\Local\\Temp\\ipykernel_28192\\2688134202.py:7: DeprecationWarning: `np.object` is a deprecated alias for the builtin `object`. To silence this warning, use `object` by itself. Doing this will not modify any behavior and is safe. \n",
      "Deprecated in NumPy 1.20; for more details and guidance: https://numpy.org/devdocs/release/1.20.0-notes.html#deprecations\n",
      "  if df[col].dtypes==np.object:\n",
      "C:\\Users\\Home\\AppData\\Local\\Temp\\ipykernel_28192\\2688134202.py:7: DeprecationWarning: `np.object` is a deprecated alias for the builtin `object`. To silence this warning, use `object` by itself. Doing this will not modify any behavior and is safe. \n",
      "Deprecated in NumPy 1.20; for more details and guidance: https://numpy.org/devdocs/release/1.20.0-notes.html#deprecations\n",
      "  if df[col].dtypes==np.object:\n",
      "C:\\Users\\Home\\AppData\\Local\\Temp\\ipykernel_28192\\2688134202.py:7: DeprecationWarning: `np.object` is a deprecated alias for the builtin `object`. To silence this warning, use `object` by itself. Doing this will not modify any behavior and is safe. \n",
      "Deprecated in NumPy 1.20; for more details and guidance: https://numpy.org/devdocs/release/1.20.0-notes.html#deprecations\n",
      "  if df[col].dtypes==np.object:\n",
      "C:\\Users\\Home\\AppData\\Local\\Temp\\ipykernel_28192\\2688134202.py:7: DeprecationWarning: `np.object` is a deprecated alias for the builtin `object`. To silence this warning, use `object` by itself. Doing this will not modify any behavior and is safe. \n",
      "Deprecated in NumPy 1.20; for more details and guidance: https://numpy.org/devdocs/release/1.20.0-notes.html#deprecations\n",
      "  if df[col].dtypes==np.object:\n",
      "C:\\Users\\Home\\AppData\\Local\\Temp\\ipykernel_28192\\2688134202.py:7: DeprecationWarning: `np.object` is a deprecated alias for the builtin `object`. To silence this warning, use `object` by itself. Doing this will not modify any behavior and is safe. \n",
      "Deprecated in NumPy 1.20; for more details and guidance: https://numpy.org/devdocs/release/1.20.0-notes.html#deprecations\n",
      "  if df[col].dtypes==np.object:\n",
      "C:\\Users\\Home\\AppData\\Local\\Temp\\ipykernel_28192\\2688134202.py:7: DeprecationWarning: `np.object` is a deprecated alias for the builtin `object`. To silence this warning, use `object` by itself. Doing this will not modify any behavior and is safe. \n",
      "Deprecated in NumPy 1.20; for more details and guidance: https://numpy.org/devdocs/release/1.20.0-notes.html#deprecations\n",
      "  if df[col].dtypes==np.object:\n",
      "C:\\Users\\Home\\AppData\\Local\\Temp\\ipykernel_28192\\2688134202.py:7: DeprecationWarning: `np.object` is a deprecated alias for the builtin `object`. To silence this warning, use `object` by itself. Doing this will not modify any behavior and is safe. \n",
      "Deprecated in NumPy 1.20; for more details and guidance: https://numpy.org/devdocs/release/1.20.0-notes.html#deprecations\n",
      "  if df[col].dtypes==np.object:\n",
      "C:\\Users\\Home\\AppData\\Local\\Temp\\ipykernel_28192\\2688134202.py:7: DeprecationWarning: `np.object` is a deprecated alias for the builtin `object`. To silence this warning, use `object` by itself. Doing this will not modify any behavior and is safe. \n",
      "Deprecated in NumPy 1.20; for more details and guidance: https://numpy.org/devdocs/release/1.20.0-notes.html#deprecations\n",
      "  if df[col].dtypes==np.object:\n",
      "C:\\Users\\Home\\AppData\\Local\\Temp\\ipykernel_28192\\2688134202.py:7: DeprecationWarning: `np.object` is a deprecated alias for the builtin `object`. To silence this warning, use `object` by itself. Doing this will not modify any behavior and is safe. \n",
      "Deprecated in NumPy 1.20; for more details and guidance: https://numpy.org/devdocs/release/1.20.0-notes.html#deprecations\n",
      "  if df[col].dtypes==np.object:\n",
      "C:\\Users\\Home\\AppData\\Local\\Temp\\ipykernel_28192\\2688134202.py:7: DeprecationWarning: `np.object` is a deprecated alias for the builtin `object`. To silence this warning, use `object` by itself. Doing this will not modify any behavior and is safe. \n",
      "Deprecated in NumPy 1.20; for more details and guidance: https://numpy.org/devdocs/release/1.20.0-notes.html#deprecations\n",
      "  if df[col].dtypes==np.object:\n",
      "C:\\Users\\Home\\AppData\\Local\\Temp\\ipykernel_28192\\2688134202.py:7: DeprecationWarning: `np.object` is a deprecated alias for the builtin `object`. To silence this warning, use `object` by itself. Doing this will not modify any behavior and is safe. \n",
      "Deprecated in NumPy 1.20; for more details and guidance: https://numpy.org/devdocs/release/1.20.0-notes.html#deprecations\n",
      "  if df[col].dtypes==np.object:\n",
      "C:\\Users\\Home\\AppData\\Local\\Temp\\ipykernel_28192\\2688134202.py:7: DeprecationWarning: `np.object` is a deprecated alias for the builtin `object`. To silence this warning, use `object` by itself. Doing this will not modify any behavior and is safe. \n",
      "Deprecated in NumPy 1.20; for more details and guidance: https://numpy.org/devdocs/release/1.20.0-notes.html#deprecations\n",
      "  if df[col].dtypes==np.object:\n",
      "C:\\Users\\Home\\AppData\\Local\\Temp\\ipykernel_28192\\2688134202.py:7: DeprecationWarning: `np.object` is a deprecated alias for the builtin `object`. To silence this warning, use `object` by itself. Doing this will not modify any behavior and is safe. \n",
      "Deprecated in NumPy 1.20; for more details and guidance: https://numpy.org/devdocs/release/1.20.0-notes.html#deprecations\n",
      "  if df[col].dtypes==np.object:\n",
      "C:\\Users\\Home\\AppData\\Local\\Temp\\ipykernel_28192\\2688134202.py:7: DeprecationWarning: `np.object` is a deprecated alias for the builtin `object`. To silence this warning, use `object` by itself. Doing this will not modify any behavior and is safe. \n",
      "Deprecated in NumPy 1.20; for more details and guidance: https://numpy.org/devdocs/release/1.20.0-notes.html#deprecations\n",
      "  if df[col].dtypes==np.object:\n",
      "C:\\Users\\Home\\AppData\\Local\\Temp\\ipykernel_28192\\2688134202.py:7: DeprecationWarning: `np.object` is a deprecated alias for the builtin `object`. To silence this warning, use `object` by itself. Doing this will not modify any behavior and is safe. \n",
      "Deprecated in NumPy 1.20; for more details and guidance: https://numpy.org/devdocs/release/1.20.0-notes.html#deprecations\n",
      "  if df[col].dtypes==np.object:\n",
      "C:\\Users\\Home\\AppData\\Local\\Temp\\ipykernel_28192\\2688134202.py:7: DeprecationWarning: `np.object` is a deprecated alias for the builtin `object`. To silence this warning, use `object` by itself. Doing this will not modify any behavior and is safe. \n",
      "Deprecated in NumPy 1.20; for more details and guidance: https://numpy.org/devdocs/release/1.20.0-notes.html#deprecations\n",
      "  if df[col].dtypes==np.object:\n",
      "C:\\Users\\Home\\AppData\\Local\\Temp\\ipykernel_28192\\2688134202.py:7: DeprecationWarning: `np.object` is a deprecated alias for the builtin `object`. To silence this warning, use `object` by itself. Doing this will not modify any behavior and is safe. \n",
      "Deprecated in NumPy 1.20; for more details and guidance: https://numpy.org/devdocs/release/1.20.0-notes.html#deprecations\n",
      "  if df[col].dtypes==np.object:\n",
      "C:\\Users\\Home\\AppData\\Local\\Temp\\ipykernel_28192\\2688134202.py:7: DeprecationWarning: `np.object` is a deprecated alias for the builtin `object`. To silence this warning, use `object` by itself. Doing this will not modify any behavior and is safe. \n",
      "Deprecated in NumPy 1.20; for more details and guidance: https://numpy.org/devdocs/release/1.20.0-notes.html#deprecations\n",
      "  if df[col].dtypes==np.object:\n",
      "C:\\Users\\Home\\AppData\\Local\\Temp\\ipykernel_28192\\2688134202.py:7: DeprecationWarning: `np.object` is a deprecated alias for the builtin `object`. To silence this warning, use `object` by itself. Doing this will not modify any behavior and is safe. \n",
      "Deprecated in NumPy 1.20; for more details and guidance: https://numpy.org/devdocs/release/1.20.0-notes.html#deprecations\n",
      "  if df[col].dtypes==np.object:\n",
      "C:\\Users\\Home\\AppData\\Local\\Temp\\ipykernel_28192\\2688134202.py:7: DeprecationWarning: `np.object` is a deprecated alias for the builtin `object`. To silence this warning, use `object` by itself. Doing this will not modify any behavior and is safe. \n",
      "Deprecated in NumPy 1.20; for more details and guidance: https://numpy.org/devdocs/release/1.20.0-notes.html#deprecations\n",
      "  if df[col].dtypes==np.object:\n",
      "C:\\Users\\Home\\AppData\\Local\\Temp\\ipykernel_28192\\2688134202.py:7: DeprecationWarning: `np.object` is a deprecated alias for the builtin `object`. To silence this warning, use `object` by itself. Doing this will not modify any behavior and is safe. \n",
      "Deprecated in NumPy 1.20; for more details and guidance: https://numpy.org/devdocs/release/1.20.0-notes.html#deprecations\n",
      "  if df[col].dtypes==np.object:\n",
      "C:\\Users\\Home\\AppData\\Local\\Temp\\ipykernel_28192\\2688134202.py:7: DeprecationWarning: `np.object` is a deprecated alias for the builtin `object`. To silence this warning, use `object` by itself. Doing this will not modify any behavior and is safe. \n",
      "Deprecated in NumPy 1.20; for more details and guidance: https://numpy.org/devdocs/release/1.20.0-notes.html#deprecations\n",
      "  if df[col].dtypes==np.object:\n",
      "C:\\Users\\Home\\AppData\\Local\\Temp\\ipykernel_28192\\2688134202.py:7: DeprecationWarning: `np.object` is a deprecated alias for the builtin `object`. To silence this warning, use `object` by itself. Doing this will not modify any behavior and is safe. \n",
      "Deprecated in NumPy 1.20; for more details and guidance: https://numpy.org/devdocs/release/1.20.0-notes.html#deprecations\n",
      "  if df[col].dtypes==np.object:\n",
      "C:\\Users\\Home\\AppData\\Local\\Temp\\ipykernel_28192\\2688134202.py:7: DeprecationWarning: `np.object` is a deprecated alias for the builtin `object`. To silence this warning, use `object` by itself. Doing this will not modify any behavior and is safe. \n",
      "Deprecated in NumPy 1.20; for more details and guidance: https://numpy.org/devdocs/release/1.20.0-notes.html#deprecations\n",
      "  if df[col].dtypes==np.object:\n",
      "C:\\Users\\Home\\AppData\\Local\\Temp\\ipykernel_28192\\2688134202.py:7: DeprecationWarning: `np.object` is a deprecated alias for the builtin `object`. To silence this warning, use `object` by itself. Doing this will not modify any behavior and is safe. \n",
      "Deprecated in NumPy 1.20; for more details and guidance: https://numpy.org/devdocs/release/1.20.0-notes.html#deprecations\n",
      "  if df[col].dtypes==np.object:\n",
      "C:\\Users\\Home\\AppData\\Local\\Temp\\ipykernel_28192\\2688134202.py:7: DeprecationWarning: `np.object` is a deprecated alias for the builtin `object`. To silence this warning, use `object` by itself. Doing this will not modify any behavior and is safe. \n",
      "Deprecated in NumPy 1.20; for more details and guidance: https://numpy.org/devdocs/release/1.20.0-notes.html#deprecations\n",
      "  if df[col].dtypes==np.object:\n",
      "C:\\Users\\Home\\AppData\\Local\\Temp\\ipykernel_28192\\2688134202.py:7: DeprecationWarning: `np.object` is a deprecated alias for the builtin `object`. To silence this warning, use `object` by itself. Doing this will not modify any behavior and is safe. \n",
      "Deprecated in NumPy 1.20; for more details and guidance: https://numpy.org/devdocs/release/1.20.0-notes.html#deprecations\n",
      "  if df[col].dtypes==np.object:\n",
      "C:\\Users\\Home\\AppData\\Local\\Temp\\ipykernel_28192\\2688134202.py:7: DeprecationWarning: `np.object` is a deprecated alias for the builtin `object`. To silence this warning, use `object` by itself. Doing this will not modify any behavior and is safe. \n",
      "Deprecated in NumPy 1.20; for more details and guidance: https://numpy.org/devdocs/release/1.20.0-notes.html#deprecations\n",
      "  if df[col].dtypes==np.object:\n",
      "C:\\Users\\Home\\AppData\\Local\\Temp\\ipykernel_28192\\2688134202.py:7: DeprecationWarning: `np.object` is a deprecated alias for the builtin `object`. To silence this warning, use `object` by itself. Doing this will not modify any behavior and is safe. \n",
      "Deprecated in NumPy 1.20; for more details and guidance: https://numpy.org/devdocs/release/1.20.0-notes.html#deprecations\n",
      "  if df[col].dtypes==np.object:\n",
      "C:\\Users\\Home\\AppData\\Local\\Temp\\ipykernel_28192\\2688134202.py:7: DeprecationWarning: `np.object` is a deprecated alias for the builtin `object`. To silence this warning, use `object` by itself. Doing this will not modify any behavior and is safe. \n",
      "Deprecated in NumPy 1.20; for more details and guidance: https://numpy.org/devdocs/release/1.20.0-notes.html#deprecations\n",
      "  if df[col].dtypes==np.object:\n",
      "C:\\Users\\Home\\AppData\\Local\\Temp\\ipykernel_28192\\2688134202.py:7: DeprecationWarning: `np.object` is a deprecated alias for the builtin `object`. To silence this warning, use `object` by itself. Doing this will not modify any behavior and is safe. \n",
      "Deprecated in NumPy 1.20; for more details and guidance: https://numpy.org/devdocs/release/1.20.0-notes.html#deprecations\n",
      "  if df[col].dtypes==np.object:\n",
      "C:\\Users\\Home\\AppData\\Local\\Temp\\ipykernel_28192\\2688134202.py:7: DeprecationWarning: `np.object` is a deprecated alias for the builtin `object`. To silence this warning, use `object` by itself. Doing this will not modify any behavior and is safe. \n",
      "Deprecated in NumPy 1.20; for more details and guidance: https://numpy.org/devdocs/release/1.20.0-notes.html#deprecations\n",
      "  if df[col].dtypes==np.object:\n",
      "C:\\Users\\Home\\AppData\\Local\\Temp\\ipykernel_28192\\2688134202.py:7: DeprecationWarning: `np.object` is a deprecated alias for the builtin `object`. To silence this warning, use `object` by itself. Doing this will not modify any behavior and is safe. \n",
      "Deprecated in NumPy 1.20; for more details and guidance: https://numpy.org/devdocs/release/1.20.0-notes.html#deprecations\n",
      "  if df[col].dtypes==np.object:\n",
      "C:\\Users\\Home\\AppData\\Local\\Temp\\ipykernel_28192\\2688134202.py:7: DeprecationWarning: `np.object` is a deprecated alias for the builtin `object`. To silence this warning, use `object` by itself. Doing this will not modify any behavior and is safe. \n",
      "Deprecated in NumPy 1.20; for more details and guidance: https://numpy.org/devdocs/release/1.20.0-notes.html#deprecations\n",
      "  if df[col].dtypes==np.object:\n",
      "C:\\Users\\Home\\AppData\\Local\\Temp\\ipykernel_28192\\2688134202.py:7: DeprecationWarning: `np.object` is a deprecated alias for the builtin `object`. To silence this warning, use `object` by itself. Doing this will not modify any behavior and is safe. \n",
      "Deprecated in NumPy 1.20; for more details and guidance: https://numpy.org/devdocs/release/1.20.0-notes.html#deprecations\n",
      "  if df[col].dtypes==np.object:\n",
      "C:\\Users\\Home\\AppData\\Local\\Temp\\ipykernel_28192\\2688134202.py:7: DeprecationWarning: `np.object` is a deprecated alias for the builtin `object`. To silence this warning, use `object` by itself. Doing this will not modify any behavior and is safe. \n",
      "Deprecated in NumPy 1.20; for more details and guidance: https://numpy.org/devdocs/release/1.20.0-notes.html#deprecations\n",
      "  if df[col].dtypes==np.object:\n",
      "C:\\Users\\Home\\AppData\\Local\\Temp\\ipykernel_28192\\2688134202.py:7: DeprecationWarning: `np.object` is a deprecated alias for the builtin `object`. To silence this warning, use `object` by itself. Doing this will not modify any behavior and is safe. \n",
      "Deprecated in NumPy 1.20; for more details and guidance: https://numpy.org/devdocs/release/1.20.0-notes.html#deprecations\n",
      "  if df[col].dtypes==np.object:\n",
      "C:\\Users\\Home\\AppData\\Local\\Temp\\ipykernel_28192\\2688134202.py:7: DeprecationWarning: `np.object` is a deprecated alias for the builtin `object`. To silence this warning, use `object` by itself. Doing this will not modify any behavior and is safe. \n",
      "Deprecated in NumPy 1.20; for more details and guidance: https://numpy.org/devdocs/release/1.20.0-notes.html#deprecations\n",
      "  if df[col].dtypes==np.object:\n",
      "C:\\Users\\Home\\AppData\\Local\\Temp\\ipykernel_28192\\2688134202.py:7: DeprecationWarning: `np.object` is a deprecated alias for the builtin `object`. To silence this warning, use `object` by itself. Doing this will not modify any behavior and is safe. \n",
      "Deprecated in NumPy 1.20; for more details and guidance: https://numpy.org/devdocs/release/1.20.0-notes.html#deprecations\n",
      "  if df[col].dtypes==np.object:\n"
     ]
    },
    {
     "name": "stdout",
     "output_type": "stream",
     "text": [
      " MS Zoning has high percentage of a single value\n",
      "RL         1595\n",
      "RM          309\n",
      "FV          101\n",
      "RH           14\n",
      "C (all)      12\n",
      "A (agr)       1\n",
      "Name: MS Zoning, dtype: int64\n",
      "Percentage single value: 78.49\n",
      "nulls:  0.0\n",
      "\n",
      "\n",
      " Street has high percentage of a single value\n",
      "Pave    2028\n",
      "Grvl       4\n",
      "Name: Street, dtype: int64\n",
      "Percentage single value: 99.8\n",
      "nulls:  0.0\n",
      "\n",
      "\n",
      " Land Contour has high percentage of a single value\n",
      "Lvl    1828\n",
      "HLS      85\n",
      "Bnk      78\n",
      "Low      41\n",
      "Name: Land Contour, dtype: int64\n",
      "Percentage single value: 89.96\n",
      "nulls:  0.0\n",
      "\n",
      "\n",
      " Utilities has high percentage of a single value\n",
      "AllPub    2031\n",
      "NoSeWa       1\n",
      "Name: Utilities, dtype: int64\n",
      "Percentage single value: 99.95\n",
      "nulls:  0.0\n",
      "\n",
      "\n",
      " Lot Config has high percentage of a single value\n",
      "Inside     1489\n",
      "Corner      343\n",
      "CulDSac     131\n",
      "FR2          60\n",
      "FR3           9\n",
      "Name: Lot Config, dtype: int64\n",
      "Percentage single value: 73.28\n",
      "nulls:  0.0\n",
      "\n",
      "\n",
      " Land Slope has high percentage of a single value\n",
      "Gtl    1938\n",
      "Mod      84\n",
      "Sev      10\n",
      "Name: Land Slope, dtype: int64\n",
      "Percentage single value: 95.37\n",
      "nulls:  0.0\n",
      "\n",
      "\n",
      " Condition 1 has high percentage of a single value\n",
      "Norm      1753\n",
      "Feedr      105\n",
      "Artery      69\n",
      "RRAn        36\n",
      "PosN        27\n",
      "RRAe        21\n",
      "PosA        12\n",
      "RRNn         6\n",
      "RRNe         3\n",
      "Name: Condition 1, dtype: int64\n",
      "Percentage single value: 86.27\n",
      "nulls:  0.0\n",
      "\n",
      "\n",
      " Condition 2 has high percentage of a single value\n",
      "Norm      2006\n",
      "Feedr       11\n",
      "Artery       5\n",
      "PosA         3\n",
      "PosN         3\n",
      "RRNn         2\n",
      "RRAe         1\n",
      "RRAn         1\n",
      "Name: Condition 2, dtype: int64\n",
      "Percentage single value: 98.72\n",
      "nulls:  0.0\n",
      "\n",
      "\n",
      " Bldg Type has high percentage of a single value\n",
      "1Fam      1682\n",
      "TwnhsE     161\n",
      "Duplex      75\n",
      "Twnhs       69\n",
      "2fmCon      45\n",
      "Name: Bldg Type, dtype: int64\n",
      "Percentage single value: 82.78\n",
      "nulls:  0.0\n",
      "\n",
      "\n",
      " Roof Style has high percentage of a single value\n",
      "Gable      1605\n",
      "Hip         394\n",
      "Flat         13\n",
      "Gambrel      11\n",
      "Mansard       6\n",
      "Shed          3\n",
      "Name: Roof Style, dtype: int64\n",
      "Percentage single value: 78.99\n",
      "nulls:  0.0\n",
      "\n",
      "\n",
      " Roof Matl has high percentage of a single value\n",
      "CompShg    2006\n",
      "Tar&Grv      15\n",
      "WdShngl       5\n",
      "WdShake       4\n",
      "Membran       1\n",
      "ClyTile       1\n",
      "Name: Roof Matl, dtype: int64\n",
      "Percentage single value: 98.72\n",
      "nulls:  0.0\n",
      "\n",
      "\n",
      " Exter Cond has high percentage of a single value\n",
      "TA    1769\n",
      "Gd     214\n",
      "Fa      41\n",
      "Ex       7\n",
      "Po       1\n",
      "Name: Exter Cond, dtype: int64\n",
      "Percentage single value: 87.06\n",
      "nulls:  0.0\n",
      "\n",
      "\n",
      " Bsmt Cond has high percentage of a single value\n",
      "TA    1873\n",
      "Gd      89\n",
      "Fa      62\n",
      "Po       5\n",
      "Ex       3\n",
      "Name: Bsmt Cond, dtype: int64\n",
      "Percentage single value: 92.18\n",
      "nulls:  0.0\n",
      "\n",
      "\n",
      " BsmtFin Type 2 has high percentage of a single value\n",
      "Unf    1786\n",
      "Rec      80\n",
      "LwQ      60\n",
      "BLQ      48\n",
      "ALQ      35\n",
      "GLQ      23\n",
      "Name: BsmtFin Type 2, dtype: int64\n",
      "Percentage single value: 87.89\n",
      "nulls:  0.0\n",
      "\n",
      "\n",
      " Heating has high percentage of a single value\n",
      "GasA    2002\n",
      "GasW      20\n",
      "Wall       5\n",
      "Grav       3\n",
      "OthW       2\n",
      "Name: Heating, dtype: int64\n",
      "Percentage single value: 98.52\n",
      "nulls:  0.0\n",
      "\n",
      "\n",
      " Central Air has high percentage of a single value\n",
      "Y    1907\n",
      "N     125\n",
      "Name: Central Air, dtype: int64\n",
      "Percentage single value: 93.85\n",
      "nulls:  0.0\n",
      "\n",
      "\n",
      " Electrical has high percentage of a single value\n",
      "SBrkr    1858\n",
      "FuseA     133\n",
      "FuseF      33\n",
      "FuseP       7\n",
      "Mix         1\n",
      "Name: Electrical, dtype: int64\n",
      "Percentage single value: 91.44\n",
      "nulls:  0.0\n",
      "\n",
      "\n",
      " Functional has high percentage of a single value\n",
      "Typ     1902\n",
      "Min2      42\n",
      "Min1      41\n",
      "Mod       27\n",
      "Maj1      12\n",
      "Maj2       6\n",
      "Sev        2\n",
      "Name: Functional, dtype: int64\n",
      "Percentage single value: 93.6\n",
      "nulls:  0.0\n",
      "\n",
      "\n",
      " Garage Qual has high percentage of a single value\n",
      "TA    1930\n",
      "Fa      79\n",
      "Gd      18\n",
      "Ex       3\n",
      "Po       2\n",
      "Name: Garage Qual, dtype: int64\n",
      "Percentage single value: 94.98\n",
      "nulls:  0.0\n",
      "\n",
      "\n",
      " Garage Cond has high percentage of a single value\n",
      "TA    1969\n",
      "Fa      42\n",
      "Gd      12\n",
      "Po       7\n",
      "Ex       2\n",
      "Name: Garage Cond, dtype: int64\n",
      "Percentage single value: 96.9\n",
      "nulls:  0.0\n",
      "\n",
      "\n",
      " Paved Drive has high percentage of a single value\n",
      "Y    1859\n",
      "N     134\n",
      "P      39\n",
      "Name: Paved Drive, dtype: int64\n",
      "Percentage single value: 91.49\n",
      "nulls:  0.0\n",
      "\n",
      "\n",
      " Sale Type has high percentage of a single value\n",
      "WD       1765\n",
      "New       160\n",
      "COD        62\n",
      "ConLD      15\n",
      "CWD        10\n",
      "ConLI       7\n",
      "ConLw       5\n",
      "Con         4\n",
      "Oth         4\n",
      "Name: Sale Type, dtype: int64\n",
      "Percentage single value: 86.86\n",
      "nulls:  0.0\n",
      "\n",
      "\n",
      " BsmtFin SF 2 has high percentage of 0s\n",
      "0.0       1784\n",
      "294.0        5\n",
      "483.0        3\n",
      "72.0         3\n",
      "180.0        3\n",
      "          ... \n",
      "497.0        1\n",
      "211.0        1\n",
      "1474.0       1\n",
      "532.0        1\n",
      "750.0        1\n",
      "Name: BsmtFin SF 2, Length: 206, dtype: int64\n",
      "% 0s: 87.8\n",
      "% nulls:  0.0\n",
      "\n",
      "\n",
      " Low Qual Fin SF has high percentage of 0s\n",
      "0       2000\n",
      "80         3\n",
      "205        2\n",
      "512        1\n",
      "362        1\n",
      "53         1\n",
      "360        1\n",
      "384        1\n",
      "156        1\n",
      "436        1\n",
      "259        1\n",
      "479        1\n",
      "140        1\n",
      "397        1\n",
      "514        1\n",
      "144        1\n",
      "697        1\n",
      "390        1\n",
      "234        1\n",
      "572        1\n",
      "312        1\n",
      "120        1\n",
      "515        1\n",
      "1064       1\n",
      "108        1\n",
      "473        1\n",
      "371        1\n",
      "513        1\n",
      "528        1\n",
      "450        1\n",
      "Name: Low Qual Fin SF, dtype: int64\n",
      "% 0s: 98.43\n",
      "% nulls:  0.0\n",
      "\n",
      "\n",
      " Bsmt Half Bath has high percentage of 0s\n",
      "0.000000    1904\n",
      "1.000000     122\n",
      "2.000000       4\n",
      "0.064039       2\n",
      "Name: Bsmt Half Bath, dtype: int64\n",
      "% 0s: 93.7\n",
      "% nulls:  0.0\n",
      "\n",
      "\n",
      " Enclosed Porch has high percentage of 0s\n",
      "0      1713\n",
      "112      13\n",
      "96       10\n",
      "40        6\n",
      "216       6\n",
      "       ... \n",
      "145       1\n",
      "50        1\n",
      "26        1\n",
      "109       1\n",
      "67        1\n",
      "Name: Enclosed Porch, Length: 154, dtype: int64\n",
      "% 0s: 84.3\n",
      "% nulls:  0.0\n",
      "\n",
      "\n",
      " 3Ssn Porch has high percentage of 0s\n",
      "0      2006\n",
      "168       3\n",
      "153       3\n",
      "144       2\n",
      "140       1\n",
      "290       1\n",
      "182       1\n",
      "245       1\n",
      "216       1\n",
      "86        1\n",
      "323       1\n",
      "96        1\n",
      "180       1\n",
      "176       1\n",
      "508       1\n",
      "255       1\n",
      "150       1\n",
      "407       1\n",
      "120       1\n",
      "162       1\n",
      "224       1\n",
      "304       1\n",
      "Name: 3Ssn Porch, dtype: int64\n",
      "% 0s: 98.72\n",
      "% nulls:  0.0\n",
      "\n",
      "\n",
      " Screen Porch has high percentage of 0s\n",
      "0      1852\n",
      "144       9\n",
      "168       8\n",
      "192       7\n",
      "180       7\n",
      "       ... \n",
      "110       1\n",
      "227       1\n",
      "196       1\n",
      "111       1\n",
      "190       1\n",
      "Name: Screen Porch, Length: 99, dtype: int64\n",
      "% 0s: 91.14\n",
      "% nulls:  0.0\n",
      "\n",
      "\n",
      " Pool Area has high percentage of 0s\n",
      "0      2023\n",
      "519       1\n",
      "576       1\n",
      "800       1\n",
      "228       1\n",
      "480       1\n",
      "648       1\n",
      "738       1\n",
      "368       1\n",
      "561       1\n",
      "Name: Pool Area, dtype: int64\n",
      "% 0s: 99.56\n",
      "% nulls:  0.0\n",
      "\n",
      "\n",
      " Misc Val has high percentage of 0s\n",
      "0        1969\n",
      "400        12\n",
      "500         8\n",
      "600         6\n",
      "450         5\n",
      "2000        5\n",
      "700         4\n",
      "1200        2\n",
      "3000        2\n",
      "2500        2\n",
      "4500        2\n",
      "1300        1\n",
      "900         1\n",
      "17000       1\n",
      "1500        1\n",
      "800         1\n",
      "6500        1\n",
      "460         1\n",
      "1150        1\n",
      "300         1\n",
      "455         1\n",
      "8300        1\n",
      "12500       1\n",
      "480         1\n",
      "650         1\n",
      "80          1\n",
      "Name: Misc Val, dtype: int64\n",
      "% 0s: 96.9\n",
      "% nulls:  0.0\n",
      "\n",
      "\n",
      " there are 30 Columns to drop\n",
      "['MS Zoning', 'Street', 'Land Contour', 'Utilities', 'Lot Config', 'Land Slope', 'Condition 1', 'Condition 2', 'Bldg Type', 'Roof Style', 'Roof Matl', 'Exter Cond', 'Bsmt Cond', 'BsmtFin Type 2', 'Heating', 'Central Air', 'Electrical', 'Functional', 'Garage Qual', 'Garage Cond', 'Paved Drive', 'Sale Type', 'BsmtFin SF 2', 'Low Qual Fin SF', 'Bsmt Half Bath', 'Enclosed Porch', '3Ssn Porch', 'Screen Porch', 'Pool Area', 'Misc Val']\n"
     ]
    },
    {
     "name": "stderr",
     "output_type": "stream",
     "text": [
      "C:\\Users\\Home\\AppData\\Local\\Temp\\ipykernel_28192\\2688134202.py:7: DeprecationWarning: `np.object` is a deprecated alias for the builtin `object`. To silence this warning, use `object` by itself. Doing this will not modify any behavior and is safe. \n",
      "Deprecated in NumPy 1.20; for more details and guidance: https://numpy.org/devdocs/release/1.20.0-notes.html#deprecations\n",
      "  if df[col].dtypes==np.object:\n",
      "C:\\Users\\Home\\AppData\\Local\\Temp\\ipykernel_28192\\2688134202.py:7: DeprecationWarning: `np.object` is a deprecated alias for the builtin `object`. To silence this warning, use `object` by itself. Doing this will not modify any behavior and is safe. \n",
      "Deprecated in NumPy 1.20; for more details and guidance: https://numpy.org/devdocs/release/1.20.0-notes.html#deprecations\n",
      "  if df[col].dtypes==np.object:\n",
      "C:\\Users\\Home\\AppData\\Local\\Temp\\ipykernel_28192\\2688134202.py:7: DeprecationWarning: `np.object` is a deprecated alias for the builtin `object`. To silence this warning, use `object` by itself. Doing this will not modify any behavior and is safe. \n",
      "Deprecated in NumPy 1.20; for more details and guidance: https://numpy.org/devdocs/release/1.20.0-notes.html#deprecations\n",
      "  if df[col].dtypes==np.object:\n",
      "C:\\Users\\Home\\AppData\\Local\\Temp\\ipykernel_28192\\2688134202.py:7: DeprecationWarning: `np.object` is a deprecated alias for the builtin `object`. To silence this warning, use `object` by itself. Doing this will not modify any behavior and is safe. \n",
      "Deprecated in NumPy 1.20; for more details and guidance: https://numpy.org/devdocs/release/1.20.0-notes.html#deprecations\n",
      "  if df[col].dtypes==np.object:\n",
      "C:\\Users\\Home\\AppData\\Local\\Temp\\ipykernel_28192\\2688134202.py:7: DeprecationWarning: `np.object` is a deprecated alias for the builtin `object`. To silence this warning, use `object` by itself. Doing this will not modify any behavior and is safe. \n",
      "Deprecated in NumPy 1.20; for more details and guidance: https://numpy.org/devdocs/release/1.20.0-notes.html#deprecations\n",
      "  if df[col].dtypes==np.object:\n"
     ]
    },
    {
     "data": {
      "text/plain": [
       "['MS Zoning',\n",
       " 'Street',\n",
       " 'Land Contour',\n",
       " 'Utilities',\n",
       " 'Lot Config',\n",
       " 'Land Slope',\n",
       " 'Condition 1',\n",
       " 'Condition 2',\n",
       " 'Bldg Type',\n",
       " 'Roof Style',\n",
       " 'Roof Matl',\n",
       " 'Exter Cond',\n",
       " 'Bsmt Cond',\n",
       " 'BsmtFin Type 2',\n",
       " 'Heating',\n",
       " 'Central Air',\n",
       " 'Electrical',\n",
       " 'Functional',\n",
       " 'Garage Qual',\n",
       " 'Garage Cond',\n",
       " 'Paved Drive',\n",
       " 'Sale Type',\n",
       " 'BsmtFin SF 2',\n",
       " 'Low Qual Fin SF',\n",
       " 'Bsmt Half Bath',\n",
       " 'Enclosed Porch',\n",
       " '3Ssn Porch',\n",
       " 'Screen Porch',\n",
       " 'Pool Area',\n",
       " 'Misc Val']"
      ]
     },
     "execution_count": 116,
     "metadata": {},
     "output_type": "execute_result"
    }
   ],
   "source": [
    "col_todrop = skewed_columns(df)\n",
    "col_todrop"
   ]
  },
  {
   "cell_type": "code",
   "execution_count": 117,
   "id": "3a4deaf0",
   "metadata": {
    "ExecuteTime": {
     "end_time": "2022-07-12T11:16:35.758918Z",
     "start_time": "2022-07-12T11:16:35.746950Z"
    }
   },
   "outputs": [],
   "source": [
    "def drop_skw_col(df):\n",
    "    df = df.drop([\n",
    "        'MS Zoning', 'Street', 'Land Contour', 'Utilities', 'Lot Config',\n",
    "        'Land Slope', 'Condition 1', 'Condition 2', 'Bldg Type', 'Roof Style',\n",
    "        'Roof Matl', 'Exter Cond', 'Bsmt Cond', 'BsmtFin Type 2', 'Heating',\n",
    "        'Central Air', 'Electrical', 'Functional', 'Garage Qual',\n",
    "        'Garage Cond', 'Paved Drive', 'Sale Type', 'BsmtFin SF 2',\n",
    "        'Low Qual Fin SF', 'Bsmt Half Bath', 'Enclosed Porch', '3Ssn Porch',\n",
    "        'Screen Porch', 'Pool Area', 'Misc Val'],axis = 1)\n",
    "    return df"
   ]
  },
  {
   "cell_type": "code",
   "execution_count": 118,
   "id": "4011218f",
   "metadata": {
    "ExecuteTime": {
     "end_time": "2022-07-12T11:16:35.790832Z",
     "start_time": "2022-07-12T11:16:35.763904Z"
    }
   },
   "outputs": [],
   "source": [
    "df.drop(col_todrop,axis=1,inplace=True)"
   ]
  },
  {
   "cell_type": "markdown",
   "id": "8741b67c",
   "metadata": {},
   "source": [
    "## 3.0 Numerical Feature Analysis"
   ]
  },
  {
   "cell_type": "markdown",
   "id": "7f8eddd4",
   "metadata": {},
   "source": [
    "We will now determine the \"usefullnes\" of the feature by looking at the correlation score\n",
    "when anaylsing correlation, we can only analyse numerical features."
   ]
  },
  {
   "cell_type": "code",
   "execution_count": 119,
   "id": "b05fdf15",
   "metadata": {
    "ExecuteTime": {
     "end_time": "2022-07-12T11:16:35.820751Z",
     "start_time": "2022-07-12T11:16:35.792827Z"
    }
   },
   "outputs": [
    {
     "name": "stdout",
     "output_type": "stream",
     "text": [
      "<class 'pandas.core.frame.DataFrame'>\n",
      "Int64Index: 2032 entries, 0 to 2050\n",
      "Data columns (total 28 columns):\n",
      " #   Column          Non-Null Count  Dtype  \n",
      "---  ------          --------------  -----  \n",
      " 0   MS SubClass     2032 non-null   int64  \n",
      " 1   Lot Area        2032 non-null   int64  \n",
      " 2   Overall Qual    2032 non-null   int64  \n",
      " 3   Overall Cond    2032 non-null   int64  \n",
      " 4   Year Built      2032 non-null   int64  \n",
      " 5   Year Remod/Add  2032 non-null   int64  \n",
      " 6   Mas Vnr Area    2032 non-null   float64\n",
      " 7   BsmtFin SF 1    2032 non-null   float64\n",
      " 8   Bsmt Unf SF     2032 non-null   float64\n",
      " 9   Total Bsmt SF   2032 non-null   float64\n",
      " 10  1st Flr SF      2032 non-null   int64  \n",
      " 11  2nd Flr SF      2032 non-null   int64  \n",
      " 12  Gr Liv Area     2032 non-null   int64  \n",
      " 13  Bsmt Full Bath  2032 non-null   float64\n",
      " 14  Full Bath       2032 non-null   int64  \n",
      " 15  Half Bath       2032 non-null   int64  \n",
      " 16  Bedroom AbvGr   2032 non-null   int64  \n",
      " 17  Kitchen AbvGr   2032 non-null   int64  \n",
      " 18  TotRms AbvGrd   2032 non-null   int64  \n",
      " 19  Fireplaces      2032 non-null   int64  \n",
      " 20  Garage Yr Blt   2032 non-null   float64\n",
      " 21  Garage Cars     2032 non-null   float64\n",
      " 22  Garage Area     2032 non-null   float64\n",
      " 23  Wood Deck SF    2032 non-null   int64  \n",
      " 24  Open Porch SF   2032 non-null   int64  \n",
      " 25  Mo Sold         2032 non-null   int64  \n",
      " 26  Yr Sold         2032 non-null   int64  \n",
      " 27  SalePrice       2032 non-null   float64\n",
      "dtypes: float64(9), int64(19)\n",
      "memory usage: 460.4 KB\n"
     ]
    }
   ],
   "source": [
    "numerics = ['int16', 'int32', 'int64', 'float16', 'float32', 'float64']\n",
    "df_num = df.select_dtypes(include=numerics)\n",
    "df_obj = df.select_dtypes(include='object')\n",
    "df_num.info()"
   ]
  },
  {
   "cell_type": "code",
   "execution_count": 120,
   "id": "f2fced32",
   "metadata": {
    "ExecuteTime": {
     "end_time": "2022-07-12T11:16:35.850673Z",
     "start_time": "2022-07-12T11:16:35.822747Z"
    },
    "scrolled": false
   },
   "outputs": [
    {
     "data": {
      "text/html": [
       "<div>\n",
       "<style scoped>\n",
       "    .dataframe tbody tr th:only-of-type {\n",
       "        vertical-align: middle;\n",
       "    }\n",
       "\n",
       "    .dataframe tbody tr th {\n",
       "        vertical-align: top;\n",
       "    }\n",
       "\n",
       "    .dataframe thead th {\n",
       "        text-align: right;\n",
       "    }\n",
       "</style>\n",
       "<table border=\"1\" class=\"dataframe\">\n",
       "  <thead>\n",
       "    <tr style=\"text-align: right;\">\n",
       "      <th></th>\n",
       "      <th>MS SubClass</th>\n",
       "      <th>Lot Area</th>\n",
       "      <th>Overall Qual</th>\n",
       "      <th>Overall Cond</th>\n",
       "      <th>Year Built</th>\n",
       "      <th>Year Remod/Add</th>\n",
       "      <th>Mas Vnr Area</th>\n",
       "      <th>BsmtFin SF 1</th>\n",
       "      <th>Bsmt Unf SF</th>\n",
       "      <th>Total Bsmt SF</th>\n",
       "      <th>...</th>\n",
       "      <th>TotRms AbvGrd</th>\n",
       "      <th>Fireplaces</th>\n",
       "      <th>Garage Yr Blt</th>\n",
       "      <th>Garage Cars</th>\n",
       "      <th>Garage Area</th>\n",
       "      <th>Wood Deck SF</th>\n",
       "      <th>Open Porch SF</th>\n",
       "      <th>Mo Sold</th>\n",
       "      <th>Yr Sold</th>\n",
       "      <th>SalePrice</th>\n",
       "    </tr>\n",
       "  </thead>\n",
       "  <tbody>\n",
       "    <tr>\n",
       "      <th>0</th>\n",
       "      <td>60</td>\n",
       "      <td>13517</td>\n",
       "      <td>6</td>\n",
       "      <td>8</td>\n",
       "      <td>1976</td>\n",
       "      <td>2005</td>\n",
       "      <td>289.0</td>\n",
       "      <td>533.0</td>\n",
       "      <td>192.0</td>\n",
       "      <td>725.0</td>\n",
       "      <td>...</td>\n",
       "      <td>6</td>\n",
       "      <td>0</td>\n",
       "      <td>1976.0</td>\n",
       "      <td>2.0</td>\n",
       "      <td>475.0</td>\n",
       "      <td>0</td>\n",
       "      <td>44</td>\n",
       "      <td>3</td>\n",
       "      <td>2010</td>\n",
       "      <td>11.779136</td>\n",
       "    </tr>\n",
       "    <tr>\n",
       "      <th>1</th>\n",
       "      <td>60</td>\n",
       "      <td>11492</td>\n",
       "      <td>7</td>\n",
       "      <td>5</td>\n",
       "      <td>1996</td>\n",
       "      <td>1997</td>\n",
       "      <td>132.0</td>\n",
       "      <td>637.0</td>\n",
       "      <td>276.0</td>\n",
       "      <td>913.0</td>\n",
       "      <td>...</td>\n",
       "      <td>8</td>\n",
       "      <td>1</td>\n",
       "      <td>1997.0</td>\n",
       "      <td>2.0</td>\n",
       "      <td>559.0</td>\n",
       "      <td>0</td>\n",
       "      <td>74</td>\n",
       "      <td>4</td>\n",
       "      <td>2009</td>\n",
       "      <td>12.301387</td>\n",
       "    </tr>\n",
       "    <tr>\n",
       "      <th>2</th>\n",
       "      <td>20</td>\n",
       "      <td>7922</td>\n",
       "      <td>5</td>\n",
       "      <td>7</td>\n",
       "      <td>1953</td>\n",
       "      <td>2007</td>\n",
       "      <td>0.0</td>\n",
       "      <td>731.0</td>\n",
       "      <td>326.0</td>\n",
       "      <td>1057.0</td>\n",
       "      <td>...</td>\n",
       "      <td>5</td>\n",
       "      <td>0</td>\n",
       "      <td>1953.0</td>\n",
       "      <td>1.0</td>\n",
       "      <td>246.0</td>\n",
       "      <td>0</td>\n",
       "      <td>52</td>\n",
       "      <td>1</td>\n",
       "      <td>2010</td>\n",
       "      <td>11.599112</td>\n",
       "    </tr>\n",
       "    <tr>\n",
       "      <th>3</th>\n",
       "      <td>60</td>\n",
       "      <td>9802</td>\n",
       "      <td>5</td>\n",
       "      <td>5</td>\n",
       "      <td>2006</td>\n",
       "      <td>2007</td>\n",
       "      <td>0.0</td>\n",
       "      <td>0.0</td>\n",
       "      <td>384.0</td>\n",
       "      <td>384.0</td>\n",
       "      <td>...</td>\n",
       "      <td>7</td>\n",
       "      <td>0</td>\n",
       "      <td>2007.0</td>\n",
       "      <td>2.0</td>\n",
       "      <td>400.0</td>\n",
       "      <td>100</td>\n",
       "      <td>0</td>\n",
       "      <td>4</td>\n",
       "      <td>2010</td>\n",
       "      <td>12.066816</td>\n",
       "    </tr>\n",
       "    <tr>\n",
       "      <th>4</th>\n",
       "      <td>50</td>\n",
       "      <td>14235</td>\n",
       "      <td>6</td>\n",
       "      <td>8</td>\n",
       "      <td>1900</td>\n",
       "      <td>1993</td>\n",
       "      <td>0.0</td>\n",
       "      <td>0.0</td>\n",
       "      <td>676.0</td>\n",
       "      <td>676.0</td>\n",
       "      <td>...</td>\n",
       "      <td>6</td>\n",
       "      <td>0</td>\n",
       "      <td>1957.0</td>\n",
       "      <td>2.0</td>\n",
       "      <td>484.0</td>\n",
       "      <td>0</td>\n",
       "      <td>59</td>\n",
       "      <td>3</td>\n",
       "      <td>2010</td>\n",
       "      <td>11.838633</td>\n",
       "    </tr>\n",
       "  </tbody>\n",
       "</table>\n",
       "<p>5 rows × 28 columns</p>\n",
       "</div>"
      ],
      "text/plain": [
       "   MS SubClass  Lot Area  Overall Qual  Overall Cond  Year Built  \\\n",
       "0           60     13517             6             8        1976   \n",
       "1           60     11492             7             5        1996   \n",
       "2           20      7922             5             7        1953   \n",
       "3           60      9802             5             5        2006   \n",
       "4           50     14235             6             8        1900   \n",
       "\n",
       "   Year Remod/Add  Mas Vnr Area  BsmtFin SF 1  Bsmt Unf SF  Total Bsmt SF  \\\n",
       "0            2005         289.0         533.0        192.0          725.0   \n",
       "1            1997         132.0         637.0        276.0          913.0   \n",
       "2            2007           0.0         731.0        326.0         1057.0   \n",
       "3            2007           0.0           0.0        384.0          384.0   \n",
       "4            1993           0.0           0.0        676.0          676.0   \n",
       "\n",
       "   ...  TotRms AbvGrd  Fireplaces  Garage Yr Blt  Garage Cars  Garage Area  \\\n",
       "0  ...              6           0         1976.0          2.0        475.0   \n",
       "1  ...              8           1         1997.0          2.0        559.0   \n",
       "2  ...              5           0         1953.0          1.0        246.0   \n",
       "3  ...              7           0         2007.0          2.0        400.0   \n",
       "4  ...              6           0         1957.0          2.0        484.0   \n",
       "\n",
       "   Wood Deck SF  Open Porch SF  Mo Sold  Yr Sold  SalePrice  \n",
       "0             0             44        3     2010  11.779136  \n",
       "1             0             74        4     2009  12.301387  \n",
       "2             0             52        1     2010  11.599112  \n",
       "3           100              0        4     2010  12.066816  \n",
       "4             0             59        3     2010  11.838633  \n",
       "\n",
       "[5 rows x 28 columns]"
      ]
     },
     "execution_count": 120,
     "metadata": {},
     "output_type": "execute_result"
    }
   ],
   "source": [
    "df_num.head()"
   ]
  },
  {
   "cell_type": "markdown",
   "id": "82218ed2",
   "metadata": {},
   "source": [
    "There seems to be multiple redundant Features in the dataframe, we will now reduce these unnecessary features either by combining them or dropping them as a whole.\n"
   ]
  },
  {
   "cell_type": "code",
   "execution_count": 121,
   "id": "6c63e9fc",
   "metadata": {
    "ExecuteTime": {
     "end_time": "2022-07-12T11:16:35.895552Z",
     "start_time": "2022-07-12T11:16:35.853665Z"
    }
   },
   "outputs": [],
   "source": [
    "def num_col_adddrop(df_num):\n",
    "\n",
    "    #Lets add up all the baths together , with 1 half bath = 0.5\n",
    "    df_num['Half Bath']=df_num['Half Bath'].div(2)\n",
    "    df_num['Bath']=df_num['Half Bath'] + df_num['Full Bath'] + df_num['Bsmt Full Bath']\n",
    "\n",
    "\n",
    "    #Lot area is defined as the total property size, since there are regulation on the lot area that can be used for buildings, \n",
    "    #we will not be using this as a feature, instead we will focus more on livable and non livable area\n",
    "    # non_livable area will be defined as lot area - Gr Liv Area\n",
    "\n",
    "    df_num['Non Liv Area'] = df_num['Lot Area'] - df_num['Gr Liv Area']\n",
    "    num_col_to_drop = ['Lot Area','Wood Deck SF','Open Porch SF','1st Flr SF', '2nd Flr SF','Total Bsmt SF']\n",
    "\n",
    "\n",
    "    #shifting \"SalesPrice\" back to the last row\n",
    "    if 'SalePrice' in df_num:\n",
    "        column_to_move = df_num.pop(\"SalePrice\")\n",
    "        df_num.insert(len(df_num.columns), \"SalePrice\", column_to_move)\n",
    "    \n",
    "    num_col_to_drop = num_col_to_drop  + ['BsmtFin SF 1','Bsmt Unf SF','Bedroom AbvGr', 'Kitchen AbvGr','Half Bath',\n",
    "                       'Full Bath','Bsmt Full Bath','Yr Sold', 'Year Built', 'Garage Yr Blt', 'Mo Sold','Garage Area','Overall Cond']\n",
    "    \n",
    "    df_num =  df_num.drop(num_col_to_drop,axis=1)\n",
    "    \n",
    "    return df_num"
   ]
  },
  {
   "cell_type": "code",
   "execution_count": 122,
   "id": "ee62f39d",
   "metadata": {
    "ExecuteTime": {
     "end_time": "2022-07-12T11:16:35.942426Z",
     "start_time": "2022-07-12T11:16:35.898546Z"
    }
   },
   "outputs": [
    {
     "data": {
      "text/html": [
       "<div>\n",
       "<style scoped>\n",
       "    .dataframe tbody tr th:only-of-type {\n",
       "        vertical-align: middle;\n",
       "    }\n",
       "\n",
       "    .dataframe tbody tr th {\n",
       "        vertical-align: top;\n",
       "    }\n",
       "\n",
       "    .dataframe thead th {\n",
       "        text-align: right;\n",
       "    }\n",
       "</style>\n",
       "<table border=\"1\" class=\"dataframe\">\n",
       "  <thead>\n",
       "    <tr style=\"text-align: right;\">\n",
       "      <th></th>\n",
       "      <th>MS SubClass</th>\n",
       "      <th>Overall Qual</th>\n",
       "      <th>Year Remod/Add</th>\n",
       "      <th>Mas Vnr Area</th>\n",
       "      <th>Gr Liv Area</th>\n",
       "      <th>TotRms AbvGrd</th>\n",
       "      <th>Fireplaces</th>\n",
       "      <th>Garage Cars</th>\n",
       "      <th>Bath</th>\n",
       "      <th>Non Liv Area</th>\n",
       "      <th>SalePrice</th>\n",
       "    </tr>\n",
       "  </thead>\n",
       "  <tbody>\n",
       "    <tr>\n",
       "      <th>0</th>\n",
       "      <td>60</td>\n",
       "      <td>6</td>\n",
       "      <td>2005</td>\n",
       "      <td>289.0</td>\n",
       "      <td>1479</td>\n",
       "      <td>6</td>\n",
       "      <td>0</td>\n",
       "      <td>2.0</td>\n",
       "      <td>2.5</td>\n",
       "      <td>12038</td>\n",
       "      <td>11.779136</td>\n",
       "    </tr>\n",
       "    <tr>\n",
       "      <th>1</th>\n",
       "      <td>60</td>\n",
       "      <td>7</td>\n",
       "      <td>1997</td>\n",
       "      <td>132.0</td>\n",
       "      <td>2122</td>\n",
       "      <td>8</td>\n",
       "      <td>1</td>\n",
       "      <td>2.0</td>\n",
       "      <td>3.5</td>\n",
       "      <td>9370</td>\n",
       "      <td>12.301387</td>\n",
       "    </tr>\n",
       "    <tr>\n",
       "      <th>2</th>\n",
       "      <td>20</td>\n",
       "      <td>5</td>\n",
       "      <td>2007</td>\n",
       "      <td>0.0</td>\n",
       "      <td>1057</td>\n",
       "      <td>5</td>\n",
       "      <td>0</td>\n",
       "      <td>1.0</td>\n",
       "      <td>2.0</td>\n",
       "      <td>6865</td>\n",
       "      <td>11.599112</td>\n",
       "    </tr>\n",
       "    <tr>\n",
       "      <th>3</th>\n",
       "      <td>60</td>\n",
       "      <td>5</td>\n",
       "      <td>2007</td>\n",
       "      <td>0.0</td>\n",
       "      <td>1444</td>\n",
       "      <td>7</td>\n",
       "      <td>0</td>\n",
       "      <td>2.0</td>\n",
       "      <td>2.5</td>\n",
       "      <td>8358</td>\n",
       "      <td>12.066816</td>\n",
       "    </tr>\n",
       "    <tr>\n",
       "      <th>4</th>\n",
       "      <td>50</td>\n",
       "      <td>6</td>\n",
       "      <td>1993</td>\n",
       "      <td>0.0</td>\n",
       "      <td>1445</td>\n",
       "      <td>6</td>\n",
       "      <td>0</td>\n",
       "      <td>2.0</td>\n",
       "      <td>2.0</td>\n",
       "      <td>12790</td>\n",
       "      <td>11.838633</td>\n",
       "    </tr>\n",
       "    <tr>\n",
       "      <th>...</th>\n",
       "      <td>...</td>\n",
       "      <td>...</td>\n",
       "      <td>...</td>\n",
       "      <td>...</td>\n",
       "      <td>...</td>\n",
       "      <td>...</td>\n",
       "      <td>...</td>\n",
       "      <td>...</td>\n",
       "      <td>...</td>\n",
       "      <td>...</td>\n",
       "      <td>...</td>\n",
       "    </tr>\n",
       "    <tr>\n",
       "      <th>2046</th>\n",
       "      <td>20</td>\n",
       "      <td>8</td>\n",
       "      <td>2007</td>\n",
       "      <td>0.0</td>\n",
       "      <td>1728</td>\n",
       "      <td>7</td>\n",
       "      <td>1</td>\n",
       "      <td>2.0</td>\n",
       "      <td>3.0</td>\n",
       "      <td>9721</td>\n",
       "      <td>12.607369</td>\n",
       "    </tr>\n",
       "    <tr>\n",
       "      <th>2047</th>\n",
       "      <td>30</td>\n",
       "      <td>4</td>\n",
       "      <td>1950</td>\n",
       "      <td>0.0</td>\n",
       "      <td>861</td>\n",
       "      <td>4</td>\n",
       "      <td>0</td>\n",
       "      <td>2.0</td>\n",
       "      <td>1.0</td>\n",
       "      <td>11481</td>\n",
       "      <td>11.320566</td>\n",
       "    </tr>\n",
       "    <tr>\n",
       "      <th>2048</th>\n",
       "      <td>50</td>\n",
       "      <td>6</td>\n",
       "      <td>1950</td>\n",
       "      <td>0.0</td>\n",
       "      <td>1913</td>\n",
       "      <td>9</td>\n",
       "      <td>1</td>\n",
       "      <td>2.0</td>\n",
       "      <td>1.5</td>\n",
       "      <td>5645</td>\n",
       "      <td>12.083911</td>\n",
       "    </tr>\n",
       "    <tr>\n",
       "      <th>2049</th>\n",
       "      <td>20</td>\n",
       "      <td>4</td>\n",
       "      <td>1956</td>\n",
       "      <td>0.0</td>\n",
       "      <td>1200</td>\n",
       "      <td>6</td>\n",
       "      <td>2</td>\n",
       "      <td>1.0</td>\n",
       "      <td>2.0</td>\n",
       "      <td>9200</td>\n",
       "      <td>11.877576</td>\n",
       "    </tr>\n",
       "    <tr>\n",
       "      <th>2050</th>\n",
       "      <td>60</td>\n",
       "      <td>7</td>\n",
       "      <td>1999</td>\n",
       "      <td>0.0</td>\n",
       "      <td>1804</td>\n",
       "      <td>7</td>\n",
       "      <td>1</td>\n",
       "      <td>2.0</td>\n",
       "      <td>2.5</td>\n",
       "      <td>5696</td>\n",
       "      <td>12.149508</td>\n",
       "    </tr>\n",
       "  </tbody>\n",
       "</table>\n",
       "<p>2032 rows × 11 columns</p>\n",
       "</div>"
      ],
      "text/plain": [
       "      MS SubClass  Overall Qual  Year Remod/Add  Mas Vnr Area  Gr Liv Area  \\\n",
       "0              60             6            2005         289.0         1479   \n",
       "1              60             7            1997         132.0         2122   \n",
       "2              20             5            2007           0.0         1057   \n",
       "3              60             5            2007           0.0         1444   \n",
       "4              50             6            1993           0.0         1445   \n",
       "...           ...           ...             ...           ...          ...   \n",
       "2046           20             8            2007           0.0         1728   \n",
       "2047           30             4            1950           0.0          861   \n",
       "2048           50             6            1950           0.0         1913   \n",
       "2049           20             4            1956           0.0         1200   \n",
       "2050           60             7            1999           0.0         1804   \n",
       "\n",
       "      TotRms AbvGrd  Fireplaces  Garage Cars  Bath  Non Liv Area  SalePrice  \n",
       "0                 6           0          2.0   2.5         12038  11.779136  \n",
       "1                 8           1          2.0   3.5          9370  12.301387  \n",
       "2                 5           0          1.0   2.0          6865  11.599112  \n",
       "3                 7           0          2.0   2.5          8358  12.066816  \n",
       "4                 6           0          2.0   2.0         12790  11.838633  \n",
       "...             ...         ...          ...   ...           ...        ...  \n",
       "2046              7           1          2.0   3.0          9721  12.607369  \n",
       "2047              4           0          2.0   1.0         11481  11.320566  \n",
       "2048              9           1          2.0   1.5          5645  12.083911  \n",
       "2049              6           2          1.0   2.0          9200  11.877576  \n",
       "2050              7           1          2.0   2.5          5696  12.149508  \n",
       "\n",
       "[2032 rows x 11 columns]"
      ]
     },
     "execution_count": 122,
     "metadata": {},
     "output_type": "execute_result"
    }
   ],
   "source": [
    "df_num = num_col_adddrop(df_num)\n",
    "df_num"
   ]
  },
  {
   "cell_type": "markdown",
   "id": "ff558713",
   "metadata": {
    "ExecuteTime": {
     "end_time": "2022-07-05T15:41:57.915657Z",
     "start_time": "2022-07-05T15:41:57.886645Z"
    }
   },
   "source": [
    "Instead of having multiple years, we will keep only Year Remod/Add since this this will be the same as year built if no remodeling or additions\n",
    "Also we will be dropping the columns 'Mo Sold' as it seems to be unimportant in predicting house prices."
   ]
  },
  {
   "cell_type": "markdown",
   "id": "d37743de",
   "metadata": {},
   "source": [
    "We already have the \"column Garage\" Cars which dictates the Size of the garage based on the number of cars it can fit, so we  will eliminate Garage area given that its already accounted for in Non Liv Area"
   ]
  },
  {
   "cell_type": "code",
   "execution_count": 123,
   "id": "cf32dcb5",
   "metadata": {
    "ExecuteTime": {
     "end_time": "2022-07-12T11:16:35.974341Z",
     "start_time": "2022-07-12T11:16:35.944422Z"
    }
   },
   "outputs": [
    {
     "data": {
      "text/html": [
       "<div>\n",
       "<style scoped>\n",
       "    .dataframe tbody tr th:only-of-type {\n",
       "        vertical-align: middle;\n",
       "    }\n",
       "\n",
       "    .dataframe tbody tr th {\n",
       "        vertical-align: top;\n",
       "    }\n",
       "\n",
       "    .dataframe thead th {\n",
       "        text-align: right;\n",
       "    }\n",
       "</style>\n",
       "<table border=\"1\" class=\"dataframe\">\n",
       "  <thead>\n",
       "    <tr style=\"text-align: right;\">\n",
       "      <th></th>\n",
       "      <th>MS SubClass</th>\n",
       "      <th>Overall Qual</th>\n",
       "      <th>Year Remod/Add</th>\n",
       "      <th>Mas Vnr Area</th>\n",
       "      <th>Gr Liv Area</th>\n",
       "      <th>TotRms AbvGrd</th>\n",
       "      <th>Fireplaces</th>\n",
       "      <th>Garage Cars</th>\n",
       "      <th>Bath</th>\n",
       "      <th>Non Liv Area</th>\n",
       "      <th>SalePrice</th>\n",
       "    </tr>\n",
       "  </thead>\n",
       "  <tbody>\n",
       "    <tr>\n",
       "      <th>MS SubClass</th>\n",
       "      <td>1.000000</td>\n",
       "      <td>0.026699</td>\n",
       "      <td>0.040834</td>\n",
       "      <td>-0.006146</td>\n",
       "      <td>0.062258</td>\n",
       "      <td>0.026775</td>\n",
       "      <td>-0.058438</td>\n",
       "      <td>-0.053362</td>\n",
       "      <td>0.161767</td>\n",
       "      <td>-0.257059</td>\n",
       "      <td>-0.090206</td>\n",
       "    </tr>\n",
       "    <tr>\n",
       "      <th>Overall Qual</th>\n",
       "      <td>0.026699</td>\n",
       "      <td>1.000000</td>\n",
       "      <td>0.577003</td>\n",
       "      <td>0.436104</td>\n",
       "      <td>0.556070</td>\n",
       "      <td>0.368080</td>\n",
       "      <td>0.383472</td>\n",
       "      <td>0.582199</td>\n",
       "      <td>0.533090</td>\n",
       "      <td>0.066157</td>\n",
       "      <td>0.818963</td>\n",
       "    </tr>\n",
       "    <tr>\n",
       "      <th>Year Remod/Add</th>\n",
       "      <td>0.040834</td>\n",
       "      <td>0.577003</td>\n",
       "      <td>1.000000</td>\n",
       "      <td>0.205358</td>\n",
       "      <td>0.311233</td>\n",
       "      <td>0.190552</td>\n",
       "      <td>0.129016</td>\n",
       "      <td>0.433609</td>\n",
       "      <td>0.476206</td>\n",
       "      <td>0.026895</td>\n",
       "      <td>0.597945</td>\n",
       "    </tr>\n",
       "    <tr>\n",
       "      <th>Mas Vnr Area</th>\n",
       "      <td>-0.006146</td>\n",
       "      <td>0.436104</td>\n",
       "      <td>0.205358</td>\n",
       "      <td>1.000000</td>\n",
       "      <td>0.383679</td>\n",
       "      <td>0.268947</td>\n",
       "      <td>0.264617</td>\n",
       "      <td>0.357527</td>\n",
       "      <td>0.309192</td>\n",
       "      <td>0.143029</td>\n",
       "      <td>0.458786</td>\n",
       "    </tr>\n",
       "    <tr>\n",
       "      <th>Gr Liv Area</th>\n",
       "      <td>0.062258</td>\n",
       "      <td>0.556070</td>\n",
       "      <td>0.311233</td>\n",
       "      <td>0.383679</td>\n",
       "      <td>1.000000</td>\n",
       "      <td>0.810919</td>\n",
       "      <td>0.454301</td>\n",
       "      <td>0.478945</td>\n",
       "      <td>0.582205</td>\n",
       "      <td>0.260260</td>\n",
       "      <td>0.693087</td>\n",
       "    </tr>\n",
       "    <tr>\n",
       "      <th>TotRms AbvGrd</th>\n",
       "      <td>0.026775</td>\n",
       "      <td>0.368080</td>\n",
       "      <td>0.190552</td>\n",
       "      <td>0.268947</td>\n",
       "      <td>0.810919</td>\n",
       "      <td>1.000000</td>\n",
       "      <td>0.306325</td>\n",
       "      <td>0.361600</td>\n",
       "      <td>0.420118</td>\n",
       "      <td>0.183533</td>\n",
       "      <td>0.493016</td>\n",
       "    </tr>\n",
       "    <tr>\n",
       "      <th>Fireplaces</th>\n",
       "      <td>-0.058438</td>\n",
       "      <td>0.383472</td>\n",
       "      <td>0.129016</td>\n",
       "      <td>0.264617</td>\n",
       "      <td>0.454301</td>\n",
       "      <td>0.306325</td>\n",
       "      <td>1.000000</td>\n",
       "      <td>0.303404</td>\n",
       "      <td>0.307639</td>\n",
       "      <td>0.261556</td>\n",
       "      <td>0.492333</td>\n",
       "    </tr>\n",
       "    <tr>\n",
       "      <th>Garage Cars</th>\n",
       "      <td>-0.053362</td>\n",
       "      <td>0.582199</td>\n",
       "      <td>0.433609</td>\n",
       "      <td>0.357527</td>\n",
       "      <td>0.478945</td>\n",
       "      <td>0.361600</td>\n",
       "      <td>0.303404</td>\n",
       "      <td>1.000000</td>\n",
       "      <td>0.489783</td>\n",
       "      <td>0.181578</td>\n",
       "      <td>0.677939</td>\n",
       "    </tr>\n",
       "    <tr>\n",
       "      <th>Bath</th>\n",
       "      <td>0.161767</td>\n",
       "      <td>0.533090</td>\n",
       "      <td>0.476206</td>\n",
       "      <td>0.309192</td>\n",
       "      <td>0.582205</td>\n",
       "      <td>0.420118</td>\n",
       "      <td>0.307639</td>\n",
       "      <td>0.489783</td>\n",
       "      <td>1.000000</td>\n",
       "      <td>0.132898</td>\n",
       "      <td>0.658926</td>\n",
       "    </tr>\n",
       "    <tr>\n",
       "      <th>Non Liv Area</th>\n",
       "      <td>-0.257059</td>\n",
       "      <td>0.066157</td>\n",
       "      <td>0.026895</td>\n",
       "      <td>0.143029</td>\n",
       "      <td>0.260260</td>\n",
       "      <td>0.183533</td>\n",
       "      <td>0.261556</td>\n",
       "      <td>0.181578</td>\n",
       "      <td>0.132898</td>\n",
       "      <td>1.000000</td>\n",
       "      <td>0.247350</td>\n",
       "    </tr>\n",
       "    <tr>\n",
       "      <th>SalePrice</th>\n",
       "      <td>-0.090206</td>\n",
       "      <td>0.818963</td>\n",
       "      <td>0.597945</td>\n",
       "      <td>0.458786</td>\n",
       "      <td>0.693087</td>\n",
       "      <td>0.493016</td>\n",
       "      <td>0.492333</td>\n",
       "      <td>0.677939</td>\n",
       "      <td>0.658926</td>\n",
       "      <td>0.247350</td>\n",
       "      <td>1.000000</td>\n",
       "    </tr>\n",
       "  </tbody>\n",
       "</table>\n",
       "</div>"
      ],
      "text/plain": [
       "                MS SubClass  Overall Qual  Year Remod/Add  Mas Vnr Area  \\\n",
       "MS SubClass        1.000000      0.026699        0.040834     -0.006146   \n",
       "Overall Qual       0.026699      1.000000        0.577003      0.436104   \n",
       "Year Remod/Add     0.040834      0.577003        1.000000      0.205358   \n",
       "Mas Vnr Area      -0.006146      0.436104        0.205358      1.000000   \n",
       "Gr Liv Area        0.062258      0.556070        0.311233      0.383679   \n",
       "TotRms AbvGrd      0.026775      0.368080        0.190552      0.268947   \n",
       "Fireplaces        -0.058438      0.383472        0.129016      0.264617   \n",
       "Garage Cars       -0.053362      0.582199        0.433609      0.357527   \n",
       "Bath               0.161767      0.533090        0.476206      0.309192   \n",
       "Non Liv Area      -0.257059      0.066157        0.026895      0.143029   \n",
       "SalePrice         -0.090206      0.818963        0.597945      0.458786   \n",
       "\n",
       "                Gr Liv Area  TotRms AbvGrd  Fireplaces  Garage Cars      Bath  \\\n",
       "MS SubClass        0.062258       0.026775   -0.058438    -0.053362  0.161767   \n",
       "Overall Qual       0.556070       0.368080    0.383472     0.582199  0.533090   \n",
       "Year Remod/Add     0.311233       0.190552    0.129016     0.433609  0.476206   \n",
       "Mas Vnr Area       0.383679       0.268947    0.264617     0.357527  0.309192   \n",
       "Gr Liv Area        1.000000       0.810919    0.454301     0.478945  0.582205   \n",
       "TotRms AbvGrd      0.810919       1.000000    0.306325     0.361600  0.420118   \n",
       "Fireplaces         0.454301       0.306325    1.000000     0.303404  0.307639   \n",
       "Garage Cars        0.478945       0.361600    0.303404     1.000000  0.489783   \n",
       "Bath               0.582205       0.420118    0.307639     0.489783  1.000000   \n",
       "Non Liv Area       0.260260       0.183533    0.261556     0.181578  0.132898   \n",
       "SalePrice          0.693087       0.493016    0.492333     0.677939  0.658926   \n",
       "\n",
       "                Non Liv Area  SalePrice  \n",
       "MS SubClass        -0.257059  -0.090206  \n",
       "Overall Qual        0.066157   0.818963  \n",
       "Year Remod/Add      0.026895   0.597945  \n",
       "Mas Vnr Area        0.143029   0.458786  \n",
       "Gr Liv Area         0.260260   0.693087  \n",
       "TotRms AbvGrd       0.183533   0.493016  \n",
       "Fireplaces          0.261556   0.492333  \n",
       "Garage Cars         0.181578   0.677939  \n",
       "Bath                0.132898   0.658926  \n",
       "Non Liv Area        1.000000   0.247350  \n",
       "SalePrice           0.247350   1.000000  "
      ]
     },
     "execution_count": 123,
     "metadata": {},
     "output_type": "execute_result"
    }
   ],
   "source": [
    "df_num.corr()"
   ]
  },
  {
   "cell_type": "code",
   "execution_count": 124,
   "id": "a837916a",
   "metadata": {
    "ExecuteTime": {
     "end_time": "2022-07-12T11:16:36.207744Z",
     "start_time": "2022-07-12T11:16:35.977334Z"
    },
    "scrolled": false
   },
   "outputs": [
    {
     "data": {
      "image/png": "[encoded data removed]",
      "text/plain": [
       "<Figure size 432x288 with 2 Axes>"
      ]
     },
     "metadata": {
      "needs_background": "light"
     },
     "output_type": "display_data"
    }
   ],
   "source": [
    "corrmat = df_num.corr()\n",
    "g = sns.heatmap(df_num.corr())"
   ]
  },
  {
   "cell_type": "markdown",
   "id": "09d24005",
   "metadata": {},
   "source": [
    "Among all the columns we will be selecting the more important ones which have correlation greater than 55% with our target variable SalePrice."
   ]
  },
  {
   "cell_type": "code",
   "execution_count": 125,
   "id": "a2722893",
   "metadata": {
    "ExecuteTime": {
     "end_time": "2022-07-12T11:16:36.512205Z",
     "start_time": "2022-07-12T11:16:36.210713Z"
    },
    "scrolled": false
   },
   "outputs": [
    {
     "data": {
      "image/png": "[encoded data removed]",
      "text/plain": [
       "<Figure size 432x288 with 2 Axes>"
      ]
     },
     "metadata": {
      "needs_background": "light"
     },
     "output_type": "display_data"
    }
   ],
   "source": [
    "T_corr = corrmat.index[abs(corrmat['SalePrice']) > 0.55]\n",
    "g = sns.heatmap(df_num[T_corr].corr(), annot=True, cmap=\"RdYlGn\")"
   ]
  },
  {
   "cell_type": "markdown",
   "id": "40de005b",
   "metadata": {},
   "source": [
    "#### From the above heatmap, we now know that 'Overall Qual', 'Year Remod/Add', 'Gr Liv Area', 'Garage Cars' & 'Bath' are the 5 most important features in the numerical columns with high correlation against SalePrice.  \n",
    "These are the columns we want to keep."
   ]
  },
  {
   "cell_type": "code",
   "execution_count": 126,
   "id": "a865d81d",
   "metadata": {
    "ExecuteTime": {
     "end_time": "2022-07-12T11:16:36.543017Z",
     "start_time": "2022-07-12T11:16:36.514096Z"
    }
   },
   "outputs": [
    {
     "data": {
      "text/html": [
       "<div>\n",
       "<style scoped>\n",
       "    .dataframe tbody tr th:only-of-type {\n",
       "        vertical-align: middle;\n",
       "    }\n",
       "\n",
       "    .dataframe tbody tr th {\n",
       "        vertical-align: top;\n",
       "    }\n",
       "\n",
       "    .dataframe thead th {\n",
       "        text-align: right;\n",
       "    }\n",
       "</style>\n",
       "<table border=\"1\" class=\"dataframe\">\n",
       "  <thead>\n",
       "    <tr style=\"text-align: right;\">\n",
       "      <th></th>\n",
       "      <th>Lot Shape</th>\n",
       "      <th>Neighborhood</th>\n",
       "      <th>House Style</th>\n",
       "      <th>Exterior 1st</th>\n",
       "      <th>Exterior 2nd</th>\n",
       "      <th>Mas Vnr Type</th>\n",
       "      <th>Exter Qual</th>\n",
       "      <th>Foundation</th>\n",
       "      <th>Bsmt Qual</th>\n",
       "      <th>Bsmt Exposure</th>\n",
       "      <th>...</th>\n",
       "      <th>Overall Qual</th>\n",
       "      <th>Year Remod/Add</th>\n",
       "      <th>Mas Vnr Area</th>\n",
       "      <th>Gr Liv Area</th>\n",
       "      <th>TotRms AbvGrd</th>\n",
       "      <th>Fireplaces</th>\n",
       "      <th>Garage Cars</th>\n",
       "      <th>Bath</th>\n",
       "      <th>Non Liv Area</th>\n",
       "      <th>SalePrice</th>\n",
       "    </tr>\n",
       "  </thead>\n",
       "  <tbody>\n",
       "    <tr>\n",
       "      <th>0</th>\n",
       "      <td>IR1</td>\n",
       "      <td>Sawyer</td>\n",
       "      <td>2Story</td>\n",
       "      <td>HdBoard</td>\n",
       "      <td>Plywood</td>\n",
       "      <td>BrkFace</td>\n",
       "      <td>Gd</td>\n",
       "      <td>CBlock</td>\n",
       "      <td>TA</td>\n",
       "      <td>No</td>\n",
       "      <td>...</td>\n",
       "      <td>6</td>\n",
       "      <td>2005</td>\n",
       "      <td>289.0</td>\n",
       "      <td>1479</td>\n",
       "      <td>6</td>\n",
       "      <td>0</td>\n",
       "      <td>2.0</td>\n",
       "      <td>2.5</td>\n",
       "      <td>12038</td>\n",
       "      <td>11.779136</td>\n",
       "    </tr>\n",
       "    <tr>\n",
       "      <th>1</th>\n",
       "      <td>IR1</td>\n",
       "      <td>SawyerW</td>\n",
       "      <td>2Story</td>\n",
       "      <td>VinylSd</td>\n",
       "      <td>VinylSd</td>\n",
       "      <td>BrkFace</td>\n",
       "      <td>Gd</td>\n",
       "      <td>PConc</td>\n",
       "      <td>Gd</td>\n",
       "      <td>No</td>\n",
       "      <td>...</td>\n",
       "      <td>7</td>\n",
       "      <td>1997</td>\n",
       "      <td>132.0</td>\n",
       "      <td>2122</td>\n",
       "      <td>8</td>\n",
       "      <td>1</td>\n",
       "      <td>2.0</td>\n",
       "      <td>3.5</td>\n",
       "      <td>9370</td>\n",
       "      <td>12.301387</td>\n",
       "    </tr>\n",
       "    <tr>\n",
       "      <th>2</th>\n",
       "      <td>Reg</td>\n",
       "      <td>NAmes</td>\n",
       "      <td>1Story</td>\n",
       "      <td>VinylSd</td>\n",
       "      <td>VinylSd</td>\n",
       "      <td>None</td>\n",
       "      <td>TA</td>\n",
       "      <td>CBlock</td>\n",
       "      <td>TA</td>\n",
       "      <td>No</td>\n",
       "      <td>...</td>\n",
       "      <td>5</td>\n",
       "      <td>2007</td>\n",
       "      <td>0.0</td>\n",
       "      <td>1057</td>\n",
       "      <td>5</td>\n",
       "      <td>0</td>\n",
       "      <td>1.0</td>\n",
       "      <td>2.0</td>\n",
       "      <td>6865</td>\n",
       "      <td>11.599112</td>\n",
       "    </tr>\n",
       "    <tr>\n",
       "      <th>3</th>\n",
       "      <td>Reg</td>\n",
       "      <td>Timber</td>\n",
       "      <td>2Story</td>\n",
       "      <td>VinylSd</td>\n",
       "      <td>VinylSd</td>\n",
       "      <td>None</td>\n",
       "      <td>TA</td>\n",
       "      <td>PConc</td>\n",
       "      <td>Gd</td>\n",
       "      <td>No</td>\n",
       "      <td>...</td>\n",
       "      <td>5</td>\n",
       "      <td>2007</td>\n",
       "      <td>0.0</td>\n",
       "      <td>1444</td>\n",
       "      <td>7</td>\n",
       "      <td>0</td>\n",
       "      <td>2.0</td>\n",
       "      <td>2.5</td>\n",
       "      <td>8358</td>\n",
       "      <td>12.066816</td>\n",
       "    </tr>\n",
       "    <tr>\n",
       "      <th>4</th>\n",
       "      <td>IR1</td>\n",
       "      <td>SawyerW</td>\n",
       "      <td>1.5Fin</td>\n",
       "      <td>Wd Sdng</td>\n",
       "      <td>Plywood</td>\n",
       "      <td>None</td>\n",
       "      <td>TA</td>\n",
       "      <td>PConc</td>\n",
       "      <td>Fa</td>\n",
       "      <td>No</td>\n",
       "      <td>...</td>\n",
       "      <td>6</td>\n",
       "      <td>1993</td>\n",
       "      <td>0.0</td>\n",
       "      <td>1445</td>\n",
       "      <td>6</td>\n",
       "      <td>0</td>\n",
       "      <td>2.0</td>\n",
       "      <td>2.0</td>\n",
       "      <td>12790</td>\n",
       "      <td>11.838633</td>\n",
       "    </tr>\n",
       "  </tbody>\n",
       "</table>\n",
       "<p>5 rows × 27 columns</p>\n",
       "</div>"
      ],
      "text/plain": [
       "  Lot Shape Neighborhood House Style Exterior 1st Exterior 2nd Mas Vnr Type  \\\n",
       "0       IR1       Sawyer      2Story      HdBoard      Plywood      BrkFace   \n",
       "1       IR1      SawyerW      2Story      VinylSd      VinylSd      BrkFace   \n",
       "2       Reg        NAmes      1Story      VinylSd      VinylSd         None   \n",
       "3       Reg       Timber      2Story      VinylSd      VinylSd         None   \n",
       "4       IR1      SawyerW      1.5Fin      Wd Sdng      Plywood         None   \n",
       "\n",
       "  Exter Qual Foundation Bsmt Qual Bsmt Exposure  ... Overall Qual  \\\n",
       "0         Gd     CBlock        TA            No  ...            6   \n",
       "1         Gd      PConc        Gd            No  ...            7   \n",
       "2         TA     CBlock        TA            No  ...            5   \n",
       "3         TA      PConc        Gd            No  ...            5   \n",
       "4         TA      PConc        Fa            No  ...            6   \n",
       "\n",
       "  Year Remod/Add Mas Vnr Area Gr Liv Area TotRms AbvGrd Fireplaces  \\\n",
       "0           2005        289.0        1479             6          0   \n",
       "1           1997        132.0        2122             8          1   \n",
       "2           2007          0.0        1057             5          0   \n",
       "3           2007          0.0        1444             7          0   \n",
       "4           1993          0.0        1445             6          0   \n",
       "\n",
       "   Garage Cars  Bath  Non Liv Area  SalePrice  \n",
       "0          2.0   2.5         12038  11.779136  \n",
       "1          2.0   3.5          9370  12.301387  \n",
       "2          1.0   2.0          6865  11.599112  \n",
       "3          2.0   2.5          8358  12.066816  \n",
       "4          2.0   2.0         12790  11.838633  \n",
       "\n",
       "[5 rows x 27 columns]"
      ]
     },
     "execution_count": 126,
     "metadata": {},
     "output_type": "execute_result"
    }
   ],
   "source": [
    "df = pd.concat([df_obj,df_num], axis=1)\n",
    "df.head()"
   ]
  },
  {
   "cell_type": "markdown",
   "id": "90d3dbf0",
   "metadata": {},
   "source": [
    "### 3.1 Outlier Detection"
   ]
  },
  {
   "cell_type": "markdown",
   "id": "b43ff59e",
   "metadata": {},
   "source": [
    "We will determine the outliers against the top 5 features based on Correlation score.  \n",
    "1) 'Overall Qual',  \n",
    "2) 'Gr Liv Area',   \n",
    "3) 'Garage Cars',   \n",
    "4) 'Garage Area',  \n",
    "5) 'Total Bsmt SF'"
   ]
  },
  {
   "cell_type": "code",
   "execution_count": 127,
   "id": "ada6bc37",
   "metadata": {
    "ExecuteTime": {
     "end_time": "2022-07-12T11:16:36.558046Z",
     "start_time": "2022-07-12T11:16:36.550998Z"
    }
   },
   "outputs": [],
   "source": [
    "def outliertreatment(datacolumn):\n",
    "    #sorted(datacolumn)\n",
    "    Q1,Q3 = np.percentile(datacolumn , [25,75])\n",
    "    IQR = Q3 - Q1\n",
    "    lower_range = Q1 - (1.5 * IQR)\n",
    "    upper_range = Q3 + (1.5 * IQR)\n",
    "    return print(f\" Lower range is {lower_range},\\n Upper range is {upper_range}\")"
   ]
  },
  {
   "cell_type": "code",
   "execution_count": 128,
   "id": "ff65f935",
   "metadata": {
    "ExecuteTime": {
     "end_time": "2022-07-12T11:16:36.588996Z",
     "start_time": "2022-07-12T11:16:36.560037Z"
    }
   },
   "outputs": [
    {
     "data": {
      "text/plain": [
       "(2032, 27)"
      ]
     },
     "execution_count": 128,
     "metadata": {},
     "output_type": "execute_result"
    }
   ],
   "source": [
    "df.shape"
   ]
  },
  {
   "cell_type": "markdown",
   "id": "52143d2e",
   "metadata": {
    "ExecuteTime": {
     "end_time": "2022-06-28T15:54:15.055121Z",
     "start_time": "2022-06-28T15:54:15.045149Z"
    }
   },
   "source": [
    "### 3.1.1 Overall Qual"
   ]
  },
  {
   "cell_type": "code",
   "execution_count": 129,
   "id": "fdca9add",
   "metadata": {
    "ExecuteTime": {
     "end_time": "2022-07-12T11:16:36.787466Z",
     "start_time": "2022-07-12T11:16:36.589994Z"
    },
    "scrolled": true
   },
   "outputs": [
    {
     "data": {
      "image/png": "[encoded data removed]",
      "text/plain": [
       "<Figure size 432x288 with 1 Axes>"
      ]
     },
     "metadata": {
      "needs_background": "light"
     },
     "output_type": "display_data"
    }
   ],
   "source": [
    "#First lets analyse'Overall Qual\n",
    "sns.boxplot(y='SalePrice', x='Overall Qual',data=df)\n",
    "plt.xticks(rotation=90)\n",
    "plt.ylabel('Price ($)');"
   ]
  },
  {
   "cell_type": "code",
   "execution_count": 130,
   "id": "3c653264",
   "metadata": {
    "ExecuteTime": {
     "end_time": "2022-07-12T11:16:36.865260Z",
     "start_time": "2022-07-12T11:16:36.788463Z"
    },
    "scrolled": true
   },
   "outputs": [
    {
     "data": {
      "image/png": "[encoded data removed]",
      "text/plain": [
       "<Figure size 432x288 with 1 Axes>"
      ]
     },
     "metadata": {
      "needs_background": "light"
     },
     "output_type": "display_data"
    }
   ],
   "source": [
    "sns.boxplot(y='Overall Qual',data=df)\n",
    "plt.xticks(rotation=90);"
   ]
  },
  {
   "cell_type": "code",
   "execution_count": 131,
   "id": "bbd50637",
   "metadata": {
    "ExecuteTime": {
     "end_time": "2022-07-12T11:16:36.880219Z",
     "start_time": "2022-07-12T11:16:36.867254Z"
    }
   },
   "outputs": [
    {
     "name": "stdout",
     "output_type": "stream",
     "text": [
      " Lower range is 2.0,\n",
      " Upper range is 10.0\n"
     ]
    }
   ],
   "source": [
    "outliertreatment(df['Overall Qual'])"
   ]
  },
  {
   "cell_type": "markdown",
   "id": "648f6db2",
   "metadata": {},
   "source": [
    "the outlier \"1\" has been removed"
   ]
  },
  {
   "cell_type": "markdown",
   "id": "387ec43d",
   "metadata": {
    "ExecuteTime": {
     "end_time": "2022-06-28T15:42:14.471444Z",
     "start_time": "2022-06-28T15:42:14.459482Z"
    }
   },
   "source": [
    "###  3.1.2 Next we look at 'Gr Liv Area'"
   ]
  },
  {
   "cell_type": "markdown",
   "id": "52b385a3",
   "metadata": {},
   "source": [
    "#### Let try now with scatter plot"
   ]
  },
  {
   "cell_type": "code",
   "execution_count": 132,
   "id": "3c308443",
   "metadata": {
    "ExecuteTime": {
     "end_time": "2022-07-12T11:16:36.957012Z",
     "start_time": "2022-07-12T11:16:36.882213Z"
    },
    "scrolled": true
   },
   "outputs": [
    {
     "data": {
      "image/png": "[encoded data removed]",
      "text/plain": [
       "<Figure size 432x288 with 1 Axes>"
      ]
     },
     "metadata": {
      "needs_background": "light"
     },
     "output_type": "display_data"
    }
   ],
   "source": [
    "sns.boxplot(y='Gr Liv Area',data=df)\n",
    "plt.xticks(rotation=90);"
   ]
  },
  {
   "cell_type": "markdown",
   "id": "f307d040",
   "metadata": {},
   "source": [
    "Looks like using scatterplot to manually determine the outlier isn't accurate enough, lets stick to boxplot."
   ]
  },
  {
   "cell_type": "code",
   "execution_count": 133,
   "id": "7f03f91f",
   "metadata": {
    "ExecuteTime": {
     "end_time": "2022-07-12T11:16:36.972379Z",
     "start_time": "2022-07-12T11:16:36.959009Z"
    },
    "scrolled": false
   },
   "outputs": [
    {
     "name": "stdout",
     "output_type": "stream",
     "text": [
      " Lower range is 251.125,\n",
      " Upper range is 2622.125\n"
     ]
    }
   ],
   "source": [
    "outliertreatment(df['Gr Liv Area'])"
   ]
  },
  {
   "cell_type": "markdown",
   "id": "5a883354",
   "metadata": {},
   "source": [
    "#### Looks like its easier to use boxplot, we will be using boxplot for the remaining features"
   ]
  },
  {
   "cell_type": "markdown",
   "id": "dcae104d",
   "metadata": {},
   "source": [
    "###  3.1.3 Next we look at 'Garage Cars'"
   ]
  },
  {
   "cell_type": "code",
   "execution_count": 134,
   "id": "b1fc440b",
   "metadata": {
    "ExecuteTime": {
     "end_time": "2022-07-12T11:16:37.065107Z",
     "start_time": "2022-07-12T11:16:36.973350Z"
    },
    "scrolled": true
   },
   "outputs": [
    {
     "data": {
      "image/png": "[encoded data removed]",
      "text/plain": [
       "<Figure size 432x288 with 1 Axes>"
      ]
     },
     "metadata": {
      "needs_background": "light"
     },
     "output_type": "display_data"
    }
   ],
   "source": [
    "sns.boxplot(y='Garage Cars',data=df)\n",
    "plt.xticks(rotation=90);"
   ]
  },
  {
   "cell_type": "markdown",
   "id": "cdb06898",
   "metadata": {
    "ExecuteTime": {
     "end_time": "2022-06-29T14:40:42.820329Z",
     "start_time": "2022-06-29T14:40:42.813320Z"
    }
   },
   "source": [
    "Seems like the outlier is after value 3, lets run it through the function outliertreatment"
   ]
  },
  {
   "cell_type": "code",
   "execution_count": 135,
   "id": "722a609c",
   "metadata": {
    "ExecuteTime": {
     "end_time": "2022-07-12T11:16:37.081062Z",
     "start_time": "2022-07-12T11:16:37.068098Z"
    },
    "scrolled": false
   },
   "outputs": [
    {
     "name": "stdout",
     "output_type": "stream",
     "text": [
      " Lower range is -0.5,\n",
      " Upper range is 3.5\n"
     ]
    }
   ],
   "source": [
    "outliertreatment(df['Garage Cars'])"
   ]
  },
  {
   "cell_type": "markdown",
   "id": "5293a59e",
   "metadata": {},
   "source": [
    "###  3.1.4  'Year Remod/Add' Column"
   ]
  },
  {
   "cell_type": "code",
   "execution_count": 136,
   "id": "2a3ee3e2",
   "metadata": {
    "ExecuteTime": {
     "end_time": "2022-07-12T11:16:37.202738Z",
     "start_time": "2022-07-12T11:16:37.085053Z"
    }
   },
   "outputs": [
    {
     "data": {
      "image/png": "[encoded data removed]",
      "text/plain": [
       "<Figure size 432x288 with 1 Axes>"
      ]
     },
     "metadata": {
      "needs_background": "light"
     },
     "output_type": "display_data"
    }
   ],
   "source": [
    "sns.boxplot(y='Year Remod/Add',data=df)\n",
    "plt.xticks(rotation=90);\n"
   ]
  },
  {
   "cell_type": "code",
   "execution_count": 137,
   "id": "0a05fcce",
   "metadata": {
    "ExecuteTime": {
     "end_time": "2022-07-12T11:16:37.217697Z",
     "start_time": "2022-07-12T11:16:37.204733Z"
    },
    "scrolled": false
   },
   "outputs": [
    {
     "name": "stdout",
     "output_type": "stream",
     "text": [
      " Lower range is 1906.5,\n",
      " Upper range is 2062.5\n"
     ]
    }
   ],
   "source": [
    "outliertreatment(df['Year Remod/Add'])"
   ]
  },
  {
   "cell_type": "markdown",
   "id": "b3b1c554",
   "metadata": {},
   "source": [
    "###  3.1.5  Outlier detection for 'Bath' "
   ]
  },
  {
   "cell_type": "code",
   "execution_count": 138,
   "id": "7f5d216a",
   "metadata": {
    "ExecuteTime": {
     "end_time": "2022-07-12T11:16:37.308454Z",
     "start_time": "2022-07-12T11:16:37.221687Z"
    }
   },
   "outputs": [
    {
     "data": {
      "image/png": "[encoded data removed]",
      "text/plain": [
       "<Figure size 432x288 with 1 Axes>"
      ]
     },
     "metadata": {
      "needs_background": "light"
     },
     "output_type": "display_data"
    }
   ],
   "source": [
    "sns.boxplot(y='Bath',data=df)\n",
    "plt.xticks(rotation=90);"
   ]
  },
  {
   "cell_type": "code",
   "execution_count": 139,
   "id": "55e46856",
   "metadata": {
    "ExecuteTime": {
     "end_time": "2022-07-12T11:16:37.324012Z",
     "start_time": "2022-07-12T11:16:37.310450Z"
    },
    "scrolled": false
   },
   "outputs": [
    {
     "name": "stdout",
     "output_type": "stream",
     "text": [
      " Lower range is 1.25,\n",
      " Upper range is 3.25\n"
     ]
    }
   ],
   "source": [
    "outliertreatment(df['Bath'])"
   ]
  },
  {
   "cell_type": "markdown",
   "id": "9c22528e",
   "metadata": {},
   "source": [
    "### 3.1.6 Outlier removal"
   ]
  },
  {
   "cell_type": "code",
   "execution_count": 140,
   "id": "0c445dbc",
   "metadata": {
    "ExecuteTime": {
     "end_time": "2022-07-12T11:16:37.353931Z",
     "start_time": "2022-07-12T11:16:37.327002Z"
    }
   },
   "outputs": [],
   "source": [
    "df.drop(df[(df['Overall Qual']<2) | (df['Overall Qual']>10)].index,inplace=True)\n",
    "df.drop(df[(df['Gr Liv Area']<251.125) | (df['Gr Liv Area']>2622.125)].index,inplace=True)\n",
    "df.drop(df[(df['Garage Cars']<-0.5) | (df['Garage Cars']>3.5)].index,inplace=True)\n",
    "df.drop(df[(df['Year Remod/Add']<1906.5) | (df['Year Remod/Add']>2062.5)].index,inplace=True)\n",
    "df.drop(df[(df['Bath']<1.25) | (df['Bath']>3.25)].index,inplace=True)\n"
   ]
  },
  {
   "cell_type": "code",
   "execution_count": 141,
   "id": "369692df",
   "metadata": {
    "ExecuteTime": {
     "end_time": "2022-07-12T11:16:37.368891Z",
     "start_time": "2022-07-12T11:16:37.355926Z"
    }
   },
   "outputs": [
    {
     "data": {
      "text/plain": [
       "(1428, 27)"
      ]
     },
     "execution_count": 141,
     "metadata": {},
     "output_type": "execute_result"
    }
   ],
   "source": [
    "df.shape"
   ]
  },
  {
   "cell_type": "code",
   "execution_count": 142,
   "id": "2a4036aa",
   "metadata": {
    "ExecuteTime": {
     "end_time": "2022-07-12T11:16:37.399810Z",
     "start_time": "2022-07-12T11:16:37.371886Z"
    }
   },
   "outputs": [
    {
     "data": {
      "text/html": [
       "<div>\n",
       "<style scoped>\n",
       "    .dataframe tbody tr th:only-of-type {\n",
       "        vertical-align: middle;\n",
       "    }\n",
       "\n",
       "    .dataframe tbody tr th {\n",
       "        vertical-align: top;\n",
       "    }\n",
       "\n",
       "    .dataframe thead th {\n",
       "        text-align: right;\n",
       "    }\n",
       "</style>\n",
       "<table border=\"1\" class=\"dataframe\">\n",
       "  <thead>\n",
       "    <tr style=\"text-align: right;\">\n",
       "      <th></th>\n",
       "      <th>Lot Shape</th>\n",
       "      <th>Neighborhood</th>\n",
       "      <th>House Style</th>\n",
       "      <th>Exterior 1st</th>\n",
       "      <th>Exterior 2nd</th>\n",
       "      <th>Mas Vnr Type</th>\n",
       "      <th>Exter Qual</th>\n",
       "      <th>Foundation</th>\n",
       "      <th>Bsmt Qual</th>\n",
       "      <th>Bsmt Exposure</th>\n",
       "      <th>...</th>\n",
       "      <th>Overall Qual</th>\n",
       "      <th>Year Remod/Add</th>\n",
       "      <th>Mas Vnr Area</th>\n",
       "      <th>Gr Liv Area</th>\n",
       "      <th>TotRms AbvGrd</th>\n",
       "      <th>Fireplaces</th>\n",
       "      <th>Garage Cars</th>\n",
       "      <th>Bath</th>\n",
       "      <th>Non Liv Area</th>\n",
       "      <th>SalePrice</th>\n",
       "    </tr>\n",
       "  </thead>\n",
       "  <tbody>\n",
       "    <tr>\n",
       "      <th>0</th>\n",
       "      <td>IR1</td>\n",
       "      <td>Sawyer</td>\n",
       "      <td>2Story</td>\n",
       "      <td>HdBoard</td>\n",
       "      <td>Plywood</td>\n",
       "      <td>BrkFace</td>\n",
       "      <td>Gd</td>\n",
       "      <td>CBlock</td>\n",
       "      <td>TA</td>\n",
       "      <td>No</td>\n",
       "      <td>...</td>\n",
       "      <td>6</td>\n",
       "      <td>2005</td>\n",
       "      <td>289.0</td>\n",
       "      <td>1479</td>\n",
       "      <td>6</td>\n",
       "      <td>0</td>\n",
       "      <td>2.0</td>\n",
       "      <td>2.5</td>\n",
       "      <td>12038</td>\n",
       "      <td>11.779136</td>\n",
       "    </tr>\n",
       "    <tr>\n",
       "      <th>2</th>\n",
       "      <td>Reg</td>\n",
       "      <td>NAmes</td>\n",
       "      <td>1Story</td>\n",
       "      <td>VinylSd</td>\n",
       "      <td>VinylSd</td>\n",
       "      <td>None</td>\n",
       "      <td>TA</td>\n",
       "      <td>CBlock</td>\n",
       "      <td>TA</td>\n",
       "      <td>No</td>\n",
       "      <td>...</td>\n",
       "      <td>5</td>\n",
       "      <td>2007</td>\n",
       "      <td>0.0</td>\n",
       "      <td>1057</td>\n",
       "      <td>5</td>\n",
       "      <td>0</td>\n",
       "      <td>1.0</td>\n",
       "      <td>2.0</td>\n",
       "      <td>6865</td>\n",
       "      <td>11.599112</td>\n",
       "    </tr>\n",
       "    <tr>\n",
       "      <th>3</th>\n",
       "      <td>Reg</td>\n",
       "      <td>Timber</td>\n",
       "      <td>2Story</td>\n",
       "      <td>VinylSd</td>\n",
       "      <td>VinylSd</td>\n",
       "      <td>None</td>\n",
       "      <td>TA</td>\n",
       "      <td>PConc</td>\n",
       "      <td>Gd</td>\n",
       "      <td>No</td>\n",
       "      <td>...</td>\n",
       "      <td>5</td>\n",
       "      <td>2007</td>\n",
       "      <td>0.0</td>\n",
       "      <td>1444</td>\n",
       "      <td>7</td>\n",
       "      <td>0</td>\n",
       "      <td>2.0</td>\n",
       "      <td>2.5</td>\n",
       "      <td>8358</td>\n",
       "      <td>12.066816</td>\n",
       "    </tr>\n",
       "    <tr>\n",
       "      <th>4</th>\n",
       "      <td>IR1</td>\n",
       "      <td>SawyerW</td>\n",
       "      <td>1.5Fin</td>\n",
       "      <td>Wd Sdng</td>\n",
       "      <td>Plywood</td>\n",
       "      <td>None</td>\n",
       "      <td>TA</td>\n",
       "      <td>PConc</td>\n",
       "      <td>Fa</td>\n",
       "      <td>No</td>\n",
       "      <td>...</td>\n",
       "      <td>6</td>\n",
       "      <td>1993</td>\n",
       "      <td>0.0</td>\n",
       "      <td>1445</td>\n",
       "      <td>6</td>\n",
       "      <td>0</td>\n",
       "      <td>2.0</td>\n",
       "      <td>2.0</td>\n",
       "      <td>12790</td>\n",
       "      <td>11.838633</td>\n",
       "    </tr>\n",
       "    <tr>\n",
       "      <th>5</th>\n",
       "      <td>IR1</td>\n",
       "      <td>NAmes</td>\n",
       "      <td>1Story</td>\n",
       "      <td>BrkFace</td>\n",
       "      <td>Plywood</td>\n",
       "      <td>None</td>\n",
       "      <td>Gd</td>\n",
       "      <td>CBlock</td>\n",
       "      <td>TA</td>\n",
       "      <td>No</td>\n",
       "      <td>...</td>\n",
       "      <td>6</td>\n",
       "      <td>2002</td>\n",
       "      <td>0.0</td>\n",
       "      <td>1888</td>\n",
       "      <td>6</td>\n",
       "      <td>1</td>\n",
       "      <td>2.0</td>\n",
       "      <td>2.5</td>\n",
       "      <td>14604</td>\n",
       "      <td>12.154785</td>\n",
       "    </tr>\n",
       "  </tbody>\n",
       "</table>\n",
       "<p>5 rows × 27 columns</p>\n",
       "</div>"
      ],
      "text/plain": [
       "  Lot Shape Neighborhood House Style Exterior 1st Exterior 2nd Mas Vnr Type  \\\n",
       "0       IR1       Sawyer      2Story      HdBoard      Plywood      BrkFace   \n",
       "2       Reg        NAmes      1Story      VinylSd      VinylSd         None   \n",
       "3       Reg       Timber      2Story      VinylSd      VinylSd         None   \n",
       "4       IR1      SawyerW      1.5Fin      Wd Sdng      Plywood         None   \n",
       "5       IR1        NAmes      1Story      BrkFace      Plywood         None   \n",
       "\n",
       "  Exter Qual Foundation Bsmt Qual Bsmt Exposure  ... Overall Qual  \\\n",
       "0         Gd     CBlock        TA            No  ...            6   \n",
       "2         TA     CBlock        TA            No  ...            5   \n",
       "3         TA      PConc        Gd            No  ...            5   \n",
       "4         TA      PConc        Fa            No  ...            6   \n",
       "5         Gd     CBlock        TA            No  ...            6   \n",
       "\n",
       "  Year Remod/Add Mas Vnr Area Gr Liv Area TotRms AbvGrd Fireplaces  \\\n",
       "0           2005        289.0        1479             6          0   \n",
       "2           2007          0.0        1057             5          0   \n",
       "3           2007          0.0        1444             7          0   \n",
       "4           1993          0.0        1445             6          0   \n",
       "5           2002          0.0        1888             6          1   \n",
       "\n",
       "   Garage Cars  Bath  Non Liv Area  SalePrice  \n",
       "0          2.0   2.5         12038  11.779136  \n",
       "2          1.0   2.0          6865  11.599112  \n",
       "3          2.0   2.5          8358  12.066816  \n",
       "4          2.0   2.0         12790  11.838633  \n",
       "5          2.0   2.5         14604  12.154785  \n",
       "\n",
       "[5 rows x 27 columns]"
      ]
     },
     "execution_count": 142,
     "metadata": {},
     "output_type": "execute_result"
    }
   ],
   "source": [
    "df.head()"
   ]
  },
  {
   "cell_type": "markdown",
   "id": "a979b496",
   "metadata": {},
   "source": [
    "### 4.0 Handling Categorical data"
   ]
  },
  {
   "cell_type": "markdown",
   "id": "2c359d34",
   "metadata": {
    "ExecuteTime": {
     "end_time": "2022-07-06T10:28:14.360332Z",
     "start_time": "2022-07-06T10:28:14.346370Z"
    }
   },
   "source": [
    "There are 2 types of categorical data noted in this dataset.  \n",
    "1. Nominal  - Labels\n",
    "2. Ordinal  - Ranks categories in order\n",
    "\n",
    "![](images/normord.png)  \n",
    "  \n",
    "We will have to engineer these 2 types separately.    \n",
    "\n",
    "Nominal data classifies data purely by labeling or naming values and can logically be processed using one hot encoding as the labels do have a ranking e.g. \"red\" is not better than \"blue\"  \n",
    "\n",
    "As for Ordinal data, we need to consider the hierarchical nature of this data, hence we will need to assign values to it.  \n",
    "e.g. T Shirt size S,M,L can be encoded as 0,1,2 respectively."
   ]
  },
  {
   "cell_type": "code",
   "execution_count": 143,
   "id": "6392da4b",
   "metadata": {
    "ExecuteTime": {
     "end_time": "2022-07-12T11:16:37.414772Z",
     "start_time": "2022-07-12T11:16:37.402803Z"
    }
   },
   "outputs": [],
   "source": [
    "#split out the columns by cateogorical\n",
    "df_num = df.select_dtypes(include=numerics)\n",
    "df_obj = df.select_dtypes(include='object')\n"
   ]
  },
  {
   "cell_type": "code",
   "execution_count": 144,
   "id": "950cf998",
   "metadata": {
    "ExecuteTime": {
     "end_time": "2022-07-12T11:16:38.665652Z",
     "start_time": "2022-07-12T11:16:37.416763Z"
    }
   },
   "outputs": [
    {
     "data": {
      "image/png": "[encoded data removed]",
      "text/plain": [
       "<Figure size 1152x576 with 8 Axes>"
      ]
     },
     "metadata": {
      "needs_background": "light"
     },
     "output_type": "display_data"
    }
   ],
   "source": [
    "fig, ax = plt.subplots(nrows=2, ncols=4, figsize=(16,8))\n",
    "engineered_feature = ['Neighborhood','Exterior 1st','Exterior 2nd','Mas Vnr Type','Foundation','Garage Type','Garage Finish']\n",
    "for i in range(len(engineered_feature)):\n",
    "    row = int(i/4)\n",
    "    col = i%4\n",
    "    sns.histplot(x=df_obj[engineered_feature[i]], ax=ax[row, col])"
   ]
  },
  {
   "cell_type": "markdown",
   "id": "4518066e",
   "metadata": {},
   "source": [
    "Let create a function called cat_encoder that encodes the categories accordingly"
   ]
  },
  {
   "cell_type": "code",
   "execution_count": 145,
   "id": "350007a5",
   "metadata": {
    "ExecuteTime": {
     "end_time": "2022-07-12T11:16:38.697570Z",
     "start_time": "2022-07-12T11:16:38.667647Z"
    }
   },
   "outputs": [],
   "source": [
    "def cat_encoder(df_obj):\n",
    "    df_obj_nominal = df_obj[['Neighborhood','Exterior 1st','Exterior 2nd','Mas Vnr Type','Foundation','Garage Type','Garage Finish']]\n",
    "    df_obj_ordinal = df_obj.drop(df_obj_nominal.columns, axis =1)\n",
    "    \n",
    "    \n",
    "    #encode Lot shape\n",
    "    df_obj_ordinal['Lot Shape'] = df_obj_ordinal['Lot Shape'].apply(lambda x: '1' if 'IR3' in x else x)\n",
    "    df_obj_ordinal['Lot Shape'] = df_obj_ordinal['Lot Shape'].apply(lambda x: '2' if 'IR2' in x else x)\n",
    "    df_obj_ordinal['Lot Shape'] = df_obj_ordinal['Lot Shape'].apply(lambda x: '3' if 'IR1' in x else x)\n",
    "    df_obj_ordinal['Lot Shape'] = df_obj_ordinal['Lot Shape'].apply(lambda x: '4' if 'Reg' in x else x)\n",
    "    df_obj_ordinal['Lot Shape'] = df_obj_ordinal['Lot Shape'].astype(int)\n",
    "    \n",
    "\n",
    "    #encode House Style\n",
    "    df_obj_ordinal['House Style'] = df_obj_ordinal['House Style'].apply(lambda x: '1' if '1Story' in x else x)\n",
    "    df_obj_ordinal['House Style'] = df_obj_ordinal['House Style'].apply(lambda x: '2' if '1.5Unf' in x else x)\n",
    "    df_obj_ordinal['House Style'] = df_obj_ordinal['House Style'].apply(lambda x: '3' if '1.5Fin' in x else x)\n",
    "    df_obj_ordinal['House Style'] = df_obj_ordinal['House Style'].apply(lambda x: '4' if '2Story' in x else x)    \n",
    "    df_obj_ordinal['House Style'] = df_obj_ordinal['House Style'].apply(lambda x: '5' if '2.5Unf' in x else x)    \n",
    "    df_obj_ordinal['House Style'] = df_obj_ordinal['House Style'].apply(lambda x: '6' if '2.5Fin' in x else x)    \n",
    "    df_obj_ordinal['House Style'] = df_obj_ordinal['House Style'].apply(lambda x: '7' if 'SFoyer' in x else x)    \n",
    "    df_obj_ordinal['House Style'] = df_obj_ordinal['House Style'].apply(lambda x: '8' if 'SLvl' in x else x) \n",
    "    df_obj_ordinal['House Style'] = df_obj_ordinal['House Style'].astype(int)\n",
    "    \n",
    "    \n",
    "    #encode Exter Qual    \n",
    "    df_obj_ordinal['Exter Qual'] = df_obj_ordinal['Exter Qual'].apply(lambda x: '1' if 'Po' in x else x)\n",
    "    df_obj_ordinal['Exter Qual'] = df_obj_ordinal['Exter Qual'].apply(lambda x: '2' if 'Fa' in x else x)\n",
    "    df_obj_ordinal['Exter Qual'] = df_obj_ordinal['Exter Qual'].apply(lambda x: '3' if 'TA' in x else x)\n",
    "    df_obj_ordinal['Exter Qual'] = df_obj_ordinal['Exter Qual'].apply(lambda x: '4' if 'Gd' in x else x)\n",
    "    df_obj_ordinal['Exter Qual'] = df_obj_ordinal['Exter Qual'].apply(lambda x: '5' if 'Ex' in x else x)  \n",
    "    df_obj_ordinal['Exter Qual'] = df_obj_ordinal['Exter Qual'].astype(int)\n",
    "    \n",
    "    \n",
    "    #encode Bsmt Qual        \n",
    "    df_obj_ordinal['Bsmt Qual'] = df_obj_ordinal['Bsmt Qual'].apply(lambda x: '0' if 'NA' in x else x)\n",
    "    df_obj_ordinal['Bsmt Qual'] = df_obj_ordinal['Bsmt Qual'].apply(lambda x: '1' if 'Po' in x else x)\n",
    "    df_obj_ordinal['Bsmt Qual'] = df_obj_ordinal['Bsmt Qual'].apply(lambda x: '2' if 'Fa' in x else x)\n",
    "    df_obj_ordinal['Bsmt Qual'] = df_obj_ordinal['Bsmt Qual'].apply(lambda x: '3' if 'TA' in x else x)    \n",
    "    df_obj_ordinal['Bsmt Qual'] = df_obj_ordinal['Bsmt Qual'].apply(lambda x: '4' if 'Gd' in x else x)    \n",
    "    df_obj_ordinal['Bsmt Qual'] = df_obj_ordinal['Bsmt Qual'].apply(lambda x: '5' if 'Ex' in x else x) \n",
    "    df_obj_ordinal['Bsmt Qual'] = df_obj_ordinal['Bsmt Qual'].astype(int)    \n",
    "    \n",
    "    \n",
    "    #encode Bsmt Exposure   \n",
    "    df_obj_ordinal['Bsmt Exposure'] = df_obj_ordinal['Bsmt Exposure'].apply(lambda x: '0' if 'NA' in x else x)\n",
    "    df_obj_ordinal['Bsmt Exposure'] = df_obj_ordinal['Bsmt Exposure'].apply(lambda x: '1' if 'No' in x else x)\n",
    "    df_obj_ordinal['Bsmt Exposure'] = df_obj_ordinal['Bsmt Exposure'].apply(lambda x: '2' if 'Mn' in x else x)\n",
    "    df_obj_ordinal['Bsmt Exposure'] = df_obj_ordinal['Bsmt Exposure'].apply(lambda x: '3' if 'Av' in x else x)    \n",
    "    df_obj_ordinal['Bsmt Exposure'] = df_obj_ordinal['Bsmt Exposure'].apply(lambda x: '4' if 'Gd' in x else x)    \n",
    "    df_obj_ordinal['Bsmt Exposure'] = df_obj_ordinal['Bsmt Exposure'].astype(int)     \n",
    "    \n",
    "    \n",
    "    #BsmtFin Type 1\n",
    "    df_obj_ordinal['BsmtFin Type 1'] = df_obj_ordinal['BsmtFin Type 1'].apply(lambda x: '0' if 'NA' in x else x)\n",
    "    df_obj_ordinal['BsmtFin Type 1'] = df_obj_ordinal['BsmtFin Type 1'].apply(lambda x: '1' if 'Unf' in x else x)\n",
    "    df_obj_ordinal['BsmtFin Type 1'] = df_obj_ordinal['BsmtFin Type 1'].apply(lambda x: '2' if 'LwQ' in x else x)\n",
    "    df_obj_ordinal['BsmtFin Type 1'] = df_obj_ordinal['BsmtFin Type 1'].apply(lambda x: '3' if 'Rec' in x else x)    \n",
    "    df_obj_ordinal['BsmtFin Type 1'] = df_obj_ordinal['BsmtFin Type 1'].apply(lambda x: '4' if 'BLQ' in x else x)\n",
    "    df_obj_ordinal['BsmtFin Type 1'] = df_obj_ordinal['BsmtFin Type 1'].apply(lambda x: '5' if 'ALQ' in x else x)    \n",
    "    df_obj_ordinal['BsmtFin Type 1'] = df_obj_ordinal['BsmtFin Type 1'].apply(lambda x: '6' if 'GLQ' in x else x)   \n",
    "    df_obj_ordinal['BsmtFin Type 1'] = df_obj_ordinal['BsmtFin Type 1'].astype(int) \n",
    "    \n",
    "    \n",
    "    #Heating QC \n",
    "    df_obj_ordinal['Heating QC'] = df_obj_ordinal['Heating QC'].apply(lambda x: '1' if 'Po' in x else x)\n",
    "    df_obj_ordinal['Heating QC'] = df_obj_ordinal['Heating QC'].apply(lambda x: '2' if 'Fa' in x else x)\n",
    "    df_obj_ordinal['Heating QC'] = df_obj_ordinal['Heating QC'].apply(lambda x: '3' if 'TA' in x else x)    \n",
    "    df_obj_ordinal['Heating QC'] = df_obj_ordinal['Heating QC'].apply(lambda x: '4' if 'Gd' in x else x)\n",
    "    df_obj_ordinal['Heating QC'] = df_obj_ordinal['Heating QC'].apply(lambda x: '5' if 'Ex' in x else x)\n",
    "    df_obj_ordinal['Heating QC'] = df_obj_ordinal['Heating QC'].astype(int)     \n",
    "    \n",
    "    \n",
    "    #Kitchen Qual\n",
    "    df_obj_ordinal['Kitchen Qual'] = df_obj_ordinal['Kitchen Qual'].apply(lambda x: '1' if 'Po' in x else x)\n",
    "    df_obj_ordinal['Kitchen Qual'] = df_obj_ordinal['Kitchen Qual'].apply(lambda x: '2' if 'Fa' in x else x)\n",
    "    df_obj_ordinal['Kitchen Qual'] = df_obj_ordinal['Kitchen Qual'].apply(lambda x: '3' if 'TA' in x else x)    \n",
    "    df_obj_ordinal['Kitchen Qual'] = df_obj_ordinal['Kitchen Qual'].apply(lambda x: '4' if 'Gd' in x else x)\n",
    "    df_obj_ordinal['Kitchen Qual'] = df_obj_ordinal['Kitchen Qual'].apply(lambda x: '5' if 'Ex' in x else x)\n",
    "    df_obj_ordinal['Kitchen Qual'] = df_obj_ordinal['Kitchen Qual'].astype(int)  \n",
    "    \n",
    "    \n",
    "    \n",
    "    #nominal data\n",
    "    df_obj_nominal = pd.get_dummies(df_obj_nominal)\n",
    "    #to ensure the columns are the same\n",
    "    df = pd.concat([df_obj_nominal,df_obj_ordinal], axis=1)\n",
    "    return df\n",
    "    \n",
    "    \n",
    "    \n",
    "    "
   ]
  },
  {
   "cell_type": "code",
   "execution_count": 146,
   "id": "806ebc83",
   "metadata": {
    "ExecuteTime": {
     "end_time": "2022-07-12T11:16:38.744029Z",
     "start_time": "2022-07-12T11:16:38.701557Z"
    },
    "scrolled": true
   },
   "outputs": [],
   "source": [
    "df_obj = cat_encoder(df_obj)"
   ]
  },
  {
   "cell_type": "code",
   "execution_count": 147,
   "id": "eb3f0045",
   "metadata": {
    "ExecuteTime": {
     "end_time": "2022-07-12T11:16:38.775946Z",
     "start_time": "2022-07-12T11:16:38.748021Z"
    }
   },
   "outputs": [
    {
     "data": {
      "text/html": [
       "<div>\n",
       "<style scoped>\n",
       "    .dataframe tbody tr th:only-of-type {\n",
       "        vertical-align: middle;\n",
       "    }\n",
       "\n",
       "    .dataframe tbody tr th {\n",
       "        vertical-align: top;\n",
       "    }\n",
       "\n",
       "    .dataframe thead th {\n",
       "        text-align: right;\n",
       "    }\n",
       "</style>\n",
       "<table border=\"1\" class=\"dataframe\">\n",
       "  <thead>\n",
       "    <tr style=\"text-align: right;\">\n",
       "      <th></th>\n",
       "      <th>Neighborhood_Blmngtn</th>\n",
       "      <th>Neighborhood_Blueste</th>\n",
       "      <th>Neighborhood_BrDale</th>\n",
       "      <th>Neighborhood_BrkSide</th>\n",
       "      <th>Neighborhood_ClearCr</th>\n",
       "      <th>Neighborhood_CollgCr</th>\n",
       "      <th>Neighborhood_Crawfor</th>\n",
       "      <th>Neighborhood_Edwards</th>\n",
       "      <th>Neighborhood_Gilbert</th>\n",
       "      <th>Neighborhood_Greens</th>\n",
       "      <th>...</th>\n",
       "      <th>Overall Qual</th>\n",
       "      <th>Year Remod/Add</th>\n",
       "      <th>Mas Vnr Area</th>\n",
       "      <th>Gr Liv Area</th>\n",
       "      <th>TotRms AbvGrd</th>\n",
       "      <th>Fireplaces</th>\n",
       "      <th>Garage Cars</th>\n",
       "      <th>Bath</th>\n",
       "      <th>Non Liv Area</th>\n",
       "      <th>SalePrice</th>\n",
       "    </tr>\n",
       "  </thead>\n",
       "  <tbody>\n",
       "    <tr>\n",
       "      <th>0</th>\n",
       "      <td>0</td>\n",
       "      <td>0</td>\n",
       "      <td>0</td>\n",
       "      <td>0</td>\n",
       "      <td>0</td>\n",
       "      <td>0</td>\n",
       "      <td>0</td>\n",
       "      <td>0</td>\n",
       "      <td>0</td>\n",
       "      <td>0</td>\n",
       "      <td>...</td>\n",
       "      <td>6</td>\n",
       "      <td>2005</td>\n",
       "      <td>289.0</td>\n",
       "      <td>1479</td>\n",
       "      <td>6</td>\n",
       "      <td>0</td>\n",
       "      <td>2.0</td>\n",
       "      <td>2.5</td>\n",
       "      <td>12038</td>\n",
       "      <td>11.779136</td>\n",
       "    </tr>\n",
       "    <tr>\n",
       "      <th>2</th>\n",
       "      <td>0</td>\n",
       "      <td>0</td>\n",
       "      <td>0</td>\n",
       "      <td>0</td>\n",
       "      <td>0</td>\n",
       "      <td>0</td>\n",
       "      <td>0</td>\n",
       "      <td>0</td>\n",
       "      <td>0</td>\n",
       "      <td>0</td>\n",
       "      <td>...</td>\n",
       "      <td>5</td>\n",
       "      <td>2007</td>\n",
       "      <td>0.0</td>\n",
       "      <td>1057</td>\n",
       "      <td>5</td>\n",
       "      <td>0</td>\n",
       "      <td>1.0</td>\n",
       "      <td>2.0</td>\n",
       "      <td>6865</td>\n",
       "      <td>11.599112</td>\n",
       "    </tr>\n",
       "    <tr>\n",
       "      <th>3</th>\n",
       "      <td>0</td>\n",
       "      <td>0</td>\n",
       "      <td>0</td>\n",
       "      <td>0</td>\n",
       "      <td>0</td>\n",
       "      <td>0</td>\n",
       "      <td>0</td>\n",
       "      <td>0</td>\n",
       "      <td>0</td>\n",
       "      <td>0</td>\n",
       "      <td>...</td>\n",
       "      <td>5</td>\n",
       "      <td>2007</td>\n",
       "      <td>0.0</td>\n",
       "      <td>1444</td>\n",
       "      <td>7</td>\n",
       "      <td>0</td>\n",
       "      <td>2.0</td>\n",
       "      <td>2.5</td>\n",
       "      <td>8358</td>\n",
       "      <td>12.066816</td>\n",
       "    </tr>\n",
       "    <tr>\n",
       "      <th>4</th>\n",
       "      <td>0</td>\n",
       "      <td>0</td>\n",
       "      <td>0</td>\n",
       "      <td>0</td>\n",
       "      <td>0</td>\n",
       "      <td>0</td>\n",
       "      <td>0</td>\n",
       "      <td>0</td>\n",
       "      <td>0</td>\n",
       "      <td>0</td>\n",
       "      <td>...</td>\n",
       "      <td>6</td>\n",
       "      <td>1993</td>\n",
       "      <td>0.0</td>\n",
       "      <td>1445</td>\n",
       "      <td>6</td>\n",
       "      <td>0</td>\n",
       "      <td>2.0</td>\n",
       "      <td>2.0</td>\n",
       "      <td>12790</td>\n",
       "      <td>11.838633</td>\n",
       "    </tr>\n",
       "    <tr>\n",
       "      <th>5</th>\n",
       "      <td>0</td>\n",
       "      <td>0</td>\n",
       "      <td>0</td>\n",
       "      <td>0</td>\n",
       "      <td>0</td>\n",
       "      <td>0</td>\n",
       "      <td>0</td>\n",
       "      <td>0</td>\n",
       "      <td>0</td>\n",
       "      <td>0</td>\n",
       "      <td>...</td>\n",
       "      <td>6</td>\n",
       "      <td>2002</td>\n",
       "      <td>0.0</td>\n",
       "      <td>1888</td>\n",
       "      <td>6</td>\n",
       "      <td>1</td>\n",
       "      <td>2.0</td>\n",
       "      <td>2.5</td>\n",
       "      <td>14604</td>\n",
       "      <td>12.154785</td>\n",
       "    </tr>\n",
       "    <tr>\n",
       "      <th>...</th>\n",
       "      <td>...</td>\n",
       "      <td>...</td>\n",
       "      <td>...</td>\n",
       "      <td>...</td>\n",
       "      <td>...</td>\n",
       "      <td>...</td>\n",
       "      <td>...</td>\n",
       "      <td>...</td>\n",
       "      <td>...</td>\n",
       "      <td>...</td>\n",
       "      <td>...</td>\n",
       "      <td>...</td>\n",
       "      <td>...</td>\n",
       "      <td>...</td>\n",
       "      <td>...</td>\n",
       "      <td>...</td>\n",
       "      <td>...</td>\n",
       "      <td>...</td>\n",
       "      <td>...</td>\n",
       "      <td>...</td>\n",
       "      <td>...</td>\n",
       "    </tr>\n",
       "    <tr>\n",
       "      <th>2045</th>\n",
       "      <td>0</td>\n",
       "      <td>0</td>\n",
       "      <td>0</td>\n",
       "      <td>0</td>\n",
       "      <td>0</td>\n",
       "      <td>0</td>\n",
       "      <td>0</td>\n",
       "      <td>0</td>\n",
       "      <td>0</td>\n",
       "      <td>0</td>\n",
       "      <td>...</td>\n",
       "      <td>8</td>\n",
       "      <td>2008</td>\n",
       "      <td>426.0</td>\n",
       "      <td>1932</td>\n",
       "      <td>7</td>\n",
       "      <td>1</td>\n",
       "      <td>3.0</td>\n",
       "      <td>3.0</td>\n",
       "      <td>10512</td>\n",
       "      <td>12.885673</td>\n",
       "    </tr>\n",
       "    <tr>\n",
       "      <th>2046</th>\n",
       "      <td>0</td>\n",
       "      <td>0</td>\n",
       "      <td>0</td>\n",
       "      <td>0</td>\n",
       "      <td>0</td>\n",
       "      <td>0</td>\n",
       "      <td>0</td>\n",
       "      <td>0</td>\n",
       "      <td>0</td>\n",
       "      <td>0</td>\n",
       "      <td>...</td>\n",
       "      <td>8</td>\n",
       "      <td>2007</td>\n",
       "      <td>0.0</td>\n",
       "      <td>1728</td>\n",
       "      <td>7</td>\n",
       "      <td>1</td>\n",
       "      <td>2.0</td>\n",
       "      <td>3.0</td>\n",
       "      <td>9721</td>\n",
       "      <td>12.607369</td>\n",
       "    </tr>\n",
       "    <tr>\n",
       "      <th>2048</th>\n",
       "      <td>0</td>\n",
       "      <td>0</td>\n",
       "      <td>0</td>\n",
       "      <td>0</td>\n",
       "      <td>0</td>\n",
       "      <td>0</td>\n",
       "      <td>1</td>\n",
       "      <td>0</td>\n",
       "      <td>0</td>\n",
       "      <td>0</td>\n",
       "      <td>...</td>\n",
       "      <td>6</td>\n",
       "      <td>1950</td>\n",
       "      <td>0.0</td>\n",
       "      <td>1913</td>\n",
       "      <td>9</td>\n",
       "      <td>1</td>\n",
       "      <td>2.0</td>\n",
       "      <td>1.5</td>\n",
       "      <td>5645</td>\n",
       "      <td>12.083911</td>\n",
       "    </tr>\n",
       "    <tr>\n",
       "      <th>2049</th>\n",
       "      <td>0</td>\n",
       "      <td>0</td>\n",
       "      <td>0</td>\n",
       "      <td>0</td>\n",
       "      <td>0</td>\n",
       "      <td>0</td>\n",
       "      <td>0</td>\n",
       "      <td>0</td>\n",
       "      <td>0</td>\n",
       "      <td>0</td>\n",
       "      <td>...</td>\n",
       "      <td>4</td>\n",
       "      <td>1956</td>\n",
       "      <td>0.0</td>\n",
       "      <td>1200</td>\n",
       "      <td>6</td>\n",
       "      <td>2</td>\n",
       "      <td>1.0</td>\n",
       "      <td>2.0</td>\n",
       "      <td>9200</td>\n",
       "      <td>11.877576</td>\n",
       "    </tr>\n",
       "    <tr>\n",
       "      <th>2050</th>\n",
       "      <td>0</td>\n",
       "      <td>0</td>\n",
       "      <td>0</td>\n",
       "      <td>0</td>\n",
       "      <td>0</td>\n",
       "      <td>0</td>\n",
       "      <td>0</td>\n",
       "      <td>0</td>\n",
       "      <td>1</td>\n",
       "      <td>0</td>\n",
       "      <td>...</td>\n",
       "      <td>7</td>\n",
       "      <td>1999</td>\n",
       "      <td>0.0</td>\n",
       "      <td>1804</td>\n",
       "      <td>7</td>\n",
       "      <td>1</td>\n",
       "      <td>2.0</td>\n",
       "      <td>2.5</td>\n",
       "      <td>5696</td>\n",
       "      <td>12.149508</td>\n",
       "    </tr>\n",
       "  </tbody>\n",
       "</table>\n",
       "<p>1428 rows × 95 columns</p>\n",
       "</div>"
      ],
      "text/plain": [
       "      Neighborhood_Blmngtn  Neighborhood_Blueste  Neighborhood_BrDale  \\\n",
       "0                        0                     0                    0   \n",
       "2                        0                     0                    0   \n",
       "3                        0                     0                    0   \n",
       "4                        0                     0                    0   \n",
       "5                        0                     0                    0   \n",
       "...                    ...                   ...                  ...   \n",
       "2045                     0                     0                    0   \n",
       "2046                     0                     0                    0   \n",
       "2048                     0                     0                    0   \n",
       "2049                     0                     0                    0   \n",
       "2050                     0                     0                    0   \n",
       "\n",
       "      Neighborhood_BrkSide  Neighborhood_ClearCr  Neighborhood_CollgCr  \\\n",
       "0                        0                     0                     0   \n",
       "2                        0                     0                     0   \n",
       "3                        0                     0                     0   \n",
       "4                        0                     0                     0   \n",
       "5                        0                     0                     0   \n",
       "...                    ...                   ...                   ...   \n",
       "2045                     0                     0                     0   \n",
       "2046                     0                     0                     0   \n",
       "2048                     0                     0                     0   \n",
       "2049                     0                     0                     0   \n",
       "2050                     0                     0                     0   \n",
       "\n",
       "      Neighborhood_Crawfor  Neighborhood_Edwards  Neighborhood_Gilbert  \\\n",
       "0                        0                     0                     0   \n",
       "2                        0                     0                     0   \n",
       "3                        0                     0                     0   \n",
       "4                        0                     0                     0   \n",
       "5                        0                     0                     0   \n",
       "...                    ...                   ...                   ...   \n",
       "2045                     0                     0                     0   \n",
       "2046                     0                     0                     0   \n",
       "2048                     1                     0                     0   \n",
       "2049                     0                     0                     0   \n",
       "2050                     0                     0                     1   \n",
       "\n",
       "      Neighborhood_Greens  ...  Overall Qual  Year Remod/Add  Mas Vnr Area  \\\n",
       "0                       0  ...             6            2005         289.0   \n",
       "2                       0  ...             5            2007           0.0   \n",
       "3                       0  ...             5            2007           0.0   \n",
       "4                       0  ...             6            1993           0.0   \n",
       "5                       0  ...             6            2002           0.0   \n",
       "...                   ...  ...           ...             ...           ...   \n",
       "2045                    0  ...             8            2008         426.0   \n",
       "2046                    0  ...             8            2007           0.0   \n",
       "2048                    0  ...             6            1950           0.0   \n",
       "2049                    0  ...             4            1956           0.0   \n",
       "2050                    0  ...             7            1999           0.0   \n",
       "\n",
       "      Gr Liv Area  TotRms AbvGrd  Fireplaces  Garage Cars  Bath  Non Liv Area  \\\n",
       "0            1479              6           0          2.0   2.5         12038   \n",
       "2            1057              5           0          1.0   2.0          6865   \n",
       "3            1444              7           0          2.0   2.5          8358   \n",
       "4            1445              6           0          2.0   2.0         12790   \n",
       "5            1888              6           1          2.0   2.5         14604   \n",
       "...           ...            ...         ...          ...   ...           ...   \n",
       "2045         1932              7           1          3.0   3.0         10512   \n",
       "2046         1728              7           1          2.0   3.0          9721   \n",
       "2048         1913              9           1          2.0   1.5          5645   \n",
       "2049         1200              6           2          1.0   2.0          9200   \n",
       "2050         1804              7           1          2.0   2.5          5696   \n",
       "\n",
       "      SalePrice  \n",
       "0     11.779136  \n",
       "2     11.599112  \n",
       "3     12.066816  \n",
       "4     11.838633  \n",
       "5     12.154785  \n",
       "...         ...  \n",
       "2045  12.885673  \n",
       "2046  12.607369  \n",
       "2048  12.083911  \n",
       "2049  11.877576  \n",
       "2050  12.149508  \n",
       "\n",
       "[1428 rows x 95 columns]"
      ]
     },
     "execution_count": 147,
     "metadata": {},
     "output_type": "execute_result"
    }
   ],
   "source": [
    "df = pd.concat([df_obj ,df_num], axis=1)\n",
    "df"
   ]
  },
  {
   "cell_type": "markdown",
   "id": "e39dcd25",
   "metadata": {
    "ExecuteTime": {
     "end_time": "2022-06-29T15:30:13.855936Z",
     "start_time": "2022-06-29T15:30:13.825006Z"
    }
   },
   "source": [
    "Now our data is all numerical, we can proceed with our model."
   ]
  },
  {
   "cell_type": "markdown",
   "id": "0b760f6d",
   "metadata": {},
   "source": [
    "### 5.1 Test data preprocessing  \n",
    "Lets not forget to apply encoding on our test file as well"
   ]
  },
  {
   "cell_type": "code",
   "execution_count": 148,
   "id": "90183b8f",
   "metadata": {
    "ExecuteTime": {
     "end_time": "2022-07-12T11:16:38.806863Z",
     "start_time": "2022-07-12T11:16:38.777942Z"
    },
    "scrolled": true
   },
   "outputs": [
    {
     "data": {
      "text/html": [
       "<div>\n",
       "<style scoped>\n",
       "    .dataframe tbody tr th:only-of-type {\n",
       "        vertical-align: middle;\n",
       "    }\n",
       "\n",
       "    .dataframe tbody tr th {\n",
       "        vertical-align: top;\n",
       "    }\n",
       "\n",
       "    .dataframe thead th {\n",
       "        text-align: right;\n",
       "    }\n",
       "</style>\n",
       "<table border=\"1\" class=\"dataframe\">\n",
       "  <thead>\n",
       "    <tr style=\"text-align: right;\">\n",
       "      <th></th>\n",
       "      <th>Id</th>\n",
       "      <th>PID</th>\n",
       "      <th>MS SubClass</th>\n",
       "      <th>MS Zoning</th>\n",
       "      <th>Lot Frontage</th>\n",
       "      <th>Lot Area</th>\n",
       "      <th>Street</th>\n",
       "      <th>Alley</th>\n",
       "      <th>Lot Shape</th>\n",
       "      <th>Land Contour</th>\n",
       "      <th>...</th>\n",
       "      <th>3Ssn Porch</th>\n",
       "      <th>Screen Porch</th>\n",
       "      <th>Pool Area</th>\n",
       "      <th>Pool QC</th>\n",
       "      <th>Fence</th>\n",
       "      <th>Misc Feature</th>\n",
       "      <th>Misc Val</th>\n",
       "      <th>Mo Sold</th>\n",
       "      <th>Yr Sold</th>\n",
       "      <th>Sale Type</th>\n",
       "    </tr>\n",
       "  </thead>\n",
       "  <tbody>\n",
       "    <tr>\n",
       "      <th>0</th>\n",
       "      <td>2658</td>\n",
       "      <td>902301120</td>\n",
       "      <td>190</td>\n",
       "      <td>RM</td>\n",
       "      <td>69.0</td>\n",
       "      <td>9142</td>\n",
       "      <td>Pave</td>\n",
       "      <td>Grvl</td>\n",
       "      <td>Reg</td>\n",
       "      <td>Lvl</td>\n",
       "      <td>...</td>\n",
       "      <td>0</td>\n",
       "      <td>0</td>\n",
       "      <td>0</td>\n",
       "      <td>NaN</td>\n",
       "      <td>NaN</td>\n",
       "      <td>NaN</td>\n",
       "      <td>0</td>\n",
       "      <td>4</td>\n",
       "      <td>2006</td>\n",
       "      <td>WD</td>\n",
       "    </tr>\n",
       "    <tr>\n",
       "      <th>1</th>\n",
       "      <td>2718</td>\n",
       "      <td>905108090</td>\n",
       "      <td>90</td>\n",
       "      <td>RL</td>\n",
       "      <td>NaN</td>\n",
       "      <td>9662</td>\n",
       "      <td>Pave</td>\n",
       "      <td>NaN</td>\n",
       "      <td>IR1</td>\n",
       "      <td>Lvl</td>\n",
       "      <td>...</td>\n",
       "      <td>0</td>\n",
       "      <td>0</td>\n",
       "      <td>0</td>\n",
       "      <td>NaN</td>\n",
       "      <td>NaN</td>\n",
       "      <td>NaN</td>\n",
       "      <td>0</td>\n",
       "      <td>8</td>\n",
       "      <td>2006</td>\n",
       "      <td>WD</td>\n",
       "    </tr>\n",
       "    <tr>\n",
       "      <th>2</th>\n",
       "      <td>2414</td>\n",
       "      <td>528218130</td>\n",
       "      <td>60</td>\n",
       "      <td>RL</td>\n",
       "      <td>58.0</td>\n",
       "      <td>17104</td>\n",
       "      <td>Pave</td>\n",
       "      <td>NaN</td>\n",
       "      <td>IR1</td>\n",
       "      <td>Lvl</td>\n",
       "      <td>...</td>\n",
       "      <td>0</td>\n",
       "      <td>0</td>\n",
       "      <td>0</td>\n",
       "      <td>NaN</td>\n",
       "      <td>NaN</td>\n",
       "      <td>NaN</td>\n",
       "      <td>0</td>\n",
       "      <td>9</td>\n",
       "      <td>2006</td>\n",
       "      <td>New</td>\n",
       "    </tr>\n",
       "    <tr>\n",
       "      <th>3</th>\n",
       "      <td>1989</td>\n",
       "      <td>902207150</td>\n",
       "      <td>30</td>\n",
       "      <td>RM</td>\n",
       "      <td>60.0</td>\n",
       "      <td>8520</td>\n",
       "      <td>Pave</td>\n",
       "      <td>NaN</td>\n",
       "      <td>Reg</td>\n",
       "      <td>Lvl</td>\n",
       "      <td>...</td>\n",
       "      <td>0</td>\n",
       "      <td>0</td>\n",
       "      <td>0</td>\n",
       "      <td>NaN</td>\n",
       "      <td>NaN</td>\n",
       "      <td>NaN</td>\n",
       "      <td>0</td>\n",
       "      <td>7</td>\n",
       "      <td>2007</td>\n",
       "      <td>WD</td>\n",
       "    </tr>\n",
       "    <tr>\n",
       "      <th>4</th>\n",
       "      <td>625</td>\n",
       "      <td>535105100</td>\n",
       "      <td>20</td>\n",
       "      <td>RL</td>\n",
       "      <td>NaN</td>\n",
       "      <td>9500</td>\n",
       "      <td>Pave</td>\n",
       "      <td>NaN</td>\n",
       "      <td>IR1</td>\n",
       "      <td>Lvl</td>\n",
       "      <td>...</td>\n",
       "      <td>0</td>\n",
       "      <td>185</td>\n",
       "      <td>0</td>\n",
       "      <td>NaN</td>\n",
       "      <td>NaN</td>\n",
       "      <td>NaN</td>\n",
       "      <td>0</td>\n",
       "      <td>7</td>\n",
       "      <td>2009</td>\n",
       "      <td>WD</td>\n",
       "    </tr>\n",
       "  </tbody>\n",
       "</table>\n",
       "<p>5 rows × 80 columns</p>\n",
       "</div>"
      ],
      "text/plain": [
       "     Id        PID  MS SubClass MS Zoning  Lot Frontage  Lot Area Street  \\\n",
       "0  2658  902301120          190        RM          69.0      9142   Pave   \n",
       "1  2718  905108090           90        RL           NaN      9662   Pave   \n",
       "2  2414  528218130           60        RL          58.0     17104   Pave   \n",
       "3  1989  902207150           30        RM          60.0      8520   Pave   \n",
       "4   625  535105100           20        RL           NaN      9500   Pave   \n",
       "\n",
       "  Alley Lot Shape Land Contour  ... 3Ssn Porch Screen Porch Pool Area Pool QC  \\\n",
       "0  Grvl       Reg          Lvl  ...          0            0         0     NaN   \n",
       "1   NaN       IR1          Lvl  ...          0            0         0     NaN   \n",
       "2   NaN       IR1          Lvl  ...          0            0         0     NaN   \n",
       "3   NaN       Reg          Lvl  ...          0            0         0     NaN   \n",
       "4   NaN       IR1          Lvl  ...          0          185         0     NaN   \n",
       "\n",
       "  Fence Misc Feature Misc Val Mo Sold  Yr Sold  Sale Type  \n",
       "0   NaN          NaN        0       4     2006        WD   \n",
       "1   NaN          NaN        0       8     2006        WD   \n",
       "2   NaN          NaN        0       9     2006        New  \n",
       "3   NaN          NaN        0       7     2007        WD   \n",
       "4   NaN          NaN        0       7     2009        WD   \n",
       "\n",
       "[5 rows x 80 columns]"
      ]
     },
     "execution_count": 148,
     "metadata": {},
     "output_type": "execute_result"
    }
   ],
   "source": [
    "test_file.head()"
   ]
  },
  {
   "cell_type": "code",
   "execution_count": 149,
   "id": "7e0018f9",
   "metadata": {
    "ExecuteTime": {
     "end_time": "2022-07-12T11:16:38.821853Z",
     "start_time": "2022-07-12T11:16:38.808859Z"
    }
   },
   "outputs": [],
   "source": [
    "#converting MS subclass to string\n",
    "test_file['MSSubClass'] = test_file['MS SubClass'].apply(str)"
   ]
  },
  {
   "cell_type": "code",
   "execution_count": 150,
   "id": "48d66f50",
   "metadata": {
    "ExecuteTime": {
     "end_time": "2022-07-12T11:16:38.898619Z",
     "start_time": "2022-07-12T11:16:38.822821Z"
    }
   },
   "outputs": [],
   "source": [
    "#fill NA function\n",
    "test_file = fill_na(test_file)"
   ]
  },
  {
   "cell_type": "code",
   "execution_count": 151,
   "id": "9ab2a228",
   "metadata": {
    "ExecuteTime": {
     "end_time": "2022-07-12T11:16:38.914575Z",
     "start_time": "2022-07-12T11:16:38.900616Z"
    }
   },
   "outputs": [
    {
     "data": {
      "text/plain": [
       "(878, 43)"
      ]
     },
     "execution_count": 151,
     "metadata": {},
     "output_type": "execute_result"
    }
   ],
   "source": [
    "#drop columns\n",
    "\n",
    "test_file.drop(columns=[\n",
    "    'Pool QC', 'Misc Feature', 'Alley', 'Fence', 'Fireplace Qu',\n",
    "    'Lot Frontage', 'Id','PID'\n",
    "],\n",
    "               inplace=True)\n",
    "\n",
    "test_file = drop_skw_col(test_file)\n",
    "test_file.shape"
   ]
  },
  {
   "cell_type": "code",
   "execution_count": 152,
   "id": "356002d0",
   "metadata": {
    "ExecuteTime": {
     "end_time": "2022-07-12T11:16:38.929537Z",
     "start_time": "2022-07-12T11:16:38.917568Z"
    },
    "scrolled": true
   },
   "outputs": [],
   "source": [
    "test_cat=test_file.select_dtypes(include=['object'])\n",
    "test_num=test_file.select_dtypes(include=['int16', 'int32', 'int64', 'float16', 'float32', 'float64'])\n"
   ]
  },
  {
   "cell_type": "code",
   "execution_count": 153,
   "id": "97904230",
   "metadata": {
    "ExecuteTime": {
     "end_time": "2022-07-12T11:16:38.974415Z",
     "start_time": "2022-07-12T11:16:38.932528Z"
    }
   },
   "outputs": [],
   "source": [
    "#run against function created above\n",
    "\n",
    "test_num = num_col_adddrop(test_num)\n",
    "test_cat = cat_encoder(test_cat)"
   ]
  },
  {
   "cell_type": "code",
   "execution_count": 154,
   "id": "c80a4491",
   "metadata": {
    "ExecuteTime": {
     "end_time": "2022-07-12T11:16:38.989375Z",
     "start_time": "2022-07-12T11:16:38.976410Z"
    },
    "scrolled": true
   },
   "outputs": [
    {
     "data": {
      "text/plain": [
       "(878, 94)"
      ]
     },
     "execution_count": 154,
     "metadata": {},
     "output_type": "execute_result"
    }
   ],
   "source": [
    "test_file=pd.concat([ test_cat, test_num],axis=1)\n",
    "test_file.shape"
   ]
  },
  {
   "cell_type": "code",
   "execution_count": 155,
   "id": "ed5728a3",
   "metadata": {
    "ExecuteTime": {
     "end_time": "2022-07-12T11:16:39.004362Z",
     "start_time": "2022-07-12T11:16:38.990374Z"
    },
    "run_control": {
     "marked": true
    },
    "scrolled": true
   },
   "outputs": [
    {
     "data": {
      "text/plain": [
       "(1428, 95)"
      ]
     },
     "execution_count": 155,
     "metadata": {},
     "output_type": "execute_result"
    }
   ],
   "source": [
    "df.shape"
   ]
  },
  {
   "cell_type": "code",
   "execution_count": 156,
   "id": "f9f6bb41",
   "metadata": {
    "ExecuteTime": {
     "end_time": "2022-07-12T11:16:39.019296Z",
     "start_time": "2022-07-12T11:16:39.006331Z"
    },
    "scrolled": false
   },
   "outputs": [
    {
     "data": {
      "text/plain": [
       "['Exterior 1st_PreCast',\n",
       " 'Exterior 2nd_Other',\n",
       " 'Exterior 2nd_PreCast',\n",
       " 'Mas Vnr Type_CBlock']"
      ]
     },
     "execution_count": 156,
     "metadata": {},
     "output_type": "execute_result"
    }
   ],
   "source": [
    "test_file.columns.difference(df.columns).tolist()"
   ]
  },
  {
   "cell_type": "markdown",
   "id": "255340f8",
   "metadata": {},
   "source": [
    "There seems to be 3 missing columns compared to the main data set.  \n",
    "This can happen because the new dataset has new data foreign to our training set.  \n",
    "To avoid error, we have chosen to ignore the new data.\n",
    "lets reindex the column against our main data"
   ]
  },
  {
   "cell_type": "code",
   "execution_count": 157,
   "id": "a109f291",
   "metadata": {
    "ExecuteTime": {
     "end_time": "2022-07-12T11:16:39.049215Z",
     "start_time": "2022-07-12T11:16:39.022288Z"
    }
   },
   "outputs": [],
   "source": [
    "test_file = test_file.reindex(columns = df.columns, fill_value=0)"
   ]
  },
  {
   "cell_type": "code",
   "execution_count": 158,
   "id": "cc4120a2",
   "metadata": {
    "ExecuteTime": {
     "end_time": "2022-07-12T11:16:39.064203Z",
     "start_time": "2022-07-12T11:16:39.051211Z"
    }
   },
   "outputs": [],
   "source": [
    "test_file = test_file.iloc[: , :-1]"
   ]
  },
  {
   "cell_type": "code",
   "execution_count": 159,
   "id": "34ecb145",
   "metadata": {
    "ExecuteTime": {
     "end_time": "2022-07-12T11:16:39.080134Z",
     "start_time": "2022-07-12T11:16:39.067169Z"
    }
   },
   "outputs": [
    {
     "data": {
      "text/plain": [
       "(878, 94)"
      ]
     },
     "execution_count": 159,
     "metadata": {},
     "output_type": "execute_result"
    }
   ],
   "source": [
    "test_file.shape"
   ]
  },
  {
   "cell_type": "code",
   "execution_count": 160,
   "id": "77d70cef",
   "metadata": {
    "ExecuteTime": {
     "end_time": "2022-07-12T11:16:39.110053Z",
     "start_time": "2022-07-12T11:16:39.083128Z"
    },
    "scrolled": true
   },
   "outputs": [
    {
     "data": {
      "text/html": [
       "<div>\n",
       "<style scoped>\n",
       "    .dataframe tbody tr th:only-of-type {\n",
       "        vertical-align: middle;\n",
       "    }\n",
       "\n",
       "    .dataframe tbody tr th {\n",
       "        vertical-align: top;\n",
       "    }\n",
       "\n",
       "    .dataframe thead th {\n",
       "        text-align: right;\n",
       "    }\n",
       "</style>\n",
       "<table border=\"1\" class=\"dataframe\">\n",
       "  <thead>\n",
       "    <tr style=\"text-align: right;\">\n",
       "      <th></th>\n",
       "      <th>Neighborhood_Blmngtn</th>\n",
       "      <th>Neighborhood_Blueste</th>\n",
       "      <th>Neighborhood_BrDale</th>\n",
       "      <th>Neighborhood_BrkSide</th>\n",
       "      <th>Neighborhood_ClearCr</th>\n",
       "      <th>Neighborhood_CollgCr</th>\n",
       "      <th>Neighborhood_Crawfor</th>\n",
       "      <th>Neighborhood_Edwards</th>\n",
       "      <th>Neighborhood_Gilbert</th>\n",
       "      <th>Neighborhood_Greens</th>\n",
       "      <th>...</th>\n",
       "      <th>MS SubClass</th>\n",
       "      <th>Overall Qual</th>\n",
       "      <th>Year Remod/Add</th>\n",
       "      <th>Mas Vnr Area</th>\n",
       "      <th>Gr Liv Area</th>\n",
       "      <th>TotRms AbvGrd</th>\n",
       "      <th>Fireplaces</th>\n",
       "      <th>Garage Cars</th>\n",
       "      <th>Bath</th>\n",
       "      <th>Non Liv Area</th>\n",
       "    </tr>\n",
       "  </thead>\n",
       "  <tbody>\n",
       "    <tr>\n",
       "      <th>0</th>\n",
       "      <td>0</td>\n",
       "      <td>0</td>\n",
       "      <td>0</td>\n",
       "      <td>0</td>\n",
       "      <td>0</td>\n",
       "      <td>0</td>\n",
       "      <td>0</td>\n",
       "      <td>0</td>\n",
       "      <td>0</td>\n",
       "      <td>0</td>\n",
       "      <td>...</td>\n",
       "      <td>190</td>\n",
       "      <td>6</td>\n",
       "      <td>1950</td>\n",
       "      <td>0.0</td>\n",
       "      <td>1928</td>\n",
       "      <td>9</td>\n",
       "      <td>0</td>\n",
       "      <td>1</td>\n",
       "      <td>2.0</td>\n",
       "      <td>7214</td>\n",
       "    </tr>\n",
       "    <tr>\n",
       "      <th>1</th>\n",
       "      <td>0</td>\n",
       "      <td>0</td>\n",
       "      <td>0</td>\n",
       "      <td>0</td>\n",
       "      <td>0</td>\n",
       "      <td>0</td>\n",
       "      <td>0</td>\n",
       "      <td>0</td>\n",
       "      <td>0</td>\n",
       "      <td>0</td>\n",
       "      <td>...</td>\n",
       "      <td>90</td>\n",
       "      <td>5</td>\n",
       "      <td>1977</td>\n",
       "      <td>0.0</td>\n",
       "      <td>1967</td>\n",
       "      <td>10</td>\n",
       "      <td>0</td>\n",
       "      <td>2</td>\n",
       "      <td>2.0</td>\n",
       "      <td>7695</td>\n",
       "    </tr>\n",
       "    <tr>\n",
       "      <th>2</th>\n",
       "      <td>0</td>\n",
       "      <td>0</td>\n",
       "      <td>0</td>\n",
       "      <td>0</td>\n",
       "      <td>0</td>\n",
       "      <td>0</td>\n",
       "      <td>0</td>\n",
       "      <td>0</td>\n",
       "      <td>1</td>\n",
       "      <td>0</td>\n",
       "      <td>...</td>\n",
       "      <td>60</td>\n",
       "      <td>7</td>\n",
       "      <td>2006</td>\n",
       "      <td>0.0</td>\n",
       "      <td>1496</td>\n",
       "      <td>7</td>\n",
       "      <td>1</td>\n",
       "      <td>2</td>\n",
       "      <td>3.5</td>\n",
       "      <td>15608</td>\n",
       "    </tr>\n",
       "    <tr>\n",
       "      <th>3</th>\n",
       "      <td>0</td>\n",
       "      <td>0</td>\n",
       "      <td>0</td>\n",
       "      <td>0</td>\n",
       "      <td>0</td>\n",
       "      <td>0</td>\n",
       "      <td>0</td>\n",
       "      <td>0</td>\n",
       "      <td>0</td>\n",
       "      <td>0</td>\n",
       "      <td>...</td>\n",
       "      <td>30</td>\n",
       "      <td>5</td>\n",
       "      <td>2006</td>\n",
       "      <td>0.0</td>\n",
       "      <td>968</td>\n",
       "      <td>5</td>\n",
       "      <td>0</td>\n",
       "      <td>2</td>\n",
       "      <td>1.0</td>\n",
       "      <td>7552</td>\n",
       "    </tr>\n",
       "    <tr>\n",
       "      <th>4</th>\n",
       "      <td>0</td>\n",
       "      <td>0</td>\n",
       "      <td>0</td>\n",
       "      <td>0</td>\n",
       "      <td>0</td>\n",
       "      <td>0</td>\n",
       "      <td>0</td>\n",
       "      <td>0</td>\n",
       "      <td>0</td>\n",
       "      <td>0</td>\n",
       "      <td>...</td>\n",
       "      <td>20</td>\n",
       "      <td>6</td>\n",
       "      <td>1963</td>\n",
       "      <td>247.0</td>\n",
       "      <td>1394</td>\n",
       "      <td>6</td>\n",
       "      <td>2</td>\n",
       "      <td>2</td>\n",
       "      <td>2.5</td>\n",
       "      <td>8106</td>\n",
       "    </tr>\n",
       "  </tbody>\n",
       "</table>\n",
       "<p>5 rows × 94 columns</p>\n",
       "</div>"
      ],
      "text/plain": [
       "   Neighborhood_Blmngtn  Neighborhood_Blueste  Neighborhood_BrDale  \\\n",
       "0                     0                     0                    0   \n",
       "1                     0                     0                    0   \n",
       "2                     0                     0                    0   \n",
       "3                     0                     0                    0   \n",
       "4                     0                     0                    0   \n",
       "\n",
       "   Neighborhood_BrkSide  Neighborhood_ClearCr  Neighborhood_CollgCr  \\\n",
       "0                     0                     0                     0   \n",
       "1                     0                     0                     0   \n",
       "2                     0                     0                     0   \n",
       "3                     0                     0                     0   \n",
       "4                     0                     0                     0   \n",
       "\n",
       "   Neighborhood_Crawfor  Neighborhood_Edwards  Neighborhood_Gilbert  \\\n",
       "0                     0                     0                     0   \n",
       "1                     0                     0                     0   \n",
       "2                     0                     0                     1   \n",
       "3                     0                     0                     0   \n",
       "4                     0                     0                     0   \n",
       "\n",
       "   Neighborhood_Greens  ...  MS SubClass  Overall Qual  Year Remod/Add  \\\n",
       "0                    0  ...          190             6            1950   \n",
       "1                    0  ...           90             5            1977   \n",
       "2                    0  ...           60             7            2006   \n",
       "3                    0  ...           30             5            2006   \n",
       "4                    0  ...           20             6            1963   \n",
       "\n",
       "   Mas Vnr Area  Gr Liv Area  TotRms AbvGrd  Fireplaces  Garage Cars  Bath  \\\n",
       "0           0.0         1928              9           0            1   2.0   \n",
       "1           0.0         1967             10           0            2   2.0   \n",
       "2           0.0         1496              7           1            2   3.5   \n",
       "3           0.0          968              5           0            2   1.0   \n",
       "4         247.0         1394              6           2            2   2.5   \n",
       "\n",
       "   Non Liv Area  \n",
       "0          7214  \n",
       "1          7695  \n",
       "2         15608  \n",
       "3          7552  \n",
       "4          8106  \n",
       "\n",
       "[5 rows x 94 columns]"
      ]
     },
     "execution_count": 160,
     "metadata": {},
     "output_type": "execute_result"
    }
   ],
   "source": [
    "test_file.head()"
   ]
  },
  {
   "cell_type": "markdown",
   "id": "1af0ecf1",
   "metadata": {},
   "source": [
    "now we have 96 columns train less \"SalesPrice Column\""
   ]
  },
  {
   "cell_type": "markdown",
   "id": "a4053035",
   "metadata": {
    "ExecuteTime": {
     "end_time": "2022-06-29T15:03:48.904643Z",
     "start_time": "2022-06-29T15:03:48.893674Z"
    }
   },
   "source": [
    "### 5.0 Do Train-Test Split\n",
    "- First, we perform train test split, then we do StandardScaler.  "
   ]
  },
  {
   "cell_type": "code",
   "execution_count": 161,
   "id": "a44f21b3",
   "metadata": {
    "ExecuteTime": {
     "end_time": "2022-07-12T11:16:39.125012Z",
     "start_time": "2022-07-12T11:16:39.113046Z"
    }
   },
   "outputs": [],
   "source": [
    "X = df.iloc[:, :-1]\n",
    "y = df.iloc[:, -1]"
   ]
  },
  {
   "cell_type": "code",
   "execution_count": 162,
   "id": "8dd6d299",
   "metadata": {
    "ExecuteTime": {
     "end_time": "2022-07-12T11:16:39.155578Z",
     "start_time": "2022-07-12T11:16:39.127008Z"
    }
   },
   "outputs": [],
   "source": [
    "# Create train/test splits.\n",
    "X_train, X_test, y_train, y_test = train_test_split(\n",
    "    X,\n",
    "    y,\n",
    "    test_size=0.6,\n",
    "    random_state=51\n",
    ")\n"
   ]
  },
  {
   "cell_type": "code",
   "execution_count": 163,
   "id": "77c896b9",
   "metadata": {
    "ExecuteTime": {
     "end_time": "2022-07-12T11:16:39.171536Z",
     "start_time": "2022-07-12T11:16:39.158571Z"
    }
   },
   "outputs": [
    {
     "name": "stdout",
     "output_type": "stream",
     "text": [
      " X_test shape is (857, 94)\n",
      "y_test shape is (857,)\n",
      "X_train shape is (571, 94)\n",
      " y_train shape is (571,)\n"
     ]
    }
   ],
   "source": [
    "print(f\" X_test shape is {X_test.shape}\")\n",
    "print(f\"y_test shape is {y_test.shape}\")\n",
    "print(f\"X_train shape is {X_train.shape}\")\n",
    "print(f\" y_train shape is {y_train.shape}\")\n"
   ]
  },
  {
   "cell_type": "markdown",
   "id": "8e2d3518",
   "metadata": {},
   "source": [
    "### 5.1 Linear Regression "
   ]
  },
  {
   "cell_type": "code",
   "execution_count": 164,
   "id": "90c1b7b6",
   "metadata": {
    "ExecuteTime": {
     "end_time": "2022-07-12T11:16:39.217413Z",
     "start_time": "2022-07-12T11:16:39.174529Z"
    }
   },
   "outputs": [
    {
     "name": "stdout",
     "output_type": "stream",
     "text": [
      "Linear Regression Train Score is :  0.010200984418233323\n",
      "Linear Regression Test Score is :  0.015319760002897918\n",
      "-50.179231481966134%\n",
      "Linear Regression intercept is :  8.37003247989669\n"
     ]
    }
   ],
   "source": [
    "from sklearn.metrics import mean_squared_error\n",
    "lr = LinearRegression()\n",
    "lr.fit(X_train,y_train)\n",
    "y_train_pred = lr.predict(X_train)\n",
    "y_test_pred = lr.predict(X_test)\n",
    "mse_train = mean_squared_error(y_train, y_train_pred)\n",
    "mse_test = mean_squared_error(y_test, y_test_pred)\n",
    "print('Linear Regression Train Score is : ' , mse_train)\n",
    "print('Linear Regression Test Score is : ' , mse_test)\n",
    "\n",
    "\n",
    "perc_diff = (mse_train - mse_test)/mse_train * 100\n",
    "print( str(perc_diff)+\"%\")\n",
    "print('Linear Regression intercept is : ' , lr.intercept_)\n"
   ]
  },
  {
   "cell_type": "code",
   "execution_count": 165,
   "id": "aa42b5d6",
   "metadata": {
    "ExecuteTime": {
     "end_time": "2022-07-12T11:16:39.232627Z",
     "start_time": "2022-07-12T11:16:39.220408Z"
    }
   },
   "outputs": [],
   "source": [
    "y_pred_linear = lr.predict(X_test)"
   ]
  },
  {
   "cell_type": "code",
   "execution_count": 166,
   "id": "ee0c5196",
   "metadata": {
    "ExecuteTime": {
     "end_time": "2022-07-12T11:16:39.386722Z",
     "start_time": "2022-07-12T11:16:39.234622Z"
    }
   },
   "outputs": [
    {
     "data": {
      "image/png": "[encoded data removed]",
      "text/plain": [
       "<Figure size 576x576 with 1 Axes>"
      ]
     },
     "metadata": {
      "needs_background": "light"
     },
     "output_type": "display_data"
    }
   ],
   "source": [
    "plt.figure(figsize=(8,8))\n",
    "plt.scatter(y_test, y_pred_linear, c='crimson')\n",
    "\n",
    "p1 = max(max(y_pred_linear), max(y_test))\n",
    "p2 = min(min(y_pred_linear), min(y_test))\n",
    "plt.plot([p1, p2], [p1, p2], 'k--', lw=4)\n",
    "plt.xlabel('True Values', fontsize=15)\n",
    "plt.ylabel('Predictions', fontsize=15)\n",
    "plt.axis('equal')\n",
    "plt.show()"
   ]
  },
  {
   "cell_type": "code",
   "execution_count": 167,
   "id": "ed48a364",
   "metadata": {
    "ExecuteTime": {
     "end_time": "2022-07-12T11:16:39.416642Z",
     "start_time": "2022-07-12T11:16:39.388718Z"
    }
   },
   "outputs": [],
   "source": [
    "y_pred_lr = lr.predict(test_file)"
   ]
  },
  {
   "cell_type": "code",
   "execution_count": 168,
   "id": "d81419a6",
   "metadata": {
    "ExecuteTime": {
     "end_time": "2022-07-12T11:16:39.432599Z",
     "start_time": "2022-07-12T11:16:39.417640Z"
    }
   },
   "outputs": [],
   "source": [
    "y_pred_lr = np.expm1(y_pred_lr)"
   ]
  },
  {
   "cell_type": "code",
   "execution_count": 169,
   "id": "befa4156",
   "metadata": {
    "ExecuteTime": {
     "end_time": "2022-07-12T11:16:39.509394Z",
     "start_time": "2022-07-12T11:16:39.435593Z"
    }
   },
   "outputs": [
    {
     "name": "stderr",
     "output_type": "stream",
     "text": [
      "C:\\Users\\Home\\AppData\\Local\\Temp\\ipykernel_28192\\2202729482.py:3: SettingWithCopyWarning: \n",
      "A value is trying to be set on a copy of a slice from a DataFrame.\n",
      "Try using .loc[row_indexer,col_indexer] = value instead\n",
      "\n",
      "See the caveats in the documentation: https://pandas.pydata.org/pandas-docs/stable/user_guide/indexing.html#returning-a-view-versus-a-copy\n",
      "  submission[\"SalePrice\"] = y_pred_lr\n"
     ]
    },
    {
     "data": {
      "text/html": [
       "<div>\n",
       "<style scoped>\n",
       "    .dataframe tbody tr th:only-of-type {\n",
       "        vertical-align: middle;\n",
       "    }\n",
       "\n",
       "    .dataframe tbody tr th {\n",
       "        vertical-align: top;\n",
       "    }\n",
       "\n",
       "    .dataframe thead th {\n",
       "        text-align: right;\n",
       "    }\n",
       "</style>\n",
       "<table border=\"1\" class=\"dataframe\">\n",
       "  <thead>\n",
       "    <tr style=\"text-align: right;\">\n",
       "      <th></th>\n",
       "      <th>Id</th>\n",
       "      <th>SalePrice</th>\n",
       "    </tr>\n",
       "  </thead>\n",
       "  <tbody>\n",
       "    <tr>\n",
       "      <th>0</th>\n",
       "      <td>2658</td>\n",
       "      <td>92123.525576</td>\n",
       "    </tr>\n",
       "    <tr>\n",
       "      <th>1</th>\n",
       "      <td>2718</td>\n",
       "      <td>152936.330793</td>\n",
       "    </tr>\n",
       "    <tr>\n",
       "      <th>2</th>\n",
       "      <td>2414</td>\n",
       "      <td>216415.635921</td>\n",
       "    </tr>\n",
       "    <tr>\n",
       "      <th>3</th>\n",
       "      <td>1989</td>\n",
       "      <td>118922.601560</td>\n",
       "    </tr>\n",
       "    <tr>\n",
       "      <th>4</th>\n",
       "      <td>625</td>\n",
       "      <td>176447.977097</td>\n",
       "    </tr>\n",
       "  </tbody>\n",
       "</table>\n",
       "</div>"
      ],
      "text/plain": [
       "     Id      SalePrice\n",
       "0  2658   92123.525576\n",
       "1  2718  152936.330793\n",
       "2  2414  216415.635921\n",
       "3  1989  118922.601560\n",
       "4   625  176447.977097"
      ]
     },
     "execution_count": 169,
     "metadata": {},
     "output_type": "execute_result"
    }
   ],
   "source": [
    "test = pd.read_csv('datasets/test.csv')\n",
    "submission = test[[\"Id\"]]\n",
    "submission[\"SalePrice\"] = y_pred_lr\n",
    "submission.to_csv('my_output_lr.csv', index=False)\n",
    "submission.head()"
   ]
  },
  {
   "cell_type": "markdown",
   "id": "e27d2975",
   "metadata": {},
   "source": [
    "### Liner Regression on Scaled feature"
   ]
  },
  {
   "cell_type": "code",
   "execution_count": 170,
   "id": "c2b29666",
   "metadata": {
    "ExecuteTime": {
     "end_time": "2022-07-12T11:16:39.541308Z",
     "start_time": "2022-07-12T11:16:39.511390Z"
    },
    "run_control": {
     "marked": true
    }
   },
   "outputs": [],
   "source": [
    "# Scale our data.\n",
    "# Relabeling scaled data as \"Z\" is common.\n",
    "sc = MinMaxScaler()\n",
    "Z_train = sc.fit_transform(X_train)\n",
    "Z_test = sc.transform(X_test)\n",
    "\n",
    "Z_train = pd.DataFrame(Z_train, columns=X_train.columns)\n",
    "Z_test = pd.DataFrame(Z_test, columns=X_test.columns)"
   ]
  },
  {
   "cell_type": "code",
   "execution_count": 171,
   "id": "bde7cede",
   "metadata": {
    "ExecuteTime": {
     "end_time": "2022-07-12T11:16:39.572737Z",
     "start_time": "2022-07-12T11:16:39.543304Z"
    }
   },
   "outputs": [
    {
     "name": "stdout",
     "output_type": "stream",
     "text": [
      "Linear Regression Train Score is :  0.01023058287851448\n",
      "Linear Regression Test Score is :  1.4132272873835087e+23\n",
      "-1.3813751417345585e+27%\n",
      "Linear Regression intercept is :  8.37003247989669\n"
     ]
    }
   ],
   "source": [
    "\n",
    "lr_sc = LinearRegression()\n",
    "lr_sc.fit(Z_train,y_train)\n",
    "y_train_pred = lr_sc.predict(Z_train)\n",
    "y_test_pred = lr_sc.predict(Z_test)\n",
    "mse_train = mean_squared_error(y_train, y_train_pred)\n",
    "mse_test = mean_squared_error(y_test, y_test_pred)\n",
    "print('Linear Regression Train Score is : ' , mse_train)\n",
    "print('Linear Regression Test Score is : ' , mse_test)\n",
    "\n",
    "\n",
    "perc_diff = (mse_train - mse_test)/mse_train * 100\n",
    "print( str(perc_diff)+\"%\")\n",
    "print('Linear Regression intercept is : ' , lr.intercept_)"
   ]
  },
  {
   "cell_type": "code",
   "execution_count": 172,
   "id": "ddbe5c93",
   "metadata": {
    "ExecuteTime": {
     "end_time": "2022-07-12T11:16:39.603653Z",
     "start_time": "2022-07-12T11:16:39.575729Z"
    },
    "scrolled": true
   },
   "outputs": [
    {
     "name": "stderr",
     "output_type": "stream",
     "text": [
      "C:\\Users\\Home\\anaconda3\\lib\\site-packages\\sklearn\\base.py:450: UserWarning: X does not have valid feature names, but LinearRegression was fitted with feature names\n",
      "  warnings.warn(\n"
     ]
    }
   ],
   "source": [
    "Z_test_file = sc.transform(test_file)\n",
    "y_pred_lr_scaled = lr.predict(Z_test_file)\n"
   ]
  },
  {
   "cell_type": "code",
   "execution_count": 173,
   "id": "77042ca0",
   "metadata": {
    "ExecuteTime": {
     "end_time": "2022-07-12T11:16:39.618613Z",
     "start_time": "2022-07-12T11:16:39.605648Z"
    },
    "scrolled": true
   },
   "outputs": [
    {
     "name": "stderr",
     "output_type": "stream",
     "text": [
      "C:\\Users\\Home\\anaconda3\\lib\\site-packages\\sklearn\\base.py:450: UserWarning: X does not have valid feature names, but LinearRegression was fitted with feature names\n",
      "  warnings.warn(\n"
     ]
    }
   ],
   "source": [
    "y_pred_lr_scaled = lr.predict(Z_test_file)"
   ]
  },
  {
   "cell_type": "code",
   "execution_count": 174,
   "id": "0d0681ef",
   "metadata": {
    "ExecuteTime": {
     "end_time": "2022-07-12T11:16:39.709370Z",
     "start_time": "2022-07-12T11:16:39.621607Z"
    }
   },
   "outputs": [],
   "source": [
    "y_pred_lr_scaled =np.expm1(y_pred_lr_scaled)"
   ]
  },
  {
   "cell_type": "code",
   "execution_count": 175,
   "id": "766e240c",
   "metadata": {
    "ExecuteTime": {
     "end_time": "2022-07-12T11:16:39.800129Z",
     "start_time": "2022-07-12T11:16:39.712363Z"
    }
   },
   "outputs": [
    {
     "name": "stderr",
     "output_type": "stream",
     "text": [
      "C:\\Users\\Home\\AppData\\Local\\Temp\\ipykernel_28192\\1594565375.py:2: SettingWithCopyWarning: \n",
      "A value is trying to be set on a copy of a slice from a DataFrame.\n",
      "Try using .loc[row_indexer,col_indexer] = value instead\n",
      "\n",
      "See the caveats in the documentation: https://pandas.pydata.org/pandas-docs/stable/user_guide/indexing.html#returning-a-view-versus-a-copy\n",
      "  submission[\"SalePrice\"] = y_pred_lr_scaled\n"
     ]
    },
    {
     "data": {
      "text/html": [
       "<div>\n",
       "<style scoped>\n",
       "    .dataframe tbody tr th:only-of-type {\n",
       "        vertical-align: middle;\n",
       "    }\n",
       "\n",
       "    .dataframe tbody tr th {\n",
       "        vertical-align: top;\n",
       "    }\n",
       "\n",
       "    .dataframe thead th {\n",
       "        text-align: right;\n",
       "    }\n",
       "</style>\n",
       "<table border=\"1\" class=\"dataframe\">\n",
       "  <thead>\n",
       "    <tr style=\"text-align: right;\">\n",
       "      <th></th>\n",
       "      <th>Id</th>\n",
       "      <th>SalePrice</th>\n",
       "    </tr>\n",
       "  </thead>\n",
       "  <tbody>\n",
       "    <tr>\n",
       "      <th>0</th>\n",
       "      <td>2658</td>\n",
       "      <td>4046.044328</td>\n",
       "    </tr>\n",
       "    <tr>\n",
       "      <th>1</th>\n",
       "      <td>2718</td>\n",
       "      <td>5371.183822</td>\n",
       "    </tr>\n",
       "    <tr>\n",
       "      <th>2</th>\n",
       "      <td>2414</td>\n",
       "      <td>6020.120394</td>\n",
       "    </tr>\n",
       "    <tr>\n",
       "      <th>3</th>\n",
       "      <td>1989</td>\n",
       "      <td>4804.370961</td>\n",
       "    </tr>\n",
       "    <tr>\n",
       "      <th>4</th>\n",
       "      <td>625</td>\n",
       "      <td>5581.892882</td>\n",
       "    </tr>\n",
       "  </tbody>\n",
       "</table>\n",
       "</div>"
      ],
      "text/plain": [
       "     Id    SalePrice\n",
       "0  2658  4046.044328\n",
       "1  2718  5371.183822\n",
       "2  2414  6020.120394\n",
       "3  1989  4804.370961\n",
       "4   625  5581.892882"
      ]
     },
     "execution_count": 175,
     "metadata": {},
     "output_type": "execute_result"
    }
   ],
   "source": [
    "submission = test[[\"Id\"]]\n",
    "submission[\"SalePrice\"] = y_pred_lr_scaled\n",
    "submission.to_csv('my_output_lr.csv', index=False)\n",
    "submission.head()"
   ]
  },
  {
   "cell_type": "markdown",
   "id": "03217c46",
   "metadata": {
    "ExecuteTime": {
     "end_time": "2022-06-30T09:36:05.861576Z",
     "start_time": "2022-06-30T09:36:05.847763Z"
    }
   },
   "source": [
    "### Grid search  \n",
    "This portion  runs 3 models in parallel, selecting the best model with the highest accuracy.\n",
    "1. Linear Regression\n",
    "2. Ridge  \n",
    "3. Lasso"
   ]
  },
  {
   "cell_type": "code",
   "execution_count": 176,
   "id": "ec4b6688",
   "metadata": {
    "ExecuteTime": {
     "end_time": "2022-07-12T11:16:39.816087Z",
     "start_time": "2022-07-12T11:16:39.802124Z"
    }
   },
   "outputs": [],
   "source": [
    "from sklearn.model_selection import GridSearchCV\n",
    "from sklearn.pipeline import Pipeline\n",
    "from sklearn.linear_model import Ridge\n",
    "from sklearn.linear_model import Lasso"
   ]
  },
  {
   "cell_type": "code",
   "execution_count": 177,
   "id": "5b7c4119",
   "metadata": {
    "ExecuteTime": {
     "end_time": "2022-07-12T11:16:39.831045Z",
     "start_time": "2022-07-12T11:16:39.818082Z"
    }
   },
   "outputs": [],
   "source": [
    "model1 = LinearRegression()\n",
    "model2 = Ridge()\n",
    "model3 = Lasso()"
   ]
  },
  {
   "cell_type": "code",
   "execution_count": 178,
   "id": "4e4f3124",
   "metadata": {
    "ExecuteTime": {
     "end_time": "2022-07-12T11:16:39.860967Z",
     "start_time": "2022-07-12T11:16:39.833040Z"
    },
    "run_control": {
     "marked": false
    }
   },
   "outputs": [],
   "source": [
    "# Initialize the hyperparameters for each dictionary\n",
    "\n",
    "param1 = {}\n",
    "param1['classifier'] = [model1]\n",
    "\n",
    "param2 = {}\n",
    "# param2['classifier__alpha'] = np.arange(0.01,1000,0.1) #codes takes too long to run\n",
    "param2['classifier__alpha'] = [0.01, 0.1, 1, 10, 100]\n",
    "param2['classifier'] = [model2]\n",
    "\n",
    "param3 = {}\n",
    "# param3['classifier__alpha'] = np.arange(0.01,1000,0.1)\n",
    "param3['classifier__alpha'] = [0.01, 0.1, 1, 10, 100]\n",
    "param3['classifier'] = [model3]"
   ]
  },
  {
   "cell_type": "code",
   "execution_count": 179,
   "id": "459e1f93",
   "metadata": {
    "ExecuteTime": {
     "end_time": "2022-07-12T11:16:39.875938Z",
     "start_time": "2022-07-12T11:16:39.863959Z"
    }
   },
   "outputs": [],
   "source": [
    "# create pipeline\n",
    "pipeline = Pipeline([('classifier', model1)])\n",
    "params = [param1, param2, param3]"
   ]
  },
  {
   "cell_type": "code",
   "execution_count": 180,
   "id": "dde92e94",
   "metadata": {
    "ExecuteTime": {
     "end_time": "2022-07-12T11:16:45.303036Z",
     "start_time": "2022-07-12T11:16:39.876990Z"
    }
   },
   "outputs": [
    {
     "data": {
      "text/html": [
       "<style>#sk-container-id-1 {color: black;background-color: white;}#sk-container-id-1 pre{padding: 0;}#sk-container-id-1 div.sk-toggleable {background-color: white;}#sk-container-id-1 label.sk-toggleable__label {cursor: pointer;display: block;width: 100%;margin-bottom: 0;padding: 0.3em;box-sizing: border-box;text-align: center;}#sk-container-id-1 label.sk-toggleable__label-arrow:before {content: \"▸\";float: left;margin-right: 0.25em;color: #696969;}#sk-container-id-1 label.sk-toggleable__label-arrow:hover:before {color: black;}#sk-container-id-1 div.sk-estimator:hover label.sk-toggleable__label-arrow:before {color: black;}#sk-container-id-1 div.sk-toggleable__content {max-height: 0;max-width: 0;overflow: hidden;text-align: left;background-color: #f0f8ff;}#sk-container-id-1 div.sk-toggleable__content pre {margin: 0.2em;color: black;border-radius: 0.25em;background-color: #f0f8ff;}#sk-container-id-1 input.sk-toggleable__control:checked~div.sk-toggleable__content {max-height: 200px;max-width: 100%;overflow: auto;}#sk-container-id-1 input.sk-toggleable__control:checked~label.sk-toggleable__label-arrow:before {content: \"▾\";}#sk-container-id-1 div.sk-estimator input.sk-toggleable__control:checked~label.sk-toggleable__label {background-color: #d4ebff;}#sk-container-id-1 div.sk-label input.sk-toggleable__control:checked~label.sk-toggleable__label {background-color: #d4ebff;}#sk-container-id-1 input.sk-hidden--visually {border: 0;clip: rect(1px 1px 1px 1px);clip: rect(1px, 1px, 1px, 1px);height: 1px;margin: -1px;overflow: hidden;padding: 0;position: absolute;width: 1px;}#sk-container-id-1 div.sk-estimator {font-family: monospace;background-color: #f0f8ff;border: 1px dotted black;border-radius: 0.25em;box-sizing: border-box;margin-bottom: 0.5em;}#sk-container-id-1 div.sk-estimator:hover {background-color: #d4ebff;}#sk-container-id-1 div.sk-parallel-item::after {content: \"\";width: 100%;border-bottom: 1px solid gray;flex-grow: 1;}#sk-container-id-1 div.sk-label:hover label.sk-toggleable__label {background-color: #d4ebff;}#sk-container-id-1 div.sk-serial::before {content: \"\";position: absolute;border-left: 1px solid gray;box-sizing: border-box;top: 0;bottom: 0;left: 50%;z-index: 0;}#sk-container-id-1 div.sk-serial {display: flex;flex-direction: column;align-items: center;background-color: white;padding-right: 0.2em;padding-left: 0.2em;position: relative;}#sk-container-id-1 div.sk-item {position: relative;z-index: 1;}#sk-container-id-1 div.sk-parallel {display: flex;align-items: stretch;justify-content: center;background-color: white;position: relative;}#sk-container-id-1 div.sk-item::before, #sk-container-id-1 div.sk-parallel-item::before {content: \"\";position: absolute;border-left: 1px solid gray;box-sizing: border-box;top: 0;bottom: 0;left: 50%;z-index: -1;}#sk-container-id-1 div.sk-parallel-item {display: flex;flex-direction: column;z-index: 1;position: relative;background-color: white;}#sk-container-id-1 div.sk-parallel-item:first-child::after {align-self: flex-end;width: 50%;}#sk-container-id-1 div.sk-parallel-item:last-child::after {align-self: flex-start;width: 50%;}#sk-container-id-1 div.sk-parallel-item:only-child::after {width: 0;}#sk-container-id-1 div.sk-dashed-wrapped {border: 1px dashed gray;margin: 0 0.4em 0.5em 0.4em;box-sizing: border-box;padding-bottom: 0.4em;background-color: white;}#sk-container-id-1 div.sk-label label {font-family: monospace;font-weight: bold;display: inline-block;line-height: 1.2em;}#sk-container-id-1 div.sk-label-container {text-align: center;}#sk-container-id-1 div.sk-container {/* jupyter's `normalize.less` sets `[hidden] { display: none; }` but bootstrap.min.css set `[hidden] { display: none !important; }` so we also need the `!important` here to be able to override the default hidden behavior on the sphinx rendered scikit-learn.org. See: https://github.com/scikit-learn/scikit-learn/issues/21755 */display: inline-block !important;position: relative;}#sk-container-id-1 div.sk-text-repr-fallback {display: none;}</style><div id=\"sk-container-id-1\" class=\"sk-top-container\"><div class=\"sk-text-repr-fallback\"><pre>GridSearchCV(cv=5,\n",
       "             estimator=Pipeline(steps=[(&#x27;classifier&#x27;, LinearRegression())]),\n",
       "             n_jobs=-1,\n",
       "             param_grid={&#x27;classifier&#x27;: [Lasso(alpha=0.01)],\n",
       "                         &#x27;classifier__alpha&#x27;: [0.01, 0.1, 1, 10, 100]},\n",
       "             scoring=&#x27;neg_mean_squared_error&#x27;)</pre><b>In a Jupyter environment, please rerun this cell to show the HTML representation or trust the notebook. <br />On GitHub, the HTML representation is unable to render, please try loading this page with nbviewer.org.</b></div><div class=\"sk-container\" hidden><div class=\"sk-item sk-dashed-wrapped\"><div class=\"sk-label-container\"><div class=\"sk-label sk-toggleable\"><input class=\"sk-toggleable__control sk-hidden--visually\" id=\"sk-estimator-id-1\" type=\"checkbox\" ><label for=\"sk-estimator-id-1\" class=\"sk-toggleable__label sk-toggleable__label-arrow\">GridSearchCV</label><div class=\"sk-toggleable__content\"><pre>GridSearchCV(cv=5,\n",
       "             estimator=Pipeline(steps=[(&#x27;classifier&#x27;, LinearRegression())]),\n",
       "             n_jobs=-1,\n",
       "             param_grid={&#x27;classifier&#x27;: [Lasso(alpha=0.01)],\n",
       "                         &#x27;classifier__alpha&#x27;: [0.01, 0.1, 1, 10, 100]},\n",
       "             scoring=&#x27;neg_mean_squared_error&#x27;)</pre></div></div></div><div class=\"sk-parallel\"><div class=\"sk-parallel-item\"><div class=\"sk-item\"><div class=\"sk-label-container\"><div class=\"sk-label sk-toggleable\"><input class=\"sk-toggleable__control sk-hidden--visually\" id=\"sk-estimator-id-2\" type=\"checkbox\" ><label for=\"sk-estimator-id-2\" class=\"sk-toggleable__label sk-toggleable__label-arrow\">estimator: Pipeline</label><div class=\"sk-toggleable__content\"><pre>Pipeline(steps=[(&#x27;classifier&#x27;, LinearRegression())])</pre></div></div></div><div class=\"sk-serial\"><div class=\"sk-item\"><div class=\"sk-serial\"><div class=\"sk-item\"><div class=\"sk-estimator sk-toggleable\"><input class=\"sk-toggleable__control sk-hidden--visually\" id=\"sk-estimator-id-3\" type=\"checkbox\" ><label for=\"sk-estimator-id-3\" class=\"sk-toggleable__label sk-toggleable__label-arrow\">LinearRegression</label><div class=\"sk-toggleable__content\"><pre>LinearRegression()</pre></div></div></div></div></div></div></div></div></div></div></div></div>"
      ],
      "text/plain": [
       "GridSearchCV(cv=5,\n",
       "             estimator=Pipeline(steps=[('classifier', LinearRegression())]),\n",
       "             n_jobs=-1,\n",
       "             param_grid={'classifier': [Lasso(alpha=0.01)],\n",
       "                         'classifier__alpha': [0.01, 0.1, 1, 10, 100]},\n",
       "             scoring='neg_mean_squared_error')"
      ]
     },
     "execution_count": 180,
     "metadata": {},
     "output_type": "execute_result"
    }
   ],
   "source": [
    "# run GridsearchCV\n",
    "gs = GridSearchCV(pipeline, param3, cv=5, n_jobs=-1, scoring='neg_mean_squared_error')\n",
    "gs.fit(X_train, y_train)"
   ]
  },
  {
   "cell_type": "code",
   "execution_count": 181,
   "id": "92aabea4",
   "metadata": {
    "ExecuteTime": {
     "end_time": "2022-07-12T11:16:45.317996Z",
     "start_time": "2022-07-12T11:16:45.306028Z"
    }
   },
   "outputs": [
    {
     "data": {
      "text/plain": [
       "{'classifier': Lasso(alpha=0.01), 'classifier__alpha': 0.01}"
      ]
     },
     "execution_count": 181,
     "metadata": {},
     "output_type": "execute_result"
    }
   ],
   "source": [
    "# Best performing model and its corresponding hyperparameters\n",
    "gs.best_params_"
   ]
  },
  {
   "cell_type": "code",
   "execution_count": 182,
   "id": "d0132158",
   "metadata": {
    "ExecuteTime": {
     "end_time": "2022-07-12T11:16:45.349910Z",
     "start_time": "2022-07-12T11:16:45.320989Z"
    }
   },
   "outputs": [
    {
     "name": "stdout",
     "output_type": "stream",
     "text": [
      "MSE of Train is 0.01614597313044609,\n",
      "MSE of Test is 0.01662694813231408,\n",
      "Percentage diff: -2.9789161544002973%\n"
     ]
    }
   ],
   "source": [
    "# check for generalisation\n",
    "y_train_pred = gs.predict(X_train)\n",
    "y_test_pred = gs.predict(X_test)\n",
    "\n",
    "mse_train = mean_squared_error(y_train, y_train_pred)\n",
    "mse_test = mean_squared_error(y_test, y_test_pred)\n",
    "\n",
    "perc_diff = (mse_train - mse_test)/mse_train * 100\n",
    "print(f\"MSE of Train is {mse_train},\\nMSE of Test is {mse_test},\\nPercentage diff: {perc_diff}%\")"
   ]
  },
  {
   "cell_type": "code",
   "execution_count": 183,
   "id": "9cfff0f5",
   "metadata": {
    "ExecuteTime": {
     "end_time": "2022-07-12T11:16:45.365867Z",
     "start_time": "2022-07-12T11:16:45.352902Z"
    }
   },
   "outputs": [],
   "source": [
    "y_test = np.expm1(y_test)\n",
    "y_test_pred = np.expm1(y_test_pred)"
   ]
  },
  {
   "cell_type": "code",
   "execution_count": 184,
   "id": "45858f4e",
   "metadata": {
    "ExecuteTime": {
     "end_time": "2022-07-12T11:16:45.532423Z",
     "start_time": "2022-07-12T11:16:45.367862Z"
    },
    "scrolled": true
   },
   "outputs": [
    {
     "data": {
      "image/png": "[encoded data removed]",
      "text/plain": [
       "<Figure size 576x576 with 1 Axes>"
      ]
     },
     "metadata": {
      "needs_background": "light"
     },
     "output_type": "display_data"
    }
   ],
   "source": [
    "plt.figure(figsize=(8,8))\n",
    "plt.scatter(y_test, y_test_pred, c='crimson')\n",
    "\n",
    "\n",
    "p1 = max(max(y_test_pred), max(y_test))\n",
    "p2 = min(min(y_test_pred), min(y_test))\n",
    "plt.plot([p1, p2], [p1, p2], 'k--', lw=4)\n",
    "plt.xlabel('True Values', fontsize=15)\n",
    "plt.ylabel('Predictions', fontsize=15)\n",
    "plt.axis('equal')\n",
    "plt.show()"
   ]
  },
  {
   "cell_type": "code",
   "execution_count": 185,
   "id": "c8864eae",
   "metadata": {
    "ExecuteTime": {
     "end_time": "2022-07-12T11:16:45.563340Z",
     "start_time": "2022-07-12T11:16:45.535415Z"
    }
   },
   "outputs": [],
   "source": [
    "ypred_gs_cv = gs.predict(test_file)"
   ]
  },
  {
   "cell_type": "code",
   "execution_count": 186,
   "id": "d4d13a42",
   "metadata": {
    "ExecuteTime": {
     "end_time": "2022-07-12T11:16:45.578300Z",
     "start_time": "2022-07-12T11:16:45.565334Z"
    }
   },
   "outputs": [],
   "source": [
    "ypred_gs_cv = np.expm1(ypred_gs_cv)"
   ]
  },
  {
   "cell_type": "code",
   "execution_count": null,
   "id": "c630cac9",
   "metadata": {
    "ExecuteTime": {
     "end_time": "2022-07-12T11:16:46.322312Z",
     "start_time": "2022-07-12T11:16:46.322312Z"
    }
   },
   "outputs": [],
   "source": [
    "submission = test[[\"Id\"]]\n",
    "submission[\"SalePrice\"] = ypred_gs_cv\n",
    "submission.to_csv('my_output_GS.csv', index=False)\n",
    "submission.head()"
   ]
  },
  {
   "cell_type": "markdown",
   "id": "61ce32f3",
   "metadata": {},
   "source": [
    "### Grid Search with Scaling"
   ]
  },
  {
   "cell_type": "code",
   "execution_count": null,
   "id": "a30e44ed",
   "metadata": {
    "ExecuteTime": {
     "end_time": "2022-07-11T15:20:43.725570Z",
     "start_time": "2022-07-11T15:20:43.648203Z"
    }
   },
   "outputs": [],
   "source": [
    "gs_sc = GridSearchCV(pipeline, param3, cv=3, n_jobs=-1, scoring='neg_mean_squared_error')\n",
    "gs_sc.fit(Z_train, y_train)"
   ]
  },
  {
   "cell_type": "code",
   "execution_count": null,
   "id": "42666d1e",
   "metadata": {
    "ExecuteTime": {
     "end_time": "2022-07-11T15:20:43.744460Z",
     "start_time": "2022-07-11T15:20:43.727504Z"
    }
   },
   "outputs": [],
   "source": [
    "# check for generalisation\n",
    "y_train_pred = gs_sc.predict(Z_train)\n",
    "y_test_pred = gs_sc.predict(Z_test)\n",
    "\n",
    "mse_train = mean_squared_error(y_train, y_train_pred)\n",
    "mse_test = mean_squared_error(y_test, y_test_pred)\n",
    "\n",
    "perc_diff = (mse_train - mse_test)/mse_train * 100\n",
    "print(f\"MSE of Train is {mse_train},\\nMSE of Test is {mse_test},\\nPercentage diff: {perc_diff}%\")"
   ]
  },
  {
   "cell_type": "code",
   "execution_count": null,
   "id": "6249b0aa",
   "metadata": {
    "ExecuteTime": {
     "end_time": "2022-07-11T15:20:43.757424Z",
     "start_time": "2022-07-11T15:20:43.747452Z"
    },
    "scrolled": true
   },
   "outputs": [],
   "source": [
    "ypred_gs_SC_cv = gs_sc.predict(Z_test_file)"
   ]
  },
  {
   "cell_type": "code",
   "execution_count": null,
   "id": "463b8089",
   "metadata": {
    "ExecuteTime": {
     "end_time": "2022-07-11T15:20:43.788340Z",
     "start_time": "2022-07-11T15:20:43.759420Z"
    }
   },
   "outputs": [],
   "source": [
    "ypred_gs_SC_cv = np.expm1(ypred_gs_SC_cv)"
   ]
  },
  {
   "cell_type": "code",
   "execution_count": null,
   "id": "f298f7ab",
   "metadata": {
    "ExecuteTime": {
     "end_time": "2022-07-11T15:20:43.820255Z",
     "start_time": "2022-07-11T15:20:43.790336Z"
    }
   },
   "outputs": [],
   "source": [
    "ypred_gs_SC_cv"
   ]
  },
  {
   "cell_type": "code",
   "execution_count": null,
   "id": "53900f42",
   "metadata": {
    "ExecuteTime": {
     "end_time": "2022-07-11T15:20:43.868128Z",
     "start_time": "2022-07-11T15:20:43.822252Z"
    }
   },
   "outputs": [],
   "source": [
    "submission = test[[\"Id\"]]\n",
    "submission[\"SalePrice\"] = ypred_gs_SC_cv\n",
    "submission.to_csv('my_output_GS_SC.csv', index=False)\n",
    "submission"
   ]
  },
  {
   "cell_type": "markdown",
   "id": "8d5ec25b",
   "metadata": {},
   "source": [
    "### Detecting Multicollinearity"
   ]
  },
  {
   "cell_type": "code",
   "execution_count": null,
   "id": "c80014a8",
   "metadata": {
    "ExecuteTime": {
     "end_time": "2022-07-11T15:20:44.662516Z",
     "start_time": "2022-07-11T15:20:43.870122Z"
    }
   },
   "outputs": [],
   "source": [
    "vif_data = pd.DataFrame()\n",
    "vif_data[\"feature\"] = Z_train.columns\n",
    "  \n",
    "# calculating VIF for each feature\n",
    "vif_data[\"VIF\"] = [variance_inflation_factor(Z_train.values, i)\n",
    "                          for i in range(len(Z_train.columns))]\n",
    "vif_data.sort_values(by = 'VIF',axis = 0, ascending=False, inplace=True)\n",
    "vif_data"
   ]
  },
  {
   "cell_type": "code",
   "execution_count": null,
   "id": "7530e466",
   "metadata": {
    "ExecuteTime": {
     "end_time": "2022-07-11T15:20:44.678472Z",
     "start_time": "2022-07-11T15:20:44.665507Z"
    }
   },
   "outputs": [],
   "source": [
    "#dropping of the inf features, as they are categorical data and by virtue of a catergorical data's charateristic, \n",
    "#there is no issue on multicollinearity\n",
    "\n",
    "vif_data.replace([np.inf, -np.inf], np.nan, inplace=True)"
   ]
  },
  {
   "cell_type": "code",
   "execution_count": null,
   "id": "29175259",
   "metadata": {
    "ExecuteTime": {
     "end_time": "2022-07-11T15:20:44.713380Z",
     "start_time": "2022-07-11T15:20:44.680469Z"
    },
    "scrolled": true
   },
   "outputs": [],
   "source": [
    "vif_data.dropna(inplace=True)\n",
    "vif_data.sort_values(by = 'VIF',axis = 0, ascending=False, inplace=True)\n",
    "\n",
    "vif_data"
   ]
  },
  {
   "cell_type": "code",
   "execution_count": null,
   "id": "cd51ce70",
   "metadata": {
    "ExecuteTime": {
     "end_time": "2022-07-11T15:20:45.003606Z",
     "start_time": "2022-07-11T15:20:44.716371Z"
    }
   },
   "outputs": [],
   "source": [
    "vif_data.plot.bar(x='feature', y='VIF', rot=0)\n",
    "plt.xticks(rotation = 90)\n",
    "plt.ylim([0, 7])\n",
    "plt.axhline(y=5,color=\"red\")"
   ]
  },
  {
   "cell_type": "markdown",
   "id": "eadbfed3",
   "metadata": {},
   "source": [
    "Setting the Threshold of VIF as 5, we can see that our models passes the multicollinearity test, with the highest vif being 4.738685.\n",
    "This can largely be attributed to the fact that We have cut down a total of 37 features (from 80 to 43) through feature engineering and dropping of irrelevant columns.\n"
   ]
  }
 ],
 "metadata": {
  "hide_input": false,
  "kernelspec": {
   "display_name": "Python 3 (ipykernel)",
   "language": "python",
   "name": "python3"
  },
  "language_info": {
   "codemirror_mode": {
    "name": "ipython",
    "version": 3
   },
   "file_extension": ".py",
   "mimetype": "text/x-python",
   "name": "python",
   "nbconvert_exporter": "python",
   "pygments_lexer": "ipython3",
   "version": "3.9.12"
  },
  "varInspector": {
   "cols": {
    "lenName": 16,
    "lenType": 16,
    "lenVar": 40
   },
   "kernels_config": {
    "python": {
     "delete_cmd_postfix": "",
     "delete_cmd_prefix": "del ",
     "library": "var_list.py",
     "varRefreshCmd": "print(var_dic_list())"
    },
    "r": {
     "delete_cmd_postfix": ") ",
     "delete_cmd_prefix": "rm(",
     "library": "var_list.r",
     "varRefreshCmd": "cat(var_dic_list()) "
    }
   },
   "types_to_exclude": [
    "module",
    "function",
    "builtin_function_or_method",
    "instance",
    "_Feature"
   ],
   "window_display": false
  }
 },
 "nbformat": 4,
 "nbformat_minor": 5
}
