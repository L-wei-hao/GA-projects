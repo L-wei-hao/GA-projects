{
 "cells": [
  {
   "cell_type": "markdown",
   "id": "992f4cb3",
   "metadata": {},
   "source": [
    "<!-- # Ames Housing Project -->\n",
    "\n",
    "Goal of this project is to predict the house prices based on the well known Ames housing data by creating a regression model."
   ]
  },
  {
   "cell_type": "markdown",
   "id": "05a7d9b5",
   "metadata": {
    "run_control": {
     "marked": false
    }
   },
   "source": [
    "# Ames Housing: A Model for Price Prediction"
   ]
  },
  {
   "cell_type": "markdown",
   "id": "a9e93127",
   "metadata": {},
   "source": [
    "This project aims make use of machine learning for to predict housing prices using the Ames Housing data set, and determine parameters that are most often used in computing the value of a property."
   ]
  },
  {
   "cell_type": "markdown",
   "id": "3afe0ef7",
   "metadata": {},
   "source": [
    "### Problem Statement\n",
    "\n",
    "We are WEM general insurance based in Ames, Iowa specializing in home insurance.\n",
    "The issue here is that customers has feedback to us that our existing form are Tedious and overly complicated.  \n",
    "This has translated to higher dropout rate and loss of revenue. \n",
    "This has caught the management's attention and has noted that our competitors are offering a quicker and more accurate solution to this issue.\n",
    "\n",
    "\n",
    "The Ames data set has many parameters (80 independent and 1 dependent variable) that can either assist or distort the predictive model. The problem is which features should be used in our predictive model from the information provided from the parameters and predict Sales Price with the lowest root mean square error with the references from Kaggle \n",
    "\n",
    "A successful outcome would be deriving an approach in treating the parameters and transforming the object variables into usable variables in the predictive model. From there, we can best determine if Lasso, Ridge or Linear Regression will be the chosen model for this problem."
   ]
  },
  {
   "cell_type": "markdown",
   "id": "fe2c851c",
   "metadata": {},
   "source": [
    "#### Importing packages"
   ]
  },
  {
   "cell_type": "code",
   "execution_count": 1,
   "id": "89c5fb2b",
   "metadata": {
    "ExecuteTime": {
     "end_time": "2022-08-15T14:21:12.212347Z",
     "start_time": "2022-08-15T14:21:08.043618Z"
    },
    "run_control": {
     "marked": false
    }
   },
   "outputs": [],
   "source": [
    "import pandas as pd\n",
    "import numpy as np\n",
    "import matplotlib.pyplot as plt\n",
    "import seaborn as sns\n",
    "import statistics\n",
    "from scipy.stats import norm\n",
    "from scipy import stats\n",
    "from sklearn.preprocessing import MinMaxScaler\n",
    "from sklearn.model_selection import train_test_split\n",
    "from sklearn.linear_model import LinearRegression\n",
    "from sklearn.metrics import mean_squared_error\n",
    "from sklearn import metrics\n",
    "from sklearn.model_selection import GridSearchCV\n",
    "from sklearn.pipeline import Pipeline\n",
    "from sklearn.linear_model import Ridge\n",
    "from sklearn.linear_model import Lasso\n",
    "\n",
    "from statsmodels.stats.outliers_influence import variance_inflation_factor\n",
    "\n",
    "# # Activate this code if you wan to see all columns/rows\n",
    "# pd.set_option('display.max_columns', None)\n",
    "# pd.set_option('display.max_rows',None)  #setting max row so that panadas will show all rows."
   ]
  },
  {
   "cell_type": "markdown",
   "id": "d719aa82",
   "metadata": {},
   "source": [
    "#### Understanding the data"
   ]
  },
  {
   "cell_type": "code",
   "execution_count": 2,
   "id": "d3c145ba",
   "metadata": {
    "ExecuteTime": {
     "end_time": "2022-08-15T14:21:12.383490Z",
     "start_time": "2022-08-15T14:21:12.218244Z"
    }
   },
   "outputs": [],
   "source": [
    "df = pd.read_csv('datasets/train.csv')\n",
    "test_file = pd.read_csv('datasets/test.csv')"
   ]
  },
  {
   "cell_type": "code",
   "execution_count": 3,
   "id": "ab215699",
   "metadata": {
    "ExecuteTime": {
     "end_time": "2022-08-15T14:21:12.460081Z",
     "start_time": "2022-08-15T14:21:12.389329Z"
    }
   },
   "outputs": [
    {
     "data": {
      "text/html": [
       "<div>\n",
       "<style scoped>\n",
       "    .dataframe tbody tr th:only-of-type {\n",
       "        vertical-align: middle;\n",
       "    }\n",
       "\n",
       "    .dataframe tbody tr th {\n",
       "        vertical-align: top;\n",
       "    }\n",
       "\n",
       "    .dataframe thead th {\n",
       "        text-align: right;\n",
       "    }\n",
       "</style>\n",
       "<table border=\"1\" class=\"dataframe\">\n",
       "  <thead>\n",
       "    <tr style=\"text-align: right;\">\n",
       "      <th></th>\n",
       "      <th>Id</th>\n",
       "      <th>PID</th>\n",
       "      <th>MS SubClass</th>\n",
       "      <th>MS Zoning</th>\n",
       "      <th>Lot Frontage</th>\n",
       "      <th>Lot Area</th>\n",
       "      <th>Street</th>\n",
       "      <th>Alley</th>\n",
       "      <th>Lot Shape</th>\n",
       "      <th>Land Contour</th>\n",
       "      <th>...</th>\n",
       "      <th>Screen Porch</th>\n",
       "      <th>Pool Area</th>\n",
       "      <th>Pool QC</th>\n",
       "      <th>Fence</th>\n",
       "      <th>Misc Feature</th>\n",
       "      <th>Misc Val</th>\n",
       "      <th>Mo Sold</th>\n",
       "      <th>Yr Sold</th>\n",
       "      <th>Sale Type</th>\n",
       "      <th>SalePrice</th>\n",
       "    </tr>\n",
       "  </thead>\n",
       "  <tbody>\n",
       "    <tr>\n",
       "      <th>0</th>\n",
       "      <td>109</td>\n",
       "      <td>533352170</td>\n",
       "      <td>60</td>\n",
       "      <td>RL</td>\n",
       "      <td>NaN</td>\n",
       "      <td>13517</td>\n",
       "      <td>Pave</td>\n",
       "      <td>NaN</td>\n",
       "      <td>IR1</td>\n",
       "      <td>Lvl</td>\n",
       "      <td>...</td>\n",
       "      <td>0</td>\n",
       "      <td>0</td>\n",
       "      <td>NaN</td>\n",
       "      <td>NaN</td>\n",
       "      <td>NaN</td>\n",
       "      <td>0</td>\n",
       "      <td>3</td>\n",
       "      <td>2010</td>\n",
       "      <td>WD</td>\n",
       "      <td>130500</td>\n",
       "    </tr>\n",
       "    <tr>\n",
       "      <th>1</th>\n",
       "      <td>544</td>\n",
       "      <td>531379050</td>\n",
       "      <td>60</td>\n",
       "      <td>RL</td>\n",
       "      <td>43.0</td>\n",
       "      <td>11492</td>\n",
       "      <td>Pave</td>\n",
       "      <td>NaN</td>\n",
       "      <td>IR1</td>\n",
       "      <td>Lvl</td>\n",
       "      <td>...</td>\n",
       "      <td>0</td>\n",
       "      <td>0</td>\n",
       "      <td>NaN</td>\n",
       "      <td>NaN</td>\n",
       "      <td>NaN</td>\n",
       "      <td>0</td>\n",
       "      <td>4</td>\n",
       "      <td>2009</td>\n",
       "      <td>WD</td>\n",
       "      <td>220000</td>\n",
       "    </tr>\n",
       "    <tr>\n",
       "      <th>2</th>\n",
       "      <td>153</td>\n",
       "      <td>535304180</td>\n",
       "      <td>20</td>\n",
       "      <td>RL</td>\n",
       "      <td>68.0</td>\n",
       "      <td>7922</td>\n",
       "      <td>Pave</td>\n",
       "      <td>NaN</td>\n",
       "      <td>Reg</td>\n",
       "      <td>Lvl</td>\n",
       "      <td>...</td>\n",
       "      <td>0</td>\n",
       "      <td>0</td>\n",
       "      <td>NaN</td>\n",
       "      <td>NaN</td>\n",
       "      <td>NaN</td>\n",
       "      <td>0</td>\n",
       "      <td>1</td>\n",
       "      <td>2010</td>\n",
       "      <td>WD</td>\n",
       "      <td>109000</td>\n",
       "    </tr>\n",
       "    <tr>\n",
       "      <th>3</th>\n",
       "      <td>318</td>\n",
       "      <td>916386060</td>\n",
       "      <td>60</td>\n",
       "      <td>RL</td>\n",
       "      <td>73.0</td>\n",
       "      <td>9802</td>\n",
       "      <td>Pave</td>\n",
       "      <td>NaN</td>\n",
       "      <td>Reg</td>\n",
       "      <td>Lvl</td>\n",
       "      <td>...</td>\n",
       "      <td>0</td>\n",
       "      <td>0</td>\n",
       "      <td>NaN</td>\n",
       "      <td>NaN</td>\n",
       "      <td>NaN</td>\n",
       "      <td>0</td>\n",
       "      <td>4</td>\n",
       "      <td>2010</td>\n",
       "      <td>WD</td>\n",
       "      <td>174000</td>\n",
       "    </tr>\n",
       "    <tr>\n",
       "      <th>4</th>\n",
       "      <td>255</td>\n",
       "      <td>906425045</td>\n",
       "      <td>50</td>\n",
       "      <td>RL</td>\n",
       "      <td>82.0</td>\n",
       "      <td>14235</td>\n",
       "      <td>Pave</td>\n",
       "      <td>NaN</td>\n",
       "      <td>IR1</td>\n",
       "      <td>Lvl</td>\n",
       "      <td>...</td>\n",
       "      <td>0</td>\n",
       "      <td>0</td>\n",
       "      <td>NaN</td>\n",
       "      <td>NaN</td>\n",
       "      <td>NaN</td>\n",
       "      <td>0</td>\n",
       "      <td>3</td>\n",
       "      <td>2010</td>\n",
       "      <td>WD</td>\n",
       "      <td>138500</td>\n",
       "    </tr>\n",
       "  </tbody>\n",
       "</table>\n",
       "<p>5 rows × 81 columns</p>\n",
       "</div>"
      ],
      "text/plain": [
       "    Id        PID  MS SubClass MS Zoning  Lot Frontage  Lot Area Street Alley  \\\n",
       "0  109  533352170           60        RL           NaN     13517   Pave   NaN   \n",
       "1  544  531379050           60        RL          43.0     11492   Pave   NaN   \n",
       "2  153  535304180           20        RL          68.0      7922   Pave   NaN   \n",
       "3  318  916386060           60        RL          73.0      9802   Pave   NaN   \n",
       "4  255  906425045           50        RL          82.0     14235   Pave   NaN   \n",
       "\n",
       "  Lot Shape Land Contour  ... Screen Porch Pool Area Pool QC Fence  \\\n",
       "0       IR1          Lvl  ...            0         0     NaN   NaN   \n",
       "1       IR1          Lvl  ...            0         0     NaN   NaN   \n",
       "2       Reg          Lvl  ...            0         0     NaN   NaN   \n",
       "3       Reg          Lvl  ...            0         0     NaN   NaN   \n",
       "4       IR1          Lvl  ...            0         0     NaN   NaN   \n",
       "\n",
       "  Misc Feature Misc Val Mo Sold Yr Sold  Sale Type  SalePrice  \n",
       "0          NaN        0       3    2010        WD      130500  \n",
       "1          NaN        0       4    2009        WD      220000  \n",
       "2          NaN        0       1    2010        WD      109000  \n",
       "3          NaN        0       4    2010        WD      174000  \n",
       "4          NaN        0       3    2010        WD      138500  \n",
       "\n",
       "[5 rows x 81 columns]"
      ]
     },
     "execution_count": 3,
     "metadata": {},
     "output_type": "execute_result"
    }
   ],
   "source": [
    "df.head()"
   ]
  },
  {
   "cell_type": "code",
   "execution_count": 4,
   "id": "79817cf5",
   "metadata": {
    "ExecuteTime": {
     "end_time": "2022-08-15T14:21:12.491281Z",
     "start_time": "2022-08-15T14:21:12.466568Z"
    },
    "scrolled": false
   },
   "outputs": [
    {
     "data": {
      "text/plain": [
       "(2051, 81)"
      ]
     },
     "execution_count": 4,
     "metadata": {},
     "output_type": "execute_result"
    }
   ],
   "source": [
    "df.shape"
   ]
  },
  {
   "cell_type": "code",
   "execution_count": 5,
   "id": "705cf568",
   "metadata": {
    "ExecuteTime": {
     "end_time": "2022-08-15T14:21:12.521806Z",
     "start_time": "2022-08-15T14:21:12.497283Z"
    },
    "scrolled": true
   },
   "outputs": [
    {
     "data": {
      "text/plain": [
       "Index(['Id', 'PID', 'MS SubClass', 'MS Zoning', 'Lot Frontage', 'Lot Area',\n",
       "       'Street', 'Alley', 'Lot Shape', 'Land Contour', 'Utilities',\n",
       "       'Lot Config', 'Land Slope', 'Neighborhood', 'Condition 1',\n",
       "       'Condition 2', 'Bldg Type', 'House Style', 'Overall Qual',\n",
       "       'Overall Cond', 'Year Built', 'Year Remod/Add', 'Roof Style',\n",
       "       'Roof Matl', 'Exterior 1st', 'Exterior 2nd', 'Mas Vnr Type',\n",
       "       'Mas Vnr Area', 'Exter Qual', 'Exter Cond', 'Foundation', 'Bsmt Qual',\n",
       "       'Bsmt Cond', 'Bsmt Exposure', 'BsmtFin Type 1', 'BsmtFin SF 1',\n",
       "       'BsmtFin Type 2', 'BsmtFin SF 2', 'Bsmt Unf SF', 'Total Bsmt SF',\n",
       "       'Heating', 'Heating QC', 'Central Air', 'Electrical', '1st Flr SF',\n",
       "       '2nd Flr SF', 'Low Qual Fin SF', 'Gr Liv Area', 'Bsmt Full Bath',\n",
       "       'Bsmt Half Bath', 'Full Bath', 'Half Bath', 'Bedroom AbvGr',\n",
       "       'Kitchen AbvGr', 'Kitchen Qual', 'TotRms AbvGrd', 'Functional',\n",
       "       'Fireplaces', 'Fireplace Qu', 'Garage Type', 'Garage Yr Blt',\n",
       "       'Garage Finish', 'Garage Cars', 'Garage Area', 'Garage Qual',\n",
       "       'Garage Cond', 'Paved Drive', 'Wood Deck SF', 'Open Porch SF',\n",
       "       'Enclosed Porch', '3Ssn Porch', 'Screen Porch', 'Pool Area', 'Pool QC',\n",
       "       'Fence', 'Misc Feature', 'Misc Val', 'Mo Sold', 'Yr Sold', 'Sale Type',\n",
       "       'SalePrice'],\n",
       "      dtype='object')"
      ]
     },
     "execution_count": 5,
     "metadata": {},
     "output_type": "execute_result"
    }
   ],
   "source": [
    "df.columns"
   ]
  },
  {
   "cell_type": "markdown",
   "id": "e6fb21f8",
   "metadata": {},
   "source": [
    "There is a total of 2051 rows of data, and 81 columns of features."
   ]
  },
  {
   "cell_type": "code",
   "execution_count": 6,
   "id": "3e613e43",
   "metadata": {
    "ExecuteTime": {
     "end_time": "2022-08-15T14:21:12.598708Z",
     "start_time": "2022-08-15T14:21:12.529171Z"
    },
    "scrolled": true
   },
   "outputs": [
    {
     "name": "stdout",
     "output_type": "stream",
     "text": [
      "<class 'pandas.core.frame.DataFrame'>\n",
      "RangeIndex: 2051 entries, 0 to 2050\n",
      "Data columns (total 81 columns):\n",
      " #   Column           Non-Null Count  Dtype  \n",
      "---  ------           --------------  -----  \n",
      " 0   Id               2051 non-null   int64  \n",
      " 1   PID              2051 non-null   int64  \n",
      " 2   MS SubClass      2051 non-null   int64  \n",
      " 3   MS Zoning        2051 non-null   object \n",
      " 4   Lot Frontage     1721 non-null   float64\n",
      " 5   Lot Area         2051 non-null   int64  \n",
      " 6   Street           2051 non-null   object \n",
      " 7   Alley            140 non-null    object \n",
      " 8   Lot Shape        2051 non-null   object \n",
      " 9   Land Contour     2051 non-null   object \n",
      " 10  Utilities        2051 non-null   object \n",
      " 11  Lot Config       2051 non-null   object \n",
      " 12  Land Slope       2051 non-null   object \n",
      " 13  Neighborhood     2051 non-null   object \n",
      " 14  Condition 1      2051 non-null   object \n",
      " 15  Condition 2      2051 non-null   object \n",
      " 16  Bldg Type        2051 non-null   object \n",
      " 17  House Style      2051 non-null   object \n",
      " 18  Overall Qual     2051 non-null   int64  \n",
      " 19  Overall Cond     2051 non-null   int64  \n",
      " 20  Year Built       2051 non-null   int64  \n",
      " 21  Year Remod/Add   2051 non-null   int64  \n",
      " 22  Roof Style       2051 non-null   object \n",
      " 23  Roof Matl        2051 non-null   object \n",
      " 24  Exterior 1st     2051 non-null   object \n",
      " 25  Exterior 2nd     2051 non-null   object \n",
      " 26  Mas Vnr Type     2029 non-null   object \n",
      " 27  Mas Vnr Area     2029 non-null   float64\n",
      " 28  Exter Qual       2051 non-null   object \n",
      " 29  Exter Cond       2051 non-null   object \n",
      " 30  Foundation       2051 non-null   object \n",
      " 31  Bsmt Qual        1996 non-null   object \n",
      " 32  Bsmt Cond        1996 non-null   object \n",
      " 33  Bsmt Exposure    1993 non-null   object \n",
      " 34  BsmtFin Type 1   1996 non-null   object \n",
      " 35  BsmtFin SF 1     2050 non-null   float64\n",
      " 36  BsmtFin Type 2   1995 non-null   object \n",
      " 37  BsmtFin SF 2     2050 non-null   float64\n",
      " 38  Bsmt Unf SF      2050 non-null   float64\n",
      " 39  Total Bsmt SF    2050 non-null   float64\n",
      " 40  Heating          2051 non-null   object \n",
      " 41  Heating QC       2051 non-null   object \n",
      " 42  Central Air      2051 non-null   object \n",
      " 43  Electrical       2051 non-null   object \n",
      " 44  1st Flr SF       2051 non-null   int64  \n",
      " 45  2nd Flr SF       2051 non-null   int64  \n",
      " 46  Low Qual Fin SF  2051 non-null   int64  \n",
      " 47  Gr Liv Area      2051 non-null   int64  \n",
      " 48  Bsmt Full Bath   2049 non-null   float64\n",
      " 49  Bsmt Half Bath   2049 non-null   float64\n",
      " 50  Full Bath        2051 non-null   int64  \n",
      " 51  Half Bath        2051 non-null   int64  \n",
      " 52  Bedroom AbvGr    2051 non-null   int64  \n",
      " 53  Kitchen AbvGr    2051 non-null   int64  \n",
      " 54  Kitchen Qual     2051 non-null   object \n",
      " 55  TotRms AbvGrd    2051 non-null   int64  \n",
      " 56  Functional       2051 non-null   object \n",
      " 57  Fireplaces       2051 non-null   int64  \n",
      " 58  Fireplace Qu     1051 non-null   object \n",
      " 59  Garage Type      1938 non-null   object \n",
      " 60  Garage Yr Blt    1937 non-null   float64\n",
      " 61  Garage Finish    1937 non-null   object \n",
      " 62  Garage Cars      2050 non-null   float64\n",
      " 63  Garage Area      2050 non-null   float64\n",
      " 64  Garage Qual      1937 non-null   object \n",
      " 65  Garage Cond      1937 non-null   object \n",
      " 66  Paved Drive      2051 non-null   object \n",
      " 67  Wood Deck SF     2051 non-null   int64  \n",
      " 68  Open Porch SF    2051 non-null   int64  \n",
      " 69  Enclosed Porch   2051 non-null   int64  \n",
      " 70  3Ssn Porch       2051 non-null   int64  \n",
      " 71  Screen Porch     2051 non-null   int64  \n",
      " 72  Pool Area        2051 non-null   int64  \n",
      " 73  Pool QC          9 non-null      object \n",
      " 74  Fence            400 non-null    object \n",
      " 75  Misc Feature     65 non-null     object \n",
      " 76  Misc Val         2051 non-null   int64  \n",
      " 77  Mo Sold          2051 non-null   int64  \n",
      " 78  Yr Sold          2051 non-null   int64  \n",
      " 79  Sale Type        2051 non-null   object \n",
      " 80  SalePrice        2051 non-null   int64  \n",
      "dtypes: float64(11), int64(28), object(42)\n",
      "memory usage: 1.3+ MB\n"
     ]
    }
   ],
   "source": [
    "df.info()"
   ]
  },
  {
   "cell_type": "markdown",
   "id": "1857f1d7",
   "metadata": {},
   "source": [
    "Based on the above info we now know that there are 39 numerical value features and 42 categorical features"
   ]
  },
  {
   "cell_type": "code",
   "execution_count": 7,
   "id": "65e84212",
   "metadata": {
    "ExecuteTime": {
     "end_time": "2022-08-15T14:21:12.644978Z",
     "start_time": "2022-08-15T14:21:12.603241Z"
    },
    "scrolled": true
   },
   "outputs": [
    {
     "data": {
      "text/plain": [
       "Id                0\n",
       "PID               0\n",
       "MS SubClass       0\n",
       "MS Zoning         0\n",
       "Lot Frontage    330\n",
       "               ... \n",
       "Misc Val          0\n",
       "Mo Sold           0\n",
       "Yr Sold           0\n",
       "Sale Type         0\n",
       "SalePrice         0\n",
       "Length: 81, dtype: int64"
      ]
     },
     "execution_count": 7,
     "metadata": {},
     "output_type": "execute_result"
    }
   ],
   "source": [
    "df.isnull().sum()"
   ]
  },
  {
   "cell_type": "markdown",
   "id": "23fcd772",
   "metadata": {},
   "source": [
    "Target variable is sale price"
   ]
  },
  {
   "cell_type": "code",
   "execution_count": 8,
   "id": "31422142",
   "metadata": {
    "ExecuteTime": {
     "end_time": "2022-08-15T14:21:12.660450Z",
     "start_time": "2022-08-15T14:21:12.648243Z"
    },
    "scrolled": true
   },
   "outputs": [
    {
     "data": {
      "text/plain": [
       "count      2051.000000\n",
       "mean     181469.701609\n",
       "std       79258.659352\n",
       "min       12789.000000\n",
       "25%      129825.000000\n",
       "50%      162500.000000\n",
       "75%      214000.000000\n",
       "max      611657.000000\n",
       "Name: SalePrice, dtype: float64"
      ]
     },
     "execution_count": 8,
     "metadata": {},
     "output_type": "execute_result"
    }
   ],
   "source": [
    "df.SalePrice.describe()"
   ]
  },
  {
   "cell_type": "code",
   "execution_count": 9,
   "id": "51d4de09",
   "metadata": {
    "ExecuteTime": {
     "end_time": "2022-08-15T14:21:13.916487Z",
     "start_time": "2022-08-15T14:21:12.664246Z"
    },
    "scrolled": false
   },
   "outputs": [
    {
     "name": "stderr",
     "output_type": "stream",
     "text": [
      "C:\\Users\\v-weihaoloh\\Anaconda3\\envs\\anacondabackup\\lib\\site-packages\\seaborn\\distributions.py:2619: FutureWarning: `distplot` is a deprecated function and will be removed in a future version. Please adapt your code to use either `displot` (a figure-level function with similar flexibility) or `histplot` (an axes-level function for histograms).\n",
      "  warnings.warn(msg, FutureWarning)\n"
     ]
    },
    {
     "data": {
      "text/plain": [
       "<matplotlib.lines.Line2D at 0x206176fa310>"
      ]
     },
     "execution_count": 9,
     "metadata": {},
     "output_type": "execute_result"
    },
    {
     "data": {
      "image/png": "[encoded data removed]",
      "text/plain": [
       "<Figure size 432x288 with 1 Axes>"
      ]
     },
     "metadata": {
      "needs_background": "light"
     },
     "output_type": "display_data"
    }
   ],
   "source": [
    "fig = sns.distplot(df['SalePrice'], color='g', bins=100)\n",
    "plt.axvline(df['SalePrice'].mean(), 0, 1)\n",
    "plt.axvline(df['SalePrice'].median(), 0, 1, color='r')"
   ]
  },
  {
   "cell_type": "code",
   "execution_count": 10,
   "id": "9a960a3e",
   "metadata": {
    "ExecuteTime": {
     "end_time": "2022-08-15T14:21:14.072456Z",
     "start_time": "2022-08-15T14:21:13.921672Z"
    },
    "scrolled": true
   },
   "outputs": [
    {
     "data": {
      "image/png": "[encoded data removed]",
      "text/plain": [
       "<Figure size 432x288 with 1 Axes>"
      ]
     },
     "metadata": {
      "needs_background": "light"
     },
     "output_type": "display_data"
    }
   ],
   "source": [
    "fig = plt.figure()\n",
    "res = stats.probplot(df['SalePrice'], plot=plt)\n",
    "plt.show()"
   ]
  },
  {
   "cell_type": "markdown",
   "id": "22fa7ffc",
   "metadata": {},
   "source": [
    "We can see that there is a pronounced curve on the Sales price.\n",
    "The target variable is right skewed. As linear models tends to work better in a normal distribution, we need to transform this variable and make it more normally distributed."
   ]
  },
  {
   "cell_type": "code",
   "execution_count": 11,
   "id": "c523104a",
   "metadata": {
    "ExecuteTime": {
     "end_time": "2022-08-15T14:21:14.087783Z",
     "start_time": "2022-08-15T14:21:14.075133Z"
    }
   },
   "outputs": [],
   "source": [
    "#We use the numpy fuction log1p which  applies log(1+x) to all elements of the column\n",
    "df[\"SalePrice\"] = np.log1p(df[\"SalePrice\"])"
   ]
  },
  {
   "cell_type": "code",
   "execution_count": 12,
   "id": "8f8e1477",
   "metadata": {
    "ExecuteTime": {
     "end_time": "2022-08-15T14:21:14.605853Z",
     "start_time": "2022-08-15T14:21:14.089805Z"
    },
    "scrolled": true
   },
   "outputs": [
    {
     "name": "stderr",
     "output_type": "stream",
     "text": [
      "C:\\Users\\v-weihaoloh\\Anaconda3\\envs\\anacondabackup\\lib\\site-packages\\seaborn\\distributions.py:2619: FutureWarning: `distplot` is a deprecated function and will be removed in a future version. Please adapt your code to use either `displot` (a figure-level function with similar flexibility) or `histplot` (an axes-level function for histograms).\n",
      "  warnings.warn(msg, FutureWarning)\n"
     ]
    },
    {
     "data": {
      "text/plain": [
       "<matplotlib.lines.Line2D at 0x206184f9280>"
      ]
     },
     "execution_count": 12,
     "metadata": {},
     "output_type": "execute_result"
    },
    {
     "data": {
      "image/png": "[encoded data removed]",
      "text/plain": [
       "<Figure size 432x288 with 1 Axes>"
      ]
     },
     "metadata": {
      "needs_background": "light"
     },
     "output_type": "display_data"
    }
   ],
   "source": [
    "fig = sns.distplot(df['SalePrice'], color='g', bins=100)\n",
    "plt.axvline(df['SalePrice'].mean(), 0, 1)\n",
    "plt.axvline(df['SalePrice'].median(), 0, 1, color='r')"
   ]
  },
  {
   "cell_type": "markdown",
   "id": "2aa892fe",
   "metadata": {},
   "source": [
    "We can see that SalePrice is right skewed, with a median > mean"
   ]
  },
  {
   "cell_type": "code",
   "execution_count": 13,
   "id": "7abf1d46",
   "metadata": {
    "ExecuteTime": {
     "end_time": "2022-08-15T14:21:14.839548Z",
     "start_time": "2022-08-15T14:21:14.609190Z"
    },
    "scrolled": true
   },
   "outputs": [
    {
     "data": {
      "image/png": "[encoded data removed]",
      "text/plain": [
       "<Figure size 432x288 with 1 Axes>"
      ]
     },
     "metadata": {
      "needs_background": "light"
     },
     "output_type": "display_data"
    }
   ],
   "source": [
    "fig = plt.figure()\n",
    "res = stats.probplot(df['SalePrice'], plot=plt)\n",
    "plt.show()"
   ]
  },
  {
   "cell_type": "code",
   "execution_count": 14,
   "id": "019e65a8",
   "metadata": {
    "ExecuteTime": {
     "end_time": "2022-08-15T14:21:14.870138Z",
     "start_time": "2022-08-15T14:21:14.843918Z"
    },
    "run_control": {
     "marked": true
    }
   },
   "outputs": [],
   "source": [
    "#Dropping the outliers below 10\n",
    "df.drop(df[(df['SalePrice']<10)].index,inplace=True)"
   ]
  },
  {
   "cell_type": "code",
   "execution_count": 15,
   "id": "0a9eb118",
   "metadata": {
    "ExecuteTime": {
     "end_time": "2022-08-15T14:21:15.435188Z",
     "start_time": "2022-08-15T14:21:14.873879Z"
    }
   },
   "outputs": [
    {
     "name": "stderr",
     "output_type": "stream",
     "text": [
      "C:\\Users\\v-weihaoloh\\Anaconda3\\envs\\anacondabackup\\lib\\site-packages\\seaborn\\distributions.py:2619: FutureWarning: `distplot` is a deprecated function and will be removed in a future version. Please adapt your code to use either `displot` (a figure-level function with similar flexibility) or `histplot` (an axes-level function for histograms).\n",
      "  warnings.warn(msg, FutureWarning)\n"
     ]
    },
    {
     "data": {
      "text/plain": [
       "<matplotlib.lines.Line2D at 0x206184611c0>"
      ]
     },
     "execution_count": 15,
     "metadata": {},
     "output_type": "execute_result"
    },
    {
     "data": {
      "image/png": "[encoded data removed]",
      "text/plain": [
       "<Figure size 432x288 with 1 Axes>"
      ]
     },
     "metadata": {
      "needs_background": "light"
     },
     "output_type": "display_data"
    }
   ],
   "source": [
    "fig = sns.distplot(df['SalePrice'], color='g', bins=100)\n",
    "plt.axvline(df['SalePrice'].mean(), 0, 1)\n",
    "plt.axvline(df['SalePrice'].median(), 0, 1, color='r')"
   ]
  },
  {
   "cell_type": "code",
   "execution_count": 16,
   "id": "77e8c4b0",
   "metadata": {
    "ExecuteTime": {
     "end_time": "2022-08-15T14:21:15.593307Z",
     "start_time": "2022-08-15T14:21:15.437968Z"
    },
    "scrolled": true
   },
   "outputs": [
    {
     "data": {
      "image/png": "[encoded data removed]",
      "text/plain": [
       "<Figure size 432x288 with 1 Axes>"
      ]
     },
     "metadata": {
      "needs_background": "light"
     },
     "output_type": "display_data"
    }
   ],
   "source": [
    "fig = plt.figure()\n",
    "res = stats.probplot(df['SalePrice'], plot=plt)\n",
    "plt.show()"
   ]
  },
  {
   "cell_type": "code",
   "execution_count": 17,
   "id": "3f10e1a1",
   "metadata": {
    "ExecuteTime": {
     "end_time": "2022-08-15T14:21:15.608669Z",
     "start_time": "2022-08-15T14:21:15.595448Z"
    }
   },
   "outputs": [
    {
     "data": {
      "text/plain": [
       "(2049, 81)"
      ]
     },
     "execution_count": 17,
     "metadata": {},
     "output_type": "execute_result"
    }
   ],
   "source": [
    "df.shape"
   ]
  },
  {
   "cell_type": "markdown",
   "id": "9e98a5d8",
   "metadata": {},
   "source": [
    "From the data dictionary, \n",
    "We noted that there are 3 data that \"MSSubClass\" should be categorical.  "
   ]
  },
  {
   "cell_type": "code",
   "execution_count": 18,
   "id": "31ab8811",
   "metadata": {
    "ExecuteTime": {
     "end_time": "2022-08-15T14:21:15.624810Z",
     "start_time": "2022-08-15T14:21:15.611435Z"
    }
   },
   "outputs": [],
   "source": [
    "df['MSSubClass'] = df['MS SubClass'].apply(str)"
   ]
  },
  {
   "cell_type": "markdown",
   "id": "41f99c29",
   "metadata": {},
   "source": [
    "#### Handling Missing Values"
   ]
  },
  {
   "cell_type": "markdown",
   "id": "ae0c3d56",
   "metadata": {},
   "source": [
    "Lets analyse the number of null vlaues and its percentage"
   ]
  },
  {
   "cell_type": "code",
   "execution_count": 19,
   "id": "81c4d050",
   "metadata": {
    "ExecuteTime": {
     "end_time": "2022-08-15T14:21:15.655700Z",
     "start_time": "2022-08-15T14:21:15.627250Z"
    },
    "scrolled": true
   },
   "outputs": [
    {
     "data": {
      "text/plain": [
       "Id                0\n",
       "PID               0\n",
       "MS SubClass       0\n",
       "MS Zoning         0\n",
       "Lot Frontage    330\n",
       "               ... \n",
       "Mo Sold           0\n",
       "Yr Sold           0\n",
       "Sale Type         0\n",
       "SalePrice         0\n",
       "MSSubClass        0\n",
       "Length: 82, dtype: int64"
      ]
     },
     "execution_count": 19,
     "metadata": {},
     "output_type": "execute_result"
    }
   ],
   "source": [
    "missing_value = df.isnull().sum()\n",
    "missing_value"
   ]
  },
  {
   "cell_type": "code",
   "execution_count": 20,
   "id": "432bc5de",
   "metadata": {
    "ExecuteTime": {
     "end_time": "2022-08-15T14:21:15.701881Z",
     "start_time": "2022-08-15T14:21:15.659095Z"
    },
    "scrolled": true
   },
   "outputs": [
    {
     "data": {
      "text/plain": [
       "Id              0.000000\n",
       "PID             0.000000\n",
       "MS SubClass     0.000000\n",
       "MS Zoning       0.000000\n",
       "Lot Frontage    0.161054\n",
       "                  ...   \n",
       "Mo Sold         0.000000\n",
       "Yr Sold         0.000000\n",
       "Sale Type       0.000000\n",
       "SalePrice       0.000000\n",
       "MSSubClass      0.000000\n",
       "Length: 82, dtype: float64"
      ]
     },
     "execution_count": 20,
     "metadata": {},
     "output_type": "execute_result"
    }
   ],
   "source": [
    "percentage_missing = (df.isnull().sum() / df.isnull().count())\n",
    "percentage_missing"
   ]
  },
  {
   "cell_type": "code",
   "execution_count": 21,
   "id": "fc8cc9d4",
   "metadata": {
    "ExecuteTime": {
     "end_time": "2022-08-15T14:21:15.732240Z",
     "start_time": "2022-08-15T14:21:15.705745Z"
    },
    "scrolled": true
   },
   "outputs": [
    {
     "data": {
      "text/html": [
       "<div>\n",
       "<style scoped>\n",
       "    .dataframe tbody tr th:only-of-type {\n",
       "        vertical-align: middle;\n",
       "    }\n",
       "\n",
       "    .dataframe tbody tr th {\n",
       "        vertical-align: top;\n",
       "    }\n",
       "\n",
       "    .dataframe thead th {\n",
       "        text-align: right;\n",
       "    }\n",
       "</style>\n",
       "<table border=\"1\" class=\"dataframe\">\n",
       "  <thead>\n",
       "    <tr style=\"text-align: right;\">\n",
       "      <th></th>\n",
       "      <th>missing</th>\n",
       "      <th>percent</th>\n",
       "    </tr>\n",
       "  </thead>\n",
       "  <tbody>\n",
       "    <tr>\n",
       "      <th>Pool QC</th>\n",
       "      <td>2040</td>\n",
       "      <td>0.995608</td>\n",
       "    </tr>\n",
       "    <tr>\n",
       "      <th>Misc Feature</th>\n",
       "      <td>1984</td>\n",
       "      <td>0.968277</td>\n",
       "    </tr>\n",
       "    <tr>\n",
       "      <th>Alley</th>\n",
       "      <td>1909</td>\n",
       "      <td>0.931674</td>\n",
       "    </tr>\n",
       "    <tr>\n",
       "      <th>Fence</th>\n",
       "      <td>1649</td>\n",
       "      <td>0.804783</td>\n",
       "    </tr>\n",
       "    <tr>\n",
       "      <th>Fireplace Qu</th>\n",
       "      <td>999</td>\n",
       "      <td>0.487555</td>\n",
       "    </tr>\n",
       "    <tr>\n",
       "      <th>...</th>\n",
       "      <td>...</td>\n",
       "      <td>...</td>\n",
       "    </tr>\n",
       "    <tr>\n",
       "      <th>Central Air</th>\n",
       "      <td>0</td>\n",
       "      <td>0.000000</td>\n",
       "    </tr>\n",
       "    <tr>\n",
       "      <th>Electrical</th>\n",
       "      <td>0</td>\n",
       "      <td>0.000000</td>\n",
       "    </tr>\n",
       "    <tr>\n",
       "      <th>1st Flr SF</th>\n",
       "      <td>0</td>\n",
       "      <td>0.000000</td>\n",
       "    </tr>\n",
       "    <tr>\n",
       "      <th>2nd Flr SF</th>\n",
       "      <td>0</td>\n",
       "      <td>0.000000</td>\n",
       "    </tr>\n",
       "    <tr>\n",
       "      <th>MSSubClass</th>\n",
       "      <td>0</td>\n",
       "      <td>0.000000</td>\n",
       "    </tr>\n",
       "  </tbody>\n",
       "</table>\n",
       "<p>82 rows × 2 columns</p>\n",
       "</div>"
      ],
      "text/plain": [
       "              missing   percent\n",
       "Pool QC          2040  0.995608\n",
       "Misc Feature     1984  0.968277\n",
       "Alley            1909  0.931674\n",
       "Fence            1649  0.804783\n",
       "Fireplace Qu      999  0.487555\n",
       "...               ...       ...\n",
       "Central Air         0  0.000000\n",
       "Electrical          0  0.000000\n",
       "1st Flr SF          0  0.000000\n",
       "2nd Flr SF          0  0.000000\n",
       "MSSubClass          0  0.000000\n",
       "\n",
       "[82 rows x 2 columns]"
      ]
     },
     "execution_count": 21,
     "metadata": {},
     "output_type": "execute_result"
    }
   ],
   "source": [
    "missing_data = pd.concat([missing_value, percentage_missing],\n",
    "                         axis=1,\n",
    "                         keys=['missing','percent']).sort_values(ascending=False,by='missing')\n",
    "missing_data"
   ]
  },
  {
   "cell_type": "markdown",
   "id": "92b350db",
   "metadata": {},
   "source": [
    "We will be dropping features that has above 10% null values\n",
    "Also, the ID will also be removed as this field identifies each feature in the dataset and, consequently, is processed differently than other fields. The ID field is not a good explanatory or dependent variable for a regression model."
   ]
  },
  {
   "cell_type": "code",
   "execution_count": 22,
   "id": "6177eda2",
   "metadata": {
    "ExecuteTime": {
     "end_time": "2022-08-15T14:21:15.764473Z",
     "start_time": "2022-08-15T14:21:15.737736Z"
    },
    "scrolled": true
   },
   "outputs": [],
   "source": [
    "df.drop(columns=[\n",
    "    'Pool QC', 'Misc Feature', 'Alley', 'Fence', 'Fireplace Qu',\n",
    "    'Lot Frontage', 'Id','PID'\n",
    "],\n",
    "        inplace=True)"
   ]
  },
  {
   "cell_type": "code",
   "execution_count": 23,
   "id": "a3e709a2",
   "metadata": {
    "ExecuteTime": {
     "end_time": "2022-08-15T14:21:15.810261Z",
     "start_time": "2022-08-15T14:21:15.769166Z"
    }
   },
   "outputs": [
    {
     "data": {
      "text/html": [
       "<div>\n",
       "<style scoped>\n",
       "    .dataframe tbody tr th:only-of-type {\n",
       "        vertical-align: middle;\n",
       "    }\n",
       "\n",
       "    .dataframe tbody tr th {\n",
       "        vertical-align: top;\n",
       "    }\n",
       "\n",
       "    .dataframe thead th {\n",
       "        text-align: right;\n",
       "    }\n",
       "</style>\n",
       "<table border=\"1\" class=\"dataframe\">\n",
       "  <thead>\n",
       "    <tr style=\"text-align: right;\">\n",
       "      <th></th>\n",
       "      <th>MS SubClass</th>\n",
       "      <th>MS Zoning</th>\n",
       "      <th>Lot Area</th>\n",
       "      <th>Street</th>\n",
       "      <th>Lot Shape</th>\n",
       "      <th>Land Contour</th>\n",
       "      <th>Utilities</th>\n",
       "      <th>Lot Config</th>\n",
       "      <th>Land Slope</th>\n",
       "      <th>Neighborhood</th>\n",
       "      <th>...</th>\n",
       "      <th>Enclosed Porch</th>\n",
       "      <th>3Ssn Porch</th>\n",
       "      <th>Screen Porch</th>\n",
       "      <th>Pool Area</th>\n",
       "      <th>Misc Val</th>\n",
       "      <th>Mo Sold</th>\n",
       "      <th>Yr Sold</th>\n",
       "      <th>Sale Type</th>\n",
       "      <th>SalePrice</th>\n",
       "      <th>MSSubClass</th>\n",
       "    </tr>\n",
       "  </thead>\n",
       "  <tbody>\n",
       "    <tr>\n",
       "      <th>0</th>\n",
       "      <td>60</td>\n",
       "      <td>RL</td>\n",
       "      <td>13517</td>\n",
       "      <td>Pave</td>\n",
       "      <td>IR1</td>\n",
       "      <td>Lvl</td>\n",
       "      <td>AllPub</td>\n",
       "      <td>CulDSac</td>\n",
       "      <td>Gtl</td>\n",
       "      <td>Sawyer</td>\n",
       "      <td>...</td>\n",
       "      <td>0</td>\n",
       "      <td>0</td>\n",
       "      <td>0</td>\n",
       "      <td>0</td>\n",
       "      <td>0</td>\n",
       "      <td>3</td>\n",
       "      <td>2010</td>\n",
       "      <td>WD</td>\n",
       "      <td>11.779136</td>\n",
       "      <td>60</td>\n",
       "    </tr>\n",
       "    <tr>\n",
       "      <th>1</th>\n",
       "      <td>60</td>\n",
       "      <td>RL</td>\n",
       "      <td>11492</td>\n",
       "      <td>Pave</td>\n",
       "      <td>IR1</td>\n",
       "      <td>Lvl</td>\n",
       "      <td>AllPub</td>\n",
       "      <td>CulDSac</td>\n",
       "      <td>Gtl</td>\n",
       "      <td>SawyerW</td>\n",
       "      <td>...</td>\n",
       "      <td>0</td>\n",
       "      <td>0</td>\n",
       "      <td>0</td>\n",
       "      <td>0</td>\n",
       "      <td>0</td>\n",
       "      <td>4</td>\n",
       "      <td>2009</td>\n",
       "      <td>WD</td>\n",
       "      <td>12.301387</td>\n",
       "      <td>60</td>\n",
       "    </tr>\n",
       "    <tr>\n",
       "      <th>2</th>\n",
       "      <td>20</td>\n",
       "      <td>RL</td>\n",
       "      <td>7922</td>\n",
       "      <td>Pave</td>\n",
       "      <td>Reg</td>\n",
       "      <td>Lvl</td>\n",
       "      <td>AllPub</td>\n",
       "      <td>Inside</td>\n",
       "      <td>Gtl</td>\n",
       "      <td>NAmes</td>\n",
       "      <td>...</td>\n",
       "      <td>0</td>\n",
       "      <td>0</td>\n",
       "      <td>0</td>\n",
       "      <td>0</td>\n",
       "      <td>0</td>\n",
       "      <td>1</td>\n",
       "      <td>2010</td>\n",
       "      <td>WD</td>\n",
       "      <td>11.599112</td>\n",
       "      <td>20</td>\n",
       "    </tr>\n",
       "    <tr>\n",
       "      <th>3</th>\n",
       "      <td>60</td>\n",
       "      <td>RL</td>\n",
       "      <td>9802</td>\n",
       "      <td>Pave</td>\n",
       "      <td>Reg</td>\n",
       "      <td>Lvl</td>\n",
       "      <td>AllPub</td>\n",
       "      <td>Inside</td>\n",
       "      <td>Gtl</td>\n",
       "      <td>Timber</td>\n",
       "      <td>...</td>\n",
       "      <td>0</td>\n",
       "      <td>0</td>\n",
       "      <td>0</td>\n",
       "      <td>0</td>\n",
       "      <td>0</td>\n",
       "      <td>4</td>\n",
       "      <td>2010</td>\n",
       "      <td>WD</td>\n",
       "      <td>12.066816</td>\n",
       "      <td>60</td>\n",
       "    </tr>\n",
       "    <tr>\n",
       "      <th>4</th>\n",
       "      <td>50</td>\n",
       "      <td>RL</td>\n",
       "      <td>14235</td>\n",
       "      <td>Pave</td>\n",
       "      <td>IR1</td>\n",
       "      <td>Lvl</td>\n",
       "      <td>AllPub</td>\n",
       "      <td>Inside</td>\n",
       "      <td>Gtl</td>\n",
       "      <td>SawyerW</td>\n",
       "      <td>...</td>\n",
       "      <td>0</td>\n",
       "      <td>0</td>\n",
       "      <td>0</td>\n",
       "      <td>0</td>\n",
       "      <td>0</td>\n",
       "      <td>3</td>\n",
       "      <td>2010</td>\n",
       "      <td>WD</td>\n",
       "      <td>11.838633</td>\n",
       "      <td>50</td>\n",
       "    </tr>\n",
       "  </tbody>\n",
       "</table>\n",
       "<p>5 rows × 74 columns</p>\n",
       "</div>"
      ],
      "text/plain": [
       "   MS SubClass MS Zoning  Lot Area Street Lot Shape Land Contour Utilities  \\\n",
       "0           60        RL     13517   Pave       IR1          Lvl    AllPub   \n",
       "1           60        RL     11492   Pave       IR1          Lvl    AllPub   \n",
       "2           20        RL      7922   Pave       Reg          Lvl    AllPub   \n",
       "3           60        RL      9802   Pave       Reg          Lvl    AllPub   \n",
       "4           50        RL     14235   Pave       IR1          Lvl    AllPub   \n",
       "\n",
       "  Lot Config Land Slope Neighborhood  ... Enclosed Porch 3Ssn Porch  \\\n",
       "0    CulDSac        Gtl       Sawyer  ...              0          0   \n",
       "1    CulDSac        Gtl      SawyerW  ...              0          0   \n",
       "2     Inside        Gtl        NAmes  ...              0          0   \n",
       "3     Inside        Gtl       Timber  ...              0          0   \n",
       "4     Inside        Gtl      SawyerW  ...              0          0   \n",
       "\n",
       "  Screen Porch Pool Area  Misc Val  Mo Sold  Yr Sold  Sale Type  SalePrice  \\\n",
       "0            0         0         0        3     2010        WD   11.779136   \n",
       "1            0         0         0        4     2009        WD   12.301387   \n",
       "2            0         0         0        1     2010        WD   11.599112   \n",
       "3            0         0         0        4     2010        WD   12.066816   \n",
       "4            0         0         0        3     2010        WD   11.838633   \n",
       "\n",
       "  MSSubClass  \n",
       "0         60  \n",
       "1         60  \n",
       "2         20  \n",
       "3         60  \n",
       "4         50  \n",
       "\n",
       "[5 rows x 74 columns]"
      ]
     },
     "execution_count": 23,
     "metadata": {},
     "output_type": "execute_result"
    }
   ],
   "source": [
    "df.head()"
   ]
  },
  {
   "cell_type": "markdown",
   "id": "1a9580ac",
   "metadata": {},
   "source": [
    "#### Fill missing values\n",
    "Since there are categorical + numerical data, we need to split them up as it is illogical to fill na with average on categorical data.\n",
    "\n",
    "We will be taking the approach listed below:  \n",
    "-Numerical Data fill na with 0   \n",
    "-Categorical data fill na with highest frequency string\n"
   ]
  },
  {
   "cell_type": "code",
   "execution_count": 24,
   "id": "f317886b",
   "metadata": {
    "ExecuteTime": {
     "end_time": "2022-08-15T14:21:15.841776Z",
     "start_time": "2022-08-15T14:21:15.815662Z"
    }
   },
   "outputs": [],
   "source": [
    "#we create a function to fill na since we need to do the same for test file as well\n",
    "def fill_na(x):\n",
    "    numerics = ['int16', 'int32', 'int64', 'float16', 'float32', 'float64']\n",
    "    df_num = x.select_dtypes(include=numerics)\n",
    "    df_num = df_num.fillna(0)\n",
    "    df_obj = x.select_dtypes(include='object')\n",
    "    df_obj = df_obj.fillna(df_obj.mode().iloc[0])\n",
    "    x = pd.concat([df_obj,df_num], axis=1)\n",
    "    return x"
   ]
  },
  {
   "cell_type": "code",
   "execution_count": 25,
   "id": "bf618d4e",
   "metadata": {
    "ExecuteTime": {
     "end_time": "2022-08-15T14:21:15.953059Z",
     "start_time": "2022-08-15T14:21:15.847813Z"
    },
    "run_control": {
     "marked": false
    }
   },
   "outputs": [],
   "source": [
    "df = fill_na(df)"
   ]
  },
  {
   "cell_type": "code",
   "execution_count": 26,
   "id": "d354979e",
   "metadata": {
    "ExecuteTime": {
     "end_time": "2022-08-15T14:21:16.015152Z",
     "start_time": "2022-08-15T14:21:15.958698Z"
    },
    "scrolled": true
   },
   "outputs": [
    {
     "data": {
      "text/plain": [
       "MS Zoning       0\n",
       "Street          0\n",
       "Lot Shape       0\n",
       "Land Contour    0\n",
       "Utilities       0\n",
       "               ..\n",
       "Pool Area       0\n",
       "Misc Val        0\n",
       "Mo Sold         0\n",
       "Yr Sold         0\n",
       "SalePrice       0\n",
       "Length: 74, dtype: int64"
      ]
     },
     "execution_count": 26,
     "metadata": {},
     "output_type": "execute_result"
    }
   ],
   "source": [
    "df.isnull().sum()"
   ]
  },
  {
   "cell_type": "code",
   "execution_count": 27,
   "id": "a2b8dee1",
   "metadata": {
    "ExecuteTime": {
     "end_time": "2022-08-15T14:21:16.076515Z",
     "start_time": "2022-08-15T14:21:16.022069Z"
    },
    "scrolled": true
   },
   "outputs": [
    {
     "data": {
      "text/html": [
       "<div>\n",
       "<style scoped>\n",
       "    .dataframe tbody tr th:only-of-type {\n",
       "        vertical-align: middle;\n",
       "    }\n",
       "\n",
       "    .dataframe tbody tr th {\n",
       "        vertical-align: top;\n",
       "    }\n",
       "\n",
       "    .dataframe thead th {\n",
       "        text-align: right;\n",
       "    }\n",
       "</style>\n",
       "<table border=\"1\" class=\"dataframe\">\n",
       "  <thead>\n",
       "    <tr style=\"text-align: right;\">\n",
       "      <th></th>\n",
       "      <th>MS Zoning</th>\n",
       "      <th>Street</th>\n",
       "      <th>Lot Shape</th>\n",
       "      <th>Land Contour</th>\n",
       "      <th>Utilities</th>\n",
       "      <th>Lot Config</th>\n",
       "      <th>Land Slope</th>\n",
       "      <th>Neighborhood</th>\n",
       "      <th>Condition 1</th>\n",
       "      <th>Condition 2</th>\n",
       "      <th>...</th>\n",
       "      <th>Wood Deck SF</th>\n",
       "      <th>Open Porch SF</th>\n",
       "      <th>Enclosed Porch</th>\n",
       "      <th>3Ssn Porch</th>\n",
       "      <th>Screen Porch</th>\n",
       "      <th>Pool Area</th>\n",
       "      <th>Misc Val</th>\n",
       "      <th>Mo Sold</th>\n",
       "      <th>Yr Sold</th>\n",
       "      <th>SalePrice</th>\n",
       "    </tr>\n",
       "  </thead>\n",
       "  <tbody>\n",
       "    <tr>\n",
       "      <th>0</th>\n",
       "      <td>RL</td>\n",
       "      <td>Pave</td>\n",
       "      <td>IR1</td>\n",
       "      <td>Lvl</td>\n",
       "      <td>AllPub</td>\n",
       "      <td>CulDSac</td>\n",
       "      <td>Gtl</td>\n",
       "      <td>Sawyer</td>\n",
       "      <td>RRAe</td>\n",
       "      <td>Norm</td>\n",
       "      <td>...</td>\n",
       "      <td>0</td>\n",
       "      <td>44</td>\n",
       "      <td>0</td>\n",
       "      <td>0</td>\n",
       "      <td>0</td>\n",
       "      <td>0</td>\n",
       "      <td>0</td>\n",
       "      <td>3</td>\n",
       "      <td>2010</td>\n",
       "      <td>11.779136</td>\n",
       "    </tr>\n",
       "    <tr>\n",
       "      <th>1</th>\n",
       "      <td>RL</td>\n",
       "      <td>Pave</td>\n",
       "      <td>IR1</td>\n",
       "      <td>Lvl</td>\n",
       "      <td>AllPub</td>\n",
       "      <td>CulDSac</td>\n",
       "      <td>Gtl</td>\n",
       "      <td>SawyerW</td>\n",
       "      <td>Norm</td>\n",
       "      <td>Norm</td>\n",
       "      <td>...</td>\n",
       "      <td>0</td>\n",
       "      <td>74</td>\n",
       "      <td>0</td>\n",
       "      <td>0</td>\n",
       "      <td>0</td>\n",
       "      <td>0</td>\n",
       "      <td>0</td>\n",
       "      <td>4</td>\n",
       "      <td>2009</td>\n",
       "      <td>12.301387</td>\n",
       "    </tr>\n",
       "    <tr>\n",
       "      <th>2</th>\n",
       "      <td>RL</td>\n",
       "      <td>Pave</td>\n",
       "      <td>Reg</td>\n",
       "      <td>Lvl</td>\n",
       "      <td>AllPub</td>\n",
       "      <td>Inside</td>\n",
       "      <td>Gtl</td>\n",
       "      <td>NAmes</td>\n",
       "      <td>Norm</td>\n",
       "      <td>Norm</td>\n",
       "      <td>...</td>\n",
       "      <td>0</td>\n",
       "      <td>52</td>\n",
       "      <td>0</td>\n",
       "      <td>0</td>\n",
       "      <td>0</td>\n",
       "      <td>0</td>\n",
       "      <td>0</td>\n",
       "      <td>1</td>\n",
       "      <td>2010</td>\n",
       "      <td>11.599112</td>\n",
       "    </tr>\n",
       "    <tr>\n",
       "      <th>3</th>\n",
       "      <td>RL</td>\n",
       "      <td>Pave</td>\n",
       "      <td>Reg</td>\n",
       "      <td>Lvl</td>\n",
       "      <td>AllPub</td>\n",
       "      <td>Inside</td>\n",
       "      <td>Gtl</td>\n",
       "      <td>Timber</td>\n",
       "      <td>Norm</td>\n",
       "      <td>Norm</td>\n",
       "      <td>...</td>\n",
       "      <td>100</td>\n",
       "      <td>0</td>\n",
       "      <td>0</td>\n",
       "      <td>0</td>\n",
       "      <td>0</td>\n",
       "      <td>0</td>\n",
       "      <td>0</td>\n",
       "      <td>4</td>\n",
       "      <td>2010</td>\n",
       "      <td>12.066816</td>\n",
       "    </tr>\n",
       "    <tr>\n",
       "      <th>4</th>\n",
       "      <td>RL</td>\n",
       "      <td>Pave</td>\n",
       "      <td>IR1</td>\n",
       "      <td>Lvl</td>\n",
       "      <td>AllPub</td>\n",
       "      <td>Inside</td>\n",
       "      <td>Gtl</td>\n",
       "      <td>SawyerW</td>\n",
       "      <td>Norm</td>\n",
       "      <td>Norm</td>\n",
       "      <td>...</td>\n",
       "      <td>0</td>\n",
       "      <td>59</td>\n",
       "      <td>0</td>\n",
       "      <td>0</td>\n",
       "      <td>0</td>\n",
       "      <td>0</td>\n",
       "      <td>0</td>\n",
       "      <td>3</td>\n",
       "      <td>2010</td>\n",
       "      <td>11.838633</td>\n",
       "    </tr>\n",
       "  </tbody>\n",
       "</table>\n",
       "<p>5 rows × 74 columns</p>\n",
       "</div>"
      ],
      "text/plain": [
       "  MS Zoning Street Lot Shape Land Contour Utilities Lot Config Land Slope  \\\n",
       "0        RL   Pave       IR1          Lvl    AllPub    CulDSac        Gtl   \n",
       "1        RL   Pave       IR1          Lvl    AllPub    CulDSac        Gtl   \n",
       "2        RL   Pave       Reg          Lvl    AllPub     Inside        Gtl   \n",
       "3        RL   Pave       Reg          Lvl    AllPub     Inside        Gtl   \n",
       "4        RL   Pave       IR1          Lvl    AllPub     Inside        Gtl   \n",
       "\n",
       "  Neighborhood Condition 1 Condition 2  ... Wood Deck SF Open Porch SF  \\\n",
       "0       Sawyer        RRAe        Norm  ...            0            44   \n",
       "1      SawyerW        Norm        Norm  ...            0            74   \n",
       "2        NAmes        Norm        Norm  ...            0            52   \n",
       "3       Timber        Norm        Norm  ...          100             0   \n",
       "4      SawyerW        Norm        Norm  ...            0            59   \n",
       "\n",
       "  Enclosed Porch 3Ssn Porch Screen Porch Pool Area Misc Val Mo Sold Yr Sold  \\\n",
       "0              0          0            0         0        0       3    2010   \n",
       "1              0          0            0         0        0       4    2009   \n",
       "2              0          0            0         0        0       1    2010   \n",
       "3              0          0            0         0        0       4    2010   \n",
       "4              0          0            0         0        0       3    2010   \n",
       "\n",
       "   SalePrice  \n",
       "0  11.779136  \n",
       "1  12.301387  \n",
       "2  11.599112  \n",
       "3  12.066816  \n",
       "4  11.838633  \n",
       "\n",
       "[5 rows x 74 columns]"
      ]
     },
     "execution_count": 27,
     "metadata": {},
     "output_type": "execute_result"
    }
   ],
   "source": [
    "df.head()"
   ]
  },
  {
   "cell_type": "markdown",
   "id": "1b5f2836",
   "metadata": {},
   "source": [
    "#### Feature Analysis"
   ]
  },
  {
   "cell_type": "code",
   "execution_count": 28,
   "id": "696ec1b8",
   "metadata": {
    "ExecuteTime": {
     "end_time": "2022-08-15T14:21:16.107673Z",
     "start_time": "2022-08-15T14:21:16.088009Z"
    },
    "scrolled": true
   },
   "outputs": [
    {
     "data": {
      "text/plain": [
       "(2049, 74)"
      ]
     },
     "execution_count": 28,
     "metadata": {},
     "output_type": "execute_result"
    }
   ],
   "source": [
    "df.shape"
   ]
  },
  {
   "cell_type": "markdown",
   "id": "f3412197",
   "metadata": {},
   "source": [
    "Find out which columns are overweight "
   ]
  },
  {
   "cell_type": "code",
   "execution_count": 29,
   "id": "fc00957b",
   "metadata": {
    "ExecuteTime": {
     "end_time": "2022-08-15T14:21:16.123695Z",
     "start_time": "2022-08-15T14:21:16.111098Z"
    }
   },
   "outputs": [],
   "source": [
    "def skewed_columns(df):\n",
    "    skw_col = []\n",
    "    for col in df.columns:\n",
    "        pct_null = round(df[col].isnull().sum()/len(df[col])*100,2)\n",
    "        \n",
    "        #for ordinal \n",
    "        if df[col].dtypes==np.object:\n",
    "            pct_single_value = round(df[col].value_counts()[0]/len(df)*100,2)\n",
    "            \n",
    "            if pct_single_value>70 or pct_null>70:\n",
    "                print(f' {col} has high percentage of a single value')\n",
    "                print(df[col].value_counts())\n",
    "                print('Percentage single value:', pct_single_value )\n",
    "                print('nulls: ',pct_null)\n",
    "                print('\\n')\n",
    "                skw_col.append(col)\n",
    "        else:\n",
    "            pct_zeros = round(len(df[df[col]==0])/len(df)*100,2)\n",
    "            featcorr_salesprice = round(df[col].corr(df['SalePrice']),2)\n",
    "            if pct_zeros > 70 or pct_null>70:\n",
    "                print(f' {col} has high percentage of 0s')\n",
    "                print(df[col].value_counts())\n",
    "                print('% 0s:', pct_zeros )\n",
    "                print('% nulls: ',pct_null)\n",
    "                print('\\n')\n",
    "                skw_col.append(col)   \n",
    "                \n",
    "    print(f' there are {len(skw_col)} Columns to drop')\n",
    "    print(skw_col)\n",
    "    return skw_col\n"
   ]
  },
  {
   "cell_type": "code",
   "execution_count": 30,
   "id": "b51f8ccb",
   "metadata": {
    "ExecuteTime": {
     "end_time": "2022-08-15T14:21:16.372536Z",
     "start_time": "2022-08-15T14:21:16.126588Z"
    },
    "scrolled": true
   },
   "outputs": [
    {
     "name": "stderr",
     "output_type": "stream",
     "text": [
      "C:\\Users\\v-weihaoloh\\AppData\\Local\\Temp\\ipykernel_11936\\2688134202.py:7: DeprecationWarning: `np.object` is a deprecated alias for the builtin `object`. To silence this warning, use `object` by itself. Doing this will not modify any behavior and is safe. \n",
      "Deprecated in NumPy 1.20; for more details and guidance: https://numpy.org/devdocs/release/1.20.0-notes.html#deprecations\n",
      "  if df[col].dtypes==np.object:\n",
      "C:\\Users\\v-weihaoloh\\AppData\\Local\\Temp\\ipykernel_11936\\2688134202.py:7: DeprecationWarning: `np.object` is a deprecated alias for the builtin `object`. To silence this warning, use `object` by itself. Doing this will not modify any behavior and is safe. \n",
      "Deprecated in NumPy 1.20; for more details and guidance: https://numpy.org/devdocs/release/1.20.0-notes.html#deprecations\n",
      "  if df[col].dtypes==np.object:\n",
      "C:\\Users\\v-weihaoloh\\AppData\\Local\\Temp\\ipykernel_11936\\2688134202.py:7: DeprecationWarning: `np.object` is a deprecated alias for the builtin `object`. To silence this warning, use `object` by itself. Doing this will not modify any behavior and is safe. \n",
      "Deprecated in NumPy 1.20; for more details and guidance: https://numpy.org/devdocs/release/1.20.0-notes.html#deprecations\n",
      "  if df[col].dtypes==np.object:\n",
      "C:\\Users\\v-weihaoloh\\AppData\\Local\\Temp\\ipykernel_11936\\2688134202.py:7: DeprecationWarning: `np.object` is a deprecated alias for the builtin `object`. To silence this warning, use `object` by itself. Doing this will not modify any behavior and is safe. \n",
      "Deprecated in NumPy 1.20; for more details and guidance: https://numpy.org/devdocs/release/1.20.0-notes.html#deprecations\n",
      "  if df[col].dtypes==np.object:\n",
      "C:\\Users\\v-weihaoloh\\AppData\\Local\\Temp\\ipykernel_11936\\2688134202.py:7: DeprecationWarning: `np.object` is a deprecated alias for the builtin `object`. To silence this warning, use `object` by itself. Doing this will not modify any behavior and is safe. \n",
      "Deprecated in NumPy 1.20; for more details and guidance: https://numpy.org/devdocs/release/1.20.0-notes.html#deprecations\n",
      "  if df[col].dtypes==np.object:\n",
      "C:\\Users\\v-weihaoloh\\AppData\\Local\\Temp\\ipykernel_11936\\2688134202.py:7: DeprecationWarning: `np.object` is a deprecated alias for the builtin `object`. To silence this warning, use `object` by itself. Doing this will not modify any behavior and is safe. \n",
      "Deprecated in NumPy 1.20; for more details and guidance: https://numpy.org/devdocs/release/1.20.0-notes.html#deprecations\n",
      "  if df[col].dtypes==np.object:\n",
      "C:\\Users\\v-weihaoloh\\AppData\\Local\\Temp\\ipykernel_11936\\2688134202.py:7: DeprecationWarning: `np.object` is a deprecated alias for the builtin `object`. To silence this warning, use `object` by itself. Doing this will not modify any behavior and is safe. \n",
      "Deprecated in NumPy 1.20; for more details and guidance: https://numpy.org/devdocs/release/1.20.0-notes.html#deprecations\n",
      "  if df[col].dtypes==np.object:\n",
      "C:\\Users\\v-weihaoloh\\AppData\\Local\\Temp\\ipykernel_11936\\2688134202.py:7: DeprecationWarning: `np.object` is a deprecated alias for the builtin `object`. To silence this warning, use `object` by itself. Doing this will not modify any behavior and is safe. \n",
      "Deprecated in NumPy 1.20; for more details and guidance: https://numpy.org/devdocs/release/1.20.0-notes.html#deprecations\n",
      "  if df[col].dtypes==np.object:\n",
      "C:\\Users\\v-weihaoloh\\AppData\\Local\\Temp\\ipykernel_11936\\2688134202.py:7: DeprecationWarning: `np.object` is a deprecated alias for the builtin `object`. To silence this warning, use `object` by itself. Doing this will not modify any behavior and is safe. \n",
      "Deprecated in NumPy 1.20; for more details and guidance: https://numpy.org/devdocs/release/1.20.0-notes.html#deprecations\n",
      "  if df[col].dtypes==np.object:\n",
      "C:\\Users\\v-weihaoloh\\AppData\\Local\\Temp\\ipykernel_11936\\2688134202.py:7: DeprecationWarning: `np.object` is a deprecated alias for the builtin `object`. To silence this warning, use `object` by itself. Doing this will not modify any behavior and is safe. \n",
      "Deprecated in NumPy 1.20; for more details and guidance: https://numpy.org/devdocs/release/1.20.0-notes.html#deprecations\n",
      "  if df[col].dtypes==np.object:\n",
      "C:\\Users\\v-weihaoloh\\AppData\\Local\\Temp\\ipykernel_11936\\2688134202.py:7: DeprecationWarning: `np.object` is a deprecated alias for the builtin `object`. To silence this warning, use `object` by itself. Doing this will not modify any behavior and is safe. \n",
      "Deprecated in NumPy 1.20; for more details and guidance: https://numpy.org/devdocs/release/1.20.0-notes.html#deprecations\n",
      "  if df[col].dtypes==np.object:\n",
      "C:\\Users\\v-weihaoloh\\AppData\\Local\\Temp\\ipykernel_11936\\2688134202.py:7: DeprecationWarning: `np.object` is a deprecated alias for the builtin `object`. To silence this warning, use `object` by itself. Doing this will not modify any behavior and is safe. \n",
      "Deprecated in NumPy 1.20; for more details and guidance: https://numpy.org/devdocs/release/1.20.0-notes.html#deprecations\n",
      "  if df[col].dtypes==np.object:\n",
      "C:\\Users\\v-weihaoloh\\AppData\\Local\\Temp\\ipykernel_11936\\2688134202.py:7: DeprecationWarning: `np.object` is a deprecated alias for the builtin `object`. To silence this warning, use `object` by itself. Doing this will not modify any behavior and is safe. \n",
      "Deprecated in NumPy 1.20; for more details and guidance: https://numpy.org/devdocs/release/1.20.0-notes.html#deprecations\n",
      "  if df[col].dtypes==np.object:\n",
      "C:\\Users\\v-weihaoloh\\AppData\\Local\\Temp\\ipykernel_11936\\2688134202.py:7: DeprecationWarning: `np.object` is a deprecated alias for the builtin `object`. To silence this warning, use `object` by itself. Doing this will not modify any behavior and is safe. \n",
      "Deprecated in NumPy 1.20; for more details and guidance: https://numpy.org/devdocs/release/1.20.0-notes.html#deprecations\n",
      "  if df[col].dtypes==np.object:\n",
      "C:\\Users\\v-weihaoloh\\AppData\\Local\\Temp\\ipykernel_11936\\2688134202.py:7: DeprecationWarning: `np.object` is a deprecated alias for the builtin `object`. To silence this warning, use `object` by itself. Doing this will not modify any behavior and is safe. \n",
      "Deprecated in NumPy 1.20; for more details and guidance: https://numpy.org/devdocs/release/1.20.0-notes.html#deprecations\n",
      "  if df[col].dtypes==np.object:\n",
      "C:\\Users\\v-weihaoloh\\AppData\\Local\\Temp\\ipykernel_11936\\2688134202.py:7: DeprecationWarning: `np.object` is a deprecated alias for the builtin `object`. To silence this warning, use `object` by itself. Doing this will not modify any behavior and is safe. \n",
      "Deprecated in NumPy 1.20; for more details and guidance: https://numpy.org/devdocs/release/1.20.0-notes.html#deprecations\n",
      "  if df[col].dtypes==np.object:\n",
      "C:\\Users\\v-weihaoloh\\AppData\\Local\\Temp\\ipykernel_11936\\2688134202.py:7: DeprecationWarning: `np.object` is a deprecated alias for the builtin `object`. To silence this warning, use `object` by itself. Doing this will not modify any behavior and is safe. \n",
      "Deprecated in NumPy 1.20; for more details and guidance: https://numpy.org/devdocs/release/1.20.0-notes.html#deprecations\n",
      "  if df[col].dtypes==np.object:\n",
      "C:\\Users\\v-weihaoloh\\AppData\\Local\\Temp\\ipykernel_11936\\2688134202.py:7: DeprecationWarning: `np.object` is a deprecated alias for the builtin `object`. To silence this warning, use `object` by itself. Doing this will not modify any behavior and is safe. \n",
      "Deprecated in NumPy 1.20; for more details and guidance: https://numpy.org/devdocs/release/1.20.0-notes.html#deprecations\n",
      "  if df[col].dtypes==np.object:\n",
      "C:\\Users\\v-weihaoloh\\AppData\\Local\\Temp\\ipykernel_11936\\2688134202.py:7: DeprecationWarning: `np.object` is a deprecated alias for the builtin `object`. To silence this warning, use `object` by itself. Doing this will not modify any behavior and is safe. \n",
      "Deprecated in NumPy 1.20; for more details and guidance: https://numpy.org/devdocs/release/1.20.0-notes.html#deprecations\n",
      "  if df[col].dtypes==np.object:\n",
      "C:\\Users\\v-weihaoloh\\AppData\\Local\\Temp\\ipykernel_11936\\2688134202.py:7: DeprecationWarning: `np.object` is a deprecated alias for the builtin `object`. To silence this warning, use `object` by itself. Doing this will not modify any behavior and is safe. \n",
      "Deprecated in NumPy 1.20; for more details and guidance: https://numpy.org/devdocs/release/1.20.0-notes.html#deprecations\n",
      "  if df[col].dtypes==np.object:\n",
      "C:\\Users\\v-weihaoloh\\AppData\\Local\\Temp\\ipykernel_11936\\2688134202.py:7: DeprecationWarning: `np.object` is a deprecated alias for the builtin `object`. To silence this warning, use `object` by itself. Doing this will not modify any behavior and is safe. \n",
      "Deprecated in NumPy 1.20; for more details and guidance: https://numpy.org/devdocs/release/1.20.0-notes.html#deprecations\n",
      "  if df[col].dtypes==np.object:\n",
      "C:\\Users\\v-weihaoloh\\AppData\\Local\\Temp\\ipykernel_11936\\2688134202.py:7: DeprecationWarning: `np.object` is a deprecated alias for the builtin `object`. To silence this warning, use `object` by itself. Doing this will not modify any behavior and is safe. \n",
      "Deprecated in NumPy 1.20; for more details and guidance: https://numpy.org/devdocs/release/1.20.0-notes.html#deprecations\n",
      "  if df[col].dtypes==np.object:\n",
      "C:\\Users\\v-weihaoloh\\AppData\\Local\\Temp\\ipykernel_11936\\2688134202.py:7: DeprecationWarning: `np.object` is a deprecated alias for the builtin `object`. To silence this warning, use `object` by itself. Doing this will not modify any behavior and is safe. \n",
      "Deprecated in NumPy 1.20; for more details and guidance: https://numpy.org/devdocs/release/1.20.0-notes.html#deprecations\n",
      "  if df[col].dtypes==np.object:\n",
      "C:\\Users\\v-weihaoloh\\AppData\\Local\\Temp\\ipykernel_11936\\2688134202.py:7: DeprecationWarning: `np.object` is a deprecated alias for the builtin `object`. To silence this warning, use `object` by itself. Doing this will not modify any behavior and is safe. \n",
      "Deprecated in NumPy 1.20; for more details and guidance: https://numpy.org/devdocs/release/1.20.0-notes.html#deprecations\n",
      "  if df[col].dtypes==np.object:\n",
      "C:\\Users\\v-weihaoloh\\AppData\\Local\\Temp\\ipykernel_11936\\2688134202.py:7: DeprecationWarning: `np.object` is a deprecated alias for the builtin `object`. To silence this warning, use `object` by itself. Doing this will not modify any behavior and is safe. \n",
      "Deprecated in NumPy 1.20; for more details and guidance: https://numpy.org/devdocs/release/1.20.0-notes.html#deprecations\n",
      "  if df[col].dtypes==np.object:\n",
      "C:\\Users\\v-weihaoloh\\AppData\\Local\\Temp\\ipykernel_11936\\2688134202.py:7: DeprecationWarning: `np.object` is a deprecated alias for the builtin `object`. To silence this warning, use `object` by itself. Doing this will not modify any behavior and is safe. \n",
      "Deprecated in NumPy 1.20; for more details and guidance: https://numpy.org/devdocs/release/1.20.0-notes.html#deprecations\n",
      "  if df[col].dtypes==np.object:\n",
      "C:\\Users\\v-weihaoloh\\AppData\\Local\\Temp\\ipykernel_11936\\2688134202.py:7: DeprecationWarning: `np.object` is a deprecated alias for the builtin `object`. To silence this warning, use `object` by itself. Doing this will not modify any behavior and is safe. \n",
      "Deprecated in NumPy 1.20; for more details and guidance: https://numpy.org/devdocs/release/1.20.0-notes.html#deprecations\n",
      "  if df[col].dtypes==np.object:\n",
      "C:\\Users\\v-weihaoloh\\AppData\\Local\\Temp\\ipykernel_11936\\2688134202.py:7: DeprecationWarning: `np.object` is a deprecated alias for the builtin `object`. To silence this warning, use `object` by itself. Doing this will not modify any behavior and is safe. \n",
      "Deprecated in NumPy 1.20; for more details and guidance: https://numpy.org/devdocs/release/1.20.0-notes.html#deprecations\n",
      "  if df[col].dtypes==np.object:\n",
      "C:\\Users\\v-weihaoloh\\AppData\\Local\\Temp\\ipykernel_11936\\2688134202.py:7: DeprecationWarning: `np.object` is a deprecated alias for the builtin `object`. To silence this warning, use `object` by itself. Doing this will not modify any behavior and is safe. \n",
      "Deprecated in NumPy 1.20; for more details and guidance: https://numpy.org/devdocs/release/1.20.0-notes.html#deprecations\n",
      "  if df[col].dtypes==np.object:\n",
      "C:\\Users\\v-weihaoloh\\AppData\\Local\\Temp\\ipykernel_11936\\2688134202.py:7: DeprecationWarning: `np.object` is a deprecated alias for the builtin `object`. To silence this warning, use `object` by itself. Doing this will not modify any behavior and is safe. \n",
      "Deprecated in NumPy 1.20; for more details and guidance: https://numpy.org/devdocs/release/1.20.0-notes.html#deprecations\n",
      "  if df[col].dtypes==np.object:\n",
      "C:\\Users\\v-weihaoloh\\AppData\\Local\\Temp\\ipykernel_11936\\2688134202.py:7: DeprecationWarning: `np.object` is a deprecated alias for the builtin `object`. To silence this warning, use `object` by itself. Doing this will not modify any behavior and is safe. \n",
      "Deprecated in NumPy 1.20; for more details and guidance: https://numpy.org/devdocs/release/1.20.0-notes.html#deprecations\n",
      "  if df[col].dtypes==np.object:\n",
      "C:\\Users\\v-weihaoloh\\AppData\\Local\\Temp\\ipykernel_11936\\2688134202.py:7: DeprecationWarning: `np.object` is a deprecated alias for the builtin `object`. To silence this warning, use `object` by itself. Doing this will not modify any behavior and is safe. \n",
      "Deprecated in NumPy 1.20; for more details and guidance: https://numpy.org/devdocs/release/1.20.0-notes.html#deprecations\n",
      "  if df[col].dtypes==np.object:\n",
      "C:\\Users\\v-weihaoloh\\AppData\\Local\\Temp\\ipykernel_11936\\2688134202.py:7: DeprecationWarning: `np.object` is a deprecated alias for the builtin `object`. To silence this warning, use `object` by itself. Doing this will not modify any behavior and is safe. \n",
      "Deprecated in NumPy 1.20; for more details and guidance: https://numpy.org/devdocs/release/1.20.0-notes.html#deprecations\n",
      "  if df[col].dtypes==np.object:\n",
      "C:\\Users\\v-weihaoloh\\AppData\\Local\\Temp\\ipykernel_11936\\2688134202.py:7: DeprecationWarning: `np.object` is a deprecated alias for the builtin `object`. To silence this warning, use `object` by itself. Doing this will not modify any behavior and is safe. \n",
      "Deprecated in NumPy 1.20; for more details and guidance: https://numpy.org/devdocs/release/1.20.0-notes.html#deprecations\n",
      "  if df[col].dtypes==np.object:\n",
      "C:\\Users\\v-weihaoloh\\AppData\\Local\\Temp\\ipykernel_11936\\2688134202.py:7: DeprecationWarning: `np.object` is a deprecated alias for the builtin `object`. To silence this warning, use `object` by itself. Doing this will not modify any behavior and is safe. \n",
      "Deprecated in NumPy 1.20; for more details and guidance: https://numpy.org/devdocs/release/1.20.0-notes.html#deprecations\n",
      "  if df[col].dtypes==np.object:\n",
      "C:\\Users\\v-weihaoloh\\AppData\\Local\\Temp\\ipykernel_11936\\2688134202.py:7: DeprecationWarning: `np.object` is a deprecated alias for the builtin `object`. To silence this warning, use `object` by itself. Doing this will not modify any behavior and is safe. \n",
      "Deprecated in NumPy 1.20; for more details and guidance: https://numpy.org/devdocs/release/1.20.0-notes.html#deprecations\n",
      "  if df[col].dtypes==np.object:\n",
      "C:\\Users\\v-weihaoloh\\AppData\\Local\\Temp\\ipykernel_11936\\2688134202.py:7: DeprecationWarning: `np.object` is a deprecated alias for the builtin `object`. To silence this warning, use `object` by itself. Doing this will not modify any behavior and is safe. \n",
      "Deprecated in NumPy 1.20; for more details and guidance: https://numpy.org/devdocs/release/1.20.0-notes.html#deprecations\n",
      "  if df[col].dtypes==np.object:\n",
      "C:\\Users\\v-weihaoloh\\AppData\\Local\\Temp\\ipykernel_11936\\2688134202.py:7: DeprecationWarning: `np.object` is a deprecated alias for the builtin `object`. To silence this warning, use `object` by itself. Doing this will not modify any behavior and is safe. \n",
      "Deprecated in NumPy 1.20; for more details and guidance: https://numpy.org/devdocs/release/1.20.0-notes.html#deprecations\n",
      "  if df[col].dtypes==np.object:\n",
      "C:\\Users\\v-weihaoloh\\AppData\\Local\\Temp\\ipykernel_11936\\2688134202.py:7: DeprecationWarning: `np.object` is a deprecated alias for the builtin `object`. To silence this warning, use `object` by itself. Doing this will not modify any behavior and is safe. \n",
      "Deprecated in NumPy 1.20; for more details and guidance: https://numpy.org/devdocs/release/1.20.0-notes.html#deprecations\n",
      "  if df[col].dtypes==np.object:\n",
      "C:\\Users\\v-weihaoloh\\AppData\\Local\\Temp\\ipykernel_11936\\2688134202.py:7: DeprecationWarning: `np.object` is a deprecated alias for the builtin `object`. To silence this warning, use `object` by itself. Doing this will not modify any behavior and is safe. \n",
      "Deprecated in NumPy 1.20; for more details and guidance: https://numpy.org/devdocs/release/1.20.0-notes.html#deprecations\n",
      "  if df[col].dtypes==np.object:\n",
      "C:\\Users\\v-weihaoloh\\AppData\\Local\\Temp\\ipykernel_11936\\2688134202.py:7: DeprecationWarning: `np.object` is a deprecated alias for the builtin `object`. To silence this warning, use `object` by itself. Doing this will not modify any behavior and is safe. \n",
      "Deprecated in NumPy 1.20; for more details and guidance: https://numpy.org/devdocs/release/1.20.0-notes.html#deprecations\n",
      "  if df[col].dtypes==np.object:\n"
     ]
    },
    {
     "name": "stdout",
     "output_type": "stream",
     "text": [
      " MS Zoning has high percentage of a single value\n",
      "RL         1598\n",
      "RM          315\n",
      "FV          101\n",
      "C (all)      19\n",
      "RH           14\n",
      "I (all)       1\n",
      "A (agr)       1\n",
      "Name: MS Zoning, dtype: int64\n",
      "Percentage single value: 77.99\n",
      "nulls:  0.0\n",
      "\n",
      "\n",
      " Street has high percentage of a single value\n",
      "Pave    2042\n",
      "Grvl       7\n",
      "Name: Street, dtype: int64\n",
      "Percentage single value: 99.66\n",
      "nulls:  0.0\n",
      "\n",
      "\n",
      " Land Contour has high percentage of a single value\n",
      "Lvl    1842\n",
      "HLS      85\n",
      "Bnk      80\n",
      "Low      42\n",
      "Name: Land Contour, dtype: int64\n",
      "Percentage single value: 89.9\n",
      "nulls:  0.0\n",
      "\n",
      "\n",
      " Utilities has high percentage of a single value\n",
      "AllPub    2047\n",
      "NoSeWa       1\n",
      "NoSewr       1\n",
      "Name: Utilities, dtype: int64\n",
      "Percentage single value: 99.9\n",
      "nulls:  0.0\n",
      "\n",
      "\n",
      " Lot Config has high percentage of a single value\n",
      "Inside     1501\n",
      "Corner      348\n",
      "CulDSac     131\n",
      "FR2          60\n",
      "FR3           9\n",
      "Name: Lot Config, dtype: int64\n",
      "Percentage single value: 73.26\n",
      "nulls:  0.0\n",
      "\n",
      "\n",
      " Land Slope has high percentage of a single value\n",
      "Gtl    1952\n",
      "Mod      87\n",
      "Sev      10\n",
      "Name: Land Slope, dtype: int64\n",
      "Percentage single value: 95.27\n",
      "nulls:  0.0\n",
      "\n",
      "\n",
      " Condition 1 has high percentage of a single value\n",
      "Norm      1765\n",
      "Feedr      109\n",
      "Artery      70\n",
      "RRAn        36\n",
      "PosN        27\n",
      "RRAe        21\n",
      "PosA        12\n",
      "RRNn         6\n",
      "RRNe         3\n",
      "Name: Condition 1, dtype: int64\n",
      "Percentage single value: 86.14\n",
      "nulls:  0.0\n",
      "\n",
      "\n",
      " Condition 2 has high percentage of a single value\n",
      "Norm      2023\n",
      "Feedr       11\n",
      "Artery       5\n",
      "PosA         3\n",
      "PosN         3\n",
      "RRNn         2\n",
      "RRAe         1\n",
      "RRAn         1\n",
      "Name: Condition 2, dtype: int64\n",
      "Percentage single value: 98.73\n",
      "nulls:  0.0\n",
      "\n",
      "\n",
      " Bldg Type has high percentage of a single value\n",
      "1Fam      1698\n",
      "TwnhsE     161\n",
      "Duplex      75\n",
      "Twnhs       69\n",
      "2fmCon      46\n",
      "Name: Bldg Type, dtype: int64\n",
      "Percentage single value: 82.87\n",
      "nulls:  0.0\n",
      "\n",
      "\n",
      " Roof Style has high percentage of a single value\n",
      "Gable      1617\n",
      "Hip         397\n",
      "Flat         13\n",
      "Gambrel      12\n",
      "Mansard       7\n",
      "Shed          3\n",
      "Name: Roof Style, dtype: int64\n",
      "Percentage single value: 78.92\n",
      "nulls:  0.0\n",
      "\n",
      "\n",
      " Roof Matl has high percentage of a single value\n",
      "CompShg    2023\n",
      "Tar&Grv      15\n",
      "WdShngl       5\n",
      "WdShake       4\n",
      "Membran       1\n",
      "ClyTile       1\n",
      "Name: Roof Matl, dtype: int64\n",
      "Percentage single value: 98.73\n",
      "nulls:  0.0\n",
      "\n",
      "\n",
      " Exter Cond has high percentage of a single value\n",
      "TA    1778\n",
      "Gd     215\n",
      "Fa      48\n",
      "Ex       7\n",
      "Po       1\n",
      "Name: Exter Cond, dtype: int64\n",
      "Percentage single value: 86.77\n",
      "nulls:  0.0\n",
      "\n",
      "\n",
      " Bsmt Cond has high percentage of a single value\n",
      "TA    1888\n",
      "Gd      89\n",
      "Fa      64\n",
      "Po       5\n",
      "Ex       3\n",
      "Name: Bsmt Cond, dtype: int64\n",
      "Percentage single value: 92.14\n",
      "nulls:  0.0\n",
      "\n",
      "\n",
      " BsmtFin Type 2 has high percentage of a single value\n",
      "Unf    1803\n",
      "Rec      80\n",
      "LwQ      60\n",
      "BLQ      48\n",
      "ALQ      35\n",
      "GLQ      23\n",
      "Name: BsmtFin Type 2, dtype: int64\n",
      "Percentage single value: 87.99\n",
      "nulls:  0.0\n",
      "\n",
      "\n",
      " Heating has high percentage of a single value\n",
      "GasA    2017\n",
      "GasW      20\n",
      "Grav       5\n",
      "Wall       5\n",
      "OthW       2\n",
      "Name: Heating, dtype: int64\n",
      "Percentage single value: 98.44\n",
      "nulls:  0.0\n",
      "\n",
      "\n",
      " Central Air has high percentage of a single value\n",
      "Y    1910\n",
      "N     139\n",
      "Name: Central Air, dtype: int64\n",
      "Percentage single value: 93.22\n",
      "nulls:  0.0\n",
      "\n",
      "\n",
      " Electrical has high percentage of a single value\n",
      "SBrkr    1867\n",
      "FuseA     139\n",
      "FuseF      35\n",
      "FuseP       7\n",
      "Mix         1\n",
      "Name: Electrical, dtype: int64\n",
      "Percentage single value: 91.12\n",
      "nulls:  0.0\n",
      "\n",
      "\n",
      " Functional has high percentage of a single value\n",
      "Typ     1914\n",
      "Min2      42\n",
      "Min1      42\n",
      "Mod       29\n",
      "Maj1      12\n",
      "Maj2       7\n",
      "Sev        2\n",
      "Sal        1\n",
      "Name: Functional, dtype: int64\n",
      "Percentage single value: 93.41\n",
      "nulls:  0.0\n",
      "\n",
      "\n",
      " Garage Qual has high percentage of a single value\n",
      "TA    1946\n",
      "Fa      80\n",
      "Gd      18\n",
      "Ex       3\n",
      "Po       2\n",
      "Name: Garage Qual, dtype: int64\n",
      "Percentage single value: 94.97\n",
      "nulls:  0.0\n",
      "\n",
      "\n",
      " Garage Cond has high percentage of a single value\n",
      "TA    1982\n",
      "Fa      46\n",
      "Gd      12\n",
      "Po       7\n",
      "Ex       2\n",
      "Name: Garage Cond, dtype: int64\n",
      "Percentage single value: 96.73\n",
      "nulls:  0.0\n",
      "\n",
      "\n",
      " Paved Drive has high percentage of a single value\n",
      "Y    1861\n",
      "N     149\n",
      "P      39\n",
      "Name: Paved Drive, dtype: int64\n",
      "Percentage single value: 90.82\n",
      "nulls:  0.0\n",
      "\n",
      "\n",
      " Sale Type has high percentage of a single value\n",
      "WD       1779\n",
      "New       160\n",
      "COD        63\n",
      "ConLD      17\n",
      "CWD        10\n",
      "ConLI       7\n",
      "ConLw       5\n",
      "Con         4\n",
      "Oth         4\n",
      "Name: Sale Type, dtype: int64\n",
      "Percentage single value: 86.82\n",
      "nulls:  0.0\n",
      "\n",
      "\n",
      " BsmtFin SF 2 has high percentage of 0s\n",
      "0.0       1802\n",
      "294.0        5\n",
      "483.0        3\n",
      "72.0         3\n",
      "180.0        3\n",
      "          ... \n",
      "132.0        1\n",
      "829.0        1\n",
      "1127.0       1\n",
      "435.0        1\n",
      "750.0        1\n",
      "Name: BsmtFin SF 2, Length: 205, dtype: int64\n",
      "% 0s: 87.95\n",
      "% nulls:  0.0\n",
      "\n",
      "\n",
      " Low Qual Fin SF has high percentage of 0s\n",
      "0       2016\n",
      "80         3\n",
      "205        2\n",
      "512        1\n",
      "362        1\n",
      "53         1\n",
      "360        1\n",
      "384        1\n",
      "156        1\n",
      "436        1\n",
      "259        1\n",
      "479        1\n",
      "140        1\n",
      "397        1\n",
      "514        1\n",
      "144        1\n",
      "697        1\n",
      "114        1\n",
      "390        1\n",
      "234        1\n",
      "572        1\n",
      "312        1\n",
      "120        1\n",
      "515        1\n",
      "1064       1\n",
      "108        1\n",
      "473        1\n",
      "371        1\n",
      "513        1\n",
      "528        1\n",
      "450        1\n",
      "Name: Low Qual Fin SF, dtype: int64\n",
      "% 0s: 98.39\n",
      "% nulls:  0.0\n",
      "\n",
      "\n",
      " Bsmt Half Bath has high percentage of 0s\n",
      "0.0    1923\n",
      "1.0     122\n",
      "2.0       4\n",
      "Name: Bsmt Half Bath, dtype: int64\n",
      "% 0s: 93.85\n",
      "% nulls:  0.0\n",
      "\n",
      "\n",
      " Enclosed Porch has high percentage of 0s\n",
      "0      1722\n",
      "112      13\n",
      "96       10\n",
      "40        6\n",
      "216       6\n",
      "       ... \n",
      "50        1\n",
      "26        1\n",
      "109       1\n",
      "239       1\n",
      "67        1\n",
      "Name: Enclosed Porch, Length: 159, dtype: int64\n",
      "% 0s: 84.04\n",
      "% nulls:  0.0\n",
      "\n",
      "\n",
      " 3Ssn Porch has high percentage of 0s\n",
      "0      2023\n",
      "168       3\n",
      "153       3\n",
      "144       2\n",
      "140       1\n",
      "290       1\n",
      "182       1\n",
      "245       1\n",
      "216       1\n",
      "86        1\n",
      "323       1\n",
      "96        1\n",
      "180       1\n",
      "176       1\n",
      "508       1\n",
      "255       1\n",
      "150       1\n",
      "407       1\n",
      "120       1\n",
      "162       1\n",
      "224       1\n",
      "304       1\n",
      "Name: 3Ssn Porch, dtype: int64\n",
      "% 0s: 98.73\n",
      "% nulls:  0.0\n",
      "\n",
      "\n",
      " Screen Porch has high percentage of 0s\n",
      "0      1868\n",
      "144       9\n",
      "168       8\n",
      "192       7\n",
      "180       7\n",
      "       ... \n",
      "53        1\n",
      "135       1\n",
      "141       1\n",
      "348       1\n",
      "190       1\n",
      "Name: Screen Porch, Length: 100, dtype: int64\n",
      "% 0s: 91.17\n",
      "% nulls:  0.0\n",
      "\n",
      "\n",
      " Pool Area has high percentage of 0s\n",
      "0      2040\n",
      "519       1\n",
      "576       1\n",
      "800       1\n",
      "228       1\n",
      "480       1\n",
      "648       1\n",
      "738       1\n",
      "368       1\n",
      "561       1\n",
      "Name: Pool Area, dtype: int64\n",
      "% 0s: 99.56\n",
      "% nulls:  0.0\n",
      "\n",
      "\n",
      " Misc Val has high percentage of 0s\n",
      "0        1984\n",
      "400        12\n",
      "500         8\n",
      "600         6\n",
      "450         5\n",
      "2000        5\n",
      "700         4\n",
      "1200        2\n",
      "3000        2\n",
      "2500        2\n",
      "4500        2\n",
      "17000       1\n",
      "1300        1\n",
      "900         1\n",
      "1500        1\n",
      "800         1\n",
      "6500        1\n",
      "54          1\n",
      "3500        1\n",
      "1150        1\n",
      "300         1\n",
      "455         1\n",
      "8300        1\n",
      "460         1\n",
      "12500       1\n",
      "480         1\n",
      "650         1\n",
      "80          1\n",
      "Name: Misc Val, dtype: int64\n",
      "% 0s: 96.83\n",
      "% nulls:  0.0\n",
      "\n",
      "\n",
      " there are 30 Columns to drop\n",
      "['MS Zoning', 'Street', 'Land Contour', 'Utilities', 'Lot Config', 'Land Slope', 'Condition 1', 'Condition 2', 'Bldg Type', 'Roof Style', 'Roof Matl', 'Exter Cond', 'Bsmt Cond', 'BsmtFin Type 2', 'Heating', 'Central Air', 'Electrical', 'Functional', 'Garage Qual', 'Garage Cond', 'Paved Drive', 'Sale Type', 'BsmtFin SF 2', 'Low Qual Fin SF', 'Bsmt Half Bath', 'Enclosed Porch', '3Ssn Porch', 'Screen Porch', 'Pool Area', 'Misc Val']\n"
     ]
    },
    {
     "name": "stderr",
     "output_type": "stream",
     "text": [
      "C:\\Users\\v-weihaoloh\\AppData\\Local\\Temp\\ipykernel_11936\\2688134202.py:7: DeprecationWarning: `np.object` is a deprecated alias for the builtin `object`. To silence this warning, use `object` by itself. Doing this will not modify any behavior and is safe. \n",
      "Deprecated in NumPy 1.20; for more details and guidance: https://numpy.org/devdocs/release/1.20.0-notes.html#deprecations\n",
      "  if df[col].dtypes==np.object:\n",
      "C:\\Users\\v-weihaoloh\\AppData\\Local\\Temp\\ipykernel_11936\\2688134202.py:7: DeprecationWarning: `np.object` is a deprecated alias for the builtin `object`. To silence this warning, use `object` by itself. Doing this will not modify any behavior and is safe. \n",
      "Deprecated in NumPy 1.20; for more details and guidance: https://numpy.org/devdocs/release/1.20.0-notes.html#deprecations\n",
      "  if df[col].dtypes==np.object:\n",
      "C:\\Users\\v-weihaoloh\\AppData\\Local\\Temp\\ipykernel_11936\\2688134202.py:7: DeprecationWarning: `np.object` is a deprecated alias for the builtin `object`. To silence this warning, use `object` by itself. Doing this will not modify any behavior and is safe. \n",
      "Deprecated in NumPy 1.20; for more details and guidance: https://numpy.org/devdocs/release/1.20.0-notes.html#deprecations\n",
      "  if df[col].dtypes==np.object:\n",
      "C:\\Users\\v-weihaoloh\\AppData\\Local\\Temp\\ipykernel_11936\\2688134202.py:7: DeprecationWarning: `np.object` is a deprecated alias for the builtin `object`. To silence this warning, use `object` by itself. Doing this will not modify any behavior and is safe. \n",
      "Deprecated in NumPy 1.20; for more details and guidance: https://numpy.org/devdocs/release/1.20.0-notes.html#deprecations\n",
      "  if df[col].dtypes==np.object:\n",
      "C:\\Users\\v-weihaoloh\\AppData\\Local\\Temp\\ipykernel_11936\\2688134202.py:7: DeprecationWarning: `np.object` is a deprecated alias for the builtin `object`. To silence this warning, use `object` by itself. Doing this will not modify any behavior and is safe. \n",
      "Deprecated in NumPy 1.20; for more details and guidance: https://numpy.org/devdocs/release/1.20.0-notes.html#deprecations\n",
      "  if df[col].dtypes==np.object:\n",
      "C:\\Users\\v-weihaoloh\\AppData\\Local\\Temp\\ipykernel_11936\\2688134202.py:7: DeprecationWarning: `np.object` is a deprecated alias for the builtin `object`. To silence this warning, use `object` by itself. Doing this will not modify any behavior and is safe. \n",
      "Deprecated in NumPy 1.20; for more details and guidance: https://numpy.org/devdocs/release/1.20.0-notes.html#deprecations\n",
      "  if df[col].dtypes==np.object:\n"
     ]
    },
    {
     "data": {
      "text/plain": [
       "['MS Zoning',\n",
       " 'Street',\n",
       " 'Land Contour',\n",
       " 'Utilities',\n",
       " 'Lot Config',\n",
       " 'Land Slope',\n",
       " 'Condition 1',\n",
       " 'Condition 2',\n",
       " 'Bldg Type',\n",
       " 'Roof Style',\n",
       " 'Roof Matl',\n",
       " 'Exter Cond',\n",
       " 'Bsmt Cond',\n",
       " 'BsmtFin Type 2',\n",
       " 'Heating',\n",
       " 'Central Air',\n",
       " 'Electrical',\n",
       " 'Functional',\n",
       " 'Garage Qual',\n",
       " 'Garage Cond',\n",
       " 'Paved Drive',\n",
       " 'Sale Type',\n",
       " 'BsmtFin SF 2',\n",
       " 'Low Qual Fin SF',\n",
       " 'Bsmt Half Bath',\n",
       " 'Enclosed Porch',\n",
       " '3Ssn Porch',\n",
       " 'Screen Porch',\n",
       " 'Pool Area',\n",
       " 'Misc Val']"
      ]
     },
     "execution_count": 30,
     "metadata": {},
     "output_type": "execute_result"
    }
   ],
   "source": [
    "col_todrop = skewed_columns(df)\n",
    "col_todrop"
   ]
  },
  {
   "cell_type": "code",
   "execution_count": 31,
   "id": "3a4deaf0",
   "metadata": {
    "ExecuteTime": {
     "end_time": "2022-08-15T14:21:16.388657Z",
     "start_time": "2022-08-15T14:21:16.375556Z"
    }
   },
   "outputs": [],
   "source": [
    "def drop_skw_col(df):\n",
    "    df = df.drop([\n",
    "        'MS Zoning', 'Street', 'Land Contour', 'Utilities', 'Lot Config',\n",
    "        'Land Slope', 'Condition 1', 'Condition 2', 'Bldg Type', 'Roof Style',\n",
    "        'Roof Matl', 'Exter Cond', 'Bsmt Cond', 'BsmtFin Type 2', 'Heating',\n",
    "        'Central Air', 'Electrical', 'Functional', 'Garage Qual',\n",
    "        'Garage Cond', 'Paved Drive', 'Sale Type', 'BsmtFin SF 2',\n",
    "        'Low Qual Fin SF', 'Bsmt Half Bath', 'Enclosed Porch', '3Ssn Porch',\n",
    "        'Screen Porch', 'Pool Area', 'Misc Val'],axis = 1)\n",
    "    return df"
   ]
  },
  {
   "cell_type": "code",
   "execution_count": 32,
   "id": "4011218f",
   "metadata": {
    "ExecuteTime": {
     "end_time": "2022-08-15T14:21:16.403330Z",
     "start_time": "2022-08-15T14:21:16.391995Z"
    }
   },
   "outputs": [],
   "source": [
    "df.drop(col_todrop,axis=1,inplace=True)"
   ]
  },
  {
   "cell_type": "markdown",
   "id": "8741b67c",
   "metadata": {},
   "source": [
    "#### Numerical Feature Analysis"
   ]
  },
  {
   "cell_type": "markdown",
   "id": "7f8eddd4",
   "metadata": {},
   "source": [
    "We will now determine the \"usefullnes\" of the feature by looking at the correlation score\n",
    "when anaylsing correlation, we can only analyse numerical features."
   ]
  },
  {
   "cell_type": "code",
   "execution_count": 33,
   "id": "b05fdf15",
   "metadata": {
    "ExecuteTime": {
     "end_time": "2022-08-15T14:21:16.434803Z",
     "start_time": "2022-08-15T14:21:16.405949Z"
    }
   },
   "outputs": [
    {
     "name": "stdout",
     "output_type": "stream",
     "text": [
      "<class 'pandas.core.frame.DataFrame'>\n",
      "Int64Index: 2049 entries, 0 to 2050\n",
      "Data columns (total 28 columns):\n",
      " #   Column          Non-Null Count  Dtype  \n",
      "---  ------          --------------  -----  \n",
      " 0   MS SubClass     2049 non-null   int64  \n",
      " 1   Lot Area        2049 non-null   int64  \n",
      " 2   Overall Qual    2049 non-null   int64  \n",
      " 3   Overall Cond    2049 non-null   int64  \n",
      " 4   Year Built      2049 non-null   int64  \n",
      " 5   Year Remod/Add  2049 non-null   int64  \n",
      " 6   Mas Vnr Area    2049 non-null   float64\n",
      " 7   BsmtFin SF 1    2049 non-null   float64\n",
      " 8   Bsmt Unf SF     2049 non-null   float64\n",
      " 9   Total Bsmt SF   2049 non-null   float64\n",
      " 10  1st Flr SF      2049 non-null   int64  \n",
      " 11  2nd Flr SF      2049 non-null   int64  \n",
      " 12  Gr Liv Area     2049 non-null   int64  \n",
      " 13  Bsmt Full Bath  2049 non-null   float64\n",
      " 14  Full Bath       2049 non-null   int64  \n",
      " 15  Half Bath       2049 non-null   int64  \n",
      " 16  Bedroom AbvGr   2049 non-null   int64  \n",
      " 17  Kitchen AbvGr   2049 non-null   int64  \n",
      " 18  TotRms AbvGrd   2049 non-null   int64  \n",
      " 19  Fireplaces      2049 non-null   int64  \n",
      " 20  Garage Yr Blt   2049 non-null   float64\n",
      " 21  Garage Cars     2049 non-null   float64\n",
      " 22  Garage Area     2049 non-null   float64\n",
      " 23  Wood Deck SF    2049 non-null   int64  \n",
      " 24  Open Porch SF   2049 non-null   int64  \n",
      " 25  Mo Sold         2049 non-null   int64  \n",
      " 26  Yr Sold         2049 non-null   int64  \n",
      " 27  SalePrice       2049 non-null   float64\n",
      "dtypes: float64(9), int64(19)\n",
      "memory usage: 464.2 KB\n"
     ]
    }
   ],
   "source": [
    "numerics = ['int16', 'int32', 'int64', 'float16', 'float32', 'float64']\n",
    "df_num = df.select_dtypes(include=numerics)\n",
    "df_obj = df.select_dtypes(include='object')\n",
    "df_num.info()"
   ]
  },
  {
   "cell_type": "code",
   "execution_count": 34,
   "id": "f2fced32",
   "metadata": {
    "ExecuteTime": {
     "end_time": "2022-08-15T14:21:16.465413Z",
     "start_time": "2022-08-15T14:21:16.437712Z"
    },
    "scrolled": false
   },
   "outputs": [
    {
     "data": {
      "text/html": [
       "<div>\n",
       "<style scoped>\n",
       "    .dataframe tbody tr th:only-of-type {\n",
       "        vertical-align: middle;\n",
       "    }\n",
       "\n",
       "    .dataframe tbody tr th {\n",
       "        vertical-align: top;\n",
       "    }\n",
       "\n",
       "    .dataframe thead th {\n",
       "        text-align: right;\n",
       "    }\n",
       "</style>\n",
       "<table border=\"1\" class=\"dataframe\">\n",
       "  <thead>\n",
       "    <tr style=\"text-align: right;\">\n",
       "      <th></th>\n",
       "      <th>MS SubClass</th>\n",
       "      <th>Lot Area</th>\n",
       "      <th>Overall Qual</th>\n",
       "      <th>Overall Cond</th>\n",
       "      <th>Year Built</th>\n",
       "      <th>Year Remod/Add</th>\n",
       "      <th>Mas Vnr Area</th>\n",
       "      <th>BsmtFin SF 1</th>\n",
       "      <th>Bsmt Unf SF</th>\n",
       "      <th>Total Bsmt SF</th>\n",
       "      <th>...</th>\n",
       "      <th>TotRms AbvGrd</th>\n",
       "      <th>Fireplaces</th>\n",
       "      <th>Garage Yr Blt</th>\n",
       "      <th>Garage Cars</th>\n",
       "      <th>Garage Area</th>\n",
       "      <th>Wood Deck SF</th>\n",
       "      <th>Open Porch SF</th>\n",
       "      <th>Mo Sold</th>\n",
       "      <th>Yr Sold</th>\n",
       "      <th>SalePrice</th>\n",
       "    </tr>\n",
       "  </thead>\n",
       "  <tbody>\n",
       "    <tr>\n",
       "      <th>0</th>\n",
       "      <td>60</td>\n",
       "      <td>13517</td>\n",
       "      <td>6</td>\n",
       "      <td>8</td>\n",
       "      <td>1976</td>\n",
       "      <td>2005</td>\n",
       "      <td>289.0</td>\n",
       "      <td>533.0</td>\n",
       "      <td>192.0</td>\n",
       "      <td>725.0</td>\n",
       "      <td>...</td>\n",
       "      <td>6</td>\n",
       "      <td>0</td>\n",
       "      <td>1976.0</td>\n",
       "      <td>2.0</td>\n",
       "      <td>475.0</td>\n",
       "      <td>0</td>\n",
       "      <td>44</td>\n",
       "      <td>3</td>\n",
       "      <td>2010</td>\n",
       "      <td>11.779136</td>\n",
       "    </tr>\n",
       "    <tr>\n",
       "      <th>1</th>\n",
       "      <td>60</td>\n",
       "      <td>11492</td>\n",
       "      <td>7</td>\n",
       "      <td>5</td>\n",
       "      <td>1996</td>\n",
       "      <td>1997</td>\n",
       "      <td>132.0</td>\n",
       "      <td>637.0</td>\n",
       "      <td>276.0</td>\n",
       "      <td>913.0</td>\n",
       "      <td>...</td>\n",
       "      <td>8</td>\n",
       "      <td>1</td>\n",
       "      <td>1997.0</td>\n",
       "      <td>2.0</td>\n",
       "      <td>559.0</td>\n",
       "      <td>0</td>\n",
       "      <td>74</td>\n",
       "      <td>4</td>\n",
       "      <td>2009</td>\n",
       "      <td>12.301387</td>\n",
       "    </tr>\n",
       "    <tr>\n",
       "      <th>2</th>\n",
       "      <td>20</td>\n",
       "      <td>7922</td>\n",
       "      <td>5</td>\n",
       "      <td>7</td>\n",
       "      <td>1953</td>\n",
       "      <td>2007</td>\n",
       "      <td>0.0</td>\n",
       "      <td>731.0</td>\n",
       "      <td>326.0</td>\n",
       "      <td>1057.0</td>\n",
       "      <td>...</td>\n",
       "      <td>5</td>\n",
       "      <td>0</td>\n",
       "      <td>1953.0</td>\n",
       "      <td>1.0</td>\n",
       "      <td>246.0</td>\n",
       "      <td>0</td>\n",
       "      <td>52</td>\n",
       "      <td>1</td>\n",
       "      <td>2010</td>\n",
       "      <td>11.599112</td>\n",
       "    </tr>\n",
       "    <tr>\n",
       "      <th>3</th>\n",
       "      <td>60</td>\n",
       "      <td>9802</td>\n",
       "      <td>5</td>\n",
       "      <td>5</td>\n",
       "      <td>2006</td>\n",
       "      <td>2007</td>\n",
       "      <td>0.0</td>\n",
       "      <td>0.0</td>\n",
       "      <td>384.0</td>\n",
       "      <td>384.0</td>\n",
       "      <td>...</td>\n",
       "      <td>7</td>\n",
       "      <td>0</td>\n",
       "      <td>2007.0</td>\n",
       "      <td>2.0</td>\n",
       "      <td>400.0</td>\n",
       "      <td>100</td>\n",
       "      <td>0</td>\n",
       "      <td>4</td>\n",
       "      <td>2010</td>\n",
       "      <td>12.066816</td>\n",
       "    </tr>\n",
       "    <tr>\n",
       "      <th>4</th>\n",
       "      <td>50</td>\n",
       "      <td>14235</td>\n",
       "      <td>6</td>\n",
       "      <td>8</td>\n",
       "      <td>1900</td>\n",
       "      <td>1993</td>\n",
       "      <td>0.0</td>\n",
       "      <td>0.0</td>\n",
       "      <td>676.0</td>\n",
       "      <td>676.0</td>\n",
       "      <td>...</td>\n",
       "      <td>6</td>\n",
       "      <td>0</td>\n",
       "      <td>1957.0</td>\n",
       "      <td>2.0</td>\n",
       "      <td>484.0</td>\n",
       "      <td>0</td>\n",
       "      <td>59</td>\n",
       "      <td>3</td>\n",
       "      <td>2010</td>\n",
       "      <td>11.838633</td>\n",
       "    </tr>\n",
       "  </tbody>\n",
       "</table>\n",
       "<p>5 rows × 28 columns</p>\n",
       "</div>"
      ],
      "text/plain": [
       "   MS SubClass  Lot Area  Overall Qual  Overall Cond  Year Built  \\\n",
       "0           60     13517             6             8        1976   \n",
       "1           60     11492             7             5        1996   \n",
       "2           20      7922             5             7        1953   \n",
       "3           60      9802             5             5        2006   \n",
       "4           50     14235             6             8        1900   \n",
       "\n",
       "   Year Remod/Add  Mas Vnr Area  BsmtFin SF 1  Bsmt Unf SF  Total Bsmt SF  \\\n",
       "0            2005         289.0         533.0        192.0          725.0   \n",
       "1            1997         132.0         637.0        276.0          913.0   \n",
       "2            2007           0.0         731.0        326.0         1057.0   \n",
       "3            2007           0.0           0.0        384.0          384.0   \n",
       "4            1993           0.0           0.0        676.0          676.0   \n",
       "\n",
       "   ...  TotRms AbvGrd  Fireplaces  Garage Yr Blt  Garage Cars  Garage Area  \\\n",
       "0  ...              6           0         1976.0          2.0        475.0   \n",
       "1  ...              8           1         1997.0          2.0        559.0   \n",
       "2  ...              5           0         1953.0          1.0        246.0   \n",
       "3  ...              7           0         2007.0          2.0        400.0   \n",
       "4  ...              6           0         1957.0          2.0        484.0   \n",
       "\n",
       "   Wood Deck SF  Open Porch SF  Mo Sold  Yr Sold  SalePrice  \n",
       "0             0             44        3     2010  11.779136  \n",
       "1             0             74        4     2009  12.301387  \n",
       "2             0             52        1     2010  11.599112  \n",
       "3           100              0        4     2010  12.066816  \n",
       "4             0             59        3     2010  11.838633  \n",
       "\n",
       "[5 rows x 28 columns]"
      ]
     },
     "execution_count": 34,
     "metadata": {},
     "output_type": "execute_result"
    }
   ],
   "source": [
    "df_num.head()"
   ]
  },
  {
   "cell_type": "markdown",
   "id": "82218ed2",
   "metadata": {},
   "source": [
    "There seems to be multiple redundant Features in the dataframe, we will now reduce these unnecessary features either by combining them or dropping them as a whole.\n"
   ]
  },
  {
   "cell_type": "code",
   "execution_count": 35,
   "id": "6c63e9fc",
   "metadata": {
    "ExecuteTime": {
     "end_time": "2022-08-15T14:21:16.481671Z",
     "start_time": "2022-08-15T14:21:16.468231Z"
    }
   },
   "outputs": [],
   "source": [
    "def num_col_adddrop(df_num):\n",
    "\n",
    "    #Lets add up all the baths together , with 1 half bath = 0.5\n",
    "    #df_num['Half Bath']=df_num['Half Bath'].div(2)\n",
    "    #df_num['Bath']=df_num['Half Bath'] + df_num['Full Bath'] + df_num['Bsmt Full Bath']\n",
    "\n",
    "\n",
    "    #Lot area is defined as the total property size, since there are regulation on the lot area that can be used for buildings, \n",
    "    #we will not be using this as a feature, instead we will focus more on livable and non livable area\n",
    "    # non_livable area will be defined as lot area - Gr Liv Area\n",
    "\n",
    "    df_num['Non Liv Area'] = df_num['Lot Area'] - df_num['Gr Liv Area']\n",
    "    num_col_to_drop = ['Lot Area','Wood Deck SF','Open Porch SF','1st Flr SF', '2nd Flr SF','Total Bsmt SF']\n",
    "\n",
    "\n",
    "    #shifting \"SalesPrice\" back to the last row\n",
    "    if 'SalePrice' in df_num:\n",
    "        column_to_move = df_num.pop(\"SalePrice\")\n",
    "        df_num.insert(len(df_num.columns), \"SalePrice\", column_to_move)\n",
    "    \n",
    "    num_col_to_drop = num_col_to_drop  + ['BsmtFin SF 1','Bsmt Unf SF','Bedroom AbvGr', 'Kitchen AbvGr','Half Bath',\n",
    "                       'Full Bath','Bsmt Full Bath','Yr Sold', 'Year Built', 'Garage Yr Blt', 'Mo Sold','Garage Area','Overall Cond']\n",
    "    \n",
    "    df_num =  df_num.drop(num_col_to_drop,axis=1)\n",
    "    \n",
    "    return df_num"
   ]
  },
  {
   "cell_type": "code",
   "execution_count": 36,
   "id": "ee62f39d",
   "metadata": {
    "ExecuteTime": {
     "end_time": "2022-08-15T14:21:16.512780Z",
     "start_time": "2022-08-15T14:21:16.483579Z"
    }
   },
   "outputs": [
    {
     "data": {
      "text/html": [
       "<div>\n",
       "<style scoped>\n",
       "    .dataframe tbody tr th:only-of-type {\n",
       "        vertical-align: middle;\n",
       "    }\n",
       "\n",
       "    .dataframe tbody tr th {\n",
       "        vertical-align: top;\n",
       "    }\n",
       "\n",
       "    .dataframe thead th {\n",
       "        text-align: right;\n",
       "    }\n",
       "</style>\n",
       "<table border=\"1\" class=\"dataframe\">\n",
       "  <thead>\n",
       "    <tr style=\"text-align: right;\">\n",
       "      <th></th>\n",
       "      <th>MS SubClass</th>\n",
       "      <th>Overall Qual</th>\n",
       "      <th>Year Remod/Add</th>\n",
       "      <th>Mas Vnr Area</th>\n",
       "      <th>Gr Liv Area</th>\n",
       "      <th>TotRms AbvGrd</th>\n",
       "      <th>Fireplaces</th>\n",
       "      <th>Garage Cars</th>\n",
       "      <th>Non Liv Area</th>\n",
       "      <th>SalePrice</th>\n",
       "    </tr>\n",
       "  </thead>\n",
       "  <tbody>\n",
       "    <tr>\n",
       "      <th>0</th>\n",
       "      <td>60</td>\n",
       "      <td>6</td>\n",
       "      <td>2005</td>\n",
       "      <td>289.0</td>\n",
       "      <td>1479</td>\n",
       "      <td>6</td>\n",
       "      <td>0</td>\n",
       "      <td>2.0</td>\n",
       "      <td>12038</td>\n",
       "      <td>11.779136</td>\n",
       "    </tr>\n",
       "    <tr>\n",
       "      <th>1</th>\n",
       "      <td>60</td>\n",
       "      <td>7</td>\n",
       "      <td>1997</td>\n",
       "      <td>132.0</td>\n",
       "      <td>2122</td>\n",
       "      <td>8</td>\n",
       "      <td>1</td>\n",
       "      <td>2.0</td>\n",
       "      <td>9370</td>\n",
       "      <td>12.301387</td>\n",
       "    </tr>\n",
       "    <tr>\n",
       "      <th>2</th>\n",
       "      <td>20</td>\n",
       "      <td>5</td>\n",
       "      <td>2007</td>\n",
       "      <td>0.0</td>\n",
       "      <td>1057</td>\n",
       "      <td>5</td>\n",
       "      <td>0</td>\n",
       "      <td>1.0</td>\n",
       "      <td>6865</td>\n",
       "      <td>11.599112</td>\n",
       "    </tr>\n",
       "    <tr>\n",
       "      <th>3</th>\n",
       "      <td>60</td>\n",
       "      <td>5</td>\n",
       "      <td>2007</td>\n",
       "      <td>0.0</td>\n",
       "      <td>1444</td>\n",
       "      <td>7</td>\n",
       "      <td>0</td>\n",
       "      <td>2.0</td>\n",
       "      <td>8358</td>\n",
       "      <td>12.066816</td>\n",
       "    </tr>\n",
       "    <tr>\n",
       "      <th>4</th>\n",
       "      <td>50</td>\n",
       "      <td>6</td>\n",
       "      <td>1993</td>\n",
       "      <td>0.0</td>\n",
       "      <td>1445</td>\n",
       "      <td>6</td>\n",
       "      <td>0</td>\n",
       "      <td>2.0</td>\n",
       "      <td>12790</td>\n",
       "      <td>11.838633</td>\n",
       "    </tr>\n",
       "    <tr>\n",
       "      <th>...</th>\n",
       "      <td>...</td>\n",
       "      <td>...</td>\n",
       "      <td>...</td>\n",
       "      <td>...</td>\n",
       "      <td>...</td>\n",
       "      <td>...</td>\n",
       "      <td>...</td>\n",
       "      <td>...</td>\n",
       "      <td>...</td>\n",
       "      <td>...</td>\n",
       "    </tr>\n",
       "    <tr>\n",
       "      <th>2046</th>\n",
       "      <td>20</td>\n",
       "      <td>8</td>\n",
       "      <td>2007</td>\n",
       "      <td>0.0</td>\n",
       "      <td>1728</td>\n",
       "      <td>7</td>\n",
       "      <td>1</td>\n",
       "      <td>2.0</td>\n",
       "      <td>9721</td>\n",
       "      <td>12.607369</td>\n",
       "    </tr>\n",
       "    <tr>\n",
       "      <th>2047</th>\n",
       "      <td>30</td>\n",
       "      <td>4</td>\n",
       "      <td>1950</td>\n",
       "      <td>0.0</td>\n",
       "      <td>861</td>\n",
       "      <td>4</td>\n",
       "      <td>0</td>\n",
       "      <td>2.0</td>\n",
       "      <td>11481</td>\n",
       "      <td>11.320566</td>\n",
       "    </tr>\n",
       "    <tr>\n",
       "      <th>2048</th>\n",
       "      <td>50</td>\n",
       "      <td>6</td>\n",
       "      <td>1950</td>\n",
       "      <td>0.0</td>\n",
       "      <td>1913</td>\n",
       "      <td>9</td>\n",
       "      <td>1</td>\n",
       "      <td>2.0</td>\n",
       "      <td>5645</td>\n",
       "      <td>12.083911</td>\n",
       "    </tr>\n",
       "    <tr>\n",
       "      <th>2049</th>\n",
       "      <td>20</td>\n",
       "      <td>4</td>\n",
       "      <td>1956</td>\n",
       "      <td>0.0</td>\n",
       "      <td>1200</td>\n",
       "      <td>6</td>\n",
       "      <td>2</td>\n",
       "      <td>1.0</td>\n",
       "      <td>9200</td>\n",
       "      <td>11.877576</td>\n",
       "    </tr>\n",
       "    <tr>\n",
       "      <th>2050</th>\n",
       "      <td>60</td>\n",
       "      <td>7</td>\n",
       "      <td>1999</td>\n",
       "      <td>0.0</td>\n",
       "      <td>1804</td>\n",
       "      <td>7</td>\n",
       "      <td>1</td>\n",
       "      <td>2.0</td>\n",
       "      <td>5696</td>\n",
       "      <td>12.149508</td>\n",
       "    </tr>\n",
       "  </tbody>\n",
       "</table>\n",
       "<p>2049 rows × 10 columns</p>\n",
       "</div>"
      ],
      "text/plain": [
       "      MS SubClass  Overall Qual  Year Remod/Add  Mas Vnr Area  Gr Liv Area  \\\n",
       "0              60             6            2005         289.0         1479   \n",
       "1              60             7            1997         132.0         2122   \n",
       "2              20             5            2007           0.0         1057   \n",
       "3              60             5            2007           0.0         1444   \n",
       "4              50             6            1993           0.0         1445   \n",
       "...           ...           ...             ...           ...          ...   \n",
       "2046           20             8            2007           0.0         1728   \n",
       "2047           30             4            1950           0.0          861   \n",
       "2048           50             6            1950           0.0         1913   \n",
       "2049           20             4            1956           0.0         1200   \n",
       "2050           60             7            1999           0.0         1804   \n",
       "\n",
       "      TotRms AbvGrd  Fireplaces  Garage Cars  Non Liv Area  SalePrice  \n",
       "0                 6           0          2.0         12038  11.779136  \n",
       "1                 8           1          2.0          9370  12.301387  \n",
       "2                 5           0          1.0          6865  11.599112  \n",
       "3                 7           0          2.0          8358  12.066816  \n",
       "4                 6           0          2.0         12790  11.838633  \n",
       "...             ...         ...          ...           ...        ...  \n",
       "2046              7           1          2.0          9721  12.607369  \n",
       "2047              4           0          2.0         11481  11.320566  \n",
       "2048              9           1          2.0          5645  12.083911  \n",
       "2049              6           2          1.0          9200  11.877576  \n",
       "2050              7           1          2.0          5696  12.149508  \n",
       "\n",
       "[2049 rows x 10 columns]"
      ]
     },
     "execution_count": 36,
     "metadata": {},
     "output_type": "execute_result"
    }
   ],
   "source": [
    "df_num = num_col_adddrop(df_num)\n",
    "df_num"
   ]
  },
  {
   "cell_type": "markdown",
   "id": "ff558713",
   "metadata": {},
   "source": [
    "Instead of having multiple years, we will keep only Year Remod/Add since this this will be the same as year built if no remodeling or additions\n",
    "Also we will be dropping the columns 'Mo Sold' as it seems to be unimportant in predicting house prices."
   ]
  },
  {
   "cell_type": "markdown",
   "id": "d37743de",
   "metadata": {},
   "source": [
    "We already have the \"column Garage\" Cars which dictates the Size of the garage based on the number of cars it can fit, so we  will eliminate Garage area given that its already accounted for in Non Liv Area"
   ]
  },
  {
   "cell_type": "code",
   "execution_count": 37,
   "id": "cf32dcb5",
   "metadata": {
    "ExecuteTime": {
     "end_time": "2022-08-15T14:21:16.543681Z",
     "start_time": "2022-08-15T14:21:16.516544Z"
    }
   },
   "outputs": [
    {
     "data": {
      "text/html": [
       "<div>\n",
       "<style scoped>\n",
       "    .dataframe tbody tr th:only-of-type {\n",
       "        vertical-align: middle;\n",
       "    }\n",
       "\n",
       "    .dataframe tbody tr th {\n",
       "        vertical-align: top;\n",
       "    }\n",
       "\n",
       "    .dataframe thead th {\n",
       "        text-align: right;\n",
       "    }\n",
       "</style>\n",
       "<table border=\"1\" class=\"dataframe\">\n",
       "  <thead>\n",
       "    <tr style=\"text-align: right;\">\n",
       "      <th></th>\n",
       "      <th>MS SubClass</th>\n",
       "      <th>Overall Qual</th>\n",
       "      <th>Year Remod/Add</th>\n",
       "      <th>Mas Vnr Area</th>\n",
       "      <th>Gr Liv Area</th>\n",
       "      <th>TotRms AbvGrd</th>\n",
       "      <th>Fireplaces</th>\n",
       "      <th>Garage Cars</th>\n",
       "      <th>Non Liv Area</th>\n",
       "      <th>SalePrice</th>\n",
       "    </tr>\n",
       "  </thead>\n",
       "  <tbody>\n",
       "    <tr>\n",
       "      <th>MS SubClass</th>\n",
       "      <td>1.000000</td>\n",
       "      <td>0.033546</td>\n",
       "      <td>0.044025</td>\n",
       "      <td>-0.003178</td>\n",
       "      <td>0.067240</td>\n",
       "      <td>0.033584</td>\n",
       "      <td>-0.055344</td>\n",
       "      <td>-0.049228</td>\n",
       "      <td>-0.255888</td>\n",
       "      <td>-0.075966</td>\n",
       "    </tr>\n",
       "    <tr>\n",
       "      <th>Overall Qual</th>\n",
       "      <td>0.033546</td>\n",
       "      <td>1.000000</td>\n",
       "      <td>0.584450</td>\n",
       "      <td>0.430551</td>\n",
       "      <td>0.565640</td>\n",
       "      <td>0.380270</td>\n",
       "      <td>0.390344</td>\n",
       "      <td>0.591461</td>\n",
       "      <td>0.066997</td>\n",
       "      <td>0.823010</td>\n",
       "    </tr>\n",
       "    <tr>\n",
       "      <th>Year Remod/Add</th>\n",
       "      <td>0.044025</td>\n",
       "      <td>0.584450</td>\n",
       "      <td>1.000000</td>\n",
       "      <td>0.203796</td>\n",
       "      <td>0.321366</td>\n",
       "      <td>0.201226</td>\n",
       "      <td>0.138515</td>\n",
       "      <td>0.441000</td>\n",
       "      <td>0.028074</td>\n",
       "      <td>0.604698</td>\n",
       "    </tr>\n",
       "    <tr>\n",
       "      <th>Mas Vnr Area</th>\n",
       "      <td>-0.003178</td>\n",
       "      <td>0.430551</td>\n",
       "      <td>0.203796</td>\n",
       "      <td>1.000000</td>\n",
       "      <td>0.383529</td>\n",
       "      <td>0.271231</td>\n",
       "      <td>0.265956</td>\n",
       "      <td>0.356923</td>\n",
       "      <td>0.142401</td>\n",
       "      <td>0.447671</td>\n",
       "    </tr>\n",
       "    <tr>\n",
       "      <th>Gr Liv Area</th>\n",
       "      <td>0.067240</td>\n",
       "      <td>0.565640</td>\n",
       "      <td>0.321366</td>\n",
       "      <td>0.383529</td>\n",
       "      <td>1.000000</td>\n",
       "      <td>0.813037</td>\n",
       "      <td>0.459030</td>\n",
       "      <td>0.486085</td>\n",
       "      <td>0.259770</td>\n",
       "      <td>0.692962</td>\n",
       "    </tr>\n",
       "    <tr>\n",
       "      <th>TotRms AbvGrd</th>\n",
       "      <td>0.033584</td>\n",
       "      <td>0.380270</td>\n",
       "      <td>0.201226</td>\n",
       "      <td>0.271231</td>\n",
       "      <td>0.813037</td>\n",
       "      <td>1.000000</td>\n",
       "      <td>0.311694</td>\n",
       "      <td>0.368526</td>\n",
       "      <td>0.183132</td>\n",
       "      <td>0.498871</td>\n",
       "    </tr>\n",
       "    <tr>\n",
       "      <th>Fireplaces</th>\n",
       "      <td>-0.055344</td>\n",
       "      <td>0.390344</td>\n",
       "      <td>0.138515</td>\n",
       "      <td>0.265956</td>\n",
       "      <td>0.459030</td>\n",
       "      <td>0.311694</td>\n",
       "      <td>1.000000</td>\n",
       "      <td>0.311412</td>\n",
       "      <td>0.261580</td>\n",
       "      <td>0.493435</td>\n",
       "    </tr>\n",
       "    <tr>\n",
       "      <th>Garage Cars</th>\n",
       "      <td>-0.049228</td>\n",
       "      <td>0.591461</td>\n",
       "      <td>0.441000</td>\n",
       "      <td>0.356923</td>\n",
       "      <td>0.486085</td>\n",
       "      <td>0.368526</td>\n",
       "      <td>0.311412</td>\n",
       "      <td>1.000000</td>\n",
       "      <td>0.182727</td>\n",
       "      <td>0.681958</td>\n",
       "    </tr>\n",
       "    <tr>\n",
       "      <th>Non Liv Area</th>\n",
       "      <td>-0.255888</td>\n",
       "      <td>0.066997</td>\n",
       "      <td>0.028074</td>\n",
       "      <td>0.142401</td>\n",
       "      <td>0.259770</td>\n",
       "      <td>0.183132</td>\n",
       "      <td>0.261580</td>\n",
       "      <td>0.182727</td>\n",
       "      <td>1.000000</td>\n",
       "      <td>0.241158</td>\n",
       "    </tr>\n",
       "    <tr>\n",
       "      <th>SalePrice</th>\n",
       "      <td>-0.075966</td>\n",
       "      <td>0.823010</td>\n",
       "      <td>0.604698</td>\n",
       "      <td>0.447671</td>\n",
       "      <td>0.692962</td>\n",
       "      <td>0.498871</td>\n",
       "      <td>0.493435</td>\n",
       "      <td>0.681958</td>\n",
       "      <td>0.241158</td>\n",
       "      <td>1.000000</td>\n",
       "    </tr>\n",
       "  </tbody>\n",
       "</table>\n",
       "</div>"
      ],
      "text/plain": [
       "                MS SubClass  Overall Qual  Year Remod/Add  Mas Vnr Area  \\\n",
       "MS SubClass        1.000000      0.033546        0.044025     -0.003178   \n",
       "Overall Qual       0.033546      1.000000        0.584450      0.430551   \n",
       "Year Remod/Add     0.044025      0.584450        1.000000      0.203796   \n",
       "Mas Vnr Area      -0.003178      0.430551        0.203796      1.000000   \n",
       "Gr Liv Area        0.067240      0.565640        0.321366      0.383529   \n",
       "TotRms AbvGrd      0.033584      0.380270        0.201226      0.271231   \n",
       "Fireplaces        -0.055344      0.390344        0.138515      0.265956   \n",
       "Garage Cars       -0.049228      0.591461        0.441000      0.356923   \n",
       "Non Liv Area      -0.255888      0.066997        0.028074      0.142401   \n",
       "SalePrice         -0.075966      0.823010        0.604698      0.447671   \n",
       "\n",
       "                Gr Liv Area  TotRms AbvGrd  Fireplaces  Garage Cars  \\\n",
       "MS SubClass        0.067240       0.033584   -0.055344    -0.049228   \n",
       "Overall Qual       0.565640       0.380270    0.390344     0.591461   \n",
       "Year Remod/Add     0.321366       0.201226    0.138515     0.441000   \n",
       "Mas Vnr Area       0.383529       0.271231    0.265956     0.356923   \n",
       "Gr Liv Area        1.000000       0.813037    0.459030     0.486085   \n",
       "TotRms AbvGrd      0.813037       1.000000    0.311694     0.368526   \n",
       "Fireplaces         0.459030       0.311694    1.000000     0.311412   \n",
       "Garage Cars        0.486085       0.368526    0.311412     1.000000   \n",
       "Non Liv Area       0.259770       0.183132    0.261580     0.182727   \n",
       "SalePrice          0.692962       0.498871    0.493435     0.681958   \n",
       "\n",
       "                Non Liv Area  SalePrice  \n",
       "MS SubClass        -0.255888  -0.075966  \n",
       "Overall Qual        0.066997   0.823010  \n",
       "Year Remod/Add      0.028074   0.604698  \n",
       "Mas Vnr Area        0.142401   0.447671  \n",
       "Gr Liv Area         0.259770   0.692962  \n",
       "TotRms AbvGrd       0.183132   0.498871  \n",
       "Fireplaces          0.261580   0.493435  \n",
       "Garage Cars         0.182727   0.681958  \n",
       "Non Liv Area        1.000000   0.241158  \n",
       "SalePrice           0.241158   1.000000  "
      ]
     },
     "execution_count": 37,
     "metadata": {},
     "output_type": "execute_result"
    }
   ],
   "source": [
    "df_num.corr()"
   ]
  },
  {
   "cell_type": "code",
   "execution_count": 38,
   "id": "a837916a",
   "metadata": {
    "ExecuteTime": {
     "end_time": "2022-08-15T14:21:16.887002Z",
     "start_time": "2022-08-15T14:21:16.547942Z"
    },
    "scrolled": false
   },
   "outputs": [
    {
     "data": {
      "image/png": "[encoded data removed]",
      "text/plain": [
       "<Figure size 432x288 with 2 Axes>"
      ]
     },
     "metadata": {
      "needs_background": "light"
     },
     "output_type": "display_data"
    }
   ],
   "source": [
    "corrmat = df_num.corr()\n",
    "g = sns.heatmap(df_num.corr())"
   ]
  },
  {
   "cell_type": "markdown",
   "id": "09d24005",
   "metadata": {},
   "source": [
    "Among all the columns we will be selecting the more important ones which have correlation greater than 55% with our target variable SalePrice."
   ]
  },
  {
   "cell_type": "code",
   "execution_count": 39,
   "id": "a2722893",
   "metadata": {
    "ExecuteTime": {
     "end_time": "2022-08-15T14:21:17.103022Z",
     "start_time": "2022-08-15T14:21:16.889399Z"
    },
    "scrolled": false
   },
   "outputs": [
    {
     "data": {
      "image/png": "[encoded data removed]",
      "text/plain": [
       "<Figure size 432x288 with 2 Axes>"
      ]
     },
     "metadata": {
      "needs_background": "light"
     },
     "output_type": "display_data"
    }
   ],
   "source": [
    "T_corr = corrmat.index[abs(corrmat['SalePrice']) > 0.55]\n",
    "g = sns.heatmap(df_num[T_corr].corr(), annot=True, cmap=\"RdYlGn\")"
   ]
  },
  {
   "cell_type": "markdown",
   "id": "40de005b",
   "metadata": {},
   "source": [
    "#### From the above heatmap, we now know that 'Overall Qual', 'Year Remod/Add', 'Gr Liv Area', 'Garage Cars' & 'Bath' are the 5 most important features in the numerical columns with high correlation against SalePrice.  \n",
    "These are the columns we want to keep."
   ]
  },
  {
   "cell_type": "code",
   "execution_count": 40,
   "id": "a865d81d",
   "metadata": {
    "ExecuteTime": {
     "end_time": "2022-08-15T14:21:17.134619Z",
     "start_time": "2022-08-15T14:21:17.104571Z"
    }
   },
   "outputs": [
    {
     "data": {
      "text/html": [
       "<div>\n",
       "<style scoped>\n",
       "    .dataframe tbody tr th:only-of-type {\n",
       "        vertical-align: middle;\n",
       "    }\n",
       "\n",
       "    .dataframe tbody tr th {\n",
       "        vertical-align: top;\n",
       "    }\n",
       "\n",
       "    .dataframe thead th {\n",
       "        text-align: right;\n",
       "    }\n",
       "</style>\n",
       "<table border=\"1\" class=\"dataframe\">\n",
       "  <thead>\n",
       "    <tr style=\"text-align: right;\">\n",
       "      <th></th>\n",
       "      <th>Lot Shape</th>\n",
       "      <th>Neighborhood</th>\n",
       "      <th>House Style</th>\n",
       "      <th>Exterior 1st</th>\n",
       "      <th>Exterior 2nd</th>\n",
       "      <th>Mas Vnr Type</th>\n",
       "      <th>Exter Qual</th>\n",
       "      <th>Foundation</th>\n",
       "      <th>Bsmt Qual</th>\n",
       "      <th>Bsmt Exposure</th>\n",
       "      <th>...</th>\n",
       "      <th>MS SubClass</th>\n",
       "      <th>Overall Qual</th>\n",
       "      <th>Year Remod/Add</th>\n",
       "      <th>Mas Vnr Area</th>\n",
       "      <th>Gr Liv Area</th>\n",
       "      <th>TotRms AbvGrd</th>\n",
       "      <th>Fireplaces</th>\n",
       "      <th>Garage Cars</th>\n",
       "      <th>Non Liv Area</th>\n",
       "      <th>SalePrice</th>\n",
       "    </tr>\n",
       "  </thead>\n",
       "  <tbody>\n",
       "    <tr>\n",
       "      <th>0</th>\n",
       "      <td>IR1</td>\n",
       "      <td>Sawyer</td>\n",
       "      <td>2Story</td>\n",
       "      <td>HdBoard</td>\n",
       "      <td>Plywood</td>\n",
       "      <td>BrkFace</td>\n",
       "      <td>Gd</td>\n",
       "      <td>CBlock</td>\n",
       "      <td>TA</td>\n",
       "      <td>No</td>\n",
       "      <td>...</td>\n",
       "      <td>60</td>\n",
       "      <td>6</td>\n",
       "      <td>2005</td>\n",
       "      <td>289.0</td>\n",
       "      <td>1479</td>\n",
       "      <td>6</td>\n",
       "      <td>0</td>\n",
       "      <td>2.0</td>\n",
       "      <td>12038</td>\n",
       "      <td>11.779136</td>\n",
       "    </tr>\n",
       "    <tr>\n",
       "      <th>1</th>\n",
       "      <td>IR1</td>\n",
       "      <td>SawyerW</td>\n",
       "      <td>2Story</td>\n",
       "      <td>VinylSd</td>\n",
       "      <td>VinylSd</td>\n",
       "      <td>BrkFace</td>\n",
       "      <td>Gd</td>\n",
       "      <td>PConc</td>\n",
       "      <td>Gd</td>\n",
       "      <td>No</td>\n",
       "      <td>...</td>\n",
       "      <td>60</td>\n",
       "      <td>7</td>\n",
       "      <td>1997</td>\n",
       "      <td>132.0</td>\n",
       "      <td>2122</td>\n",
       "      <td>8</td>\n",
       "      <td>1</td>\n",
       "      <td>2.0</td>\n",
       "      <td>9370</td>\n",
       "      <td>12.301387</td>\n",
       "    </tr>\n",
       "    <tr>\n",
       "      <th>2</th>\n",
       "      <td>Reg</td>\n",
       "      <td>NAmes</td>\n",
       "      <td>1Story</td>\n",
       "      <td>VinylSd</td>\n",
       "      <td>VinylSd</td>\n",
       "      <td>None</td>\n",
       "      <td>TA</td>\n",
       "      <td>CBlock</td>\n",
       "      <td>TA</td>\n",
       "      <td>No</td>\n",
       "      <td>...</td>\n",
       "      <td>20</td>\n",
       "      <td>5</td>\n",
       "      <td>2007</td>\n",
       "      <td>0.0</td>\n",
       "      <td>1057</td>\n",
       "      <td>5</td>\n",
       "      <td>0</td>\n",
       "      <td>1.0</td>\n",
       "      <td>6865</td>\n",
       "      <td>11.599112</td>\n",
       "    </tr>\n",
       "    <tr>\n",
       "      <th>3</th>\n",
       "      <td>Reg</td>\n",
       "      <td>Timber</td>\n",
       "      <td>2Story</td>\n",
       "      <td>VinylSd</td>\n",
       "      <td>VinylSd</td>\n",
       "      <td>None</td>\n",
       "      <td>TA</td>\n",
       "      <td>PConc</td>\n",
       "      <td>Gd</td>\n",
       "      <td>No</td>\n",
       "      <td>...</td>\n",
       "      <td>60</td>\n",
       "      <td>5</td>\n",
       "      <td>2007</td>\n",
       "      <td>0.0</td>\n",
       "      <td>1444</td>\n",
       "      <td>7</td>\n",
       "      <td>0</td>\n",
       "      <td>2.0</td>\n",
       "      <td>8358</td>\n",
       "      <td>12.066816</td>\n",
       "    </tr>\n",
       "    <tr>\n",
       "      <th>4</th>\n",
       "      <td>IR1</td>\n",
       "      <td>SawyerW</td>\n",
       "      <td>1.5Fin</td>\n",
       "      <td>Wd Sdng</td>\n",
       "      <td>Plywood</td>\n",
       "      <td>None</td>\n",
       "      <td>TA</td>\n",
       "      <td>PConc</td>\n",
       "      <td>Fa</td>\n",
       "      <td>No</td>\n",
       "      <td>...</td>\n",
       "      <td>50</td>\n",
       "      <td>6</td>\n",
       "      <td>1993</td>\n",
       "      <td>0.0</td>\n",
       "      <td>1445</td>\n",
       "      <td>6</td>\n",
       "      <td>0</td>\n",
       "      <td>2.0</td>\n",
       "      <td>12790</td>\n",
       "      <td>11.838633</td>\n",
       "    </tr>\n",
       "  </tbody>\n",
       "</table>\n",
       "<p>5 rows × 26 columns</p>\n",
       "</div>"
      ],
      "text/plain": [
       "  Lot Shape Neighborhood House Style Exterior 1st Exterior 2nd Mas Vnr Type  \\\n",
       "0       IR1       Sawyer      2Story      HdBoard      Plywood      BrkFace   \n",
       "1       IR1      SawyerW      2Story      VinylSd      VinylSd      BrkFace   \n",
       "2       Reg        NAmes      1Story      VinylSd      VinylSd         None   \n",
       "3       Reg       Timber      2Story      VinylSd      VinylSd         None   \n",
       "4       IR1      SawyerW      1.5Fin      Wd Sdng      Plywood         None   \n",
       "\n",
       "  Exter Qual Foundation Bsmt Qual Bsmt Exposure  ... MS SubClass Overall Qual  \\\n",
       "0         Gd     CBlock        TA            No  ...          60            6   \n",
       "1         Gd      PConc        Gd            No  ...          60            7   \n",
       "2         TA     CBlock        TA            No  ...          20            5   \n",
       "3         TA      PConc        Gd            No  ...          60            5   \n",
       "4         TA      PConc        Fa            No  ...          50            6   \n",
       "\n",
       "  Year Remod/Add Mas Vnr Area Gr Liv Area TotRms AbvGrd  Fireplaces  \\\n",
       "0           2005        289.0        1479             6           0   \n",
       "1           1997        132.0        2122             8           1   \n",
       "2           2007          0.0        1057             5           0   \n",
       "3           2007          0.0        1444             7           0   \n",
       "4           1993          0.0        1445             6           0   \n",
       "\n",
       "   Garage Cars  Non Liv Area  SalePrice  \n",
       "0          2.0         12038  11.779136  \n",
       "1          2.0          9370  12.301387  \n",
       "2          1.0          6865  11.599112  \n",
       "3          2.0          8358  12.066816  \n",
       "4          2.0         12790  11.838633  \n",
       "\n",
       "[5 rows x 26 columns]"
      ]
     },
     "execution_count": 40,
     "metadata": {},
     "output_type": "execute_result"
    }
   ],
   "source": [
    "df = pd.concat([df_obj,df_num], axis=1)\n",
    "df.head()"
   ]
  },
  {
   "cell_type": "markdown",
   "id": "90d3dbf0",
   "metadata": {},
   "source": [
    "#### Outlier Detection"
   ]
  },
  {
   "cell_type": "markdown",
   "id": "b43ff59e",
   "metadata": {},
   "source": [
    "We will determine the outliers against the top 5 features based on Correlation score.  \n",
    "1) 'Overall Qual',  \n",
    "2) 'Gr Liv Area',   \n",
    "3) 'Garage Cars',   \n",
    "4) 'Year Remod/Add',  \n",
    "5) 'Bath'\n",
    "\n",
    "We will be utilizing the Inter quartile menthod to determine outliers"
   ]
  },
  {
   "cell_type": "code",
   "execution_count": 41,
   "id": "ada6bc37",
   "metadata": {
    "ExecuteTime": {
     "end_time": "2022-08-15T14:21:17.150420Z",
     "start_time": "2022-08-15T14:21:17.138805Z"
    }
   },
   "outputs": [],
   "source": [
    "def outliertreatment(datacolumn):\n",
    "    #sorted(datacolumn)\n",
    "    Q1,Q3 = np.percentile(datacolumn , [25,75])\n",
    "    IQR = Q3 - Q1\n",
    "    lower_range = Q1 - (1.5 * IQR)\n",
    "    upper_range = Q3 + (1.5 * IQR)\n",
    "    return print(f\" Lower range is {lower_range},\\n Upper range is {upper_range}\")"
   ]
  },
  {
   "cell_type": "code",
   "execution_count": 42,
   "id": "ff65f935",
   "metadata": {
    "ExecuteTime": {
     "end_time": "2022-08-15T14:21:17.165611Z",
     "start_time": "2022-08-15T14:21:17.152700Z"
    }
   },
   "outputs": [
    {
     "data": {
      "text/plain": [
       "(2049, 26)"
      ]
     },
     "execution_count": 42,
     "metadata": {},
     "output_type": "execute_result"
    }
   ],
   "source": [
    "df.shape"
   ]
  },
  {
   "cell_type": "code",
   "execution_count": 43,
   "id": "ca0c9f62",
   "metadata": {
    "ExecuteTime": {
     "end_time": "2022-08-15T14:21:17.963488Z",
     "start_time": "2022-08-15T14:21:17.168079Z"
    },
    "scrolled": true
   },
   "outputs": [
    {
     "name": "stderr",
     "output_type": "stream",
     "text": [
      "C:\\Users\\v-weihaoloh\\AppData\\Local\\Temp\\ipykernel_11936\\3700842201.py:8: FutureWarning: This dataframe has a column name that matches the 'value_name' column name of the resulting Dataframe. In the future this will raise an error, please set the 'value_name' parameter of DataFrame.melt to a unique name.\n",
      "  data = df.melt(value_name=var)\n",
      "C:\\Users\\v-weihaoloh\\AppData\\Local\\Temp\\ipykernel_11936\\3700842201.py:8: FutureWarning: This dataframe has a column name that matches the 'value_name' column name of the resulting Dataframe. In the future this will raise an error, please set the 'value_name' parameter of DataFrame.melt to a unique name.\n",
      "  data = df.melt(value_name=var)\n",
      "C:\\Users\\v-weihaoloh\\AppData\\Local\\Temp\\ipykernel_11936\\3700842201.py:8: FutureWarning: This dataframe has a column name that matches the 'value_name' column name of the resulting Dataframe. In the future this will raise an error, please set the 'value_name' parameter of DataFrame.melt to a unique name.\n",
      "  data = df.melt(value_name=var)\n",
      "C:\\Users\\v-weihaoloh\\AppData\\Local\\Temp\\ipykernel_11936\\3700842201.py:8: FutureWarning: This dataframe has a column name that matches the 'value_name' column name of the resulting Dataframe. In the future this will raise an error, please set the 'value_name' parameter of DataFrame.melt to a unique name.\n",
      "  data = df.melt(value_name=var)\n"
     ]
    },
    {
     "data": {
      "image/png": "[encoded data removed]",
      "text/plain": [
       "<Figure size 432x288 with 6 Axes>"
      ]
     },
     "metadata": {
      "needs_background": "light"
     },
     "output_type": "display_data"
    }
   ],
   "source": [
    "\n",
    "variables = ['Overall Qual','Gr Liv Area','Garage Cars','Year Remod/Add']\n",
    "fig, axes = plt.subplots(2, 3)\n",
    "flattened_axes = fig.axes\n",
    "#flattened_axes[-1].set_visible(False)\n",
    "\n",
    "\n",
    "for i, var in enumerate(variables):\n",
    "    data = df.melt(value_name=var)\n",
    "    ax = flattened_axes[i]\n",
    "    sns.boxplot( y=var, width=0.5, data=df, ax=ax, showfliers=True)\n",
    "    \n",
    "plt.tight_layout()\n",
    "plt.show()"
   ]
  },
  {
   "cell_type": "code",
   "execution_count": 44,
   "id": "bbd50637",
   "metadata": {
    "ExecuteTime": {
     "end_time": "2022-08-15T14:21:17.979515Z",
     "start_time": "2022-08-15T14:21:17.967419Z"
    },
    "run_control": {
     "marked": false
    },
    "scrolled": true
   },
   "outputs": [
    {
     "name": "stdout",
     "output_type": "stream",
     "text": [
      " Lower range is 2.0,\n",
      " Upper range is 10.0\n"
     ]
    }
   ],
   "source": [
    "#lower and upper range for Overall Qual\n",
    "outliertreatment(df['Overall Qual'])"
   ]
  },
  {
   "cell_type": "code",
   "execution_count": 45,
   "id": "7f03f91f",
   "metadata": {
    "ExecuteTime": {
     "end_time": "2022-08-15T14:21:18.015302Z",
     "start_time": "2022-08-15T14:21:17.984863Z"
    },
    "scrolled": false
   },
   "outputs": [
    {
     "name": "stdout",
     "output_type": "stream",
     "text": [
      " Lower range is 234.0,\n",
      " Upper range is 2626.0\n"
     ]
    }
   ],
   "source": [
    "#lower and upper range for 'Gr Liv Area'\n",
    "outliertreatment(df['Gr Liv Area'])"
   ]
  },
  {
   "cell_type": "code",
   "execution_count": 46,
   "id": "722a609c",
   "metadata": {
    "ExecuteTime": {
     "end_time": "2022-08-15T14:21:18.042303Z",
     "start_time": "2022-08-15T14:21:18.019076Z"
    },
    "scrolled": false
   },
   "outputs": [
    {
     "name": "stdout",
     "output_type": "stream",
     "text": [
      " Lower range is -0.5,\n",
      " Upper range is 3.5\n"
     ]
    }
   ],
   "source": [
    "#lower and upper range for ''Garage Cars'\n",
    "outliertreatment(df['Garage Cars'])"
   ]
  },
  {
   "cell_type": "code",
   "execution_count": 47,
   "id": "0a05fcce",
   "metadata": {
    "ExecuteTime": {
     "end_time": "2022-08-15T14:21:18.057244Z",
     "start_time": "2022-08-15T14:21:18.047338Z"
    },
    "scrolled": false
   },
   "outputs": [
    {
     "name": "stdout",
     "output_type": "stream",
     "text": [
      " Lower range is 1906.5,\n",
      " Upper range is 2062.5\n"
     ]
    }
   ],
   "source": [
    "#lower and upper range for 'Year Remod/Add'\n",
    "outliertreatment(df['Year Remod/Add'])"
   ]
  },
  {
   "cell_type": "code",
   "execution_count": 48,
   "id": "55e46856",
   "metadata": {
    "ExecuteTime": {
     "end_time": "2022-08-15T14:21:18.073313Z",
     "start_time": "2022-08-15T14:21:18.060763Z"
    },
    "run_control": {
     "marked": false
    },
    "scrolled": false
   },
   "outputs": [],
   "source": [
    "#lower and upper range for 'Bath'\n",
    "#outliertreatment(df['Bath'])"
   ]
  },
  {
   "cell_type": "markdown",
   "id": "9c22528e",
   "metadata": {},
   "source": [
    "##### Outlier removal"
   ]
  },
  {
   "cell_type": "code",
   "execution_count": 49,
   "id": "0c445dbc",
   "metadata": {
    "ExecuteTime": {
     "end_time": "2022-08-15T14:21:18.104074Z",
     "start_time": "2022-08-15T14:21:18.077704Z"
    }
   },
   "outputs": [],
   "source": [
    "df.drop(df[(df['Overall Qual']<2) | (df['Overall Qual']>10)].index,inplace=True)\n",
    "df.drop(df[(df['Gr Liv Area']<234) | (df['Gr Liv Area']>2626)].index,inplace=True)\n",
    "df.drop(df[(df['Garage Cars']<-0.5) | (df['Garage Cars']>3.5)].index,inplace=True)\n",
    "df.drop(df[(df['Year Remod/Add']<1906.5) | (df['Year Remod/Add']>2062.5)].index,inplace=True)\n",
    "#df.drop(df[(df['Bath']<0) | (df['Bath']>4)].index,inplace=True)"
   ]
  },
  {
   "cell_type": "code",
   "execution_count": 50,
   "id": "369692df",
   "metadata": {
    "ExecuteTime": {
     "end_time": "2022-08-15T14:21:18.119378Z",
     "start_time": "2022-08-15T14:21:18.109694Z"
    }
   },
   "outputs": [
    {
     "data": {
      "text/plain": [
       "(1973, 26)"
      ]
     },
     "execution_count": 50,
     "metadata": {},
     "output_type": "execute_result"
    }
   ],
   "source": [
    "df.shape"
   ]
  },
  {
   "cell_type": "code",
   "execution_count": 51,
   "id": "2a4036aa",
   "metadata": {
    "ExecuteTime": {
     "end_time": "2022-08-15T14:21:18.165325Z",
     "start_time": "2022-08-15T14:21:18.124206Z"
    },
    "scrolled": true
   },
   "outputs": [
    {
     "data": {
      "text/html": [
       "<div>\n",
       "<style scoped>\n",
       "    .dataframe tbody tr th:only-of-type {\n",
       "        vertical-align: middle;\n",
       "    }\n",
       "\n",
       "    .dataframe tbody tr th {\n",
       "        vertical-align: top;\n",
       "    }\n",
       "\n",
       "    .dataframe thead th {\n",
       "        text-align: right;\n",
       "    }\n",
       "</style>\n",
       "<table border=\"1\" class=\"dataframe\">\n",
       "  <thead>\n",
       "    <tr style=\"text-align: right;\">\n",
       "      <th></th>\n",
       "      <th>Lot Shape</th>\n",
       "      <th>Neighborhood</th>\n",
       "      <th>House Style</th>\n",
       "      <th>Exterior 1st</th>\n",
       "      <th>Exterior 2nd</th>\n",
       "      <th>Mas Vnr Type</th>\n",
       "      <th>Exter Qual</th>\n",
       "      <th>Foundation</th>\n",
       "      <th>Bsmt Qual</th>\n",
       "      <th>Bsmt Exposure</th>\n",
       "      <th>...</th>\n",
       "      <th>MS SubClass</th>\n",
       "      <th>Overall Qual</th>\n",
       "      <th>Year Remod/Add</th>\n",
       "      <th>Mas Vnr Area</th>\n",
       "      <th>Gr Liv Area</th>\n",
       "      <th>TotRms AbvGrd</th>\n",
       "      <th>Fireplaces</th>\n",
       "      <th>Garage Cars</th>\n",
       "      <th>Non Liv Area</th>\n",
       "      <th>SalePrice</th>\n",
       "    </tr>\n",
       "  </thead>\n",
       "  <tbody>\n",
       "    <tr>\n",
       "      <th>0</th>\n",
       "      <td>IR1</td>\n",
       "      <td>Sawyer</td>\n",
       "      <td>2Story</td>\n",
       "      <td>HdBoard</td>\n",
       "      <td>Plywood</td>\n",
       "      <td>BrkFace</td>\n",
       "      <td>Gd</td>\n",
       "      <td>CBlock</td>\n",
       "      <td>TA</td>\n",
       "      <td>No</td>\n",
       "      <td>...</td>\n",
       "      <td>60</td>\n",
       "      <td>6</td>\n",
       "      <td>2005</td>\n",
       "      <td>289.0</td>\n",
       "      <td>1479</td>\n",
       "      <td>6</td>\n",
       "      <td>0</td>\n",
       "      <td>2.0</td>\n",
       "      <td>12038</td>\n",
       "      <td>11.779136</td>\n",
       "    </tr>\n",
       "    <tr>\n",
       "      <th>1</th>\n",
       "      <td>IR1</td>\n",
       "      <td>SawyerW</td>\n",
       "      <td>2Story</td>\n",
       "      <td>VinylSd</td>\n",
       "      <td>VinylSd</td>\n",
       "      <td>BrkFace</td>\n",
       "      <td>Gd</td>\n",
       "      <td>PConc</td>\n",
       "      <td>Gd</td>\n",
       "      <td>No</td>\n",
       "      <td>...</td>\n",
       "      <td>60</td>\n",
       "      <td>7</td>\n",
       "      <td>1997</td>\n",
       "      <td>132.0</td>\n",
       "      <td>2122</td>\n",
       "      <td>8</td>\n",
       "      <td>1</td>\n",
       "      <td>2.0</td>\n",
       "      <td>9370</td>\n",
       "      <td>12.301387</td>\n",
       "    </tr>\n",
       "    <tr>\n",
       "      <th>2</th>\n",
       "      <td>Reg</td>\n",
       "      <td>NAmes</td>\n",
       "      <td>1Story</td>\n",
       "      <td>VinylSd</td>\n",
       "      <td>VinylSd</td>\n",
       "      <td>None</td>\n",
       "      <td>TA</td>\n",
       "      <td>CBlock</td>\n",
       "      <td>TA</td>\n",
       "      <td>No</td>\n",
       "      <td>...</td>\n",
       "      <td>20</td>\n",
       "      <td>5</td>\n",
       "      <td>2007</td>\n",
       "      <td>0.0</td>\n",
       "      <td>1057</td>\n",
       "      <td>5</td>\n",
       "      <td>0</td>\n",
       "      <td>1.0</td>\n",
       "      <td>6865</td>\n",
       "      <td>11.599112</td>\n",
       "    </tr>\n",
       "    <tr>\n",
       "      <th>3</th>\n",
       "      <td>Reg</td>\n",
       "      <td>Timber</td>\n",
       "      <td>2Story</td>\n",
       "      <td>VinylSd</td>\n",
       "      <td>VinylSd</td>\n",
       "      <td>None</td>\n",
       "      <td>TA</td>\n",
       "      <td>PConc</td>\n",
       "      <td>Gd</td>\n",
       "      <td>No</td>\n",
       "      <td>...</td>\n",
       "      <td>60</td>\n",
       "      <td>5</td>\n",
       "      <td>2007</td>\n",
       "      <td>0.0</td>\n",
       "      <td>1444</td>\n",
       "      <td>7</td>\n",
       "      <td>0</td>\n",
       "      <td>2.0</td>\n",
       "      <td>8358</td>\n",
       "      <td>12.066816</td>\n",
       "    </tr>\n",
       "    <tr>\n",
       "      <th>4</th>\n",
       "      <td>IR1</td>\n",
       "      <td>SawyerW</td>\n",
       "      <td>1.5Fin</td>\n",
       "      <td>Wd Sdng</td>\n",
       "      <td>Plywood</td>\n",
       "      <td>None</td>\n",
       "      <td>TA</td>\n",
       "      <td>PConc</td>\n",
       "      <td>Fa</td>\n",
       "      <td>No</td>\n",
       "      <td>...</td>\n",
       "      <td>50</td>\n",
       "      <td>6</td>\n",
       "      <td>1993</td>\n",
       "      <td>0.0</td>\n",
       "      <td>1445</td>\n",
       "      <td>6</td>\n",
       "      <td>0</td>\n",
       "      <td>2.0</td>\n",
       "      <td>12790</td>\n",
       "      <td>11.838633</td>\n",
       "    </tr>\n",
       "  </tbody>\n",
       "</table>\n",
       "<p>5 rows × 26 columns</p>\n",
       "</div>"
      ],
      "text/plain": [
       "  Lot Shape Neighborhood House Style Exterior 1st Exterior 2nd Mas Vnr Type  \\\n",
       "0       IR1       Sawyer      2Story      HdBoard      Plywood      BrkFace   \n",
       "1       IR1      SawyerW      2Story      VinylSd      VinylSd      BrkFace   \n",
       "2       Reg        NAmes      1Story      VinylSd      VinylSd         None   \n",
       "3       Reg       Timber      2Story      VinylSd      VinylSd         None   \n",
       "4       IR1      SawyerW      1.5Fin      Wd Sdng      Plywood         None   \n",
       "\n",
       "  Exter Qual Foundation Bsmt Qual Bsmt Exposure  ... MS SubClass Overall Qual  \\\n",
       "0         Gd     CBlock        TA            No  ...          60            6   \n",
       "1         Gd      PConc        Gd            No  ...          60            7   \n",
       "2         TA     CBlock        TA            No  ...          20            5   \n",
       "3         TA      PConc        Gd            No  ...          60            5   \n",
       "4         TA      PConc        Fa            No  ...          50            6   \n",
       "\n",
       "  Year Remod/Add Mas Vnr Area Gr Liv Area TotRms AbvGrd  Fireplaces  \\\n",
       "0           2005        289.0        1479             6           0   \n",
       "1           1997        132.0        2122             8           1   \n",
       "2           2007          0.0        1057             5           0   \n",
       "3           2007          0.0        1444             7           0   \n",
       "4           1993          0.0        1445             6           0   \n",
       "\n",
       "   Garage Cars  Non Liv Area  SalePrice  \n",
       "0          2.0         12038  11.779136  \n",
       "1          2.0          9370  12.301387  \n",
       "2          1.0          6865  11.599112  \n",
       "3          2.0          8358  12.066816  \n",
       "4          2.0         12790  11.838633  \n",
       "\n",
       "[5 rows x 26 columns]"
      ]
     },
     "execution_count": 51,
     "metadata": {},
     "output_type": "execute_result"
    }
   ],
   "source": [
    "df.head()"
   ]
  },
  {
   "cell_type": "markdown",
   "id": "2c41bb2c",
   "metadata": {},
   "source": [
    "### Detecting Multicollinearity"
   ]
  },
  {
   "cell_type": "code",
   "execution_count": 52,
   "id": "0616aec3",
   "metadata": {
    "ExecuteTime": {
     "end_time": "2022-08-15T14:21:18.180590Z",
     "start_time": "2022-08-15T14:21:18.167311Z"
    }
   },
   "outputs": [],
   "source": [
    "vif_col = df_num.iloc[:, :-1]"
   ]
  },
  {
   "cell_type": "code",
   "execution_count": 53,
   "id": "1f26168d",
   "metadata": {
    "ExecuteTime": {
     "end_time": "2022-08-15T14:21:18.211639Z",
     "start_time": "2022-08-15T14:21:18.185665Z"
    }
   },
   "outputs": [
    {
     "data": {
      "text/html": [
       "<div>\n",
       "<style scoped>\n",
       "    .dataframe tbody tr th:only-of-type {\n",
       "        vertical-align: middle;\n",
       "    }\n",
       "\n",
       "    .dataframe tbody tr th {\n",
       "        vertical-align: top;\n",
       "    }\n",
       "\n",
       "    .dataframe thead th {\n",
       "        text-align: right;\n",
       "    }\n",
       "</style>\n",
       "<table border=\"1\" class=\"dataframe\">\n",
       "  <thead>\n",
       "    <tr style=\"text-align: right;\">\n",
       "      <th></th>\n",
       "      <th>MS SubClass</th>\n",
       "      <th>Overall Qual</th>\n",
       "      <th>Year Remod/Add</th>\n",
       "      <th>Mas Vnr Area</th>\n",
       "      <th>Gr Liv Area</th>\n",
       "      <th>TotRms AbvGrd</th>\n",
       "      <th>Fireplaces</th>\n",
       "      <th>Garage Cars</th>\n",
       "      <th>Non Liv Area</th>\n",
       "    </tr>\n",
       "  </thead>\n",
       "  <tbody>\n",
       "    <tr>\n",
       "      <th>0</th>\n",
       "      <td>60</td>\n",
       "      <td>6</td>\n",
       "      <td>2005</td>\n",
       "      <td>289.0</td>\n",
       "      <td>1479</td>\n",
       "      <td>6</td>\n",
       "      <td>0</td>\n",
       "      <td>2.0</td>\n",
       "      <td>12038</td>\n",
       "    </tr>\n",
       "    <tr>\n",
       "      <th>1</th>\n",
       "      <td>60</td>\n",
       "      <td>7</td>\n",
       "      <td>1997</td>\n",
       "      <td>132.0</td>\n",
       "      <td>2122</td>\n",
       "      <td>8</td>\n",
       "      <td>1</td>\n",
       "      <td>2.0</td>\n",
       "      <td>9370</td>\n",
       "    </tr>\n",
       "    <tr>\n",
       "      <th>2</th>\n",
       "      <td>20</td>\n",
       "      <td>5</td>\n",
       "      <td>2007</td>\n",
       "      <td>0.0</td>\n",
       "      <td>1057</td>\n",
       "      <td>5</td>\n",
       "      <td>0</td>\n",
       "      <td>1.0</td>\n",
       "      <td>6865</td>\n",
       "    </tr>\n",
       "    <tr>\n",
       "      <th>3</th>\n",
       "      <td>60</td>\n",
       "      <td>5</td>\n",
       "      <td>2007</td>\n",
       "      <td>0.0</td>\n",
       "      <td>1444</td>\n",
       "      <td>7</td>\n",
       "      <td>0</td>\n",
       "      <td>2.0</td>\n",
       "      <td>8358</td>\n",
       "    </tr>\n",
       "    <tr>\n",
       "      <th>4</th>\n",
       "      <td>50</td>\n",
       "      <td>6</td>\n",
       "      <td>1993</td>\n",
       "      <td>0.0</td>\n",
       "      <td>1445</td>\n",
       "      <td>6</td>\n",
       "      <td>0</td>\n",
       "      <td>2.0</td>\n",
       "      <td>12790</td>\n",
       "    </tr>\n",
       "    <tr>\n",
       "      <th>...</th>\n",
       "      <td>...</td>\n",
       "      <td>...</td>\n",
       "      <td>...</td>\n",
       "      <td>...</td>\n",
       "      <td>...</td>\n",
       "      <td>...</td>\n",
       "      <td>...</td>\n",
       "      <td>...</td>\n",
       "      <td>...</td>\n",
       "    </tr>\n",
       "    <tr>\n",
       "      <th>2046</th>\n",
       "      <td>20</td>\n",
       "      <td>8</td>\n",
       "      <td>2007</td>\n",
       "      <td>0.0</td>\n",
       "      <td>1728</td>\n",
       "      <td>7</td>\n",
       "      <td>1</td>\n",
       "      <td>2.0</td>\n",
       "      <td>9721</td>\n",
       "    </tr>\n",
       "    <tr>\n",
       "      <th>2047</th>\n",
       "      <td>30</td>\n",
       "      <td>4</td>\n",
       "      <td>1950</td>\n",
       "      <td>0.0</td>\n",
       "      <td>861</td>\n",
       "      <td>4</td>\n",
       "      <td>0</td>\n",
       "      <td>2.0</td>\n",
       "      <td>11481</td>\n",
       "    </tr>\n",
       "    <tr>\n",
       "      <th>2048</th>\n",
       "      <td>50</td>\n",
       "      <td>6</td>\n",
       "      <td>1950</td>\n",
       "      <td>0.0</td>\n",
       "      <td>1913</td>\n",
       "      <td>9</td>\n",
       "      <td>1</td>\n",
       "      <td>2.0</td>\n",
       "      <td>5645</td>\n",
       "    </tr>\n",
       "    <tr>\n",
       "      <th>2049</th>\n",
       "      <td>20</td>\n",
       "      <td>4</td>\n",
       "      <td>1956</td>\n",
       "      <td>0.0</td>\n",
       "      <td>1200</td>\n",
       "      <td>6</td>\n",
       "      <td>2</td>\n",
       "      <td>1.0</td>\n",
       "      <td>9200</td>\n",
       "    </tr>\n",
       "    <tr>\n",
       "      <th>2050</th>\n",
       "      <td>60</td>\n",
       "      <td>7</td>\n",
       "      <td>1999</td>\n",
       "      <td>0.0</td>\n",
       "      <td>1804</td>\n",
       "      <td>7</td>\n",
       "      <td>1</td>\n",
       "      <td>2.0</td>\n",
       "      <td>5696</td>\n",
       "    </tr>\n",
       "  </tbody>\n",
       "</table>\n",
       "<p>2049 rows × 9 columns</p>\n",
       "</div>"
      ],
      "text/plain": [
       "      MS SubClass  Overall Qual  Year Remod/Add  Mas Vnr Area  Gr Liv Area  \\\n",
       "0              60             6            2005         289.0         1479   \n",
       "1              60             7            1997         132.0         2122   \n",
       "2              20             5            2007           0.0         1057   \n",
       "3              60             5            2007           0.0         1444   \n",
       "4              50             6            1993           0.0         1445   \n",
       "...           ...           ...             ...           ...          ...   \n",
       "2046           20             8            2007           0.0         1728   \n",
       "2047           30             4            1950           0.0          861   \n",
       "2048           50             6            1950           0.0         1913   \n",
       "2049           20             4            1956           0.0         1200   \n",
       "2050           60             7            1999           0.0         1804   \n",
       "\n",
       "      TotRms AbvGrd  Fireplaces  Garage Cars  Non Liv Area  \n",
       "0                 6           0          2.0         12038  \n",
       "1                 8           1          2.0          9370  \n",
       "2                 5           0          1.0          6865  \n",
       "3                 7           0          2.0          8358  \n",
       "4                 6           0          2.0         12790  \n",
       "...             ...         ...          ...           ...  \n",
       "2046              7           1          2.0          9721  \n",
       "2047              4           0          2.0         11481  \n",
       "2048              9           1          2.0          5645  \n",
       "2049              6           2          1.0          9200  \n",
       "2050              7           1          2.0          5696  \n",
       "\n",
       "[2049 rows x 9 columns]"
      ]
     },
     "execution_count": 53,
     "metadata": {},
     "output_type": "execute_result"
    }
   ],
   "source": [
    "vif_col"
   ]
  },
  {
   "cell_type": "code",
   "execution_count": 54,
   "id": "aabf0298",
   "metadata": {
    "ExecuteTime": {
     "end_time": "2022-08-15T14:21:18.274428Z",
     "start_time": "2022-08-15T14:21:18.216082Z"
    },
    "scrolled": true
   },
   "outputs": [
    {
     "data": {
      "text/html": [
       "<div>\n",
       "<style scoped>\n",
       "    .dataframe tbody tr th:only-of-type {\n",
       "        vertical-align: middle;\n",
       "    }\n",
       "\n",
       "    .dataframe tbody tr th {\n",
       "        vertical-align: top;\n",
       "    }\n",
       "\n",
       "    .dataframe thead th {\n",
       "        text-align: right;\n",
       "    }\n",
       "</style>\n",
       "<table border=\"1\" class=\"dataframe\">\n",
       "  <thead>\n",
       "    <tr style=\"text-align: right;\">\n",
       "      <th></th>\n",
       "      <th>feature</th>\n",
       "      <th>VIF</th>\n",
       "      <th>variable</th>\n",
       "    </tr>\n",
       "  </thead>\n",
       "  <tbody>\n",
       "    <tr>\n",
       "      <th>5</th>\n",
       "      <td>TotRms AbvGrd</td>\n",
       "      <td>55.459761</td>\n",
       "      <td>TotRms AbvGrd</td>\n",
       "    </tr>\n",
       "    <tr>\n",
       "      <th>4</th>\n",
       "      <td>Gr Liv Area</td>\n",
       "      <td>43.986656</td>\n",
       "      <td>Gr Liv Area</td>\n",
       "    </tr>\n",
       "    <tr>\n",
       "      <th>2</th>\n",
       "      <td>Year Remod/Add</td>\n",
       "      <td>41.507199</td>\n",
       "      <td>Year Remod/Add</td>\n",
       "    </tr>\n",
       "    <tr>\n",
       "      <th>1</th>\n",
       "      <td>Overall Qual</td>\n",
       "      <td>41.424479</td>\n",
       "      <td>Overall Qual</td>\n",
       "    </tr>\n",
       "    <tr>\n",
       "      <th>7</th>\n",
       "      <td>Garage Cars</td>\n",
       "      <td>10.654067</td>\n",
       "      <td>Garage Cars</td>\n",
       "    </tr>\n",
       "    <tr>\n",
       "      <th>8</th>\n",
       "      <td>Non Liv Area</td>\n",
       "      <td>3.314810</td>\n",
       "      <td>Non Liv Area</td>\n",
       "    </tr>\n",
       "    <tr>\n",
       "      <th>0</th>\n",
       "      <td>MS SubClass</td>\n",
       "      <td>3.069789</td>\n",
       "      <td>MS SubClass</td>\n",
       "    </tr>\n",
       "    <tr>\n",
       "      <th>6</th>\n",
       "      <td>Fireplaces</td>\n",
       "      <td>2.552706</td>\n",
       "      <td>Fireplaces</td>\n",
       "    </tr>\n",
       "    <tr>\n",
       "      <th>3</th>\n",
       "      <td>Mas Vnr Area</td>\n",
       "      <td>1.714152</td>\n",
       "      <td>Mas Vnr Area</td>\n",
       "    </tr>\n",
       "  </tbody>\n",
       "</table>\n",
       "</div>"
      ],
      "text/plain": [
       "          feature        VIF        variable\n",
       "5   TotRms AbvGrd  55.459761   TotRms AbvGrd\n",
       "4     Gr Liv Area  43.986656     Gr Liv Area\n",
       "2  Year Remod/Add  41.507199  Year Remod/Add\n",
       "1    Overall Qual  41.424479    Overall Qual\n",
       "7     Garage Cars  10.654067     Garage Cars\n",
       "8    Non Liv Area   3.314810    Non Liv Area\n",
       "0     MS SubClass   3.069789     MS SubClass\n",
       "6      Fireplaces   2.552706      Fireplaces\n",
       "3    Mas Vnr Area   1.714152    Mas Vnr Area"
      ]
     },
     "execution_count": 54,
     "metadata": {},
     "output_type": "execute_result"
    }
   ],
   "source": [
    "vif_data = pd.DataFrame()\n",
    "vif_data[\"feature\"] = vif_col.columns\n",
    "# calculating VIF for each feature\n",
    "vif_data[\"VIF\"] = [variance_inflation_factor(vif_col.values, i) for i in range(vif_col.shape[1])]\n",
    "vif_data['variable'] = vif_col.columns\n",
    "vif_data.sort_values(by = 'VIF',axis = 0, ascending=False, inplace=True)\n",
    "vif_data"
   ]
  },
  {
   "cell_type": "code",
   "execution_count": 55,
   "id": "f1a6db09",
   "metadata": {
    "ExecuteTime": {
     "end_time": "2022-08-15T14:21:18.476245Z",
     "start_time": "2022-08-15T14:21:18.277003Z"
    },
    "scrolled": false
   },
   "outputs": [
    {
     "data": {
      "text/plain": [
       "<matplotlib.lines.Line2D at 0x20619c0f700>"
      ]
     },
     "execution_count": 55,
     "metadata": {},
     "output_type": "execute_result"
    },
    {
     "data": {
      "image/png": "[encoded data removed]",
      "text/plain": [
       "<Figure size 432x288 with 1 Axes>"
      ]
     },
     "metadata": {
      "needs_background": "light"
     },
     "output_type": "display_data"
    }
   ],
   "source": [
    "vif_data.plot.bar(x='feature', y='VIF', rot=0)\n",
    "plt.xticks(rotation = 90)\n",
    "plt.ylim([0, 60])\n",
    "plt.axhline(y=5,color=\"red\")"
   ]
  },
  {
   "cell_type": "markdown",
   "id": "8626d7ec",
   "metadata": {},
   "source": [
    "###### Setting the Threshold of VIF as 5, we can see that there are 6 features that has exceeded this value\n",
    "We will need to drop these columns as it seems that they are very much related to each other. Multicollinearity among independent variables will result in less reliable statistical inferences."
   ]
  },
  {
   "cell_type": "code",
   "execution_count": 56,
   "id": "1fbb84d8",
   "metadata": {
    "ExecuteTime": {
     "end_time": "2022-08-15T14:21:18.492219Z",
     "start_time": "2022-08-15T14:21:18.479381Z"
    }
   },
   "outputs": [],
   "source": [
    "df.drop(columns=[\n",
    "    'TotRms AbvGrd', 'Year Remod/Add','Overall Qual', 'Gr Liv Area'\n",
    "],\n",
    "               inplace=True)\n"
   ]
  },
  {
   "cell_type": "code",
   "execution_count": 57,
   "id": "cb968931",
   "metadata": {
    "ExecuteTime": {
     "end_time": "2022-08-15T14:21:18.523516Z",
     "start_time": "2022-08-15T14:21:18.494395Z"
    },
    "scrolled": true
   },
   "outputs": [
    {
     "data": {
      "text/html": [
       "<div>\n",
       "<style scoped>\n",
       "    .dataframe tbody tr th:only-of-type {\n",
       "        vertical-align: middle;\n",
       "    }\n",
       "\n",
       "    .dataframe tbody tr th {\n",
       "        vertical-align: top;\n",
       "    }\n",
       "\n",
       "    .dataframe thead th {\n",
       "        text-align: right;\n",
       "    }\n",
       "</style>\n",
       "<table border=\"1\" class=\"dataframe\">\n",
       "  <thead>\n",
       "    <tr style=\"text-align: right;\">\n",
       "      <th></th>\n",
       "      <th>Lot Shape</th>\n",
       "      <th>Neighborhood</th>\n",
       "      <th>House Style</th>\n",
       "      <th>Exterior 1st</th>\n",
       "      <th>Exterior 2nd</th>\n",
       "      <th>Mas Vnr Type</th>\n",
       "      <th>Exter Qual</th>\n",
       "      <th>Foundation</th>\n",
       "      <th>Bsmt Qual</th>\n",
       "      <th>Bsmt Exposure</th>\n",
       "      <th>...</th>\n",
       "      <th>Kitchen Qual</th>\n",
       "      <th>Garage Type</th>\n",
       "      <th>Garage Finish</th>\n",
       "      <th>MSSubClass</th>\n",
       "      <th>MS SubClass</th>\n",
       "      <th>Mas Vnr Area</th>\n",
       "      <th>Fireplaces</th>\n",
       "      <th>Garage Cars</th>\n",
       "      <th>Non Liv Area</th>\n",
       "      <th>SalePrice</th>\n",
       "    </tr>\n",
       "  </thead>\n",
       "  <tbody>\n",
       "    <tr>\n",
       "      <th>0</th>\n",
       "      <td>IR1</td>\n",
       "      <td>Sawyer</td>\n",
       "      <td>2Story</td>\n",
       "      <td>HdBoard</td>\n",
       "      <td>Plywood</td>\n",
       "      <td>BrkFace</td>\n",
       "      <td>Gd</td>\n",
       "      <td>CBlock</td>\n",
       "      <td>TA</td>\n",
       "      <td>No</td>\n",
       "      <td>...</td>\n",
       "      <td>Gd</td>\n",
       "      <td>Attchd</td>\n",
       "      <td>RFn</td>\n",
       "      <td>60</td>\n",
       "      <td>60</td>\n",
       "      <td>289.0</td>\n",
       "      <td>0</td>\n",
       "      <td>2.0</td>\n",
       "      <td>12038</td>\n",
       "      <td>11.779136</td>\n",
       "    </tr>\n",
       "    <tr>\n",
       "      <th>1</th>\n",
       "      <td>IR1</td>\n",
       "      <td>SawyerW</td>\n",
       "      <td>2Story</td>\n",
       "      <td>VinylSd</td>\n",
       "      <td>VinylSd</td>\n",
       "      <td>BrkFace</td>\n",
       "      <td>Gd</td>\n",
       "      <td>PConc</td>\n",
       "      <td>Gd</td>\n",
       "      <td>No</td>\n",
       "      <td>...</td>\n",
       "      <td>Gd</td>\n",
       "      <td>Attchd</td>\n",
       "      <td>RFn</td>\n",
       "      <td>60</td>\n",
       "      <td>60</td>\n",
       "      <td>132.0</td>\n",
       "      <td>1</td>\n",
       "      <td>2.0</td>\n",
       "      <td>9370</td>\n",
       "      <td>12.301387</td>\n",
       "    </tr>\n",
       "    <tr>\n",
       "      <th>2</th>\n",
       "      <td>Reg</td>\n",
       "      <td>NAmes</td>\n",
       "      <td>1Story</td>\n",
       "      <td>VinylSd</td>\n",
       "      <td>VinylSd</td>\n",
       "      <td>None</td>\n",
       "      <td>TA</td>\n",
       "      <td>CBlock</td>\n",
       "      <td>TA</td>\n",
       "      <td>No</td>\n",
       "      <td>...</td>\n",
       "      <td>Gd</td>\n",
       "      <td>Detchd</td>\n",
       "      <td>Unf</td>\n",
       "      <td>20</td>\n",
       "      <td>20</td>\n",
       "      <td>0.0</td>\n",
       "      <td>0</td>\n",
       "      <td>1.0</td>\n",
       "      <td>6865</td>\n",
       "      <td>11.599112</td>\n",
       "    </tr>\n",
       "    <tr>\n",
       "      <th>3</th>\n",
       "      <td>Reg</td>\n",
       "      <td>Timber</td>\n",
       "      <td>2Story</td>\n",
       "      <td>VinylSd</td>\n",
       "      <td>VinylSd</td>\n",
       "      <td>None</td>\n",
       "      <td>TA</td>\n",
       "      <td>PConc</td>\n",
       "      <td>Gd</td>\n",
       "      <td>No</td>\n",
       "      <td>...</td>\n",
       "      <td>TA</td>\n",
       "      <td>BuiltIn</td>\n",
       "      <td>Fin</td>\n",
       "      <td>60</td>\n",
       "      <td>60</td>\n",
       "      <td>0.0</td>\n",
       "      <td>0</td>\n",
       "      <td>2.0</td>\n",
       "      <td>8358</td>\n",
       "      <td>12.066816</td>\n",
       "    </tr>\n",
       "    <tr>\n",
       "      <th>4</th>\n",
       "      <td>IR1</td>\n",
       "      <td>SawyerW</td>\n",
       "      <td>1.5Fin</td>\n",
       "      <td>Wd Sdng</td>\n",
       "      <td>Plywood</td>\n",
       "      <td>None</td>\n",
       "      <td>TA</td>\n",
       "      <td>PConc</td>\n",
       "      <td>Fa</td>\n",
       "      <td>No</td>\n",
       "      <td>...</td>\n",
       "      <td>TA</td>\n",
       "      <td>Detchd</td>\n",
       "      <td>Unf</td>\n",
       "      <td>50</td>\n",
       "      <td>50</td>\n",
       "      <td>0.0</td>\n",
       "      <td>0</td>\n",
       "      <td>2.0</td>\n",
       "      <td>12790</td>\n",
       "      <td>11.838633</td>\n",
       "    </tr>\n",
       "  </tbody>\n",
       "</table>\n",
       "<p>5 rows × 22 columns</p>\n",
       "</div>"
      ],
      "text/plain": [
       "  Lot Shape Neighborhood House Style Exterior 1st Exterior 2nd Mas Vnr Type  \\\n",
       "0       IR1       Sawyer      2Story      HdBoard      Plywood      BrkFace   \n",
       "1       IR1      SawyerW      2Story      VinylSd      VinylSd      BrkFace   \n",
       "2       Reg        NAmes      1Story      VinylSd      VinylSd         None   \n",
       "3       Reg       Timber      2Story      VinylSd      VinylSd         None   \n",
       "4       IR1      SawyerW      1.5Fin      Wd Sdng      Plywood         None   \n",
       "\n",
       "  Exter Qual Foundation Bsmt Qual Bsmt Exposure  ... Kitchen Qual Garage Type  \\\n",
       "0         Gd     CBlock        TA            No  ...           Gd      Attchd   \n",
       "1         Gd      PConc        Gd            No  ...           Gd      Attchd   \n",
       "2         TA     CBlock        TA            No  ...           Gd      Detchd   \n",
       "3         TA      PConc        Gd            No  ...           TA     BuiltIn   \n",
       "4         TA      PConc        Fa            No  ...           TA      Detchd   \n",
       "\n",
       "  Garage Finish MSSubClass MS SubClass Mas Vnr Area  Fireplaces  Garage Cars  \\\n",
       "0           RFn         60          60        289.0           0          2.0   \n",
       "1           RFn         60          60        132.0           1          2.0   \n",
       "2           Unf         20          20          0.0           0          1.0   \n",
       "3           Fin         60          60          0.0           0          2.0   \n",
       "4           Unf         50          50          0.0           0          2.0   \n",
       "\n",
       "   Non Liv Area  SalePrice  \n",
       "0         12038  11.779136  \n",
       "1          9370  12.301387  \n",
       "2          6865  11.599112  \n",
       "3          8358  12.066816  \n",
       "4         12790  11.838633  \n",
       "\n",
       "[5 rows x 22 columns]"
      ]
     },
     "execution_count": 57,
     "metadata": {},
     "output_type": "execute_result"
    }
   ],
   "source": [
    "df.head()"
   ]
  },
  {
   "cell_type": "code",
   "execution_count": 58,
   "id": "e42f9d14",
   "metadata": {
    "ExecuteTime": {
     "end_time": "2022-08-15T14:21:18.538995Z",
     "start_time": "2022-08-15T14:21:18.526779Z"
    }
   },
   "outputs": [],
   "source": [
    "df_num = df.select_dtypes(include=numerics)"
   ]
  },
  {
   "cell_type": "code",
   "execution_count": 59,
   "id": "ba5acf61",
   "metadata": {
    "ExecuteTime": {
     "end_time": "2022-08-15T14:21:18.554390Z",
     "start_time": "2022-08-15T14:21:18.543349Z"
    }
   },
   "outputs": [],
   "source": [
    "vif_col = df_num.iloc[:, :-1]"
   ]
  },
  {
   "cell_type": "code",
   "execution_count": 61,
   "id": "015a6469",
   "metadata": {
    "ExecuteTime": {
     "end_time": "2022-08-15T14:21:34.031373Z",
     "start_time": "2022-08-15T14:21:33.983546Z"
    },
    "scrolled": false
   },
   "outputs": [
    {
     "data": {
      "text/html": [
       "<div>\n",
       "<style scoped>\n",
       "    .dataframe tbody tr th:only-of-type {\n",
       "        vertical-align: middle;\n",
       "    }\n",
       "\n",
       "    .dataframe tbody tr th {\n",
       "        vertical-align: top;\n",
       "    }\n",
       "\n",
       "    .dataframe thead th {\n",
       "        text-align: right;\n",
       "    }\n",
       "</style>\n",
       "<table border=\"1\" class=\"dataframe\">\n",
       "  <thead>\n",
       "    <tr style=\"text-align: right;\">\n",
       "      <th></th>\n",
       "      <th>feature</th>\n",
       "      <th>VIF</th>\n",
       "      <th>variable</th>\n",
       "    </tr>\n",
       "  </thead>\n",
       "  <tbody>\n",
       "    <tr>\n",
       "      <th>3</th>\n",
       "      <td>Garage Cars</td>\n",
       "      <td>4.590607</td>\n",
       "      <td>Garage Cars</td>\n",
       "    </tr>\n",
       "    <tr>\n",
       "      <th>4</th>\n",
       "      <td>Non Liv Area</td>\n",
       "      <td>2.633405</td>\n",
       "      <td>Non Liv Area</td>\n",
       "    </tr>\n",
       "    <tr>\n",
       "      <th>2</th>\n",
       "      <td>Fireplaces</td>\n",
       "      <td>2.167266</td>\n",
       "      <td>Fireplaces</td>\n",
       "    </tr>\n",
       "    <tr>\n",
       "      <th>0</th>\n",
       "      <td>MS SubClass</td>\n",
       "      <td>2.078096</td>\n",
       "      <td>MS SubClass</td>\n",
       "    </tr>\n",
       "    <tr>\n",
       "      <th>1</th>\n",
       "      <td>Mas Vnr Area</td>\n",
       "      <td>1.504135</td>\n",
       "      <td>Mas Vnr Area</td>\n",
       "    </tr>\n",
       "  </tbody>\n",
       "</table>\n",
       "</div>"
      ],
      "text/plain": [
       "        feature       VIF      variable\n",
       "3   Garage Cars  4.590607   Garage Cars\n",
       "4  Non Liv Area  2.633405  Non Liv Area\n",
       "2    Fireplaces  2.167266    Fireplaces\n",
       "0   MS SubClass  2.078096   MS SubClass\n",
       "1  Mas Vnr Area  1.504135  Mas Vnr Area"
      ]
     },
     "execution_count": 61,
     "metadata": {},
     "output_type": "execute_result"
    }
   ],
   "source": [
    "vif_data = pd.DataFrame()\n",
    "vif_data[\"feature\"] = vif_col.columns\n",
    "# calculating VIF for each feature\n",
    "vif_data[\"VIF\"] = [variance_inflation_factor(vif_col.values, i) for i in range(vif_col.shape[1])]\n",
    "vif_data['variable'] = vif_col.columns\n",
    "vif_data.sort_values(by = 'VIF',axis = 0, ascending=False, inplace=True)\n",
    "vif_data"
   ]
  },
  {
   "cell_type": "code",
   "execution_count": 62,
   "id": "9989548e",
   "metadata": {
    "ExecuteTime": {
     "end_time": "2022-08-15T14:21:34.203081Z",
     "start_time": "2022-08-15T14:21:34.037054Z"
    },
    "scrolled": false
   },
   "outputs": [
    {
     "data": {
      "text/plain": [
       "<matplotlib.lines.Line2D at 0x206184bdbb0>"
      ]
     },
     "execution_count": 62,
     "metadata": {},
     "output_type": "execute_result"
    },
    {
     "data": {
      "image/png": "[encoded data removed]",
      "text/plain": [
       "<Figure size 432x288 with 1 Axes>"
      ]
     },
     "metadata": {
      "needs_background": "light"
     },
     "output_type": "display_data"
    }
   ],
   "source": [
    "vif_data.plot.bar(x='feature', y='VIF', rot=0)\n",
    "plt.xticks(rotation = 90)\n",
    "plt.ylim([0, 8])\n",
    "plt.axhline(y=5,color=\"red\")"
   ]
  },
  {
   "cell_type": "markdown",
   "id": "a979b496",
   "metadata": {},
   "source": [
    "### Handling Categorical data"
   ]
  },
  {
   "cell_type": "markdown",
   "id": "2c359d34",
   "metadata": {},
   "source": [
    "There are 2 types of categorical data noted in this dataset.  \n",
    "1. Nominal  - Labels\n",
    "2. Ordinal  - Ranks categories in order\n",
    "\n",
    "![](images/normord.png)  \n",
    "  \n",
    "We will have to engineer these 2 types separately.    \n",
    "\n",
    "Nominal data classifies data purely by labeling or naming values and can logically be processed using one hot encoding as the labels do have a ranking e.g. \"red\" is not better than \"blue\"  \n",
    "\n",
    "As for Ordinal data, we need to consider the hierarchical nature of this data, hence we will need to assign values to it.  \n",
    "e.g. T Shirt size S,M,L can be encoded as 0,1,2 respectively."
   ]
  },
  {
   "cell_type": "code",
   "execution_count": 63,
   "id": "6392da4b",
   "metadata": {
    "ExecuteTime": {
     "end_time": "2022-08-15T14:21:34.218269Z",
     "start_time": "2022-08-15T14:21:34.206361Z"
    }
   },
   "outputs": [],
   "source": [
    "#split out the columns by cateogorical\n",
    "df_num = df.select_dtypes(include=numerics)\n",
    "df_obj = df.select_dtypes(include='object')\n"
   ]
  },
  {
   "cell_type": "code",
   "execution_count": 64,
   "id": "950cf998",
   "metadata": {
    "ExecuteTime": {
     "end_time": "2022-08-15T14:21:36.569001Z",
     "start_time": "2022-08-15T14:21:34.223778Z"
    }
   },
   "outputs": [
    {
     "data": {
      "image/png": "[encoded data removed]",
      "text/plain": [
       "<Figure size 1152x576 with 8 Axes>"
      ]
     },
     "metadata": {
      "needs_background": "light"
     },
     "output_type": "display_data"
    }
   ],
   "source": [
    "fig, ax = plt.subplots(nrows=2, ncols=4, figsize=(16,8))\n",
    "engineered_feature = ['Neighborhood','Exterior 1st','Exterior 2nd','Mas Vnr Type','Foundation','Garage Type','Garage Finish']\n",
    "for i in range(len(engineered_feature)):\n",
    "    row = int(i/4)\n",
    "    col = i%4\n",
    "    sns.histplot(x=df_obj[engineered_feature[i]], ax=ax[row, col])"
   ]
  },
  {
   "cell_type": "markdown",
   "id": "4518066e",
   "metadata": {},
   "source": [
    "Let create a function called cat_encoder that encodes the categories accordingly"
   ]
  },
  {
   "cell_type": "code",
   "execution_count": 65,
   "id": "350007a5",
   "metadata": {
    "ExecuteTime": {
     "end_time": "2022-08-15T14:21:36.646560Z",
     "start_time": "2022-08-15T14:21:36.576219Z"
    }
   },
   "outputs": [],
   "source": [
    "def cat_encoder(df_obj):\n",
    "    df_obj_nominal = df_obj[['Neighborhood','Exterior 1st','Exterior 2nd','Mas Vnr Type','Foundation','Garage Type','Garage Finish']]\n",
    "    df_obj_ordinal = df_obj.drop(df_obj_nominal.columns, axis =1)\n",
    "    \n",
    "    \n",
    "    #encode Lot shape\n",
    "    df_obj_ordinal['Lot Shape'] = df_obj_ordinal['Lot Shape'].apply(lambda x: '1' if 'IR3' in x else x)\n",
    "    df_obj_ordinal['Lot Shape'] = df_obj_ordinal['Lot Shape'].apply(lambda x: '2' if 'IR2' in x else x)\n",
    "    df_obj_ordinal['Lot Shape'] = df_obj_ordinal['Lot Shape'].apply(lambda x: '3' if 'IR1' in x else x)\n",
    "    df_obj_ordinal['Lot Shape'] = df_obj_ordinal['Lot Shape'].apply(lambda x: '4' if 'Reg' in x else x)\n",
    "    df_obj_ordinal['Lot Shape'] = df_obj_ordinal['Lot Shape'].astype(int)\n",
    "    \n",
    "\n",
    "    #encode House Style\n",
    "    df_obj_ordinal['House Style'] = df_obj_ordinal['House Style'].apply(lambda x: '1' if '1Story' in x else x)\n",
    "    df_obj_ordinal['House Style'] = df_obj_ordinal['House Style'].apply(lambda x: '2' if '1.5Unf' in x else x)\n",
    "    df_obj_ordinal['House Style'] = df_obj_ordinal['House Style'].apply(lambda x: '3' if '1.5Fin' in x else x)\n",
    "    df_obj_ordinal['House Style'] = df_obj_ordinal['House Style'].apply(lambda x: '4' if '2Story' in x else x)    \n",
    "    df_obj_ordinal['House Style'] = df_obj_ordinal['House Style'].apply(lambda x: '5' if '2.5Unf' in x else x)    \n",
    "    df_obj_ordinal['House Style'] = df_obj_ordinal['House Style'].apply(lambda x: '6' if '2.5Fin' in x else x)    \n",
    "    df_obj_ordinal['House Style'] = df_obj_ordinal['House Style'].apply(lambda x: '7' if 'SFoyer' in x else x)    \n",
    "    df_obj_ordinal['House Style'] = df_obj_ordinal['House Style'].apply(lambda x: '8' if 'SLvl' in x else x) \n",
    "    df_obj_ordinal['House Style'] = df_obj_ordinal['House Style'].astype(int)\n",
    "    \n",
    "    \n",
    "    #encode Exter Qual    \n",
    "    df_obj_ordinal['Exter Qual'] = df_obj_ordinal['Exter Qual'].apply(lambda x: '1' if 'Po' in x else x)\n",
    "    df_obj_ordinal['Exter Qual'] = df_obj_ordinal['Exter Qual'].apply(lambda x: '2' if 'Fa' in x else x)\n",
    "    df_obj_ordinal['Exter Qual'] = df_obj_ordinal['Exter Qual'].apply(lambda x: '3' if 'TA' in x else x)\n",
    "    df_obj_ordinal['Exter Qual'] = df_obj_ordinal['Exter Qual'].apply(lambda x: '4' if 'Gd' in x else x)\n",
    "    df_obj_ordinal['Exter Qual'] = df_obj_ordinal['Exter Qual'].apply(lambda x: '5' if 'Ex' in x else x)  \n",
    "    df_obj_ordinal['Exter Qual'] = df_obj_ordinal['Exter Qual'].astype(int)\n",
    "    \n",
    "    \n",
    "    #encode Bsmt Qual        \n",
    "    df_obj_ordinal['Bsmt Qual'] = df_obj_ordinal['Bsmt Qual'].apply(lambda x: '0' if 'NA' in x else x)\n",
    "    df_obj_ordinal['Bsmt Qual'] = df_obj_ordinal['Bsmt Qual'].apply(lambda x: '1' if 'Po' in x else x)\n",
    "    df_obj_ordinal['Bsmt Qual'] = df_obj_ordinal['Bsmt Qual'].apply(lambda x: '2' if 'Fa' in x else x)\n",
    "    df_obj_ordinal['Bsmt Qual'] = df_obj_ordinal['Bsmt Qual'].apply(lambda x: '3' if 'TA' in x else x)    \n",
    "    df_obj_ordinal['Bsmt Qual'] = df_obj_ordinal['Bsmt Qual'].apply(lambda x: '4' if 'Gd' in x else x)    \n",
    "    df_obj_ordinal['Bsmt Qual'] = df_obj_ordinal['Bsmt Qual'].apply(lambda x: '5' if 'Ex' in x else x) \n",
    "    df_obj_ordinal['Bsmt Qual'] = df_obj_ordinal['Bsmt Qual'].astype(int)    \n",
    "    \n",
    "    \n",
    "    #encode Bsmt Exposure   \n",
    "    df_obj_ordinal['Bsmt Exposure'] = df_obj_ordinal['Bsmt Exposure'].apply(lambda x: '0' if 'NA' in x else x)\n",
    "    df_obj_ordinal['Bsmt Exposure'] = df_obj_ordinal['Bsmt Exposure'].apply(lambda x: '1' if 'No' in x else x)\n",
    "    df_obj_ordinal['Bsmt Exposure'] = df_obj_ordinal['Bsmt Exposure'].apply(lambda x: '2' if 'Mn' in x else x)\n",
    "    df_obj_ordinal['Bsmt Exposure'] = df_obj_ordinal['Bsmt Exposure'].apply(lambda x: '3' if 'Av' in x else x)    \n",
    "    df_obj_ordinal['Bsmt Exposure'] = df_obj_ordinal['Bsmt Exposure'].apply(lambda x: '4' if 'Gd' in x else x)    \n",
    "    df_obj_ordinal['Bsmt Exposure'] = df_obj_ordinal['Bsmt Exposure'].astype(int)     \n",
    "    \n",
    "    \n",
    "    #BsmtFin Type 1\n",
    "    df_obj_ordinal['BsmtFin Type 1'] = df_obj_ordinal['BsmtFin Type 1'].apply(lambda x: '0' if 'NA' in x else x)\n",
    "    df_obj_ordinal['BsmtFin Type 1'] = df_obj_ordinal['BsmtFin Type 1'].apply(lambda x: '1' if 'Unf' in x else x)\n",
    "    df_obj_ordinal['BsmtFin Type 1'] = df_obj_ordinal['BsmtFin Type 1'].apply(lambda x: '2' if 'LwQ' in x else x)\n",
    "    df_obj_ordinal['BsmtFin Type 1'] = df_obj_ordinal['BsmtFin Type 1'].apply(lambda x: '3' if 'Rec' in x else x)    \n",
    "    df_obj_ordinal['BsmtFin Type 1'] = df_obj_ordinal['BsmtFin Type 1'].apply(lambda x: '4' if 'BLQ' in x else x)\n",
    "    df_obj_ordinal['BsmtFin Type 1'] = df_obj_ordinal['BsmtFin Type 1'].apply(lambda x: '5' if 'ALQ' in x else x)    \n",
    "    df_obj_ordinal['BsmtFin Type 1'] = df_obj_ordinal['BsmtFin Type 1'].apply(lambda x: '6' if 'GLQ' in x else x)   \n",
    "    df_obj_ordinal['BsmtFin Type 1'] = df_obj_ordinal['BsmtFin Type 1'].astype(int) \n",
    "    \n",
    "    \n",
    "    #Heating QC \n",
    "    df_obj_ordinal['Heating QC'] = df_obj_ordinal['Heating QC'].apply(lambda x: '1' if 'Po' in x else x)\n",
    "    df_obj_ordinal['Heating QC'] = df_obj_ordinal['Heating QC'].apply(lambda x: '2' if 'Fa' in x else x)\n",
    "    df_obj_ordinal['Heating QC'] = df_obj_ordinal['Heating QC'].apply(lambda x: '3' if 'TA' in x else x)    \n",
    "    df_obj_ordinal['Heating QC'] = df_obj_ordinal['Heating QC'].apply(lambda x: '4' if 'Gd' in x else x)\n",
    "    df_obj_ordinal['Heating QC'] = df_obj_ordinal['Heating QC'].apply(lambda x: '5' if 'Ex' in x else x)\n",
    "    df_obj_ordinal['Heating QC'] = df_obj_ordinal['Heating QC'].astype(int)     \n",
    "    \n",
    "    \n",
    "    #Kitchen Qual\n",
    "    df_obj_ordinal['Kitchen Qual'] = df_obj_ordinal['Kitchen Qual'].apply(lambda x: '1' if 'Po' in x else x)\n",
    "    df_obj_ordinal['Kitchen Qual'] = df_obj_ordinal['Kitchen Qual'].apply(lambda x: '2' if 'Fa' in x else x)\n",
    "    df_obj_ordinal['Kitchen Qual'] = df_obj_ordinal['Kitchen Qual'].apply(lambda x: '3' if 'TA' in x else x)    \n",
    "    df_obj_ordinal['Kitchen Qual'] = df_obj_ordinal['Kitchen Qual'].apply(lambda x: '4' if 'Gd' in x else x)\n",
    "    df_obj_ordinal['Kitchen Qual'] = df_obj_ordinal['Kitchen Qual'].apply(lambda x: '5' if 'Ex' in x else x)\n",
    "    df_obj_ordinal['Kitchen Qual'] = df_obj_ordinal['Kitchen Qual'].astype(int)  \n",
    "    \n",
    "    \n",
    "    \n",
    "    #nominal data\n",
    "    df_obj_nominal = pd.get_dummies(df_obj_nominal)\n",
    "    #to ensure the columns are the same\n",
    "    df = pd.concat([df_obj_nominal,df_obj_ordinal], axis=1)\n",
    "    return df\n",
    "    \n",
    "    \n",
    "    \n",
    "    "
   ]
  },
  {
   "cell_type": "code",
   "execution_count": 66,
   "id": "806ebc83",
   "metadata": {
    "ExecuteTime": {
     "end_time": "2022-08-15T14:21:36.755719Z",
     "start_time": "2022-08-15T14:21:36.654991Z"
    },
    "scrolled": true
   },
   "outputs": [],
   "source": [
    "df_obj = cat_encoder(df_obj)"
   ]
  },
  {
   "cell_type": "code",
   "execution_count": 67,
   "id": "eb3f0045",
   "metadata": {
    "ExecuteTime": {
     "end_time": "2022-08-15T14:21:36.801974Z",
     "start_time": "2022-08-15T14:21:36.758501Z"
    }
   },
   "outputs": [
    {
     "data": {
      "text/html": [
       "<div>\n",
       "<style scoped>\n",
       "    .dataframe tbody tr th:only-of-type {\n",
       "        vertical-align: middle;\n",
       "    }\n",
       "\n",
       "    .dataframe tbody tr th {\n",
       "        vertical-align: top;\n",
       "    }\n",
       "\n",
       "    .dataframe thead th {\n",
       "        text-align: right;\n",
       "    }\n",
       "</style>\n",
       "<table border=\"1\" class=\"dataframe\">\n",
       "  <thead>\n",
       "    <tr style=\"text-align: right;\">\n",
       "      <th></th>\n",
       "      <th>Neighborhood_Blmngtn</th>\n",
       "      <th>Neighborhood_Blueste</th>\n",
       "      <th>Neighborhood_BrDale</th>\n",
       "      <th>Neighborhood_BrkSide</th>\n",
       "      <th>Neighborhood_ClearCr</th>\n",
       "      <th>Neighborhood_CollgCr</th>\n",
       "      <th>Neighborhood_Crawfor</th>\n",
       "      <th>Neighborhood_Edwards</th>\n",
       "      <th>Neighborhood_Gilbert</th>\n",
       "      <th>Neighborhood_Greens</th>\n",
       "      <th>...</th>\n",
       "      <th>BsmtFin Type 1</th>\n",
       "      <th>Heating QC</th>\n",
       "      <th>Kitchen Qual</th>\n",
       "      <th>MSSubClass</th>\n",
       "      <th>MS SubClass</th>\n",
       "      <th>Mas Vnr Area</th>\n",
       "      <th>Fireplaces</th>\n",
       "      <th>Garage Cars</th>\n",
       "      <th>Non Liv Area</th>\n",
       "      <th>SalePrice</th>\n",
       "    </tr>\n",
       "  </thead>\n",
       "  <tbody>\n",
       "    <tr>\n",
       "      <th>0</th>\n",
       "      <td>0</td>\n",
       "      <td>0</td>\n",
       "      <td>0</td>\n",
       "      <td>0</td>\n",
       "      <td>0</td>\n",
       "      <td>0</td>\n",
       "      <td>0</td>\n",
       "      <td>0</td>\n",
       "      <td>0</td>\n",
       "      <td>0</td>\n",
       "      <td>...</td>\n",
       "      <td>6</td>\n",
       "      <td>5</td>\n",
       "      <td>4</td>\n",
       "      <td>60</td>\n",
       "      <td>60</td>\n",
       "      <td>289.0</td>\n",
       "      <td>0</td>\n",
       "      <td>2.0</td>\n",
       "      <td>12038</td>\n",
       "      <td>11.779136</td>\n",
       "    </tr>\n",
       "    <tr>\n",
       "      <th>1</th>\n",
       "      <td>0</td>\n",
       "      <td>0</td>\n",
       "      <td>0</td>\n",
       "      <td>0</td>\n",
       "      <td>0</td>\n",
       "      <td>0</td>\n",
       "      <td>0</td>\n",
       "      <td>0</td>\n",
       "      <td>0</td>\n",
       "      <td>0</td>\n",
       "      <td>...</td>\n",
       "      <td>6</td>\n",
       "      <td>5</td>\n",
       "      <td>4</td>\n",
       "      <td>60</td>\n",
       "      <td>60</td>\n",
       "      <td>132.0</td>\n",
       "      <td>1</td>\n",
       "      <td>2.0</td>\n",
       "      <td>9370</td>\n",
       "      <td>12.301387</td>\n",
       "    </tr>\n",
       "    <tr>\n",
       "      <th>2</th>\n",
       "      <td>0</td>\n",
       "      <td>0</td>\n",
       "      <td>0</td>\n",
       "      <td>0</td>\n",
       "      <td>0</td>\n",
       "      <td>0</td>\n",
       "      <td>0</td>\n",
       "      <td>0</td>\n",
       "      <td>0</td>\n",
       "      <td>0</td>\n",
       "      <td>...</td>\n",
       "      <td>6</td>\n",
       "      <td>3</td>\n",
       "      <td>4</td>\n",
       "      <td>20</td>\n",
       "      <td>20</td>\n",
       "      <td>0.0</td>\n",
       "      <td>0</td>\n",
       "      <td>1.0</td>\n",
       "      <td>6865</td>\n",
       "      <td>11.599112</td>\n",
       "    </tr>\n",
       "    <tr>\n",
       "      <th>3</th>\n",
       "      <td>0</td>\n",
       "      <td>0</td>\n",
       "      <td>0</td>\n",
       "      <td>0</td>\n",
       "      <td>0</td>\n",
       "      <td>0</td>\n",
       "      <td>0</td>\n",
       "      <td>0</td>\n",
       "      <td>0</td>\n",
       "      <td>0</td>\n",
       "      <td>...</td>\n",
       "      <td>1</td>\n",
       "      <td>4</td>\n",
       "      <td>3</td>\n",
       "      <td>60</td>\n",
       "      <td>60</td>\n",
       "      <td>0.0</td>\n",
       "      <td>0</td>\n",
       "      <td>2.0</td>\n",
       "      <td>8358</td>\n",
       "      <td>12.066816</td>\n",
       "    </tr>\n",
       "    <tr>\n",
       "      <th>4</th>\n",
       "      <td>0</td>\n",
       "      <td>0</td>\n",
       "      <td>0</td>\n",
       "      <td>0</td>\n",
       "      <td>0</td>\n",
       "      <td>0</td>\n",
       "      <td>0</td>\n",
       "      <td>0</td>\n",
       "      <td>0</td>\n",
       "      <td>0</td>\n",
       "      <td>...</td>\n",
       "      <td>1</td>\n",
       "      <td>3</td>\n",
       "      <td>3</td>\n",
       "      <td>50</td>\n",
       "      <td>50</td>\n",
       "      <td>0.0</td>\n",
       "      <td>0</td>\n",
       "      <td>2.0</td>\n",
       "      <td>12790</td>\n",
       "      <td>11.838633</td>\n",
       "    </tr>\n",
       "    <tr>\n",
       "      <th>...</th>\n",
       "      <td>...</td>\n",
       "      <td>...</td>\n",
       "      <td>...</td>\n",
       "      <td>...</td>\n",
       "      <td>...</td>\n",
       "      <td>...</td>\n",
       "      <td>...</td>\n",
       "      <td>...</td>\n",
       "      <td>...</td>\n",
       "      <td>...</td>\n",
       "      <td>...</td>\n",
       "      <td>...</td>\n",
       "      <td>...</td>\n",
       "      <td>...</td>\n",
       "      <td>...</td>\n",
       "      <td>...</td>\n",
       "      <td>...</td>\n",
       "      <td>...</td>\n",
       "      <td>...</td>\n",
       "      <td>...</td>\n",
       "      <td>...</td>\n",
       "    </tr>\n",
       "    <tr>\n",
       "      <th>2046</th>\n",
       "      <td>0</td>\n",
       "      <td>0</td>\n",
       "      <td>0</td>\n",
       "      <td>0</td>\n",
       "      <td>0</td>\n",
       "      <td>0</td>\n",
       "      <td>0</td>\n",
       "      <td>0</td>\n",
       "      <td>0</td>\n",
       "      <td>0</td>\n",
       "      <td>...</td>\n",
       "      <td>6</td>\n",
       "      <td>5</td>\n",
       "      <td>4</td>\n",
       "      <td>20</td>\n",
       "      <td>20</td>\n",
       "      <td>0.0</td>\n",
       "      <td>1</td>\n",
       "      <td>2.0</td>\n",
       "      <td>9721</td>\n",
       "      <td>12.607369</td>\n",
       "    </tr>\n",
       "    <tr>\n",
       "      <th>2047</th>\n",
       "      <td>0</td>\n",
       "      <td>0</td>\n",
       "      <td>0</td>\n",
       "      <td>0</td>\n",
       "      <td>0</td>\n",
       "      <td>0</td>\n",
       "      <td>0</td>\n",
       "      <td>1</td>\n",
       "      <td>0</td>\n",
       "      <td>0</td>\n",
       "      <td>...</td>\n",
       "      <td>4</td>\n",
       "      <td>5</td>\n",
       "      <td>3</td>\n",
       "      <td>30</td>\n",
       "      <td>30</td>\n",
       "      <td>0.0</td>\n",
       "      <td>0</td>\n",
       "      <td>2.0</td>\n",
       "      <td>11481</td>\n",
       "      <td>11.320566</td>\n",
       "    </tr>\n",
       "    <tr>\n",
       "      <th>2048</th>\n",
       "      <td>0</td>\n",
       "      <td>0</td>\n",
       "      <td>0</td>\n",
       "      <td>0</td>\n",
       "      <td>0</td>\n",
       "      <td>0</td>\n",
       "      <td>1</td>\n",
       "      <td>0</td>\n",
       "      <td>0</td>\n",
       "      <td>0</td>\n",
       "      <td>...</td>\n",
       "      <td>1</td>\n",
       "      <td>4</td>\n",
       "      <td>3</td>\n",
       "      <td>50</td>\n",
       "      <td>50</td>\n",
       "      <td>0.0</td>\n",
       "      <td>1</td>\n",
       "      <td>2.0</td>\n",
       "      <td>5645</td>\n",
       "      <td>12.083911</td>\n",
       "    </tr>\n",
       "    <tr>\n",
       "      <th>2049</th>\n",
       "      <td>0</td>\n",
       "      <td>0</td>\n",
       "      <td>0</td>\n",
       "      <td>0</td>\n",
       "      <td>0</td>\n",
       "      <td>0</td>\n",
       "      <td>0</td>\n",
       "      <td>0</td>\n",
       "      <td>0</td>\n",
       "      <td>0</td>\n",
       "      <td>...</td>\n",
       "      <td>3</td>\n",
       "      <td>3</td>\n",
       "      <td>3</td>\n",
       "      <td>20</td>\n",
       "      <td>20</td>\n",
       "      <td>0.0</td>\n",
       "      <td>2</td>\n",
       "      <td>1.0</td>\n",
       "      <td>9200</td>\n",
       "      <td>11.877576</td>\n",
       "    </tr>\n",
       "    <tr>\n",
       "      <th>2050</th>\n",
       "      <td>0</td>\n",
       "      <td>0</td>\n",
       "      <td>0</td>\n",
       "      <td>0</td>\n",
       "      <td>0</td>\n",
       "      <td>0</td>\n",
       "      <td>0</td>\n",
       "      <td>0</td>\n",
       "      <td>1</td>\n",
       "      <td>0</td>\n",
       "      <td>...</td>\n",
       "      <td>1</td>\n",
       "      <td>4</td>\n",
       "      <td>4</td>\n",
       "      <td>60</td>\n",
       "      <td>60</td>\n",
       "      <td>0.0</td>\n",
       "      <td>1</td>\n",
       "      <td>2.0</td>\n",
       "      <td>5696</td>\n",
       "      <td>12.149508</td>\n",
       "    </tr>\n",
       "  </tbody>\n",
       "</table>\n",
       "<p>1973 rows × 92 columns</p>\n",
       "</div>"
      ],
      "text/plain": [
       "      Neighborhood_Blmngtn  Neighborhood_Blueste  Neighborhood_BrDale  \\\n",
       "0                        0                     0                    0   \n",
       "1                        0                     0                    0   \n",
       "2                        0                     0                    0   \n",
       "3                        0                     0                    0   \n",
       "4                        0                     0                    0   \n",
       "...                    ...                   ...                  ...   \n",
       "2046                     0                     0                    0   \n",
       "2047                     0                     0                    0   \n",
       "2048                     0                     0                    0   \n",
       "2049                     0                     0                    0   \n",
       "2050                     0                     0                    0   \n",
       "\n",
       "      Neighborhood_BrkSide  Neighborhood_ClearCr  Neighborhood_CollgCr  \\\n",
       "0                        0                     0                     0   \n",
       "1                        0                     0                     0   \n",
       "2                        0                     0                     0   \n",
       "3                        0                     0                     0   \n",
       "4                        0                     0                     0   \n",
       "...                    ...                   ...                   ...   \n",
       "2046                     0                     0                     0   \n",
       "2047                     0                     0                     0   \n",
       "2048                     0                     0                     0   \n",
       "2049                     0                     0                     0   \n",
       "2050                     0                     0                     0   \n",
       "\n",
       "      Neighborhood_Crawfor  Neighborhood_Edwards  Neighborhood_Gilbert  \\\n",
       "0                        0                     0                     0   \n",
       "1                        0                     0                     0   \n",
       "2                        0                     0                     0   \n",
       "3                        0                     0                     0   \n",
       "4                        0                     0                     0   \n",
       "...                    ...                   ...                   ...   \n",
       "2046                     0                     0                     0   \n",
       "2047                     0                     1                     0   \n",
       "2048                     1                     0                     0   \n",
       "2049                     0                     0                     0   \n",
       "2050                     0                     0                     1   \n",
       "\n",
       "      Neighborhood_Greens  ...  BsmtFin Type 1  Heating QC  Kitchen Qual  \\\n",
       "0                       0  ...               6           5             4   \n",
       "1                       0  ...               6           5             4   \n",
       "2                       0  ...               6           3             4   \n",
       "3                       0  ...               1           4             3   \n",
       "4                       0  ...               1           3             3   \n",
       "...                   ...  ...             ...         ...           ...   \n",
       "2046                    0  ...               6           5             4   \n",
       "2047                    0  ...               4           5             3   \n",
       "2048                    0  ...               1           4             3   \n",
       "2049                    0  ...               3           3             3   \n",
       "2050                    0  ...               1           4             4   \n",
       "\n",
       "      MSSubClass  MS SubClass  Mas Vnr Area  Fireplaces  Garage Cars  \\\n",
       "0             60           60         289.0           0          2.0   \n",
       "1             60           60         132.0           1          2.0   \n",
       "2             20           20           0.0           0          1.0   \n",
       "3             60           60           0.0           0          2.0   \n",
       "4             50           50           0.0           0          2.0   \n",
       "...          ...          ...           ...         ...          ...   \n",
       "2046          20           20           0.0           1          2.0   \n",
       "2047          30           30           0.0           0          2.0   \n",
       "2048          50           50           0.0           1          2.0   \n",
       "2049          20           20           0.0           2          1.0   \n",
       "2050          60           60           0.0           1          2.0   \n",
       "\n",
       "      Non Liv Area  SalePrice  \n",
       "0            12038  11.779136  \n",
       "1             9370  12.301387  \n",
       "2             6865  11.599112  \n",
       "3             8358  12.066816  \n",
       "4            12790  11.838633  \n",
       "...            ...        ...  \n",
       "2046          9721  12.607369  \n",
       "2047         11481  11.320566  \n",
       "2048          5645  12.083911  \n",
       "2049          9200  11.877576  \n",
       "2050          5696  12.149508  \n",
       "\n",
       "[1973 rows x 92 columns]"
      ]
     },
     "execution_count": 67,
     "metadata": {},
     "output_type": "execute_result"
    }
   ],
   "source": [
    "df = pd.concat([df_obj ,df_num], axis=1)\n",
    "df"
   ]
  },
  {
   "cell_type": "markdown",
   "id": "e39dcd25",
   "metadata": {},
   "source": [
    "Now our data is all numerical, we can proceed with our model."
   ]
  },
  {
   "cell_type": "markdown",
   "id": "0b760f6d",
   "metadata": {},
   "source": [
    "### Test data preprocessing  \n",
    "Lets not forget to apply encoding on our test file as well"
   ]
  },
  {
   "cell_type": "code",
   "execution_count": 68,
   "id": "90183b8f",
   "metadata": {
    "ExecuteTime": {
     "end_time": "2022-08-15T14:21:36.832141Z",
     "start_time": "2022-08-15T14:21:36.808099Z"
    },
    "scrolled": true
   },
   "outputs": [
    {
     "data": {
      "text/html": [
       "<div>\n",
       "<style scoped>\n",
       "    .dataframe tbody tr th:only-of-type {\n",
       "        vertical-align: middle;\n",
       "    }\n",
       "\n",
       "    .dataframe tbody tr th {\n",
       "        vertical-align: top;\n",
       "    }\n",
       "\n",
       "    .dataframe thead th {\n",
       "        text-align: right;\n",
       "    }\n",
       "</style>\n",
       "<table border=\"1\" class=\"dataframe\">\n",
       "  <thead>\n",
       "    <tr style=\"text-align: right;\">\n",
       "      <th></th>\n",
       "      <th>Id</th>\n",
       "      <th>PID</th>\n",
       "      <th>MS SubClass</th>\n",
       "      <th>MS Zoning</th>\n",
       "      <th>Lot Frontage</th>\n",
       "      <th>Lot Area</th>\n",
       "      <th>Street</th>\n",
       "      <th>Alley</th>\n",
       "      <th>Lot Shape</th>\n",
       "      <th>Land Contour</th>\n",
       "      <th>...</th>\n",
       "      <th>3Ssn Porch</th>\n",
       "      <th>Screen Porch</th>\n",
       "      <th>Pool Area</th>\n",
       "      <th>Pool QC</th>\n",
       "      <th>Fence</th>\n",
       "      <th>Misc Feature</th>\n",
       "      <th>Misc Val</th>\n",
       "      <th>Mo Sold</th>\n",
       "      <th>Yr Sold</th>\n",
       "      <th>Sale Type</th>\n",
       "    </tr>\n",
       "  </thead>\n",
       "  <tbody>\n",
       "    <tr>\n",
       "      <th>0</th>\n",
       "      <td>2658</td>\n",
       "      <td>902301120</td>\n",
       "      <td>190</td>\n",
       "      <td>RM</td>\n",
       "      <td>69.0</td>\n",
       "      <td>9142</td>\n",
       "      <td>Pave</td>\n",
       "      <td>Grvl</td>\n",
       "      <td>Reg</td>\n",
       "      <td>Lvl</td>\n",
       "      <td>...</td>\n",
       "      <td>0</td>\n",
       "      <td>0</td>\n",
       "      <td>0</td>\n",
       "      <td>NaN</td>\n",
       "      <td>NaN</td>\n",
       "      <td>NaN</td>\n",
       "      <td>0</td>\n",
       "      <td>4</td>\n",
       "      <td>2006</td>\n",
       "      <td>WD</td>\n",
       "    </tr>\n",
       "    <tr>\n",
       "      <th>1</th>\n",
       "      <td>2718</td>\n",
       "      <td>905108090</td>\n",
       "      <td>90</td>\n",
       "      <td>RL</td>\n",
       "      <td>NaN</td>\n",
       "      <td>9662</td>\n",
       "      <td>Pave</td>\n",
       "      <td>NaN</td>\n",
       "      <td>IR1</td>\n",
       "      <td>Lvl</td>\n",
       "      <td>...</td>\n",
       "      <td>0</td>\n",
       "      <td>0</td>\n",
       "      <td>0</td>\n",
       "      <td>NaN</td>\n",
       "      <td>NaN</td>\n",
       "      <td>NaN</td>\n",
       "      <td>0</td>\n",
       "      <td>8</td>\n",
       "      <td>2006</td>\n",
       "      <td>WD</td>\n",
       "    </tr>\n",
       "    <tr>\n",
       "      <th>2</th>\n",
       "      <td>2414</td>\n",
       "      <td>528218130</td>\n",
       "      <td>60</td>\n",
       "      <td>RL</td>\n",
       "      <td>58.0</td>\n",
       "      <td>17104</td>\n",
       "      <td>Pave</td>\n",
       "      <td>NaN</td>\n",
       "      <td>IR1</td>\n",
       "      <td>Lvl</td>\n",
       "      <td>...</td>\n",
       "      <td>0</td>\n",
       "      <td>0</td>\n",
       "      <td>0</td>\n",
       "      <td>NaN</td>\n",
       "      <td>NaN</td>\n",
       "      <td>NaN</td>\n",
       "      <td>0</td>\n",
       "      <td>9</td>\n",
       "      <td>2006</td>\n",
       "      <td>New</td>\n",
       "    </tr>\n",
       "    <tr>\n",
       "      <th>3</th>\n",
       "      <td>1989</td>\n",
       "      <td>902207150</td>\n",
       "      <td>30</td>\n",
       "      <td>RM</td>\n",
       "      <td>60.0</td>\n",
       "      <td>8520</td>\n",
       "      <td>Pave</td>\n",
       "      <td>NaN</td>\n",
       "      <td>Reg</td>\n",
       "      <td>Lvl</td>\n",
       "      <td>...</td>\n",
       "      <td>0</td>\n",
       "      <td>0</td>\n",
       "      <td>0</td>\n",
       "      <td>NaN</td>\n",
       "      <td>NaN</td>\n",
       "      <td>NaN</td>\n",
       "      <td>0</td>\n",
       "      <td>7</td>\n",
       "      <td>2007</td>\n",
       "      <td>WD</td>\n",
       "    </tr>\n",
       "    <tr>\n",
       "      <th>4</th>\n",
       "      <td>625</td>\n",
       "      <td>535105100</td>\n",
       "      <td>20</td>\n",
       "      <td>RL</td>\n",
       "      <td>NaN</td>\n",
       "      <td>9500</td>\n",
       "      <td>Pave</td>\n",
       "      <td>NaN</td>\n",
       "      <td>IR1</td>\n",
       "      <td>Lvl</td>\n",
       "      <td>...</td>\n",
       "      <td>0</td>\n",
       "      <td>185</td>\n",
       "      <td>0</td>\n",
       "      <td>NaN</td>\n",
       "      <td>NaN</td>\n",
       "      <td>NaN</td>\n",
       "      <td>0</td>\n",
       "      <td>7</td>\n",
       "      <td>2009</td>\n",
       "      <td>WD</td>\n",
       "    </tr>\n",
       "  </tbody>\n",
       "</table>\n",
       "<p>5 rows × 80 columns</p>\n",
       "</div>"
      ],
      "text/plain": [
       "     Id        PID  MS SubClass MS Zoning  Lot Frontage  Lot Area Street  \\\n",
       "0  2658  902301120          190        RM          69.0      9142   Pave   \n",
       "1  2718  905108090           90        RL           NaN      9662   Pave   \n",
       "2  2414  528218130           60        RL          58.0     17104   Pave   \n",
       "3  1989  902207150           30        RM          60.0      8520   Pave   \n",
       "4   625  535105100           20        RL           NaN      9500   Pave   \n",
       "\n",
       "  Alley Lot Shape Land Contour  ... 3Ssn Porch Screen Porch Pool Area Pool QC  \\\n",
       "0  Grvl       Reg          Lvl  ...          0            0         0     NaN   \n",
       "1   NaN       IR1          Lvl  ...          0            0         0     NaN   \n",
       "2   NaN       IR1          Lvl  ...          0            0         0     NaN   \n",
       "3   NaN       Reg          Lvl  ...          0            0         0     NaN   \n",
       "4   NaN       IR1          Lvl  ...          0          185         0     NaN   \n",
       "\n",
       "  Fence Misc Feature Misc Val Mo Sold  Yr Sold  Sale Type  \n",
       "0   NaN          NaN        0       4     2006        WD   \n",
       "1   NaN          NaN        0       8     2006        WD   \n",
       "2   NaN          NaN        0       9     2006        New  \n",
       "3   NaN          NaN        0       7     2007        WD   \n",
       "4   NaN          NaN        0       7     2009        WD   \n",
       "\n",
       "[5 rows x 80 columns]"
      ]
     },
     "execution_count": 68,
     "metadata": {},
     "output_type": "execute_result"
    }
   ],
   "source": [
    "test_file.head()"
   ]
  },
  {
   "cell_type": "code",
   "execution_count": 69,
   "id": "7e0018f9",
   "metadata": {
    "ExecuteTime": {
     "end_time": "2022-08-15T14:21:36.847954Z",
     "start_time": "2022-08-15T14:21:36.834484Z"
    }
   },
   "outputs": [],
   "source": [
    "#converting MS subclass to string\n",
    "test_file['MSSubClass'] = test_file['MS SubClass'].apply(str)"
   ]
  },
  {
   "cell_type": "code",
   "execution_count": 70,
   "id": "48d66f50",
   "metadata": {
    "ExecuteTime": {
     "end_time": "2022-08-15T14:21:36.895437Z",
     "start_time": "2022-08-15T14:21:36.855845Z"
    }
   },
   "outputs": [],
   "source": [
    "#fill NA function\n",
    "test_file = fill_na(test_file)"
   ]
  },
  {
   "cell_type": "code",
   "execution_count": 71,
   "id": "356002d0",
   "metadata": {
    "ExecuteTime": {
     "end_time": "2022-08-15T14:21:36.910789Z",
     "start_time": "2022-08-15T14:21:36.898449Z"
    },
    "scrolled": true
   },
   "outputs": [],
   "source": [
    "test_cat=test_file.select_dtypes(include=['object'])\n",
    "test_num=test_file.select_dtypes(include=['int16', 'int32', 'int64', 'float16', 'float32', 'float64'])\n"
   ]
  },
  {
   "cell_type": "code",
   "execution_count": 72,
   "id": "97904230",
   "metadata": {
    "ExecuteTime": {
     "end_time": "2022-08-15T14:21:36.988726Z",
     "start_time": "2022-08-15T14:21:36.915629Z"
    },
    "scrolled": true
   },
   "outputs": [],
   "source": [
    "#run against function created above\n",
    "\n",
    "test_num = num_col_adddrop(test_num)\n",
    "test_cat = cat_encoder(test_cat)"
   ]
  },
  {
   "cell_type": "code",
   "execution_count": 73,
   "id": "c80a4491",
   "metadata": {
    "ExecuteTime": {
     "end_time": "2022-08-15T14:21:37.003879Z",
     "start_time": "2022-08-15T14:21:36.992557Z"
    },
    "scrolled": true
   },
   "outputs": [
    {
     "data": {
      "text/plain": [
       "(878, 131)"
      ]
     },
     "execution_count": 73,
     "metadata": {},
     "output_type": "execute_result"
    }
   ],
   "source": [
    "test_file=pd.concat([ test_cat, test_num],axis=1)\n",
    "test_file.shape"
   ]
  },
  {
   "cell_type": "code",
   "execution_count": 74,
   "id": "d1f1e39b",
   "metadata": {
    "ExecuteTime": {
     "end_time": "2022-08-15T14:21:37.019425Z",
     "start_time": "2022-08-15T14:21:37.007790Z"
    }
   },
   "outputs": [
    {
     "data": {
      "text/plain": [
       "(878, 89)"
      ]
     },
     "execution_count": 74,
     "metadata": {},
     "output_type": "execute_result"
    }
   ],
   "source": [
    "#drop columns\n",
    "\n",
    "test_file.drop(columns=[\n",
    "    'Pool QC', 'Misc Feature', 'Alley', 'Fence', 'Fireplace Qu',\n",
    "    'Lot Frontage', 'Id','PID','TotRms AbvGrd', 'Year Remod/Add','Overall Qual', 'Gr Liv Area'\n",
    "],\n",
    "               inplace=True)\n",
    "\n",
    "test_file = drop_skw_col(test_file)\n",
    "test_file.shape"
   ]
  },
  {
   "cell_type": "code",
   "execution_count": 75,
   "id": "ed5728a3",
   "metadata": {
    "ExecuteTime": {
     "end_time": "2022-08-15T14:21:37.034583Z",
     "start_time": "2022-08-15T14:21:37.021701Z"
    },
    "run_control": {
     "marked": false
    },
    "scrolled": true
   },
   "outputs": [
    {
     "data": {
      "text/plain": [
       "(1973, 92)"
      ]
     },
     "execution_count": 75,
     "metadata": {},
     "output_type": "execute_result"
    }
   ],
   "source": [
    "df.shape"
   ]
  },
  {
   "cell_type": "code",
   "execution_count": 76,
   "id": "f9f6bb41",
   "metadata": {
    "ExecuteTime": {
     "end_time": "2022-08-15T14:21:37.049827Z",
     "start_time": "2022-08-15T14:21:37.040860Z"
    },
    "scrolled": false
   },
   "outputs": [
    {
     "data": {
      "text/plain": [
       "['Exterior 1st_PreCast',\n",
       " 'Exterior 2nd_Other',\n",
       " 'Exterior 2nd_PreCast',\n",
       " 'Mas Vnr Type_CBlock']"
      ]
     },
     "execution_count": 76,
     "metadata": {},
     "output_type": "execute_result"
    }
   ],
   "source": [
    "test_file.columns.difference(df.columns).tolist()"
   ]
  },
  {
   "cell_type": "markdown",
   "id": "255340f8",
   "metadata": {},
   "source": [
    "There seems to be 4 missing columns compared to the main data set.  \n",
    "This can happen because the new dataset has new data foreign to our training set.  \n",
    "To avoid error, we have chosen to ignore the new data.\n",
    "lets reindex the column against our main data"
   ]
  },
  {
   "cell_type": "code",
   "execution_count": 77,
   "id": "a109f291",
   "metadata": {
    "ExecuteTime": {
     "end_time": "2022-08-15T14:21:37.065492Z",
     "start_time": "2022-08-15T14:21:37.052286Z"
    }
   },
   "outputs": [],
   "source": [
    "test_file = test_file.reindex(columns = df.columns, fill_value=0)"
   ]
  },
  {
   "cell_type": "code",
   "execution_count": 78,
   "id": "cc4120a2",
   "metadata": {
    "ExecuteTime": {
     "end_time": "2022-08-15T14:21:37.080649Z",
     "start_time": "2022-08-15T14:21:37.068877Z"
    }
   },
   "outputs": [],
   "source": [
    "test_file = test_file.iloc[: , :-1]"
   ]
  },
  {
   "cell_type": "code",
   "execution_count": 79,
   "id": "34ecb145",
   "metadata": {
    "ExecuteTime": {
     "end_time": "2022-08-15T14:21:37.096031Z",
     "start_time": "2022-08-15T14:21:37.082429Z"
    }
   },
   "outputs": [
    {
     "data": {
      "text/plain": [
       "(878, 91)"
      ]
     },
     "execution_count": 79,
     "metadata": {},
     "output_type": "execute_result"
    }
   ],
   "source": [
    "test_file.shape"
   ]
  },
  {
   "cell_type": "code",
   "execution_count": 80,
   "id": "77d70cef",
   "metadata": {
    "ExecuteTime": {
     "end_time": "2022-08-15T14:21:37.142949Z",
     "start_time": "2022-08-15T14:21:37.102058Z"
    },
    "scrolled": true
   },
   "outputs": [
    {
     "data": {
      "text/html": [
       "<div>\n",
       "<style scoped>\n",
       "    .dataframe tbody tr th:only-of-type {\n",
       "        vertical-align: middle;\n",
       "    }\n",
       "\n",
       "    .dataframe tbody tr th {\n",
       "        vertical-align: top;\n",
       "    }\n",
       "\n",
       "    .dataframe thead th {\n",
       "        text-align: right;\n",
       "    }\n",
       "</style>\n",
       "<table border=\"1\" class=\"dataframe\">\n",
       "  <thead>\n",
       "    <tr style=\"text-align: right;\">\n",
       "      <th></th>\n",
       "      <th>Neighborhood_Blmngtn</th>\n",
       "      <th>Neighborhood_Blueste</th>\n",
       "      <th>Neighborhood_BrDale</th>\n",
       "      <th>Neighborhood_BrkSide</th>\n",
       "      <th>Neighborhood_ClearCr</th>\n",
       "      <th>Neighborhood_CollgCr</th>\n",
       "      <th>Neighborhood_Crawfor</th>\n",
       "      <th>Neighborhood_Edwards</th>\n",
       "      <th>Neighborhood_Gilbert</th>\n",
       "      <th>Neighborhood_Greens</th>\n",
       "      <th>...</th>\n",
       "      <th>Bsmt Exposure</th>\n",
       "      <th>BsmtFin Type 1</th>\n",
       "      <th>Heating QC</th>\n",
       "      <th>Kitchen Qual</th>\n",
       "      <th>MSSubClass</th>\n",
       "      <th>MS SubClass</th>\n",
       "      <th>Mas Vnr Area</th>\n",
       "      <th>Fireplaces</th>\n",
       "      <th>Garage Cars</th>\n",
       "      <th>Non Liv Area</th>\n",
       "    </tr>\n",
       "  </thead>\n",
       "  <tbody>\n",
       "    <tr>\n",
       "      <th>0</th>\n",
       "      <td>0</td>\n",
       "      <td>0</td>\n",
       "      <td>0</td>\n",
       "      <td>0</td>\n",
       "      <td>0</td>\n",
       "      <td>0</td>\n",
       "      <td>0</td>\n",
       "      <td>0</td>\n",
       "      <td>0</td>\n",
       "      <td>0</td>\n",
       "      <td>...</td>\n",
       "      <td>1</td>\n",
       "      <td>1</td>\n",
       "      <td>4</td>\n",
       "      <td>2</td>\n",
       "      <td>190</td>\n",
       "      <td>190</td>\n",
       "      <td>0.0</td>\n",
       "      <td>0</td>\n",
       "      <td>1</td>\n",
       "      <td>7214</td>\n",
       "    </tr>\n",
       "    <tr>\n",
       "      <th>1</th>\n",
       "      <td>0</td>\n",
       "      <td>0</td>\n",
       "      <td>0</td>\n",
       "      <td>0</td>\n",
       "      <td>0</td>\n",
       "      <td>0</td>\n",
       "      <td>0</td>\n",
       "      <td>0</td>\n",
       "      <td>0</td>\n",
       "      <td>0</td>\n",
       "      <td>...</td>\n",
       "      <td>1</td>\n",
       "      <td>1</td>\n",
       "      <td>3</td>\n",
       "      <td>3</td>\n",
       "      <td>90</td>\n",
       "      <td>90</td>\n",
       "      <td>0.0</td>\n",
       "      <td>0</td>\n",
       "      <td>2</td>\n",
       "      <td>7695</td>\n",
       "    </tr>\n",
       "    <tr>\n",
       "      <th>2</th>\n",
       "      <td>0</td>\n",
       "      <td>0</td>\n",
       "      <td>0</td>\n",
       "      <td>0</td>\n",
       "      <td>0</td>\n",
       "      <td>0</td>\n",
       "      <td>0</td>\n",
       "      <td>0</td>\n",
       "      <td>1</td>\n",
       "      <td>0</td>\n",
       "      <td>...</td>\n",
       "      <td>3</td>\n",
       "      <td>6</td>\n",
       "      <td>5</td>\n",
       "      <td>4</td>\n",
       "      <td>60</td>\n",
       "      <td>60</td>\n",
       "      <td>0.0</td>\n",
       "      <td>1</td>\n",
       "      <td>2</td>\n",
       "      <td>15608</td>\n",
       "    </tr>\n",
       "    <tr>\n",
       "      <th>3</th>\n",
       "      <td>0</td>\n",
       "      <td>0</td>\n",
       "      <td>0</td>\n",
       "      <td>0</td>\n",
       "      <td>0</td>\n",
       "      <td>0</td>\n",
       "      <td>0</td>\n",
       "      <td>0</td>\n",
       "      <td>0</td>\n",
       "      <td>0</td>\n",
       "      <td>...</td>\n",
       "      <td>1</td>\n",
       "      <td>1</td>\n",
       "      <td>3</td>\n",
       "      <td>3</td>\n",
       "      <td>30</td>\n",
       "      <td>30</td>\n",
       "      <td>0.0</td>\n",
       "      <td>0</td>\n",
       "      <td>2</td>\n",
       "      <td>7552</td>\n",
       "    </tr>\n",
       "    <tr>\n",
       "      <th>4</th>\n",
       "      <td>0</td>\n",
       "      <td>0</td>\n",
       "      <td>0</td>\n",
       "      <td>0</td>\n",
       "      <td>0</td>\n",
       "      <td>0</td>\n",
       "      <td>0</td>\n",
       "      <td>0</td>\n",
       "      <td>0</td>\n",
       "      <td>0</td>\n",
       "      <td>...</td>\n",
       "      <td>1</td>\n",
       "      <td>4</td>\n",
       "      <td>4</td>\n",
       "      <td>3</td>\n",
       "      <td>20</td>\n",
       "      <td>20</td>\n",
       "      <td>247.0</td>\n",
       "      <td>2</td>\n",
       "      <td>2</td>\n",
       "      <td>8106</td>\n",
       "    </tr>\n",
       "  </tbody>\n",
       "</table>\n",
       "<p>5 rows × 91 columns</p>\n",
       "</div>"
      ],
      "text/plain": [
       "   Neighborhood_Blmngtn  Neighborhood_Blueste  Neighborhood_BrDale  \\\n",
       "0                     0                     0                    0   \n",
       "1                     0                     0                    0   \n",
       "2                     0                     0                    0   \n",
       "3                     0                     0                    0   \n",
       "4                     0                     0                    0   \n",
       "\n",
       "   Neighborhood_BrkSide  Neighborhood_ClearCr  Neighborhood_CollgCr  \\\n",
       "0                     0                     0                     0   \n",
       "1                     0                     0                     0   \n",
       "2                     0                     0                     0   \n",
       "3                     0                     0                     0   \n",
       "4                     0                     0                     0   \n",
       "\n",
       "   Neighborhood_Crawfor  Neighborhood_Edwards  Neighborhood_Gilbert  \\\n",
       "0                     0                     0                     0   \n",
       "1                     0                     0                     0   \n",
       "2                     0                     0                     1   \n",
       "3                     0                     0                     0   \n",
       "4                     0                     0                     0   \n",
       "\n",
       "   Neighborhood_Greens  ...  Bsmt Exposure  BsmtFin Type 1  Heating QC  \\\n",
       "0                    0  ...              1               1           4   \n",
       "1                    0  ...              1               1           3   \n",
       "2                    0  ...              3               6           5   \n",
       "3                    0  ...              1               1           3   \n",
       "4                    0  ...              1               4           4   \n",
       "\n",
       "   Kitchen Qual  MSSubClass  MS SubClass  Mas Vnr Area  Fireplaces  \\\n",
       "0             2         190          190           0.0           0   \n",
       "1             3          90           90           0.0           0   \n",
       "2             4          60           60           0.0           1   \n",
       "3             3          30           30           0.0           0   \n",
       "4             3          20           20         247.0           2   \n",
       "\n",
       "   Garage Cars  Non Liv Area  \n",
       "0            1          7214  \n",
       "1            2          7695  \n",
       "2            2         15608  \n",
       "3            2          7552  \n",
       "4            2          8106  \n",
       "\n",
       "[5 rows x 91 columns]"
      ]
     },
     "execution_count": 80,
     "metadata": {},
     "output_type": "execute_result"
    }
   ],
   "source": [
    "test_file.head()"
   ]
  },
  {
   "cell_type": "markdown",
   "id": "1af0ecf1",
   "metadata": {},
   "source": [
    "now we have 96 columns train less \"SalesPrice Column\""
   ]
  },
  {
   "cell_type": "markdown",
   "id": "a4053035",
   "metadata": {},
   "source": [
    "### 5.0 Do Train-Test Split\n",
    "- First, we perform train test split, then we do StandardScaler.  "
   ]
  },
  {
   "cell_type": "code",
   "execution_count": 81,
   "id": "a44f21b3",
   "metadata": {
    "ExecuteTime": {
     "end_time": "2022-08-15T14:21:37.158468Z",
     "start_time": "2022-08-15T14:21:37.147477Z"
    }
   },
   "outputs": [],
   "source": [
    "X = df.iloc[:, :-1]\n",
    "y = df.iloc[:, -1]"
   ]
  },
  {
   "cell_type": "code",
   "execution_count": 82,
   "id": "8dd6d299",
   "metadata": {
    "ExecuteTime": {
     "end_time": "2022-08-15T14:21:37.174138Z",
     "start_time": "2022-08-15T14:21:37.162595Z"
    }
   },
   "outputs": [],
   "source": [
    "# Create train/test splits.\n",
    "X_train, X_test, y_train, y_test = train_test_split(\n",
    "    X,\n",
    "    y,\n",
    "    test_size=0.6,\n",
    "    random_state=51\n",
    ")\n"
   ]
  },
  {
   "cell_type": "code",
   "execution_count": 83,
   "id": "77c896b9",
   "metadata": {
    "ExecuteTime": {
     "end_time": "2022-08-15T14:21:37.189528Z",
     "start_time": "2022-08-15T14:21:37.175925Z"
    }
   },
   "outputs": [
    {
     "name": "stdout",
     "output_type": "stream",
     "text": [
      " X_test shape is (1184, 91)\n",
      "y_test shape is (1184,)\n",
      "X_train shape is (789, 91)\n",
      " y_train shape is (789,)\n"
     ]
    }
   ],
   "source": [
    "print(f\" X_test shape is {X_test.shape}\")\n",
    "print(f\"y_test shape is {y_test.shape}\")\n",
    "print(f\"X_train shape is {X_train.shape}\")\n",
    "print(f\" y_train shape is {y_train.shape}\")\n"
   ]
  },
  {
   "cell_type": "markdown",
   "id": "8e2d3518",
   "metadata": {},
   "source": [
    "### 5.1 Linear Regression "
   ]
  },
  {
   "cell_type": "code",
   "execution_count": 84,
   "id": "90c1b7b6",
   "metadata": {
    "ExecuteTime": {
     "end_time": "2022-08-15T14:21:37.236444Z",
     "start_time": "2022-08-15T14:21:37.191528Z"
    }
   },
   "outputs": [
    {
     "name": "stdout",
     "output_type": "stream",
     "text": [
      "Linear Regression Train Score is :  0.02487525983519065\n",
      "Linear Regression Test Score is :  0.030988624053013593\n",
      "Percentage difference is -24.576081851311802%\n",
      "Linear Regression intercept is :  10.650832045043877\n"
     ]
    }
   ],
   "source": [
    "from sklearn.metrics import mean_squared_error\n",
    "lr = LinearRegression()\n",
    "lr.fit(X_train,y_train)\n",
    "y_train_pred = lr.predict(X_train)\n",
    "y_test_pred = lr.predict(X_test)\n",
    "mse_train = mean_squared_error(y_train, y_train_pred)\n",
    "mse_test = mean_squared_error(y_test, y_test_pred)\n",
    "print('Linear Regression Train Score is : ' , mse_train)\n",
    "print('Linear Regression Test Score is : ' , mse_test)\n",
    "\n",
    "\n",
    "perc_diff = (mse_train - mse_test)/mse_train * 100\n",
    "print( f'Percentage difference is {str(perc_diff)}%')\n",
    "print('Linear Regression intercept is : ' , lr.intercept_)\n"
   ]
  },
  {
   "cell_type": "code",
   "execution_count": 85,
   "id": "aa42b5d6",
   "metadata": {
    "ExecuteTime": {
     "end_time": "2022-08-15T14:21:37.266992Z",
     "start_time": "2022-08-15T14:21:37.238572Z"
    }
   },
   "outputs": [],
   "source": [
    "y_pred_linear = lr.predict(X_test)"
   ]
  },
  {
   "cell_type": "code",
   "execution_count": null,
   "id": "907aa53a",
   "metadata": {},
   "outputs": [],
   "source": [
    "y_test_unlog = np.expm1(y_test)\n",
    "y_pred_linear = np.expm1(y_pred_linear)"
   ]
  },
  {
   "cell_type": "code",
   "execution_count": 86,
   "id": "ee0c5196",
   "metadata": {
    "ExecuteTime": {
     "end_time": "2022-08-15T14:21:37.439174Z",
     "start_time": "2022-08-15T14:21:37.272921Z"
    }
   },
   "outputs": [
    {
     "data": {
      "image/png": "[encoded data removed]",
      "text/plain": [
       "<Figure size 576x576 with 1 Axes>"
      ]
     },
     "metadata": {
      "needs_background": "light"
     },
     "output_type": "display_data"
    }
   ],
   "source": [
    "plt.figure(figsize=(8,8))\n",
    "plt.scatter(y_test, y_pred_linear, c='crimson')\n",
    "\n",
    "p1 = max(max(y_pred_linear), max(y_test_unlog))\n",
    "p2 = min(min(y_pred_linear), min(y_test_unlog))\n",
    "plt.plot([p1, p2], [p1, p2], 'k--', lw=4)\n",
    "plt.xlabel('True Values', fontsize=15)\n",
    "plt.ylabel('Predictions', fontsize=15)\n",
    "plt.axis('equal')\n",
    "plt.show()"
   ]
  },
  {
   "cell_type": "code",
   "execution_count": 87,
   "id": "ed48a364",
   "metadata": {
    "ExecuteTime": {
     "end_time": "2022-08-15T14:21:37.470700Z",
     "start_time": "2022-08-15T14:21:37.441384Z"
    }
   },
   "outputs": [],
   "source": [
    "#predicitn test file and reversing log\n",
    "y_pred_lr = lr.predict(test_file)\n",
    "y_pred_lr = np.expm1(y_pred_lr)"
   ]
  },
  {
   "cell_type": "code",
   "execution_count": 88,
   "id": "befa4156",
   "metadata": {
    "ExecuteTime": {
     "end_time": "2022-08-15T14:21:37.547763Z",
     "start_time": "2022-08-15T14:21:37.476990Z"
    },
    "scrolled": true
   },
   "outputs": [
    {
     "name": "stderr",
     "output_type": "stream",
     "text": [
      "C:\\Users\\v-weihaoloh\\AppData\\Local\\Temp\\ipykernel_11936\\150624134.py:3: SettingWithCopyWarning: \n",
      "A value is trying to be set on a copy of a slice from a DataFrame.\n",
      "Try using .loc[row_indexer,col_indexer] = value instead\n",
      "\n",
      "See the caveats in the documentation: https://pandas.pydata.org/pandas-docs/stable/user_guide/indexing.html#returning-a-view-versus-a-copy\n",
      "  lrsubmission[\"SalePrice\"] = y_pred_lr\n"
     ]
    },
    {
     "data": {
      "text/html": [
       "<div>\n",
       "<style scoped>\n",
       "    .dataframe tbody tr th:only-of-type {\n",
       "        vertical-align: middle;\n",
       "    }\n",
       "\n",
       "    .dataframe tbody tr th {\n",
       "        vertical-align: top;\n",
       "    }\n",
       "\n",
       "    .dataframe thead th {\n",
       "        text-align: right;\n",
       "    }\n",
       "</style>\n",
       "<table border=\"1\" class=\"dataframe\">\n",
       "  <thead>\n",
       "    <tr style=\"text-align: right;\">\n",
       "      <th></th>\n",
       "      <th>Id</th>\n",
       "      <th>SalePrice</th>\n",
       "    </tr>\n",
       "  </thead>\n",
       "  <tbody>\n",
       "    <tr>\n",
       "      <th>0</th>\n",
       "      <td>2658</td>\n",
       "      <td>94270.575548</td>\n",
       "    </tr>\n",
       "    <tr>\n",
       "      <th>1</th>\n",
       "      <td>2718</td>\n",
       "      <td>128709.957575</td>\n",
       "    </tr>\n",
       "    <tr>\n",
       "      <th>2</th>\n",
       "      <td>2414</td>\n",
       "      <td>224232.719940</td>\n",
       "    </tr>\n",
       "    <tr>\n",
       "      <th>3</th>\n",
       "      <td>1989</td>\n",
       "      <td>116488.779103</td>\n",
       "    </tr>\n",
       "    <tr>\n",
       "      <th>4</th>\n",
       "      <td>625</td>\n",
       "      <td>187994.534380</td>\n",
       "    </tr>\n",
       "  </tbody>\n",
       "</table>\n",
       "</div>"
      ],
      "text/plain": [
       "     Id      SalePrice\n",
       "0  2658   94270.575548\n",
       "1  2718  128709.957575\n",
       "2  2414  224232.719940\n",
       "3  1989  116488.779103\n",
       "4   625  187994.534380"
      ]
     },
     "execution_count": 88,
     "metadata": {},
     "output_type": "execute_result"
    }
   ],
   "source": [
    "test = pd.read_csv('datasets/test.csv')\n",
    "lrsubmission = test[[\"Id\"]]\n",
    "lrsubmission[\"SalePrice\"] = y_pred_lr\n",
    "lrsubmission.to_csv('datasets/my_output_lr.csv', index=False)\n",
    "lrsubmission.head()"
   ]
  },
  {
   "cell_type": "markdown",
   "id": "042c2dbc",
   "metadata": {},
   "source": [
    "The  Linear regression model displays poor generalization, with a % diff between train and test of -24.57%\n",
    "\n",
    "<pre>\n",
    "Linear regression Model    : -24.57%\t\n",
    "<pre>"
   ]
  },
  {
   "cell_type": "markdown",
   "id": "95c696ea",
   "metadata": {},
   "source": [
    "We observed that Min Max Scaling severly impacted the accuracy of the model, we will proceed without scaling."
   ]
  },
  {
   "cell_type": "markdown",
   "id": "03217c46",
   "metadata": {},
   "source": [
    "### Grid search  \n",
    "We will run 2 models in parallel, selecting the best model with the highest accuracy.  \n",
    "\n",
    "2. Ridge  \n",
    "3. Lasso"
   ]
  },
  {
   "cell_type": "code",
   "execution_count": 89,
   "id": "5b7c4119",
   "metadata": {
    "ExecuteTime": {
     "end_time": "2022-08-15T14:21:37.563384Z",
     "start_time": "2022-08-15T14:21:37.549985Z"
    }
   },
   "outputs": [],
   "source": [
    "model1 = Ridge()\n",
    "model2 = Lasso()"
   ]
  },
  {
   "cell_type": "code",
   "execution_count": 90,
   "id": "4e4f3124",
   "metadata": {
    "ExecuteTime": {
     "end_time": "2022-08-15T14:21:37.579265Z",
     "start_time": "2022-08-15T14:21:37.565520Z"
    },
    "run_control": {
     "marked": false
    }
   },
   "outputs": [],
   "source": [
    "# Initialize the hyperparameters for each dictionary\n",
    "param1 = {}\n",
    "# param1['classifier__alpha'] = np.arange(0.01,1000,0.1) #codes takes too long to run\n",
    "param1['classifier__alpha'] = [0.01, 0.1, 1, 10, 100]\n",
    "param1['classifier'] = [model1]\n",
    "\n",
    "param2 = {}\n",
    "# param2['classifier__alpha'] = np.arange(0.01,1000,0.1)\n",
    "param2['classifier__alpha'] = [0.01, 0.1, 1, 10, 100]\n",
    "param2['classifier'] = [model2]"
   ]
  },
  {
   "cell_type": "code",
   "execution_count": 91,
   "id": "459e1f93",
   "metadata": {
    "ExecuteTime": {
     "end_time": "2022-08-15T14:21:37.595001Z",
     "start_time": "2022-08-15T14:21:37.581247Z"
    }
   },
   "outputs": [],
   "source": [
    "# create pipeline\n",
    "pipeline = Pipeline([('classifier', model1)])\n",
    "params = [param1, param2]"
   ]
  },
  {
   "cell_type": "code",
   "execution_count": 92,
   "id": "dde92e94",
   "metadata": {
    "ExecuteTime": {
     "end_time": "2022-08-15T14:21:43.763166Z",
     "start_time": "2022-08-15T14:21:37.599200Z"
    }
   },
   "outputs": [
    {
     "data": {
      "text/plain": [
       "GridSearchCV(cv=5, estimator=Pipeline(steps=[('classifier', Ridge())]),\n",
       "             n_jobs=-1,\n",
       "             param_grid={'classifier': [Lasso(alpha=0.01)],\n",
       "                         'classifier__alpha': [0.01, 0.1, 1, 10, 100]},\n",
       "             scoring='neg_mean_squared_error')"
      ]
     },
     "execution_count": 92,
     "metadata": {},
     "output_type": "execute_result"
    }
   ],
   "source": [
    "# run GridsearchCV\n",
    "gs = GridSearchCV(pipeline, param2, cv=5, n_jobs=-1, scoring='neg_mean_squared_error')\n",
    "gs.fit(X_train, y_train)"
   ]
  },
  {
   "cell_type": "code",
   "execution_count": 93,
   "id": "92aabea4",
   "metadata": {
    "ExecuteTime": {
     "end_time": "2022-08-15T14:21:43.778305Z",
     "start_time": "2022-08-15T14:21:43.765900Z"
    }
   },
   "outputs": [
    {
     "data": {
      "text/plain": [
       "{'classifier': Lasso(alpha=0.01), 'classifier__alpha': 0.01}"
      ]
     },
     "execution_count": 93,
     "metadata": {},
     "output_type": "execute_result"
    }
   ],
   "source": [
    "# Best performing model and its corresponding hyperparameters\n",
    "gs.best_params_"
   ]
  },
  {
   "cell_type": "markdown",
   "id": "a7fbc8cc",
   "metadata": {},
   "source": [
    "Form grid search, the Best performing model is Lasso at alpha = 0.01"
   ]
  },
  {
   "cell_type": "code",
   "execution_count": 94,
   "id": "d0132158",
   "metadata": {
    "ExecuteTime": {
     "end_time": "2022-08-15T14:21:43.824512Z",
     "start_time": "2022-08-15T14:21:43.780432Z"
    }
   },
   "outputs": [
    {
     "name": "stdout",
     "output_type": "stream",
     "text": [
      "MSE of Train is 0.033774128309880636,\n",
      "MSE of Test is 0.033922649475397866,\n",
      "Percentage diff: -0.4397483308955767%\n"
     ]
    }
   ],
   "source": [
    "# check for generalisation\n",
    "y_train_pred = gs.predict(X_train)\n",
    "y_test_pred = gs.predict(X_test)\n",
    "\n",
    "mse_train = mean_squared_error(y_train, y_train_pred)\n",
    "mse_test = mean_squared_error(y_test, y_test_pred)\n",
    "\n",
    "perc_diff = (mse_train - mse_test)/mse_train * 100\n",
    "print(f\"MSE of Train is {mse_train},\\nMSE of Test is {mse_test},\\nPercentage diff: {perc_diff}%\")"
   ]
  },
  {
   "cell_type": "code",
   "execution_count": 95,
   "id": "9cfff0f5",
   "metadata": {
    "ExecuteTime": {
     "end_time": "2022-08-15T14:21:43.839929Z",
     "start_time": "2022-08-15T14:21:43.828798Z"
    },
    "run_control": {
     "marked": false
    }
   },
   "outputs": [],
   "source": [
    "y_test_unlog = np.expm1(y_test)\n",
    "y_test_pred = np.expm1(y_test_pred)"
   ]
  },
  {
   "cell_type": "code",
   "execution_count": 96,
   "id": "45858f4e",
   "metadata": {
    "ExecuteTime": {
     "end_time": "2022-08-15T14:21:43.995983Z",
     "start_time": "2022-08-15T14:21:43.842646Z"
    },
    "scrolled": false
   },
   "outputs": [
    {
     "data": {
      "image/png": "[encoded data removed]",
      "text/plain": [
       "<Figure size 576x576 with 1 Axes>"
      ]
     },
     "metadata": {
      "needs_background": "light"
     },
     "output_type": "display_data"
    }
   ],
   "source": [
    "plt.figure(figsize=(8,8))\n",
    "plt.scatter(y_test_unlog, y_test_pred, c='crimson')\n",
    "\n",
    "\n",
    "p1 = max(max(y_test_pred), max(y_test_unlog))\n",
    "p2 = min(min(y_test_pred), min(y_test_unlog))\n",
    "plt.plot([p1, p2], [p1, p2], 'k--', lw=4)\n",
    "plt.axhline(y=400000,color=\"red\")\n",
    "plt.xlabel('True Values', fontsize=15)\n",
    "plt.ylabel('Predictions', fontsize=15)\n",
    "plt.axis('equal')\n",
    "plt.show()"
   ]
  },
  {
   "cell_type": "markdown",
   "id": "40f00839",
   "metadata": {},
   "source": [
    "### The Best Model\n",
    "\n",
    "From GridSearch, we have determined that the best model is Lasso at alpha 0.01 and a low error rate at -0.439%\n",
    "\n",
    "### Limitations  \n",
    "However, we noted that the model seems to be ineffective in predicting prices above the 400,000 mark, with the tendency to under predict."
   ]
  },
  {
   "cell_type": "code",
   "execution_count": 97,
   "id": "0c1a81cc",
   "metadata": {
    "ExecuteTime": {
     "end_time": "2022-08-15T14:21:44.011760Z",
     "start_time": "2022-08-15T14:21:43.998207Z"
    }
   },
   "outputs": [],
   "source": [
    "ypred_gs_cv = gs.predict(test_file)"
   ]
  },
  {
   "cell_type": "code",
   "execution_count": 98,
   "id": "75ffdc0c",
   "metadata": {
    "ExecuteTime": {
     "end_time": "2022-08-15T14:21:44.027007Z",
     "start_time": "2022-08-15T14:21:44.014487Z"
    }
   },
   "outputs": [],
   "source": [
    "ypred_gs_cv = np.expm1(ypred_gs_cv)"
   ]
  },
  {
   "cell_type": "code",
   "execution_count": 99,
   "id": "3e0ee51f",
   "metadata": {
    "ExecuteTime": {
     "end_time": "2022-08-15T14:21:44.073395Z",
     "start_time": "2022-08-15T14:21:44.030034Z"
    },
    "scrolled": false
   },
   "outputs": [
    {
     "name": "stderr",
     "output_type": "stream",
     "text": [
      "C:\\Users\\v-weihaoloh\\AppData\\Local\\Temp\\ipykernel_11936\\3393350114.py:2: SettingWithCopyWarning: \n",
      "A value is trying to be set on a copy of a slice from a DataFrame.\n",
      "Try using .loc[row_indexer,col_indexer] = value instead\n",
      "\n",
      "See the caveats in the documentation: https://pandas.pydata.org/pandas-docs/stable/user_guide/indexing.html#returning-a-view-versus-a-copy\n",
      "  GS_submission[\"SalePrice\"] = ypred_gs_cv\n"
     ]
    },
    {
     "data": {
      "text/html": [
       "<div>\n",
       "<style scoped>\n",
       "    .dataframe tbody tr th:only-of-type {\n",
       "        vertical-align: middle;\n",
       "    }\n",
       "\n",
       "    .dataframe tbody tr th {\n",
       "        vertical-align: top;\n",
       "    }\n",
       "\n",
       "    .dataframe thead th {\n",
       "        text-align: right;\n",
       "    }\n",
       "</style>\n",
       "<table border=\"1\" class=\"dataframe\">\n",
       "  <thead>\n",
       "    <tr style=\"text-align: right;\">\n",
       "      <th></th>\n",
       "      <th>Id</th>\n",
       "      <th>SalePrice</th>\n",
       "    </tr>\n",
       "  </thead>\n",
       "  <tbody>\n",
       "    <tr>\n",
       "      <th>0</th>\n",
       "      <td>2658</td>\n",
       "      <td>88416.785408</td>\n",
       "    </tr>\n",
       "    <tr>\n",
       "      <th>1</th>\n",
       "      <td>2718</td>\n",
       "      <td>133677.461168</td>\n",
       "    </tr>\n",
       "    <tr>\n",
       "      <th>2</th>\n",
       "      <td>2414</td>\n",
       "      <td>235545.848675</td>\n",
       "    </tr>\n",
       "    <tr>\n",
       "      <th>3</th>\n",
       "      <td>1989</td>\n",
       "      <td>130561.118957</td>\n",
       "    </tr>\n",
       "    <tr>\n",
       "      <th>4</th>\n",
       "      <td>625</td>\n",
       "      <td>196826.353561</td>\n",
       "    </tr>\n",
       "  </tbody>\n",
       "</table>\n",
       "</div>"
      ],
      "text/plain": [
       "     Id      SalePrice\n",
       "0  2658   88416.785408\n",
       "1  2718  133677.461168\n",
       "2  2414  235545.848675\n",
       "3  1989  130561.118957\n",
       "4   625  196826.353561"
      ]
     },
     "execution_count": 99,
     "metadata": {},
     "output_type": "execute_result"
    }
   ],
   "source": [
    "GS_submission = test[[\"Id\"]]\n",
    "GS_submission[\"SalePrice\"] = ypred_gs_cv\n",
    "GS_submission.to_csv('datasets/my_output_GS.csv', index=False)\n",
    "GS_submission.head()"
   ]
  },
  {
   "cell_type": "markdown",
   "id": "caec9e29",
   "metadata": {},
   "source": [
    "### The Best Model with scaling \n",
    "\n",
    "From GridSearch, we have determined that the best model is Lasso at alpha 0.01  \n",
    "with a low error rate of only 1.93% difference.\n",
    "\n",
    "### Limitations  \n",
    "However, we noted that the model seems to be ineffective in predicting prices above the 400,000 mark, with the tendency to under predict.\n",
    "We can improve on the model by experimenting with inflating the predicted numbers by a certain percentage at different levels."
   ]
  },
  {
   "cell_type": "markdown",
   "id": "7c3b3a98",
   "metadata": {},
   "source": [
    "### Kaggle score "
   ]
  },
  {
   "cell_type": "markdown",
   "id": "90a1c91a",
   "metadata": {
    "run_control": {
     "marked": true
    }
   },
   "source": [
    "\n",
    "Linear regression Model\n",
    "![](images/my_output_lr.png)  \n",
    "  \n",
    "\n",
    "Lasso \n",
    "![](images/my_output_GS.png) \n",
    "\n"
   ]
  },
  {
   "cell_type": "markdown",
   "id": "f7e5b26f",
   "metadata": {},
   "source": [
    "The highest score from kaggle is the Linear regression Model.\n",
    "However it is noted that the model shows bad generalization with percentage difference of MSE between Train and test at -24.57%, even though the kaggle score is the best.  \n",
    "Based on real world scenario, the Lasso is the best model due to its ability to generalize to new datasets."
   ]
  },
  {
   "cell_type": "markdown",
   "id": "cd8f782d",
   "metadata": {},
   "source": [
    "### Conclusion"
   ]
  },
  {
   "cell_type": "markdown",
   "id": "1d9ce6d7",
   "metadata": {},
   "source": [
    "##### Our model for implementation will be the Lasso Model,\n",
    "We have successfully reduced the number of features from the initial 80 down to 21 features more than 73% reduction.\n",
    "The new form will have 21 questions this will greatly improve customer's ease of use and will drastically reduce the drop out rate due to form complexity."
   ]
  }
 ],
 "metadata": {
  "hide_input": false,
  "kernelspec": {
   "display_name": "Python 3 (ipykernel)",
   "language": "python",
   "name": "python3"
  },
  "language_info": {
   "codemirror_mode": {
    "name": "ipython",
    "version": 3
   },
   "file_extension": ".py",
   "mimetype": "text/x-python",
   "name": "python",
   "nbconvert_exporter": "python",
   "pygments_lexer": "ipython3",
   "version": "3.9.12"
  },
  "varInspector": {
   "cols": {
    "lenName": 16,
    "lenType": 16,
    "lenVar": 40
   },
   "kernels_config": {
    "python": {
     "delete_cmd_postfix": "",
     "delete_cmd_prefix": "del ",
     "library": "var_list.py",
     "varRefreshCmd": "print(var_dic_list())"
    },
    "r": {
     "delete_cmd_postfix": ") ",
     "delete_cmd_prefix": "rm(",
     "library": "var_list.r",
     "varRefreshCmd": "cat(var_dic_list()) "
    }
   },
   "types_to_exclude": [
    "module",
    "function",
    "builtin_function_or_method",
    "instance",
    "_Feature"
   ],
   "window_display": false
  }
 },
 "nbformat": 4,
 "nbformat_minor": 5
}
